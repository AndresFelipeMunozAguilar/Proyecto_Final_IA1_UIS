{
  "cells": [
    {
      "cell_type": "markdown",
      "metadata": {
        "id": "GYjq5aYppPwR"
      },
      "source": [
        "---\n",
        "\n",
        "\n",
        "\n",
        "# <font color='#ECA702'>**Análisis Multimodal de Síntomas en la Enfermedad de Parkinson**</font>"
      ]
    },
    {
      "cell_type": "code",
      "execution_count": 1,
      "metadata": {
        "id": "89BxmLrSpPwT"
      },
      "outputs": [],
      "source": [
        "#@title **Importar librerías**\n",
        "\n",
        "# Manipulación de datos\n",
        "import os\n",
        "import cv2\n",
        "import numpy as np\n",
        "import librosa\n",
        "import pandas as pd\n",
        "from zipfile import ZipFile\n",
        "\n",
        "# Pytorch essentials\n",
        "import torch\n",
        "import torch.nn as nn\n",
        "import torch.nn.functional as F\n",
        "\n",
        "# Pytorch essentials for datasets.\n",
        "from torch.utils.data import Dataset, DataLoader, ConcatDataset\n",
        "\n",
        "# Utils\n",
        "import matplotlib.pyplot as plt\n",
        "from tqdm import tqdm\n",
        "from datetime import datetime\n",
        "import pytz\n",
        "\n",
        "# sklearn\n",
        "from sklearn.model_selection import GroupKFold\n",
        "from sklearn.metrics import accuracy_score, recall_score, precision_score, f1_score"
      ]
    },
    {
      "cell_type": "code",
      "execution_count": 3,
      "metadata": {
        "cellView": "form",
        "colab": {
          "base_uri": "https://localhost:8080/"
        },
        "id": "7kyzPDeVpPwU",
        "outputId": "942fc83c-f610-4bdb-a882-65fa126bc7f1"
      },
      "outputs": [
        {
          "name": "stdout",
          "output_type": "stream",
          "text": [
            "Mounted at /content/drive\n",
            "/content/drive/.shortcut-targets-by-id/1XRruCPRodR4OhRCRZYKsyODqa_GuBkfC/data_parkinson\n"
          ]
        }
      ],
      "source": [
        "#@title **Cargamos los datos desde Drive**\n",
        "\n",
        "from google.colab import drive\n",
        "drive.mount('/content/drive')\n",
        "os.chdir('/content/drive/My Drive/data_parkinson')\n",
        "print(os.getcwd())"
      ]
    },
    {
      "cell_type": "code",
      "execution_count": 4,
      "metadata": {
        "cellView": "form",
        "colab": {
          "base_uri": "https://localhost:8080/"
        },
        "id": "vqX7Xwgd-TuU",
        "outputId": "d7ffd662-8297-48d4-d8a6-13cab5955389"
      },
      "outputs": [
        {
          "name": "stdout",
          "output_type": "stream",
          "text": [
            "/content/data\n",
            "\u001b[0m\u001b[01;34mAudioVisualData_v7\u001b[0m/  data.csv\n"
          ]
        }
      ],
      "source": [
        "#@title **Extraer el zip**\n",
        "\n",
        "os.mkdir('../../../../data')\n",
        "os.popen('cp data.csv ../../../../data/data.csv')\n",
        "target_path = os.path.join('../../../../data') # Aquí es donde van a quedar los datos\n",
        "# deben quedar fuera de drive para poder acceder a ellos 'localmente'\n",
        "\n",
        "# Unzip the downloaded files\n",
        "zip_file_path = os.path.join('AudioVisualData_v7.zip')\n",
        "with ZipFile(zip_file_path, 'r') as zip_ref:\n",
        "    zip_ref.extractall(target_path)\n",
        "\n",
        "# # Me muevo hasta donde quedaron los datos\n",
        "%cd ../../../../data\n",
        "# Verifico\n",
        "%ls"
      ]
    },
    {
      "cell_type": "markdown",
      "metadata": {
        "id": "AI_cmB-BpPwU"
      },
      "source": [
        "## <font color='#4C5FDA'>**Procesamiento del dataset**</font>"
      ]
    },
    {
      "cell_type": "markdown",
      "metadata": {
        "id": "aD0Bee8VqyYi"
      },
      "source": [
        "### <font color='#52F17F'>**Creación del Dataset Pandas auxiliar**</font>"
      ]
    },
    {
      "cell_type": "code",
      "execution_count": 2,
      "metadata": {
        "colab": {
          "base_uri": "https://localhost:8080/",
          "height": 238
        },
        "id": "2mB_EpmMqxm-",
        "outputId": "44908149-391d-4822-a101-05fcfa878226"
      },
      "outputs": [
        {
          "data": {
            "text/html": [
              "<div>\n",
              "<style scoped>\n",
              "    .dataframe tbody tr th:only-of-type {\n",
              "        vertical-align: middle;\n",
              "    }\n",
              "\n",
              "    .dataframe tbody tr th {\n",
              "        vertical-align: top;\n",
              "    }\n",
              "\n",
              "    .dataframe thead th {\n",
              "        text-align: right;\n",
              "    }\n",
              "</style>\n",
              "<table border=\"1\" class=\"dataframe\">\n",
              "  <thead>\n",
              "    <tr style=\"text-align: right;\">\n",
              "      <th></th>\n",
              "      <th>audio_path</th>\n",
              "      <th>frames_path</th>\n",
              "      <th>label</th>\n",
              "      <th>flatten_log_mel_spectogram</th>\n",
              "    </tr>\n",
              "    <tr>\n",
              "      <th>patient</th>\n",
              "      <th></th>\n",
              "      <th></th>\n",
              "      <th></th>\n",
              "      <th></th>\n",
              "    </tr>\n",
              "  </thead>\n",
              "  <tbody>\n",
              "    <tr>\n",
              "      <th>C2</th>\n",
              "      <td>AudioVisualData_v7/Control/C2/Vowels/audio/C2-...</td>\n",
              "      <td>AudioVisualData_v7/Control/C2/Vowels/frames/C2...</td>\n",
              "      <td>0.0</td>\n",
              "      <td>[-60.66636657714844, -19.715749740600586, -24....</td>\n",
              "    </tr>\n",
              "    <tr>\n",
              "      <th>C2</th>\n",
              "      <td>AudioVisualData_v7/Control/C2/Vowels/audio/C2-...</td>\n",
              "      <td>AudioVisualData_v7/Control/C2/Vowels/frames/C2...</td>\n",
              "      <td>0.0</td>\n",
              "      <td>[-61.8838005065918, -28.279430389404297, -28.8...</td>\n",
              "    </tr>\n",
              "    <tr>\n",
              "      <th>C2</th>\n",
              "      <td>AudioVisualData_v7/Control/C2/Vowels/audio/C2-...</td>\n",
              "      <td>AudioVisualData_v7/Control/C2/Vowels/frames/C2...</td>\n",
              "      <td>0.0</td>\n",
              "      <td>[-59.091400146484375, -25.001014709472656, -28...</td>\n",
              "    </tr>\n",
              "    <tr>\n",
              "      <th>C2</th>\n",
              "      <td>AudioVisualData_v7/Control/C2/Vowels/audio/C2-...</td>\n",
              "      <td>AudioVisualData_v7/Control/C2/Vowels/frames/C2...</td>\n",
              "      <td>0.0</td>\n",
              "      <td>[-60.556915283203125, -20.145050048828125, -20...</td>\n",
              "    </tr>\n",
              "    <tr>\n",
              "      <th>C2</th>\n",
              "      <td>AudioVisualData_v7/Control/C2/Vowels/audio/C2-...</td>\n",
              "      <td>AudioVisualData_v7/Control/C2/Vowels/frames/C2...</td>\n",
              "      <td>0.0</td>\n",
              "      <td>[-69.82708740234375, -20.313282012939453, -26....</td>\n",
              "    </tr>\n",
              "  </tbody>\n",
              "</table>\n",
              "</div>"
            ],
            "text/plain": [
              "                                                audio_path  \\\n",
              "patient                                                      \n",
              "C2       AudioVisualData_v7/Control/C2/Vowels/audio/C2-...   \n",
              "C2       AudioVisualData_v7/Control/C2/Vowels/audio/C2-...   \n",
              "C2       AudioVisualData_v7/Control/C2/Vowels/audio/C2-...   \n",
              "C2       AudioVisualData_v7/Control/C2/Vowels/audio/C2-...   \n",
              "C2       AudioVisualData_v7/Control/C2/Vowels/audio/C2-...   \n",
              "\n",
              "                                               frames_path  label  \\\n",
              "patient                                                             \n",
              "C2       AudioVisualData_v7/Control/C2/Vowels/frames/C2...    0.0   \n",
              "C2       AudioVisualData_v7/Control/C2/Vowels/frames/C2...    0.0   \n",
              "C2       AudioVisualData_v7/Control/C2/Vowels/frames/C2...    0.0   \n",
              "C2       AudioVisualData_v7/Control/C2/Vowels/frames/C2...    0.0   \n",
              "C2       AudioVisualData_v7/Control/C2/Vowels/frames/C2...    0.0   \n",
              "\n",
              "                                flatten_log_mel_spectogram  \n",
              "patient                                                     \n",
              "C2       [-60.66636657714844, -19.715749740600586, -24....  \n",
              "C2       [-61.8838005065918, -28.279430389404297, -28.8...  \n",
              "C2       [-59.091400146484375, -25.001014709472656, -28...  \n",
              "C2       [-60.556915283203125, -20.145050048828125, -20...  \n",
              "C2       [-69.82708740234375, -20.313282012939453, -26....  "
            ]
          },
          "execution_count": 2,
          "metadata": {},
          "output_type": "execute_result"
        }
      ],
      "source": [
        "data = pd.read_csv(\"data.csv\", index_col='patient')\n",
        "\n",
        "def string2array(string: str):\n",
        "  \"\"\" Convierte un string con datos a numpy array \"\"\"\n",
        "  string = string.strip('[]')\n",
        "  return np.fromstring(string, sep=',')\n",
        "\n",
        "data['flatten_log_mel_spectogram'] = data['flatten_log_mel_spectogram'].apply(string2array)\n",
        "data.head()"
      ]
    },
    {
      "cell_type": "markdown",
      "metadata": {
        "id": "j_gRyCKHpPwZ"
      },
      "source": [
        "### <font color='#52F17F'>**Creación del Dataset PyTorch**</font>"
      ]
    },
    {
      "cell_type": "code",
      "execution_count": 3,
      "metadata": {
        "id": "_kEXiniXpPwV"
      },
      "outputs": [],
      "source": [
        "\"\"\"\n",
        "Constante sacada de la media de cantidad de frames de todos los vídeos multiplicada por 0.1\n",
        "para tener el 10%\n",
        "\"\"\"\n",
        "\n",
        "FRAMES_PROMEDIO = 14"
      ]
    },
    {
      "cell_type": "code",
      "execution_count": 4,
      "metadata": {
        "id": "8OL_3J7jpPwZ"
      },
      "outputs": [],
      "source": [
        "class PatientDataset(Dataset):\n",
        "  def __init__(self, dataframe, n_frames = FRAMES_PROMEDIO):\n",
        "    self.dataframe = dataframe\n",
        "    # self.transform = transform\n",
        "    self.n_frames = n_frames\n",
        "    # self.audios = sorted(os.listdir(audio_dir)) # Listamos todas las imagenes en la carpeta\n",
        "\n",
        "  def __len__(self):\n",
        "    return len(self.dataframe)\n",
        "\n",
        "  def __getitem__(self, index):\n",
        "\n",
        "    \"\"\" Carga de la imagen \"\"\"\n",
        "\n",
        "    # Entramos a la carpeta y conseguimos el audio de la lista\n",
        "    # audio_path = os.path.join(self.audio_dir, self.audios[index])\n",
        "    # audio_path = os.path.join(self.dataframe['audio_path'][index])\n",
        "\n",
        "    # Leemos el audio\n",
        "    audio = self.dataframe['flatten_log_mel_spectogram'][index].astype(np.float32)\n",
        "    audio = audio.reshape((90, 10))\n",
        "    audio = torch.from_numpy(audio).unsqueeze(0)\n",
        "\n",
        "    \"\"\" Carga de los frames \"\"\"\n",
        "\n",
        "    # Entramos a la carpeta y conseguimos los frames de la lista.\n",
        "      # La razon por la que uso la misma lista de audios es porque el audio y el vídeo\n",
        "      # tienen el mismo nombre, solo cambia la ruta de la carpeta y la extensión.\n",
        "    \"\"\" audios: AudioVisualData_v7/Control/C0/Phonemes/audio/C0-1-Pakata.mp3 \"\"\"\n",
        "    \"\"\" vídeo: AudioVisualData_v7/Control/C0/Phonemes/frames/C0-1-Pakata.mov \"\"\"\n",
        "    video_path = os.path.join(self.dataframe['frames_path'][index])\n",
        "    # video_path = os.path.join(self.video_dir, self.audios[index].replace(\".mp3\", \".mov\"))\n",
        "\n",
        "    frames_path = sorted(os.listdir(video_path))[:self.n_frames]\n",
        "    frames = []\n",
        "    for frame in frames_path:\n",
        "      frame_path = os.path.join(self.dataframe['frames_path'][index], frame)\n",
        "      # print(frame_path)\n",
        "      frame = cv2.imread(frame_path, cv2.IMREAD_GRAYSCALE)\n",
        "      frame = cv2.resize(frame, (112, 112)) # Resize a 112x112\n",
        "      frame = frame / 255. # Normalizamos entre 0 y 1\n",
        "      frames.append(frame)\n",
        "\n",
        "    frames = np.expand_dims(np.stack(frames), axis=1).astype('float32')\n",
        "    frames = frames.transpose(1, 0, 2, 3)\n",
        "    frames = torch.from_numpy(frames)\n",
        "\n",
        "    \"\"\" Consiguiendo el label \"\"\"\n",
        "\n",
        "    # Para conseguir la etiqueta simplemente me tengo que fijar en la ruta. Si es 'Parkinson' 1\n",
        "    # sino 0.\n",
        "\n",
        "    label = 1 if 'Parkinson' in self.dataframe['audio_path'][index] else 0\n",
        "\n",
        "    return audio, frames, label"
      ]
    },
    {
      "cell_type": "code",
      "execution_count": 5,
      "metadata": {
        "colab": {
          "base_uri": "https://localhost:8080/"
        },
        "id": "9hYyG5ZSpPwa",
        "outputId": "a20701d4-968c-41c6-d21e-478e6e27fd0a"
      },
      "outputs": [
        {
          "name": "stdout",
          "output_type": "stream",
          "text": [
            "1091\n",
            "torch.Size([1, 90, 10]) torch.Size([1, 14, 112, 112]) 0\n"
          ]
        }
      ],
      "source": [
        "complete_dataset = PatientDataset(data)\n",
        "print(complete_dataset.__len__())\n",
        "print(complete_dataset[0][0].shape, complete_dataset[0][1].shape , complete_dataset[0][2])"
      ]
    },
    {
      "cell_type": "markdown",
      "metadata": {
        "id": "_ed1FV_F-Tub"
      },
      "source": [
        "### <font color='#52F17F'>**Visualización de los datos**</font>"
      ]
    },
    {
      "cell_type": "code",
      "execution_count": 6,
      "metadata": {
        "id": "1gUnMuEs-Tuc"
      },
      "outputs": [],
      "source": [
        "def plot_frame_strip(frames, rows=2, cols=7):\n",
        "    \"\"\"\n",
        "    Hace un plot de la tira de frames en una matriz de imágenes.\n",
        "\n",
        "    Args:\n",
        "        frames (np.ndarray): Tensor de frames con forma (num_frames, height, width, channels).\n",
        "        rows (int): Número de filas en la tira de frames.\n",
        "        cols (int): Número de columnas en la tira de frames.\n",
        "    \"\"\"\n",
        "    fig, axes = plt.subplots(rows, cols, figsize=(20, 6))\n",
        "\n",
        "    for i in range(rows):\n",
        "        for j in range(cols):\n",
        "            idx = i * cols + j\n",
        "            if idx < len(frames):\n",
        "                axes[i, j].imshow(frames[idx], cmap='gray')\n",
        "                axes[i, j].axis('off')\n",
        "                axes[i, j].set_title(f\"Frame: {idx}\")\n",
        "    plt.show()"
      ]
    },
    {
      "cell_type": "code",
      "execution_count": null,
      "metadata": {
        "id": "91lout8e-Tud"
      },
      "outputs": [],
      "source": [
        "plot_frame_strip(complete_dataset[0][1].squeeze(0).numpy())"
      ]
    },
    {
      "cell_type": "code",
      "execution_count": 8,
      "metadata": {
        "id": "M2ZUYD9n-Tud",
        "outputId": "4473ff0e-b9b5-4660-9192-3e8d4290fd22"
      },
      "outputs": [
        {
          "data": {
            "text/plain": [
              "(90, 10)"
            ]
          },
          "execution_count": 8,
          "metadata": {},
          "output_type": "execute_result"
        }
      ],
      "source": [
        "complete_dataset[0][0].squeeze(0).numpy().reshape((90, 10)).shape"
      ]
    },
    {
      "cell_type": "code",
      "execution_count": 9,
      "metadata": {
        "id": "s70qLbPo-Tue",
        "outputId": "d45ca1d5-f9bf-4e98-a60d-e3e519812cd0"
      },
      "outputs": [
        {
          "data": {
            "image/png": "[encoded data removed]",
            "text/plain": [
              "<Figure size 1800x720 with 2 Axes>"
            ]
          },
          "metadata": {
            "needs_background": "light"
          },
          "output_type": "display_data"
        }
      ],
      "source": [
        "plt.figure(figsize=(25,10))\n",
        "librosa.display.specshow(complete_dataset[0][0].squeeze(0).numpy(), y_axis='mel', x_axis='time', sr=48000)\n",
        "plt.colorbar(format=\"%+2.f dB\")\n",
        "plt.show()"
      ]
    },
    {
      "cell_type": "markdown",
      "metadata": {
        "id": "0f3z4R6jpPwb"
      },
      "source": [
        "### <font color='#52F17F'>**Partición de los datos**</font>"
      ]
    },
    {
      "cell_type": "code",
      "execution_count": 6,
      "metadata": {
        "id": "ZT6iQ5vspPwb"
      },
      "outputs": [],
      "source": [
        "# Extraer los datos para GroupKFold https://discuss.pytorch.org/t/custom-datatype-for-many-images-to-one-label/87629\n",
        "X = [i for i in range(len(data))]\n",
        "y = data['label'].values\n",
        "groups = data.index.values"
      ]
    },
    {
      "cell_type": "code",
      "execution_count": 7,
      "metadata": {
        "colab": {
          "base_uri": "https://localhost:8080/"
        },
        "id": "C1R5D3F0pPwb",
        "outputId": "cfcbb958-b989-4c35-e84c-fa9c5cd8df46"
      },
      "outputs": [
        {
          "name": "stdout",
          "output_type": "stream",
          "text": [
            "División 1:\n",
            "  Pacientes en entrenamiento: ['C0' 'C1' 'C2' 'C3' 'C4' 'C6' 'P0' 'P1' 'P4' 'P5' 'P6' 'P7']\n",
            "  Pacientes en prueba: ['C5' 'P8']\n",
            "  Número de pacientes en entrenamiento: 12\n",
            "  Número de pacientes en prueba: 2\n",
            "\n",
            "División 2:\n",
            "  Pacientes en entrenamiento: ['C0' 'C1' 'C2' 'C3' 'C5' 'C6' 'P0' 'P1' 'P4' 'P5' 'P6' 'P8']\n",
            "  Pacientes en prueba: ['C4' 'P7']\n",
            "  Número de pacientes en entrenamiento: 12\n",
            "  Número de pacientes en prueba: 2\n",
            "\n",
            "División 3:\n",
            "  Pacientes en entrenamiento: ['C0' 'C1' 'C2' 'C4' 'C5' 'C6' 'P0' 'P1' 'P4' 'P5' 'P7' 'P8']\n",
            "  Pacientes en prueba: ['C3' 'P6']\n",
            "  Número de pacientes en entrenamiento: 12\n",
            "  Número de pacientes en prueba: 2\n",
            "\n",
            "División 4:\n",
            "  Pacientes en entrenamiento: ['C0' 'C1' 'C3' 'C4' 'C5' 'C6' 'P0' 'P1' 'P4' 'P6' 'P7' 'P8']\n",
            "  Pacientes en prueba: ['C2' 'P5']\n",
            "  Número de pacientes en entrenamiento: 12\n",
            "  Número de pacientes en prueba: 2\n",
            "\n",
            "División 5:\n",
            "  Pacientes en entrenamiento: ['C0' 'C2' 'C3' 'C4' 'C5' 'C6' 'P0' 'P1' 'P5' 'P6' 'P7' 'P8']\n",
            "  Pacientes en prueba: ['C1' 'P4']\n",
            "  Número de pacientes en entrenamiento: 12\n",
            "  Número de pacientes en prueba: 2\n",
            "\n",
            "División 6:\n",
            "  Pacientes en entrenamiento: ['C1' 'C2' 'C3' 'C4' 'C5' 'C6' 'P0' 'P4' 'P5' 'P6' 'P7' 'P8']\n",
            "  Pacientes en prueba: ['C0' 'P1']\n",
            "  Número de pacientes en entrenamiento: 12\n",
            "  Número de pacientes en prueba: 2\n",
            "\n",
            "División 7:\n",
            "  Pacientes en entrenamiento: ['C0' 'C1' 'C2' 'C3' 'C4' 'C5' 'P1' 'P4' 'P5' 'P6' 'P7' 'P8']\n",
            "  Pacientes en prueba: ['C6' 'P0']\n",
            "  Número de pacientes en entrenamiento: 12\n",
            "  Número de pacientes en prueba: 2\n",
            "\n"
          ]
        }
      ],
      "source": [
        "groupk_folds = 7\n",
        "gkf = GroupKFold(n_splits=groupk_folds)\n",
        "# Realizar la validación cruzada por grupos\n",
        "for i, (train_index, test_index) in enumerate(gkf.split(X, y, groups), 1):\n",
        "    train_groups = groups[train_index]\n",
        "    test_groups = groups[test_index]\n",
        "\n",
        "    print(f\"División {i}:\")\n",
        "    print(\"  Pacientes en entrenamiento:\", np.unique(train_groups))\n",
        "    print(\"  Pacientes en prueba:\", np.unique(test_groups))\n",
        "    print(\"  Número de pacientes en entrenamiento:\", len(np.unique(train_groups)))\n",
        "    print(\"  Número de pacientes en prueba:\", len(np.unique(test_groups)))\n",
        "    print()"
      ]
    },
    {
      "cell_type": "markdown",
      "metadata": {
        "id": "WVi02_rZpPwb"
      },
      "source": [
        "## <font color='#ECA702'>**Modelo Fully Conected**</font>"
      ]
    },
    {
      "cell_type": "markdown",
      "metadata": {
        "id": "irytALTWpPwb"
      },
      "source": [
        "### <font color='#52F17F'>**Creando el modelo**</font>"
      ]
    },
    {
      "cell_type": "code",
      "execution_count": 8,
      "metadata": {
        "id": "6Safw_JEpPwc"
      },
      "outputs": [],
      "source": [
        "class MultimodalModel(nn.Module):\n",
        "  def __init__(self, n_channels):\n",
        "    super().__init__()\n",
        "    # self.audio_model = AudioModule(n_channels, n_classes)\n",
        "    # self.video_model = VideoModule(n_channels, n_classes)\n",
        "    self.fc1 = nn.Linear((1 * 14 * 112 * 112) + (1 * 90 * 10), 128)\n",
        "    self.fc2 = nn.Linear(128, 64)\n",
        "    self.fc3 = nn.Linear(64, 32)\n",
        "    self.fc4 = nn.Linear(32, 1)  # Suponiendo que es una tarea de clasificación binaria\n",
        "\n",
        "  def forward(self, audio, video):\n",
        "    # https://stackoverflow.com/questions/42479902/what-does-view-do-in-pytorch\n",
        "    audio = audio.view(audio.size(0), -1) # Aplane los audios conservando el batch\n",
        "    # devuelve: # batch_size x (90*10)\n",
        "\n",
        "    video = video.view(video.size(0), -1) # Aplane los videos conservando el batch\n",
        "    # devuelve: # batch_size x (14*112*112)\n",
        "\n",
        "    combined = torch.cat((video, audio), dim=1) # https://pytorch.org/docs/stable/generated/torch.cat.html\n",
        "    x = F.relu(self.fc1(combined))\n",
        "    x = F.relu(self.fc2(x))\n",
        "    x = F.relu(self.fc3(x))\n",
        "    x = self.fc4(x)\n",
        "    return x"
      ]
    },
    {
      "cell_type": "code",
      "execution_count": 9,
      "metadata": {
        "colab": {
          "base_uri": "https://localhost:8080/"
        },
        "id": "wJHuZqJhpPwc",
        "outputId": "5657d424-ff1d-4fd6-e23d-7b258f1d7f1e"
      },
      "outputs": [
        {
          "name": "stdout",
          "output_type": "stream",
          "text": [
            "Entrada audio: (torch.Size([1, 1, 90, 10]), torch.float32)\n",
            "Entrada video: (torch.Size([1, 1, 14, 112, 112]), torch.float32)\n",
            "Salida: torch.Size([1, 1])\n"
          ]
        }
      ],
      "source": [
        "# Test al modelo, para ver si nos entrega la salida esperada\n",
        "\n",
        "n_channels = 1\n",
        "n_classes = 2\n",
        "input_audio = complete_dataset[0][0].unsqueeze(0)\n",
        "input_video = complete_dataset[0][1].unsqueeze(0)\n",
        "print(f\"Entrada audio: {input_audio.size(), input_audio.dtype}\")\n",
        "print(f\"Entrada video: {input_video.size(), input_video.dtype}\")\n",
        "\n",
        "model = MultimodalModel(n_channels=n_channels)\n",
        "ouput = model(input_audio, input_video)\n",
        "print(f\"Salida: {ouput.size()}\")"
      ]
    },
    {
      "cell_type": "code",
      "execution_count": 10,
      "metadata": {
        "colab": {
          "base_uri": "https://localhost:8080/"
        },
        "id": "yMiRa6oFEd8B",
        "outputId": "2b43aca6-e25d-45e0-fa21-592b5d2a9906"
      },
      "outputs": [
        {
          "name": "stdout",
          "output_type": "stream",
          "text": [
            "Entrada audio: (torch.Size([2, 1, 90, 10]), torch.float32)\n",
            "Entrada video: (torch.Size([2, 1, 14, 112, 112]), torch.float32)\n"
          ]
        },
        {
          "name": "stdout",
          "output_type": "stream",
          "text": [
            "Salida: torch.Size([2, 1])\n"
          ]
        }
      ],
      "source": [
        "# Test al modelo, para ver si nos entrega la salida esperada\n",
        "\n",
        "n_channels = 1\n",
        "n_classes = 2\n",
        "input_video = torch.rand([2, 1, 14, 112, 112])\n",
        "input_audio = torch.rand([2, 1, 90, 10])\n",
        "\n",
        "print(f\"Entrada audio: {input_audio.size(), input_audio.dtype}\")\n",
        "print(f\"Entrada video: {input_video.size(), input_video.dtype}\")\n",
        "\n",
        "model = MultimodalModel(n_channels=n_channels)\n",
        "ouput = model(input_audio, input_video)\n",
        "print(f\"Salida: {ouput.size()}\")"
      ]
    },
    {
      "cell_type": "markdown",
      "metadata": {
        "id": "86Oqu4j5pPwd"
      },
      "source": [
        "### <font color='#52F17F'>**Entrenamiento del modelo**</font>"
      ]
    },
    {
      "cell_type": "code",
      "execution_count": 111,
      "metadata": {
        "id": "njKMV7L_pPwd"
      },
      "outputs": [],
      "source": [
        "# Hiperparametros\n",
        "LEARNING_RATE = 0.01\n",
        "DEVICE = \"cuda\" if torch.cuda.is_available() else \"cpu\"\n",
        "BATCH_SIZE = 8"
      ]
    },
    {
      "cell_type": "code",
      "execution_count": 112,
      "metadata": {
        "id": "-WHkwzRDpPwd"
      },
      "outputs": [],
      "source": [
        "# For fold results\n",
        "\n",
        "# Acá vamos a guardar las métricas del modelo\n",
        "results = {\n",
        "    \"accuracy\": [],\n",
        "    \"recall\": [],\n",
        "    \"precision\": [],\n",
        "    \"f1_score\": []\n",
        "}\n",
        "\n",
        "# Storage for plotting\n",
        "losses_per_epoch = []\n",
        "\n",
        "# Esto es para guardar los modelos de cada experimento en carpetas separadas\n",
        "timezone = pytz.timezone('America/Bogota')\n",
        "timestamp = datetime.now(timezone).strftime('%Y%m%d_%H%M')\n",
        "exp_path = f'../models/exp_{timestamp}'\n",
        "figures_exp_path = f'../reports/figures/exp_{timestamp}'\n",
        "os.mkdir(exp_path)\n",
        "os.mkdir(figures_exp_path)"
      ]
    },
    {
      "cell_type": "code",
      "execution_count": 83,
      "metadata": {},
      "outputs": [],
      "source": [
        "#@title **training loop**\n",
        "\n",
        "def train_one_epoch(trainloader, model, optimizer, criterion, losses):\n",
        "  n_prints = int(len(trainloader)/3)\n",
        "  running_loss = 0.0\n",
        "  for i, data in enumerate(tqdm(trainloader, 0)):\n",
        "    # get the inputs; data is a list of [inputs, labels]\n",
        "    audios, videos, labels = data\n",
        "\n",
        "    # Movemos los datos al device\n",
        "    audios = audios.to(DEVICE)\n",
        "    videos = videos.to(DEVICE)\n",
        "    labels = labels.unsqueeze(1).float() #convert target to same nn output shape\n",
        "    labels = labels.to(DEVICE)\n",
        "\n",
        "    # zero the parameter gradients\n",
        "    optimizer.zero_grad()\n",
        "\n",
        "    # forward + backward + optimize\n",
        "    outputs = model(audios, videos)\n",
        "    # print(ouputs.dtype)\n",
        "    loss = criterion(outputs, labels)\n",
        "    loss.backward()\n",
        "    optimizer.step()\n",
        "\n",
        "    # print statistics\n",
        "    running_loss += loss.item()\n",
        "    if i % n_prints == n_prints-1:    # print every n_print mini-batches\n",
        "      print(f'batch {i + 1:5d} loss: {running_loss / (i + 1):.3f}')\n",
        "      # Store loss per epoch\n",
        "      losses.append(np.round(running_loss / (i+1), 3))"
      ]
    },
    {
      "cell_type": "code",
      "execution_count": 85,
      "metadata": {},
      "outputs": [],
      "source": [
        "#@title **eval loop**\n",
        "\n",
        "def eval_model(testloader, model, y_pred, y_true):\n",
        "  with torch.no_grad():\n",
        "    # Iterate over the test data and generate predictions\n",
        "    for i, data in enumerate(testloader, 0):\n",
        "      # Get inputs\n",
        "      audios, videos, labels = data\n",
        "\n",
        "      # Movemos los datos al device\n",
        "      audios = audios.to(DEVICE)\n",
        "      videos = videos.to(DEVICE)\n",
        "      labels = labels.unsqueeze(1).float() #convert target to same nn output shape\n",
        "\n",
        "      #model to eval mode\n",
        "      model.eval()\n",
        "\n",
        "      # Generate outputs\n",
        "      outputs = model(audios, videos)\n",
        "\n",
        "      # total += labels.size(0)\n",
        "      y_pred.extend(torch.sigmoid(outputs).round().cpu().numpy())\n",
        "      y_true.extend(labels.numpy())"
      ]
    },
    {
      "cell_type": "code",
      "execution_count": 113,
      "metadata": {
        "colab": {
          "base_uri": "https://localhost:8080/",
          "height": 912
        },
        "id": "lFRWKFphpPwd",
        "outputId": "61ce1a8e-de4a-4801-a634-fb715d202f79"
      },
      "outputs": [
        {
          "name": "stdout",
          "output_type": "stream",
          "text": [
            "FOLD 1\n",
            "--------------------------------\n",
            "EPOCH 1\n"
          ]
        },
        {
          "name": "stderr",
          "output_type": "stream",
          "text": [
            " 35%|███▌      | 41/117 [00:03<00:06, 11.71it/s]"
          ]
        },
        {
          "name": "stdout",
          "output_type": "stream",
          "text": [
            "batch    39 loss: 10.942\n"
          ]
        },
        {
          "name": "stderr",
          "output_type": "stream",
          "text": [
            " 68%|██████▊   | 79/117 [00:07<00:03, 10.84it/s]"
          ]
        },
        {
          "name": "stdout",
          "output_type": "stream",
          "text": [
            "batch    78 loss: 5.696\n"
          ]
        },
        {
          "name": "stderr",
          "output_type": "stream",
          "text": [
            "100%|██████████| 117/117 [00:10<00:00, 10.88it/s]\n"
          ]
        },
        {
          "name": "stdout",
          "output_type": "stream",
          "text": [
            "batch   117 loss: 3.989\n",
            "EPOCH 2\n"
          ]
        },
        {
          "name": "stderr",
          "output_type": "stream",
          "text": [
            " 35%|███▌      | 41/117 [00:03<00:06, 11.16it/s]"
          ]
        },
        {
          "name": "stdout",
          "output_type": "stream",
          "text": [
            "batch    39 loss: 0.271\n"
          ]
        },
        {
          "name": "stderr",
          "output_type": "stream",
          "text": [
            " 68%|██████▊   | 79/117 [00:07<00:03, 10.67it/s]"
          ]
        },
        {
          "name": "stdout",
          "output_type": "stream",
          "text": [
            "batch    78 loss: 0.443\n"
          ]
        },
        {
          "name": "stderr",
          "output_type": "stream",
          "text": [
            "100%|██████████| 117/117 [00:10<00:00, 10.91it/s]\n"
          ]
        },
        {
          "name": "stdout",
          "output_type": "stream",
          "text": [
            "batch   117 loss: 0.527\n",
            "EPOCH 3\n"
          ]
        },
        {
          "name": "stderr",
          "output_type": "stream",
          "text": [
            " 35%|███▌      | 41/117 [00:03<00:06, 11.06it/s]"
          ]
        },
        {
          "name": "stdout",
          "output_type": "stream",
          "text": [
            "batch    39 loss: 0.693\n"
          ]
        },
        {
          "name": "stderr",
          "output_type": "stream",
          "text": [
            " 68%|██████▊   | 79/117 [00:07<00:03, 11.11it/s]"
          ]
        },
        {
          "name": "stdout",
          "output_type": "stream",
          "text": [
            "batch    78 loss: 0.694\n"
          ]
        },
        {
          "name": "stderr",
          "output_type": "stream",
          "text": [
            "100%|██████████| 117/117 [00:10<00:00, 10.92it/s]\n"
          ]
        },
        {
          "name": "stdout",
          "output_type": "stream",
          "text": [
            "batch   117 loss: 0.694\n",
            "EPOCH 4\n"
          ]
        },
        {
          "name": "stderr",
          "output_type": "stream",
          "text": [
            " 35%|███▌      | 41/117 [00:03<00:06, 11.02it/s]"
          ]
        },
        {
          "name": "stdout",
          "output_type": "stream",
          "text": [
            "batch    39 loss: 0.693\n"
          ]
        },
        {
          "name": "stderr",
          "output_type": "stream",
          "text": [
            " 69%|██████▉   | 81/117 [00:07<00:03, 11.23it/s]"
          ]
        },
        {
          "name": "stdout",
          "output_type": "stream",
          "text": [
            "batch    78 loss: 0.693\n"
          ]
        },
        {
          "name": "stderr",
          "output_type": "stream",
          "text": [
            "100%|██████████| 117/117 [00:10<00:00, 10.91it/s]\n"
          ]
        },
        {
          "name": "stdout",
          "output_type": "stream",
          "text": [
            "batch   117 loss: 0.694\n",
            "EPOCH 5\n"
          ]
        },
        {
          "name": "stderr",
          "output_type": "stream",
          "text": [
            " 35%|███▌      | 41/117 [00:03<00:06, 10.95it/s]"
          ]
        },
        {
          "name": "stdout",
          "output_type": "stream",
          "text": [
            "batch    39 loss: 0.694\n"
          ]
        },
        {
          "name": "stderr",
          "output_type": "stream",
          "text": [
            " 68%|██████▊   | 79/117 [00:07<00:03, 10.64it/s]"
          ]
        },
        {
          "name": "stdout",
          "output_type": "stream",
          "text": [
            "batch    78 loss: 0.693\n"
          ]
        },
        {
          "name": "stderr",
          "output_type": "stream",
          "text": [
            "100%|██████████| 117/117 [00:10<00:00, 10.66it/s]\n"
          ]
        },
        {
          "name": "stdout",
          "output_type": "stream",
          "text": [
            "batch   117 loss: 0.694\n",
            "EPOCH 6\n"
          ]
        },
        {
          "name": "stderr",
          "output_type": "stream",
          "text": [
            " 33%|███▎      | 39/117 [00:03<00:07, 10.87it/s]"
          ]
        },
        {
          "name": "stdout",
          "output_type": "stream",
          "text": [
            "batch    39 loss: 0.694\n"
          ]
        },
        {
          "name": "stderr",
          "output_type": "stream",
          "text": [
            " 68%|██████▊   | 79/117 [00:07<00:03, 10.57it/s]"
          ]
        },
        {
          "name": "stdout",
          "output_type": "stream",
          "text": [
            "batch    78 loss: 0.694\n"
          ]
        },
        {
          "name": "stderr",
          "output_type": "stream",
          "text": [
            "100%|██████████| 117/117 [00:11<00:00, 10.61it/s]\n"
          ]
        },
        {
          "name": "stdout",
          "output_type": "stream",
          "text": [
            "batch   117 loss: 0.694\n",
            "EPOCH 7\n"
          ]
        },
        {
          "name": "stderr",
          "output_type": "stream",
          "text": [
            " 35%|███▌      | 41/117 [00:03<00:06, 11.55it/s]"
          ]
        },
        {
          "name": "stdout",
          "output_type": "stream",
          "text": [
            "batch    39 loss: 0.693\n"
          ]
        },
        {
          "name": "stderr",
          "output_type": "stream",
          "text": [
            " 69%|██████▉   | 81/117 [00:07<00:03, 10.95it/s]"
          ]
        },
        {
          "name": "stdout",
          "output_type": "stream",
          "text": [
            "batch    78 loss: 0.694\n"
          ]
        },
        {
          "name": "stderr",
          "output_type": "stream",
          "text": [
            "100%|██████████| 117/117 [00:10<00:00, 10.90it/s]\n"
          ]
        },
        {
          "name": "stdout",
          "output_type": "stream",
          "text": [
            "batch   117 loss: 0.694\n",
            "EPOCH 8\n"
          ]
        },
        {
          "name": "stderr",
          "output_type": "stream",
          "text": [
            " 35%|███▌      | 41/117 [00:03<00:07, 10.80it/s]"
          ]
        },
        {
          "name": "stdout",
          "output_type": "stream",
          "text": [
            "batch    39 loss: 0.694\n"
          ]
        },
        {
          "name": "stderr",
          "output_type": "stream",
          "text": [
            " 68%|██████▊   | 79/117 [00:07<00:03, 11.77it/s]"
          ]
        },
        {
          "name": "stdout",
          "output_type": "stream",
          "text": [
            "batch    78 loss: 0.694\n"
          ]
        },
        {
          "name": "stderr",
          "output_type": "stream",
          "text": [
            "100%|██████████| 117/117 [00:10<00:00, 10.77it/s]\n"
          ]
        },
        {
          "name": "stdout",
          "output_type": "stream",
          "text": [
            "batch   117 loss: 0.694\n",
            "EPOCH 9\n"
          ]
        },
        {
          "name": "stderr",
          "output_type": "stream",
          "text": [
            " 35%|███▌      | 41/117 [00:03<00:07, 10.75it/s]"
          ]
        },
        {
          "name": "stdout",
          "output_type": "stream",
          "text": [
            "batch    39 loss: 0.694\n"
          ]
        },
        {
          "name": "stderr",
          "output_type": "stream",
          "text": [
            " 68%|██████▊   | 79/117 [00:07<00:03, 11.26it/s]"
          ]
        },
        {
          "name": "stdout",
          "output_type": "stream",
          "text": [
            "batch    78 loss: 0.694\n"
          ]
        },
        {
          "name": "stderr",
          "output_type": "stream",
          "text": [
            "100%|██████████| 117/117 [00:10<00:00, 10.83it/s]\n"
          ]
        },
        {
          "name": "stdout",
          "output_type": "stream",
          "text": [
            "batch   117 loss: 0.694\n",
            "EPOCH 10\n"
          ]
        },
        {
          "name": "stderr",
          "output_type": "stream",
          "text": [
            " 35%|███▌      | 41/117 [00:03<00:06, 11.48it/s]"
          ]
        },
        {
          "name": "stdout",
          "output_type": "stream",
          "text": [
            "batch    39 loss: 0.693\n"
          ]
        },
        {
          "name": "stderr",
          "output_type": "stream",
          "text": [
            " 68%|██████▊   | 79/117 [00:07<00:03, 11.89it/s]"
          ]
        },
        {
          "name": "stdout",
          "output_type": "stream",
          "text": [
            "batch    78 loss: 0.694\n"
          ]
        },
        {
          "name": "stderr",
          "output_type": "stream",
          "text": [
            "100%|██████████| 117/117 [00:10<00:00, 10.97it/s]"
          ]
        },
        {
          "name": "stdout",
          "output_type": "stream",
          "text": [
            "batch   117 loss: 0.694\n",
            "Training process has finished. Saving trained model.\n",
            "Starting testing\n"
          ]
        },
        {
          "name": "stderr",
          "output_type": "stream",
          "text": [
            "\n",
            "/home/guillermo/.local/lib/python3.10/site-packages/sklearn/metrics/_classification.py:1509: UndefinedMetricWarning: Precision is ill-defined and being set to 0.0 due to no predicted samples. Use `zero_division` parameter to control this behavior.\n",
            "  _warn_prf(average, modifier, f\"{metric.capitalize()} is\", len(result))\n"
          ]
        },
        {
          "name": "stdout",
          "output_type": "stream",
          "text": [
            "--------------------------------\n",
            "Accuracy for fold 1: 50.00%\n",
            "Recall for fold 1: 0.00%\n",
            "Precision for fold 1: 0.00%\n",
            "F1 Score for fold 1: 0.00%\n",
            "--------------------------------\n",
            "FOLD 2\n",
            "--------------------------------\n",
            "EPOCH 1\n"
          ]
        },
        {
          "name": "stderr",
          "output_type": "stream",
          "text": [
            " 33%|███▎      | 39/117 [00:03<00:06, 11.23it/s]"
          ]
        },
        {
          "name": "stdout",
          "output_type": "stream",
          "text": [
            "batch    39 loss: 7.339\n"
          ]
        },
        {
          "name": "stderr",
          "output_type": "stream",
          "text": [
            " 68%|██████▊   | 79/117 [00:07<00:03, 11.25it/s]"
          ]
        },
        {
          "name": "stdout",
          "output_type": "stream",
          "text": [
            "batch    78 loss: 4.233\n"
          ]
        },
        {
          "name": "stderr",
          "output_type": "stream",
          "text": [
            "100%|██████████| 117/117 [00:10<00:00, 10.76it/s]\n"
          ]
        },
        {
          "name": "stdout",
          "output_type": "stream",
          "text": [
            "batch   117 loss: 3.054\n",
            "EPOCH 2\n"
          ]
        },
        {
          "name": "stderr",
          "output_type": "stream",
          "text": [
            " 35%|███▌      | 41/117 [00:03<00:06, 10.92it/s]"
          ]
        },
        {
          "name": "stdout",
          "output_type": "stream",
          "text": [
            "batch    39 loss: 0.694\n"
          ]
        },
        {
          "name": "stderr",
          "output_type": "stream",
          "text": [
            " 68%|██████▊   | 79/117 [00:07<00:03, 10.97it/s]"
          ]
        },
        {
          "name": "stdout",
          "output_type": "stream",
          "text": [
            "batch    78 loss: 0.694\n"
          ]
        },
        {
          "name": "stderr",
          "output_type": "stream",
          "text": [
            "100%|██████████| 117/117 [00:11<00:00, 10.54it/s]\n"
          ]
        },
        {
          "name": "stdout",
          "output_type": "stream",
          "text": [
            "batch   117 loss: 0.694\n",
            "EPOCH 3\n"
          ]
        },
        {
          "name": "stderr",
          "output_type": "stream",
          "text": [
            " 35%|███▌      | 41/117 [00:04<00:06, 11.08it/s]"
          ]
        },
        {
          "name": "stdout",
          "output_type": "stream",
          "text": [
            "batch    39 loss: 0.694\n"
          ]
        },
        {
          "name": "stderr",
          "output_type": "stream",
          "text": [
            " 68%|██████▊   | 79/117 [00:07<00:03, 10.63it/s]"
          ]
        },
        {
          "name": "stdout",
          "output_type": "stream",
          "text": [
            "batch    78 loss: 0.694\n"
          ]
        },
        {
          "name": "stderr",
          "output_type": "stream",
          "text": [
            "100%|██████████| 117/117 [00:11<00:00, 10.51it/s]\n"
          ]
        },
        {
          "name": "stdout",
          "output_type": "stream",
          "text": [
            "batch   117 loss: 0.694\n",
            "EPOCH 4\n"
          ]
        },
        {
          "name": "stderr",
          "output_type": "stream",
          "text": [
            " 35%|███▌      | 41/117 [00:03<00:07, 10.77it/s]"
          ]
        },
        {
          "name": "stdout",
          "output_type": "stream",
          "text": [
            "batch    39 loss: 0.694\n"
          ]
        },
        {
          "name": "stderr",
          "output_type": "stream",
          "text": [
            " 68%|██████▊   | 79/117 [00:07<00:03, 10.72it/s]"
          ]
        },
        {
          "name": "stdout",
          "output_type": "stream",
          "text": [
            "batch    78 loss: 0.694\n"
          ]
        },
        {
          "name": "stderr",
          "output_type": "stream",
          "text": [
            "100%|██████████| 117/117 [00:11<00:00, 10.52it/s]\n"
          ]
        },
        {
          "name": "stdout",
          "output_type": "stream",
          "text": [
            "batch   117 loss: 0.694\n",
            "EPOCH 5\n"
          ]
        },
        {
          "name": "stderr",
          "output_type": "stream",
          "text": [
            " 35%|███▌      | 41/117 [00:03<00:06, 11.47it/s]"
          ]
        },
        {
          "name": "stdout",
          "output_type": "stream",
          "text": [
            "batch    39 loss: 0.694\n"
          ]
        },
        {
          "name": "stderr",
          "output_type": "stream",
          "text": [
            " 68%|██████▊   | 79/117 [00:07<00:03,  9.83it/s]"
          ]
        },
        {
          "name": "stdout",
          "output_type": "stream",
          "text": [
            "batch    78 loss: 0.694\n"
          ]
        },
        {
          "name": "stderr",
          "output_type": "stream",
          "text": [
            "100%|██████████| 117/117 [00:11<00:00, 10.45it/s]\n"
          ]
        },
        {
          "name": "stdout",
          "output_type": "stream",
          "text": [
            "batch   117 loss: 0.694\n",
            "EPOCH 6\n"
          ]
        },
        {
          "name": "stderr",
          "output_type": "stream",
          "text": [
            " 35%|███▌      | 41/117 [00:04<00:07, 10.55it/s]"
          ]
        },
        {
          "name": "stdout",
          "output_type": "stream",
          "text": [
            "batch    39 loss: 0.693\n"
          ]
        },
        {
          "name": "stderr",
          "output_type": "stream",
          "text": [
            " 68%|██████▊   | 79/117 [00:07<00:03, 10.06it/s]"
          ]
        },
        {
          "name": "stdout",
          "output_type": "stream",
          "text": [
            "batch    78 loss: 0.694\n"
          ]
        },
        {
          "name": "stderr",
          "output_type": "stream",
          "text": [
            "100%|██████████| 117/117 [00:11<00:00, 10.32it/s]\n"
          ]
        },
        {
          "name": "stdout",
          "output_type": "stream",
          "text": [
            "batch   117 loss: 0.694\n",
            "EPOCH 7\n"
          ]
        },
        {
          "name": "stderr",
          "output_type": "stream",
          "text": [
            " 35%|███▌      | 41/117 [00:03<00:07, 10.68it/s]"
          ]
        },
        {
          "name": "stdout",
          "output_type": "stream",
          "text": [
            "batch    39 loss: 0.694\n"
          ]
        },
        {
          "name": "stderr",
          "output_type": "stream",
          "text": [
            " 68%|██████▊   | 79/117 [00:07<00:03, 10.45it/s]"
          ]
        },
        {
          "name": "stdout",
          "output_type": "stream",
          "text": [
            "batch    78 loss: 0.694\n"
          ]
        },
        {
          "name": "stderr",
          "output_type": "stream",
          "text": [
            "100%|██████████| 117/117 [00:11<00:00, 10.35it/s]\n"
          ]
        },
        {
          "name": "stdout",
          "output_type": "stream",
          "text": [
            "batch   117 loss: 0.694\n",
            "EPOCH 8\n"
          ]
        },
        {
          "name": "stderr",
          "output_type": "stream",
          "text": [
            " 35%|███▌      | 41/117 [00:03<00:06, 10.86it/s]"
          ]
        },
        {
          "name": "stdout",
          "output_type": "stream",
          "text": [
            "batch    39 loss: 0.693\n"
          ]
        },
        {
          "name": "stderr",
          "output_type": "stream",
          "text": [
            " 68%|██████▊   | 79/117 [00:07<00:03, 10.74it/s]"
          ]
        },
        {
          "name": "stdout",
          "output_type": "stream",
          "text": [
            "batch    78 loss: 0.693\n"
          ]
        },
        {
          "name": "stderr",
          "output_type": "stream",
          "text": [
            "100%|██████████| 117/117 [00:11<00:00, 10.48it/s]\n"
          ]
        },
        {
          "name": "stdout",
          "output_type": "stream",
          "text": [
            "batch   117 loss: 0.693\n",
            "EPOCH 9\n"
          ]
        },
        {
          "name": "stderr",
          "output_type": "stream",
          "text": [
            " 35%|███▌      | 41/117 [00:04<00:07, 10.58it/s]"
          ]
        },
        {
          "name": "stdout",
          "output_type": "stream",
          "text": [
            "batch    39 loss: 0.693\n"
          ]
        },
        {
          "name": "stderr",
          "output_type": "stream",
          "text": [
            " 68%|██████▊   | 79/117 [00:07<00:03, 10.69it/s]"
          ]
        },
        {
          "name": "stdout",
          "output_type": "stream",
          "text": [
            "batch    78 loss: 0.694\n"
          ]
        },
        {
          "name": "stderr",
          "output_type": "stream",
          "text": [
            "100%|██████████| 117/117 [00:11<00:00, 10.41it/s]\n"
          ]
        },
        {
          "name": "stdout",
          "output_type": "stream",
          "text": [
            "batch   117 loss: 0.694\n",
            "EPOCH 10\n"
          ]
        },
        {
          "name": "stderr",
          "output_type": "stream",
          "text": [
            " 35%|███▌      | 41/117 [00:04<00:07, 10.42it/s]"
          ]
        },
        {
          "name": "stdout",
          "output_type": "stream",
          "text": [
            "batch    39 loss: 0.694\n"
          ]
        },
        {
          "name": "stderr",
          "output_type": "stream",
          "text": [
            " 68%|██████▊   | 79/117 [00:07<00:03, 10.90it/s]"
          ]
        },
        {
          "name": "stdout",
          "output_type": "stream",
          "text": [
            "batch    78 loss: 0.694\n"
          ]
        },
        {
          "name": "stderr",
          "output_type": "stream",
          "text": [
            "100%|██████████| 117/117 [00:11<00:00, 10.36it/s]"
          ]
        },
        {
          "name": "stdout",
          "output_type": "stream",
          "text": [
            "batch   117 loss: 0.694\n",
            "Training process has finished. Saving trained model.\n",
            "Starting testing\n"
          ]
        },
        {
          "name": "stderr",
          "output_type": "stream",
          "text": [
            "\n"
          ]
        },
        {
          "name": "stdout",
          "output_type": "stream",
          "text": [
            "--------------------------------\n",
            "Accuracy for fold 2: 50.00%\n",
            "Recall for fold 2: 100.00%\n",
            "Precision for fold 2: 50.00%\n",
            "F1 Score for fold 2: 66.67%\n",
            "--------------------------------\n",
            "FOLD 3\n",
            "--------------------------------\n",
            "EPOCH 1\n"
          ]
        },
        {
          "name": "stderr",
          "output_type": "stream",
          "text": [
            " 35%|███▌      | 41/117 [00:03<00:06, 11.49it/s]"
          ]
        },
        {
          "name": "stdout",
          "output_type": "stream",
          "text": [
            "batch    39 loss: 6.756\n"
          ]
        },
        {
          "name": "stderr",
          "output_type": "stream",
          "text": [
            " 68%|██████▊   | 79/117 [00:07<00:03, 10.79it/s]"
          ]
        },
        {
          "name": "stdout",
          "output_type": "stream",
          "text": [
            "batch    78 loss: 3.717\n"
          ]
        },
        {
          "name": "stderr",
          "output_type": "stream",
          "text": [
            "100%|██████████| 117/117 [00:10<00:00, 10.96it/s]\n"
          ]
        },
        {
          "name": "stdout",
          "output_type": "stream",
          "text": [
            "batch   117 loss: 2.682\n",
            "EPOCH 2\n"
          ]
        },
        {
          "name": "stderr",
          "output_type": "stream",
          "text": [
            " 35%|███▌      | 41/117 [00:03<00:06, 11.22it/s]"
          ]
        },
        {
          "name": "stdout",
          "output_type": "stream",
          "text": [
            "batch    39 loss: 0.676\n"
          ]
        },
        {
          "name": "stderr",
          "output_type": "stream",
          "text": [
            " 68%|██████▊   | 79/117 [00:07<00:03, 11.40it/s]"
          ]
        },
        {
          "name": "stdout",
          "output_type": "stream",
          "text": [
            "batch    78 loss: 0.686\n"
          ]
        },
        {
          "name": "stderr",
          "output_type": "stream",
          "text": [
            "100%|██████████| 117/117 [00:10<00:00, 11.30it/s]\n"
          ]
        },
        {
          "name": "stdout",
          "output_type": "stream",
          "text": [
            "batch   117 loss: 0.690\n",
            "EPOCH 3\n"
          ]
        },
        {
          "name": "stderr",
          "output_type": "stream",
          "text": [
            " 35%|███▌      | 41/117 [00:03<00:06, 11.71it/s]"
          ]
        },
        {
          "name": "stdout",
          "output_type": "stream",
          "text": [
            "batch    39 loss: 0.693\n"
          ]
        },
        {
          "name": "stderr",
          "output_type": "stream",
          "text": [
            " 69%|██████▉   | 81/117 [00:06<00:03, 11.82it/s]"
          ]
        },
        {
          "name": "stdout",
          "output_type": "stream",
          "text": [
            "batch    78 loss: 0.694\n"
          ]
        },
        {
          "name": "stderr",
          "output_type": "stream",
          "text": [
            "100%|██████████| 117/117 [00:10<00:00, 11.49it/s]\n"
          ]
        },
        {
          "name": "stdout",
          "output_type": "stream",
          "text": [
            "batch   117 loss: 0.694\n",
            "EPOCH 4\n"
          ]
        },
        {
          "name": "stderr",
          "output_type": "stream",
          "text": [
            " 35%|███▌      | 41/117 [00:03<00:06, 11.56it/s]"
          ]
        },
        {
          "name": "stdout",
          "output_type": "stream",
          "text": [
            "batch    39 loss: 0.693\n"
          ]
        },
        {
          "name": "stderr",
          "output_type": "stream",
          "text": [
            " 68%|██████▊   | 79/117 [00:06<00:03, 11.78it/s]"
          ]
        },
        {
          "name": "stdout",
          "output_type": "stream",
          "text": [
            "batch    78 loss: 0.693\n"
          ]
        },
        {
          "name": "stderr",
          "output_type": "stream",
          "text": [
            "100%|██████████| 117/117 [00:10<00:00, 11.48it/s]\n"
          ]
        },
        {
          "name": "stdout",
          "output_type": "stream",
          "text": [
            "batch   117 loss: 0.694\n",
            "EPOCH 5\n"
          ]
        },
        {
          "name": "stderr",
          "output_type": "stream",
          "text": [
            " 35%|███▌      | 41/117 [00:03<00:06, 12.21it/s]"
          ]
        },
        {
          "name": "stdout",
          "output_type": "stream",
          "text": [
            "batch    39 loss: 0.693\n"
          ]
        },
        {
          "name": "stderr",
          "output_type": "stream",
          "text": [
            " 68%|██████▊   | 79/117 [00:06<00:03, 11.16it/s]"
          ]
        },
        {
          "name": "stdout",
          "output_type": "stream",
          "text": [
            "batch    78 loss: 0.694\n"
          ]
        },
        {
          "name": "stderr",
          "output_type": "stream",
          "text": [
            "100%|██████████| 117/117 [00:10<00:00, 11.43it/s]\n"
          ]
        },
        {
          "name": "stdout",
          "output_type": "stream",
          "text": [
            "batch   117 loss: 0.694\n",
            "EPOCH 6\n"
          ]
        },
        {
          "name": "stderr",
          "output_type": "stream",
          "text": [
            " 35%|███▌      | 41/117 [00:03<00:06, 11.54it/s]"
          ]
        },
        {
          "name": "stdout",
          "output_type": "stream",
          "text": [
            "batch    39 loss: 0.693\n"
          ]
        },
        {
          "name": "stderr",
          "output_type": "stream",
          "text": [
            " 68%|██████▊   | 79/117 [00:06<00:03, 12.07it/s]"
          ]
        },
        {
          "name": "stdout",
          "output_type": "stream",
          "text": [
            "batch    78 loss: 0.694\n"
          ]
        },
        {
          "name": "stderr",
          "output_type": "stream",
          "text": [
            "100%|██████████| 117/117 [00:10<00:00, 11.45it/s]\n"
          ]
        },
        {
          "name": "stdout",
          "output_type": "stream",
          "text": [
            "batch   117 loss: 0.694\n",
            "EPOCH 7\n"
          ]
        },
        {
          "name": "stderr",
          "output_type": "stream",
          "text": [
            " 35%|███▌      | 41/117 [00:03<00:06, 10.95it/s]"
          ]
        },
        {
          "name": "stdout",
          "output_type": "stream",
          "text": [
            "batch    39 loss: 0.693\n"
          ]
        },
        {
          "name": "stderr",
          "output_type": "stream",
          "text": [
            " 68%|██████▊   | 79/117 [00:07<00:03, 10.89it/s]"
          ]
        },
        {
          "name": "stdout",
          "output_type": "stream",
          "text": [
            "batch    78 loss: 0.694\n"
          ]
        },
        {
          "name": "stderr",
          "output_type": "stream",
          "text": [
            "100%|██████████| 117/117 [00:10<00:00, 11.40it/s]\n"
          ]
        },
        {
          "name": "stdout",
          "output_type": "stream",
          "text": [
            "batch   117 loss: 0.694\n",
            "EPOCH 8\n"
          ]
        },
        {
          "name": "stderr",
          "output_type": "stream",
          "text": [
            " 35%|███▌      | 41/117 [00:03<00:06, 11.41it/s]"
          ]
        },
        {
          "name": "stdout",
          "output_type": "stream",
          "text": [
            "batch    39 loss: 0.694\n"
          ]
        },
        {
          "name": "stderr",
          "output_type": "stream",
          "text": [
            " 69%|██████▉   | 81/117 [00:07<00:03, 11.16it/s]"
          ]
        },
        {
          "name": "stdout",
          "output_type": "stream",
          "text": [
            "batch    78 loss: 0.693\n"
          ]
        },
        {
          "name": "stderr",
          "output_type": "stream",
          "text": [
            "100%|██████████| 117/117 [00:10<00:00, 11.17it/s]\n"
          ]
        },
        {
          "name": "stdout",
          "output_type": "stream",
          "text": [
            "batch   117 loss: 0.694\n",
            "EPOCH 9\n"
          ]
        },
        {
          "name": "stderr",
          "output_type": "stream",
          "text": [
            " 35%|███▌      | 41/117 [00:03<00:06, 11.22it/s]"
          ]
        },
        {
          "name": "stdout",
          "output_type": "stream",
          "text": [
            "batch    39 loss: 0.693\n"
          ]
        },
        {
          "name": "stderr",
          "output_type": "stream",
          "text": [
            " 68%|██████▊   | 79/117 [00:06<00:03, 11.47it/s]"
          ]
        },
        {
          "name": "stdout",
          "output_type": "stream",
          "text": [
            "batch    78 loss: 0.693\n"
          ]
        },
        {
          "name": "stderr",
          "output_type": "stream",
          "text": [
            "100%|██████████| 117/117 [00:10<00:00, 11.43it/s]\n"
          ]
        },
        {
          "name": "stdout",
          "output_type": "stream",
          "text": [
            "batch   117 loss: 0.694\n",
            "EPOCH 10\n"
          ]
        },
        {
          "name": "stderr",
          "output_type": "stream",
          "text": [
            " 35%|███▌      | 41/117 [00:03<00:06, 11.20it/s]"
          ]
        },
        {
          "name": "stdout",
          "output_type": "stream",
          "text": [
            "batch    39 loss: 0.694\n"
          ]
        },
        {
          "name": "stderr",
          "output_type": "stream",
          "text": [
            " 68%|██████▊   | 79/117 [00:07<00:03, 11.44it/s]"
          ]
        },
        {
          "name": "stdout",
          "output_type": "stream",
          "text": [
            "batch    78 loss: 0.694\n"
          ]
        },
        {
          "name": "stderr",
          "output_type": "stream",
          "text": [
            "100%|██████████| 117/117 [00:10<00:00, 11.32it/s]\n"
          ]
        },
        {
          "name": "stdout",
          "output_type": "stream",
          "text": [
            "batch   117 loss: 0.694\n",
            "Training process has finished. Saving trained model.\n",
            "Starting testing\n"
          ]
        },
        {
          "name": "stderr",
          "output_type": "stream",
          "text": [
            "/home/guillermo/.local/lib/python3.10/site-packages/sklearn/metrics/_classification.py:1509: UndefinedMetricWarning: Precision is ill-defined and being set to 0.0 due to no predicted samples. Use `zero_division` parameter to control this behavior.\n",
            "  _warn_prf(average, modifier, f\"{metric.capitalize()} is\", len(result))\n"
          ]
        },
        {
          "name": "stdout",
          "output_type": "stream",
          "text": [
            "--------------------------------\n",
            "Accuracy for fold 3: 50.00%\n",
            "Recall for fold 3: 0.00%\n",
            "Precision for fold 3: 0.00%\n",
            "F1 Score for fold 3: 0.00%\n",
            "--------------------------------\n",
            "FOLD 4\n",
            "--------------------------------\n",
            "EPOCH 1\n"
          ]
        },
        {
          "name": "stderr",
          "output_type": "stream",
          "text": [
            " 35%|███▌      | 41/117 [00:03<00:06, 11.30it/s]"
          ]
        },
        {
          "name": "stdout",
          "output_type": "stream",
          "text": [
            "batch    39 loss: 12.302\n"
          ]
        },
        {
          "name": "stderr",
          "output_type": "stream",
          "text": [
            " 68%|██████▊   | 79/117 [00:07<00:03, 11.18it/s]"
          ]
        },
        {
          "name": "stdout",
          "output_type": "stream",
          "text": [
            "batch    78 loss: 6.506\n"
          ]
        },
        {
          "name": "stderr",
          "output_type": "stream",
          "text": [
            "100%|██████████| 117/117 [00:10<00:00, 11.02it/s]\n"
          ]
        },
        {
          "name": "stdout",
          "output_type": "stream",
          "text": [
            "batch   117 loss: 4.611\n",
            "EPOCH 2\n"
          ]
        },
        {
          "name": "stderr",
          "output_type": "stream",
          "text": [
            " 35%|███▌      | 41/117 [00:03<00:07, 10.78it/s]"
          ]
        },
        {
          "name": "stdout",
          "output_type": "stream",
          "text": [
            "batch    39 loss: 0.677\n"
          ]
        },
        {
          "name": "stderr",
          "output_type": "stream",
          "text": [
            " 68%|██████▊   | 79/117 [00:07<00:03, 10.99it/s]"
          ]
        },
        {
          "name": "stdout",
          "output_type": "stream",
          "text": [
            "batch    78 loss: 0.849\n"
          ]
        },
        {
          "name": "stderr",
          "output_type": "stream",
          "text": [
            "100%|██████████| 117/117 [00:10<00:00, 10.80it/s]\n"
          ]
        },
        {
          "name": "stdout",
          "output_type": "stream",
          "text": [
            "batch   117 loss: 0.797\n",
            "EPOCH 3\n"
          ]
        },
        {
          "name": "stderr",
          "output_type": "stream",
          "text": [
            " 35%|███▌      | 41/117 [00:03<00:06, 11.01it/s]"
          ]
        },
        {
          "name": "stdout",
          "output_type": "stream",
          "text": [
            "batch    39 loss: 0.694\n"
          ]
        },
        {
          "name": "stderr",
          "output_type": "stream",
          "text": [
            " 68%|██████▊   | 79/117 [00:06<00:03, 11.34it/s]"
          ]
        },
        {
          "name": "stdout",
          "output_type": "stream",
          "text": [
            "batch    78 loss: 0.694\n"
          ]
        },
        {
          "name": "stderr",
          "output_type": "stream",
          "text": [
            "100%|██████████| 117/117 [00:10<00:00, 11.23it/s]\n"
          ]
        },
        {
          "name": "stdout",
          "output_type": "stream",
          "text": [
            "batch   117 loss: 0.694\n",
            "EPOCH 4\n"
          ]
        },
        {
          "name": "stderr",
          "output_type": "stream",
          "text": [
            " 35%|███▌      | 41/117 [00:03<00:06, 12.08it/s]"
          ]
        },
        {
          "name": "stdout",
          "output_type": "stream",
          "text": [
            "batch    39 loss: 0.694\n"
          ]
        },
        {
          "name": "stderr",
          "output_type": "stream",
          "text": [
            " 69%|██████▉   | 81/117 [00:07<00:03, 11.17it/s]"
          ]
        },
        {
          "name": "stdout",
          "output_type": "stream",
          "text": [
            "batch    78 loss: 0.694\n"
          ]
        },
        {
          "name": "stderr",
          "output_type": "stream",
          "text": [
            "100%|██████████| 117/117 [00:10<00:00, 11.44it/s]\n"
          ]
        },
        {
          "name": "stdout",
          "output_type": "stream",
          "text": [
            "batch   117 loss: 0.694\n",
            "EPOCH 5\n"
          ]
        },
        {
          "name": "stderr",
          "output_type": "stream",
          "text": [
            " 35%|███▌      | 41/117 [00:03<00:06, 12.28it/s]"
          ]
        },
        {
          "name": "stdout",
          "output_type": "stream",
          "text": [
            "batch    39 loss: 0.693\n"
          ]
        },
        {
          "name": "stderr",
          "output_type": "stream",
          "text": [
            " 68%|██████▊   | 79/117 [00:06<00:03, 11.64it/s]"
          ]
        },
        {
          "name": "stdout",
          "output_type": "stream",
          "text": [
            "batch    78 loss: 0.693\n"
          ]
        },
        {
          "name": "stderr",
          "output_type": "stream",
          "text": [
            "100%|██████████| 117/117 [00:10<00:00, 11.59it/s]\n"
          ]
        },
        {
          "name": "stdout",
          "output_type": "stream",
          "text": [
            "batch   117 loss: 0.694\n",
            "EPOCH 6\n"
          ]
        },
        {
          "name": "stderr",
          "output_type": "stream",
          "text": [
            " 35%|███▌      | 41/117 [00:03<00:06, 12.01it/s]"
          ]
        },
        {
          "name": "stdout",
          "output_type": "stream",
          "text": [
            "batch    39 loss: 0.693\n"
          ]
        },
        {
          "name": "stderr",
          "output_type": "stream",
          "text": [
            " 68%|██████▊   | 79/117 [00:06<00:03, 11.34it/s]"
          ]
        },
        {
          "name": "stdout",
          "output_type": "stream",
          "text": [
            "batch    78 loss: 0.693\n"
          ]
        },
        {
          "name": "stderr",
          "output_type": "stream",
          "text": [
            "100%|██████████| 117/117 [00:10<00:00, 11.53it/s]\n"
          ]
        },
        {
          "name": "stdout",
          "output_type": "stream",
          "text": [
            "batch   117 loss: 0.694\n",
            "EPOCH 7\n"
          ]
        },
        {
          "name": "stderr",
          "output_type": "stream",
          "text": [
            " 35%|███▌      | 41/117 [00:03<00:06, 11.32it/s]"
          ]
        },
        {
          "name": "stdout",
          "output_type": "stream",
          "text": [
            "batch    39 loss: 0.693\n"
          ]
        },
        {
          "name": "stderr",
          "output_type": "stream",
          "text": [
            " 68%|██████▊   | 79/117 [00:06<00:03, 11.64it/s]"
          ]
        },
        {
          "name": "stdout",
          "output_type": "stream",
          "text": [
            "batch    78 loss: 0.694\n"
          ]
        },
        {
          "name": "stderr",
          "output_type": "stream",
          "text": [
            "100%|██████████| 117/117 [00:10<00:00, 11.39it/s]\n"
          ]
        },
        {
          "name": "stdout",
          "output_type": "stream",
          "text": [
            "batch   117 loss: 0.694\n",
            "EPOCH 8\n"
          ]
        },
        {
          "name": "stderr",
          "output_type": "stream",
          "text": [
            " 35%|███▌      | 41/117 [00:03<00:06, 12.32it/s]"
          ]
        },
        {
          "name": "stdout",
          "output_type": "stream",
          "text": [
            "batch    39 loss: 0.694\n"
          ]
        },
        {
          "name": "stderr",
          "output_type": "stream",
          "text": [
            " 68%|██████▊   | 79/117 [00:06<00:03, 11.88it/s]"
          ]
        },
        {
          "name": "stdout",
          "output_type": "stream",
          "text": [
            "batch    78 loss: 0.694\n"
          ]
        },
        {
          "name": "stderr",
          "output_type": "stream",
          "text": [
            "100%|██████████| 117/117 [00:10<00:00, 11.40it/s]\n"
          ]
        },
        {
          "name": "stdout",
          "output_type": "stream",
          "text": [
            "batch   117 loss: 0.694\n",
            "EPOCH 9\n"
          ]
        },
        {
          "name": "stderr",
          "output_type": "stream",
          "text": [
            " 35%|███▌      | 41/117 [00:03<00:06, 11.82it/s]"
          ]
        },
        {
          "name": "stdout",
          "output_type": "stream",
          "text": [
            "batch    39 loss: 0.694\n"
          ]
        },
        {
          "name": "stderr",
          "output_type": "stream",
          "text": [
            " 68%|██████▊   | 79/117 [00:06<00:03, 12.37it/s]"
          ]
        },
        {
          "name": "stdout",
          "output_type": "stream",
          "text": [
            "batch    78 loss: 0.694\n"
          ]
        },
        {
          "name": "stderr",
          "output_type": "stream",
          "text": [
            "100%|██████████| 117/117 [00:10<00:00, 11.68it/s]\n"
          ]
        },
        {
          "name": "stdout",
          "output_type": "stream",
          "text": [
            "batch   117 loss: 0.694\n",
            "EPOCH 10\n"
          ]
        },
        {
          "name": "stderr",
          "output_type": "stream",
          "text": [
            " 35%|███▌      | 41/117 [00:03<00:06, 11.61it/s]"
          ]
        },
        {
          "name": "stdout",
          "output_type": "stream",
          "text": [
            "batch    39 loss: 0.693\n"
          ]
        },
        {
          "name": "stderr",
          "output_type": "stream",
          "text": [
            " 69%|██████▉   | 81/117 [00:06<00:03, 11.95it/s]"
          ]
        },
        {
          "name": "stdout",
          "output_type": "stream",
          "text": [
            "batch    78 loss: 0.693\n"
          ]
        },
        {
          "name": "stderr",
          "output_type": "stream",
          "text": [
            "100%|██████████| 117/117 [00:09<00:00, 11.74it/s]\n"
          ]
        },
        {
          "name": "stdout",
          "output_type": "stream",
          "text": [
            "batch   117 loss: 0.694\n",
            "Training process has finished. Saving trained model.\n",
            "Starting testing\n",
            "--------------------------------\n",
            "Accuracy for fold 4: 50.00%\n",
            "Recall for fold 4: 100.00%\n",
            "Precision for fold 4: 50.00%\n",
            "F1 Score for fold 4: 66.67%\n",
            "--------------------------------\n",
            "FOLD 5\n",
            "--------------------------------\n",
            "EPOCH 1\n"
          ]
        },
        {
          "name": "stderr",
          "output_type": "stream",
          "text": [
            " 35%|███▌      | 41/117 [00:03<00:06, 11.30it/s]"
          ]
        },
        {
          "name": "stdout",
          "output_type": "stream",
          "text": [
            "batch    39 loss: 14.329\n"
          ]
        },
        {
          "name": "stderr",
          "output_type": "stream",
          "text": [
            " 68%|██████▊   | 79/117 [00:07<00:03, 11.29it/s]"
          ]
        },
        {
          "name": "stdout",
          "output_type": "stream",
          "text": [
            "batch    78 loss: 7.725\n"
          ]
        },
        {
          "name": "stderr",
          "output_type": "stream",
          "text": [
            "100%|██████████| 117/117 [00:10<00:00, 11.14it/s]\n"
          ]
        },
        {
          "name": "stdout",
          "output_type": "stream",
          "text": [
            "batch   117 loss: 5.406\n",
            "EPOCH 2\n"
          ]
        },
        {
          "name": "stderr",
          "output_type": "stream",
          "text": [
            " 35%|███▌      | 41/117 [00:03<00:06, 11.43it/s]"
          ]
        },
        {
          "name": "stdout",
          "output_type": "stream",
          "text": [
            "batch    39 loss: 0.774\n"
          ]
        },
        {
          "name": "stderr",
          "output_type": "stream",
          "text": [
            " 68%|██████▊   | 79/117 [00:06<00:03, 12.26it/s]"
          ]
        },
        {
          "name": "stdout",
          "output_type": "stream",
          "text": [
            "batch    78 loss: 0.734\n"
          ]
        },
        {
          "name": "stderr",
          "output_type": "stream",
          "text": [
            "100%|██████████| 117/117 [00:09<00:00, 11.70it/s]\n"
          ]
        },
        {
          "name": "stdout",
          "output_type": "stream",
          "text": [
            "batch   117 loss: 0.720\n",
            "EPOCH 3\n"
          ]
        },
        {
          "name": "stderr",
          "output_type": "stream",
          "text": [
            " 35%|███▌      | 41/117 [00:03<00:06, 12.03it/s]"
          ]
        },
        {
          "name": "stdout",
          "output_type": "stream",
          "text": [
            "batch    39 loss: 0.693\n"
          ]
        },
        {
          "name": "stderr",
          "output_type": "stream",
          "text": [
            " 68%|██████▊   | 79/117 [00:06<00:03, 12.25it/s]"
          ]
        },
        {
          "name": "stdout",
          "output_type": "stream",
          "text": [
            "batch    78 loss: 0.694\n"
          ]
        },
        {
          "name": "stderr",
          "output_type": "stream",
          "text": [
            "100%|██████████| 117/117 [00:09<00:00, 11.70it/s]\n"
          ]
        },
        {
          "name": "stdout",
          "output_type": "stream",
          "text": [
            "batch   117 loss: 0.694\n",
            "EPOCH 4\n"
          ]
        },
        {
          "name": "stderr",
          "output_type": "stream",
          "text": [
            " 35%|███▌      | 41/117 [00:03<00:06, 11.87it/s]"
          ]
        },
        {
          "name": "stdout",
          "output_type": "stream",
          "text": [
            "batch    39 loss: 0.694\n"
          ]
        },
        {
          "name": "stderr",
          "output_type": "stream",
          "text": [
            " 68%|██████▊   | 79/117 [00:07<00:03, 11.35it/s]"
          ]
        },
        {
          "name": "stdout",
          "output_type": "stream",
          "text": [
            "batch    78 loss: 0.694\n"
          ]
        },
        {
          "name": "stderr",
          "output_type": "stream",
          "text": [
            "100%|██████████| 117/117 [00:10<00:00, 11.07it/s]\n"
          ]
        },
        {
          "name": "stdout",
          "output_type": "stream",
          "text": [
            "batch   117 loss: 0.694\n",
            "EPOCH 5\n"
          ]
        },
        {
          "name": "stderr",
          "output_type": "stream",
          "text": [
            " 35%|███▌      | 41/117 [00:03<00:06, 11.26it/s]"
          ]
        },
        {
          "name": "stdout",
          "output_type": "stream",
          "text": [
            "batch    39 loss: 0.694\n"
          ]
        },
        {
          "name": "stderr",
          "output_type": "stream",
          "text": [
            " 68%|██████▊   | 79/117 [00:07<00:03, 11.26it/s]"
          ]
        },
        {
          "name": "stdout",
          "output_type": "stream",
          "text": [
            "batch    78 loss: 0.694\n"
          ]
        },
        {
          "name": "stderr",
          "output_type": "stream",
          "text": [
            "100%|██████████| 117/117 [00:10<00:00, 10.99it/s]\n"
          ]
        },
        {
          "name": "stdout",
          "output_type": "stream",
          "text": [
            "batch   117 loss: 0.694\n",
            "EPOCH 6\n"
          ]
        },
        {
          "name": "stderr",
          "output_type": "stream",
          "text": [
            " 35%|███▌      | 41/117 [00:03<00:06, 11.18it/s]"
          ]
        },
        {
          "name": "stdout",
          "output_type": "stream",
          "text": [
            "batch    39 loss: 0.691\n"
          ]
        },
        {
          "name": "stderr",
          "output_type": "stream",
          "text": [
            " 68%|██████▊   | 79/117 [00:07<00:03, 11.64it/s]"
          ]
        },
        {
          "name": "stdout",
          "output_type": "stream",
          "text": [
            "batch    78 loss: 0.693\n"
          ]
        },
        {
          "name": "stderr",
          "output_type": "stream",
          "text": [
            "100%|██████████| 117/117 [00:10<00:00, 11.11it/s]\n"
          ]
        },
        {
          "name": "stdout",
          "output_type": "stream",
          "text": [
            "batch   117 loss: 0.693\n",
            "EPOCH 7\n"
          ]
        },
        {
          "name": "stderr",
          "output_type": "stream",
          "text": [
            " 35%|███▌      | 41/117 [00:03<00:06, 11.18it/s]"
          ]
        },
        {
          "name": "stdout",
          "output_type": "stream",
          "text": [
            "batch    39 loss: 0.694\n"
          ]
        },
        {
          "name": "stderr",
          "output_type": "stream",
          "text": [
            " 68%|██████▊   | 79/117 [00:06<00:03, 11.72it/s]"
          ]
        },
        {
          "name": "stdout",
          "output_type": "stream",
          "text": [
            "batch    78 loss: 0.694\n"
          ]
        },
        {
          "name": "stderr",
          "output_type": "stream",
          "text": [
            "100%|██████████| 117/117 [00:10<00:00, 11.59it/s]\n"
          ]
        },
        {
          "name": "stdout",
          "output_type": "stream",
          "text": [
            "batch   117 loss: 0.694\n",
            "EPOCH 8\n"
          ]
        },
        {
          "name": "stderr",
          "output_type": "stream",
          "text": [
            " 35%|███▌      | 41/117 [00:03<00:06, 12.13it/s]"
          ]
        },
        {
          "name": "stdout",
          "output_type": "stream",
          "text": [
            "batch    39 loss: 0.693\n"
          ]
        },
        {
          "name": "stderr",
          "output_type": "stream",
          "text": [
            " 69%|██████▉   | 81/117 [00:07<00:03, 11.47it/s]"
          ]
        },
        {
          "name": "stdout",
          "output_type": "stream",
          "text": [
            "batch    78 loss: 0.693\n"
          ]
        },
        {
          "name": "stderr",
          "output_type": "stream",
          "text": [
            "100%|██████████| 117/117 [00:10<00:00, 11.55it/s]\n"
          ]
        },
        {
          "name": "stdout",
          "output_type": "stream",
          "text": [
            "batch   117 loss: 0.694\n",
            "EPOCH 9\n"
          ]
        },
        {
          "name": "stderr",
          "output_type": "stream",
          "text": [
            " 35%|███▌      | 41/117 [00:03<00:06, 11.31it/s]"
          ]
        },
        {
          "name": "stdout",
          "output_type": "stream",
          "text": [
            "batch    39 loss: 0.693\n"
          ]
        },
        {
          "name": "stderr",
          "output_type": "stream",
          "text": [
            " 68%|██████▊   | 79/117 [00:07<00:03, 11.47it/s]"
          ]
        },
        {
          "name": "stdout",
          "output_type": "stream",
          "text": [
            "batch    78 loss: 0.693\n"
          ]
        },
        {
          "name": "stderr",
          "output_type": "stream",
          "text": [
            "100%|██████████| 117/117 [00:10<00:00, 11.45it/s]\n"
          ]
        },
        {
          "name": "stdout",
          "output_type": "stream",
          "text": [
            "batch   117 loss: 0.694\n",
            "EPOCH 10\n"
          ]
        },
        {
          "name": "stderr",
          "output_type": "stream",
          "text": [
            " 35%|███▌      | 41/117 [00:03<00:06, 12.01it/s]"
          ]
        },
        {
          "name": "stdout",
          "output_type": "stream",
          "text": [
            "batch    39 loss: 0.694\n"
          ]
        },
        {
          "name": "stderr",
          "output_type": "stream",
          "text": [
            " 68%|██████▊   | 79/117 [00:06<00:03, 12.08it/s]"
          ]
        },
        {
          "name": "stdout",
          "output_type": "stream",
          "text": [
            "batch    78 loss: 0.694\n"
          ]
        },
        {
          "name": "stderr",
          "output_type": "stream",
          "text": [
            "100%|██████████| 117/117 [00:10<00:00, 11.49it/s]"
          ]
        },
        {
          "name": "stdout",
          "output_type": "stream",
          "text": [
            "batch   117 loss: 0.694\n",
            "Training process has finished. Saving trained model.\n",
            "Starting testing\n"
          ]
        },
        {
          "name": "stderr",
          "output_type": "stream",
          "text": [
            "\n",
            "/home/guillermo/.local/lib/python3.10/site-packages/sklearn/metrics/_classification.py:1509: UndefinedMetricWarning: Precision is ill-defined and being set to 0.0 due to no predicted samples. Use `zero_division` parameter to control this behavior.\n",
            "  _warn_prf(average, modifier, f\"{metric.capitalize()} is\", len(result))\n"
          ]
        },
        {
          "name": "stdout",
          "output_type": "stream",
          "text": [
            "--------------------------------\n",
            "Accuracy for fold 5: 50.00%\n",
            "Recall for fold 5: 0.00%\n",
            "Precision for fold 5: 0.00%\n",
            "F1 Score for fold 5: 0.00%\n",
            "--------------------------------\n",
            "FOLD 6\n",
            "--------------------------------\n",
            "EPOCH 1\n"
          ]
        },
        {
          "name": "stderr",
          "output_type": "stream",
          "text": [
            " 35%|███▌      | 41/117 [00:03<00:06, 11.35it/s]"
          ]
        },
        {
          "name": "stdout",
          "output_type": "stream",
          "text": [
            "batch    39 loss: 10.112\n"
          ]
        },
        {
          "name": "stderr",
          "output_type": "stream",
          "text": [
            " 69%|██████▉   | 81/117 [00:06<00:03, 11.43it/s]"
          ]
        },
        {
          "name": "stdout",
          "output_type": "stream",
          "text": [
            "batch    78 loss: 5.278\n"
          ]
        },
        {
          "name": "stderr",
          "output_type": "stream",
          "text": [
            "100%|██████████| 117/117 [00:10<00:00, 11.54it/s]\n"
          ]
        },
        {
          "name": "stdout",
          "output_type": "stream",
          "text": [
            "batch   117 loss: 3.694\n",
            "EPOCH 2\n"
          ]
        },
        {
          "name": "stderr",
          "output_type": "stream",
          "text": [
            " 35%|███▌      | 41/117 [00:03<00:06, 12.08it/s]"
          ]
        },
        {
          "name": "stdout",
          "output_type": "stream",
          "text": [
            "batch    39 loss: 0.693\n"
          ]
        },
        {
          "name": "stderr",
          "output_type": "stream",
          "text": [
            " 68%|██████▊   | 79/117 [00:06<00:03, 12.14it/s]"
          ]
        },
        {
          "name": "stdout",
          "output_type": "stream",
          "text": [
            "batch    78 loss: 0.692\n"
          ]
        },
        {
          "name": "stderr",
          "output_type": "stream",
          "text": [
            "100%|██████████| 117/117 [00:10<00:00, 11.61it/s]\n"
          ]
        },
        {
          "name": "stdout",
          "output_type": "stream",
          "text": [
            "batch   117 loss: 0.694\n",
            "EPOCH 3\n"
          ]
        },
        {
          "name": "stderr",
          "output_type": "stream",
          "text": [
            " 35%|███▌      | 41/117 [00:03<00:06, 11.87it/s]"
          ]
        },
        {
          "name": "stdout",
          "output_type": "stream",
          "text": [
            "batch    39 loss: 0.695\n"
          ]
        },
        {
          "name": "stderr",
          "output_type": "stream",
          "text": [
            " 68%|██████▊   | 79/117 [00:06<00:03, 12.25it/s]"
          ]
        },
        {
          "name": "stdout",
          "output_type": "stream",
          "text": [
            "batch    78 loss: 0.694\n"
          ]
        },
        {
          "name": "stderr",
          "output_type": "stream",
          "text": [
            "100%|██████████| 117/117 [00:10<00:00, 11.65it/s]\n"
          ]
        },
        {
          "name": "stdout",
          "output_type": "stream",
          "text": [
            "batch   117 loss: 0.694\n",
            "EPOCH 4\n"
          ]
        },
        {
          "name": "stderr",
          "output_type": "stream",
          "text": [
            " 35%|███▌      | 41/117 [00:03<00:06, 11.81it/s]"
          ]
        },
        {
          "name": "stdout",
          "output_type": "stream",
          "text": [
            "batch    39 loss: 0.694\n"
          ]
        },
        {
          "name": "stderr",
          "output_type": "stream",
          "text": [
            " 68%|██████▊   | 79/117 [00:06<00:03, 12.65it/s]"
          ]
        },
        {
          "name": "stdout",
          "output_type": "stream",
          "text": [
            "batch    78 loss: 0.694\n"
          ]
        },
        {
          "name": "stderr",
          "output_type": "stream",
          "text": [
            "100%|██████████| 117/117 [00:10<00:00, 11.50it/s]\n"
          ]
        },
        {
          "name": "stdout",
          "output_type": "stream",
          "text": [
            "batch   117 loss: 0.694\n",
            "EPOCH 5\n"
          ]
        },
        {
          "name": "stderr",
          "output_type": "stream",
          "text": [
            " 35%|███▌      | 41/117 [00:03<00:06, 12.36it/s]"
          ]
        },
        {
          "name": "stdout",
          "output_type": "stream",
          "text": [
            "batch    39 loss: 0.695\n"
          ]
        },
        {
          "name": "stderr",
          "output_type": "stream",
          "text": [
            " 68%|██████▊   | 79/117 [00:06<00:03, 11.49it/s]"
          ]
        },
        {
          "name": "stdout",
          "output_type": "stream",
          "text": [
            "batch    78 loss: 0.694\n"
          ]
        },
        {
          "name": "stderr",
          "output_type": "stream",
          "text": [
            "100%|██████████| 117/117 [00:10<00:00, 11.67it/s]\n"
          ]
        },
        {
          "name": "stdout",
          "output_type": "stream",
          "text": [
            "batch   117 loss: 0.694\n",
            "EPOCH 6\n"
          ]
        },
        {
          "name": "stderr",
          "output_type": "stream",
          "text": [
            " 35%|███▌      | 41/117 [00:03<00:06, 11.54it/s]"
          ]
        },
        {
          "name": "stdout",
          "output_type": "stream",
          "text": [
            "batch    39 loss: 0.694\n"
          ]
        },
        {
          "name": "stderr",
          "output_type": "stream",
          "text": [
            " 68%|██████▊   | 79/117 [00:06<00:03, 11.63it/s]"
          ]
        },
        {
          "name": "stdout",
          "output_type": "stream",
          "text": [
            "batch    78 loss: 0.694\n"
          ]
        },
        {
          "name": "stderr",
          "output_type": "stream",
          "text": [
            "100%|██████████| 117/117 [00:10<00:00, 11.49it/s]\n"
          ]
        },
        {
          "name": "stdout",
          "output_type": "stream",
          "text": [
            "batch   117 loss: 0.694\n",
            "EPOCH 7\n"
          ]
        },
        {
          "name": "stderr",
          "output_type": "stream",
          "text": [
            " 35%|███▌      | 41/117 [00:03<00:06, 12.27it/s]"
          ]
        },
        {
          "name": "stdout",
          "output_type": "stream",
          "text": [
            "batch    39 loss: 0.693\n"
          ]
        },
        {
          "name": "stderr",
          "output_type": "stream",
          "text": [
            " 68%|██████▊   | 79/117 [00:06<00:03, 12.16it/s]"
          ]
        },
        {
          "name": "stdout",
          "output_type": "stream",
          "text": [
            "batch    78 loss: 0.694\n"
          ]
        },
        {
          "name": "stderr",
          "output_type": "stream",
          "text": [
            "100%|██████████| 117/117 [00:10<00:00, 11.63it/s]\n"
          ]
        },
        {
          "name": "stdout",
          "output_type": "stream",
          "text": [
            "batch   117 loss: 0.694\n",
            "EPOCH 8\n"
          ]
        },
        {
          "name": "stderr",
          "output_type": "stream",
          "text": [
            " 35%|███▌      | 41/117 [00:03<00:06, 11.89it/s]"
          ]
        },
        {
          "name": "stdout",
          "output_type": "stream",
          "text": [
            "batch    39 loss: 0.694\n"
          ]
        },
        {
          "name": "stderr",
          "output_type": "stream",
          "text": [
            " 68%|██████▊   | 79/117 [00:06<00:03, 11.52it/s]"
          ]
        },
        {
          "name": "stdout",
          "output_type": "stream",
          "text": [
            "batch    78 loss: 0.693\n"
          ]
        },
        {
          "name": "stderr",
          "output_type": "stream",
          "text": [
            "100%|██████████| 117/117 [00:10<00:00, 11.55it/s]\n"
          ]
        },
        {
          "name": "stdout",
          "output_type": "stream",
          "text": [
            "batch   117 loss: 0.694\n",
            "EPOCH 9\n"
          ]
        },
        {
          "name": "stderr",
          "output_type": "stream",
          "text": [
            " 35%|███▌      | 41/117 [00:03<00:06, 11.85it/s]"
          ]
        },
        {
          "name": "stdout",
          "output_type": "stream",
          "text": [
            "batch    39 loss: 0.692\n"
          ]
        },
        {
          "name": "stderr",
          "output_type": "stream",
          "text": [
            " 68%|██████▊   | 79/117 [00:06<00:03, 11.36it/s]"
          ]
        },
        {
          "name": "stdout",
          "output_type": "stream",
          "text": [
            "batch    78 loss: 0.694\n"
          ]
        },
        {
          "name": "stderr",
          "output_type": "stream",
          "text": [
            "100%|██████████| 117/117 [00:10<00:00, 11.58it/s]\n"
          ]
        },
        {
          "name": "stdout",
          "output_type": "stream",
          "text": [
            "batch   117 loss: 0.694\n",
            "EPOCH 10\n"
          ]
        },
        {
          "name": "stderr",
          "output_type": "stream",
          "text": [
            " 35%|███▌      | 41/117 [00:03<00:06, 11.61it/s]"
          ]
        },
        {
          "name": "stdout",
          "output_type": "stream",
          "text": [
            "batch    39 loss: 0.694\n"
          ]
        },
        {
          "name": "stderr",
          "output_type": "stream",
          "text": [
            " 69%|██████▉   | 81/117 [00:06<00:03, 11.50it/s]"
          ]
        },
        {
          "name": "stdout",
          "output_type": "stream",
          "text": [
            "batch    78 loss: 0.694\n"
          ]
        },
        {
          "name": "stderr",
          "output_type": "stream",
          "text": [
            "100%|██████████| 117/117 [00:10<00:00, 11.65it/s]"
          ]
        },
        {
          "name": "stdout",
          "output_type": "stream",
          "text": [
            "batch   117 loss: 0.694\n",
            "Training process has finished. Saving trained model.\n",
            "Starting testing\n"
          ]
        },
        {
          "name": "stderr",
          "output_type": "stream",
          "text": [
            "\n",
            "/home/guillermo/.local/lib/python3.10/site-packages/sklearn/metrics/_classification.py:1509: UndefinedMetricWarning: Precision is ill-defined and being set to 0.0 due to no predicted samples. Use `zero_division` parameter to control this behavior.\n",
            "  _warn_prf(average, modifier, f\"{metric.capitalize()} is\", len(result))\n"
          ]
        },
        {
          "name": "stdout",
          "output_type": "stream",
          "text": [
            "--------------------------------\n",
            "Accuracy for fold 6: 50.00%\n",
            "Recall for fold 6: 0.00%\n",
            "Precision for fold 6: 0.00%\n",
            "F1 Score for fold 6: 0.00%\n",
            "--------------------------------\n",
            "FOLD 7\n",
            "--------------------------------\n",
            "EPOCH 1\n"
          ]
        },
        {
          "name": "stderr",
          "output_type": "stream",
          "text": [
            " 35%|███▌      | 41/117 [00:03<00:06, 11.44it/s]"
          ]
        },
        {
          "name": "stdout",
          "output_type": "stream",
          "text": [
            "batch    39 loss: 12.932\n"
          ]
        },
        {
          "name": "stderr",
          "output_type": "stream",
          "text": [
            " 68%|██████▊   | 79/117 [00:06<00:03, 11.32it/s]"
          ]
        },
        {
          "name": "stdout",
          "output_type": "stream",
          "text": [
            "batch    78 loss: 6.687\n"
          ]
        },
        {
          "name": "stderr",
          "output_type": "stream",
          "text": [
            "100%|██████████| 117/117 [00:10<00:00, 11.51it/s]\n"
          ]
        },
        {
          "name": "stdout",
          "output_type": "stream",
          "text": [
            "batch   117 loss: 4.490\n",
            "EPOCH 2\n"
          ]
        },
        {
          "name": "stderr",
          "output_type": "stream",
          "text": [
            " 35%|███▌      | 41/117 [00:03<00:06, 11.69it/s]"
          ]
        },
        {
          "name": "stdout",
          "output_type": "stream",
          "text": [
            "batch    39 loss: 0.018\n"
          ]
        },
        {
          "name": "stderr",
          "output_type": "stream",
          "text": [
            " 68%|██████▊   | 79/117 [00:06<00:03, 11.89it/s]"
          ]
        },
        {
          "name": "stdout",
          "output_type": "stream",
          "text": [
            "batch    78 loss: 0.012\n"
          ]
        },
        {
          "name": "stderr",
          "output_type": "stream",
          "text": [
            "100%|██████████| 117/117 [00:10<00:00, 11.45it/s]\n"
          ]
        },
        {
          "name": "stdout",
          "output_type": "stream",
          "text": [
            "batch   117 loss: 0.012\n",
            "EPOCH 3\n"
          ]
        },
        {
          "name": "stderr",
          "output_type": "stream",
          "text": [
            " 35%|███▌      | 41/117 [00:03<00:06, 11.28it/s]"
          ]
        },
        {
          "name": "stdout",
          "output_type": "stream",
          "text": [
            "batch    39 loss: 0.895\n"
          ]
        },
        {
          "name": "stderr",
          "output_type": "stream",
          "text": [
            " 68%|██████▊   | 79/117 [00:06<00:03, 11.43it/s]"
          ]
        },
        {
          "name": "stdout",
          "output_type": "stream",
          "text": [
            "batch    78 loss: 1.011\n"
          ]
        },
        {
          "name": "stderr",
          "output_type": "stream",
          "text": [
            "100%|██████████| 117/117 [00:10<00:00, 11.54it/s]\n"
          ]
        },
        {
          "name": "stdout",
          "output_type": "stream",
          "text": [
            "batch   117 loss: 0.907\n",
            "EPOCH 4\n"
          ]
        },
        {
          "name": "stderr",
          "output_type": "stream",
          "text": [
            " 35%|███▌      | 41/117 [00:03<00:06, 11.97it/s]"
          ]
        },
        {
          "name": "stdout",
          "output_type": "stream",
          "text": [
            "batch    39 loss: 0.694\n"
          ]
        },
        {
          "name": "stderr",
          "output_type": "stream",
          "text": [
            " 69%|██████▉   | 81/117 [00:07<00:02, 12.20it/s]"
          ]
        },
        {
          "name": "stdout",
          "output_type": "stream",
          "text": [
            "batch    78 loss: 0.693\n"
          ]
        },
        {
          "name": "stderr",
          "output_type": "stream",
          "text": [
            "100%|██████████| 117/117 [00:10<00:00, 11.47it/s]\n"
          ]
        },
        {
          "name": "stdout",
          "output_type": "stream",
          "text": [
            "batch   117 loss: 0.694\n",
            "EPOCH 5\n"
          ]
        },
        {
          "name": "stderr",
          "output_type": "stream",
          "text": [
            " 35%|███▌      | 41/117 [00:03<00:06, 11.72it/s]"
          ]
        },
        {
          "name": "stdout",
          "output_type": "stream",
          "text": [
            "batch    39 loss: 0.694\n"
          ]
        },
        {
          "name": "stderr",
          "output_type": "stream",
          "text": [
            " 69%|██████▉   | 81/117 [00:06<00:03, 11.71it/s]"
          ]
        },
        {
          "name": "stdout",
          "output_type": "stream",
          "text": [
            "batch    78 loss: 0.694\n"
          ]
        },
        {
          "name": "stderr",
          "output_type": "stream",
          "text": [
            "100%|██████████| 117/117 [00:10<00:00, 11.50it/s]\n"
          ]
        },
        {
          "name": "stdout",
          "output_type": "stream",
          "text": [
            "batch   117 loss: 0.694\n",
            "EPOCH 6\n"
          ]
        },
        {
          "name": "stderr",
          "output_type": "stream",
          "text": [
            " 35%|███▌      | 41/117 [00:03<00:06, 12.22it/s]"
          ]
        },
        {
          "name": "stdout",
          "output_type": "stream",
          "text": [
            "batch    39 loss: 0.693\n"
          ]
        },
        {
          "name": "stderr",
          "output_type": "stream",
          "text": [
            " 68%|██████▊   | 79/117 [00:06<00:03, 11.90it/s]"
          ]
        },
        {
          "name": "stdout",
          "output_type": "stream",
          "text": [
            "batch    78 loss: 0.694\n"
          ]
        },
        {
          "name": "stderr",
          "output_type": "stream",
          "text": [
            "100%|██████████| 117/117 [00:10<00:00, 11.51it/s]\n"
          ]
        },
        {
          "name": "stdout",
          "output_type": "stream",
          "text": [
            "batch   117 loss: 0.694\n",
            "EPOCH 7\n"
          ]
        },
        {
          "name": "stderr",
          "output_type": "stream",
          "text": [
            " 35%|███▌      | 41/117 [00:03<00:07, 10.78it/s]"
          ]
        },
        {
          "name": "stdout",
          "output_type": "stream",
          "text": [
            "batch    39 loss: 0.694\n"
          ]
        },
        {
          "name": "stderr",
          "output_type": "stream",
          "text": [
            " 68%|██████▊   | 79/117 [00:06<00:03, 11.43it/s]"
          ]
        },
        {
          "name": "stdout",
          "output_type": "stream",
          "text": [
            "batch    78 loss: 0.692\n"
          ]
        },
        {
          "name": "stderr",
          "output_type": "stream",
          "text": [
            "100%|██████████| 117/117 [00:10<00:00, 11.35it/s]\n"
          ]
        },
        {
          "name": "stdout",
          "output_type": "stream",
          "text": [
            "batch   117 loss: 0.694\n",
            "EPOCH 8\n"
          ]
        },
        {
          "name": "stderr",
          "output_type": "stream",
          "text": [
            " 35%|███▌      | 41/117 [00:03<00:06, 11.90it/s]"
          ]
        },
        {
          "name": "stdout",
          "output_type": "stream",
          "text": [
            "batch    39 loss: 0.693\n"
          ]
        },
        {
          "name": "stderr",
          "output_type": "stream",
          "text": [
            " 69%|██████▉   | 81/117 [00:06<00:02, 12.13it/s]"
          ]
        },
        {
          "name": "stdout",
          "output_type": "stream",
          "text": [
            "batch    78 loss: 0.693\n"
          ]
        },
        {
          "name": "stderr",
          "output_type": "stream",
          "text": [
            "100%|██████████| 117/117 [00:10<00:00, 11.56it/s]\n"
          ]
        },
        {
          "name": "stdout",
          "output_type": "stream",
          "text": [
            "batch   117 loss: 0.694\n",
            "EPOCH 9\n"
          ]
        },
        {
          "name": "stderr",
          "output_type": "stream",
          "text": [
            " 35%|███▌      | 41/117 [00:03<00:06, 11.94it/s]"
          ]
        },
        {
          "name": "stdout",
          "output_type": "stream",
          "text": [
            "batch    39 loss: 0.694\n"
          ]
        },
        {
          "name": "stderr",
          "output_type": "stream",
          "text": [
            " 68%|██████▊   | 79/117 [00:06<00:03, 11.81it/s]"
          ]
        },
        {
          "name": "stdout",
          "output_type": "stream",
          "text": [
            "batch    78 loss: 0.695\n"
          ]
        },
        {
          "name": "stderr",
          "output_type": "stream",
          "text": [
            "100%|██████████| 117/117 [00:10<00:00, 11.40it/s]\n"
          ]
        },
        {
          "name": "stdout",
          "output_type": "stream",
          "text": [
            "batch   117 loss: 0.694\n",
            "EPOCH 10\n"
          ]
        },
        {
          "name": "stderr",
          "output_type": "stream",
          "text": [
            " 35%|███▌      | 41/117 [00:03<00:06, 11.81it/s]"
          ]
        },
        {
          "name": "stdout",
          "output_type": "stream",
          "text": [
            "batch    39 loss: 0.694\n"
          ]
        },
        {
          "name": "stderr",
          "output_type": "stream",
          "text": [
            " 68%|██████▊   | 79/117 [00:06<00:03, 11.72it/s]"
          ]
        },
        {
          "name": "stdout",
          "output_type": "stream",
          "text": [
            "batch    78 loss: 0.694\n"
          ]
        },
        {
          "name": "stderr",
          "output_type": "stream",
          "text": [
            "100%|██████████| 117/117 [00:10<00:00, 11.47it/s]"
          ]
        },
        {
          "name": "stdout",
          "output_type": "stream",
          "text": [
            "batch   117 loss: 0.694\n",
            "Training process has finished. Saving trained model.\n",
            "Starting testing\n"
          ]
        },
        {
          "name": "stderr",
          "output_type": "stream",
          "text": [
            "\n"
          ]
        },
        {
          "name": "stdout",
          "output_type": "stream",
          "text": [
            "--------------------------------\n",
            "Accuracy for fold 7: 49.68%\n",
            "Recall for fold 7: 100.00%\n",
            "Precision for fold 7: 49.68%\n",
            "F1 Score for fold 7: 66.38%\n",
            "--------------------------------\n",
            "GROUP K-FOLD CROSS VALIDATION RESULTS FOR 7 FOLDS\n",
            "--------------------------------\n",
            "Accuracy:\n",
            "  Average: 49.95% (+/- 0.11%)\n",
            "Recall:\n",
            "  Average: 42.86% (+/- 49.49%)\n",
            "Precision:\n",
            "  Average: 21.38% (+/- 24.69%)\n",
            "F1_score:\n",
            "  Average: 28.53% (+/- 32.94%)\n"
          ]
        }
      ],
      "source": [
        "# Loop encontrado y modificado de: https://github.com/christianversloot/machine-learning-articles/blob/main/how-to-use-k-fold-cross-validation-with-pytorch.md\n",
        "for fold, (train_ids, test_ids) in enumerate(gkf.split(X, y, groups)):\n",
        "\n",
        "  # Print\n",
        "  print(f'FOLD {fold+1}')\n",
        "  print('--------------------------------')\n",
        "\n",
        "  # Sample elements randomly from a given list of ids, no replacement.\n",
        "  train_subsampler = torch.utils.data.Subset(complete_dataset, train_ids)\n",
        "  test_subsampler = torch.utils.data.Subset(complete_dataset, test_ids)\n",
        "\n",
        "  # Define data loaders for training and testing data in this fold\n",
        "  trainloader = DataLoader(train_subsampler, batch_size=BATCH_SIZE, shuffle=True, num_workers=2, pin_memory=True)\n",
        "  testloader = DataLoader(test_subsampler, batch_size=BATCH_SIZE, shuffle=False, num_workers=2)\n",
        "\n",
        "\n",
        "  \"\"\" Parametros del modelo \"\"\"\n",
        "\n",
        "  # Creacion del modelo y lo movemos a la GPU o CPU\n",
        "  model = MultimodalModel(n_channels=1)\n",
        "  model.to(DEVICE)\n",
        "\n",
        "  # Funcion de perdida (loss)\n",
        "  criterion = nn.BCEWithLogitsLoss() # https://shivambaldha.medium.com/binary-classification-with-pytorch-85089b284940\n",
        "\n",
        "  # Algoritmos de optimización del gradiente\n",
        "  optimizer = torch.optim.Adam(model.parameters(), lr=LEARNING_RATE)\n",
        "\n",
        "  epoch_number = 0\n",
        "  EPOCHS = 10\n",
        "\n",
        "  # Storage for current fold\n",
        "  losses = []\n",
        "\n",
        "  for epoch in range(EPOCHS):  # loop over the dataset multiple times\n",
        "      print(f\"EPOCH {epoch_number + 1}\")\n",
        "\n",
        "      train_one_epoch(trainloader, model, optimizer, criterion, losses)\n",
        "\n",
        "      epoch_number += 1 # Pasamos a la siguiente época\n",
        "\n",
        "  # Store losses for current fold\n",
        "  losses_per_epoch.append(losses)\n",
        "\n",
        "  # Process is complete.\n",
        "  print('Training process has finished. Saving trained model.')\n",
        "\n",
        "  # Print about testing\n",
        "  print('Starting testing')\n",
        "\n",
        "  # Saving the model\n",
        "  # Crear la carpeta models por si no existe\n",
        "  if os.path.exists('../models') == False:\n",
        "    os.mkdir(\"../models\")\n",
        "  save_path = f'{exp_path}/model-fold-{fold+1}.pth'\n",
        "  torch.save(model.state_dict(), save_path)\n",
        "\n",
        "  # Evaluation for this fold\n",
        "  y_true = []\n",
        "  y_pred = []\n",
        "\n",
        "  eval_model(testloader, model, y_pred, y_true)\n",
        "\n",
        "  # Calculate metrics\n",
        "  recall = recall_score(y_true, y_pred, average='binary')\n",
        "  precision = precision_score(y_true, y_pred, average='binary') \n",
        "  f1 = f1_score(y_true, y_pred, average='binary')\n",
        "  accuracy = accuracy_score(y_true, y_pred)\n",
        "\n",
        "  # Print metrics\n",
        "  print('--------------------------------')\n",
        "  print(f'Accuracy for fold {fold+1}: {accuracy * 100:.2f}%')\n",
        "  print(f'Recall for fold {fold+1}: {recall * 100:.2f}%')\n",
        "  print(f'Precision for fold {fold+1}: {precision * 100:.2f}%')\n",
        "  print(f'F1 Score for fold {fold+1}: {f1 * 100:.2f}%')\n",
        "  print('--------------------------------')\n",
        "\n",
        "  results[\"accuracy\"].append(accuracy * 100)\n",
        "  results[\"recall\"].append(recall * 100)\n",
        "  results[\"precision\"].append(precision * 100)\n",
        "  results[\"f1_score\"].append(f1 * 100)\n",
        "\n",
        "# Print fold results\n",
        "print(f'GROUP K-FOLD CROSS VALIDATION RESULTS FOR {groupk_folds} FOLDS')\n",
        "print('--------------------------------')\n",
        "for metric, values in results.items():\n",
        "    print(f'{metric.capitalize()}:')\n",
        "    # for fold_idx, value in enumerate(values, 1):\n",
        "    #     print(f'  Fold {fold_idx}: {value:.2f}')\n",
        "    print(f'  Average: {np.mean(values):.2f}% (+/- {np.std(values):.2f}%)')"
      ]
    },
    {
      "cell_type": "code",
      "execution_count": 114,
      "metadata": {
        "colab": {
          "base_uri": "https://localhost:8080/",
          "height": 564
        },
        "id": "0mgp5rAfQvtP",
        "outputId": "3b33a487-0f00-462d-ae41-cb8f4bcfd85f"
      },
      "outputs": [
        {
          "data": {
            "image/png": "[encoded data removed]",
            "text/plain": [
              "<Figure size 864x432 with 1 Axes>"
            ]
          },
          "metadata": {
            "needs_background": "light"
          },
          "output_type": "display_data"
        }
      ],
      "source": [
        "# Plot loss per epoch\n",
        "plt.figure(figsize=(12, 6))\n",
        "for fold_losses in losses_per_epoch:\n",
        "    plt.plot(np.linspace(0, EPOCHS, EPOCHS*3), fold_losses, label=f'Fold {losses_per_epoch.index(fold_losses) + 1}')\n",
        "plt.xlabel('Epoch')\n",
        "plt.ylabel('Loss')\n",
        "plt.title('Loss per Epoch for each Fold')\n",
        "plt.legend()\n",
        "plt.savefig(f'{figures_exp_path}/losses')\n",
        "plt.show()"
      ]
    },
    {
      "cell_type": "code",
      "execution_count": 115,
      "metadata": {},
      "outputs": [
        {
          "data": {
            "image/png": "[encoded data removed]",
            "text/plain": [
              "<Figure size 864x432 with 1 Axes>"
            ]
          },
          "metadata": {
            "needs_background": "light"
          },
          "output_type": "display_data"
        }
      ],
      "source": [
        "# Plot accuracy per fold\n",
        "plt.figure(figsize=(12, 6))\n",
        "for metric, values in results.items():\n",
        "  plt.plot(range(1, groupk_folds + 1), values, label=f'{metric}')\n",
        "plt.xlabel('Fold')\n",
        "plt.ylabel('Metric (%)')\n",
        "plt.title('Metrics per Fold')\n",
        "plt.legend()\n",
        "plt.savefig(f'{figures_exp_path}/metrics')\n",
        "plt.show()"
      ]
    },
    {
      "cell_type": "code",
      "execution_count": 116,
      "metadata": {},
      "outputs": [
        {
          "data": {
            "image/png": "[encoded data removed]",
            "text/plain": [
              "<Figure size 1296x432 with 2 Axes>"
            ]
          },
          "metadata": {
            "needs_background": "light"
          },
          "output_type": "display_data"
        }
      ],
      "source": [
        "# Crear la figura y los subplots\n",
        "fig, (ax1, ax2) = plt.subplots(1, 2, figsize=(18, 6))\n",
        "\n",
        "# Plot 1: Loss per epoch\n",
        "for fold_losses in losses_per_epoch:\n",
        "    ax1.plot(np.linspace(0, EPOCHS, EPOCHS * 3), fold_losses, label=f'Fold {losses_per_epoch.index(fold_losses) + 1}')\n",
        "ax1.set_xlabel('Epoch')\n",
        "ax1.set_ylabel('Loss')\n",
        "ax1.set_title('Loss per Epoch for each Fold')\n",
        "ax1.legend()\n",
        "\n",
        "# Plot 2: Metrics per fold\n",
        "for metric, values in results.items():\n",
        "    ax2.plot(range(1, groupk_folds + 1), values, label=f'{metric}')\n",
        "ax2.set_xlabel('Fold')\n",
        "ax2.set_ylabel('Metric (%)')\n",
        "ax2.set_title('Metrics per Fold')\n",
        "ax2.legend()\n",
        "\n",
        "# Título principal\n",
        "fig.suptitle(f'Hyperparameters for this experiment: lr={LEARNING_RATE}, bs={BATCH_SIZE}, epochs={EPOCHS}')\n",
        "\n",
        "# Guardar y mostrar la figura\n",
        "plt.savefig(f'{figures_exp_path}/combined_metrics')\n",
        "plt.show()"
      ]
    }
  ],
  "metadata": {
    "accelerator": "GPU",
    "colab": {
      "gpuType": "T4",
      "provenance": []
    },
    "kernelspec": {
      "display_name": "Python 3",
      "name": "python3"
    },
    "language_info": {
      "codemirror_mode": {
        "name": "ipython",
        "version": 3
      },
      "file_extension": ".py",
      "mimetype": "text/x-python",
      "name": "python",
      "nbconvert_exporter": "python",
      "pygments_lexer": "ipython3",
      "version": "3.10.12"
    }
  },
  "nbformat": 4,
  "nbformat_minor": 0
}
