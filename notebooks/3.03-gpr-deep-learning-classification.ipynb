{
  "cells": [
    {
      "cell_type": "markdown",
      "metadata": {
        "id": "GYjq5aYppPwR"
      },
      "source": [
        "---\n",
        "\n",
        "\n",
        "\n",
        "# <font color='#ECA702'>**Análisis Multimodal de Síntomas en la Enfermedad de Parkinson**</font>"
      ]
    },
    {
      "cell_type": "code",
      "execution_count": 1,
      "metadata": {
        "cellView": "form",
        "id": "89BxmLrSpPwT"
      },
      "outputs": [],
      "source": [
        "#@title **Importar librerías**\n",
        "\n",
        "# Manipulación de datos\n",
        "import os\n",
        "import cv2\n",
        "import numpy as np\n",
        "import librosa\n",
        "import pandas as pd\n",
        "from zipfile import ZipFile\n",
        "\n",
        "# Pytorch essentials\n",
        "import torch\n",
        "import torch.nn as nn\n",
        "import torch.nn.functional as F\n",
        "\n",
        "# \n",
        "\n",
        "# Pytorch essentials for datasets.\n",
        "from torch.utils.data import Dataset, DataLoader, ConcatDataset\n",
        "\n",
        "# Utils\n",
        "import matplotlib.pyplot as plt\n",
        "from tqdm import tqdm\n",
        "\n",
        "# sklearn\n",
        "from sklearn.model_selection import GroupKFold"
      ]
    },
    {
      "cell_type": "code",
      "execution_count": 2,
      "metadata": {
        "cellView": "form",
        "colab": {
          "base_uri": "https://localhost:8080/"
        },
        "id": "7kyzPDeVpPwU",
        "outputId": "fcb0f7b2-6c6e-4dec-b5e3-1fc11be9da49"
      },
      "outputs": [
        {
          "name": "stdout",
          "output_type": "stream",
          "text": [
            "Mounted at /content/drive\n",
            "/content/drive/.shortcut-targets-by-id/1XRruCPRodR4OhRCRZYKsyODqa_GuBkfC/data_parkinson\n"
          ]
        }
      ],
      "source": [
        "#@title **Cargamos los datos desde Drive**\n",
        "\n",
        "from google.colab import drive\n",
        "drive.mount('/content/drive')\n",
        "os.chdir('/content/drive/My Drive/data_parkinson')\n",
        "print(os.getcwd())"
      ]
    },
    {
      "cell_type": "code",
      "execution_count": null,
      "metadata": {},
      "outputs": [],
      "source": [
        "#@title **Extraer el zip**\n",
        "\n",
        "target_path = os.path.join('../../../..') # Aquí es donde van a quedar los datos\n",
        "# deben quedar fuera de drive para poder acceder a ellos 'localmente'\n",
        "\n",
        "# Unzip the downloaded files\n",
        "zip_file_path = os.path.join('AudioVisualData_v7.zip')\n",
        "with ZipFile(zip_file_path, 'r') as zip_ref:\n",
        "    zip_ref.extractall(target_path)\n",
        "\n",
        "%cd ../../../.. # Me muevo hasta donde quedaron los datos\n",
        "%ls # Verifico"
      ]
    },
    {
      "cell_type": "markdown",
      "metadata": {
        "id": "AI_cmB-BpPwU"
      },
      "source": [
        "## <font color='#4C5FDA'>**Procesamiento del dataset**</font>"
      ]
    },
    {
      "cell_type": "markdown",
      "metadata": {
        "id": "aD0Bee8VqyYi"
      },
      "source": [
        "### <font color='#52F17F'>**Creación del Dataset Pandas auxiliar**</font>"
      ]
    },
    {
      "cell_type": "code",
      "execution_count": 2,
      "metadata": {
        "colab": {
          "base_uri": "https://localhost:8080/",
          "height": 238
        },
        "id": "2mB_EpmMqxm-",
        "outputId": "6394332c-d882-46e5-b59f-c6dc48728a89"
      },
      "outputs": [
        {
          "data": {
            "text/html": [
              "<div>\n",
              "<style scoped>\n",
              "    .dataframe tbody tr th:only-of-type {\n",
              "        vertical-align: middle;\n",
              "    }\n",
              "\n",
              "    .dataframe tbody tr th {\n",
              "        vertical-align: top;\n",
              "    }\n",
              "\n",
              "    .dataframe thead th {\n",
              "        text-align: right;\n",
              "    }\n",
              "</style>\n",
              "<table border=\"1\" class=\"dataframe\">\n",
              "  <thead>\n",
              "    <tr style=\"text-align: right;\">\n",
              "      <th></th>\n",
              "      <th>audio_path</th>\n",
              "      <th>frames_path</th>\n",
              "      <th>label</th>\n",
              "      <th>flatten_log_mel_spectogram</th>\n",
              "    </tr>\n",
              "    <tr>\n",
              "      <th>patient</th>\n",
              "      <th></th>\n",
              "      <th></th>\n",
              "      <th></th>\n",
              "      <th></th>\n",
              "    </tr>\n",
              "  </thead>\n",
              "  <tbody>\n",
              "    <tr>\n",
              "      <th>C2</th>\n",
              "      <td>AudioVisualData_v7/Control/C2/Vowels/audio/C2-...</td>\n",
              "      <td>AudioVisualData_v7/Control/C2/Vowels/frames/C2...</td>\n",
              "      <td>0.0</td>\n",
              "      <td>[-60.66636657714844, -19.715749740600586, -24....</td>\n",
              "    </tr>\n",
              "    <tr>\n",
              "      <th>C2</th>\n",
              "      <td>AudioVisualData_v7/Control/C2/Vowels/audio/C2-...</td>\n",
              "      <td>AudioVisualData_v7/Control/C2/Vowels/frames/C2...</td>\n",
              "      <td>0.0</td>\n",
              "      <td>[-61.8838005065918, -28.279430389404297, -28.8...</td>\n",
              "    </tr>\n",
              "    <tr>\n",
              "      <th>C2</th>\n",
              "      <td>AudioVisualData_v7/Control/C2/Vowels/audio/C2-...</td>\n",
              "      <td>AudioVisualData_v7/Control/C2/Vowels/frames/C2...</td>\n",
              "      <td>0.0</td>\n",
              "      <td>[-59.091400146484375, -25.001014709472656, -28...</td>\n",
              "    </tr>\n",
              "    <tr>\n",
              "      <th>C2</th>\n",
              "      <td>AudioVisualData_v7/Control/C2/Vowels/audio/C2-...</td>\n",
              "      <td>AudioVisualData_v7/Control/C2/Vowels/frames/C2...</td>\n",
              "      <td>0.0</td>\n",
              "      <td>[-60.556915283203125, -20.145050048828125, -20...</td>\n",
              "    </tr>\n",
              "    <tr>\n",
              "      <th>C2</th>\n",
              "      <td>AudioVisualData_v7/Control/C2/Vowels/audio/C2-...</td>\n",
              "      <td>AudioVisualData_v7/Control/C2/Vowels/frames/C2...</td>\n",
              "      <td>0.0</td>\n",
              "      <td>[-69.82708740234375, -20.313282012939453, -26....</td>\n",
              "    </tr>\n",
              "  </tbody>\n",
              "</table>\n",
              "</div>"
            ],
            "text/plain": [
              "                                                audio_path  \\\n",
              "patient                                                      \n",
              "C2       AudioVisualData_v7/Control/C2/Vowels/audio/C2-...   \n",
              "C2       AudioVisualData_v7/Control/C2/Vowels/audio/C2-...   \n",
              "C2       AudioVisualData_v7/Control/C2/Vowels/audio/C2-...   \n",
              "C2       AudioVisualData_v7/Control/C2/Vowels/audio/C2-...   \n",
              "C2       AudioVisualData_v7/Control/C2/Vowels/audio/C2-...   \n",
              "\n",
              "                                               frames_path  label  \\\n",
              "patient                                                             \n",
              "C2       AudioVisualData_v7/Control/C2/Vowels/frames/C2...    0.0   \n",
              "C2       AudioVisualData_v7/Control/C2/Vowels/frames/C2...    0.0   \n",
              "C2       AudioVisualData_v7/Control/C2/Vowels/frames/C2...    0.0   \n",
              "C2       AudioVisualData_v7/Control/C2/Vowels/frames/C2...    0.0   \n",
              "C2       AudioVisualData_v7/Control/C2/Vowels/frames/C2...    0.0   \n",
              "\n",
              "                                flatten_log_mel_spectogram  \n",
              "patient                                                     \n",
              "C2       [-60.66636657714844, -19.715749740600586, -24....  \n",
              "C2       [-61.8838005065918, -28.279430389404297, -28.8...  \n",
              "C2       [-59.091400146484375, -25.001014709472656, -28...  \n",
              "C2       [-60.556915283203125, -20.145050048828125, -20...  \n",
              "C2       [-69.82708740234375, -20.313282012939453, -26....  "
            ]
          },
          "execution_count": 2,
          "metadata": {},
          "output_type": "execute_result"
        }
      ],
      "source": [
        "data = pd.read_csv(\"../data/data.csv\", index_col='patient')\n",
        "\n",
        "def string2array(string: str):\n",
        "  \"\"\" Convierte un string con datos a numpy array \"\"\"\n",
        "  string = string.strip('[]')\n",
        "  return np.fromstring(string, sep=',')\n",
        "\n",
        "data['flatten_log_mel_spectogram'] = data['flatten_log_mel_spectogram'].apply(string2array)\n",
        "data.head()"
      ]
    },
    {
      "cell_type": "markdown",
      "metadata": {
        "id": "j_gRyCKHpPwZ"
      },
      "source": [
        "### <font color='#52F17F'>**Creación del Dataset PyTorch**</font>"
      ]
    },
    {
      "cell_type": "code",
      "execution_count": 5,
      "metadata": {
        "id": "_kEXiniXpPwV"
      },
      "outputs": [],
      "source": [
        "\"\"\"\n",
        "Constante sacada de la media de cantidad de frames de todos los vídeos multiplicada por 0.1\n",
        "para tener el 10%\n",
        "\"\"\"\n",
        "\n",
        "FRAMES_PROMEDIO = 14"
      ]
    },
    {
      "cell_type": "code",
      "execution_count": 37,
      "metadata": {
        "id": "8OL_3J7jpPwZ"
      },
      "outputs": [],
      "source": [
        "class PatientDataset(Dataset):\n",
        "  def __init__(self, dataframe, n_frames = FRAMES_PROMEDIO):\n",
        "    self.dataframe = dataframe\n",
        "    # self.transform = transform\n",
        "    self.n_frames = n_frames\n",
        "    # self.audios = sorted(os.listdir(audio_dir)) # Listamos todas las imagenes en la carpeta\n",
        "\n",
        "  def __len__(self):\n",
        "    return len(self.dataframe)\n",
        "\n",
        "  def __getitem__(self, index):\n",
        "\n",
        "    \"\"\" Carga de la imagen \"\"\"\n",
        "\n",
        "    # Entramos a la carpeta y conseguimos el audio de la lista\n",
        "    # audio_path = os.path.join(self.audio_dir, self.audios[index])\n",
        "    # audio_path = os.path.join(self.dataframe['audio_path'][index])\n",
        "\n",
        "    # Leemos el audio\n",
        "    audio = self.dataframe['flatten_log_mel_spectogram'][index].astype(np.float32)\n",
        "    audio = audio.reshape((90, 10))\n",
        "    audio = torch.from_numpy(audio).unsqueeze(0)\n",
        "\n",
        "    \"\"\" Carga de los frames \"\"\"\n",
        "\n",
        "    # Entramos a la carpeta y conseguimos los frames de la lista.\n",
        "      # La razon por la que uso la misma lista de audios es porque el audio y el vídeo\n",
        "      # tienen el mismo nombre, solo cambia la ruta de la carpeta y la extensión.\n",
        "    \"\"\" audios: AudioVisualData_v7/Control/C0/Phonemes/audio/C0-1-Pakata.mp3 \"\"\"\n",
        "    \"\"\" vídeo: AudioVisualData_v7/Control/C0/Phonemes/frames/C0-1-Pakata.mov \"\"\"\n",
        "    video_path = os.path.join(self.dataframe['frames_path'][index])\n",
        "    # video_path = os.path.join(self.video_dir, self.audios[index].replace(\".mp3\", \".mov\"))\n",
        "\n",
        "    frames_path = sorted(os.listdir(video_path))[:self.n_frames]\n",
        "    frames = []\n",
        "    for frame in frames_path:\n",
        "      frame_path = os.path.join(self.dataframe['frames_path'][index], frame)\n",
        "      # print(frame_path)\n",
        "      frame = cv2.imread(frame_path, cv2.IMREAD_GRAYSCALE)\n",
        "      frame = cv2.resize(frame, (112, 112)) # Resize a 112x112\n",
        "      frame = frame / 255. # Normalizamos entre 0 y 1\n",
        "      frames.append(frame)\n",
        "\n",
        "    frames = np.expand_dims(np.stack(frames), axis=1).astype('float32')\n",
        "    frames = frames.transpose(1, 0, 2, 3)\n",
        "    frames = torch.from_numpy(frames)\n",
        "\n",
        "    \"\"\" Consiguiendo el label \"\"\"\n",
        "\n",
        "    # Para conseguir la etiqueta simplemente me tengo que fijar en la ruta. Si es 'Parkinson' 1\n",
        "    # sino 0.\n",
        "\n",
        "    label = 1 if 'Parkinson' in self.dataframe['audio_path'][index] else 0\n",
        "\n",
        "    return audio, frames, label"
      ]
    },
    {
      "cell_type": "code",
      "execution_count": 38,
      "metadata": {
        "colab": {
          "base_uri": "https://localhost:8080/"
        },
        "id": "9hYyG5ZSpPwa",
        "outputId": "ea5c385a-82af-443a-b94b-36e8bbfd8975"
      },
      "outputs": [
        {
          "name": "stdout",
          "output_type": "stream",
          "text": [
            "1091\n",
            "torch.Size([1, 90, 10]) torch.Size([1, 14, 112, 112]) 0\n"
          ]
        }
      ],
      "source": [
        "complete_dataset = PatientDataset(data)\n",
        "print(complete_dataset.__len__())\n",
        "print(complete_dataset[0][0].shape, complete_dataset[0][1].shape , complete_dataset[0][2])"
      ]
    },
    {
      "cell_type": "markdown",
      "metadata": {},
      "source": [
        "### <font color='#52F17F'>**Visualización de los datos**</font>"
      ]
    },
    {
      "cell_type": "code",
      "execution_count": 39,
      "metadata": {},
      "outputs": [],
      "source": [
        "def plot_frame_strip(frames, rows=2, cols=7):\n",
        "    \"\"\"\n",
        "    Hace un plot de la tira de frames en una matriz de imágenes.\n",
        "\n",
        "    Args:\n",
        "        frames (np.ndarray): Tensor de frames con forma (num_frames, height, width, channels).\n",
        "        rows (int): Número de filas en la tira de frames.\n",
        "        cols (int): Número de columnas en la tira de frames.\n",
        "    \"\"\"\n",
        "    fig, axes = plt.subplots(rows, cols, figsize=(20, 6))\n",
        "\n",
        "    for i in range(rows):\n",
        "        for j in range(cols):\n",
        "            idx = i * cols + j\n",
        "            if idx < len(frames):\n",
        "                axes[i, j].imshow(frames[idx], cmap='gray')\n",
        "                axes[i, j].axis('off')\n",
        "                axes[i, j].set_title(f\"Frame: {idx}\")\n",
        "    plt.show()"
      ]
    },
    {
      "cell_type": "code",
      "execution_count": null,
      "metadata": {},
      "outputs": [],
      "source": [
        "plot_frame_strip(complete_dataset[0][1].squeeze(0).numpy())"
      ]
    },
    {
      "cell_type": "code",
      "execution_count": 40,
      "metadata": {},
      "outputs": [
        {
          "data": {
            "text/plain": [
              "(90, 10)"
            ]
          },
          "execution_count": 40,
          "metadata": {},
          "output_type": "execute_result"
        }
      ],
      "source": [
        "complete_dataset[0][0].squeeze(0).numpy().reshape((90, 10)).shape"
      ]
    },
    {
      "cell_type": "code",
      "execution_count": 41,
      "metadata": {},
      "outputs": [
        {
          "data": {
            "image/png": "[encoded data removed]",
            "text/plain": [
              "<Figure size 1800x720 with 2 Axes>"
            ]
          },
          "metadata": {
            "needs_background": "light"
          },
          "output_type": "display_data"
        }
      ],
      "source": [
        "plt.figure(figsize=(25,10))\n",
        "librosa.display.specshow(complete_dataset[0][0].squeeze(0).numpy(), y_axis='mel', x_axis='time', sr=48000)\n",
        "plt.colorbar(format=\"%+2.f dB\")\n",
        "plt.show()"
      ]
    },
    {
      "cell_type": "markdown",
      "metadata": {
        "id": "0f3z4R6jpPwb"
      },
      "source": [
        "### <font color='#52F17F'>**Partición de los datos**</font>"
      ]
    },
    {
      "cell_type": "code",
      "execution_count": 42,
      "metadata": {
        "id": "ZT6iQ5vspPwb"
      },
      "outputs": [],
      "source": [
        "# Extraer los datos para GroupKFold https://discuss.pytorch.org/t/custom-datatype-for-many-images-to-one-label/87629\n",
        "X = [i for i in range(len(data))]\n",
        "y = data['label'].values\n",
        "groups = data.index.values"
      ]
    },
    {
      "cell_type": "code",
      "execution_count": 43,
      "metadata": {
        "colab": {
          "base_uri": "https://localhost:8080/"
        },
        "id": "C1R5D3F0pPwb",
        "outputId": "aba89d37-0c23-4793-96ea-605880458044"
      },
      "outputs": [
        {
          "name": "stdout",
          "output_type": "stream",
          "text": [
            "División 1:\n",
            "  Pacientes en entrenamiento: ['C0' 'C1' 'C2' 'C3' 'C4' 'C6' 'P0' 'P1' 'P4' 'P5' 'P6' 'P7']\n",
            "  Pacientes en prueba: ['C5' 'P8']\n",
            "  Número de pacientes en entrenamiento: 12\n",
            "  Número de pacientes en prueba: 2\n",
            "\n",
            "División 2:\n",
            "  Pacientes en entrenamiento: ['C0' 'C1' 'C2' 'C3' 'C5' 'C6' 'P0' 'P1' 'P4' 'P5' 'P6' 'P8']\n",
            "  Pacientes en prueba: ['C4' 'P7']\n",
            "  Número de pacientes en entrenamiento: 12\n",
            "  Número de pacientes en prueba: 2\n",
            "\n",
            "División 3:\n",
            "  Pacientes en entrenamiento: ['C0' 'C1' 'C2' 'C4' 'C5' 'C6' 'P0' 'P1' 'P4' 'P5' 'P7' 'P8']\n",
            "  Pacientes en prueba: ['C3' 'P6']\n",
            "  Número de pacientes en entrenamiento: 12\n",
            "  Número de pacientes en prueba: 2\n",
            "\n",
            "División 4:\n",
            "  Pacientes en entrenamiento: ['C0' 'C1' 'C3' 'C4' 'C5' 'C6' 'P0' 'P1' 'P4' 'P6' 'P7' 'P8']\n",
            "  Pacientes en prueba: ['C2' 'P5']\n",
            "  Número de pacientes en entrenamiento: 12\n",
            "  Número de pacientes en prueba: 2\n",
            "\n",
            "División 5:\n",
            "  Pacientes en entrenamiento: ['C0' 'C2' 'C3' 'C4' 'C5' 'C6' 'P0' 'P1' 'P5' 'P6' 'P7' 'P8']\n",
            "  Pacientes en prueba: ['C1' 'P4']\n",
            "  Número de pacientes en entrenamiento: 12\n",
            "  Número de pacientes en prueba: 2\n",
            "\n",
            "División 6:\n",
            "  Pacientes en entrenamiento: ['C1' 'C2' 'C3' 'C4' 'C5' 'C6' 'P0' 'P4' 'P5' 'P6' 'P7' 'P8']\n",
            "  Pacientes en prueba: ['C0' 'P1']\n",
            "  Número de pacientes en entrenamiento: 12\n",
            "  Número de pacientes en prueba: 2\n",
            "\n",
            "División 7:\n",
            "  Pacientes en entrenamiento: ['C0' 'C1' 'C2' 'C3' 'C4' 'C5' 'P1' 'P4' 'P5' 'P6' 'P7' 'P8']\n",
            "  Pacientes en prueba: ['C6' 'P0']\n",
            "  Número de pacientes en entrenamiento: 12\n",
            "  Número de pacientes en prueba: 2\n",
            "\n"
          ]
        }
      ],
      "source": [
        "groupk_folds = 7\n",
        "gkf = GroupKFold(n_splits=groupk_folds)\n",
        "# Realizar la validación cruzada por grupos\n",
        "for i, (train_index, test_index) in enumerate(gkf.split(X, y, groups), 1):\n",
        "    train_groups = groups[train_index]\n",
        "    test_groups = groups[test_index]\n",
        "\n",
        "    print(f\"División {i}:\")\n",
        "    print(\"  Pacientes en entrenamiento:\", np.unique(train_groups))\n",
        "    print(\"  Pacientes en prueba:\", np.unique(test_groups))\n",
        "    print(\"  Número de pacientes en entrenamiento:\", len(np.unique(train_groups)))\n",
        "    print(\"  Número de pacientes en prueba:\", len(np.unique(test_groups)))\n",
        "    print()"
      ]
    },
    {
      "cell_type": "markdown",
      "metadata": {
        "id": "WVi02_rZpPwb"
      },
      "source": [
        "## <font color='#ECA702'>**Modelo CNN**</font>"
      ]
    },
    {
      "cell_type": "markdown",
      "metadata": {
        "id": "irytALTWpPwb"
      },
      "source": [
        "### <font color='#52F17F'>**Creando el modelo**</font>"
      ]
    },
    {
      "cell_type": "code",
      "execution_count": 44,
      "metadata": {
        "id": "VZiQoJ_rpPwb"
      },
      "outputs": [],
      "source": [
        "class AudioModule(nn.Module):\n",
        "  def __init__(self, n_channels, n_classes):\n",
        "    super().__init__()\n",
        "    self.conv1 = nn.Conv2d(n_channels, 32, 3, padding=1)\n",
        "    self.conv2 = nn.Conv2d(32, 64, 3, padding=1)\n",
        "    self.pool = nn.MaxPool2d(2)\n",
        "    self.fc1 = nn.Linear(64, 32)\n",
        "    self.gap = nn.AdaptiveAvgPool2d(1)\n",
        "\n",
        "  def forward(self, x):\n",
        "    x = F.relu(self.conv1(x))\n",
        "    x = self.pool(F.relu(self.conv2(x)))\n",
        "    x = self.gap(x)\n",
        "    x = torch.flatten(x, 1) # flatten all dimensions except batch\n",
        "    x = F.relu(self.fc1(x))\n",
        "    return x"
      ]
    },
    {
      "cell_type": "code",
      "execution_count": 45,
      "metadata": {
        "colab": {
          "base_uri": "https://localhost:8080/"
        },
        "id": "yjJuKihMpPwc",
        "outputId": "d426437b-6788-49bb-cc15-e34db0dd7d5a"
      },
      "outputs": [
        {
          "name": "stdout",
          "output_type": "stream",
          "text": [
            "Entrada: torch.Size([1, 1, 90, 10])\n",
            "Salida: torch.Size([1, 32])\n"
          ]
        }
      ],
      "source": [
        "# Test al modelo, para ver si nos entrega la salida esperada\n",
        "\n",
        "n_channels = 1\n",
        "n_classes = 2\n",
        "input_audio = complete_dataset[0][0].unsqueeze(0)\n",
        "print(f\"Entrada: {input_audio.size()}\")\n",
        "\n",
        "model = AudioModule(n_channels=n_channels, n_classes=n_classes)\n",
        "ouput = model(input_audio)\n",
        "print(f\"Salida: {ouput.size()}\")"
      ]
    },
    {
      "cell_type": "code",
      "execution_count": 46,
      "metadata": {
        "id": "pkgvMWDZpPwc"
      },
      "outputs": [],
      "source": [
        "class VideoModule(nn.Module):\n",
        "  def __init__(self, n_channels, n_classes):\n",
        "    super().__init__()\n",
        "    self.conv1 = nn.Conv3d(n_channels, 32, 3, padding=1)\n",
        "    self.conv2 = nn.Conv3d(32, 64, 3, padding=1)\n",
        "    self.pool = nn.MaxPool3d(2)\n",
        "    self.gap = nn.AdaptiveAvgPool2d(1)\n",
        "    self.fc1 = nn.Linear(64 * 7, 32)\n",
        "\n",
        "  def forward(self, x):\n",
        "    x = F.relu(self.conv1(x))\n",
        "    x = self.pool(F.relu(self.conv2(x)))\n",
        "    x = self.gap(x)\n",
        "    x = torch.flatten(x, 1) # flatten all dimensions except batch\n",
        "    x = F.relu(self.fc1(x))\n",
        "    return x"
      ]
    },
    {
      "cell_type": "code",
      "execution_count": 47,
      "metadata": {
        "colab": {
          "base_uri": "https://localhost:8080/"
        },
        "id": "ZirEFYHUpPwc",
        "outputId": "eb01a580-0b13-4910-8f76-2aee11c58053"
      },
      "outputs": [
        {
          "name": "stdout",
          "output_type": "stream",
          "text": [
            "Entrada: (torch.Size([1, 1, 14, 112, 112]), torch.float32)\n",
            "Salida: torch.Size([1, 32])\n"
          ]
        }
      ],
      "source": [
        "# Test al modelo, para ver si nos entrega la salida esperada\n",
        "\n",
        "n_channels = 1\n",
        "n_classes = 2\n",
        "input_video = complete_dataset[0][1].unsqueeze(0)\n",
        "print(f\"Entrada: {input_video.size(), input_video.dtype}\")\n",
        "\n",
        "model = VideoModule(n_channels=n_channels, n_classes=n_classes)\n",
        "ouput = model(input_video)\n",
        "print(f\"Salida: {ouput.size()}\")"
      ]
    },
    {
      "cell_type": "code",
      "execution_count": 48,
      "metadata": {
        "id": "6Safw_JEpPwc"
      },
      "outputs": [],
      "source": [
        "class MultimodalModel(nn.Module):\n",
        "    def __init__(self, n_channels, n_classes):\n",
        "        super().__init__()\n",
        "        self.audio_model = AudioModule(n_channels, n_classes)\n",
        "        self.video_model = VideoModule(n_channels, n_classes)\n",
        "        self.fc1 = nn.Linear(32 * 2, 32)\n",
        "        self.fc2 = nn.Linear(32, 2)  # Suponiendo que es una tarea de clasificación binaria\n",
        "\n",
        "    def forward(self, audio, video):\n",
        "        audio_features = self.audio_model(audio)\n",
        "        video_features = self.video_model(video)\n",
        "        combined = torch.cat((audio_features, video_features), dim=1)\n",
        "        x = F.relu(self.fc1(combined))\n",
        "        x = self.fc2(x)\n",
        "        return x"
      ]
    },
    {
      "cell_type": "code",
      "execution_count": 49,
      "metadata": {
        "colab": {
          "base_uri": "https://localhost:8080/"
        },
        "id": "wJHuZqJhpPwc",
        "outputId": "962882dd-f183-4f73-a2c9-7257ba9e2e94"
      },
      "outputs": [
        {
          "name": "stdout",
          "output_type": "stream",
          "text": [
            "Entrada audio: (torch.Size([1, 1, 90, 10]), torch.float32)\n",
            "Entrada video: (torch.Size([1, 1, 14, 112, 112]), torch.float32)\n",
            "Salida: torch.Size([1, 2])\n"
          ]
        }
      ],
      "source": [
        "# Test al modelo, para ver si nos entrega la salida esperada\n",
        "\n",
        "n_channels = 1\n",
        "n_classes = 2\n",
        "input_audio = complete_dataset[0][0].unsqueeze(0)\n",
        "input_video = complete_dataset[0][1].unsqueeze(0)\n",
        "print(f\"Entrada audio: {input_audio.size(), input_audio.dtype}\")\n",
        "print(f\"Entrada video: {input_video.size(), input_video.dtype}\")\n",
        "\n",
        "model = MultimodalModel(n_channels=n_channels, n_classes=n_classes)\n",
        "ouput = model(input_audio, input_video)\n",
        "print(f\"Salida: {ouput.size()}\")"
      ]
    },
    {
      "cell_type": "markdown",
      "metadata": {
        "id": "86Oqu4j5pPwd"
      },
      "source": [
        "### <font color='#52F17F'>**Entrenamiento del modelo**</font>"
      ]
    },
    {
      "cell_type": "code",
      "execution_count": 53,
      "metadata": {
        "id": "njKMV7L_pPwd"
      },
      "outputs": [],
      "source": [
        "# Hiperparametros\n",
        "LEARNING_RATE = 1e-4\n",
        "DEVICE = \"cuda\" if torch.cuda.is_available() else \"cpu\"\n",
        "BATCH_SIZE = 1"
      ]
    },
    {
      "cell_type": "code",
      "execution_count": 54,
      "metadata": {
        "id": "-WHkwzRDpPwd"
      },
      "outputs": [],
      "source": [
        "# For fold results\n",
        "results = {}"
      ]
    },
    {
      "cell_type": "code",
      "execution_count": 55,
      "metadata": {
        "colab": {
          "base_uri": "https://localhost:8080/",
          "height": 426
        },
        "id": "lFRWKFphpPwd",
        "outputId": "7372800b-1e5a-4375-8cda-df970441d471"
      },
      "outputs": [
        {
          "name": "stdout",
          "output_type": "stream",
          "text": [
            "FOLD 1\n",
            "--------------------------------\n",
            "EPOCH 1\n"
          ]
        },
        {
          "name": "stderr",
          "output_type": "stream",
          "text": [
            "  0%|          | 0/935 [00:00<?, ?it/s]"
          ]
        },
        {
          "name": "stderr",
          "output_type": "stream",
          "text": [
            " 22%|██▏       | 204/935 [00:10<00:36, 20.14it/s]"
          ]
        },
        {
          "name": "stdout",
          "output_type": "stream",
          "text": [
            "batch   200 loss: 0.701\n"
          ]
        },
        {
          "name": "stderr",
          "output_type": "stream",
          "text": [
            " 43%|████▎     | 403/935 [00:20<00:26, 19.98it/s]"
          ]
        },
        {
          "name": "stdout",
          "output_type": "stream",
          "text": [
            "batch   400 loss: 0.687\n"
          ]
        },
        {
          "name": "stderr",
          "output_type": "stream",
          "text": [
            " 64%|██████▍   | 602/935 [00:30<00:16, 19.86it/s]"
          ]
        },
        {
          "name": "stdout",
          "output_type": "stream",
          "text": [
            "batch   600 loss: 0.705\n"
          ]
        },
        {
          "name": "stderr",
          "output_type": "stream",
          "text": [
            " 86%|████████▌ | 802/935 [00:40<00:06, 19.83it/s]"
          ]
        },
        {
          "name": "stdout",
          "output_type": "stream",
          "text": [
            "batch   800 loss: 0.693\n"
          ]
        },
        {
          "name": "stderr",
          "output_type": "stream",
          "text": [
            "100%|██████████| 935/935 [00:47<00:00, 19.89it/s]"
          ]
        },
        {
          "name": "stdout",
          "output_type": "stream",
          "text": [
            "Training process has finished. Saving trained model.\n",
            "Starting testing\n"
          ]
        },
        {
          "name": "stderr",
          "output_type": "stream",
          "text": [
            "\n"
          ]
        },
        {
          "name": "stdout",
          "output_type": "stream",
          "text": [
            "Accuracy for fold 1: 50 %\n",
            "--------------------------------\n",
            "FOLD 2\n",
            "--------------------------------\n",
            "EPOCH 1\n"
          ]
        },
        {
          "name": "stderr",
          "output_type": "stream",
          "text": [
            " 22%|██▏       | 203/935 [00:10<00:37, 19.72it/s]"
          ]
        },
        {
          "name": "stdout",
          "output_type": "stream",
          "text": [
            "batch   200 loss: 0.720\n"
          ]
        },
        {
          "name": "stderr",
          "output_type": "stream",
          "text": [
            " 43%|████▎     | 403/935 [00:20<00:26, 19.74it/s]"
          ]
        },
        {
          "name": "stdout",
          "output_type": "stream",
          "text": [
            "batch   400 loss: 0.697\n"
          ]
        },
        {
          "name": "stderr",
          "output_type": "stream",
          "text": [
            " 64%|██████▍   | 603/935 [00:30<00:16, 19.67it/s]"
          ]
        },
        {
          "name": "stdout",
          "output_type": "stream",
          "text": [
            "batch   600 loss: 0.691\n"
          ]
        },
        {
          "name": "stderr",
          "output_type": "stream",
          "text": [
            " 86%|████████▌ | 803/935 [00:40<00:06, 19.77it/s]"
          ]
        },
        {
          "name": "stdout",
          "output_type": "stream",
          "text": [
            "batch   800 loss: 0.700\n"
          ]
        },
        {
          "name": "stderr",
          "output_type": "stream",
          "text": [
            "100%|██████████| 935/935 [00:47<00:00, 19.64it/s]"
          ]
        },
        {
          "name": "stdout",
          "output_type": "stream",
          "text": [
            "Training process has finished. Saving trained model.\n",
            "Starting testing\n"
          ]
        },
        {
          "name": "stderr",
          "output_type": "stream",
          "text": [
            "\n"
          ]
        },
        {
          "name": "stdout",
          "output_type": "stream",
          "text": [
            "Accuracy for fold 2: 50 %\n",
            "--------------------------------\n",
            "FOLD 3\n",
            "--------------------------------\n",
            "EPOCH 1\n"
          ]
        },
        {
          "name": "stderr",
          "output_type": "stream",
          "text": [
            " 22%|██▏       | 202/935 [00:10<00:37, 19.64it/s]"
          ]
        },
        {
          "name": "stdout",
          "output_type": "stream",
          "text": [
            "batch   200 loss: 0.723\n"
          ]
        },
        {
          "name": "stderr",
          "output_type": "stream",
          "text": [
            " 43%|████▎     | 402/935 [00:20<00:27, 19.61it/s]"
          ]
        },
        {
          "name": "stdout",
          "output_type": "stream",
          "text": [
            "batch   400 loss: 0.691\n"
          ]
        },
        {
          "name": "stderr",
          "output_type": "stream",
          "text": [
            " 64%|██████▍   | 602/935 [00:30<00:16, 19.62it/s]"
          ]
        },
        {
          "name": "stdout",
          "output_type": "stream",
          "text": [
            "batch   600 loss: 0.688\n"
          ]
        },
        {
          "name": "stderr",
          "output_type": "stream",
          "text": [
            " 86%|████████▌ | 802/935 [00:41<00:06, 19.53it/s]"
          ]
        },
        {
          "name": "stdout",
          "output_type": "stream",
          "text": [
            "batch   800 loss: 0.680\n"
          ]
        },
        {
          "name": "stderr",
          "output_type": "stream",
          "text": [
            "100%|██████████| 935/935 [00:47<00:00, 19.52it/s]"
          ]
        },
        {
          "name": "stdout",
          "output_type": "stream",
          "text": [
            "Training process has finished. Saving trained model.\n",
            "Starting testing\n"
          ]
        },
        {
          "name": "stderr",
          "output_type": "stream",
          "text": [
            "\n"
          ]
        },
        {
          "name": "stdout",
          "output_type": "stream",
          "text": [
            "Accuracy for fold 3: 7 %\n",
            "--------------------------------\n",
            "FOLD 4\n",
            "--------------------------------\n",
            "EPOCH 1\n"
          ]
        },
        {
          "name": "stderr",
          "output_type": "stream",
          "text": [
            " 22%|██▏       | 203/935 [00:10<00:37, 19.61it/s]"
          ]
        },
        {
          "name": "stdout",
          "output_type": "stream",
          "text": [
            "batch   200 loss: 0.710\n"
          ]
        },
        {
          "name": "stderr",
          "output_type": "stream",
          "text": [
            " 43%|████▎     | 403/935 [00:20<00:27, 19.56it/s]"
          ]
        },
        {
          "name": "stdout",
          "output_type": "stream",
          "text": [
            "batch   400 loss: 0.701\n"
          ]
        },
        {
          "name": "stderr",
          "output_type": "stream",
          "text": [
            " 64%|██████▍   | 603/935 [00:30<00:16, 19.57it/s]"
          ]
        },
        {
          "name": "stdout",
          "output_type": "stream",
          "text": [
            "batch   600 loss: 0.695\n"
          ]
        },
        {
          "name": "stderr",
          "output_type": "stream",
          "text": [
            " 86%|████████▌ | 803/935 [00:41<00:06, 19.51it/s]"
          ]
        },
        {
          "name": "stdout",
          "output_type": "stream",
          "text": [
            "batch   800 loss: 0.704\n"
          ]
        },
        {
          "name": "stderr",
          "output_type": "stream",
          "text": [
            "100%|██████████| 935/935 [00:47<00:00, 19.52it/s]"
          ]
        },
        {
          "name": "stdout",
          "output_type": "stream",
          "text": [
            "Training process has finished. Saving trained model.\n",
            "Starting testing\n"
          ]
        },
        {
          "name": "stderr",
          "output_type": "stream",
          "text": [
            "\n"
          ]
        },
        {
          "name": "stdout",
          "output_type": "stream",
          "text": [
            "Accuracy for fold 4: 50 %\n",
            "--------------------------------\n",
            "FOLD 5\n",
            "--------------------------------\n",
            "EPOCH 1\n"
          ]
        },
        {
          "name": "stderr",
          "output_type": "stream",
          "text": [
            " 22%|██▏       | 203/935 [00:10<00:37, 19.63it/s]"
          ]
        },
        {
          "name": "stdout",
          "output_type": "stream",
          "text": [
            "batch   200 loss: 0.719\n"
          ]
        },
        {
          "name": "stderr",
          "output_type": "stream",
          "text": [
            " 43%|████▎     | 403/935 [00:20<00:27, 19.49it/s]"
          ]
        },
        {
          "name": "stdout",
          "output_type": "stream",
          "text": [
            "batch   400 loss: 0.706\n"
          ]
        },
        {
          "name": "stderr",
          "output_type": "stream",
          "text": [
            " 64%|██████▍   | 603/935 [00:30<00:16, 19.59it/s]"
          ]
        },
        {
          "name": "stdout",
          "output_type": "stream",
          "text": [
            "batch   600 loss: 0.700\n"
          ]
        },
        {
          "name": "stderr",
          "output_type": "stream",
          "text": [
            " 86%|████████▌ | 803/935 [00:41<00:06, 19.60it/s]"
          ]
        },
        {
          "name": "stdout",
          "output_type": "stream",
          "text": [
            "batch   800 loss: 0.700\n"
          ]
        },
        {
          "name": "stderr",
          "output_type": "stream",
          "text": [
            "100%|██████████| 935/935 [00:47<00:00, 19.50it/s]"
          ]
        },
        {
          "name": "stdout",
          "output_type": "stream",
          "text": [
            "Training process has finished. Saving trained model.\n",
            "Starting testing\n"
          ]
        },
        {
          "name": "stderr",
          "output_type": "stream",
          "text": [
            "\n"
          ]
        },
        {
          "name": "stdout",
          "output_type": "stream",
          "text": [
            "Accuracy for fold 5: 50 %\n",
            "--------------------------------\n",
            "FOLD 6\n",
            "--------------------------------\n",
            "EPOCH 1\n"
          ]
        },
        {
          "name": "stderr",
          "output_type": "stream",
          "text": [
            " 22%|██▏       | 203/935 [00:10<00:37, 19.63it/s]"
          ]
        },
        {
          "name": "stdout",
          "output_type": "stream",
          "text": [
            "batch   200 loss: 0.729\n"
          ]
        },
        {
          "name": "stderr",
          "output_type": "stream",
          "text": [
            " 43%|████▎     | 403/935 [00:20<00:27, 19.53it/s]"
          ]
        },
        {
          "name": "stdout",
          "output_type": "stream",
          "text": [
            "batch   400 loss: 0.701\n"
          ]
        },
        {
          "name": "stderr",
          "output_type": "stream",
          "text": [
            " 64%|██████▍   | 603/935 [00:30<00:16, 19.58it/s]"
          ]
        },
        {
          "name": "stdout",
          "output_type": "stream",
          "text": [
            "batch   600 loss: 0.694\n"
          ]
        },
        {
          "name": "stderr",
          "output_type": "stream",
          "text": [
            " 86%|████████▌ | 803/935 [00:41<00:06, 19.62it/s]"
          ]
        },
        {
          "name": "stdout",
          "output_type": "stream",
          "text": [
            "batch   800 loss: 0.689\n"
          ]
        },
        {
          "name": "stderr",
          "output_type": "stream",
          "text": [
            "100%|██████████| 935/935 [00:47<00:00, 19.54it/s]"
          ]
        },
        {
          "name": "stdout",
          "output_type": "stream",
          "text": [
            "Training process has finished. Saving trained model.\n",
            "Starting testing\n"
          ]
        },
        {
          "name": "stderr",
          "output_type": "stream",
          "text": [
            "\n"
          ]
        },
        {
          "name": "stdout",
          "output_type": "stream",
          "text": [
            "Accuracy for fold 6: 48 %\n",
            "--------------------------------\n",
            "FOLD 7\n",
            "--------------------------------\n",
            "EPOCH 1\n"
          ]
        },
        {
          "name": "stderr",
          "output_type": "stream",
          "text": [
            " 22%|██▏       | 203/936 [00:10<00:37, 19.71it/s]"
          ]
        },
        {
          "name": "stdout",
          "output_type": "stream",
          "text": [
            "batch   200 loss: 0.708\n"
          ]
        },
        {
          "name": "stderr",
          "output_type": "stream",
          "text": [
            " 43%|████▎     | 403/936 [00:20<00:27, 19.63it/s]"
          ]
        },
        {
          "name": "stdout",
          "output_type": "stream",
          "text": [
            "batch   400 loss: 0.696\n"
          ]
        },
        {
          "name": "stderr",
          "output_type": "stream",
          "text": [
            " 64%|██████▍   | 603/936 [00:30<00:17, 19.34it/s]"
          ]
        },
        {
          "name": "stdout",
          "output_type": "stream",
          "text": [
            "batch   600 loss: 0.694\n"
          ]
        },
        {
          "name": "stderr",
          "output_type": "stream",
          "text": [
            " 86%|████████▌ | 803/936 [00:41<00:06, 19.69it/s]"
          ]
        },
        {
          "name": "stdout",
          "output_type": "stream",
          "text": [
            "batch   800 loss: 0.695\n"
          ]
        },
        {
          "name": "stderr",
          "output_type": "stream",
          "text": [
            "100%|██████████| 936/936 [00:47<00:00, 19.55it/s]"
          ]
        },
        {
          "name": "stdout",
          "output_type": "stream",
          "text": [
            "Training process has finished. Saving trained model.\n",
            "Starting testing\n"
          ]
        },
        {
          "name": "stderr",
          "output_type": "stream",
          "text": [
            "\n"
          ]
        },
        {
          "name": "stdout",
          "output_type": "stream",
          "text": [
            "Accuracy for fold 7: 49 %\n",
            "--------------------------------\n",
            "GroupK-FOLD CROSS VALIDATION RESULTS FOR 7 FOLDS\n",
            "--------------------------------\n",
            "Fold 0: 50.0 %\n",
            "Fold 1: 50.641025641025635 %\n",
            "Fold 2: 7.051282051282051 %\n",
            "Fold 3: 50.0 %\n",
            "Fold 4: 50.0 %\n",
            "Fold 5: 48.717948717948715 %\n",
            "Fold 6: 49.67741935483871 %\n",
            "Average: 43.72681082358502 %\n"
          ]
        }
      ],
      "source": [
        "# Loop encontrado y modificado de: https://github.com/christianversloot/machine-learning-articles/blob/main/how-to-use-k-fold-cross-validation-with-pytorch.md\n",
        "for fold, (train_ids, test_ids) in enumerate(gkf.split(X, y, groups)):\n",
        "\n",
        "  # Print\n",
        "  print(f'FOLD {fold+1}')\n",
        "  print('--------------------------------')\n",
        "\n",
        "  # Sample elements randomly from a given list of ids, no replacement.\n",
        "  train_subsampler = torch.utils.data.Subset(complete_dataset, train_ids)\n",
        "  test_subsampler = torch.utils.data.Subset(complete_dataset, test_ids)\n",
        "\n",
        "  # Define data loaders for training and testing data in this fold\n",
        "  trainloader = DataLoader(train_subsampler, batch_size=BATCH_SIZE, shuffle=True, num_workers=2)\n",
        "  testloader = DataLoader(test_subsampler, batch_size=BATCH_SIZE, shuffle=False, num_workers=2)\n",
        "\n",
        "  \"\"\" Parametros del modelo \"\"\"\n",
        "\n",
        "  # Creacion del modelo y lo movemos a la GPU o CPU\n",
        "  model = MultimodalModel(n_channels=1, n_classes=2)\n",
        "  model.to(DEVICE)\n",
        "\n",
        "  # Funcion de perdida (loss)\n",
        "  criterion = nn.CrossEntropyLoss()\n",
        "\n",
        "  # Algoritmos de optimización del gradiente\n",
        "  optimizer = torch.optim.Adam(model.parameters(), lr=LEARNING_RATE)\n",
        "\n",
        "  epoch_number = 0\n",
        "\n",
        "  EPOCHS = 1\n",
        "\n",
        "  for epoch in range(EPOCHS):  # loop over the dataset multiple times\n",
        "      print(f\"EPOCH {epoch_number + 1}\")\n",
        "\n",
        "      running_loss = 0.0\n",
        "      for i, data in enumerate(tqdm(trainloader, 0)):\n",
        "          # get the inputs; data is a list of [inputs, labels]\n",
        "          audios, videos, labels = data\n",
        "\n",
        "          # Movemos los datos al device\n",
        "          audios = audios.to(DEVICE)\n",
        "          videos = videos.to(DEVICE)\n",
        "          labels = labels.to(DEVICE)\n",
        "\n",
        "          # zero the parameter gradients\n",
        "          optimizer.zero_grad()\n",
        "\n",
        "          # forward + backward + optimize\n",
        "          outputs = model(audios, videos)\n",
        "          # print(ouputs.dtype)\n",
        "          loss = criterion(outputs, labels)\n",
        "          loss.backward()\n",
        "          optimizer.step()\n",
        "\n",
        "          # print statistics\n",
        "          running_loss += loss.item()\n",
        "          if i % 200 == 199:    # print every 100 mini-batches\n",
        "              print(f'batch {i + 1:5d} loss: {running_loss / 200:.3f}')\n",
        "              running_loss = 0.0\n",
        "      epoch_number += 1 # Pasamos a la siguiente época\n",
        "\n",
        "  # Process is complete.\n",
        "  print('Training process has finished. Saving trained model.')\n",
        "\n",
        "  # Print about testing\n",
        "  print('Starting testing')\n",
        "\n",
        "  # Saving the model\n",
        "  save_path = f'../models/model-fold-{fold}.pth'\n",
        "  torch.save(model.state_dict(), save_path)\n",
        "\n",
        "  # Evaluationfor this fold\n",
        "  correct, total = 0, 0\n",
        "  with torch.no_grad():\n",
        "\n",
        "    # Iterate over the test data and generate predictions\n",
        "    for i, data in enumerate(testloader, 0):\n",
        "\n",
        "      # Get inputs\n",
        "      audios, videos, labels = data\n",
        "\n",
        "      # Movemos los datos al device\n",
        "      audios = audios.to(DEVICE)\n",
        "      videos = videos.to(DEVICE)\n",
        "      labels = labels.to(DEVICE)\n",
        "\n",
        "      # Generate outputs\n",
        "      outputs = model(audios, videos)\n",
        "\n",
        "      # Set total and correct\n",
        "      _, predicted = torch.max(outputs.data, 1)\n",
        "      total += labels.size(0)\n",
        "      correct += (predicted == labels).sum().item()\n",
        "\n",
        "    # Print accuracy\n",
        "    print('Accuracy for fold %d: %d %%' % (fold+1, 100.0 * correct / total))\n",
        "    print('--------------------------------')\n",
        "    results[fold] = 100.0 * (correct / total)\n",
        "\n",
        "# Print fold results\n",
        "print(f'GroupK-FOLD CROSS VALIDATION RESULTS FOR {groupk_folds} FOLDS')\n",
        "print('--------------------------------')\n",
        "sum = 0.0\n",
        "for key, value in results.items():\n",
        "  print(f'Fold {key}: {value} %')\n",
        "  sum += value\n",
        "print(f'Average: {sum/len(results.items())} %')"
      ]
    },
    {
      "cell_type": "markdown",
      "metadata": {
        "id": "JINh8fFAu1Rv"
      },
      "source": [
        "## <font color='#4C5FDA'>**Anexos**</font>"
      ]
    },
    {
      "cell_type": "code",
      "execution_count": 48,
      "metadata": {
        "id": "KDI_GmFYpPwZ"
      },
      "outputs": [],
      "source": [
        "CONTROL_PATH = \"AudioVisualData_v7/Control\"\n",
        "PARKINSON_PATH = \"AudioVisualData_v7/Parkinson\""
      ]
    },
    {
      "cell_type": "code",
      "execution_count": 45,
      "metadata": {
        "colab": {
          "base_uri": "https://localhost:8080/"
        },
        "id": "J3a-_K8epPwa",
        "outputId": "0fe8eb49-48e1-4c7b-9905-5f4b9432d967"
      },
      "outputs": [
        {
          "name": "stdout",
          "output_type": "stream",
          "text": [
            "Cantidad de pacientes de control: 7.0\n",
            "Cantidad de audios de control: 546\n",
            "Cantidad de frames de control: 7644\n",
            "\n",
            "Cantidad de pacientes de parkinson: 7.0\n",
            "Cantidad de audios de parkinson: 545\n",
            "Cantidad de frames de parkinson: 7630\n"
          ]
        }
      ],
      "source": [
        "# Primero consigo la ruta de videos y audios para cada uno de los pacientes\n",
        "\n",
        "# groups = []\n",
        "\n",
        "dirs_control = []\n",
        "control_registros = 0\n",
        "for patient in os.listdir(CONTROL_PATH):\n",
        "  # groups.append(patient)\n",
        "  # print(patient)\n",
        "  for record_type in os.listdir(os.path.join(CONTROL_PATH, patient)):\n",
        "    # print(os.path.join(CONTROL_PATH, patient, record_type))\n",
        "    dirs_control.append(os.path.join(CONTROL_PATH, patient, record_type))\n",
        "    _, _, files = next(os.walk(os.path.join(CONTROL_PATH, patient, record_type, \"audio\")))\n",
        "    # print(files)\n",
        "    control_registros += len(files)\n",
        "\n",
        "dirs_parkinson = []\n",
        "parkinson_registros = 0\n",
        "for patient in os.listdir(PARKINSON_PATH):\n",
        "  # groups.append(patient)\n",
        "  # print(patient)\n",
        "  for record_type in os.listdir(os.path.join(PARKINSON_PATH, patient)):\n",
        "    #   print(os.path.join(PARKINSON_PATH, patient, record_type))\n",
        "    dirs_parkinson.append(os.path.join(PARKINSON_PATH, patient, record_type))\n",
        "    _, _, files = next(os.walk(os.path.join(PARKINSON_PATH, patient, record_type, \"audio\")))\n",
        "    parkinson_registros += len(files)\n",
        "\n",
        "# Imprimo la cantidad de pacientes y datos que tenemos\n",
        "print(f\"Cantidad de pacientes de control: {len(dirs_control)/3}\")\n",
        "print(f\"Cantidad de audios de control: {control_registros}\")\n",
        "print(f\"Cantidad de frames de control: {control_registros*14}\")\n",
        "print()\n",
        "print(f\"Cantidad de pacientes de parkinson: {len(dirs_parkinson)/3}\")\n",
        "print(f\"Cantidad de audios de parkinson: {parkinson_registros}\")\n",
        "print(f\"Cantidad de frames de parkinson: {parkinson_registros*14}\")"
      ]
    },
    {
      "cell_type": "code",
      "execution_count": null,
      "metadata": {
        "id": "QZu7CgYHpPwa"
      },
      "outputs": [],
      "source": [
        "control_datasets = []\n",
        "for patient in dirs_control:\n",
        "  folders = sorted(os.listdir(patient))\n",
        "  # print(folders)\n",
        "  control_datasets.append(PatientDataset(data,f\"{patient}/{folders[0]}\", f\"{patient}/{folders[1]}\"))\n",
        "\n",
        "parkinson_datasets = []\n",
        "for patient in dirs_parkinson:\n",
        "  folders = sorted(os.listdir(patient))\n",
        "  # print(folders)\n",
        "  parkinson_datasets.append(PatientDataset(data,f\"{patient}/{folders[0]}\", f\"{patient}/{folders[1]}\"))"
      ]
    },
    {
      "cell_type": "code",
      "execution_count": null,
      "metadata": {
        "id": "sDpnci2npPwa"
      },
      "outputs": [],
      "source": [
        "# Datasets (concatenate) https://stackoverflow.com/questions/60840500/pytorch-concatenating-datasets-before-using-dataloader\n",
        "control_dataset = torch.utils.data.ConcatDataset(control_datasets)\n",
        "parkinson_dataset = torch.utils.data.ConcatDataset(parkinson_datasets)"
      ]
    }
  ],
  "metadata": {
    "accelerator": "GPU",
    "colab": {
      "gpuType": "T4",
      "provenance": []
    },
    "kernelspec": {
      "display_name": "Python 3",
      "name": "python3"
    },
    "language_info": {
      "codemirror_mode": {
        "name": "ipython",
        "version": 3
      },
      "file_extension": ".py",
      "mimetype": "text/x-python",
      "name": "python",
      "nbconvert_exporter": "python",
      "pygments_lexer": "ipython3",
      "version": "3.10.12"
    }
  },
  "nbformat": 4,
  "nbformat_minor": 0
}
