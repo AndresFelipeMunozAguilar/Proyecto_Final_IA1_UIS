{
  "cells": [
    {
      "cell_type": "markdown",
      "metadata": {
        "id": "cMI12Zh7S80S"
      },
      "source": [
        "---\n",
        "\n",
        "\n",
        "\n",
        "# <font color='#ECA702'>**Análisis Multimodal de Síntomas en la Enfermedad de Parkinson**</font>"
      ]
    },
    {
      "cell_type": "code",
      "execution_count": 12,
      "metadata": {
        "cellView": "form",
        "id": "YB93rX9H8xHW"
      },
      "outputs": [],
      "source": [
        "#@title **Importar librerías**\n",
        "\n",
        "# Manipulación de datos\n",
        "import os\n",
        "import cv2\n",
        "import numpy as np\n",
        "import librosa\n",
        "import pandas as pd\n",
        "from zipfile import ZipFile\n",
        "\n",
        "# Utils\n",
        "from tqdm import tqdm"
      ]
    },
    {
      "cell_type": "code",
      "execution_count": 13,
      "metadata": {
        "cellView": "form",
        "colab": {
          "base_uri": "https://localhost:8080/"
        },
        "id": "5QefWSTrV_ez",
        "outputId": "f165f173-f024-4433-8971-11a0928a0699"
      },
      "outputs": [
        {
          "output_type": "stream",
          "name": "stdout",
          "text": [
            "Drive already mounted at /content/drive; to attempt to forcibly remount, call drive.mount(\"/content/drive\", force_remount=True).\n",
            "/content/drive/.shortcut-targets-by-id/1XRruCPRodR4OhRCRZYKsyODqa_GuBkfC/data_parkinson\n"
          ]
        }
      ],
      "source": [
        "#@title **Cargamos los datos desde Drive**\n",
        "\n",
        "from google.colab import drive\n",
        "drive.mount('/content/drive')\n",
        "os.chdir('/content/drive/My Drive/data_parkinson')\n",
        "print(os.getcwd())"
      ]
    },
    {
      "cell_type": "code",
      "execution_count": 15,
      "metadata": {
        "id": "TZRMtUqX3KfE",
        "outputId": "e00957da-472e-46be-923d-52b8532d738c",
        "colab": {
          "base_uri": "https://localhost:8080/"
        }
      },
      "outputs": [
        {
          "output_type": "stream",
          "name": "stdout",
          "text": [
            "/content/data\n",
            "\u001b[0m\u001b[01;34mAudioVisualData_v7\u001b[0m/  data.csv\n"
          ]
        }
      ],
      "source": [
        "#@title **Extraer el zip**\n",
        "\n",
        "os.mkdir('../../../../data')\n",
        "os.popen('cp data.csv ../../../../data/data.csv')\n",
        "target_path = os.path.join('../../../../data') # Aquí es donde van a quedar los datos\n",
        "# deben quedar fuera de drive para poder acceder a ellos 'localmente'\n",
        "\n",
        "# Unzip the downloaded files\n",
        "zip_file_path = os.path.join('AudioVisualData_v7.zip')\n",
        "with ZipFile(zip_file_path, 'r') as zip_ref:\n",
        "    zip_ref.extractall(target_path)\n",
        "\n",
        "# # Me muevo hasta donde quedaron los datos\n",
        "%cd ../../../../data\n",
        "# Verifico\n",
        "%ls"
      ]
    },
    {
      "cell_type": "markdown",
      "metadata": {
        "id": "mkEUN0INXmu-"
      },
      "source": [
        "# <font color='#4C5FDA'> **1. Creación del DataFrame**</color> <a name=\"tema2\">\n"
      ]
    },
    {
      "cell_type": "code",
      "execution_count": 16,
      "metadata": {
        "id": "ZRhr6FI13KfG",
        "outputId": "ee3b1996-baf0-44f1-bd6a-54f670ea752f",
        "colab": {
          "base_uri": "https://localhost:8080/",
          "height": 238
        }
      },
      "outputs": [
        {
          "output_type": "execute_result",
          "data": {
            "text/plain": [
              "                                                audio_path  \\\n",
              "patient                                                      \n",
              "C2       AudioVisualData_v7/Control/C2/Vowels/audio/C2-...   \n",
              "C2       AudioVisualData_v7/Control/C2/Vowels/audio/C2-...   \n",
              "C2       AudioVisualData_v7/Control/C2/Vowels/audio/C2-...   \n",
              "C2       AudioVisualData_v7/Control/C2/Vowels/audio/C2-...   \n",
              "C2       AudioVisualData_v7/Control/C2/Vowels/audio/C2-...   \n",
              "\n",
              "                                               frames_path  label  \\\n",
              "patient                                                             \n",
              "C2       AudioVisualData_v7/Control/C2/Vowels/frames/C2...    0.0   \n",
              "C2       AudioVisualData_v7/Control/C2/Vowels/frames/C2...    0.0   \n",
              "C2       AudioVisualData_v7/Control/C2/Vowels/frames/C2...    0.0   \n",
              "C2       AudioVisualData_v7/Control/C2/Vowels/frames/C2...    0.0   \n",
              "C2       AudioVisualData_v7/Control/C2/Vowels/frames/C2...    0.0   \n",
              "\n",
              "                                flatten_log_mel_spectogram  \n",
              "patient                                                     \n",
              "C2       [-60.66636657714844, -19.715749740600586, -24....  \n",
              "C2       [-61.8838005065918, -28.279430389404297, -28.8...  \n",
              "C2       [-59.091400146484375, -25.001014709472656, -28...  \n",
              "C2       [-60.556915283203125, -20.145050048828125, -20...  \n",
              "C2       [-69.82708740234375, -20.313282012939453, -26....  "
            ],
            "text/html": [
              "\n",
              "  <div id=\"df-73181226-5721-4e3a-8742-a96d58f5e3c9\" class=\"colab-df-container\">\n",
              "    <div>\n",
              "<style scoped>\n",
              "    .dataframe tbody tr th:only-of-type {\n",
              "        vertical-align: middle;\n",
              "    }\n",
              "\n",
              "    .dataframe tbody tr th {\n",
              "        vertical-align: top;\n",
              "    }\n",
              "\n",
              "    .dataframe thead th {\n",
              "        text-align: right;\n",
              "    }\n",
              "</style>\n",
              "<table border=\"1\" class=\"dataframe\">\n",
              "  <thead>\n",
              "    <tr style=\"text-align: right;\">\n",
              "      <th></th>\n",
              "      <th>audio_path</th>\n",
              "      <th>frames_path</th>\n",
              "      <th>label</th>\n",
              "      <th>flatten_log_mel_spectogram</th>\n",
              "    </tr>\n",
              "    <tr>\n",
              "      <th>patient</th>\n",
              "      <th></th>\n",
              "      <th></th>\n",
              "      <th></th>\n",
              "      <th></th>\n",
              "    </tr>\n",
              "  </thead>\n",
              "  <tbody>\n",
              "    <tr>\n",
              "      <th>C2</th>\n",
              "      <td>AudioVisualData_v7/Control/C2/Vowels/audio/C2-...</td>\n",
              "      <td>AudioVisualData_v7/Control/C2/Vowels/frames/C2...</td>\n",
              "      <td>0.0</td>\n",
              "      <td>[-60.66636657714844, -19.715749740600586, -24....</td>\n",
              "    </tr>\n",
              "    <tr>\n",
              "      <th>C2</th>\n",
              "      <td>AudioVisualData_v7/Control/C2/Vowels/audio/C2-...</td>\n",
              "      <td>AudioVisualData_v7/Control/C2/Vowels/frames/C2...</td>\n",
              "      <td>0.0</td>\n",
              "      <td>[-61.8838005065918, -28.279430389404297, -28.8...</td>\n",
              "    </tr>\n",
              "    <tr>\n",
              "      <th>C2</th>\n",
              "      <td>AudioVisualData_v7/Control/C2/Vowels/audio/C2-...</td>\n",
              "      <td>AudioVisualData_v7/Control/C2/Vowels/frames/C2...</td>\n",
              "      <td>0.0</td>\n",
              "      <td>[-59.091400146484375, -25.001014709472656, -28...</td>\n",
              "    </tr>\n",
              "    <tr>\n",
              "      <th>C2</th>\n",
              "      <td>AudioVisualData_v7/Control/C2/Vowels/audio/C2-...</td>\n",
              "      <td>AudioVisualData_v7/Control/C2/Vowels/frames/C2...</td>\n",
              "      <td>0.0</td>\n",
              "      <td>[-60.556915283203125, -20.145050048828125, -20...</td>\n",
              "    </tr>\n",
              "    <tr>\n",
              "      <th>C2</th>\n",
              "      <td>AudioVisualData_v7/Control/C2/Vowels/audio/C2-...</td>\n",
              "      <td>AudioVisualData_v7/Control/C2/Vowels/frames/C2...</td>\n",
              "      <td>0.0</td>\n",
              "      <td>[-69.82708740234375, -20.313282012939453, -26....</td>\n",
              "    </tr>\n",
              "  </tbody>\n",
              "</table>\n",
              "</div>\n",
              "    <div class=\"colab-df-buttons\">\n",
              "\n",
              "  <div class=\"colab-df-container\">\n",
              "    <button class=\"colab-df-convert\" onclick=\"convertToInteractive('df-73181226-5721-4e3a-8742-a96d58f5e3c9')\"\n",
              "            title=\"Convert this dataframe to an interactive table.\"\n",
              "            style=\"display:none;\">\n",
              "\n",
              "  <svg xmlns=\"http://www.w3.org/2000/svg\" height=\"24px\" viewBox=\"0 -960 960 960\">\n",
              "    <path d=\"M120-120v-720h720v720H120Zm60-500h600v-160H180v160Zm220 220h160v-160H400v160Zm0 220h160v-160H400v160ZM180-400h160v-160H180v160Zm440 0h160v-160H620v160ZM180-180h160v-160H180v160Zm440 0h160v-160H620v160Z\"/>\n",
              "  </svg>\n",
              "    </button>\n",
              "\n",
              "  <style>\n",
              "    .colab-df-container {\n",
              "      display:flex;\n",
              "      gap: 12px;\n",
              "    }\n",
              "\n",
              "    .colab-df-convert {\n",
              "      background-color: #E8F0FE;\n",
              "      border: none;\n",
              "      border-radius: 50%;\n",
              "      cursor: pointer;\n",
              "      display: none;\n",
              "      fill: #1967D2;\n",
              "      height: 32px;\n",
              "      padding: 0 0 0 0;\n",
              "      width: 32px;\n",
              "    }\n",
              "\n",
              "    .colab-df-convert:hover {\n",
              "      background-color: #E2EBFA;\n",
              "      box-shadow: 0px 1px 2px rgba(60, 64, 67, 0.3), 0px 1px 3px 1px rgba(60, 64, 67, 0.15);\n",
              "      fill: #174EA6;\n",
              "    }\n",
              "\n",
              "    .colab-df-buttons div {\n",
              "      margin-bottom: 4px;\n",
              "    }\n",
              "\n",
              "    [theme=dark] .colab-df-convert {\n",
              "      background-color: #3B4455;\n",
              "      fill: #D2E3FC;\n",
              "    }\n",
              "\n",
              "    [theme=dark] .colab-df-convert:hover {\n",
              "      background-color: #434B5C;\n",
              "      box-shadow: 0px 1px 3px 1px rgba(0, 0, 0, 0.15);\n",
              "      filter: drop-shadow(0px 1px 2px rgba(0, 0, 0, 0.3));\n",
              "      fill: #FFFFFF;\n",
              "    }\n",
              "  </style>\n",
              "\n",
              "    <script>\n",
              "      const buttonEl =\n",
              "        document.querySelector('#df-73181226-5721-4e3a-8742-a96d58f5e3c9 button.colab-df-convert');\n",
              "      buttonEl.style.display =\n",
              "        google.colab.kernel.accessAllowed ? 'block' : 'none';\n",
              "\n",
              "      async function convertToInteractive(key) {\n",
              "        const element = document.querySelector('#df-73181226-5721-4e3a-8742-a96d58f5e3c9');\n",
              "        const dataTable =\n",
              "          await google.colab.kernel.invokeFunction('convertToInteractive',\n",
              "                                                    [key], {});\n",
              "        if (!dataTable) return;\n",
              "\n",
              "        const docLinkHtml = 'Like what you see? Visit the ' +\n",
              "          '<a target=\"_blank\" href=https://colab.research.google.com/notebooks/data_table.ipynb>data table notebook</a>'\n",
              "          + ' to learn more about interactive tables.';\n",
              "        element.innerHTML = '';\n",
              "        dataTable['output_type'] = 'display_data';\n",
              "        await google.colab.output.renderOutput(dataTable, element);\n",
              "        const docLink = document.createElement('div');\n",
              "        docLink.innerHTML = docLinkHtml;\n",
              "        element.appendChild(docLink);\n",
              "      }\n",
              "    </script>\n",
              "  </div>\n",
              "\n",
              "\n",
              "<div id=\"df-5ee4e3f5-4e55-471c-ada3-eb3cad1ad92f\">\n",
              "  <button class=\"colab-df-quickchart\" onclick=\"quickchart('df-5ee4e3f5-4e55-471c-ada3-eb3cad1ad92f')\"\n",
              "            title=\"Suggest charts\"\n",
              "            style=\"display:none;\">\n",
              "\n",
              "<svg xmlns=\"http://www.w3.org/2000/svg\" height=\"24px\"viewBox=\"0 0 24 24\"\n",
              "     width=\"24px\">\n",
              "    <g>\n",
              "        <path d=\"M19 3H5c-1.1 0-2 .9-2 2v14c0 1.1.9 2 2 2h14c1.1 0 2-.9 2-2V5c0-1.1-.9-2-2-2zM9 17H7v-7h2v7zm4 0h-2V7h2v10zm4 0h-2v-4h2v4z\"/>\n",
              "    </g>\n",
              "</svg>\n",
              "  </button>\n",
              "\n",
              "<style>\n",
              "  .colab-df-quickchart {\n",
              "      --bg-color: #E8F0FE;\n",
              "      --fill-color: #1967D2;\n",
              "      --hover-bg-color: #E2EBFA;\n",
              "      --hover-fill-color: #174EA6;\n",
              "      --disabled-fill-color: #AAA;\n",
              "      --disabled-bg-color: #DDD;\n",
              "  }\n",
              "\n",
              "  [theme=dark] .colab-df-quickchart {\n",
              "      --bg-color: #3B4455;\n",
              "      --fill-color: #D2E3FC;\n",
              "      --hover-bg-color: #434B5C;\n",
              "      --hover-fill-color: #FFFFFF;\n",
              "      --disabled-bg-color: #3B4455;\n",
              "      --disabled-fill-color: #666;\n",
              "  }\n",
              "\n",
              "  .colab-df-quickchart {\n",
              "    background-color: var(--bg-color);\n",
              "    border: none;\n",
              "    border-radius: 50%;\n",
              "    cursor: pointer;\n",
              "    display: none;\n",
              "    fill: var(--fill-color);\n",
              "    height: 32px;\n",
              "    padding: 0;\n",
              "    width: 32px;\n",
              "  }\n",
              "\n",
              "  .colab-df-quickchart:hover {\n",
              "    background-color: var(--hover-bg-color);\n",
              "    box-shadow: 0 1px 2px rgba(60, 64, 67, 0.3), 0 1px 3px 1px rgba(60, 64, 67, 0.15);\n",
              "    fill: var(--button-hover-fill-color);\n",
              "  }\n",
              "\n",
              "  .colab-df-quickchart-complete:disabled,\n",
              "  .colab-df-quickchart-complete:disabled:hover {\n",
              "    background-color: var(--disabled-bg-color);\n",
              "    fill: var(--disabled-fill-color);\n",
              "    box-shadow: none;\n",
              "  }\n",
              "\n",
              "  .colab-df-spinner {\n",
              "    border: 2px solid var(--fill-color);\n",
              "    border-color: transparent;\n",
              "    border-bottom-color: var(--fill-color);\n",
              "    animation:\n",
              "      spin 1s steps(1) infinite;\n",
              "  }\n",
              "\n",
              "  @keyframes spin {\n",
              "    0% {\n",
              "      border-color: transparent;\n",
              "      border-bottom-color: var(--fill-color);\n",
              "      border-left-color: var(--fill-color);\n",
              "    }\n",
              "    20% {\n",
              "      border-color: transparent;\n",
              "      border-left-color: var(--fill-color);\n",
              "      border-top-color: var(--fill-color);\n",
              "    }\n",
              "    30% {\n",
              "      border-color: transparent;\n",
              "      border-left-color: var(--fill-color);\n",
              "      border-top-color: var(--fill-color);\n",
              "      border-right-color: var(--fill-color);\n",
              "    }\n",
              "    40% {\n",
              "      border-color: transparent;\n",
              "      border-right-color: var(--fill-color);\n",
              "      border-top-color: var(--fill-color);\n",
              "    }\n",
              "    60% {\n",
              "      border-color: transparent;\n",
              "      border-right-color: var(--fill-color);\n",
              "    }\n",
              "    80% {\n",
              "      border-color: transparent;\n",
              "      border-right-color: var(--fill-color);\n",
              "      border-bottom-color: var(--fill-color);\n",
              "    }\n",
              "    90% {\n",
              "      border-color: transparent;\n",
              "      border-bottom-color: var(--fill-color);\n",
              "    }\n",
              "  }\n",
              "</style>\n",
              "\n",
              "  <script>\n",
              "    async function quickchart(key) {\n",
              "      const quickchartButtonEl =\n",
              "        document.querySelector('#' + key + ' button');\n",
              "      quickchartButtonEl.disabled = true;  // To prevent multiple clicks.\n",
              "      quickchartButtonEl.classList.add('colab-df-spinner');\n",
              "      try {\n",
              "        const charts = await google.colab.kernel.invokeFunction(\n",
              "            'suggestCharts', [key], {});\n",
              "      } catch (error) {\n",
              "        console.error('Error during call to suggestCharts:', error);\n",
              "      }\n",
              "      quickchartButtonEl.classList.remove('colab-df-spinner');\n",
              "      quickchartButtonEl.classList.add('colab-df-quickchart-complete');\n",
              "    }\n",
              "    (() => {\n",
              "      let quickchartButtonEl =\n",
              "        document.querySelector('#df-5ee4e3f5-4e55-471c-ada3-eb3cad1ad92f button');\n",
              "      quickchartButtonEl.style.display =\n",
              "        google.colab.kernel.accessAllowed ? 'block' : 'none';\n",
              "    })();\n",
              "  </script>\n",
              "</div>\n",
              "\n",
              "    </div>\n",
              "  </div>\n"
            ],
            "application/vnd.google.colaboratory.intrinsic+json": {
              "type": "dataframe",
              "variable_name": "data",
              "summary": "{\n  \"name\": \"data\",\n  \"rows\": 1091,\n  \"fields\": [\n    {\n      \"column\": \"patient\",\n      \"properties\": {\n        \"dtype\": \"category\",\n        \"num_unique_values\": 14,\n        \"samples\": [\n          \"P7\",\n          \"P8\",\n          \"C2\"\n        ],\n        \"semantic_type\": \"\",\n        \"description\": \"\"\n      }\n    },\n    {\n      \"column\": \"audio_path\",\n      \"properties\": {\n        \"dtype\": \"string\",\n        \"num_unique_values\": 1091,\n        \"samples\": [\n          \"AudioVisualData_v7/Parkinson/P4/Phonemes/audio/P4-1-Pakata.mp3\",\n          \"AudioVisualData_v7/Parkinson/P1/Vowels/audio/P1-2-A.mp3\",\n          \"AudioVisualData_v7/Parkinson/P6/Phonemes/audio/P6-3-Pataka.mp3\"\n        ],\n        \"semantic_type\": \"\",\n        \"description\": \"\"\n      }\n    },\n    {\n      \"column\": \"frames_path\",\n      \"properties\": {\n        \"dtype\": \"string\",\n        \"num_unique_values\": 1091,\n        \"samples\": [\n          \"AudioVisualData_v7/Parkinson/P4/Phonemes/frames/P4-1-Pakata.mov\",\n          \"AudioVisualData_v7/Parkinson/P1/Vowels/frames/P1-2-A.mov\",\n          \"AudioVisualData_v7/Parkinson/P6/Phonemes/frames/P6-3-Pataka.mov\"\n        ],\n        \"semantic_type\": \"\",\n        \"description\": \"\"\n      }\n    },\n    {\n      \"column\": \"label\",\n      \"properties\": {\n        \"dtype\": \"number\",\n        \"std\": 0.5002290950864771,\n        \"min\": 0.0,\n        \"max\": 1.0,\n        \"num_unique_values\": 2,\n        \"samples\": [\n          1.0,\n          0.0\n        ],\n        \"semantic_type\": \"\",\n        \"description\": \"\"\n      }\n    },\n    {\n      \"column\": \"flatten_log_mel_spectogram\",\n      \"properties\": {\n        \"dtype\": \"object\",\n        \"semantic_type\": \"\",\n        \"description\": \"\"\n      }\n    }\n  ]\n}"
            }
          },
          "metadata": {},
          "execution_count": 16
        }
      ],
      "source": [
        "data = pd.read_csv(\"data.csv\", index_col='patient')\n",
        "\n",
        "def string2array(string: str):\n",
        "  \"\"\" Convierte un string con datos a numpy array \"\"\"\n",
        "  string = string.strip('[]')\n",
        "  return np.fromstring(string, sep=',')\n",
        "\n",
        "data['flatten_log_mel_spectogram'] = data['flatten_log_mel_spectogram'].apply(string2array)\n",
        "data.head()"
      ]
    },
    {
      "cell_type": "code",
      "execution_count": null,
      "metadata": {
        "id": "sXuk9KWy3KfG",
        "outputId": "61485543-0f90-4bd5-fa53-939e08c09fa5"
      },
      "outputs": [
        {
          "data": {
            "text/plain": [
              "(900,)"
            ]
          },
          "execution_count": 4,
          "metadata": {},
          "output_type": "execute_result"
        }
      ],
      "source": [
        "data['flatten_log_mel_spectogram'][0].shape"
      ]
    },
    {
      "cell_type": "code",
      "execution_count": null,
      "metadata": {
        "cellView": "form",
        "id": "UtscRbUJrExV"
      },
      "outputs": [],
      "source": [
        "#@title **Función para obtener una muestra**\n",
        "\n",
        "def get_sample(tipo:float):\n",
        "\n",
        "  sample = data[(data['label']==tipo)].sample(1)\n",
        "\n",
        "  if tipo == 1.0:\n",
        "    tipo = 'Parkinson'\n",
        "  else:\n",
        "    tipo = 'Control'\n",
        "  sample = [sample['audio_path'].item(), sample['frames_path'].item(), tipo]\n",
        "  return sample"
      ]
    },
    {
      "cell_type": "markdown",
      "metadata": {
        "id": "noww056djaQj"
      },
      "source": [
        "#  <font color='#4C5FDA'> **2. Preprocesamiento de los datos 🧐**</color> <a name=\"tema7\">\n"
      ]
    },
    {
      "cell_type": "markdown",
      "metadata": {
        "id": "poRYT3TT8xHr"
      },
      "source": [
        "## <font color='#EB9A54'>**2.1 Extracción de características para la hipomimia**</font> <a name = \"tema8\">"
      ]
    },
    {
      "cell_type": "markdown",
      "metadata": {
        "id": "X0KCNSf08xHr"
      },
      "source": [
        "### <font color=\"52F17F\">**Cantidad promedio de frames por vídeo**</font>"
      ]
    },
    {
      "cell_type": "code",
      "execution_count": null,
      "metadata": {
        "id": "VX_fpq-s8xHr"
      },
      "outputs": [],
      "source": [
        "def get_mean_video_duration(df):\n",
        "    frames = []\n",
        "\n",
        "    for i, record in tqdm(df.iterrows(), total=df.shape[0]):\n",
        "        try:\n",
        "            n_frames = len(os.listdir(record['frames_path']))\n",
        "            frames.append(n_frames)\n",
        "\n",
        "        except EOFError:\n",
        "            print(f'Error reading video: {i}')\n",
        "            pass\n",
        "\n",
        "    return sum(frames) / len(frames)"
      ]
    },
    {
      "cell_type": "code",
      "execution_count": null,
      "metadata": {
        "id": "9EhmCyWt8xHs",
        "outputId": "53da918b-f06a-4a35-b63d-46e75eac2017"
      },
      "outputs": [
        {
          "name": "stderr",
          "output_type": "stream",
          "text": [
            "  0%|          | 0/1091 [00:00<?, ?it/s]"
          ]
        },
        {
          "name": "stderr",
          "output_type": "stream",
          "text": [
            "100%|██████████| 1091/1091 [00:00<00:00, 6358.68it/s]\n"
          ]
        }
      ],
      "source": [
        "FRAMES_PROMEDIO = get_mean_video_duration(data)"
      ]
    },
    {
      "cell_type": "code",
      "execution_count": null,
      "metadata": {
        "id": "XNhLA0968xHs",
        "outputId": "04471ba3-9142-4e9a-d813-b6b9af4cc066"
      },
      "outputs": [
        {
          "name": "stdout",
          "output_type": "stream",
          "text": [
            "14\n"
          ]
        }
      ],
      "source": [
        "print(f\"{FRAMES_PROMEDIO*0.1:.0f}\")"
      ]
    },
    {
      "cell_type": "markdown",
      "metadata": {
        "id": "_nV-oxdy8xHt"
      },
      "source": [
        "### <font color=\"52F17F\">**Ejemplo con un sample y función de preprocesamiento**</font>"
      ]
    },
    {
      "cell_type": "code",
      "execution_count": null,
      "metadata": {
        "id": "TVI4RWuS8xHt"
      },
      "outputs": [],
      "source": [
        "\"\"\"\n",
        "Constante sacada de la media de cantidad de frames de todos los vídeos multiplicada por 0.1\n",
        "para tener el 10%\n",
        "\"\"\"\n",
        "\n",
        "FRAMES_PROMEDIO = 14"
      ]
    },
    {
      "cell_type": "code",
      "execution_count": null,
      "metadata": {
        "id": "L23JQzej8xHt"
      },
      "outputs": [],
      "source": [
        "def preprocess_frame(frame_path: str):\n",
        "  frame = cv2.imread(frame_path, cv2.IMREAD_GRAYSCALE) # Leemos la imagen desde la ruta en escala de grises\n",
        "  # frame = cv2.cvtColor(frame, cv2.COLOR_BGR2RGB) # La pasamos de BGR a RGB\n",
        "  frame = cv2.resize(frame, (112, 112)) # Resize a 112x112\n",
        "  frame = frame / 255. # Normalizamos entre 0 y 1\n",
        "  return frame.flatten()\n",
        "  # return frame"
      ]
    },
    {
      "cell_type": "markdown",
      "metadata": {
        "id": "p21rpuG48xHt"
      },
      "source": [
        "Cuando aplicamos concatenate(), todos los valores de los píxeles de los frames se concatenan en una única secuencia lineal. El orden es: primero todos los valores del primer frame, seguidos por todos los valores del segundo frame, y así sucesivamente."
      ]
    },
    {
      "cell_type": "code",
      "execution_count": null,
      "metadata": {
        "id": "JpxX4LLX8xHt"
      },
      "outputs": [],
      "source": [
        "def preprocess_video(video_path: str, n_frames = FRAMES_PROMEDIO):\n",
        "  frames = []\n",
        "  for frame in sorted(os.listdir(video_path))[:n_frames]:\n",
        "    frames.append(preprocess_frame(f\"{video_path}/{frame}\"))\n",
        "  return np.concatenate(frames)\n",
        "  # return frames"
      ]
    },
    {
      "cell_type": "code",
      "execution_count": null,
      "metadata": {
        "id": "wwIkrnjK8xHu"
      },
      "outputs": [],
      "source": [
        "sample_preprocessed_video = get_sample(1.0)[1] # Obtengo la ruta de un vídeo\n",
        "sample_preprocessed_video = preprocess_video(sample_preprocessed_video) # Aplico la función de preprocesamiento"
      ]
    },
    {
      "cell_type": "code",
      "execution_count": null,
      "metadata": {
        "id": "6WW9Sdxw8xHu",
        "outputId": "9b6ab791-a525-4d8f-c093-29e550785d2d"
      },
      "outputs": [
        {
          "data": {
            "text/plain": [
              "(175616,)"
            ]
          },
          "execution_count": 9,
          "metadata": {},
          "output_type": "execute_result"
        }
      ],
      "source": [
        "sample_preprocessed_video.shape #14×112×112×1=175616"
      ]
    },
    {
      "cell_type": "markdown",
      "metadata": {
        "id": "uc3OnbS68xHu"
      },
      "source": [
        "### <font color=\"52F17F\">**Aplicar el preprocesamiento a todos los vídeos**</font>"
      ]
    },
    {
      "cell_type": "code",
      "execution_count": null,
      "metadata": {
        "id": "v9a7WR3A8xHu",
        "outputId": "f2a6e164-88a9-41be-8639-ccb7f8714085"
      },
      "outputs": [
        {
          "data": {
            "text/html": [
              "<div>\n",
              "<style scoped>\n",
              "    .dataframe tbody tr th:only-of-type {\n",
              "        vertical-align: middle;\n",
              "    }\n",
              "\n",
              "    .dataframe tbody tr th {\n",
              "        vertical-align: top;\n",
              "    }\n",
              "\n",
              "    .dataframe thead th {\n",
              "        text-align: right;\n",
              "    }\n",
              "</style>\n",
              "<table border=\"1\" class=\"dataframe\">\n",
              "  <thead>\n",
              "    <tr style=\"text-align: right;\">\n",
              "      <th></th>\n",
              "      <th>audio_path</th>\n",
              "      <th>frames_path</th>\n",
              "      <th>label</th>\n",
              "      <th>flatten_log_mel_spectogram</th>\n",
              "      <th>flatten_frame_sequence</th>\n",
              "    </tr>\n",
              "    <tr>\n",
              "      <th>patient</th>\n",
              "      <th></th>\n",
              "      <th></th>\n",
              "      <th></th>\n",
              "      <th></th>\n",
              "      <th></th>\n",
              "    </tr>\n",
              "  </thead>\n",
              "  <tbody>\n",
              "    <tr>\n",
              "      <th>C2</th>\n",
              "      <td>AudioVisualData_v7/Control/C2/Vowels/audio/C2-...</td>\n",
              "      <td>AudioVisualData_v7/Control/C2/Vowels/frames/C2...</td>\n",
              "      <td>0.0</td>\n",
              "      <td>[-60.66636657714844, -19.715749740600586, -24....</td>\n",
              "      <td>[0.44313725490196076, 0.4470588235294118, 0.44...</td>\n",
              "    </tr>\n",
              "    <tr>\n",
              "      <th>C2</th>\n",
              "      <td>AudioVisualData_v7/Control/C2/Vowels/audio/C2-...</td>\n",
              "      <td>AudioVisualData_v7/Control/C2/Vowels/frames/C2...</td>\n",
              "      <td>0.0</td>\n",
              "      <td>[-61.8838005065918, -28.279430389404297, -28.8...</td>\n",
              "      <td>[0.4627450980392157, 0.4627450980392157, 0.458...</td>\n",
              "    </tr>\n",
              "    <tr>\n",
              "      <th>C2</th>\n",
              "      <td>AudioVisualData_v7/Control/C2/Vowels/audio/C2-...</td>\n",
              "      <td>AudioVisualData_v7/Control/C2/Vowels/frames/C2...</td>\n",
              "      <td>0.0</td>\n",
              "      <td>[-59.091400146484375, -25.001014709472656, -28...</td>\n",
              "      <td>[0.4666666666666667, 0.4666666666666667, 0.474...</td>\n",
              "    </tr>\n",
              "    <tr>\n",
              "      <th>C2</th>\n",
              "      <td>AudioVisualData_v7/Control/C2/Vowels/audio/C2-...</td>\n",
              "      <td>AudioVisualData_v7/Control/C2/Vowels/frames/C2...</td>\n",
              "      <td>0.0</td>\n",
              "      <td>[-60.556915283203125, -20.145050048828125, -20...</td>\n",
              "      <td>[0.44313725490196076, 0.44313725490196076, 0.4...</td>\n",
              "    </tr>\n",
              "    <tr>\n",
              "      <th>C2</th>\n",
              "      <td>AudioVisualData_v7/Control/C2/Vowels/audio/C2-...</td>\n",
              "      <td>AudioVisualData_v7/Control/C2/Vowels/frames/C2...</td>\n",
              "      <td>0.0</td>\n",
              "      <td>[-69.82708740234375, -20.313282012939453, -26....</td>\n",
              "      <td>[0.4627450980392157, 0.45098039215686275, 0.45...</td>\n",
              "    </tr>\n",
              "  </tbody>\n",
              "</table>\n",
              "</div>"
            ],
            "text/plain": [
              "                                                audio_path  \\\n",
              "patient                                                      \n",
              "C2       AudioVisualData_v7/Control/C2/Vowels/audio/C2-...   \n",
              "C2       AudioVisualData_v7/Control/C2/Vowels/audio/C2-...   \n",
              "C2       AudioVisualData_v7/Control/C2/Vowels/audio/C2-...   \n",
              "C2       AudioVisualData_v7/Control/C2/Vowels/audio/C2-...   \n",
              "C2       AudioVisualData_v7/Control/C2/Vowels/audio/C2-...   \n",
              "\n",
              "                                               frames_path  label  \\\n",
              "patient                                                             \n",
              "C2       AudioVisualData_v7/Control/C2/Vowels/frames/C2...    0.0   \n",
              "C2       AudioVisualData_v7/Control/C2/Vowels/frames/C2...    0.0   \n",
              "C2       AudioVisualData_v7/Control/C2/Vowels/frames/C2...    0.0   \n",
              "C2       AudioVisualData_v7/Control/C2/Vowels/frames/C2...    0.0   \n",
              "C2       AudioVisualData_v7/Control/C2/Vowels/frames/C2...    0.0   \n",
              "\n",
              "                                flatten_log_mel_spectogram  \\\n",
              "patient                                                      \n",
              "C2       [-60.66636657714844, -19.715749740600586, -24....   \n",
              "C2       [-61.8838005065918, -28.279430389404297, -28.8...   \n",
              "C2       [-59.091400146484375, -25.001014709472656, -28...   \n",
              "C2       [-60.556915283203125, -20.145050048828125, -20...   \n",
              "C2       [-69.82708740234375, -20.313282012939453, -26....   \n",
              "\n",
              "                                    flatten_frame_sequence  \n",
              "patient                                                     \n",
              "C2       [0.44313725490196076, 0.4470588235294118, 0.44...  \n",
              "C2       [0.4627450980392157, 0.4627450980392157, 0.458...  \n",
              "C2       [0.4666666666666667, 0.4666666666666667, 0.474...  \n",
              "C2       [0.44313725490196076, 0.44313725490196076, 0.4...  \n",
              "C2       [0.4627450980392157, 0.45098039215686275, 0.45...  "
            ]
          },
          "execution_count": 10,
          "metadata": {},
          "output_type": "execute_result"
        }
      ],
      "source": [
        "# Preprocesar todos los audios y almacenar los espectrogramas mel\n",
        "data['flatten_frame_sequence'] = data['frames_path'].apply(preprocess_video)\n",
        "\n",
        "# Verificar los datos\n",
        "data.head()"
      ]
    },
    {
      "cell_type": "code",
      "execution_count": null,
      "metadata": {
        "id": "fZgAtlr4-Ko7",
        "outputId": "ec7d4eff-db3d-4918-9ca8-c585b33113ae"
      },
      "outputs": [
        {
          "data": {
            "text/plain": [
              "(175616,)"
            ]
          },
          "execution_count": 11,
          "metadata": {},
          "output_type": "execute_result"
        }
      ],
      "source": [
        "data['flatten_frame_sequence'][0].shape"
      ]
    },
    {
      "cell_type": "markdown",
      "metadata": {
        "id": "bkR2_cQ98xHu"
      },
      "source": [
        "## <font color='#EB9A54'>**2.2 Fusión de características**</font> <a name = \"tema8\">"
      ]
    },
    {
      "cell_type": "markdown",
      "metadata": {
        "id": "SQ_mRaXQ8xHu"
      },
      "source": [
        "### <font color=\"52F17F\">**Ejemplo con un sample y función de preprocesamiento**</font>"
      ]
    },
    {
      "cell_type": "code",
      "execution_count": null,
      "metadata": {
        "id": "q-Wnih478xHv"
      },
      "outputs": [],
      "source": [
        "def preprocess_and_fuse(flatten_frame_sequence, flatten_log_mel_spectogram):\n",
        "    \"\"\"\n",
        "    Esta función concatena los frames aplanados y el espectrograma mel aplanado.\n",
        "\n",
        "    Args:\n",
        "        flatten_frame_sequence: array de frames aplanados.\n",
        "        flatten_log_mel_spectogram: array de espectrograma mel aplanado.\n",
        "\n",
        "    Returns:\n",
        "        fused_features: Un array que contiene la concatenación de los frames y el espectrograma mel.\n",
        "    \"\"\"\n",
        "    # Concatenar los frames y el espectrograma mel\n",
        "    return np.concatenate([flatten_frame_sequence, flatten_log_mel_spectogram])"
      ]
    },
    {
      "cell_type": "code",
      "execution_count": null,
      "metadata": {
        "id": "8d83cOyN8xHv"
      },
      "outputs": [],
      "source": [
        "random_idx = np.random.choice(range(1, len(data)))\n",
        "sample_fusioned = data[['flatten_frame_sequence', 'flatten_log_mel_spectogram']].iloc[random_idx].values\n",
        "sample_fusioned.shape"
      ]
    },
    {
      "cell_type": "code",
      "execution_count": null,
      "metadata": {
        "id": "54kzIBvP8xHv"
      },
      "outputs": [],
      "source": [
        "sample_fusioned = preprocess_and_fuse(sample_fusioned[0], sample_fusioned[1])\n",
        "sample_fusioned.shape # Debería ser (14 * 112 * 112 + 900,)"
      ]
    },
    {
      "cell_type": "markdown",
      "metadata": {
        "id": "TQosHglp8xHw"
      },
      "source": [
        "### <font color=\"52F17F\">**Aplicar la fusión a todos los registros**</font>"
      ]
    },
    {
      "cell_type": "code",
      "execution_count": null,
      "metadata": {
        "id": "8mqZKQhM8xHw",
        "outputId": "41d8e5cf-6ffc-4a5f-bddb-abd762f25c76"
      },
      "outputs": [
        {
          "data": {
            "text/html": [
              "<div>\n",
              "<style scoped>\n",
              "    .dataframe tbody tr th:only-of-type {\n",
              "        vertical-align: middle;\n",
              "    }\n",
              "\n",
              "    .dataframe tbody tr th {\n",
              "        vertical-align: top;\n",
              "    }\n",
              "\n",
              "    .dataframe thead th {\n",
              "        text-align: right;\n",
              "    }\n",
              "</style>\n",
              "<table border=\"1\" class=\"dataframe\">\n",
              "  <thead>\n",
              "    <tr style=\"text-align: right;\">\n",
              "      <th></th>\n",
              "      <th>audio_path</th>\n",
              "      <th>frames_path</th>\n",
              "      <th>label</th>\n",
              "      <th>flatten_log_mel_spectogram</th>\n",
              "      <th>flatten_frame_sequence</th>\n",
              "      <th>fused_flattened_features</th>\n",
              "    </tr>\n",
              "    <tr>\n",
              "      <th>patient</th>\n",
              "      <th></th>\n",
              "      <th></th>\n",
              "      <th></th>\n",
              "      <th></th>\n",
              "      <th></th>\n",
              "      <th></th>\n",
              "    </tr>\n",
              "  </thead>\n",
              "  <tbody>\n",
              "    <tr>\n",
              "      <th>C2</th>\n",
              "      <td>AudioVisualData_v7/Control/C2/Vowels/audio/C2-...</td>\n",
              "      <td>AudioVisualData_v7/Control/C2/Vowels/frames/C2...</td>\n",
              "      <td>0.0</td>\n",
              "      <td>[-60.66636657714844, -19.715749740600586, -24....</td>\n",
              "      <td>[0.44313725490196076, 0.4470588235294118, 0.44...</td>\n",
              "      <td>[0.44313725490196076, 0.4470588235294118, 0.44...</td>\n",
              "    </tr>\n",
              "    <tr>\n",
              "      <th>C2</th>\n",
              "      <td>AudioVisualData_v7/Control/C2/Vowels/audio/C2-...</td>\n",
              "      <td>AudioVisualData_v7/Control/C2/Vowels/frames/C2...</td>\n",
              "      <td>0.0</td>\n",
              "      <td>[-61.8838005065918, -28.279430389404297, -28.8...</td>\n",
              "      <td>[0.4627450980392157, 0.4627450980392157, 0.458...</td>\n",
              "      <td>[0.4627450980392157, 0.4627450980392157, 0.458...</td>\n",
              "    </tr>\n",
              "    <tr>\n",
              "      <th>C2</th>\n",
              "      <td>AudioVisualData_v7/Control/C2/Vowels/audio/C2-...</td>\n",
              "      <td>AudioVisualData_v7/Control/C2/Vowels/frames/C2...</td>\n",
              "      <td>0.0</td>\n",
              "      <td>[-59.091400146484375, -25.001014709472656, -28...</td>\n",
              "      <td>[0.4666666666666667, 0.4666666666666667, 0.474...</td>\n",
              "      <td>[0.4666666666666667, 0.4666666666666667, 0.474...</td>\n",
              "    </tr>\n",
              "    <tr>\n",
              "      <th>C2</th>\n",
              "      <td>AudioVisualData_v7/Control/C2/Vowels/audio/C2-...</td>\n",
              "      <td>AudioVisualData_v7/Control/C2/Vowels/frames/C2...</td>\n",
              "      <td>0.0</td>\n",
              "      <td>[-60.556915283203125, -20.145050048828125, -20...</td>\n",
              "      <td>[0.44313725490196076, 0.44313725490196076, 0.4...</td>\n",
              "      <td>[0.44313725490196076, 0.44313725490196076, 0.4...</td>\n",
              "    </tr>\n",
              "    <tr>\n",
              "      <th>C2</th>\n",
              "      <td>AudioVisualData_v7/Control/C2/Vowels/audio/C2-...</td>\n",
              "      <td>AudioVisualData_v7/Control/C2/Vowels/frames/C2...</td>\n",
              "      <td>0.0</td>\n",
              "      <td>[-69.82708740234375, -20.313282012939453, -26....</td>\n",
              "      <td>[0.4627450980392157, 0.45098039215686275, 0.45...</td>\n",
              "      <td>[0.4627450980392157, 0.45098039215686275, 0.45...</td>\n",
              "    </tr>\n",
              "  </tbody>\n",
              "</table>\n",
              "</div>"
            ],
            "text/plain": [
              "                                                audio_path  \\\n",
              "patient                                                      \n",
              "C2       AudioVisualData_v7/Control/C2/Vowels/audio/C2-...   \n",
              "C2       AudioVisualData_v7/Control/C2/Vowels/audio/C2-...   \n",
              "C2       AudioVisualData_v7/Control/C2/Vowels/audio/C2-...   \n",
              "C2       AudioVisualData_v7/Control/C2/Vowels/audio/C2-...   \n",
              "C2       AudioVisualData_v7/Control/C2/Vowels/audio/C2-...   \n",
              "\n",
              "                                               frames_path  label  \\\n",
              "patient                                                             \n",
              "C2       AudioVisualData_v7/Control/C2/Vowels/frames/C2...    0.0   \n",
              "C2       AudioVisualData_v7/Control/C2/Vowels/frames/C2...    0.0   \n",
              "C2       AudioVisualData_v7/Control/C2/Vowels/frames/C2...    0.0   \n",
              "C2       AudioVisualData_v7/Control/C2/Vowels/frames/C2...    0.0   \n",
              "C2       AudioVisualData_v7/Control/C2/Vowels/frames/C2...    0.0   \n",
              "\n",
              "                                flatten_log_mel_spectogram  \\\n",
              "patient                                                      \n",
              "C2       [-60.66636657714844, -19.715749740600586, -24....   \n",
              "C2       [-61.8838005065918, -28.279430389404297, -28.8...   \n",
              "C2       [-59.091400146484375, -25.001014709472656, -28...   \n",
              "C2       [-60.556915283203125, -20.145050048828125, -20...   \n",
              "C2       [-69.82708740234375, -20.313282012939453, -26....   \n",
              "\n",
              "                                    flatten_frame_sequence  \\\n",
              "patient                                                      \n",
              "C2       [0.44313725490196076, 0.4470588235294118, 0.44...   \n",
              "C2       [0.4627450980392157, 0.4627450980392157, 0.458...   \n",
              "C2       [0.4666666666666667, 0.4666666666666667, 0.474...   \n",
              "C2       [0.44313725490196076, 0.44313725490196076, 0.4...   \n",
              "C2       [0.4627450980392157, 0.45098039215686275, 0.45...   \n",
              "\n",
              "                                  fused_flattened_features  \n",
              "patient                                                     \n",
              "C2       [0.44313725490196076, 0.4470588235294118, 0.44...  \n",
              "C2       [0.4627450980392157, 0.4627450980392157, 0.458...  \n",
              "C2       [0.4666666666666667, 0.4666666666666667, 0.474...  \n",
              "C2       [0.44313725490196076, 0.44313725490196076, 0.4...  \n",
              "C2       [0.4627450980392157, 0.45098039215686275, 0.45...  "
            ]
          },
          "execution_count": 17,
          "metadata": {},
          "output_type": "execute_result"
        }
      ],
      "source": [
        "# Fusionar todas las características aplanadas\n",
        "data['fused_flattened_features'] = data.apply(\n",
        "    lambda row: preprocess_and_fuse(row['flatten_frame_sequence'], row['flatten_log_mel_spectogram']),\n",
        "    axis=1\n",
        ")\n",
        "\n",
        "# Verificar los datos\n",
        "data.head()"
      ]
    },
    {
      "cell_type": "code",
      "execution_count": null,
      "metadata": {
        "id": "fYsMntWW8xHw",
        "outputId": "76cf55fc-6de8-4da9-a383-cf198df04164"
      },
      "outputs": [
        {
          "data": {
            "text/plain": [
              "(176516,)"
            ]
          },
          "execution_count": 18,
          "metadata": {},
          "output_type": "execute_result"
        }
      ],
      "source": [
        "data['fused_flattened_features'][0].shape"
      ]
    },
    {
      "cell_type": "markdown",
      "metadata": {
        "id": "Zmfr2VNOsYTJ"
      },
      "source": [
        "# <font color='#4C5FDA'> **3. State-of-the-art ML 🦾**</color> <a name=\"tema8\">"
      ]
    },
    {
      "cell_type": "code",
      "execution_count": null,
      "metadata": {
        "id": "KfsaQaBsA8TS"
      },
      "outputs": [],
      "source": [
        "# Sklearn for datasets.\n",
        "from sklearn.preprocessing import StandardScaler\n",
        "from sklearn.model_selection import GroupKFold\n",
        "\n",
        "# Sklearn metrics.\n",
        "from sklearn.metrics import (\n",
        "    accuracy_score,\n",
        "    f1_score,\n",
        "    precision_score,\n",
        "    recall_score)\n",
        "\n",
        "# Sklearn models\n",
        "from sklearn.svm import SVC\n",
        "from sklearn.naive_bayes import GaussianNB\n",
        "# from sklearn.neighbors import KNeighborsClassifier\n",
        "from sklearn.tree import DecisionTreeClassifier\n",
        "from sklearn.linear_model import LogisticRegression\n",
        "from sklearn.ensemble import RandomForestClassifier"
      ]
    },
    {
      "cell_type": "code",
      "execution_count": null,
      "metadata": {
        "id": "ktTf0ype8xHx"
      },
      "outputs": [],
      "source": [
        "models = [\n",
        "    ('GNB', GaussianNB()),\n",
        "    ('DT DEFAULT', DecisionTreeClassifier()),\n",
        "    ('DT2', DecisionTreeClassifier(max_depth=2)),\n",
        "    ('DT40', DecisionTreeClassifier(max_depth=40)),\n",
        "    ('RF50', RandomForestClassifier(n_estimators=50)),\n",
        "    ('RF100', RandomForestClassifier(n_estimators=100)),\n",
        "    ('RF200', RandomForestClassifier(n_estimators=200)),\n",
        "    ('SVM LINEAR', SVC(kernel='linear')),\n",
        "    ('SVM RBF', SVC(kernel='rbf')),\n",
        "    ('SVM POLY DEGREE 3', SVC(kernel='poly')),\n",
        "    ('LR', LogisticRegression(max_iter=2000)),\n",
        "]"
      ]
    },
    {
      "cell_type": "markdown",
      "metadata": {
        "id": "DRyz_9Lcwzza"
      },
      "source": [
        "<font color=\"52F17F\">**Escalando las características con sklearn Standard Scaler**</font>\n",
        "\n",
        "Con esto conseguimos [estandarizar](https://scikit-learn.org/stable/modules/generated/sklearn.preprocessing.StandardScaler.html) las características eliminando la media (es decir, $\\mu = 0$) y escalando a la varianza unitaria (es decir $\\sigma = 1$).\n",
        "\n",
        "<center>\n",
        "  <img src=\"https://imgs.search.brave.com/6nO8SCp_NlJdLQRnJRJDgmmNWZjgzK-BvBoRgq6HZfw/rs:fit:860:0:0/g:ce/aHR0cHM6Ly9taXJv/Lm1lZGl1bS5jb20v/bWF4LzE0MDAvMSpH/QWNFajM3c21DT0Na/TXJxcC1yampBLnBu/Zw\" width=\"600\" height=\"400\">\n",
        "</center>\n",
        "\n",
        "The fit(data) method is used to compute the mean and std dev for a given feature to be used further for scaling. The transform(data) method is used to perform scaling using mean and std dev calculated using the . fit() method. The fit_transform() method does both fits and transform."
      ]
    },
    {
      "cell_type": "markdown",
      "metadata": {
        "id": "BpRek8ky8xHy"
      },
      "source": [
        "<font color=\"52F17F\">**Partición de los datos**</font>\n",
        "\n",
        "Dado que tenemos 14 pacientes, si hacemos 5 divisiones, cada división intentará mantener aproximadamente el mismo número de pacientes en cada conjunto. Cada división entrena con 11 pacientes y prueba con 3 pacientes. Esto asegura que los datos de un mismo paciente no se mezclen entre los conjuntos de entrenamiento y prueba. [Fuente](https://scikit-learn.org/stable/modules/cross_validation.html#cross-validation-iterators-for-grouped-data).\n"
      ]
    },
    {
      "cell_type": "code",
      "execution_count": null,
      "metadata": {
        "id": "LLSm416p8xHy",
        "outputId": "fa9e774a-f7c9-41f2-ac7d-7039af83c5e9"
      },
      "outputs": [
        {
          "name": "stdout",
          "output_type": "stream",
          "text": [
            "División 1:\n",
            "  Pacientes en entrenamiento: ['C0' 'C1' 'C2' 'C3' 'C4' 'C6' 'P0' 'P1' 'P4' 'P5' 'P6' 'P7']\n",
            "  Pacientes en prueba: ['C5' 'P8']\n",
            "  Número de pacientes en entrenamiento: 12\n",
            "  Número de pacientes en prueba: 2\n",
            "\n",
            "División 2:\n",
            "  Pacientes en entrenamiento: ['C0' 'C1' 'C2' 'C3' 'C5' 'C6' 'P0' 'P1' 'P4' 'P5' 'P6' 'P8']\n",
            "  Pacientes en prueba: ['C4' 'P7']\n",
            "  Número de pacientes en entrenamiento: 12\n",
            "  Número de pacientes en prueba: 2\n",
            "\n",
            "División 3:\n",
            "  Pacientes en entrenamiento: ['C0' 'C1' 'C2' 'C4' 'C5' 'C6' 'P0' 'P1' 'P4' 'P5' 'P7' 'P8']\n",
            "  Pacientes en prueba: ['C3' 'P6']\n",
            "  Número de pacientes en entrenamiento: 12\n",
            "  Número de pacientes en prueba: 2\n",
            "\n",
            "División 4:\n",
            "  Pacientes en entrenamiento: ['C0' 'C1' 'C3' 'C4' 'C5' 'C6' 'P0' 'P1' 'P4' 'P6' 'P7' 'P8']\n",
            "  Pacientes en prueba: ['C2' 'P5']\n",
            "  Número de pacientes en entrenamiento: 12\n",
            "  Número de pacientes en prueba: 2\n",
            "\n",
            "División 5:\n",
            "  Pacientes en entrenamiento: ['C0' 'C2' 'C3' 'C4' 'C5' 'C6' 'P0' 'P1' 'P5' 'P6' 'P7' 'P8']\n",
            "  Pacientes en prueba: ['C1' 'P4']\n",
            "  Número de pacientes en entrenamiento: 12\n",
            "  Número de pacientes en prueba: 2\n",
            "\n",
            "División 6:\n",
            "  Pacientes en entrenamiento: ['C1' 'C2' 'C3' 'C4' 'C5' 'C6' 'P0' 'P4' 'P5' 'P6' 'P7' 'P8']\n",
            "  Pacientes en prueba: ['C0' 'P1']\n",
            "  Número de pacientes en entrenamiento: 12\n",
            "  Número de pacientes en prueba: 2\n",
            "\n",
            "División 7:\n",
            "  Pacientes en entrenamiento: ['C0' 'C1' 'C2' 'C3' 'C4' 'C5' 'P1' 'P4' 'P5' 'P6' 'P7' 'P8']\n",
            "  Pacientes en prueba: ['C6' 'P0']\n",
            "  Número de pacientes en entrenamiento: 12\n",
            "  Número de pacientes en prueba: 2\n",
            "\n"
          ]
        }
      ],
      "source": [
        "# Crear el objeto GroupKFold\n",
        "group_kfold = GroupKFold(n_splits=7)\n",
        "X = np.ones((1091, 1))\n",
        "y = np.ones((1091, 1))\n",
        "\n",
        "groups = data.index.values\n",
        "\n",
        "# Realizar la validación cruzada por grupos\n",
        "for i, (train_index, test_index) in enumerate(group_kfold.split(X, y, groups), 1):\n",
        "    # X_train, X_test = X[train_index], X[test_index]\n",
        "    # y_train, y_test = y[train_index], y[test_index]\n",
        "    train_groups = groups[train_index]\n",
        "    test_groups = groups[test_index]\n",
        "\n",
        "    print(f\"División {i}:\")\n",
        "    print(\"  Pacientes en entrenamiento:\", np.unique(train_groups))\n",
        "    print(\"  Pacientes en prueba:\", np.unique(test_groups))\n",
        "    print(\"  Número de pacientes en entrenamiento:\", len(np.unique(train_groups)))\n",
        "    print(\"  Número de pacientes en prueba:\", len(np.unique(test_groups)))\n",
        "    print()"
      ]
    },
    {
      "cell_type": "markdown",
      "metadata": {
        "id": "A71kgJpc91vY"
      },
      "source": [
        "<font color=\"52F17F\">**Métricas de evaluación**</font>\n",
        "\n",
        "En el caso del Parkinson, es más importante saber cuándo mi modelo identifica correctamente a una persona con Parkinson (True Positive), ya que si mi modelo indica que no tiene Parkinson y en realidad sí lo tiene (False Negative), se afecta significativamente su calidad de vida.\n",
        "\n",
        "<center>\n",
        "  <img src=\"https://www.tutorialexample.com/wp-content/uploads/2022/01/how-to-compute-accuracy-precision-recall-and-f1-score-in-machine-learning.png\" width=\"600\" height=\"400\">\n",
        "</center>\n",
        "\n",
        "Por ende, la métrica que nos interesa es el <font color= \"52F17F\"> **recall.** </font>\n",
        "\n",
        "\n"
      ]
    },
    {
      "cell_type": "markdown",
      "metadata": {
        "id": "VwGzGSw2_XrW"
      },
      "source": [
        "## <font color='#EB9A54'>**3.1 Solo audio features**</font> <a name = \"tema10\">"
      ]
    },
    {
      "cell_type": "code",
      "execution_count": null,
      "metadata": {
        "id": "zLfsDF3VJWmI"
      },
      "outputs": [],
      "source": [
        "X = np.array(data['flatten_log_mel_spectogram'].tolist())\n",
        "y = data['label'].values"
      ]
    },
    {
      "cell_type": "code",
      "execution_count": null,
      "metadata": {
        "id": "I3Gu-TeF8xH0"
      },
      "outputs": [],
      "source": [
        "scaler = StandardScaler()\n",
        "X = scaler.fit_transform(X)"
      ]
    },
    {
      "cell_type": "code",
      "execution_count": null,
      "metadata": {
        "id": "YXWafRYB8xH0"
      },
      "outputs": [],
      "source": [
        "# Inicializar un diccionario para almacenar las métricas de evaluación\n",
        "results = {name: {'accuracy': [], 'f1': [], 'precision': [], 'sensitivity': []} for name, _ in models}\n",
        "\n",
        "# Crear el objeto GroupKFold\n",
        "group_kfold = GroupKFold(n_splits=7)\n",
        "\n",
        "groups = data.index.values\n",
        "\n",
        "# Realizar la validación cruzada por grupos\n",
        "for (train_index, test_index) in group_kfold.split(X, y, groups):\n",
        "    X_train, X_test = X[train_index], X[test_index]\n",
        "    y_train, y_test = y[train_index], y[test_index]\n",
        "    train_groups = groups[train_index]\n",
        "    test_groups = groups[test_index]\n",
        "\n",
        "    # Entrenar y evaluar cada modelo\n",
        "    for name, model in models:\n",
        "        clf = model\n",
        "        clf.fit(X_train, y_train)\n",
        "        y_pred = clf.predict(X_test)\n",
        "\n",
        "        accuracy = accuracy_score(y_test, y_pred)\n",
        "        f1 = f1_score(y_test, y_pred)\n",
        "        precision = precision_score(y_test, y_pred)\n",
        "        sensitivity = recall_score(y_test, y_pred)\n",
        "\n",
        "        results[name]['accuracy'].append(accuracy)\n",
        "        results[name]['f1'].append(f1)\n",
        "        results[name]['precision'].append(precision)\n",
        "        results[name]['sensitivity'].append(sensitivity)"
      ]
    },
    {
      "cell_type": "code",
      "execution_count": null,
      "metadata": {
        "id": "9SgsAVRY8xH0",
        "outputId": "911ea040-8fc4-4a00-8670-b0be7f2fb4ef"
      },
      "outputs": [
        {
          "name": "stdout",
          "output_type": "stream",
          "text": [
            "=========== Resultados para GNB ===========\n",
            "  accuracy: 0.4765\n",
            "  f1: 0.4620\n",
            "  precision: 0.4758\n",
            "  sensitivity: 0.5186\n",
            "\n",
            "=========== Resultados para DT DEFAULT ===========\n",
            "  accuracy: 0.5141\n",
            "  f1: 0.4925\n",
            "  precision: 0.5071\n",
            "  sensitivity: 0.4860\n",
            "\n",
            "=========== Resultados para DT2 ===========\n",
            "  accuracy: 0.5022\n",
            "  f1: 0.3943\n",
            "  precision: 0.4901\n",
            "  sensitivity: 0.4181\n",
            "\n",
            "=========== Resultados para DT40 ===========\n",
            "  accuracy: 0.5206\n",
            "  f1: 0.5004\n",
            "  precision: 0.5149\n",
            "  sensitivity: 0.4951\n",
            "\n",
            "=========== Resultados para RF50 ===========\n",
            "  accuracy: 0.5407\n",
            "  f1: 0.4600\n",
            "  precision: 0.5164\n",
            "  sensitivity: 0.4546\n",
            "\n",
            "=========== Resultados para RF100 ===========\n",
            "  accuracy: 0.5581\n",
            "  f1: 0.4799\n",
            "  precision: 0.5366\n",
            "  sensitivity: 0.4728\n",
            "\n",
            "=========== Resultados para RF200 ===========\n",
            "  accuracy: 0.5379\n",
            "  f1: 0.4439\n",
            "  precision: 0.5131\n",
            "  sensitivity: 0.4398\n",
            "\n",
            "=========== Resultados para SVM LINEAR ===========\n",
            "  accuracy: 0.5087\n",
            "  f1: 0.4881\n",
            "  precision: 0.4973\n",
            "  sensitivity: 0.4861\n",
            "\n",
            "=========== Resultados para SVM RBF ===========\n",
            "  accuracy: 0.5773\n",
            "  f1: 0.4470\n",
            "  precision: 0.5688\n",
            "  sensitivity: 0.4124\n",
            "\n",
            "=========== Resultados para SVM POLY DEGREE 3 ===========\n",
            "  accuracy: 0.5490\n",
            "  f1: 0.2690\n",
            "  precision: 0.6482\n",
            "  sensitivity: 0.1797\n",
            "\n",
            "=========== Resultados para LR ===========\n",
            "  accuracy: 0.5105\n",
            "  f1: 0.4796\n",
            "  precision: 0.4957\n",
            "  sensitivity: 0.4732\n",
            "\n"
          ]
        }
      ],
      "source": [
        "# Calcular las métricas promedio para cada modelo\n",
        "avg_results = {name: {metric: np.mean(scores) for metric, scores in metrics.items()} for name, metrics in results.items()}\n",
        "\n",
        "# Mostrar resultados promedio\n",
        "for name, metrics in avg_results.items():\n",
        "    print(f\"{11*'='} Resultados para {name} {11*'='}\")\n",
        "    for metric, score in metrics.items():\n",
        "        print(f\"  {metric}: {score:.4f}\")\n",
        "    print()"
      ]
    },
    {
      "cell_type": "markdown",
      "metadata": {
        "id": "f7WWUvuP802m"
      },
      "source": [
        "## <font color='#EB9A54'>**3.2 Solo video features**</font> <a name = \"tema9\">"
      ]
    },
    {
      "cell_type": "code",
      "execution_count": null,
      "metadata": {
        "id": "YvYxHH1O6pq0"
      },
      "outputs": [],
      "source": [
        "X = np.array(data['flatten_frame_sequence'].tolist())\n",
        "y = data['label'].values"
      ]
    },
    {
      "cell_type": "code",
      "execution_count": null,
      "metadata": {
        "id": "wY2NqCe28xH0"
      },
      "outputs": [],
      "source": [
        "scaler = StandardScaler()\n",
        "X = scaler.fit_transform(X)"
      ]
    },
    {
      "cell_type": "code",
      "execution_count": null,
      "metadata": {
        "id": "t5dX3dlz8xH1",
        "outputId": "c85e6574-6d47-4d58-d916-9a2d5edef5ac"
      },
      "outputs": [
        {
          "name": "stderr",
          "output_type": "stream",
          "text": [
            "/home/guillermo/.local/lib/python3.10/site-packages/sklearn/metrics/_classification.py:1509: UndefinedMetricWarning: Precision is ill-defined and being set to 0.0 due to no predicted samples. Use `zero_division` parameter to control this behavior.\n",
            "  _warn_prf(average, modifier, f\"{metric.capitalize()} is\", len(result))\n",
            "/home/guillermo/.local/lib/python3.10/site-packages/sklearn/metrics/_classification.py:1509: UndefinedMetricWarning: Precision is ill-defined and being set to 0.0 due to no predicted samples. Use `zero_division` parameter to control this behavior.\n",
            "  _warn_prf(average, modifier, f\"{metric.capitalize()} is\", len(result))\n",
            "/home/guillermo/.local/lib/python3.10/site-packages/sklearn/metrics/_classification.py:1509: UndefinedMetricWarning: Precision is ill-defined and being set to 0.0 due to no predicted samples. Use `zero_division` parameter to control this behavior.\n",
            "  _warn_prf(average, modifier, f\"{metric.capitalize()} is\", len(result))\n"
          ]
        }
      ],
      "source": [
        "# Inicializar un diccionario para almacenar las métricas de evaluación\n",
        "results = {name: {'accuracy': [], 'f1': [], 'precision': [], 'sensitivity': []} for name, _ in models}\n",
        "\n",
        "# Crear el objeto GroupKFold\n",
        "group_kfold = GroupKFold(n_splits=7)\n",
        "\n",
        "groups = data.index.values\n",
        "\n",
        "# Realizar la validación cruzada por grupos\n",
        "for (train_index, test_index) in group_kfold.split(X, y, groups):\n",
        "    X_train, X_test = X[train_index], X[test_index]\n",
        "    y_train, y_test = y[train_index], y[test_index]\n",
        "    train_groups = groups[train_index]\n",
        "    test_groups = groups[test_index]\n",
        "\n",
        "    # Entrenar y evaluar cada modelo\n",
        "    for name, model in models:\n",
        "        clf = model\n",
        "        clf.fit(X_train, y_train)\n",
        "        y_pred = clf.predict(X_test)\n",
        "\n",
        "        accuracy = accuracy_score(y_test, y_pred)\n",
        "        f1 = f1_score(y_test, y_pred)\n",
        "        precision = precision_score(y_test, y_pred)\n",
        "        sensitivity = recall_score(y_test, y_pred)\n",
        "\n",
        "        results[name]['accuracy'].append(accuracy)\n",
        "        results[name]['f1'].append(f1)\n",
        "        results[name]['precision'].append(precision)\n",
        "        results[name]['sensitivity'].append(sensitivity)"
      ]
    },
    {
      "cell_type": "code",
      "execution_count": null,
      "metadata": {
        "id": "wfziJq3C8xH1",
        "outputId": "9b82f16f-f391-4d7e-c894-718f3358a379"
      },
      "outputs": [
        {
          "name": "stdout",
          "output_type": "stream",
          "text": [
            "=========== Resultados para GNB ===========\n",
            "  accuracy: 0.4766\n",
            "  f1: 0.4328\n",
            "  precision: 0.4571\n",
            "  sensitivity: 0.5018\n",
            "\n",
            "=========== Resultados para DT DEFAULT ===========\n",
            "  accuracy: 0.4626\n",
            "  f1: 0.4515\n",
            "  precision: 0.4691\n",
            "  sensitivity: 0.5136\n",
            "\n",
            "=========== Resultados para DT2 ===========\n",
            "  accuracy: 0.5759\n",
            "  f1: 0.5692\n",
            "  precision: 0.5408\n",
            "  sensitivity: 0.6538\n",
            "\n",
            "=========== Resultados para DT40 ===========\n",
            "  accuracy: 0.4369\n",
            "  f1: 0.4359\n",
            "  precision: 0.4409\n",
            "  sensitivity: 0.4597\n",
            "\n",
            "=========== Resultados para RF50 ===========\n",
            "  accuracy: 0.4831\n",
            "  f1: 0.3917\n",
            "  precision: 0.4556\n",
            "  sensitivity: 0.4377\n",
            "\n",
            "=========== Resultados para RF100 ===========\n",
            "  accuracy: 0.4803\n",
            "  f1: 0.3924\n",
            "  precision: 0.4471\n",
            "  sensitivity: 0.4341\n",
            "\n",
            "=========== Resultados para RF200 ===========\n",
            "  accuracy: 0.4785\n",
            "  f1: 0.3715\n",
            "  precision: 0.4275\n",
            "  sensitivity: 0.4194\n",
            "\n",
            "=========== Resultados para SVM LINEAR ===========\n",
            "  accuracy: 0.7545\n",
            "  f1: 0.6472\n",
            "  precision: 0.7879\n",
            "  sensitivity: 0.6300\n",
            "\n",
            "=========== Resultados para SVM RBF ===========\n",
            "  accuracy: 0.7779\n",
            "  f1: 0.6830\n",
            "  precision: 0.7697\n",
            "  sensitivity: 0.7179\n",
            "\n",
            "=========== Resultados para SVM POLY DEGREE 3 ===========\n",
            "  accuracy: 0.4892\n",
            "  f1: 0.1119\n",
            "  precision: 0.4343\n",
            "  sensitivity: 0.0660\n",
            "\n",
            "=========== Resultados para LR ===========\n",
            "  accuracy: 0.8019\n",
            "  f1: 0.7029\n",
            "  precision: 0.8754\n",
            "  sensitivity: 0.6490\n",
            "\n"
          ]
        }
      ],
      "source": [
        "# Calcular las métricas promedio para cada modelo\n",
        "avg_results = {name: {metric: np.mean(scores) for metric, scores in metrics.items()} for name, metrics in results.items()}\n",
        "\n",
        "# Mostrar resultados promedio\n",
        "for name, metrics in avg_results.items():\n",
        "    print(f\"{11*'='} Resultados para {name} {11*'='}\")\n",
        "    for metric, score in metrics.items():\n",
        "        print(f\"  {metric}: {score:.4f}\")\n",
        "    print()"
      ]
    },
    {
      "cell_type": "markdown",
      "metadata": {
        "id": "071_4YP-8xH2"
      },
      "source": [
        "## <font color='#EB9A54'>**3.2 Fusion of features**</font> <a name = \"tema9\">"
      ]
    },
    {
      "cell_type": "code",
      "execution_count": null,
      "metadata": {
        "id": "Ok1vdXrp8xH2"
      },
      "outputs": [],
      "source": [
        "X = np.array(data['fused_flattened_features'].tolist())\n",
        "y = data['label'].values"
      ]
    },
    {
      "cell_type": "code",
      "execution_count": null,
      "metadata": {
        "id": "jk37OsPr8xH2"
      },
      "outputs": [],
      "source": [
        "scaler = StandardScaler()\n",
        "X = scaler.fit_transform(X)"
      ]
    },
    {
      "cell_type": "code",
      "execution_count": null,
      "metadata": {
        "id": "mFNoUqp18xH4",
        "outputId": "f91456a6-d982-4e53-cb03-513783d84fda"
      },
      "outputs": [
        {
          "name": "stderr",
          "output_type": "stream",
          "text": [
            "/home/guillermo/.local/lib/python3.10/site-packages/sklearn/metrics/_classification.py:1509: UndefinedMetricWarning: Precision is ill-defined and being set to 0.0 due to no predicted samples. Use `zero_division` parameter to control this behavior.\n",
            "  _warn_prf(average, modifier, f\"{metric.capitalize()} is\", len(result))\n",
            "/home/guillermo/.local/lib/python3.10/site-packages/sklearn/metrics/_classification.py:1509: UndefinedMetricWarning: Precision is ill-defined and being set to 0.0 due to no predicted samples. Use `zero_division` parameter to control this behavior.\n",
            "  _warn_prf(average, modifier, f\"{metric.capitalize()} is\", len(result))\n",
            "/home/guillermo/.local/lib/python3.10/site-packages/sklearn/metrics/_classification.py:1509: UndefinedMetricWarning: Precision is ill-defined and being set to 0.0 due to no predicted samples. Use `zero_division` parameter to control this behavior.\n",
            "  _warn_prf(average, modifier, f\"{metric.capitalize()} is\", len(result))\n"
          ]
        }
      ],
      "source": [
        "# Inicializar un diccionario para almacenar las métricas de evaluación\n",
        "results = {name: {'accuracy': [], 'f1': [], 'precision': [], 'sensitivity': []} for name, _ in models}\n",
        "\n",
        "# Crear el objeto GroupKFold\n",
        "group_kfold = GroupKFold(n_splits=7)\n",
        "\n",
        "groups = data.index.values\n",
        "\n",
        "# Realizar la validación cruzada por grupos\n",
        "for (train_index, test_index) in group_kfold.split(X, y, groups):\n",
        "    X_train, X_test = X[train_index], X[test_index]\n",
        "    y_train, y_test = y[train_index], y[test_index]\n",
        "    train_groups = groups[train_index]\n",
        "    test_groups = groups[test_index]\n",
        "\n",
        "    # Entrenar y evaluar cada modelo\n",
        "    for name, model in models:\n",
        "        clf = model\n",
        "        clf.fit(X_train, y_train)\n",
        "        y_pred = clf.predict(X_test)\n",
        "\n",
        "        accuracy = accuracy_score(y_test, y_pred)\n",
        "        f1 = f1_score(y_test, y_pred)\n",
        "        precision = precision_score(y_test, y_pred)\n",
        "        sensitivity = recall_score(y_test, y_pred)\n",
        "\n",
        "        results[name]['accuracy'].append(accuracy)\n",
        "        results[name]['f1'].append(f1)\n",
        "        results[name]['precision'].append(precision)\n",
        "        results[name]['sensitivity'].append(sensitivity)"
      ]
    },
    {
      "cell_type": "code",
      "execution_count": null,
      "metadata": {
        "id": "9TJD1Mzq8xH5",
        "outputId": "0d9898dc-7f6f-42e0-d9e9-e4a4089c860a"
      },
      "outputs": [
        {
          "name": "stdout",
          "output_type": "stream",
          "text": [
            "=========== Resultados para GNB ===========\n",
            "  accuracy: 0.4757\n",
            "  f1: 0.4310\n",
            "  precision: 0.4553\n",
            "  sensitivity: 0.5000\n",
            "\n",
            "=========== Resultados para DT DEFAULT ===========\n",
            "  accuracy: 0.4094\n",
            "  f1: 0.3870\n",
            "  precision: 0.3817\n",
            "  sensitivity: 0.4231\n",
            "\n",
            "=========== Resultados para DT2 ===========\n",
            "  accuracy: 0.4441\n",
            "  f1: 0.4420\n",
            "  precision: 0.4164\n",
            "  sensitivity: 0.5256\n",
            "\n",
            "=========== Resultados para DT40 ===========\n",
            "  accuracy: 0.4766\n",
            "  f1: 0.5213\n",
            "  precision: 0.4909\n",
            "  sensitivity: 0.6132\n",
            "\n",
            "=========== Resultados para RF50 ===========\n",
            "  accuracy: 0.4309\n",
            "  f1: 0.3134\n",
            "  precision: 0.3378\n",
            "  sensitivity: 0.3736\n",
            "\n",
            "=========== Resultados para RF100 ===========\n",
            "  accuracy: 0.4501\n",
            "  f1: 0.3690\n",
            "  precision: 0.4206\n",
            "  sensitivity: 0.4139\n",
            "\n",
            "=========== Resultados para RF200 ===========\n",
            "  accuracy: 0.4565\n",
            "  f1: 0.3736\n",
            "  precision: 0.4078\n",
            "  sensitivity: 0.4249\n",
            "\n",
            "=========== Resultados para SVM LINEAR ===========\n",
            "  accuracy: 0.7462\n",
            "  f1: 0.6393\n",
            "  precision: 0.7813\n",
            "  sensitivity: 0.6188\n",
            "\n",
            "=========== Resultados para SVM RBF ===========\n",
            "  accuracy: 0.7779\n",
            "  f1: 0.6831\n",
            "  precision: 0.7681\n",
            "  sensitivity: 0.7198\n",
            "\n",
            "=========== Resultados para SVM POLY DEGREE 3 ===========\n",
            "  accuracy: 0.4827\n",
            "  f1: 0.1116\n",
            "  precision: 0.4336\n",
            "  sensitivity: 0.0660\n",
            "\n",
            "=========== Resultados para LR ===========\n",
            "  accuracy: 0.7945\n",
            "  f1: 0.6908\n",
            "  precision: 0.8659\n",
            "  sensitivity: 0.6380\n",
            "\n"
          ]
        }
      ],
      "source": [
        "# Calcular las métricas promedio para cada modelo\n",
        "avg_results = {name: {metric: np.mean(scores) for metric, scores in metrics.items()} for name, metrics in results.items()}\n",
        "\n",
        "# Mostrar resultados promedio\n",
        "for name, metrics in avg_results.items():\n",
        "    print(f\"{11*'='} Resultados para {name} {11*'='}\")\n",
        "    for metric, score in metrics.items():\n",
        "        print(f\"  {metric}: {score:.4f}\")\n",
        "    print()"
      ]
    },
    {
      "cell_type": "markdown",
      "metadata": {
        "id": "FNJjbgmlVIEo"
      },
      "source": [
        "# <a name=\"tema2\"> <font color='#4C5FDA'> **4. Bibliografía**</font> </a>\n",
        "\n",
        "\n",
        "* GroupKFold. (s. f.). Scikit-learn. https://scikit-learn.org/stable/modules/generated/sklearn.model_selection.GroupKFold.html\n",
        "* StandardScaler. (s. f.). Scikit-learn. https://scikit-learn.org/stable/modules/generated/sklearn.preprocessing.StandardScaler.html\n",
        "\n",
        "\n",
        "\n",
        "\n",
        "\n",
        "\n",
        "\n"
      ]
    }
  ],
  "metadata": {
    "colab": {
      "collapsed_sections": [
        "6L_C1BnGtaro",
        "wA6Ypkep1jP5",
        "z0OKPi8r2Xts",
        "ki0pKS-23IIh",
        "DNfT3rwT3o4U",
        "jurMwrCN5i5H",
        "js9ahwH76kG8",
        "M4aUdVB28mCb",
        "fTXCbT3h_f4Q",
        "FUyDnEQAtuSd",
        "1KiL84UGOC4m",
        "knBPT-WARPt1",
        "A_uZb3e5Z_Mg",
        "J_aujzPVsTi9"
      ],
      "provenance": []
    },
    "kernelspec": {
      "display_name": "Python 3",
      "name": "python3"
    },
    "language_info": {
      "codemirror_mode": {
        "name": "ipython",
        "version": 3
      },
      "file_extension": ".py",
      "mimetype": "text/x-python",
      "name": "python",
      "nbconvert_exporter": "python",
      "pygments_lexer": "ipython3",
      "version": "3.10.12"
    }
  },
  "nbformat": 4,
  "nbformat_minor": 0
}