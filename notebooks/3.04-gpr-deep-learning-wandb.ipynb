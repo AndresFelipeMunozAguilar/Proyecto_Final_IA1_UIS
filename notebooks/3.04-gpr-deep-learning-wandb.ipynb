{
  "cells": [
    {
      "cell_type": "markdown",
      "metadata": {
        "id": "GYjq5aYppPwR"
      },
      "source": [
        "---\n",
        "\n",
        "\n",
        "\n",
        "# <font color='#ECA702'>**Análisis Multimodal de Síntomas en la Enfermedad de Parkinson**</font>"
      ]
    },
    {
      "cell_type": "code",
      "execution_count": 1,
      "metadata": {
        "cellView": "form",
        "id": "YPbGIx_RCIav"
      },
      "outputs": [],
      "source": [
        "#@title **Instalar paquetes necesarios**\n",
        "\n",
        "%%capture\n",
        "! pip install torchmetrics\n",
        "! pip install wandb -Uq\n",
        "! pip install onnx"
      ]
    },
    {
      "cell_type": "code",
      "execution_count": 2,
      "metadata": {
        "cellView": "form",
        "colab": {
          "base_uri": "https://localhost:8080/",
          "height": 121
        },
        "id": "89BxmLrSpPwT",
        "outputId": "cd9a920c-2520-473a-d13c-2834a7844865"
      },
      "outputs": [
        {
          "data": {
            "application/javascript": "\n        window._wandbApiKey = new Promise((resolve, reject) => {\n            function loadScript(url) {\n            return new Promise(function(resolve, reject) {\n                let newScript = document.createElement(\"script\");\n                newScript.onerror = reject;\n                newScript.onload = resolve;\n                document.body.appendChild(newScript);\n                newScript.src = url;\n            });\n            }\n            loadScript(\"https://cdn.jsdelivr.net/npm/postmate/build/postmate.min.js\").then(() => {\n            const iframe = document.createElement('iframe')\n            iframe.style.cssText = \"width:0;height:0;border:none\"\n            document.body.appendChild(iframe)\n            const handshake = new Postmate({\n                container: iframe,\n                url: 'https://wandb.ai/authorize'\n            });\n            const timeout = setTimeout(() => reject(\"Couldn't auto authenticate\"), 5000)\n            handshake.then(function(child) {\n                child.on('authorize', data => {\n                    clearTimeout(timeout)\n                    resolve(data)\n                });\n            });\n            })\n        });\n    ",
            "text/plain": [
              "<IPython.core.display.Javascript object>"
            ]
          },
          "metadata": {},
          "output_type": "display_data"
        },
        {
          "name": "stderr",
          "output_type": "stream",
          "text": [
            "\u001b[34m\u001b[1mwandb\u001b[0m: Logging into wandb.ai. (Learn how to deploy a W&B server locally: https://wandb.me/wandb-server)\n",
            "\u001b[34m\u001b[1mwandb\u001b[0m: You can find your API key in your browser here: https://wandb.ai/authorize\n",
            "wandb: Paste an API key from your profile and hit enter, or press ctrl+c to quit:"
          ]
        },
        {
          "name": "stdout",
          "output_type": "stream",
          "text": [
            " ··········\n"
          ]
        },
        {
          "name": "stderr",
          "output_type": "stream",
          "text": [
            "\u001b[34m\u001b[1mwandb\u001b[0m: Appending key for api.wandb.ai to your netrc file: /root/.netrc\n"
          ]
        },
        {
          "data": {
            "text/plain": [
              "True"
            ]
          },
          "execution_count": 2,
          "metadata": {},
          "output_type": "execute_result"
        }
      ],
      "source": [
        "#@title **Importar librerías**\n",
        "\n",
        "# Manipulación de datos\n",
        "import os\n",
        "import cv2\n",
        "import numpy as np\n",
        "import librosa\n",
        "import pandas as pd\n",
        "from zipfile import ZipFile\n",
        "\n",
        "# Pytorch essentials\n",
        "import torch\n",
        "import torch.nn as nn\n",
        "import torch.nn.functional as F\n",
        "\n",
        "# Pytorch metrics\n",
        "from torchmetrics.classification import BinaryAccuracy, BinaryF1Score, BinaryRecall, BinaryPrecision\n",
        "\n",
        "# Pytorch essentials for datasets.\n",
        "from torch.utils.data import Dataset, DataLoader\n",
        "\n",
        "# sklearn\n",
        "from sklearn.model_selection import GroupKFold\n",
        "\n",
        "# wandb\n",
        "import wandb\n",
        "wandb.login()"
      ]
    },
    {
      "cell_type": "code",
      "execution_count": 3,
      "metadata": {
        "cellView": "form",
        "colab": {
          "base_uri": "https://localhost:8080/"
        },
        "id": "7kyzPDeVpPwU",
        "outputId": "2dcaeaa2-f95b-467e-86ad-60b352af9b0e"
      },
      "outputs": [
        {
          "name": "stdout",
          "output_type": "stream",
          "text": [
            "Mounted at /content/drive\n",
            "/content/drive/My Drive/data_parkinson\n"
          ]
        }
      ],
      "source": [
        "#@title **Cargamos los datos desde Drive**\n",
        "\n",
        "from google.colab import drive\n",
        "drive.mount('/content/drive')\n",
        "os.chdir('/content/drive/My Drive/data_parkinson')\n",
        "print(os.getcwd())"
      ]
    },
    {
      "cell_type": "code",
      "execution_count": 4,
      "metadata": {
        "colab": {
          "base_uri": "https://localhost:8080/"
        },
        "id": "vqX7Xwgd-TuU",
        "outputId": "e9d98f5e-0d26-4ce8-a66a-71dba4fb3b14"
      },
      "outputs": [
        {
          "name": "stdout",
          "output_type": "stream",
          "text": [
            "/data\n",
            "\u001b[0m\u001b[01;34mAudioVisualData_v7\u001b[0m/  data.csv\n"
          ]
        }
      ],
      "source": [
        "#@title **Extraer el zip**\n",
        "\n",
        "os.mkdir('../../../../data')\n",
        "os.popen('cp data.csv ../../../../data/data.csv')\n",
        "target_path = os.path.join('../../../../data') # Aquí es donde van a quedar los datos\n",
        "# deben quedar fuera de drive para poder acceder a ellos 'localmente'\n",
        "\n",
        "# Unzip the downloaded files\n",
        "zip_file_path = os.path.join('AudioVisualData_v7.zip')\n",
        "with ZipFile(zip_file_path, 'r') as zip_ref:\n",
        "    zip_ref.extractall(target_path)\n",
        "\n",
        "# # Me muevo hasta donde quedaron los datos\n",
        "%cd ../../../../data\n",
        "# Verifico\n",
        "%ls"
      ]
    },
    {
      "cell_type": "markdown",
      "metadata": {
        "id": "AI_cmB-BpPwU"
      },
      "source": [
        "## <font color='#4C5FDA'>**Procesamiento del dataset**</font>"
      ]
    },
    {
      "cell_type": "markdown",
      "metadata": {
        "id": "aD0Bee8VqyYi"
      },
      "source": [
        "### <font color='#52F17F'>**Creación del Dataset Pandas auxiliar**</font>"
      ]
    },
    {
      "cell_type": "code",
      "execution_count": 5,
      "metadata": {
        "colab": {
          "base_uri": "https://localhost:8080/",
          "height": 431
        },
        "id": "2mB_EpmMqxm-",
        "outputId": "d67bd742-2b25-4d78-9bee-3e860a701fa8"
      },
      "outputs": [
        {
          "data": {
            "application/vnd.google.colaboratory.intrinsic+json": {
              "summary": "{\n  \"name\": \"data\",\n  \"rows\": 1091,\n  \"fields\": [\n    {\n      \"column\": \"patient\",\n      \"properties\": {\n        \"dtype\": \"category\",\n        \"num_unique_values\": 14,\n        \"samples\": [\n          \"P7\",\n          \"P8\",\n          \"C2\"\n        ],\n        \"semantic_type\": \"\",\n        \"description\": \"\"\n      }\n    },\n    {\n      \"column\": \"audio_path\",\n      \"properties\": {\n        \"dtype\": \"string\",\n        \"num_unique_values\": 1091,\n        \"samples\": [\n          \"AudioVisualData_v7/Parkinson/P4/Phonemes/audio/P4-1-Pakata.mp3\",\n          \"AudioVisualData_v7/Parkinson/P1/Vowels/audio/P1-2-A.mp3\",\n          \"AudioVisualData_v7/Parkinson/P6/Phonemes/audio/P6-3-Pataka.mp3\"\n        ],\n        \"semantic_type\": \"\",\n        \"description\": \"\"\n      }\n    },\n    {\n      \"column\": \"frames_path\",\n      \"properties\": {\n        \"dtype\": \"string\",\n        \"num_unique_values\": 1091,\n        \"samples\": [\n          \"AudioVisualData_v7/Parkinson/P4/Phonemes/frames/P4-1-Pakata.mov\",\n          \"AudioVisualData_v7/Parkinson/P1/Vowels/frames/P1-2-A.mov\",\n          \"AudioVisualData_v7/Parkinson/P6/Phonemes/frames/P6-3-Pataka.mov\"\n        ],\n        \"semantic_type\": \"\",\n        \"description\": \"\"\n      }\n    },\n    {\n      \"column\": \"label\",\n      \"properties\": {\n        \"dtype\": \"number\",\n        \"std\": 0.5002290950864771,\n        \"min\": 0.0,\n        \"max\": 1.0,\n        \"num_unique_values\": 2,\n        \"samples\": [\n          1.0,\n          0.0\n        ],\n        \"semantic_type\": \"\",\n        \"description\": \"\"\n      }\n    },\n    {\n      \"column\": \"flatten_log_mel_spectogram\",\n      \"properties\": {\n        \"dtype\": \"object\",\n        \"semantic_type\": \"\",\n        \"description\": \"\"\n      }\n    }\n  ]\n}",
              "type": "dataframe",
              "variable_name": "data"
            },
            "text/html": [
              "\n",
              "  <div id=\"df-f42dbfb3-e9d1-4f29-b3e3-ea714747087b\" class=\"colab-df-container\">\n",
              "    <div>\n",
              "<style scoped>\n",
              "    .dataframe tbody tr th:only-of-type {\n",
              "        vertical-align: middle;\n",
              "    }\n",
              "\n",
              "    .dataframe tbody tr th {\n",
              "        vertical-align: top;\n",
              "    }\n",
              "\n",
              "    .dataframe thead th {\n",
              "        text-align: right;\n",
              "    }\n",
              "</style>\n",
              "<table border=\"1\" class=\"dataframe\">\n",
              "  <thead>\n",
              "    <tr style=\"text-align: right;\">\n",
              "      <th></th>\n",
              "      <th>audio_path</th>\n",
              "      <th>frames_path</th>\n",
              "      <th>label</th>\n",
              "      <th>flatten_log_mel_spectogram</th>\n",
              "    </tr>\n",
              "    <tr>\n",
              "      <th>patient</th>\n",
              "      <th></th>\n",
              "      <th></th>\n",
              "      <th></th>\n",
              "      <th></th>\n",
              "    </tr>\n",
              "  </thead>\n",
              "  <tbody>\n",
              "    <tr>\n",
              "      <th>C2</th>\n",
              "      <td>AudioVisualData_v7/Control/C2/Vowels/audio/C2-...</td>\n",
              "      <td>AudioVisualData_v7/Control/C2/Vowels/frames/C2...</td>\n",
              "      <td>0.0</td>\n",
              "      <td>[-60.66636657714844, -19.715749740600586, -24....</td>\n",
              "    </tr>\n",
              "    <tr>\n",
              "      <th>C2</th>\n",
              "      <td>AudioVisualData_v7/Control/C2/Vowels/audio/C2-...</td>\n",
              "      <td>AudioVisualData_v7/Control/C2/Vowels/frames/C2...</td>\n",
              "      <td>0.0</td>\n",
              "      <td>[-61.8838005065918, -28.279430389404297, -28.8...</td>\n",
              "    </tr>\n",
              "    <tr>\n",
              "      <th>C2</th>\n",
              "      <td>AudioVisualData_v7/Control/C2/Vowels/audio/C2-...</td>\n",
              "      <td>AudioVisualData_v7/Control/C2/Vowels/frames/C2...</td>\n",
              "      <td>0.0</td>\n",
              "      <td>[-59.091400146484375, -25.001014709472656, -28...</td>\n",
              "    </tr>\n",
              "    <tr>\n",
              "      <th>C2</th>\n",
              "      <td>AudioVisualData_v7/Control/C2/Vowels/audio/C2-...</td>\n",
              "      <td>AudioVisualData_v7/Control/C2/Vowels/frames/C2...</td>\n",
              "      <td>0.0</td>\n",
              "      <td>[-60.556915283203125, -20.145050048828125, -20...</td>\n",
              "    </tr>\n",
              "    <tr>\n",
              "      <th>C2</th>\n",
              "      <td>AudioVisualData_v7/Control/C2/Vowels/audio/C2-...</td>\n",
              "      <td>AudioVisualData_v7/Control/C2/Vowels/frames/C2...</td>\n",
              "      <td>0.0</td>\n",
              "      <td>[-69.82708740234375, -20.313282012939453, -26....</td>\n",
              "    </tr>\n",
              "  </tbody>\n",
              "</table>\n",
              "</div>\n",
              "    <div class=\"colab-df-buttons\">\n",
              "\n",
              "  <div class=\"colab-df-container\">\n",
              "    <button class=\"colab-df-convert\" onclick=\"convertToInteractive('df-f42dbfb3-e9d1-4f29-b3e3-ea714747087b')\"\n",
              "            title=\"Convert this dataframe to an interactive table.\"\n",
              "            style=\"display:none;\">\n",
              "\n",
              "  <svg xmlns=\"http://www.w3.org/2000/svg\" height=\"24px\" viewBox=\"0 -960 960 960\">\n",
              "    <path d=\"M120-120v-720h720v720H120Zm60-500h600v-160H180v160Zm220 220h160v-160H400v160Zm0 220h160v-160H400v160ZM180-400h160v-160H180v160Zm440 0h160v-160H620v160ZM180-180h160v-160H180v160Zm440 0h160v-160H620v160Z\"/>\n",
              "  </svg>\n",
              "    </button>\n",
              "\n",
              "  <style>\n",
              "    .colab-df-container {\n",
              "      display:flex;\n",
              "      gap: 12px;\n",
              "    }\n",
              "\n",
              "    .colab-df-convert {\n",
              "      background-color: #E8F0FE;\n",
              "      border: none;\n",
              "      border-radius: 50%;\n",
              "      cursor: pointer;\n",
              "      display: none;\n",
              "      fill: #1967D2;\n",
              "      height: 32px;\n",
              "      padding: 0 0 0 0;\n",
              "      width: 32px;\n",
              "    }\n",
              "\n",
              "    .colab-df-convert:hover {\n",
              "      background-color: #E2EBFA;\n",
              "      box-shadow: 0px 1px 2px rgba(60, 64, 67, 0.3), 0px 1px 3px 1px rgba(60, 64, 67, 0.15);\n",
              "      fill: #174EA6;\n",
              "    }\n",
              "\n",
              "    .colab-df-buttons div {\n",
              "      margin-bottom: 4px;\n",
              "    }\n",
              "\n",
              "    [theme=dark] .colab-df-convert {\n",
              "      background-color: #3B4455;\n",
              "      fill: #D2E3FC;\n",
              "    }\n",
              "\n",
              "    [theme=dark] .colab-df-convert:hover {\n",
              "      background-color: #434B5C;\n",
              "      box-shadow: 0px 1px 3px 1px rgba(0, 0, 0, 0.15);\n",
              "      filter: drop-shadow(0px 1px 2px rgba(0, 0, 0, 0.3));\n",
              "      fill: #FFFFFF;\n",
              "    }\n",
              "  </style>\n",
              "\n",
              "    <script>\n",
              "      const buttonEl =\n",
              "        document.querySelector('#df-f42dbfb3-e9d1-4f29-b3e3-ea714747087b button.colab-df-convert');\n",
              "      buttonEl.style.display =\n",
              "        google.colab.kernel.accessAllowed ? 'block' : 'none';\n",
              "\n",
              "      async function convertToInteractive(key) {\n",
              "        const element = document.querySelector('#df-f42dbfb3-e9d1-4f29-b3e3-ea714747087b');\n",
              "        const dataTable =\n",
              "          await google.colab.kernel.invokeFunction('convertToInteractive',\n",
              "                                                    [key], {});\n",
              "        if (!dataTable) return;\n",
              "\n",
              "        const docLinkHtml = 'Like what you see? Visit the ' +\n",
              "          '<a target=\"_blank\" href=https://colab.research.google.com/notebooks/data_table.ipynb>data table notebook</a>'\n",
              "          + ' to learn more about interactive tables.';\n",
              "        element.innerHTML = '';\n",
              "        dataTable['output_type'] = 'display_data';\n",
              "        await google.colab.output.renderOutput(dataTable, element);\n",
              "        const docLink = document.createElement('div');\n",
              "        docLink.innerHTML = docLinkHtml;\n",
              "        element.appendChild(docLink);\n",
              "      }\n",
              "    </script>\n",
              "  </div>\n",
              "\n",
              "\n",
              "<div id=\"df-649e0bdd-ec6f-406c-86cc-de3a50796cd2\">\n",
              "  <button class=\"colab-df-quickchart\" onclick=\"quickchart('df-649e0bdd-ec6f-406c-86cc-de3a50796cd2')\"\n",
              "            title=\"Suggest charts\"\n",
              "            style=\"display:none;\">\n",
              "\n",
              "<svg xmlns=\"http://www.w3.org/2000/svg\" height=\"24px\"viewBox=\"0 0 24 24\"\n",
              "     width=\"24px\">\n",
              "    <g>\n",
              "        <path d=\"M19 3H5c-1.1 0-2 .9-2 2v14c0 1.1.9 2 2 2h14c1.1 0 2-.9 2-2V5c0-1.1-.9-2-2-2zM9 17H7v-7h2v7zm4 0h-2V7h2v10zm4 0h-2v-4h2v4z\"/>\n",
              "    </g>\n",
              "</svg>\n",
              "  </button>\n",
              "\n",
              "<style>\n",
              "  .colab-df-quickchart {\n",
              "      --bg-color: #E8F0FE;\n",
              "      --fill-color: #1967D2;\n",
              "      --hover-bg-color: #E2EBFA;\n",
              "      --hover-fill-color: #174EA6;\n",
              "      --disabled-fill-color: #AAA;\n",
              "      --disabled-bg-color: #DDD;\n",
              "  }\n",
              "\n",
              "  [theme=dark] .colab-df-quickchart {\n",
              "      --bg-color: #3B4455;\n",
              "      --fill-color: #D2E3FC;\n",
              "      --hover-bg-color: #434B5C;\n",
              "      --hover-fill-color: #FFFFFF;\n",
              "      --disabled-bg-color: #3B4455;\n",
              "      --disabled-fill-color: #666;\n",
              "  }\n",
              "\n",
              "  .colab-df-quickchart {\n",
              "    background-color: var(--bg-color);\n",
              "    border: none;\n",
              "    border-radius: 50%;\n",
              "    cursor: pointer;\n",
              "    display: none;\n",
              "    fill: var(--fill-color);\n",
              "    height: 32px;\n",
              "    padding: 0;\n",
              "    width: 32px;\n",
              "  }\n",
              "\n",
              "  .colab-df-quickchart:hover {\n",
              "    background-color: var(--hover-bg-color);\n",
              "    box-shadow: 0 1px 2px rgba(60, 64, 67, 0.3), 0 1px 3px 1px rgba(60, 64, 67, 0.15);\n",
              "    fill: var(--button-hover-fill-color);\n",
              "  }\n",
              "\n",
              "  .colab-df-quickchart-complete:disabled,\n",
              "  .colab-df-quickchart-complete:disabled:hover {\n",
              "    background-color: var(--disabled-bg-color);\n",
              "    fill: var(--disabled-fill-color);\n",
              "    box-shadow: none;\n",
              "  }\n",
              "\n",
              "  .colab-df-spinner {\n",
              "    border: 2px solid var(--fill-color);\n",
              "    border-color: transparent;\n",
              "    border-bottom-color: var(--fill-color);\n",
              "    animation:\n",
              "      spin 1s steps(1) infinite;\n",
              "  }\n",
              "\n",
              "  @keyframes spin {\n",
              "    0% {\n",
              "      border-color: transparent;\n",
              "      border-bottom-color: var(--fill-color);\n",
              "      border-left-color: var(--fill-color);\n",
              "    }\n",
              "    20% {\n",
              "      border-color: transparent;\n",
              "      border-left-color: var(--fill-color);\n",
              "      border-top-color: var(--fill-color);\n",
              "    }\n",
              "    30% {\n",
              "      border-color: transparent;\n",
              "      border-left-color: var(--fill-color);\n",
              "      border-top-color: var(--fill-color);\n",
              "      border-right-color: var(--fill-color);\n",
              "    }\n",
              "    40% {\n",
              "      border-color: transparent;\n",
              "      border-right-color: var(--fill-color);\n",
              "      border-top-color: var(--fill-color);\n",
              "    }\n",
              "    60% {\n",
              "      border-color: transparent;\n",
              "      border-right-color: var(--fill-color);\n",
              "    }\n",
              "    80% {\n",
              "      border-color: transparent;\n",
              "      border-right-color: var(--fill-color);\n",
              "      border-bottom-color: var(--fill-color);\n",
              "    }\n",
              "    90% {\n",
              "      border-color: transparent;\n",
              "      border-bottom-color: var(--fill-color);\n",
              "    }\n",
              "  }\n",
              "</style>\n",
              "\n",
              "  <script>\n",
              "    async function quickchart(key) {\n",
              "      const quickchartButtonEl =\n",
              "        document.querySelector('#' + key + ' button');\n",
              "      quickchartButtonEl.disabled = true;  // To prevent multiple clicks.\n",
              "      quickchartButtonEl.classList.add('colab-df-spinner');\n",
              "      try {\n",
              "        const charts = await google.colab.kernel.invokeFunction(\n",
              "            'suggestCharts', [key], {});\n",
              "      } catch (error) {\n",
              "        console.error('Error during call to suggestCharts:', error);\n",
              "      }\n",
              "      quickchartButtonEl.classList.remove('colab-df-spinner');\n",
              "      quickchartButtonEl.classList.add('colab-df-quickchart-complete');\n",
              "    }\n",
              "    (() => {\n",
              "      let quickchartButtonEl =\n",
              "        document.querySelector('#df-649e0bdd-ec6f-406c-86cc-de3a50796cd2 button');\n",
              "      quickchartButtonEl.style.display =\n",
              "        google.colab.kernel.accessAllowed ? 'block' : 'none';\n",
              "    })();\n",
              "  </script>\n",
              "</div>\n",
              "\n",
              "    </div>\n",
              "  </div>\n"
            ],
            "text/plain": [
              "                                                audio_path  \\\n",
              "patient                                                      \n",
              "C2       AudioVisualData_v7/Control/C2/Vowels/audio/C2-...   \n",
              "C2       AudioVisualData_v7/Control/C2/Vowels/audio/C2-...   \n",
              "C2       AudioVisualData_v7/Control/C2/Vowels/audio/C2-...   \n",
              "C2       AudioVisualData_v7/Control/C2/Vowels/audio/C2-...   \n",
              "C2       AudioVisualData_v7/Control/C2/Vowels/audio/C2-...   \n",
              "\n",
              "                                               frames_path  label  \\\n",
              "patient                                                             \n",
              "C2       AudioVisualData_v7/Control/C2/Vowels/frames/C2...    0.0   \n",
              "C2       AudioVisualData_v7/Control/C2/Vowels/frames/C2...    0.0   \n",
              "C2       AudioVisualData_v7/Control/C2/Vowels/frames/C2...    0.0   \n",
              "C2       AudioVisualData_v7/Control/C2/Vowels/frames/C2...    0.0   \n",
              "C2       AudioVisualData_v7/Control/C2/Vowels/frames/C2...    0.0   \n",
              "\n",
              "                                flatten_log_mel_spectogram  \n",
              "patient                                                     \n",
              "C2       [-60.66636657714844, -19.715749740600586, -24....  \n",
              "C2       [-61.8838005065918, -28.279430389404297, -28.8...  \n",
              "C2       [-59.091400146484375, -25.001014709472656, -28...  \n",
              "C2       [-60.556915283203125, -20.145050048828125, -20...  \n",
              "C2       [-69.82708740234375, -20.313282012939453, -26....  "
            ]
          },
          "execution_count": 5,
          "metadata": {},
          "output_type": "execute_result"
        }
      ],
      "source": [
        "data = pd.read_csv(\"data.csv\", index_col='patient')\n",
        "\n",
        "def string2array(string: str):\n",
        "  \"\"\" Convierte un string con datos a numpy array \"\"\"\n",
        "  string = string.strip('[]')\n",
        "  return np.fromstring(string, sep=',')\n",
        "\n",
        "data['flatten_log_mel_spectogram'] = data['flatten_log_mel_spectogram'].apply(string2array)\n",
        "data.head()"
      ]
    },
    {
      "cell_type": "markdown",
      "metadata": {
        "id": "j_gRyCKHpPwZ"
      },
      "source": [
        "### <font color='#52F17F'>**Creación del Dataset PyTorch**</font>"
      ]
    },
    {
      "cell_type": "code",
      "execution_count": 6,
      "metadata": {
        "id": "_kEXiniXpPwV"
      },
      "outputs": [],
      "source": [
        "\"\"\"\n",
        "Constante sacada de la media de cantidad de frames de todos los vídeos multiplicada por 0.1\n",
        "para tener el 10%\n",
        "\"\"\"\n",
        "\n",
        "FRAMES_PROMEDIO = 14"
      ]
    },
    {
      "cell_type": "code",
      "execution_count": 7,
      "metadata": {
        "id": "8OL_3J7jpPwZ"
      },
      "outputs": [],
      "source": [
        "class PatientDataset(Dataset):\n",
        "  def __init__(self, dataframe, n_frames = FRAMES_PROMEDIO):\n",
        "    self.dataframe = dataframe\n",
        "    # self.transform = transform\n",
        "    self.n_frames = n_frames\n",
        "    # self.audios = sorted(os.listdir(audio_dir)) # Listamos todas las imagenes en la carpeta\n",
        "\n",
        "  def __len__(self):\n",
        "    return len(self.dataframe)\n",
        "\n",
        "  def __getitem__(self, index):\n",
        "\n",
        "    \"\"\" Carga de la imagen \"\"\"\n",
        "\n",
        "    # Entramos a la carpeta y conseguimos el audio de la lista\n",
        "    # audio_path = os.path.join(self.audio_dir, self.audios[index])\n",
        "    # audio_path = os.path.join(self.dataframe['audio_path'][index])\n",
        "\n",
        "    # Leemos el audio\n",
        "    audio = self.dataframe['flatten_log_mel_spectogram'][index].astype(np.float32)\n",
        "    audio = audio.reshape((90, 10))\n",
        "    audio = torch.from_numpy(audio).unsqueeze(0)\n",
        "\n",
        "    \"\"\" Carga de los frames \"\"\"\n",
        "\n",
        "    # Entramos a la carpeta y conseguimos los frames de la lista.\n",
        "      # La razon por la que uso la misma lista de audios es porque el audio y el vídeo\n",
        "      # tienen el mismo nombre, solo cambia la ruta de la carpeta y la extensión.\n",
        "    \"\"\" audios: AudioVisualData_v7/Control/C0/Phonemes/audio/C0-1-Pakata.mp3 \"\"\"\n",
        "    \"\"\" vídeo: AudioVisualData_v7/Control/C0/Phonemes/frames/C0-1-Pakata.mov \"\"\"\n",
        "    video_path = os.path.join(self.dataframe['frames_path'][index])\n",
        "    # video_path = os.path.join(self.video_dir, self.audios[index].replace(\".mp3\", \".mov\"))\n",
        "\n",
        "    frames_path = sorted(os.listdir(video_path))[:self.n_frames]\n",
        "    frames = []\n",
        "    for frame in frames_path:\n",
        "      frame_path = os.path.join(self.dataframe['frames_path'][index], frame)\n",
        "      # print(frame_path)\n",
        "      frame = cv2.imread(frame_path, cv2.IMREAD_GRAYSCALE)\n",
        "      frame = cv2.resize(frame, (112, 112)) # Resize a 112x112\n",
        "      frame = frame / 255. # Normalizamos entre 0 y 1\n",
        "      frames.append(frame)\n",
        "\n",
        "    frames = np.expand_dims(np.stack(frames), axis=1).astype('float32')\n",
        "    frames = frames.transpose(1, 0, 2, 3)\n",
        "    frames = torch.from_numpy(frames)\n",
        "\n",
        "    \"\"\" Consiguiendo el label \"\"\"\n",
        "\n",
        "    # Para conseguir la etiqueta simplemente me tengo que fijar en la ruta. Si es 'Parkinson' 1\n",
        "    # sino 0.\n",
        "\n",
        "    label = 1 if 'Parkinson' in self.dataframe['audio_path'][index] else 0\n",
        "\n",
        "    return audio, frames, label"
      ]
    },
    {
      "cell_type": "code",
      "execution_count": 8,
      "metadata": {
        "colab": {
          "base_uri": "https://localhost:8080/"
        },
        "id": "9hYyG5ZSpPwa",
        "outputId": "5fd8294d-1827-4fe8-b704-8cf33275d0a5"
      },
      "outputs": [
        {
          "name": "stdout",
          "output_type": "stream",
          "text": [
            "1091\n",
            "torch.Size([1, 90, 10]) torch.Size([1, 14, 112, 112]) 0\n"
          ]
        }
      ],
      "source": [
        "complete_dataset = PatientDataset(data)\n",
        "print(complete_dataset.__len__())\n",
        "print(complete_dataset[0][0].shape, complete_dataset[0][1].shape , complete_dataset[0][2])"
      ]
    },
    {
      "cell_type": "markdown",
      "metadata": {
        "id": "_ed1FV_F-Tub"
      },
      "source": [
        "### <font color='#52F17F'>**Visualización de los datos**</font>"
      ]
    },
    {
      "cell_type": "code",
      "execution_count": null,
      "metadata": {
        "id": "1gUnMuEs-Tuc"
      },
      "outputs": [],
      "source": [
        "def plot_frame_strip(frames, rows=2, cols=7):\n",
        "    \"\"\"\n",
        "    Hace un plot de la tira de frames en una matriz de imágenes.\n",
        "\n",
        "    Args:\n",
        "        frames (np.ndarray): Tensor de frames con forma (num_frames, height, width, channels).\n",
        "        rows (int): Número de filas en la tira de frames.\n",
        "        cols (int): Número de columnas en la tira de frames.\n",
        "    \"\"\"\n",
        "    fig, axes = plt.subplots(rows, cols, figsize=(20, 6))\n",
        "\n",
        "    for i in range(rows):\n",
        "        for j in range(cols):\n",
        "            idx = i * cols + j\n",
        "            if idx < len(frames):\n",
        "                axes[i, j].imshow(frames[idx], cmap='gray')\n",
        "                axes[i, j].axis('off')\n",
        "                axes[i, j].set_title(f\"Frame: {idx}\")\n",
        "    plt.show()"
      ]
    },
    {
      "cell_type": "code",
      "execution_count": null,
      "metadata": {
        "id": "91lout8e-Tud"
      },
      "outputs": [],
      "source": [
        "plot_frame_strip(complete_dataset[0][1].squeeze(0).numpy())"
      ]
    },
    {
      "cell_type": "code",
      "execution_count": null,
      "metadata": {
        "id": "M2ZUYD9n-Tud",
        "outputId": "4473ff0e-b9b5-4660-9192-3e8d4290fd22"
      },
      "outputs": [
        {
          "data": {
            "text/plain": [
              "(90, 10)"
            ]
          },
          "execution_count": 8,
          "metadata": {},
          "output_type": "execute_result"
        }
      ],
      "source": [
        "complete_dataset[0][0].squeeze(0).numpy().reshape((90, 10)).shape"
      ]
    },
    {
      "cell_type": "code",
      "execution_count": null,
      "metadata": {
        "id": "s70qLbPo-Tue",
        "outputId": "d45ca1d5-f9bf-4e98-a60d-e3e519812cd0"
      },
      "outputs": [
        {
          "data": {
            "image/png": "[encoded data removed]",
            "text/plain": [
              "<Figure size 1800x720 with 2 Axes>"
            ]
          },
          "metadata": {
            "needs_background": "light"
          },
          "output_type": "display_data"
        }
      ],
      "source": [
        "plt.figure(figsize=(25,10))\n",
        "librosa.display.specshow(complete_dataset[0][0].squeeze(0).numpy(), y_axis='mel', x_axis='time', sr=48000)\n",
        "plt.colorbar(format=\"%+2.f dB\")\n",
        "plt.show()"
      ]
    },
    {
      "cell_type": "markdown",
      "metadata": {
        "id": "0f3z4R6jpPwb"
      },
      "source": [
        "### <font color='#52F17F'>**Partición de los datos**</font>"
      ]
    },
    {
      "cell_type": "code",
      "execution_count": null,
      "metadata": {
        "id": "RP0vtE2SCIa2"
      },
      "outputs": [],
      "source": [
        "# Extraer los datos para GroupKFold https://discuss.pytorch.org/t/custom-datatype-for-many-images-to-one-label/87629\n",
        "X = [i for i in range(len(data))]\n",
        "y = data['label'].values\n",
        "groups = data.index.values"
      ]
    },
    {
      "cell_type": "code",
      "execution_count": null,
      "metadata": {
        "id": "n_oybvmvCIa3",
        "outputId": "41e4b86a-f461-4bd8-b72a-5f0a362c9c89"
      },
      "outputs": [
        {
          "name": "stdout",
          "output_type": "stream",
          "text": [
            "División 1:\n",
            "  Pacientes en entrenamiento: ['C0' 'C1' 'C2' 'C3' 'C4' 'C6' 'P0' 'P1' 'P4' 'P5' 'P6' 'P7']\n",
            "  Pacientes en prueba: ['C5' 'P8']\n",
            "  Número de pacientes en entrenamiento: 12\n",
            "  Número de pacientes en prueba: 2\n",
            "\n",
            "División 2:\n",
            "  Pacientes en entrenamiento: ['C0' 'C1' 'C2' 'C3' 'C5' 'C6' 'P0' 'P1' 'P4' 'P5' 'P6' 'P8']\n",
            "  Pacientes en prueba: ['C4' 'P7']\n",
            "  Número de pacientes en entrenamiento: 12\n",
            "  Número de pacientes en prueba: 2\n",
            "\n",
            "División 3:\n",
            "  Pacientes en entrenamiento: ['C0' 'C1' 'C2' 'C4' 'C5' 'C6' 'P0' 'P1' 'P4' 'P5' 'P7' 'P8']\n",
            "  Pacientes en prueba: ['C3' 'P6']\n",
            "  Número de pacientes en entrenamiento: 12\n",
            "  Número de pacientes en prueba: 2\n",
            "\n",
            "División 4:\n",
            "  Pacientes en entrenamiento: ['C0' 'C1' 'C3' 'C4' 'C5' 'C6' 'P0' 'P1' 'P4' 'P6' 'P7' 'P8']\n",
            "  Pacientes en prueba: ['C2' 'P5']\n",
            "  Número de pacientes en entrenamiento: 12\n",
            "  Número de pacientes en prueba: 2\n",
            "\n",
            "División 5:\n",
            "  Pacientes en entrenamiento: ['C0' 'C2' 'C3' 'C4' 'C5' 'C6' 'P0' 'P1' 'P5' 'P6' 'P7' 'P8']\n",
            "  Pacientes en prueba: ['C1' 'P4']\n",
            "  Número de pacientes en entrenamiento: 12\n",
            "  Número de pacientes en prueba: 2\n",
            "\n",
            "División 6:\n",
            "  Pacientes en entrenamiento: ['C1' 'C2' 'C3' 'C4' 'C5' 'C6' 'P0' 'P4' 'P5' 'P6' 'P7' 'P8']\n",
            "  Pacientes en prueba: ['C0' 'P1']\n",
            "  Número de pacientes en entrenamiento: 12\n",
            "  Número de pacientes en prueba: 2\n",
            "\n",
            "División 7:\n",
            "  Pacientes en entrenamiento: ['C0' 'C1' 'C2' 'C3' 'C4' 'C5' 'P1' 'P4' 'P5' 'P6' 'P7' 'P8']\n",
            "  Pacientes en prueba: ['C6' 'P0']\n",
            "  Número de pacientes en entrenamiento: 12\n",
            "  Número de pacientes en prueba: 2\n",
            "\n"
          ]
        }
      ],
      "source": [
        "groupk_folds = 7\n",
        "gkf = GroupKFold(n_splits=groupk_folds)\n",
        "# Realizar la validación cruzada por grupos\n",
        "for i, (train_index, test_index) in enumerate(gkf.split(X, y, groups), 1):\n",
        "    train_groups = groups[train_index]\n",
        "    test_groups = groups[test_index]\n",
        "\n",
        "    print(f\"División {i}:\")\n",
        "    print(\"  Pacientes en entrenamiento:\", np.unique(train_groups))\n",
        "    print(\"  Pacientes en prueba:\", np.unique(test_groups))\n",
        "    print(\"  Número de pacientes en entrenamiento:\", len(np.unique(train_groups)))\n",
        "    print(\"  Número de pacientes en prueba:\", len(np.unique(test_groups)))\n",
        "    print()"
      ]
    },
    {
      "cell_type": "markdown",
      "metadata": {
        "id": "4s_ubBlACIa4"
      },
      "source": [
        "### <font color='#52F17F'>**Make's for wandb**</font>"
      ]
    },
    {
      "cell_type": "code",
      "execution_count": 9,
      "metadata": {
        "id": "lqmwaxL-CIa4"
      },
      "outputs": [],
      "source": [
        "def get_data(train_index, test_index, data):\n",
        "    full_dataset = PatientDataset(data)\n",
        "\n",
        "    train_subset = torch.utils.data.Subset(full_dataset, train_index)\n",
        "    test_subset = torch.utils.data.Subset(full_dataset, test_index)\n",
        "\n",
        "    return train_subset, test_subset\n",
        "\n",
        "\n",
        "def make_loader(dataset, batch_size):\n",
        "    loader = torch.utils.data.DataLoader(dataset=dataset,\n",
        "                                         batch_size=batch_size,\n",
        "                                         shuffle=True,\n",
        "                                         pin_memory=True, num_workers=2)\n",
        "    return loader\n",
        "\n",
        "def build_optimizer(network, optimizer, learning_rate):\n",
        "    if optimizer == \"sgd\":\n",
        "        optimizer = torch.optim.SGD(network.parameters(),\n",
        "                              lr=learning_rate, momentum=0.9)\n",
        "    elif optimizer == \"adam\":\n",
        "        optimizer = torch.optim.Adam(network.parameters(),\n",
        "                               lr=learning_rate)\n",
        "    return optimizer"
      ]
    },
    {
      "cell_type": "markdown",
      "metadata": {
        "id": "WVi02_rZpPwb"
      },
      "source": [
        "## <font color='#ECA702'>**Modelo CNN 3D**</font>"
      ]
    },
    {
      "cell_type": "markdown",
      "metadata": {
        "id": "irytALTWpPwb"
      },
      "source": [
        "### <font color='#52F17F'>**Creando el modelo**</font>"
      ]
    },
    {
      "cell_type": "code",
      "execution_count": 10,
      "metadata": {
        "id": "7sBhA_5QCIa4"
      },
      "outputs": [],
      "source": [
        "# Conventional and convolutional neural network\n",
        "\n",
        "class ConvNet(nn.Module):\n",
        "    def __init__(self, kernels, input_size=[1, 14, 112, 112], classes=1):\n",
        "        super(ConvNet, self).__init__()\n",
        "\n",
        "        self.layer1 = nn.Sequential(\n",
        "            nn.Conv3d(1, kernels[0], kernel_size=5, stride=1, padding=2),\n",
        "            nn.ReLU(),\n",
        "            nn.MaxPool3d(kernel_size=2, stride=2))\n",
        "        self.layer2 = nn.Sequential(\n",
        "            nn.Conv3d(kernels[0], kernels[1], kernel_size=5, stride=1, padding=2),\n",
        "            nn.ReLU(),\n",
        "            nn.MaxPool3d(kernel_size=2, stride=2))\n",
        "\n",
        "        self.input_size = input_size\n",
        "        self.kernels = kernels\n",
        "\n",
        "        self.final_feature_size = self.calculate_final_feature_size()\n",
        "        # Adjust the fully connected layer to use the final feature size\n",
        "        self.fc = nn.Linear(self.final_feature_size, classes)\n",
        "        # self.fc = nn.Linear(3 * 28 * 28 * kernels[-1], classes)\n",
        "\n",
        "    def calculate_final_feature_size(self):\n",
        "        size_d, size_h, size_w = self.input_size[1:]\n",
        "        size_d = self.conv_output_size(size_d, 5, 1, 2) // 2  # layer1 depth\n",
        "        size_h = self.conv_output_size(size_h, 5, 1, 2) // 2  # layer1 height\n",
        "        size_w = self.conv_output_size(size_w, 5, 1, 2) // 2  # layer1 width\n",
        "\n",
        "        size_d = self.conv_output_size(size_d, 5, 1, 2) // 2  # layer2 depth\n",
        "        size_h = self.conv_output_size(size_h, 5, 1, 2) // 2  # layer2 height\n",
        "        size_w = self.conv_output_size(size_w, 5, 1, 2) // 2  # layer2 width\n",
        "\n",
        "        return size_d * size_h * size_w * self.kernels[-1]\n",
        "\n",
        "    def conv_output_size(self, size, kernel_size, stride, padding):\n",
        "        return (size - kernel_size + 2 * padding) // stride + 1\n",
        "\n",
        "    def forward(self, x):\n",
        "        out = self.layer1(x)\n",
        "        out = self.layer2(out)\n",
        "        out = out.view(out.size(0), -1)\n",
        "        out = self.fc(out)\n",
        "        return out"
      ]
    },
    {
      "cell_type": "code",
      "execution_count": 11,
      "metadata": {
        "colab": {
          "base_uri": "https://localhost:8080/"
        },
        "id": "wJHuZqJhpPwc",
        "outputId": "0f2f15c5-fbd6-436d-9dea-26f92cadfef8"
      },
      "outputs": [
        {
          "name": "stdout",
          "output_type": "stream",
          "text": [
            "Entrada video: (torch.Size([1, 1, 14, 112, 112]), torch.float32)\n",
            "Salida: torch.Size([1, 1])\n"
          ]
        }
      ],
      "source": [
        "# Test al modelo, para ver si nos entrega la salida esperada\n",
        "\n",
        "# n_channels = 1\n",
        "# n_classes = 2\n",
        "# input_audio = complete_dataset[0][0].unsqueeze(0)\n",
        "input_video = complete_dataset[0][1].unsqueeze(0)\n",
        "# print(f\"Entrada audio: {input_audio.size(), input_audio.dtype}\")\n",
        "print(f\"Entrada video: {input_video.size(), input_video.dtype}\")\n",
        "\n",
        "model = ConvNet(kernels=[32, 64], classes=1)\n",
        "ouput = model(input_video)\n",
        "print(f\"Salida: {ouput.size()}\")"
      ]
    },
    {
      "cell_type": "code",
      "execution_count": 12,
      "metadata": {
        "colab": {
          "base_uri": "https://localhost:8080/"
        },
        "id": "yMiRa6oFEd8B",
        "outputId": "44a98e97-7218-4426-e3de-9e04fdcc04d0"
      },
      "outputs": [
        {
          "name": "stdout",
          "output_type": "stream",
          "text": [
            "Entrada video: (torch.Size([2, 1, 14, 112, 112]), torch.float32)\n",
            "Salida: torch.Size([2, 1])\n"
          ]
        }
      ],
      "source": [
        "# Test al modelo, para ver si nos entrega la salida esperada\n",
        "\n",
        "input_video = torch.rand([2, 1, 14, 112, 112])\n",
        "# input_audio = torch.rand([2, 1, 90, 10])\n",
        "\n",
        "# print(f\"Entrada audio: {input_audio.size(), input_audio.dtype}\")\n",
        "print(f\"Entrada video: {input_video.size(), input_video.dtype}\")\n",
        "\n",
        "model = ConvNet(kernels=[32, 64], classes=1)\n",
        "ouput = model(input_video)\n",
        "print(f\"Salida: {ouput.size()}\")"
      ]
    },
    {
      "cell_type": "code",
      "execution_count": 13,
      "metadata": {
        "id": "-TPyFLy-hH23"
      },
      "outputs": [],
      "source": [
        "f1_fn = BinaryF1Score()\n",
        "acc_fn = BinaryAccuracy()\n",
        "recall_fn = BinaryRecall()\n",
        "precision_fn = BinaryPrecision()"
      ]
    },
    {
      "cell_type": "code",
      "execution_count": 14,
      "metadata": {
        "colab": {
          "base_uri": "https://localhost:8080/"
        },
        "id": "ItsnZvJYhH24",
        "outputId": "69c072af-3258-470c-eace-6b8bf344bf3d"
      },
      "outputs": [
        {
          "name": "stdout",
          "output_type": "stream",
          "text": [
            "torch.Size([6, 1]) torch.float32\n",
            "torch.Size([6, 1]) torch.float32\n",
            "tensor(0.6667) tensor(0.5000) tensor(1.) tensor(0.5000)\n"
          ]
        }
      ],
      "source": [
        "target = torch.tensor([0, 1, 0, 1, 0, 1]).unsqueeze(1).float()\n",
        "print(target.size(), target.dtype)\n",
        "preds = torch.tensor([0.54, 0.76, 0.91, 0.87, 0.57, 0.99]).unsqueeze(1)\n",
        "print(preds.size(), preds.dtype)\n",
        "f1 = f1_fn(preds, target)\n",
        "acc = acc_fn(preds, target)\n",
        "recall = recall_fn(preds, target)\n",
        "precision = precision_fn(preds, target)\n",
        "print(f1, acc, recall, precision)"
      ]
    },
    {
      "cell_type": "markdown",
      "metadata": {
        "id": "86Oqu4j5pPwd"
      },
      "source": [
        "### <font color='#52F17F'>**Entrenamiento del modelo**</font>"
      ]
    },
    {
      "cell_type": "code",
      "execution_count": 15,
      "metadata": {
        "id": "ZvqKlRiPCIa5"
      },
      "outputs": [],
      "source": [
        "DEVICE = \"cuda\" if torch.cuda.is_available() else \"cpu\"\n",
        "\n",
        "def make(config, train_index, test_index, data):\n",
        "    # Make the data\n",
        "    train, test = get_data(train_index, test_index, data)\n",
        "    train_loader = make_loader(train, batch_size=config.batch_size)\n",
        "    test_loader = make_loader(test, batch_size=config.batch_size)\n",
        "\n",
        "    # Make the model\n",
        "    model = ConvNet(kernels=config.features, classes=config.classes).to(DEVICE)\n",
        "\n",
        "    # Make the loss and optimizer\n",
        "    criterion = nn.BCEWithLogitsLoss()\n",
        "    optimizer = build_optimizer(model, config.optimizer, config.learning_rate)\n",
        "\n",
        "    # N-epochs to train\n",
        "    epochs = config.epochs\n",
        "\n",
        "    # Make metrics\n",
        "    accuracy_fn = BinaryAccuracy().to(DEVICE)\n",
        "    f1_score_fn = BinaryF1Score().to(DEVICE)\n",
        "    recall_fn = BinaryRecall().to(DEVICE)\n",
        "    precision_fn = BinaryPrecision().to(DEVICE)\n",
        "\n",
        "    return model, train_loader, test_loader, criterion, optimizer, accuracy_fn, f1_score_fn, recall_fn, precision_fn, epochs"
      ]
    },
    {
      "cell_type": "markdown",
      "metadata": {
        "id": "RQm-HaT0CIa6"
      },
      "source": [
        "#### <font color='##6600CC'>**Training loop**</font>"
      ]
    },
    {
      "cell_type": "code",
      "execution_count": 16,
      "metadata": {
        "id": "6KxJMjXWCIa6"
      },
      "outputs": [],
      "source": [
        "def train_log(loss, accuracy, step, current):\n",
        "    \"\"\" Log the metrics for the current batch into wandb\n",
        "\n",
        "    Args:\n",
        "        loss: the value of the loss at current batch\n",
        "        accuracy: the value of the accuracy at current batch\n",
        "        step: actual step\n",
        "        current: actual batch\n",
        "    \"\"\"\n",
        "\n",
        "    # Where the magic happens\n",
        "    # wandb.log({\"step\":step, \"loss\": loss, \"accuracy\": accuracy}, step=step)\n",
        "    wandb.log({\"step\":step, \"train_loss\": loss, \"train_accuracy\": accuracy})\n",
        "    print(f\"train loss: {loss:.3f} accuracy: {accuracy:.3f} [after {current} batches]\")"
      ]
    },
    {
      "cell_type": "code",
      "execution_count": 17,
      "metadata": {
        "id": "EWgVhZ-0CIa6"
      },
      "outputs": [],
      "source": [
        "def train_batch(images, labels, model, optimizer, criterion, metrics_fn):\n",
        "    \"\"\"Train the model on a single bacth of the dataloader.\n",
        "\n",
        "    Args:\n",
        "        dataloader: an instance of `torch.utils.data.DataLoader`, containing the training data.\n",
        "        model: an instance of `torch.nn.Module`, the model to be trained.\n",
        "        optimizer: an instance of `torch.optim.Optimizer`, the optimizer used for training.\n",
        "        criterion: a callable, the loss function.\n",
        "        metrics_fn: a callable, the metrics function.\n",
        "\n",
        "    Returns:\n",
        "        loss: the value of the loss at current batch\n",
        "        accuracy: the value of the accuracy at current batch\n",
        "    \"\"\"\n",
        "\n",
        "    images, labels = images.to(DEVICE), labels.to(DEVICE)\n",
        "\n",
        "    # Forward pass ➡\n",
        "    outputs = model(images)\n",
        "    loss = criterion(outputs, labels.unsqueeze(1).float())\n",
        "    accuracy = metrics_fn(outputs, labels.unsqueeze(1).float())\n",
        "\n",
        "    # Backward pass ⬅\n",
        "    optimizer.zero_grad()\n",
        "    loss.backward()\n",
        "\n",
        "    # Step with optimizer\n",
        "    optimizer.step()\n",
        "\n",
        "    return loss, accuracy"
      ]
    },
    {
      "cell_type": "code",
      "execution_count": 18,
      "metadata": {
        "id": "B3eqRTYcCIa6"
      },
      "outputs": [],
      "source": [
        "def train(model, loader, criterion, optimizer, metric_fn, step):\n",
        "\n",
        "    model.train()\n",
        "    n_prints = int(len(loader)/4)\n",
        "\n",
        "    # Run training and track with wandb\n",
        "    for batch, (_, images, labels) in enumerate(loader):\n",
        "\n",
        "        loss, accuracy = train_batch(images, labels, model, optimizer, criterion, metric_fn)\n",
        "\n",
        "        # Report metrics every n_prints batch\n",
        "        if batch % n_prints == n_prints-1:\n",
        "            loss, current = loss.item(), batch\n",
        "            # print(step)\n",
        "            train_log(loss, accuracy, step, current)\n",
        "            # Increment the step after logging\n",
        "            step += 1\n",
        "    return step"
      ]
    },
    {
      "cell_type": "markdown",
      "metadata": {
        "id": "nDxE8VTtCIa7"
      },
      "source": [
        "#### <font color='##6600CC'>**Evaluation loop**</font>"
      ]
    },
    {
      "cell_type": "code",
      "execution_count": 19,
      "metadata": {
        "id": "FNkNYb5HCIa7"
      },
      "outputs": [],
      "source": [
        "def test(model, test_loader, loss_fn, accuracy_fn, f1_score_fn, recall_fn, precision_fn, epoch):\n",
        "    model.eval()\n",
        "\n",
        "    # Run the model on some test examples\n",
        "    num_batches = len(test_loader)\n",
        "    val_loss, val_accuracy, val_f1, val_recall, val_precision = 0, 0, 0, 0, 0\n",
        "    with torch.no_grad():\n",
        "        for _, images, labels in test_loader:\n",
        "            images, labels = images.to(DEVICE), labels.to(DEVICE)\n",
        "            outputs = model(images)\n",
        "            val_loss += loss_fn(outputs, labels.unsqueeze(1).float()).item()\n",
        "            val_accuracy += accuracy_fn(outputs, labels.unsqueeze(1).float())\n",
        "            val_f1 += f1_score_fn(outputs, labels.unsqueeze(1).float())\n",
        "            val_recall += recall_fn(outputs, labels.unsqueeze(1).float())\n",
        "            val_precision += precision_fn(outputs, labels.unsqueeze(1).float())\n",
        "\n",
        "    val_loss /= num_batches\n",
        "    val_accuracy /= num_batches\n",
        "    val_f1 /= num_batches\n",
        "    val_recall /= num_batches\n",
        "    val_precision /= num_batches\n",
        "\n",
        "    # Log the evaluation metrics at the end of batches\n",
        "    wandb.log({\"epoch\": epoch+1, \"val_loss\": val_loss, \"val_accuracy\": val_accuracy, \"val_f1\": val_f1, \"val_recall\": val_recall, \"val_precision\": val_precision})\n",
        "    print(f\"val loss: {val_loss:.3f} accuracy: {val_accuracy:.3f} [after {num_batches} batches]\")\n",
        "    return images, val_accuracy, val_f1, val_recall, val_precision"
      ]
    },
    {
      "cell_type": "markdown",
      "metadata": {
        "id": "Nr0wfVspCIa7"
      },
      "source": [
        "### <font color='#52F17F'>**Train and watch your metrics on wandb.ai**</font>"
      ]
    },
    {
      "cell_type": "code",
      "execution_count": 20,
      "metadata": {
        "id": "CUpYduOwCIa7"
      },
      "outputs": [],
      "source": [
        "if os.path.exists('../models') == False:\n",
        "  os.mkdir(\"../models\")\n",
        "MODELS_DIR = \"../models\"\n",
        "\n",
        "\n",
        "def model_pipeline(num, sweep_id, sweep_run_name, hyperparameters, train_index, test_index, data):\n",
        "\n",
        "    # tell wandb to get started\n",
        "    run_name = f'{sweep_run_name}--{num}'\n",
        "    with wandb.init(config=hyperparameters, dir=MODELS_DIR\n",
        "                    , group=sweep_id, job_type=sweep_run_name, name=run_name, reinit=True):\n",
        "      # access all HPs through wandb.config, so logging matches execution!\n",
        "      config = wandb.config\n",
        "\n",
        "      # make the model, data, and optimization problem\n",
        "      model, train_loader, test_loader, criterion, optimizer, accuracy_fn, f1_score_fn, recall_fn, precision_fn, epochs = make(config,\n",
        "                                                                                                                                train_index,\n",
        "                                                                                                                                test_index,\n",
        "                                                                                                                                data)\n",
        "      print(model)\n",
        "\n",
        "      # Tell wandb to watch what the model gets up to: gradients, weights, and more!\n",
        "      wandb.watch(model, criterion, log=\"all\", log_freq=10)\n",
        "      # and use them to train the model\n",
        "\n",
        "      # Initialize the step counter\n",
        "      step = 0\n",
        "      best_val_accuracy = float('inf')\n",
        "      patience = 10\n",
        "\n",
        "      print(f'FOLD {num+1}')\n",
        "      print('--------------------------------')\n",
        "\n",
        "      # Estas métricas son el promedio luego de todas las épocas que alcance a tomar el modelo\n",
        "      avg_val_accuracy_epochs, avg_val_recall_epochs, avg_val_precision_epochs, avg_val_f1_score_epochs = 0, 0, 0, 0\n",
        "\n",
        "      for t in range(epochs):\n",
        "        print(f\"Epoch {t+1}\\n-------------------------------\")\n",
        "        step = train(model, train_loader, criterion, optimizer, accuracy_fn, step=step)\n",
        "        # and test its performance per epoch\n",
        "        images, val_accuracy, val_f1, val_recall, val_precision = test(model, test_loader, criterion, accuracy_fn, f1_score_fn, recall_fn, precision_fn, epoch=t)\n",
        "\n",
        "        avg_val_accuracy_epochs += val_accuracy\n",
        "        avg_val_recall_epochs += val_recall\n",
        "        avg_val_precision_epochs += val_precision\n",
        "        avg_val_f1_score_epochs += val_f1\n",
        "\n",
        "        # Early stopping\n",
        "        if val_accuracy < best_val_accuracy:\n",
        "          best_val_accuracy = val_accuracy\n",
        "          patience = 10  # Reset patience counter\n",
        "        else:\n",
        "          patience -= 1\n",
        "          if patience == 0:\n",
        "              break\n",
        "\n",
        "      avg_val_accuracy_epochs /= (t+1)\n",
        "      avg_val_f1_score_epochs /= (t+1)\n",
        "      avg_val_recall_epochs /= (t+1)\n",
        "      avg_val_precision_epochs /= (t+1)\n",
        "\n",
        "      # Save the model in the exchangeable ONNX format\n",
        "      torch.onnx.export(model, images,\"model.onnx\")\n",
        "      wandb.save(\"model.onnx\")\n",
        "      wandb.finish()\n",
        "\n",
        "    return avg_val_accuracy_epochs, avg_val_f1_score_epochs, avg_val_recall_epochs, avg_val_precision_epochs"
      ]
    },
    {
      "cell_type": "code",
      "execution_count": 21,
      "metadata": {
        "id": "PRJYzVNHCIa8"
      },
      "outputs": [],
      "source": [
        "def reset_wandb_env():\n",
        "    exclude = {\n",
        "        \"WANDB_PROJECT\",\n",
        "        \"WANDB_ENTITY\",\n",
        "        \"WANDB_API_KEY\",\n",
        "    }\n",
        "    for key in os.environ.keys():\n",
        "        if key.startswith(\"WANDB_\") and key not in exclude:\n",
        "            del os.environ[key]"
      ]
    },
    {
      "cell_type": "code",
      "execution_count": 22,
      "metadata": {
        "id": "R03OmQ24CIa8"
      },
      "outputs": [],
      "source": [
        "def cross_validate():\n",
        "    num_folds = 7\n",
        "    gkf = GroupKFold(n_splits=num_folds)\n",
        "\n",
        "    # Extraer los datos para GroupKFold https://discuss.pytorch.org/t/custom-datatype-for-many-images-to-one-label/87629\n",
        "    X = [i for i in range(len(data))]\n",
        "    y = data['label'].values\n",
        "    groups = data.index.values\n",
        "\n",
        "\n",
        "    sweep_run = wandb.init(dir=MODELS_DIR)\n",
        "    sweep_id = sweep_run.sweep_id or \"unknown\"\n",
        "    sweep_url = sweep_run.get_sweep_url()\n",
        "    project_url = sweep_run.get_project_url()\n",
        "    sweep_group_url = f'{project_url}/groups/{sweep_id}'\n",
        "    sweep_run.notes = sweep_group_url\n",
        "    sweep_run.save()\n",
        "    sweep_run_name = sweep_run.name or sweep_run.id or \"unknown_2\"\n",
        "    sweep_run_id = sweep_run.id\n",
        "    sweep_run.finish()\n",
        "    wandb.sdk.wandb_setup._setup(_reset=True)\n",
        "\n",
        "    metrics = {\n",
        "        \"val_accuracy\": [],\n",
        "        \"val_recall\": [],\n",
        "        \"val_precision\": [],\n",
        "        \"val_f1_score\": []\n",
        "    }\n",
        "    for fold, (train_ids, test_ids) in enumerate(gkf.split(X, y, groups)):\n",
        "\n",
        "\n",
        "        reset_wandb_env()\n",
        "\n",
        "        # Entreno y valido cada run pasandole el sweep y la config\n",
        "        val_accuracy, val_f1, val_recall, val_precision = model_pipeline(\n",
        "            sweep_id=sweep_id, num=fold,\n",
        "            sweep_run_name=sweep_run_name,\n",
        "            hyperparameters=dict(sweep_run.config),\n",
        "            train_index=train_ids,\n",
        "            test_index=test_ids,\n",
        "            data=data\n",
        "        )\n",
        "        metrics[\"val_accuracy\"].append(val_accuracy)\n",
        "        metrics[\"val_recall\"].append(val_f1)\n",
        "        metrics[\"val_precision\"].append(val_recall)\n",
        "        metrics[\"val_f1_score\"].append(val_precision)\n",
        "\n",
        "    # resume the sweep run\n",
        "    sweep_run = wandb.init(id=sweep_run_id, resume=\"must\", dir=MODELS_DIR)\n",
        "\n",
        "    # Calcula los promedios de cada métrica\n",
        "    avg_val_accuracy = sum(metrics[\"val_accuracy\"]) / len(metrics[\"val_accuracy\"])\n",
        "    avg_val_recall = sum(metrics[\"val_recall\"]) / len(metrics[\"val_recall\"])\n",
        "    avg_val_precision = sum(metrics[\"val_precision\"]) / len(metrics[\"val_precision\"])\n",
        "    avg_val_f1_score = sum(metrics[\"val_f1_score\"]) / len(metrics[\"val_f1_score\"])\n",
        "    # Log metrics to sweep run\n",
        "    sweep_run.log({\n",
        "        \"val_accuracy\": avg_val_accuracy,\n",
        "        \"val_recall\": avg_val_recall,\n",
        "        \"val_precision\": avg_val_precision,\n",
        "        \"val_f1\": avg_val_f1_score\n",
        "    })\n",
        "    sweep_run.finish()\n",
        "\n",
        "    print(\"*\" * 40)\n",
        "    print(\"Sweep URL:       \", sweep_url)\n",
        "    print(\"Sweep Group URL: \", sweep_group_url)\n",
        "    print(\"*\" * 40)"
      ]
    },
    {
      "cell_type": "code",
      "execution_count": 23,
      "metadata": {
        "id": "iBMpIKYCCIa8"
      },
      "outputs": [],
      "source": [
        "sweep_configuration = {\n",
        "    'method': 'random',\n",
        "    'name': 'sweep-test-1',\n",
        "    'metric': {\n",
        "        'goal': 'maximize',\n",
        "        'name': 'val_accuracy'\n",
        "    },\n",
        "    'parameters': {\n",
        "        'epochs': {'value': 50},\n",
        "        'classes': {'value': 1},\n",
        "        'features': {'values': [[16, 32], [32, 64], [48, 64], [64, 128]]},\n",
        "        'batch_size': {'values': [32, 64, 128]},\n",
        "        'learning_rate': {'values': [0.01, 0.001, 0.0001]},\n",
        "        'optimizer': {'values': ['adam', 'sgd']},\n",
        "        'dataset': {'value': 'ParkinsonVideo'},\n",
        "        'architecture': {'value': 'CNN'}\n",
        "    },\n",
        "    # 'early_terminate': {\n",
        "    #     'type': 'hyperband',\n",
        "    #     'eta': 2,\n",
        "    #     'min_iter':2\n",
        "    #  }\n",
        "}"
      ]
    },
    {
      "cell_type": "code",
      "execution_count": 24,
      "metadata": {
        "colab": {
          "base_uri": "https://localhost:8080/",
          "height": 1000,
          "referenced_widgets": [
            "580ddbd4fcbd40f3b735dfa05ac58fe0",
            "3443693768b44eb2bb0a55aacb781925",
            "3ab4408fb2e74ed18792d778a42cd8de",
            "08fb94584bb54bb8b22d380e0bbe1ed9",
            "c591b15f626442f4952b298893d121b4",
            "5797f2911d9d41b683666c6ecc3f4c65",
            "c5acfaccfa674f178ac9b7f31b27d849",
            "b55f66df7f4043fe93c07d9eaa210a20",
            "9069050ca404495e9e0ff1b6c1ecd4f1",
            "7a927e823fd944fd90911ad787b915c6",
            "cccafcb4cc814397a2011bc1aa6f8d20",
            "af9b661abfe141ceb072689625de21ae",
            "83f2b629e20743c68044f0e0295277e8",
            "731ef06549964ed2a8b6a871f0f0acda",
            "3890591d812c4059af09eb41e974312d",
            "f86d47e6a5c44fee932ce1ddacfe6aca",
            "c608b80506bf439c8d04f5267692bc15",
            "4597c6360eb148dabafa2c5a763207df",
            "b9afa90ddffe42348c403189b499b27e",
            "4ff97484847a4351867f64105623c928",
            "356271384ad445328868f2f006340914",
            "094ed1709d9a4bbdb74c1c69acc5f2da",
            "e460fc423a8649669f8ee8b467cdb6fc",
            "50fc4b9ee29e4720a0f4987b7b7d6270",
            "a6bb9545423c4f17a8b93dffa67a9fb8",
            "e92c0054117c4716ae9f2ab47c60a87a",
            "08ef69163a2c4b349fb31e0fa06f3671",
            "dc2aa6ce9f9a4073942723321d11a7a5",
            "0d9e1148cbbe4ef090cf022782a74664",
            "ba6722dae70c42639f074344030f1307",
            "f5fe172a94e14a4694daa29b0496220c",
            "9399a2d57e7b4a5d9a8653b56214efe3",
            "b6c79cd917a1408baee2021379c0ea3f",
            "978530725fc84c0ea840b98df988a471",
            "811f542e7dc94651b3999210df8e837c",
            "7d2136cfdecc4aed832fefe1cf252b2a",
            "1213d4058f994325a9b2223d4dd9c0e3",
            "849ae90030004cc99328e86f97636d96",
            "f828b14111254c22b78ba7ecb2a35e7b",
            "e22f9e8900944230ae00964912d18ac2",
            "dba7c5698296447f9c1bfa08fd195ab9",
            "73bed9e3f8d84ac4889384b54ffcad3e",
            "497b6f8a39f148fbb598956c197f8bcf",
            "5f7e731542c54d0187ea4b7a78a6f74f",
            "061ede5ecceb40dd8116fa4b2637c825",
            "c6508ed73e8048faaf0c779a3f368c6e",
            "eb5b9cd05fd646e092cd274d314d2980",
            "b41650e0108447c8b4752778aaf84b88",
            "2952bffe165544039d0b9f421d470a80",
            "7da0439a20724ed3911befedc1f053a4",
            "520c6c12c490452f959afa76f5f445eb",
            "0dc89a52a8da40e981853d8e5353004a",
            "bd9414fea9294fd886fc2dee596367ee",
            "9cf9485aaa2b4730a0a12dbd9904f02f",
            "cced5de3a4a04079b957ebc2839bbca1",
            "b2130ed083ea4a9d8dad0d88642a5aa7",
            "65284a5c593141648e66802261f77c0c",
            "736077d8f8bd40f6ae93f35bb2972910",
            "851e9c7b64084eacaeb13525f02f49de",
            "a16e8372e2ad46a080c6bad996113805",
            "8bb88d2ba7fa4cb987106a007d9f9597",
            "76edf0a3ed8143728303fafe3864e77f",
            "25aef6d3baf841ce8c7c1067dc58adb2",
            "bc7267286e0749cdb03c4e172c5dc571",
            "9e0e9ba8a2c64683812eb5250d072c0f",
            "3a11a5ad148a481ba7d009e2ceb0bfc5",
            "00a51a63c7cb472fac2cd4fc59b27a8b",
            "35d8cf7b6af74980a02cc4aff5329429",
            "33f33104109d49d198b262c3cbbebad5",
            "a9a97e2e7a4746e3bdd1e82a5de5f576",
            "cd4a1b0344c642c9b3dd2db3b8d241e3",
            "c45a950c71ba42b387bdcc5be8eba815",
            "153b0929f977485f94b1904aeec4f9fa",
            "98008367301240949107a2a18c5cf780",
            "977aec64435f469da3f5607831c83fa5",
            "159835a8a947414a83ec7c0aaa895d51",
            "fd316183679c46f18a730d09e8cec857",
            "9574e99fb78d4dea86f5d7e4d6ef40af",
            "9a6b9b6d3d1847df98415f8f688a7388",
            "f9952eec170a45ebb7140233e098e76b",
            "46af268187794922a57939bfb55a0571",
            "bc2839a276df4654b19224aa5c71e78f",
            "e172e14b9de545899a3fc737992981bd",
            "b12521a7414c44c0a9b3368813d72c7e",
            "7b81fbe99fba49ddb53006b7b379c617",
            "3597b7dbb6ee49d693345a77e4097827",
            "efcc16d752bc4fd680db7cf74c868711",
            "6023198973f541c9b239a95cc7a4b144",
            "480ee4b04ba8441d8361b4db9cdebd64",
            "799c81b4449f4bfb854b011f120752bd",
            "5af9f2d976ad46e0be7c8560f56d43c4",
            "91df2bc75f72499ca4a4a4f3443e480f",
            "848234e17e9545a58f66b12fc69a2b10",
            "c2a01df3036a4c91bf63f8729bf2f442",
            "d565cfa649e942e0a9a0dd93a79b10f6",
            "b8e01e93abae49499c9554787255bc9f",
            "aefbeacb0e2e40bf89b456110928da63",
            "896cc362aa15496388207ffa99d0129f",
            "dcaede729a78433bbec2cfb573c56f4b",
            "f22a9ad592ad4196a63cfc568bbce309",
            "6680408d1541461b83a84343692907ca",
            "4a0be8134f2f433fbe783f6387100b97",
            "7229c851e9fd4d848f2f18ad7c794ff3",
            "676c69ba68894c5a9b9d6b4099cde525",
            "bb25a8bfe1674b39a2b38d7317e116f4",
            "bb572a90f86a448987d69e0d5e62e288",
            "86ca35dda1034493a1b173921dd87435",
            "7f5ddf9a73154a6f9d858fe661555519",
            "5dd65f66bae9452ea15bfbd0f00955af",
            "11248968897549f296734485f07c0723",
            "c49b5155d85142a7a81441bbba387af0",
            "085602661a9f4bec9245298ecd702f0a",
            "63b8447d38f240bbbce4182eb4324e46",
            "59c10c54bf9b4f8d8b76f5fa62b393d3",
            "04e460b33b694d9ba78fe8ab528d90a2",
            "5582591d4ec448b69fea0fc3248df6b2",
            "cd74297b464547b49c06642f6848328f",
            "a8425d1eb2804a86886e0ffe13405c09",
            "f0beafdc707f473989fe4a84c2f22167",
            "01228675bcfa46db9ac4379fb94630f6",
            "cbc828fc02944bc1b2c04c0405d7943b",
            "b0b942e28c8648e9a835cf0e1bfc5778",
            "d2cef0ec3301457499300077a3cf6ed2",
            "f06b903ddac142f2b672dde9ea5d4201",
            "33251216c90c4e528cf152972ef709de",
            "ca6e21c17893449b99bd6f35aee30fd3",
            "171bf0673ed942e1b689b6bc2f2aaaa9",
            "40b0c4974f594cc5924f035abc4663de",
            "1bf67e3af04f4c5e9506c0d79eb068ab",
            "6f55400e11a248b6b3ee47794390f43e",
            "a87902d6cefb4ef5a571483275d42cc3",
            "5f73d3728dfd496385da0d48c88937f6",
            "a77137ec7a0945349949901e48c18fd7",
            "30b48040727a4dd5a4414e67d4d3251f",
            "95f57a5d3f594f6a9c7b3bcbdc7bce76",
            "66a113eb4dd144f194e2b310a16812e5",
            "28aca04668494c8c871e5d5780b6fd1f",
            "198cd31043214343aa4979aa67a6e13d",
            "bf85ec87af2b49109b20a45323015b09",
            "2fcef57b06f648d1882d6cc9a75cfe0b",
            "b7381ec912be4c4c9170519390391b65",
            "983dc0012d8041f688e5fb1ab2c567d0",
            "b763eff30dc24e9da8d762c2b311b0d6",
            "f17c3805bc5e4952b6701dc6813118ff",
            "d4b76b6e89ab415f86e95e5ba70b4ec9",
            "95977dd0b7434faa9dcfbb5a83b8f70f",
            "2bbbeeb7681d47f591359b02c871aa70",
            "831b470b9a0c4842a90eb40a779d9f2c",
            "febfe15f21bd475193b160feefd958b4",
            "a3a48a2d48084aefba98bbcb3bd34e7c",
            "3d515caa92a14385ad4463fff459ca53",
            "77bc40db222b41d4a4f22d70827eb2a4",
            "c764b1ed68be4a65b88bea403e0fec5c",
            "3180fa5165ee4e92a8d7fc0eb118fb28",
            "2ebd2a42fef14a75922be970ebf52aad",
            "99dc971890284a8e939a04a0d0e0d6f8",
            "0a004a9151954cc898f56a823c91435c",
            "57b1763beaf94579a286024353366a14",
            "03de5cecbea74baab58ce117dc971f5a",
            "95ea53c792ec4f4bb1bb7ec83eea9ebf",
            "fc82e226066a41aa8f1c2fd10a9a73d3",
            "19be7861846944f3a57b01a2a32c9186",
            "5ae180b44d8f43ee92e9ca6f94654b06",
            "d27be66c7cb14261852c925b347123d3",
            "09045231fa8c4473a7fb031c9fc9b134",
            "f3a9cdc728ef4e5c9a7cf6843da41c43",
            "bff91eeba174422cae0f51c87aa41b98",
            "0c7cc34731fd4e06aeb605102e041fe5",
            "94a3ad9561ea4141be62867acee91c4d",
            "f05a96c814fb421d963cfdf6695a22df",
            "a3dcf1c3a2a54e5c91ce835f702cf4a6",
            "d9d08d8b495c4463a6b676845d118d16",
            "cf7836ac4b5b4962a5cbcea1b8626bb4",
            "2feb414eee814feb99e013474bd48273",
            "7d8dbdaf8e8646cab6741a80abf46209",
            "b5048b508b6749049a93ee9f5c3da43c",
            "669d7a565fe44736b89d5e8b000bae95",
            "107431f0a14c41cbb7f37ad45cc5478c",
            "dc75243eb6824f4e853108e5b9a6feef",
            "1c02bf1a8a704c6098a562d167965547",
            "f703d7ca077047d9be2c9eafea0860ff",
            "4ce1b7f87ab64bdfac1e72d8c9a9b18f",
            "3fe435f751344c2db0579f89d5892beb",
            "48a8113eb8e944f3a35e1219c6afb8cd",
            "d0a251fedad9485281d39a9965229533",
            "b2a2bc43f56442b3abde0c14796bfb46",
            "9767f1d6ac4e4f98938c380f09de2fbc",
            "85da9e8f79cf4914a4886590a5942d66",
            "8e1c93e5fcee4559be1b4a02f11cb2c8",
            "e06454a51eae452eb21f38a2c096874c",
            "435769308d9b450eaee5d487e4ba2a2a",
            "5116d892a76d4f87939ddfd18931733c",
            "8133a857f16f4e3b931abf96c7165364",
            "60889d11f5664b3f950780ba95fb5392",
            "9f47e938c98843fd87ed61d8b748ed24",
            "3d915999f5a3447ead89db0612c57c73",
            "7322e4caf6c744c5aab366b51751c3ac",
            "ac6b4a46c75e410da0c2da4a2625f8aa",
            "ec6b72d9cf854506804c12f3547f36c2",
            "9b8bcd5bf757495b9ebb36897e944f48"
          ]
        },
        "id": "QY1HGT-UCIa8",
        "outputId": "93b58a04-5262-4e54-89a8-37f56f88851a"
      },
      "outputs": [
        {
          "name": "stdout",
          "output_type": "stream",
          "text": [
            "Create sweep with ID: okv6gisv\n",
            "Sweep URL: https://wandb.ai/aiuis/ai-1-project/sweeps/okv6gisv\n"
          ]
        },
        {
          "name": "stderr",
          "output_type": "stream",
          "text": [
            "\u001b[34m\u001b[1mwandb\u001b[0m: Agent Starting Run: fwqf960s with config:\n",
            "\u001b[34m\u001b[1mwandb\u001b[0m: \tarchitecture: CNN\n",
            "\u001b[34m\u001b[1mwandb\u001b[0m: \tbatch_size: 64\n",
            "\u001b[34m\u001b[1mwandb\u001b[0m: \tclasses: 1\n",
            "\u001b[34m\u001b[1mwandb\u001b[0m: \tdataset: ParkinsonVideo\n",
            "\u001b[34m\u001b[1mwandb\u001b[0m: \tepochs: 50\n",
            "\u001b[34m\u001b[1mwandb\u001b[0m: \tfeatures: [16, 32]\n",
            "\u001b[34m\u001b[1mwandb\u001b[0m: \tlearning_rate: 0.001\n",
            "\u001b[34m\u001b[1mwandb\u001b[0m: \toptimizer: adam\n",
            "\u001b[34m\u001b[1mwandb\u001b[0m: Currently logged in as: \u001b[33mgpintoruiz\u001b[0m (\u001b[33maiuis\u001b[0m). Use \u001b[1m`wandb login --relogin`\u001b[0m to force relogin\n"
          ]
        },
        {
          "data": {
            "text/html": [
              "Tracking run with wandb version 0.17.0"
            ],
            "text/plain": [
              "<IPython.core.display.HTML object>"
            ]
          },
          "metadata": {},
          "output_type": "display_data"
        },
        {
          "data": {
            "text/html": [
              "Run data is saved locally in <code>../models/wandb/run-20240601_020612-fwqf960s</code>"
            ],
            "text/plain": [
              "<IPython.core.display.HTML object>"
            ]
          },
          "metadata": {},
          "output_type": "display_data"
        },
        {
          "data": {
            "text/html": [
              "Syncing run <strong><a href='https://wandb.ai/aiuis/ai-1-project/runs/fwqf960s' target=\"_blank\">earthy-sweep-1</a></strong> to <a href='https://wandb.ai/aiuis/ai-1-project' target=\"_blank\">Weights & Biases</a> (<a href='https://wandb.me/run' target=\"_blank\">docs</a>)<br/>Sweep page: <a href='https://wandb.ai/aiuis/ai-1-project/sweeps/okv6gisv' target=\"_blank\">https://wandb.ai/aiuis/ai-1-project/sweeps/okv6gisv</a>"
            ],
            "text/plain": [
              "<IPython.core.display.HTML object>"
            ]
          },
          "metadata": {},
          "output_type": "display_data"
        },
        {
          "data": {
            "text/html": [
              " View project at <a href='https://wandb.ai/aiuis/ai-1-project' target=\"_blank\">https://wandb.ai/aiuis/ai-1-project</a>"
            ],
            "text/plain": [
              "<IPython.core.display.HTML object>"
            ]
          },
          "metadata": {},
          "output_type": "display_data"
        },
        {
          "data": {
            "text/html": [
              " View sweep at <a href='https://wandb.ai/aiuis/ai-1-project/sweeps/okv6gisv' target=\"_blank\">https://wandb.ai/aiuis/ai-1-project/sweeps/okv6gisv</a>"
            ],
            "text/plain": [
              "<IPython.core.display.HTML object>"
            ]
          },
          "metadata": {},
          "output_type": "display_data"
        },
        {
          "data": {
            "text/html": [
              " View run at <a href='https://wandb.ai/aiuis/ai-1-project/runs/fwqf960s' target=\"_blank\">https://wandb.ai/aiuis/ai-1-project/runs/fwqf960s</a>"
            ],
            "text/plain": [
              "<IPython.core.display.HTML object>"
            ]
          },
          "metadata": {},
          "output_type": "display_data"
        },
        {
          "name": "stderr",
          "output_type": "stream",
          "text": [
            "\u001b[34m\u001b[1mwandb\u001b[0m: \u001b[33mWARNING\u001b[0m Calling wandb.run.save without any arguments is deprecated.Changes to attributes are automatically persisted.\n"
          ]
        },
        {
          "data": {
            "application/vnd.jupyter.widget-view+json": {
              "model_id": "580ddbd4fcbd40f3b735dfa05ac58fe0",
              "version_major": 2,
              "version_minor": 0
            },
            "text/plain": [
              "VBox(children=(Label(value='0.001 MB of 0.001 MB uploaded\\r'), FloatProgress(value=1.0, max=1.0)))"
            ]
          },
          "metadata": {},
          "output_type": "display_data"
        },
        {
          "data": {
            "text/html": [
              " View run <strong style=\"color:#cdcd00\">earthy-sweep-1</strong> at: <a href='https://wandb.ai/aiuis/ai-1-project/runs/fwqf960s' target=\"_blank\">https://wandb.ai/aiuis/ai-1-project/runs/fwqf960s</a><br/> View project at: <a href='https://wandb.ai/aiuis/ai-1-project' target=\"_blank\">https://wandb.ai/aiuis/ai-1-project</a><br/>Synced 5 W&B file(s), 0 media file(s), 0 artifact file(s) and 0 other file(s)"
            ],
            "text/plain": [
              "<IPython.core.display.HTML object>"
            ]
          },
          "metadata": {},
          "output_type": "display_data"
        },
        {
          "data": {
            "text/html": [
              "Find logs at: <code>../models/wandb/run-20240601_020612-fwqf960s/logs</code>"
            ],
            "text/plain": [
              "<IPython.core.display.HTML object>"
            ]
          },
          "metadata": {},
          "output_type": "display_data"
        },
        {
          "data": {
            "text/html": [
              "Tracking run with wandb version 0.17.0"
            ],
            "text/plain": [
              "<IPython.core.display.HTML object>"
            ]
          },
          "metadata": {},
          "output_type": "display_data"
        },
        {
          "data": {
            "text/html": [
              "Run data is saved locally in <code>../models/wandb/run-20240601_020621-85e62a2t</code>"
            ],
            "text/plain": [
              "<IPython.core.display.HTML object>"
            ]
          },
          "metadata": {},
          "output_type": "display_data"
        },
        {
          "data": {
            "text/html": [
              "Syncing run <strong><a href='https://wandb.ai/aiuis/ai-1-project/runs/85e62a2t' target=\"_blank\">earthy-sweep-1--0</a></strong> to <a href='https://wandb.ai/aiuis/ai-1-project' target=\"_blank\">Weights & Biases</a> (<a href='https://wandb.me/run' target=\"_blank\">docs</a>)<br/>"
            ],
            "text/plain": [
              "<IPython.core.display.HTML object>"
            ]
          },
          "metadata": {},
          "output_type": "display_data"
        },
        {
          "data": {
            "text/html": [
              " View project at <a href='https://wandb.ai/aiuis/ai-1-project' target=\"_blank\">https://wandb.ai/aiuis/ai-1-project</a>"
            ],
            "text/plain": [
              "<IPython.core.display.HTML object>"
            ]
          },
          "metadata": {},
          "output_type": "display_data"
        },
        {
          "data": {
            "text/html": [
              " View run at <a href='https://wandb.ai/aiuis/ai-1-project/runs/85e62a2t' target=\"_blank\">https://wandb.ai/aiuis/ai-1-project/runs/85e62a2t</a>"
            ],
            "text/plain": [
              "<IPython.core.display.HTML object>"
            ]
          },
          "metadata": {},
          "output_type": "display_data"
        },
        {
          "name": "stdout",
          "output_type": "stream",
          "text": [
            "ConvNet(\n",
            "  (layer1): Sequential(\n",
            "    (0): Conv3d(1, 16, kernel_size=(5, 5, 5), stride=(1, 1, 1), padding=(2, 2, 2))\n",
            "    (1): ReLU()\n",
            "    (2): MaxPool3d(kernel_size=2, stride=2, padding=0, dilation=1, ceil_mode=False)\n",
            "  )\n",
            "  (layer2): Sequential(\n",
            "    (0): Conv3d(16, 32, kernel_size=(5, 5, 5), stride=(1, 1, 1), padding=(2, 2, 2))\n",
            "    (1): ReLU()\n",
            "    (2): MaxPool3d(kernel_size=2, stride=2, padding=0, dilation=1, ceil_mode=False)\n",
            "  )\n",
            "  (fc): Linear(in_features=75264, out_features=1, bias=True)\n",
            ")\n",
            "FOLD 1\n",
            "--------------------------------\n",
            "Epoch 1\n",
            "-------------------------------\n",
            "train loss: 0.761 accuracy: 0.594 [after 2 batches]\n",
            "train loss: 0.688 accuracy: 0.609 [after 5 batches]\n",
            "train loss: 0.669 accuracy: 0.906 [after 8 batches]\n",
            "train loss: 0.616 accuracy: 0.953 [after 11 batches]\n",
            "train loss: 0.506 accuracy: 0.949 [after 14 batches]\n",
            "val loss: 0.642 accuracy: 0.615 [after 3 batches]\n",
            "Epoch 2\n",
            "-------------------------------\n",
            "train loss: 0.346 accuracy: 0.938 [after 2 batches]\n",
            "train loss: 0.216 accuracy: 0.969 [after 5 batches]\n",
            "train loss: 0.140 accuracy: 1.000 [after 8 batches]\n",
            "train loss: 0.080 accuracy: 0.984 [after 11 batches]\n",
            "train loss: 0.036 accuracy: 1.000 [after 14 batches]\n",
            "val loss: 0.679 accuracy: 0.491 [after 3 batches]\n",
            "Epoch 3\n",
            "-------------------------------\n",
            "train loss: 0.019 accuracy: 1.000 [after 2 batches]\n",
            "train loss: 0.010 accuracy: 1.000 [after 5 batches]\n",
            "train loss: 0.004 accuracy: 1.000 [after 8 batches]\n",
            "train loss: 0.003 accuracy: 1.000 [after 11 batches]\n",
            "train loss: 0.388 accuracy: 0.974 [after 14 batches]\n",
            "val loss: 0.296 accuracy: 0.919 [after 3 batches]\n",
            "Epoch 4\n",
            "-------------------------------\n",
            "train loss: 0.035 accuracy: 0.984 [after 2 batches]\n",
            "train loss: 0.011 accuracy: 1.000 [after 5 batches]\n",
            "train loss: 0.006 accuracy: 1.000 [after 8 batches]\n",
            "train loss: 0.003 accuracy: 1.000 [after 11 batches]\n",
            "train loss: 0.097 accuracy: 0.949 [after 14 batches]\n",
            "val loss: 1.177 accuracy: 0.500 [after 3 batches]\n",
            "Epoch 5\n",
            "-------------------------------\n",
            "train loss: 0.149 accuracy: 0.938 [after 2 batches]\n",
            "train loss: 0.088 accuracy: 1.000 [after 5 batches]\n",
            "train loss: 0.011 accuracy: 1.000 [after 8 batches]\n",
            "train loss: 0.033 accuracy: 0.984 [after 11 batches]\n",
            "train loss: 0.002 accuracy: 1.000 [after 14 batches]\n",
            "val loss: 0.427 accuracy: 0.860 [after 3 batches]\n",
            "Epoch 6\n",
            "-------------------------------\n",
            "train loss: 0.037 accuracy: 0.984 [after 2 batches]\n",
            "train loss: 0.001 accuracy: 1.000 [after 5 batches]\n",
            "train loss: 0.003 accuracy: 1.000 [after 8 batches]\n",
            "train loss: 0.003 accuracy: 1.000 [after 11 batches]\n",
            "train loss: 0.001 accuracy: 1.000 [after 14 batches]\n",
            "val loss: 0.821 accuracy: 0.469 [after 3 batches]\n",
            "Epoch 7\n",
            "-------------------------------\n",
            "train loss: 0.001 accuracy: 1.000 [after 2 batches]\n",
            "train loss: 0.001 accuracy: 1.000 [after 5 batches]\n",
            "train loss: 0.000 accuracy: 1.000 [after 8 batches]\n",
            "train loss: 0.000 accuracy: 1.000 [after 11 batches]\n",
            "train loss: 0.001 accuracy: 1.000 [after 14 batches]\n",
            "val loss: 0.297 accuracy: 0.919 [after 3 batches]\n",
            "Epoch 8\n",
            "-------------------------------\n",
            "train loss: 0.078 accuracy: 0.984 [after 2 batches]\n",
            "train loss: 0.003 accuracy: 1.000 [after 5 batches]\n",
            "train loss: 0.006 accuracy: 1.000 [after 8 batches]\n",
            "train loss: 0.002 accuracy: 1.000 [after 11 batches]\n",
            "train loss: 0.001 accuracy: 1.000 [after 14 batches]\n",
            "val loss: 0.323 accuracy: 0.877 [after 3 batches]\n",
            "Epoch 9\n",
            "-------------------------------\n",
            "train loss: 0.002 accuracy: 1.000 [after 2 batches]\n",
            "train loss: 0.002 accuracy: 1.000 [after 5 batches]\n",
            "train loss: 0.007 accuracy: 1.000 [after 8 batches]\n",
            "train loss: 0.106 accuracy: 0.984 [after 11 batches]\n",
            "train loss: 0.001 accuracy: 1.000 [after 14 batches]\n",
            "val loss: 1.533 accuracy: 0.493 [after 3 batches]\n",
            "Epoch 10\n",
            "-------------------------------\n",
            "train loss: 0.005 accuracy: 1.000 [after 2 batches]\n",
            "train loss: 0.005 accuracy: 1.000 [after 5 batches]\n",
            "train loss: 0.010 accuracy: 1.000 [after 8 batches]\n",
            "train loss: 0.006 accuracy: 1.000 [after 11 batches]\n",
            "train loss: 0.004 accuracy: 1.000 [after 14 batches]\n",
            "val loss: 0.200 accuracy: 0.917 [after 3 batches]\n",
            "Epoch 11\n",
            "-------------------------------\n",
            "train loss: 0.001 accuracy: 1.000 [after 2 batches]\n",
            "train loss: 0.001 accuracy: 1.000 [after 5 batches]\n",
            "train loss: 0.114 accuracy: 0.984 [after 8 batches]\n",
            "train loss: 0.007 accuracy: 1.000 [after 11 batches]\n",
            "train loss: 0.001 accuracy: 1.000 [after 14 batches]\n",
            "val loss: 2.354 accuracy: 0.500 [after 3 batches]\n",
            "Epoch 12\n",
            "-------------------------------\n",
            "train loss: 0.002 accuracy: 1.000 [after 2 batches]\n",
            "train loss: 0.002 accuracy: 1.000 [after 5 batches]\n",
            "train loss: 0.002 accuracy: 1.000 [after 8 batches]\n",
            "train loss: 0.002 accuracy: 1.000 [after 11 batches]\n",
            "train loss: 0.000 accuracy: 1.000 [after 14 batches]\n",
            "val loss: 0.446 accuracy: 0.725 [after 3 batches]\n",
            "Epoch 13\n",
            "-------------------------------\n",
            "train loss: 0.000 accuracy: 1.000 [after 2 batches]\n",
            "train loss: 0.000 accuracy: 1.000 [after 5 batches]\n",
            "train loss: 0.000 accuracy: 1.000 [after 8 batches]\n",
            "train loss: 0.001 accuracy: 1.000 [after 11 batches]\n",
            "train loss: 0.001 accuracy: 1.000 [after 14 batches]\n",
            "val loss: 1.311 accuracy: 0.493 [after 3 batches]\n",
            "Epoch 14\n",
            "-------------------------------\n",
            "train loss: 0.000 accuracy: 1.000 [after 2 batches]\n",
            "train loss: 0.000 accuracy: 1.000 [after 5 batches]\n",
            "train loss: 0.000 accuracy: 1.000 [after 8 batches]\n",
            "train loss: 0.000 accuracy: 1.000 [after 11 batches]\n",
            "train loss: 0.000 accuracy: 1.000 [after 14 batches]\n",
            "val loss: 0.453 accuracy: 0.751 [after 3 batches]\n",
            "Epoch 15\n",
            "-------------------------------\n",
            "train loss: 0.000 accuracy: 1.000 [after 2 batches]\n",
            "train loss: 0.003 accuracy: 1.000 [after 5 batches]\n",
            "train loss: 0.000 accuracy: 1.000 [after 8 batches]\n",
            "train loss: 0.000 accuracy: 1.000 [after 11 batches]\n",
            "train loss: 0.001 accuracy: 1.000 [after 14 batches]\n",
            "val loss: 1.344 accuracy: 0.487 [after 3 batches]\n",
            "Epoch 16\n",
            "-------------------------------\n",
            "train loss: 0.000 accuracy: 1.000 [after 2 batches]\n",
            "train loss: 0.000 accuracy: 1.000 [after 5 batches]\n",
            "train loss: 0.000 accuracy: 1.000 [after 8 batches]\n",
            "train loss: 0.000 accuracy: 1.000 [after 11 batches]\n",
            "train loss: 0.000 accuracy: 1.000 [after 14 batches]\n",
            "val loss: 0.618 accuracy: 0.586 [after 3 batches]\n"
          ]
        },
        {
          "data": {
            "application/vnd.jupyter.widget-view+json": {
              "model_id": "9069050ca404495e9e0ff1b6c1ecd4f1",
              "version_major": 2,
              "version_minor": 0
            },
            "text/plain": [
              "VBox(children=(Label(value='0.542 MB of 0.542 MB uploaded\\r'), FloatProgress(value=1.0, max=1.0)))"
            ]
          },
          "metadata": {},
          "output_type": "display_data"
        },
        {
          "data": {
            "text/html": [
              "<style>\n",
              "    table.wandb td:nth-child(1) { padding: 0 10px; text-align: left ; width: auto;} td:nth-child(2) {text-align: left ; width: 100%}\n",
              "    .wandb-row { display: flex; flex-direction: row; flex-wrap: wrap; justify-content: flex-start; width: 100% }\n",
              "    .wandb-col { display: flex; flex-direction: column; flex-basis: 100%; flex: 1; padding: 10px; }\n",
              "    </style>\n",
              "<div class=\"wandb-row\"><div class=\"wandb-col\"><h3>Run history:</h3><br/><table class=\"wandb\"><tr><td>epoch</td><td>▁▁▂▂▃▃▄▄▅▅▆▆▇▇██</td></tr><tr><td>step</td><td>▁▁▁▂▂▂▂▂▂▃▃▃▃▃▃▄▄▄▄▄▅▅▅▅▅▅▆▆▆▆▆▆▇▇▇▇▇███</td></tr><tr><td>train_accuracy</td><td>▁▆▇▇██████▇█████████████████████████████</td></tr><tr><td>train_loss</td><td>█▇▆▃▂▁▁▅▁▁▂▁▁▁▁▁▁▁▁▁▁▁▁▁▁▁▂▁▁▁▁▁▁▁▁▁▁▁▁▁</td></tr><tr><td>val_accuracy</td><td>▃▁█▁▇▁█▇▁█▁▅▁▅▁▃</td></tr><tr><td>val_f1</td><td>▃▂█▂▆▁█▇▂█▂▅▂▅▁▃</td></tr><tr><td>val_loss</td><td>▂▃▁▄▂▃▁▁▅▁█▂▅▂▅▂</td></tr><tr><td>val_precision</td><td>▂▁▇▁█▁█▆▁█▁▃▁▄▁▂</td></tr><tr><td>val_recall</td><td>▇▇▇█▁▇▄▇█▄█▇█▇██</td></tr></table><br/></div><div class=\"wandb-col\"><h3>Run summary:</h3><br/><table class=\"wandb\"><tr><td>epoch</td><td>16</td></tr><tr><td>step</td><td>79</td></tr><tr><td>train_accuracy</td><td>1.0</td></tr><tr><td>train_loss</td><td>0.0001</td></tr><tr><td>val_accuracy</td><td>0.58557</td></tr><tr><td>val_f1</td><td>0.70463</td></tr><tr><td>val_loss</td><td>0.61764</td></tr><tr><td>val_precision</td><td>0.55345</td></tr><tr><td>val_recall</td><td>0.98667</td></tr></table><br/></div></div>"
            ],
            "text/plain": [
              "<IPython.core.display.HTML object>"
            ]
          },
          "metadata": {},
          "output_type": "display_data"
        },
        {
          "data": {
            "text/html": [
              " View run <strong style=\"color:#cdcd00\">earthy-sweep-1--0</strong> at: <a href='https://wandb.ai/aiuis/ai-1-project/runs/85e62a2t' target=\"_blank\">https://wandb.ai/aiuis/ai-1-project/runs/85e62a2t</a><br/> View project at: <a href='https://wandb.ai/aiuis/ai-1-project' target=\"_blank\">https://wandb.ai/aiuis/ai-1-project</a><br/>Synced 5 W&B file(s), 0 media file(s), 0 artifact file(s) and 1 other file(s)"
            ],
            "text/plain": [
              "<IPython.core.display.HTML object>"
            ]
          },
          "metadata": {},
          "output_type": "display_data"
        },
        {
          "data": {
            "text/html": [
              "Find logs at: <code>../models/wandb/run-20240601_020621-85e62a2t/logs</code>"
            ],
            "text/plain": [
              "<IPython.core.display.HTML object>"
            ]
          },
          "metadata": {},
          "output_type": "display_data"
        },
        {
          "data": {
            "text/html": [
              "Tracking run with wandb version 0.17.0"
            ],
            "text/plain": [
              "<IPython.core.display.HTML object>"
            ]
          },
          "metadata": {},
          "output_type": "display_data"
        },
        {
          "data": {
            "text/html": [
              "Run data is saved locally in <code>../models/wandb/run-20240601_021619-a8okd0ec</code>"
            ],
            "text/plain": [
              "<IPython.core.display.HTML object>"
            ]
          },
          "metadata": {},
          "output_type": "display_data"
        },
        {
          "data": {
            "text/html": [
              "Syncing run <strong><a href='https://wandb.ai/aiuis/ai-1-project/runs/a8okd0ec' target=\"_blank\">earthy-sweep-1--1</a></strong> to <a href='https://wandb.ai/aiuis/ai-1-project' target=\"_blank\">Weights & Biases</a> (<a href='https://wandb.me/run' target=\"_blank\">docs</a>)<br/>"
            ],
            "text/plain": [
              "<IPython.core.display.HTML object>"
            ]
          },
          "metadata": {},
          "output_type": "display_data"
        },
        {
          "data": {
            "text/html": [
              " View project at <a href='https://wandb.ai/aiuis/ai-1-project' target=\"_blank\">https://wandb.ai/aiuis/ai-1-project</a>"
            ],
            "text/plain": [
              "<IPython.core.display.HTML object>"
            ]
          },
          "metadata": {},
          "output_type": "display_data"
        },
        {
          "data": {
            "text/html": [
              " View run at <a href='https://wandb.ai/aiuis/ai-1-project/runs/a8okd0ec' target=\"_blank\">https://wandb.ai/aiuis/ai-1-project/runs/a8okd0ec</a>"
            ],
            "text/plain": [
              "<IPython.core.display.HTML object>"
            ]
          },
          "metadata": {},
          "output_type": "display_data"
        },
        {
          "name": "stdout",
          "output_type": "stream",
          "text": [
            "ConvNet(\n",
            "  (layer1): Sequential(\n",
            "    (0): Conv3d(1, 16, kernel_size=(5, 5, 5), stride=(1, 1, 1), padding=(2, 2, 2))\n",
            "    (1): ReLU()\n",
            "    (2): MaxPool3d(kernel_size=2, stride=2, padding=0, dilation=1, ceil_mode=False)\n",
            "  )\n",
            "  (layer2): Sequential(\n",
            "    (0): Conv3d(16, 32, kernel_size=(5, 5, 5), stride=(1, 1, 1), padding=(2, 2, 2))\n",
            "    (1): ReLU()\n",
            "    (2): MaxPool3d(kernel_size=2, stride=2, padding=0, dilation=1, ceil_mode=False)\n",
            "  )\n",
            "  (fc): Linear(in_features=75264, out_features=1, bias=True)\n",
            ")\n",
            "FOLD 2\n",
            "--------------------------------\n",
            "Epoch 1\n",
            "-------------------------------\n",
            "train loss: 4.626 accuracy: 0.516 [after 2 batches]\n",
            "train loss: 0.661 accuracy: 0.500 [after 5 batches]\n",
            "train loss: 0.670 accuracy: 0.484 [after 8 batches]\n",
            "train loss: 0.639 accuracy: 0.781 [after 11 batches]\n",
            "train loss: 0.604 accuracy: 0.718 [after 14 batches]\n",
            "val loss: 0.693 accuracy: 0.565 [after 3 batches]\n",
            "Epoch 2\n",
            "-------------------------------\n",
            "train loss: 0.544 accuracy: 0.859 [after 2 batches]\n",
            "train loss: 0.413 accuracy: 0.953 [after 5 batches]\n",
            "train loss: 0.370 accuracy: 0.859 [after 8 batches]\n",
            "train loss: 0.304 accuracy: 0.781 [after 11 batches]\n",
            "train loss: 0.174 accuracy: 0.949 [after 14 batches]\n",
            "val loss: 0.683 accuracy: 0.539 [after 3 batches]\n",
            "Epoch 3\n",
            "-------------------------------\n",
            "train loss: 0.069 accuracy: 1.000 [after 2 batches]\n",
            "train loss: 0.057 accuracy: 1.000 [after 5 batches]\n",
            "train loss: 0.026 accuracy: 1.000 [after 8 batches]\n",
            "train loss: 0.041 accuracy: 0.984 [after 11 batches]\n",
            "train loss: 0.004 accuracy: 1.000 [after 14 batches]\n",
            "val loss: 0.580 accuracy: 0.702 [after 3 batches]\n",
            "Epoch 4\n",
            "-------------------------------\n",
            "train loss: 0.010 accuracy: 1.000 [after 2 batches]\n",
            "train loss: 0.033 accuracy: 0.984 [after 5 batches]\n",
            "train loss: 0.017 accuracy: 0.984 [after 8 batches]\n",
            "train loss: 0.001 accuracy: 1.000 [after 11 batches]\n",
            "train loss: 0.006 accuracy: 1.000 [after 14 batches]\n",
            "val loss: 1.192 accuracy: 0.564 [after 3 batches]\n",
            "Epoch 5\n",
            "-------------------------------\n",
            "train loss: 0.001 accuracy: 1.000 [after 2 batches]\n",
            "train loss: 0.002 accuracy: 1.000 [after 5 batches]\n",
            "train loss: 0.019 accuracy: 1.000 [after 8 batches]\n",
            "train loss: 0.002 accuracy: 1.000 [after 11 batches]\n",
            "train loss: 0.003 accuracy: 1.000 [after 14 batches]\n",
            "val loss: 0.984 accuracy: 0.607 [after 3 batches]\n",
            "Epoch 6\n",
            "-------------------------------\n",
            "train loss: 0.005 accuracy: 1.000 [after 2 batches]\n",
            "train loss: 0.001 accuracy: 1.000 [after 5 batches]\n",
            "train loss: 0.001 accuracy: 1.000 [after 8 batches]\n",
            "train loss: 0.000 accuracy: 1.000 [after 11 batches]\n",
            "train loss: 0.000 accuracy: 1.000 [after 14 batches]\n",
            "val loss: 1.788 accuracy: 0.541 [after 3 batches]\n",
            "Epoch 7\n",
            "-------------------------------\n",
            "train loss: 0.001 accuracy: 1.000 [after 2 batches]\n",
            "train loss: 0.000 accuracy: 1.000 [after 5 batches]\n",
            "train loss: 0.000 accuracy: 1.000 [after 8 batches]\n",
            "train loss: 0.007 accuracy: 1.000 [after 11 batches]\n",
            "train loss: 0.001 accuracy: 1.000 [after 14 batches]\n",
            "val loss: 0.530 accuracy: 0.812 [after 3 batches]\n",
            "Epoch 8\n",
            "-------------------------------\n",
            "train loss: 0.005 accuracy: 1.000 [after 2 batches]\n",
            "train loss: 0.028 accuracy: 0.984 [after 5 batches]\n",
            "train loss: 0.001 accuracy: 1.000 [after 8 batches]\n",
            "train loss: 0.010 accuracy: 1.000 [after 11 batches]\n",
            "train loss: 0.000 accuracy: 1.000 [after 14 batches]\n",
            "val loss: 0.421 accuracy: 0.838 [after 3 batches]\n",
            "Epoch 9\n",
            "-------------------------------\n",
            "train loss: 0.000 accuracy: 1.000 [after 2 batches]\n",
            "train loss: 0.000 accuracy: 1.000 [after 5 batches]\n",
            "train loss: 0.000 accuracy: 1.000 [after 8 batches]\n",
            "train loss: 0.002 accuracy: 1.000 [after 11 batches]\n",
            "train loss: 0.000 accuracy: 1.000 [after 14 batches]\n",
            "val loss: 0.437 accuracy: 0.835 [after 3 batches]\n",
            "Epoch 10\n",
            "-------------------------------\n",
            "train loss: 0.000 accuracy: 1.000 [after 2 batches]\n",
            "train loss: 0.000 accuracy: 1.000 [after 5 batches]\n",
            "train loss: 0.008 accuracy: 1.000 [after 8 batches]\n",
            "train loss: 0.000 accuracy: 1.000 [after 11 batches]\n",
            "train loss: 0.000 accuracy: 1.000 [after 14 batches]\n",
            "val loss: 0.399 accuracy: 0.853 [after 3 batches]\n",
            "Epoch 11\n",
            "-------------------------------\n",
            "train loss: 0.001 accuracy: 1.000 [after 2 batches]\n",
            "train loss: 0.000 accuracy: 1.000 [after 5 batches]\n",
            "train loss: 0.000 accuracy: 1.000 [after 8 batches]\n",
            "train loss: 0.000 accuracy: 1.000 [after 11 batches]\n",
            "train loss: 0.000 accuracy: 1.000 [after 14 batches]\n",
            "val loss: 0.622 accuracy: 0.783 [after 3 batches]\n",
            "Epoch 12\n",
            "-------------------------------\n",
            "train loss: 0.000 accuracy: 1.000 [after 2 batches]\n",
            "train loss: 0.000 accuracy: 1.000 [after 5 batches]\n",
            "train loss: 0.000 accuracy: 1.000 [after 8 batches]\n",
            "train loss: 0.000 accuracy: 1.000 [after 11 batches]\n",
            "train loss: 0.000 accuracy: 1.000 [after 14 batches]\n",
            "val loss: 0.525 accuracy: 0.809 [after 3 batches]\n"
          ]
        },
        {
          "data": {
            "application/vnd.jupyter.widget-view+json": {
              "model_id": "c608b80506bf439c8d04f5267692bc15",
              "version_major": 2,
              "version_minor": 0
            },
            "text/plain": [
              "VBox(children=(Label(value='0.542 MB of 0.542 MB uploaded\\r'), FloatProgress(value=1.0, max=1.0)))"
            ]
          },
          "metadata": {},
          "output_type": "display_data"
        },
        {
          "data": {
            "text/html": [
              "<style>\n",
              "    table.wandb td:nth-child(1) { padding: 0 10px; text-align: left ; width: auto;} td:nth-child(2) {text-align: left ; width: 100%}\n",
              "    .wandb-row { display: flex; flex-direction: row; flex-wrap: wrap; justify-content: flex-start; width: 100% }\n",
              "    .wandb-col { display: flex; flex-direction: column; flex-basis: 100%; flex: 1; padding: 10px; }\n",
              "    </style>\n",
              "<div class=\"wandb-row\"><div class=\"wandb-col\"><h3>Run history:</h3><br/><table class=\"wandb\"><tr><td>epoch</td><td>▁▂▂▃▄▄▅▅▆▇▇█</td></tr><tr><td>step</td><td>▁▁▁▁▂▂▂▂▂▃▃▃▃▃▃▄▄▄▄▄▅▅▅▅▅▅▆▆▆▆▆▆▇▇▇▇▇███</td></tr><tr><td>train_accuracy</td><td>▁▁▅▄▇▆▇█████████████████████████████████</td></tr><tr><td>train_loss</td><td>█▂▂▂▂▂▁▁▁▁▁▁▁▁▁▁▁▁▁▁▁▁▁▁▁▁▁▁▁▁▁▁▁▁▁▁▁▁▁▁</td></tr><tr><td>val_accuracy</td><td>▂▁▅▂▃▁▇███▆▇</td></tr><tr><td>val_f1</td><td>▇▁▆▂▄▁████▇▇</td></tr><tr><td>val_loss</td><td>▂▂▂▅▄█▂▁▁▁▂▂</td></tr><tr><td>val_precision</td><td>▁█▄█▇█▄█████</td></tr><tr><td>val_recall</td><td>█▁▆▂▂▁█▆▆▆▅▆</td></tr></table><br/></div><div class=\"wandb-col\"><h3>Run summary:</h3><br/><table class=\"wandb\"><tr><td>epoch</td><td>12</td></tr><tr><td>step</td><td>59</td></tr><tr><td>train_accuracy</td><td>1.0</td></tr><tr><td>train_loss</td><td>8e-05</td></tr><tr><td>val_accuracy</td><td>0.80878</td></tr><tr><td>val_f1</td><td>0.77308</td></tr><tr><td>val_loss</td><td>0.52469</td></tr><tr><td>val_precision</td><td>0.98246</td></tr><tr><td>val_recall</td><td>0.63745</td></tr></table><br/></div></div>"
            ],
            "text/plain": [
              "<IPython.core.display.HTML object>"
            ]
          },
          "metadata": {},
          "output_type": "display_data"
        },
        {
          "data": {
            "text/html": [
              " View run <strong style=\"color:#cdcd00\">earthy-sweep-1--1</strong> at: <a href='https://wandb.ai/aiuis/ai-1-project/runs/a8okd0ec' target=\"_blank\">https://wandb.ai/aiuis/ai-1-project/runs/a8okd0ec</a><br/> View project at: <a href='https://wandb.ai/aiuis/ai-1-project' target=\"_blank\">https://wandb.ai/aiuis/ai-1-project</a><br/>Synced 5 W&B file(s), 0 media file(s), 0 artifact file(s) and 1 other file(s)"
            ],
            "text/plain": [
              "<IPython.core.display.HTML object>"
            ]
          },
          "metadata": {},
          "output_type": "display_data"
        },
        {
          "data": {
            "text/html": [
              "Find logs at: <code>../models/wandb/run-20240601_021619-a8okd0ec/logs</code>"
            ],
            "text/plain": [
              "<IPython.core.display.HTML object>"
            ]
          },
          "metadata": {},
          "output_type": "display_data"
        },
        {
          "data": {
            "text/html": [
              "Tracking run with wandb version 0.17.0"
            ],
            "text/plain": [
              "<IPython.core.display.HTML object>"
            ]
          },
          "metadata": {},
          "output_type": "display_data"
        },
        {
          "data": {
            "text/html": [
              "Run data is saved locally in <code>../models/wandb/run-20240601_022339-hjaympfk</code>"
            ],
            "text/plain": [
              "<IPython.core.display.HTML object>"
            ]
          },
          "metadata": {},
          "output_type": "display_data"
        },
        {
          "data": {
            "text/html": [
              "Syncing run <strong><a href='https://wandb.ai/aiuis/ai-1-project/runs/hjaympfk' target=\"_blank\">earthy-sweep-1--2</a></strong> to <a href='https://wandb.ai/aiuis/ai-1-project' target=\"_blank\">Weights & Biases</a> (<a href='https://wandb.me/run' target=\"_blank\">docs</a>)<br/>"
            ],
            "text/plain": [
              "<IPython.core.display.HTML object>"
            ]
          },
          "metadata": {},
          "output_type": "display_data"
        },
        {
          "data": {
            "text/html": [
              " View project at <a href='https://wandb.ai/aiuis/ai-1-project' target=\"_blank\">https://wandb.ai/aiuis/ai-1-project</a>"
            ],
            "text/plain": [
              "<IPython.core.display.HTML object>"
            ]
          },
          "metadata": {},
          "output_type": "display_data"
        },
        {
          "data": {
            "text/html": [
              " View run at <a href='https://wandb.ai/aiuis/ai-1-project/runs/hjaympfk' target=\"_blank\">https://wandb.ai/aiuis/ai-1-project/runs/hjaympfk</a>"
            ],
            "text/plain": [
              "<IPython.core.display.HTML object>"
            ]
          },
          "metadata": {},
          "output_type": "display_data"
        },
        {
          "name": "stdout",
          "output_type": "stream",
          "text": [
            "ConvNet(\n",
            "  (layer1): Sequential(\n",
            "    (0): Conv3d(1, 16, kernel_size=(5, 5, 5), stride=(1, 1, 1), padding=(2, 2, 2))\n",
            "    (1): ReLU()\n",
            "    (2): MaxPool3d(kernel_size=2, stride=2, padding=0, dilation=1, ceil_mode=False)\n",
            "  )\n",
            "  (layer2): Sequential(\n",
            "    (0): Conv3d(16, 32, kernel_size=(5, 5, 5), stride=(1, 1, 1), padding=(2, 2, 2))\n",
            "    (1): ReLU()\n",
            "    (2): MaxPool3d(kernel_size=2, stride=2, padding=0, dilation=1, ceil_mode=False)\n",
            "  )\n",
            "  (fc): Linear(in_features=75264, out_features=1, bias=True)\n",
            ")\n",
            "FOLD 3\n",
            "--------------------------------\n",
            "Epoch 1\n",
            "-------------------------------\n",
            "train loss: 1.316 accuracy: 0.516 [after 2 batches]\n",
            "train loss: 0.685 accuracy: 0.562 [after 5 batches]\n",
            "train loss: 0.692 accuracy: 0.562 [after 8 batches]\n",
            "train loss: 0.690 accuracy: 0.750 [after 11 batches]\n",
            "train loss: 0.672 accuracy: 0.821 [after 14 batches]\n",
            "val loss: 0.696 accuracy: 0.423 [after 3 batches]\n",
            "Epoch 2\n",
            "-------------------------------\n",
            "train loss: 0.655 accuracy: 0.766 [after 2 batches]\n",
            "train loss: 0.588 accuracy: 0.766 [after 5 batches]\n",
            "train loss: 0.462 accuracy: 0.922 [after 8 batches]\n",
            "train loss: 0.356 accuracy: 0.922 [after 11 batches]\n",
            "train loss: 0.364 accuracy: 0.821 [after 14 batches]\n",
            "val loss: 0.967 accuracy: 0.488 [after 3 batches]\n",
            "Epoch 3\n",
            "-------------------------------\n",
            "train loss: 0.257 accuracy: 0.891 [after 2 batches]\n",
            "train loss: 0.164 accuracy: 0.984 [after 5 batches]\n",
            "train loss: 0.078 accuracy: 1.000 [after 8 batches]\n",
            "train loss: 0.050 accuracy: 1.000 [after 11 batches]\n",
            "train loss: 0.023 accuracy: 1.000 [after 14 batches]\n",
            "val loss: 1.198 accuracy: 0.516 [after 3 batches]\n",
            "Epoch 4\n",
            "-------------------------------\n",
            "train loss: 0.017 accuracy: 1.000 [after 2 batches]\n",
            "train loss: 0.010 accuracy: 1.000 [after 5 batches]\n",
            "train loss: 0.019 accuracy: 1.000 [after 8 batches]\n",
            "train loss: 0.011 accuracy: 1.000 [after 11 batches]\n",
            "train loss: 0.005 accuracy: 1.000 [after 14 batches]\n",
            "val loss: 2.364 accuracy: 0.473 [after 3 batches]\n",
            "Epoch 5\n",
            "-------------------------------\n",
            "train loss: 0.005 accuracy: 1.000 [after 2 batches]\n",
            "train loss: 0.014 accuracy: 1.000 [after 5 batches]\n",
            "train loss: 0.018 accuracy: 1.000 [after 8 batches]\n",
            "train loss: 0.005 accuracy: 1.000 [after 11 batches]\n",
            "train loss: 0.005 accuracy: 1.000 [after 14 batches]\n",
            "val loss: 2.272 accuracy: 0.533 [after 3 batches]\n",
            "Epoch 6\n",
            "-------------------------------\n",
            "train loss: 0.006 accuracy: 1.000 [after 2 batches]\n",
            "train loss: 0.003 accuracy: 1.000 [after 5 batches]\n",
            "train loss: 0.003 accuracy: 1.000 [after 8 batches]\n",
            "train loss: 0.002 accuracy: 1.000 [after 11 batches]\n",
            "train loss: 0.001 accuracy: 1.000 [after 14 batches]\n",
            "val loss: 2.873 accuracy: 0.500 [after 3 batches]\n",
            "Epoch 7\n",
            "-------------------------------\n",
            "train loss: 0.012 accuracy: 1.000 [after 2 batches]\n",
            "train loss: 0.004 accuracy: 1.000 [after 5 batches]\n",
            "train loss: 0.007 accuracy: 1.000 [after 8 batches]\n",
            "train loss: 0.001 accuracy: 1.000 [after 11 batches]\n",
            "train loss: 0.003 accuracy: 1.000 [after 14 batches]\n",
            "val loss: 2.404 accuracy: 0.500 [after 3 batches]\n",
            "Epoch 8\n",
            "-------------------------------\n",
            "train loss: 0.001 accuracy: 1.000 [after 2 batches]\n",
            "train loss: 0.001 accuracy: 1.000 [after 5 batches]\n",
            "train loss: 0.001 accuracy: 1.000 [after 8 batches]\n",
            "train loss: 0.003 accuracy: 1.000 [after 11 batches]\n",
            "train loss: 0.000 accuracy: 1.000 [after 14 batches]\n",
            "val loss: 2.930 accuracy: 0.507 [after 3 batches]\n",
            "Epoch 9\n",
            "-------------------------------\n",
            "train loss: 0.001 accuracy: 1.000 [after 2 batches]\n",
            "train loss: 0.001 accuracy: 1.000 [after 5 batches]\n",
            "train loss: 0.000 accuracy: 1.000 [after 8 batches]\n",
            "train loss: 0.000 accuracy: 1.000 [after 11 batches]\n",
            "train loss: 0.005 accuracy: 1.000 [after 14 batches]\n",
            "val loss: 2.309 accuracy: 0.539 [after 3 batches]\n",
            "Epoch 10\n",
            "-------------------------------\n",
            "train loss: 0.001 accuracy: 1.000 [after 2 batches]\n",
            "train loss: 0.000 accuracy: 1.000 [after 5 batches]\n",
            "train loss: 0.000 accuracy: 1.000 [after 8 batches]\n",
            "train loss: 0.001 accuracy: 1.000 [after 11 batches]\n",
            "train loss: 0.001 accuracy: 1.000 [after 14 batches]\n",
            "val loss: 2.783 accuracy: 0.500 [after 3 batches]\n",
            "Epoch 11\n",
            "-------------------------------\n",
            "train loss: 0.001 accuracy: 1.000 [after 2 batches]\n",
            "train loss: 0.003 accuracy: 1.000 [after 5 batches]\n",
            "train loss: 0.000 accuracy: 1.000 [after 8 batches]\n",
            "train loss: 0.003 accuracy: 1.000 [after 11 batches]\n",
            "train loss: 0.000 accuracy: 1.000 [after 14 batches]\n",
            "val loss: 2.474 accuracy: 0.525 [after 3 batches]\n"
          ]
        },
        {
          "data": {
            "application/vnd.jupyter.widget-view+json": {
              "model_id": "a6bb9545423c4f17a8b93dffa67a9fb8",
              "version_major": 2,
              "version_minor": 0
            },
            "text/plain": [
              "VBox(children=(Label(value='0.542 MB of 0.542 MB uploaded\\r'), FloatProgress(value=1.0, max=1.0)))"
            ]
          },
          "metadata": {},
          "output_type": "display_data"
        },
        {
          "data": {
            "text/html": [
              "<style>\n",
              "    table.wandb td:nth-child(1) { padding: 0 10px; text-align: left ; width: auto;} td:nth-child(2) {text-align: left ; width: 100%}\n",
              "    .wandb-row { display: flex; flex-direction: row; flex-wrap: wrap; justify-content: flex-start; width: 100% }\n",
              "    .wandb-col { display: flex; flex-direction: column; flex-basis: 100%; flex: 1; padding: 10px; }\n",
              "    </style>\n",
              "<div class=\"wandb-row\"><div class=\"wandb-col\"><h3>Run history:</h3><br/><table class=\"wandb\"><tr><td>epoch</td><td>▁▂▂▃▄▅▅▆▇▇█</td></tr><tr><td>step</td><td>▁▁▁▂▂▂▂▂▂▃▃▃▃▃▃▄▄▄▄▄▅▅▅▅▅▅▆▆▆▆▆▆▇▇▇▇▇███</td></tr><tr><td>train_accuracy</td><td>▁▂▂▅▅▅▇▅████████████████████████████████</td></tr><tr><td>train_loss</td><td>█▅▅▅▄▄▃▃▂▁▁▁▁▁▁▁▁▁▁▁▁▁▁▁▁▁▁▁▁▁▁▁▁▁▁▁▁▁▁▁</td></tr><tr><td>val_accuracy</td><td>▁▅▇▄█▆▆▆█▆▇</td></tr><tr><td>val_f1</td><td>█▁▁▁▁▁▁▁▁▁▁</td></tr><tr><td>val_loss</td><td>▁▂▃▆▆█▆█▆█▇</td></tr><tr><td>val_precision</td><td>█▁▄▁▁▁▁▁▆▁▆</td></tr><tr><td>val_recall</td><td>█▁▁▁▁▁▁▁▁▁▁</td></tr></table><br/></div><div class=\"wandb-col\"><h3>Run summary:</h3><br/><table class=\"wandb\"><tr><td>epoch</td><td>11</td></tr><tr><td>step</td><td>54</td></tr><tr><td>train_accuracy</td><td>1.0</td></tr><tr><td>train_loss</td><td>0.00014</td></tr><tr><td>val_accuracy</td><td>0.5253</td></tr><tr><td>val_f1</td><td>0.01754</td></tr><tr><td>val_loss</td><td>2.47377</td></tr><tr><td>val_precision</td><td>0.33333</td></tr><tr><td>val_recall</td><td>0.00901</td></tr></table><br/></div></div>"
            ],
            "text/plain": [
              "<IPython.core.display.HTML object>"
            ]
          },
          "metadata": {},
          "output_type": "display_data"
        },
        {
          "data": {
            "text/html": [
              " View run <strong style=\"color:#cdcd00\">earthy-sweep-1--2</strong> at: <a href='https://wandb.ai/aiuis/ai-1-project/runs/hjaympfk' target=\"_blank\">https://wandb.ai/aiuis/ai-1-project/runs/hjaympfk</a><br/> View project at: <a href='https://wandb.ai/aiuis/ai-1-project' target=\"_blank\">https://wandb.ai/aiuis/ai-1-project</a><br/>Synced 5 W&B file(s), 0 media file(s), 0 artifact file(s) and 1 other file(s)"
            ],
            "text/plain": [
              "<IPython.core.display.HTML object>"
            ]
          },
          "metadata": {},
          "output_type": "display_data"
        },
        {
          "data": {
            "text/html": [
              "Find logs at: <code>../models/wandb/run-20240601_022339-hjaympfk/logs</code>"
            ],
            "text/plain": [
              "<IPython.core.display.HTML object>"
            ]
          },
          "metadata": {},
          "output_type": "display_data"
        },
        {
          "data": {
            "text/html": [
              "Tracking run with wandb version 0.17.0"
            ],
            "text/plain": [
              "<IPython.core.display.HTML object>"
            ]
          },
          "metadata": {},
          "output_type": "display_data"
        },
        {
          "data": {
            "text/html": [
              "Run data is saved locally in <code>../models/wandb/run-20240601_023022-4lqpd6qv</code>"
            ],
            "text/plain": [
              "<IPython.core.display.HTML object>"
            ]
          },
          "metadata": {},
          "output_type": "display_data"
        },
        {
          "data": {
            "text/html": [
              "Syncing run <strong><a href='https://wandb.ai/aiuis/ai-1-project/runs/4lqpd6qv' target=\"_blank\">earthy-sweep-1--3</a></strong> to <a href='https://wandb.ai/aiuis/ai-1-project' target=\"_blank\">Weights & Biases</a> (<a href='https://wandb.me/run' target=\"_blank\">docs</a>)<br/>"
            ],
            "text/plain": [
              "<IPython.core.display.HTML object>"
            ]
          },
          "metadata": {},
          "output_type": "display_data"
        },
        {
          "data": {
            "text/html": [
              " View project at <a href='https://wandb.ai/aiuis/ai-1-project' target=\"_blank\">https://wandb.ai/aiuis/ai-1-project</a>"
            ],
            "text/plain": [
              "<IPython.core.display.HTML object>"
            ]
          },
          "metadata": {},
          "output_type": "display_data"
        },
        {
          "data": {
            "text/html": [
              " View run at <a href='https://wandb.ai/aiuis/ai-1-project/runs/4lqpd6qv' target=\"_blank\">https://wandb.ai/aiuis/ai-1-project/runs/4lqpd6qv</a>"
            ],
            "text/plain": [
              "<IPython.core.display.HTML object>"
            ]
          },
          "metadata": {},
          "output_type": "display_data"
        },
        {
          "name": "stdout",
          "output_type": "stream",
          "text": [
            "ConvNet(\n",
            "  (layer1): Sequential(\n",
            "    (0): Conv3d(1, 16, kernel_size=(5, 5, 5), stride=(1, 1, 1), padding=(2, 2, 2))\n",
            "    (1): ReLU()\n",
            "    (2): MaxPool3d(kernel_size=2, stride=2, padding=0, dilation=1, ceil_mode=False)\n",
            "  )\n",
            "  (layer2): Sequential(\n",
            "    (0): Conv3d(16, 32, kernel_size=(5, 5, 5), stride=(1, 1, 1), padding=(2, 2, 2))\n",
            "    (1): ReLU()\n",
            "    (2): MaxPool3d(kernel_size=2, stride=2, padding=0, dilation=1, ceil_mode=False)\n",
            "  )\n",
            "  (fc): Linear(in_features=75264, out_features=1, bias=True)\n",
            ")\n",
            "FOLD 4\n",
            "--------------------------------\n",
            "Epoch 1\n",
            "-------------------------------\n",
            "train loss: 0.676 accuracy: 0.625 [after 2 batches]\n",
            "train loss: 0.681 accuracy: 0.516 [after 5 batches]\n",
            "train loss: 0.620 accuracy: 0.859 [after 8 batches]\n",
            "train loss: 0.594 accuracy: 0.844 [after 11 batches]\n",
            "train loss: 0.487 accuracy: 0.795 [after 14 batches]\n",
            "val loss: 0.505 accuracy: 0.899 [after 3 batches]\n",
            "Epoch 2\n",
            "-------------------------------\n",
            "train loss: 0.363 accuracy: 0.844 [after 2 batches]\n",
            "train loss: 0.219 accuracy: 0.969 [after 5 batches]\n",
            "train loss: 0.128 accuracy: 0.984 [after 8 batches]\n",
            "train loss: 0.063 accuracy: 1.000 [after 11 batches]\n",
            "train loss: 0.029 accuracy: 1.000 [after 14 batches]\n",
            "val loss: 0.027 accuracy: 1.000 [after 3 batches]\n",
            "Epoch 3\n",
            "-------------------------------\n",
            "train loss: 0.028 accuracy: 1.000 [after 2 batches]\n",
            "train loss: 0.035 accuracy: 0.984 [after 5 batches]\n",
            "train loss: 0.003 accuracy: 1.000 [after 8 batches]\n",
            "train loss: 0.011 accuracy: 1.000 [after 11 batches]\n",
            "train loss: 0.002 accuracy: 1.000 [after 14 batches]\n",
            "val loss: 0.064 accuracy: 0.984 [after 3 batches]\n",
            "Epoch 4\n",
            "-------------------------------\n",
            "train loss: 0.000 accuracy: 1.000 [after 2 batches]\n",
            "train loss: 0.003 accuracy: 1.000 [after 5 batches]\n",
            "train loss: 0.001 accuracy: 1.000 [after 8 batches]\n",
            "train loss: 0.001 accuracy: 1.000 [after 11 batches]\n",
            "train loss: 0.000 accuracy: 1.000 [after 14 batches]\n",
            "val loss: 0.000 accuracy: 1.000 [after 3 batches]\n",
            "Epoch 5\n",
            "-------------------------------\n",
            "train loss: 0.000 accuracy: 1.000 [after 2 batches]\n",
            "train loss: 0.000 accuracy: 1.000 [after 5 batches]\n",
            "train loss: 0.000 accuracy: 1.000 [after 8 batches]\n",
            "train loss: 0.008 accuracy: 1.000 [after 11 batches]\n",
            "train loss: 0.010 accuracy: 1.000 [after 14 batches]\n",
            "val loss: 0.001 accuracy: 1.000 [after 3 batches]\n",
            "Epoch 6\n",
            "-------------------------------\n",
            "train loss: 0.016 accuracy: 1.000 [after 2 batches]\n",
            "train loss: 0.000 accuracy: 1.000 [after 5 batches]\n",
            "train loss: 0.120 accuracy: 0.969 [after 8 batches]\n",
            "train loss: 0.002 accuracy: 1.000 [after 11 batches]\n",
            "train loss: 0.001 accuracy: 1.000 [after 14 batches]\n",
            "val loss: 0.002 accuracy: 1.000 [after 3 batches]\n",
            "Epoch 7\n",
            "-------------------------------\n",
            "train loss: 0.002 accuracy: 1.000 [after 2 batches]\n",
            "train loss: 0.020 accuracy: 1.000 [after 5 batches]\n",
            "train loss: 0.269 accuracy: 0.891 [after 8 batches]\n",
            "train loss: 0.019 accuracy: 1.000 [after 11 batches]\n",
            "train loss: 0.003 accuracy: 1.000 [after 14 batches]\n",
            "val loss: 0.018 accuracy: 1.000 [after 3 batches]\n",
            "Epoch 8\n",
            "-------------------------------\n",
            "train loss: 0.005 accuracy: 1.000 [after 2 batches]\n",
            "train loss: 0.066 accuracy: 0.984 [after 5 batches]\n",
            "train loss: 0.005 accuracy: 1.000 [after 8 batches]\n",
            "train loss: 0.261 accuracy: 0.859 [after 11 batches]\n",
            "train loss: 0.001 accuracy: 1.000 [after 14 batches]\n",
            "val loss: 0.001 accuracy: 1.000 [after 3 batches]\n",
            "Epoch 9\n",
            "-------------------------------\n",
            "train loss: 0.011 accuracy: 1.000 [after 2 batches]\n",
            "train loss: 0.174 accuracy: 0.922 [after 5 batches]\n",
            "train loss: 0.030 accuracy: 0.984 [after 8 batches]\n",
            "train loss: 0.016 accuracy: 1.000 [after 11 batches]\n",
            "train loss: 0.051 accuracy: 1.000 [after 14 batches]\n",
            "val loss: 0.205 accuracy: 0.924 [after 3 batches]\n",
            "Epoch 10\n",
            "-------------------------------\n",
            "train loss: 0.021 accuracy: 1.000 [after 2 batches]\n",
            "train loss: 0.011 accuracy: 1.000 [after 5 batches]\n",
            "train loss: 0.003 accuracy: 1.000 [after 8 batches]\n",
            "train loss: 0.004 accuracy: 1.000 [after 11 batches]\n",
            "train loss: 0.176 accuracy: 0.974 [after 14 batches]\n",
            "val loss: 0.120 accuracy: 0.957 [after 3 batches]\n",
            "Epoch 11\n",
            "-------------------------------\n",
            "train loss: 0.033 accuracy: 0.984 [after 2 batches]\n",
            "train loss: 0.007 accuracy: 1.000 [after 5 batches]\n",
            "train loss: 0.001 accuracy: 1.000 [after 8 batches]\n",
            "train loss: 0.001 accuracy: 1.000 [after 11 batches]\n",
            "train loss: 0.000 accuracy: 1.000 [after 14 batches]\n",
            "val loss: 0.001 accuracy: 1.000 [after 3 batches]\n"
          ]
        },
        {
          "data": {
            "application/vnd.jupyter.widget-view+json": {
              "model_id": "b6c79cd917a1408baee2021379c0ea3f",
              "version_major": 2,
              "version_minor": 0
            },
            "text/plain": [
              "VBox(children=(Label(value='0.542 MB of 0.542 MB uploaded\\r'), FloatProgress(value=1.0, max=1.0)))"
            ]
          },
          "metadata": {},
          "output_type": "display_data"
        },
        {
          "data": {
            "text/html": [
              "<style>\n",
              "    table.wandb td:nth-child(1) { padding: 0 10px; text-align: left ; width: auto;} td:nth-child(2) {text-align: left ; width: 100%}\n",
              "    .wandb-row { display: flex; flex-direction: row; flex-wrap: wrap; justify-content: flex-start; width: 100% }\n",
              "    .wandb-col { display: flex; flex-direction: column; flex-basis: 100%; flex: 1; padding: 10px; }\n",
              "    </style>\n",
              "<div class=\"wandb-row\"><div class=\"wandb-col\"><h3>Run history:</h3><br/><table class=\"wandb\"><tr><td>epoch</td><td>▁▂▂▃▄▅▅▆▇▇█</td></tr><tr><td>step</td><td>▁▁▁▂▂▂▂▂▂▃▃▃▃▃▃▄▄▄▄▄▅▅▅▅▅▅▆▆▆▆▆▆▇▇▇▇▇███</td></tr><tr><td>train_accuracy</td><td>▃▁▆▅▆███████████████████████▆█▇█████████</td></tr><tr><td>train_loss</td><td>██▇▆▅▃▂▁▁▁▁▁▁▁▁▁▁▁▁▁▂▁▁▁▁▁▂▁▄▁▃▁▂▁▁▁▃▁▁▁</td></tr><tr><td>val_accuracy</td><td>▁█▇█████▃▅█</td></tr><tr><td>val_f1</td><td>▁█▇█████▃▅█</td></tr><tr><td>val_loss</td><td>█▁▂▁▁▁▁▁▄▃▁</td></tr><tr><td>val_precision</td><td>▁█▇█████▃▅█</td></tr><tr><td>val_recall</td><td>▁▁▁▁▁▁▁▁▁▁▁</td></tr></table><br/></div><div class=\"wandb-col\"><h3>Run summary:</h3><br/><table class=\"wandb\"><tr><td>epoch</td><td>11</td></tr><tr><td>step</td><td>54</td></tr><tr><td>train_accuracy</td><td>1.0</td></tr><tr><td>train_loss</td><td>0.00022</td></tr><tr><td>val_accuracy</td><td>1.0</td></tr><tr><td>val_f1</td><td>1.0</td></tr><tr><td>val_loss</td><td>0.0011</td></tr><tr><td>val_precision</td><td>1.0</td></tr><tr><td>val_recall</td><td>1.0</td></tr></table><br/></div></div>"
            ],
            "text/plain": [
              "<IPython.core.display.HTML object>"
            ]
          },
          "metadata": {},
          "output_type": "display_data"
        },
        {
          "data": {
            "text/html": [
              " View run <strong style=\"color:#cdcd00\">earthy-sweep-1--3</strong> at: <a href='https://wandb.ai/aiuis/ai-1-project/runs/4lqpd6qv' target=\"_blank\">https://wandb.ai/aiuis/ai-1-project/runs/4lqpd6qv</a><br/> View project at: <a href='https://wandb.ai/aiuis/ai-1-project' target=\"_blank\">https://wandb.ai/aiuis/ai-1-project</a><br/>Synced 5 W&B file(s), 0 media file(s), 0 artifact file(s) and 1 other file(s)"
            ],
            "text/plain": [
              "<IPython.core.display.HTML object>"
            ]
          },
          "metadata": {},
          "output_type": "display_data"
        },
        {
          "data": {
            "text/html": [
              "Find logs at: <code>../models/wandb/run-20240601_023022-4lqpd6qv/logs</code>"
            ],
            "text/plain": [
              "<IPython.core.display.HTML object>"
            ]
          },
          "metadata": {},
          "output_type": "display_data"
        },
        {
          "data": {
            "text/html": [
              "Tracking run with wandb version 0.17.0"
            ],
            "text/plain": [
              "<IPython.core.display.HTML object>"
            ]
          },
          "metadata": {},
          "output_type": "display_data"
        },
        {
          "data": {
            "text/html": [
              "Run data is saved locally in <code>../models/wandb/run-20240601_023714-lz7f2tzx</code>"
            ],
            "text/plain": [
              "<IPython.core.display.HTML object>"
            ]
          },
          "metadata": {},
          "output_type": "display_data"
        },
        {
          "data": {
            "text/html": [
              "Syncing run <strong><a href='https://wandb.ai/aiuis/ai-1-project/runs/lz7f2tzx' target=\"_blank\">earthy-sweep-1--4</a></strong> to <a href='https://wandb.ai/aiuis/ai-1-project' target=\"_blank\">Weights & Biases</a> (<a href='https://wandb.me/run' target=\"_blank\">docs</a>)<br/>"
            ],
            "text/plain": [
              "<IPython.core.display.HTML object>"
            ]
          },
          "metadata": {},
          "output_type": "display_data"
        },
        {
          "data": {
            "text/html": [
              " View project at <a href='https://wandb.ai/aiuis/ai-1-project' target=\"_blank\">https://wandb.ai/aiuis/ai-1-project</a>"
            ],
            "text/plain": [
              "<IPython.core.display.HTML object>"
            ]
          },
          "metadata": {},
          "output_type": "display_data"
        },
        {
          "data": {
            "text/html": [
              " View run at <a href='https://wandb.ai/aiuis/ai-1-project/runs/lz7f2tzx' target=\"_blank\">https://wandb.ai/aiuis/ai-1-project/runs/lz7f2tzx</a>"
            ],
            "text/plain": [
              "<IPython.core.display.HTML object>"
            ]
          },
          "metadata": {},
          "output_type": "display_data"
        },
        {
          "name": "stdout",
          "output_type": "stream",
          "text": [
            "ConvNet(\n",
            "  (layer1): Sequential(\n",
            "    (0): Conv3d(1, 16, kernel_size=(5, 5, 5), stride=(1, 1, 1), padding=(2, 2, 2))\n",
            "    (1): ReLU()\n",
            "    (2): MaxPool3d(kernel_size=2, stride=2, padding=0, dilation=1, ceil_mode=False)\n",
            "  )\n",
            "  (layer2): Sequential(\n",
            "    (0): Conv3d(16, 32, kernel_size=(5, 5, 5), stride=(1, 1, 1), padding=(2, 2, 2))\n",
            "    (1): ReLU()\n",
            "    (2): MaxPool3d(kernel_size=2, stride=2, padding=0, dilation=1, ceil_mode=False)\n",
            "  )\n",
            "  (fc): Linear(in_features=75264, out_features=1, bias=True)\n",
            ")\n",
            "FOLD 5\n",
            "--------------------------------\n",
            "Epoch 1\n",
            "-------------------------------\n",
            "train loss: 0.710 accuracy: 0.406 [after 2 batches]\n",
            "train loss: 0.683 accuracy: 0.484 [after 5 batches]\n",
            "train loss: 0.680 accuracy: 0.516 [after 8 batches]\n",
            "train loss: 0.691 accuracy: 0.375 [after 11 batches]\n",
            "train loss: 0.632 accuracy: 0.974 [after 14 batches]\n",
            "val loss: 0.666 accuracy: 0.487 [after 3 batches]\n",
            "Epoch 2\n",
            "-------------------------------\n",
            "train loss: 0.553 accuracy: 0.891 [after 2 batches]\n",
            "train loss: 0.427 accuracy: 0.969 [after 5 batches]\n",
            "train loss: 0.317 accuracy: 0.984 [after 8 batches]\n",
            "train loss: 0.217 accuracy: 1.000 [after 11 batches]\n",
            "train loss: 0.181 accuracy: 0.974 [after 14 batches]\n",
            "val loss: 0.830 accuracy: 0.484 [after 3 batches]\n",
            "Epoch 3\n",
            "-------------------------------\n",
            "train loss: 0.054 accuracy: 1.000 [after 2 batches]\n",
            "train loss: 0.032 accuracy: 1.000 [after 5 batches]\n",
            "train loss: 0.021 accuracy: 1.000 [after 8 batches]\n",
            "train loss: 0.058 accuracy: 0.984 [after 11 batches]\n",
            "train loss: 0.022 accuracy: 1.000 [after 14 batches]\n",
            "val loss: 0.578 accuracy: 0.763 [after 3 batches]\n",
            "Epoch 4\n",
            "-------------------------------\n",
            "train loss: 0.016 accuracy: 1.000 [after 2 batches]\n",
            "train loss: 0.006 accuracy: 1.000 [after 5 batches]\n",
            "train loss: 0.004 accuracy: 1.000 [after 8 batches]\n",
            "train loss: 0.010 accuracy: 1.000 [after 11 batches]\n",
            "train loss: 0.001 accuracy: 1.000 [after 14 batches]\n",
            "val loss: 1.428 accuracy: 0.438 [after 3 batches]\n",
            "Epoch 5\n",
            "-------------------------------\n",
            "train loss: 0.001 accuracy: 1.000 [after 2 batches]\n",
            "train loss: 0.013 accuracy: 0.984 [after 5 batches]\n",
            "train loss: 0.002 accuracy: 1.000 [after 8 batches]\n",
            "train loss: 0.006 accuracy: 1.000 [after 11 batches]\n",
            "train loss: 0.002 accuracy: 1.000 [after 14 batches]\n",
            "val loss: 1.164 accuracy: 0.442 [after 3 batches]\n",
            "Epoch 6\n",
            "-------------------------------\n",
            "train loss: 0.001 accuracy: 1.000 [after 2 batches]\n",
            "train loss: 0.000 accuracy: 1.000 [after 5 batches]\n",
            "train loss: 0.001 accuracy: 1.000 [after 8 batches]\n",
            "train loss: 0.001 accuracy: 1.000 [after 11 batches]\n",
            "train loss: 0.001 accuracy: 1.000 [after 14 batches]\n",
            "val loss: 1.116 accuracy: 0.449 [after 3 batches]\n",
            "Epoch 7\n",
            "-------------------------------\n",
            "train loss: 0.006 accuracy: 1.000 [after 2 batches]\n",
            "train loss: 0.001 accuracy: 1.000 [after 5 batches]\n",
            "train loss: 0.000 accuracy: 1.000 [after 8 batches]\n",
            "train loss: 0.002 accuracy: 1.000 [after 11 batches]\n",
            "train loss: 0.000 accuracy: 1.000 [after 14 batches]\n",
            "val loss: 0.992 accuracy: 0.630 [after 3 batches]\n",
            "Epoch 8\n",
            "-------------------------------\n",
            "train loss: 0.001 accuracy: 1.000 [after 2 batches]\n",
            "train loss: 0.000 accuracy: 1.000 [after 5 batches]\n",
            "train loss: 0.001 accuracy: 1.000 [after 8 batches]\n",
            "train loss: 0.000 accuracy: 1.000 [after 11 batches]\n",
            "train loss: 0.000 accuracy: 1.000 [after 14 batches]\n",
            "val loss: 0.927 accuracy: 0.627 [after 3 batches]\n",
            "Epoch 9\n",
            "-------------------------------\n",
            "train loss: 0.000 accuracy: 1.000 [after 2 batches]\n",
            "train loss: 0.000 accuracy: 1.000 [after 5 batches]\n",
            "train loss: 0.001 accuracy: 1.000 [after 8 batches]\n",
            "train loss: 0.000 accuracy: 1.000 [after 11 batches]\n",
            "train loss: 0.000 accuracy: 1.000 [after 14 batches]\n",
            "val loss: 0.986 accuracy: 0.574 [after 3 batches]\n",
            "Epoch 10\n",
            "-------------------------------\n",
            "train loss: 0.000 accuracy: 1.000 [after 2 batches]\n",
            "train loss: 0.000 accuracy: 1.000 [after 5 batches]\n",
            "train loss: 0.000 accuracy: 1.000 [after 8 batches]\n",
            "train loss: 0.000 accuracy: 1.000 [after 11 batches]\n",
            "train loss: 0.000 accuracy: 1.000 [after 14 batches]\n",
            "val loss: 1.059 accuracy: 0.582 [after 3 batches]\n",
            "Epoch 11\n",
            "-------------------------------\n",
            "train loss: 0.000 accuracy: 1.000 [after 2 batches]\n",
            "train loss: 0.001 accuracy: 1.000 [after 5 batches]\n",
            "train loss: 0.000 accuracy: 1.000 [after 8 batches]\n",
            "train loss: 0.000 accuracy: 1.000 [after 11 batches]\n",
            "train loss: 0.001 accuracy: 1.000 [after 14 batches]\n",
            "val loss: 0.994 accuracy: 0.658 [after 3 batches]\n",
            "Epoch 12\n",
            "-------------------------------\n",
            "train loss: 0.000 accuracy: 1.000 [after 2 batches]\n",
            "train loss: 0.000 accuracy: 1.000 [after 5 batches]\n",
            "train loss: 0.000 accuracy: 1.000 [after 8 batches]\n",
            "train loss: 0.000 accuracy: 1.000 [after 11 batches]\n",
            "train loss: 0.000 accuracy: 1.000 [after 14 batches]\n",
            "val loss: 1.130 accuracy: 0.570 [after 3 batches]\n",
            "Epoch 13\n",
            "-------------------------------\n",
            "train loss: 0.000 accuracy: 1.000 [after 2 batches]\n",
            "train loss: 0.000 accuracy: 1.000 [after 5 batches]\n",
            "train loss: 0.001 accuracy: 1.000 [after 8 batches]\n",
            "train loss: 0.001 accuracy: 1.000 [after 11 batches]\n",
            "train loss: 0.000 accuracy: 1.000 [after 14 batches]\n",
            "val loss: 0.912 accuracy: 0.644 [after 3 batches]\n",
            "Epoch 14\n",
            "-------------------------------\n",
            "train loss: 0.000 accuracy: 1.000 [after 2 batches]\n",
            "train loss: 0.000 accuracy: 1.000 [after 5 batches]\n",
            "train loss: 0.000 accuracy: 1.000 [after 8 batches]\n",
            "train loss: 0.001 accuracy: 1.000 [after 11 batches]\n",
            "train loss: 0.000 accuracy: 1.000 [after 14 batches]\n",
            "val loss: 1.034 accuracy: 0.631 [after 3 batches]\n"
          ]
        },
        {
          "data": {
            "application/vnd.jupyter.widget-view+json": {
              "model_id": "dba7c5698296447f9c1bfa08fd195ab9",
              "version_major": 2,
              "version_minor": 0
            },
            "text/plain": [
              "VBox(children=(Label(value='0.542 MB of 0.557 MB uploaded\\r'), FloatProgress(value=0.9727339026110536, max=1.0…"
            ]
          },
          "metadata": {},
          "output_type": "display_data"
        },
        {
          "data": {
            "text/html": [
              "<style>\n",
              "    table.wandb td:nth-child(1) { padding: 0 10px; text-align: left ; width: auto;} td:nth-child(2) {text-align: left ; width: 100%}\n",
              "    .wandb-row { display: flex; flex-direction: row; flex-wrap: wrap; justify-content: flex-start; width: 100% }\n",
              "    .wandb-col { display: flex; flex-direction: column; flex-basis: 100%; flex: 1; padding: 10px; }\n",
              "    </style>\n",
              "<div class=\"wandb-row\"><div class=\"wandb-col\"><h3>Run history:</h3><br/><table class=\"wandb\"><tr><td>epoch</td><td>▁▂▂▃▃▄▄▅▅▆▆▇▇█</td></tr><tr><td>step</td><td>▁▁▁▂▂▂▂▂▂▃▃▃▃▃▃▄▄▄▄▄▅▅▅▅▅▅▆▆▆▆▆▆▇▇▇▇▇███</td></tr><tr><td>train_accuracy</td><td>▁▂▁▇████████████████████████████████████</td></tr><tr><td>train_loss</td><td>███▆▄▃▂▁▁▁▁▁▁▁▁▁▁▁▁▁▁▁▁▁▁▁▁▁▁▁▁▁▁▁▁▁▁▁▁▁</td></tr><tr><td>val_accuracy</td><td>▂▂█▁▁▁▅▅▄▄▆▄▅▅</td></tr><tr><td>val_f1</td><td>▁▇█▇▆▆▇▇▇▇▇▇▇▇</td></tr><tr><td>val_loss</td><td>▂▃▁█▆▅▄▄▄▅▄▆▄▅</td></tr><tr><td>val_precision</td><td>▁▅█▅▅▅▇▆▆▆▇▆▇▇</td></tr><tr><td>val_recall</td><td>▁█▆▇▇▆▅▆▆▆▆▆▆▆</td></tr></table><br/></div><div class=\"wandb-col\"><h3>Run summary:</h3><br/><table class=\"wandb\"><tr><td>epoch</td><td>14</td></tr><tr><td>step</td><td>69</td></tr><tr><td>train_accuracy</td><td>1.0</td></tr><tr><td>train_loss</td><td>0.00047</td></tr><tr><td>val_accuracy</td><td>0.63095</td></tr><tr><td>val_f1</td><td>0.63832</td></tr><tr><td>val_loss</td><td>1.03435</td></tr><tr><td>val_precision</td><td>0.68867</td></tr><tr><td>val_recall</td><td>0.63333</td></tr></table><br/></div></div>"
            ],
            "text/plain": [
              "<IPython.core.display.HTML object>"
            ]
          },
          "metadata": {},
          "output_type": "display_data"
        },
        {
          "data": {
            "text/html": [
              " View run <strong style=\"color:#cdcd00\">earthy-sweep-1--4</strong> at: <a href='https://wandb.ai/aiuis/ai-1-project/runs/lz7f2tzx' target=\"_blank\">https://wandb.ai/aiuis/ai-1-project/runs/lz7f2tzx</a><br/> View project at: <a href='https://wandb.ai/aiuis/ai-1-project' target=\"_blank\">https://wandb.ai/aiuis/ai-1-project</a><br/>Synced 5 W&B file(s), 0 media file(s), 0 artifact file(s) and 1 other file(s)"
            ],
            "text/plain": [
              "<IPython.core.display.HTML object>"
            ]
          },
          "metadata": {},
          "output_type": "display_data"
        },
        {
          "data": {
            "text/html": [
              "Find logs at: <code>../models/wandb/run-20240601_023714-lz7f2tzx/logs</code>"
            ],
            "text/plain": [
              "<IPython.core.display.HTML object>"
            ]
          },
          "metadata": {},
          "output_type": "display_data"
        },
        {
          "data": {
            "text/html": [
              "Tracking run with wandb version 0.17.0"
            ],
            "text/plain": [
              "<IPython.core.display.HTML object>"
            ]
          },
          "metadata": {},
          "output_type": "display_data"
        },
        {
          "data": {
            "text/html": [
              "Run data is saved locally in <code>../models/wandb/run-20240601_024552-cjdz0txp</code>"
            ],
            "text/plain": [
              "<IPython.core.display.HTML object>"
            ]
          },
          "metadata": {},
          "output_type": "display_data"
        },
        {
          "data": {
            "text/html": [
              "Syncing run <strong><a href='https://wandb.ai/aiuis/ai-1-project/runs/cjdz0txp' target=\"_blank\">earthy-sweep-1--5</a></strong> to <a href='https://wandb.ai/aiuis/ai-1-project' target=\"_blank\">Weights & Biases</a> (<a href='https://wandb.me/run' target=\"_blank\">docs</a>)<br/>"
            ],
            "text/plain": [
              "<IPython.core.display.HTML object>"
            ]
          },
          "metadata": {},
          "output_type": "display_data"
        },
        {
          "data": {
            "text/html": [
              " View project at <a href='https://wandb.ai/aiuis/ai-1-project' target=\"_blank\">https://wandb.ai/aiuis/ai-1-project</a>"
            ],
            "text/plain": [
              "<IPython.core.display.HTML object>"
            ]
          },
          "metadata": {},
          "output_type": "display_data"
        },
        {
          "data": {
            "text/html": [
              " View run at <a href='https://wandb.ai/aiuis/ai-1-project/runs/cjdz0txp' target=\"_blank\">https://wandb.ai/aiuis/ai-1-project/runs/cjdz0txp</a>"
            ],
            "text/plain": [
              "<IPython.core.display.HTML object>"
            ]
          },
          "metadata": {},
          "output_type": "display_data"
        },
        {
          "name": "stdout",
          "output_type": "stream",
          "text": [
            "ConvNet(\n",
            "  (layer1): Sequential(\n",
            "    (0): Conv3d(1, 16, kernel_size=(5, 5, 5), stride=(1, 1, 1), padding=(2, 2, 2))\n",
            "    (1): ReLU()\n",
            "    (2): MaxPool3d(kernel_size=2, stride=2, padding=0, dilation=1, ceil_mode=False)\n",
            "  )\n",
            "  (layer2): Sequential(\n",
            "    (0): Conv3d(16, 32, kernel_size=(5, 5, 5), stride=(1, 1, 1), padding=(2, 2, 2))\n",
            "    (1): ReLU()\n",
            "    (2): MaxPool3d(kernel_size=2, stride=2, padding=0, dilation=1, ceil_mode=False)\n",
            "  )\n",
            "  (fc): Linear(in_features=75264, out_features=1, bias=True)\n",
            ")\n",
            "FOLD 6\n",
            "--------------------------------\n",
            "Epoch 1\n",
            "-------------------------------\n",
            "train loss: 0.676 accuracy: 0.562 [after 2 batches]\n",
            "train loss: 0.693 accuracy: 0.625 [after 5 batches]\n",
            "train loss: 0.692 accuracy: 0.562 [after 8 batches]\n",
            "train loss: 0.691 accuracy: 0.438 [after 11 batches]\n",
            "train loss: 0.679 accuracy: 0.821 [after 14 batches]\n",
            "val loss: 0.689 accuracy: 0.507 [after 3 batches]\n",
            "Epoch 2\n",
            "-------------------------------\n",
            "train loss: 0.647 accuracy: 0.719 [after 2 batches]\n",
            "train loss: 0.625 accuracy: 0.641 [after 5 batches]\n",
            "train loss: 0.579 accuracy: 0.641 [after 8 batches]\n",
            "train loss: 0.525 accuracy: 0.859 [after 11 batches]\n",
            "train loss: 0.429 accuracy: 0.949 [after 14 batches]\n",
            "val loss: 0.753 accuracy: 0.437 [after 3 batches]\n",
            "Epoch 3\n",
            "-------------------------------\n",
            "train loss: 0.321 accuracy: 0.984 [after 2 batches]\n",
            "train loss: 0.184 accuracy: 0.969 [after 5 batches]\n",
            "train loss: 0.130 accuracy: 1.000 [after 8 batches]\n",
            "train loss: 0.073 accuracy: 0.984 [after 11 batches]\n",
            "train loss: 0.041 accuracy: 1.000 [after 14 batches]\n",
            "val loss: 1.007 accuracy: 0.466 [after 3 batches]\n",
            "Epoch 4\n",
            "-------------------------------\n",
            "train loss: 0.019 accuracy: 1.000 [after 2 batches]\n",
            "train loss: 0.008 accuracy: 1.000 [after 5 batches]\n",
            "train loss: 0.011 accuracy: 1.000 [after 8 batches]\n",
            "train loss: 0.002 accuracy: 1.000 [after 11 batches]\n",
            "train loss: 0.001 accuracy: 1.000 [after 14 batches]\n",
            "val loss: 1.222 accuracy: 0.491 [after 3 batches]\n",
            "Epoch 5\n",
            "-------------------------------\n",
            "train loss: 0.001 accuracy: 1.000 [after 2 batches]\n",
            "train loss: 0.003 accuracy: 1.000 [after 5 batches]\n",
            "train loss: 0.015 accuracy: 1.000 [after 8 batches]\n",
            "train loss: 0.001 accuracy: 1.000 [after 11 batches]\n",
            "train loss: 0.001 accuracy: 1.000 [after 14 batches]\n",
            "val loss: 2.332 accuracy: 0.461 [after 3 batches]\n",
            "Epoch 6\n",
            "-------------------------------\n",
            "train loss: 0.000 accuracy: 1.000 [after 2 batches]\n",
            "train loss: 0.002 accuracy: 1.000 [after 5 batches]\n",
            "train loss: 0.000 accuracy: 1.000 [after 8 batches]\n",
            "train loss: 0.003 accuracy: 1.000 [after 11 batches]\n",
            "train loss: 0.001 accuracy: 1.000 [after 14 batches]\n",
            "val loss: 2.526 accuracy: 0.432 [after 3 batches]\n",
            "Epoch 7\n",
            "-------------------------------\n",
            "train loss: 0.000 accuracy: 1.000 [after 2 batches]\n",
            "train loss: 0.000 accuracy: 1.000 [after 5 batches]\n",
            "train loss: 0.001 accuracy: 1.000 [after 8 batches]\n",
            "train loss: 0.000 accuracy: 1.000 [after 11 batches]\n",
            "train loss: 0.000 accuracy: 1.000 [after 14 batches]\n",
            "val loss: 2.538 accuracy: 0.474 [after 3 batches]\n",
            "Epoch 8\n",
            "-------------------------------\n",
            "train loss: 0.000 accuracy: 1.000 [after 2 batches]\n",
            "train loss: 0.000 accuracy: 1.000 [after 5 batches]\n",
            "train loss: 0.000 accuracy: 1.000 [after 8 batches]\n",
            "train loss: 0.000 accuracy: 1.000 [after 11 batches]\n",
            "train loss: 0.001 accuracy: 1.000 [after 14 batches]\n",
            "val loss: 1.993 accuracy: 0.499 [after 3 batches]\n",
            "Epoch 9\n",
            "-------------------------------\n",
            "train loss: 0.000 accuracy: 1.000 [after 2 batches]\n",
            "train loss: 0.000 accuracy: 1.000 [after 5 batches]\n",
            "train loss: 0.000 accuracy: 1.000 [after 8 batches]\n",
            "train loss: 0.000 accuracy: 1.000 [after 11 batches]\n",
            "train loss: 0.000 accuracy: 1.000 [after 14 batches]\n",
            "val loss: 2.337 accuracy: 0.472 [after 3 batches]\n",
            "Epoch 10\n",
            "-------------------------------\n",
            "train loss: 0.000 accuracy: 1.000 [after 2 batches]\n",
            "train loss: 0.000 accuracy: 1.000 [after 5 batches]\n",
            "train loss: 0.000 accuracy: 1.000 [after 8 batches]\n",
            "train loss: 0.000 accuracy: 1.000 [after 11 batches]\n",
            "train loss: 0.000 accuracy: 1.000 [after 14 batches]\n",
            "val loss: 2.289 accuracy: 0.486 [after 3 batches]\n",
            "Epoch 11\n",
            "-------------------------------\n",
            "train loss: 0.000 accuracy: 1.000 [after 2 batches]\n",
            "train loss: 0.000 accuracy: 1.000 [after 5 batches]\n",
            "train loss: 0.000 accuracy: 1.000 [after 8 batches]\n",
            "train loss: 0.000 accuracy: 1.000 [after 11 batches]\n",
            "train loss: 0.000 accuracy: 1.000 [after 14 batches]\n",
            "val loss: 2.345 accuracy: 0.479 [after 3 batches]\n",
            "Epoch 12\n",
            "-------------------------------\n",
            "train loss: 0.000 accuracy: 1.000 [after 2 batches]\n",
            "train loss: 0.000 accuracy: 1.000 [after 5 batches]\n",
            "train loss: 0.000 accuracy: 1.000 [after 8 batches]\n",
            "train loss: 0.000 accuracy: 1.000 [after 11 batches]\n",
            "train loss: 0.000 accuracy: 1.000 [after 14 batches]\n",
            "val loss: 2.289 accuracy: 0.506 [after 3 batches]\n",
            "Epoch 13\n",
            "-------------------------------\n",
            "train loss: 0.000 accuracy: 1.000 [after 2 batches]\n",
            "train loss: 0.000 accuracy: 1.000 [after 5 batches]\n",
            "train loss: 0.000 accuracy: 1.000 [after 8 batches]\n",
            "train loss: 0.000 accuracy: 1.000 [after 11 batches]\n",
            "train loss: 0.001 accuracy: 1.000 [after 14 batches]\n",
            "val loss: 2.339 accuracy: 0.479 [after 3 batches]\n",
            "Epoch 14\n",
            "-------------------------------\n",
            "train loss: 0.000 accuracy: 1.000 [after 2 batches]\n",
            "train loss: 0.000 accuracy: 1.000 [after 5 batches]\n",
            "train loss: 0.000 accuracy: 1.000 [after 8 batches]\n",
            "train loss: 0.000 accuracy: 1.000 [after 11 batches]\n",
            "train loss: 0.000 accuracy: 1.000 [after 14 batches]\n",
            "val loss: 2.611 accuracy: 0.446 [after 3 batches]\n",
            "Epoch 15\n",
            "-------------------------------\n",
            "train loss: 0.000 accuracy: 1.000 [after 2 batches]\n",
            "train loss: 0.001 accuracy: 1.000 [after 5 batches]\n",
            "train loss: 0.000 accuracy: 1.000 [after 8 batches]\n",
            "train loss: 0.000 accuracy: 1.000 [after 11 batches]\n",
            "train loss: 0.000 accuracy: 1.000 [after 14 batches]\n",
            "val loss: 2.369 accuracy: 0.486 [after 3 batches]\n",
            "Epoch 16\n",
            "-------------------------------\n",
            "train loss: 0.000 accuracy: 1.000 [after 2 batches]\n",
            "train loss: 0.000 accuracy: 1.000 [after 5 batches]\n",
            "train loss: 0.000 accuracy: 1.000 [after 8 batches]\n",
            "train loss: 0.000 accuracy: 1.000 [after 11 batches]\n",
            "train loss: 0.000 accuracy: 1.000 [after 14 batches]\n",
            "val loss: 2.696 accuracy: 0.446 [after 3 batches]\n"
          ]
        },
        {
          "data": {
            "application/vnd.jupyter.widget-view+json": {
              "model_id": "2952bffe165544039d0b9f421d470a80",
              "version_major": 2,
              "version_minor": 0
            },
            "text/plain": [
              "VBox(children=(Label(value='0.542 MB of 0.577 MB uploaded\\r'), FloatProgress(value=0.9395406518180466, max=1.0…"
            ]
          },
          "metadata": {},
          "output_type": "display_data"
        },
        {
          "data": {
            "text/html": [
              "<style>\n",
              "    table.wandb td:nth-child(1) { padding: 0 10px; text-align: left ; width: auto;} td:nth-child(2) {text-align: left ; width: 100%}\n",
              "    .wandb-row { display: flex; flex-direction: row; flex-wrap: wrap; justify-content: flex-start; width: 100% }\n",
              "    .wandb-col { display: flex; flex-direction: column; flex-basis: 100%; flex: 1; padding: 10px; }\n",
              "    </style>\n",
              "<div class=\"wandb-row\"><div class=\"wandb-col\"><h3>Run history:</h3><br/><table class=\"wandb\"><tr><td>epoch</td><td>▁▁▂▂▃▃▄▄▅▅▆▆▇▇██</td></tr><tr><td>step</td><td>▁▁▁▂▂▂▂▂▂▃▃▃▃▃▃▄▄▄▄▄▅▅▅▅▅▅▆▆▆▆▆▆▇▇▇▇▇███</td></tr><tr><td>train_accuracy</td><td>▁▁▅▂▆███████████████████████████████████</td></tr><tr><td>train_loss</td><td>███▇▆▄▂▁▁▁▁▁▁▁▁▁▁▁▁▁▁▁▁▁▁▁▁▁▁▁▁▁▁▁▁▁▁▁▁▁</td></tr><tr><td>val_accuracy</td><td>█▁▄▇▄▁▅▇▅▆▅█▅▂▆▂</td></tr><tr><td>val_f1</td><td>▁▁▄▇▁▄▁▄█▄▄▄█▅▄▅</td></tr><tr><td>val_loss</td><td>▁▁▂▃▇▇▇▆▇▇▇▇▇█▇█</td></tr><tr><td>val_precision</td><td>▁▁█▅▁▃▁▃█▃▅▅█▃▃█</td></tr><tr><td>val_recall</td><td>▁▁▄█▁▄▁▅█▄▄▄█▅▄▄</td></tr></table><br/></div><div class=\"wandb-col\"><h3>Run summary:</h3><br/><table class=\"wandb\"><tr><td>epoch</td><td>16</td></tr><tr><td>step</td><td>79</td></tr><tr><td>train_accuracy</td><td>1.0</td></tr><tr><td>train_loss</td><td>3e-05</td></tr><tr><td>val_accuracy</td><td>0.44568</td></tr><tr><td>val_f1</td><td>0.02083</td></tr><tr><td>val_loss</td><td>2.69604</td></tr><tr><td>val_precision</td><td>0.33333</td></tr><tr><td>val_recall</td><td>0.01075</td></tr></table><br/></div></div>"
            ],
            "text/plain": [
              "<IPython.core.display.HTML object>"
            ]
          },
          "metadata": {},
          "output_type": "display_data"
        },
        {
          "data": {
            "text/html": [
              " View run <strong style=\"color:#cdcd00\">earthy-sweep-1--5</strong> at: <a href='https://wandb.ai/aiuis/ai-1-project/runs/cjdz0txp' target=\"_blank\">https://wandb.ai/aiuis/ai-1-project/runs/cjdz0txp</a><br/> View project at: <a href='https://wandb.ai/aiuis/ai-1-project' target=\"_blank\">https://wandb.ai/aiuis/ai-1-project</a><br/>Synced 5 W&B file(s), 0 media file(s), 0 artifact file(s) and 1 other file(s)"
            ],
            "text/plain": [
              "<IPython.core.display.HTML object>"
            ]
          },
          "metadata": {},
          "output_type": "display_data"
        },
        {
          "data": {
            "text/html": [
              "Find logs at: <code>../models/wandb/run-20240601_024552-cjdz0txp/logs</code>"
            ],
            "text/plain": [
              "<IPython.core.display.HTML object>"
            ]
          },
          "metadata": {},
          "output_type": "display_data"
        },
        {
          "data": {
            "text/html": [
              "Tracking run with wandb version 0.17.0"
            ],
            "text/plain": [
              "<IPython.core.display.HTML object>"
            ]
          },
          "metadata": {},
          "output_type": "display_data"
        },
        {
          "data": {
            "text/html": [
              "Run data is saved locally in <code>../models/wandb/run-20240601_025542-3gpaartl</code>"
            ],
            "text/plain": [
              "<IPython.core.display.HTML object>"
            ]
          },
          "metadata": {},
          "output_type": "display_data"
        },
        {
          "data": {
            "text/html": [
              "Syncing run <strong><a href='https://wandb.ai/aiuis/ai-1-project/runs/3gpaartl' target=\"_blank\">earthy-sweep-1--6</a></strong> to <a href='https://wandb.ai/aiuis/ai-1-project' target=\"_blank\">Weights & Biases</a> (<a href='https://wandb.me/run' target=\"_blank\">docs</a>)<br/>"
            ],
            "text/plain": [
              "<IPython.core.display.HTML object>"
            ]
          },
          "metadata": {},
          "output_type": "display_data"
        },
        {
          "data": {
            "text/html": [
              " View project at <a href='https://wandb.ai/aiuis/ai-1-project' target=\"_blank\">https://wandb.ai/aiuis/ai-1-project</a>"
            ],
            "text/plain": [
              "<IPython.core.display.HTML object>"
            ]
          },
          "metadata": {},
          "output_type": "display_data"
        },
        {
          "data": {
            "text/html": [
              " View run at <a href='https://wandb.ai/aiuis/ai-1-project/runs/3gpaartl' target=\"_blank\">https://wandb.ai/aiuis/ai-1-project/runs/3gpaartl</a>"
            ],
            "text/plain": [
              "<IPython.core.display.HTML object>"
            ]
          },
          "metadata": {},
          "output_type": "display_data"
        },
        {
          "name": "stdout",
          "output_type": "stream",
          "text": [
            "ConvNet(\n",
            "  (layer1): Sequential(\n",
            "    (0): Conv3d(1, 16, kernel_size=(5, 5, 5), stride=(1, 1, 1), padding=(2, 2, 2))\n",
            "    (1): ReLU()\n",
            "    (2): MaxPool3d(kernel_size=2, stride=2, padding=0, dilation=1, ceil_mode=False)\n",
            "  )\n",
            "  (layer2): Sequential(\n",
            "    (0): Conv3d(16, 32, kernel_size=(5, 5, 5), stride=(1, 1, 1), padding=(2, 2, 2))\n",
            "    (1): ReLU()\n",
            "    (2): MaxPool3d(kernel_size=2, stride=2, padding=0, dilation=1, ceil_mode=False)\n",
            "  )\n",
            "  (fc): Linear(in_features=75264, out_features=1, bias=True)\n",
            ")\n",
            "FOLD 7\n",
            "--------------------------------\n",
            "Epoch 1\n",
            "-------------------------------\n",
            "train loss: 0.746 accuracy: 0.703 [after 2 batches]\n",
            "train loss: 0.751 accuracy: 0.453 [after 5 batches]\n",
            "train loss: 0.693 accuracy: 0.609 [after 8 batches]\n",
            "train loss: 0.693 accuracy: 0.516 [after 11 batches]\n",
            "train loss: 0.693 accuracy: 0.375 [after 14 batches]\n",
            "val loss: 0.693 accuracy: 0.485 [after 3 batches]\n",
            "Epoch 2\n",
            "-------------------------------\n",
            "train loss: 0.693 accuracy: 0.547 [after 2 batches]\n",
            "train loss: 0.693 accuracy: 0.578 [after 5 batches]\n",
            "train loss: 0.693 accuracy: 0.484 [after 8 batches]\n",
            "train loss: 0.693 accuracy: 0.406 [after 11 batches]\n",
            "train loss: 0.693 accuracy: 0.575 [after 14 batches]\n",
            "val loss: 0.693 accuracy: 0.535 [after 3 batches]\n",
            "Epoch 3\n",
            "-------------------------------\n",
            "train loss: 0.693 accuracy: 0.547 [after 2 batches]\n",
            "train loss: 0.693 accuracy: 0.547 [after 5 batches]\n",
            "train loss: 0.693 accuracy: 0.625 [after 8 batches]\n",
            "train loss: 0.693 accuracy: 0.453 [after 11 batches]\n",
            "train loss: 0.693 accuracy: 0.475 [after 14 batches]\n",
            "val loss: 0.693 accuracy: 0.499 [after 3 batches]\n",
            "Epoch 4\n",
            "-------------------------------\n",
            "train loss: 0.693 accuracy: 0.547 [after 2 batches]\n",
            "train loss: 0.693 accuracy: 0.438 [after 5 batches]\n",
            "train loss: 0.693 accuracy: 0.500 [after 8 batches]\n",
            "train loss: 0.693 accuracy: 0.406 [after 11 batches]\n",
            "train loss: 0.693 accuracy: 0.600 [after 14 batches]\n",
            "val loss: 0.693 accuracy: 0.485 [after 3 batches]\n",
            "Epoch 5\n",
            "-------------------------------\n",
            "train loss: 0.693 accuracy: 0.547 [after 2 batches]\n",
            "train loss: 0.693 accuracy: 0.438 [after 5 batches]\n",
            "train loss: 0.693 accuracy: 0.531 [after 8 batches]\n",
            "train loss: 0.693 accuracy: 0.375 [after 11 batches]\n",
            "train loss: 0.693 accuracy: 0.650 [after 14 batches]\n",
            "val loss: 0.693 accuracy: 0.492 [after 3 batches]\n",
            "Epoch 6\n",
            "-------------------------------\n",
            "train loss: 0.693 accuracy: 0.516 [after 2 batches]\n",
            "train loss: 0.693 accuracy: 0.500 [after 5 batches]\n",
            "train loss: 0.693 accuracy: 0.594 [after 8 batches]\n",
            "train loss: 0.693 accuracy: 0.531 [after 11 batches]\n",
            "train loss: 0.693 accuracy: 0.650 [after 14 batches]\n",
            "val loss: 0.693 accuracy: 0.499 [after 3 batches]\n",
            "Epoch 7\n",
            "-------------------------------\n",
            "train loss: 0.693 accuracy: 0.438 [after 2 batches]\n",
            "train loss: 0.693 accuracy: 0.547 [after 5 batches]\n",
            "train loss: 0.693 accuracy: 0.531 [after 8 batches]\n",
            "train loss: 0.693 accuracy: 0.531 [after 11 batches]\n",
            "train loss: 0.693 accuracy: 0.575 [after 14 batches]\n",
            "val loss: 0.693 accuracy: 0.506 [after 3 batches]\n",
            "Epoch 8\n",
            "-------------------------------\n",
            "train loss: 0.693 accuracy: 0.578 [after 2 batches]\n",
            "train loss: 0.693 accuracy: 0.422 [after 5 batches]\n",
            "train loss: 0.693 accuracy: 0.516 [after 8 batches]\n",
            "train loss: 0.693 accuracy: 0.547 [after 11 batches]\n",
            "train loss: 0.693 accuracy: 0.500 [after 14 batches]\n",
            "val loss: 0.693 accuracy: 0.499 [after 3 batches]\n",
            "Epoch 9\n",
            "-------------------------------\n",
            "train loss: 0.693 accuracy: 0.500 [after 2 batches]\n",
            "train loss: 0.693 accuracy: 0.453 [after 5 batches]\n",
            "train loss: 0.693 accuracy: 0.531 [after 8 batches]\n",
            "train loss: 0.693 accuracy: 0.438 [after 11 batches]\n",
            "train loss: 0.693 accuracy: 0.500 [after 14 batches]\n",
            "val loss: 0.693 accuracy: 0.499 [after 3 batches]\n",
            "Epoch 10\n",
            "-------------------------------\n",
            "train loss: 0.693 accuracy: 0.547 [after 2 batches]\n",
            "train loss: 0.693 accuracy: 0.453 [after 5 batches]\n",
            "train loss: 0.693 accuracy: 0.453 [after 8 batches]\n",
            "train loss: 0.693 accuracy: 0.484 [after 11 batches]\n",
            "train loss: 0.693 accuracy: 0.450 [after 14 batches]\n",
            "val loss: 0.693 accuracy: 0.513 [after 3 batches]\n",
            "Epoch 11\n",
            "-------------------------------\n",
            "train loss: 0.693 accuracy: 0.500 [after 2 batches]\n",
            "train loss: 0.693 accuracy: 0.438 [after 5 batches]\n",
            "train loss: 0.693 accuracy: 0.422 [after 8 batches]\n",
            "train loss: 0.693 accuracy: 0.469 [after 11 batches]\n",
            "train loss: 0.693 accuracy: 0.575 [after 14 batches]\n",
            "val loss: 0.693 accuracy: 0.506 [after 3 batches]\n"
          ]
        },
        {
          "data": {
            "application/vnd.jupyter.widget-view+json": {
              "model_id": "65284a5c593141648e66802261f77c0c",
              "version_major": 2,
              "version_minor": 0
            },
            "text/plain": [
              "VBox(children=(Label(value='0.542 MB of 0.566 MB uploaded\\r'), FloatProgress(value=0.957012301929503, max=1.0)…"
            ]
          },
          "metadata": {},
          "output_type": "display_data"
        },
        {
          "data": {
            "text/html": [
              "<style>\n",
              "    table.wandb td:nth-child(1) { padding: 0 10px; text-align: left ; width: auto;} td:nth-child(2) {text-align: left ; width: 100%}\n",
              "    .wandb-row { display: flex; flex-direction: row; flex-wrap: wrap; justify-content: flex-start; width: 100% }\n",
              "    .wandb-col { display: flex; flex-direction: column; flex-basis: 100%; flex: 1; padding: 10px; }\n",
              "    </style>\n",
              "<div class=\"wandb-row\"><div class=\"wandb-col\"><h3>Run history:</h3><br/><table class=\"wandb\"><tr><td>epoch</td><td>▁▂▂▃▄▅▅▆▇▇█</td></tr><tr><td>step</td><td>▁▁▁▂▂▂▂▂▂▃▃▃▃▃▃▄▄▄▄▄▅▅▅▅▅▅▆▆▆▆▆▆▇▇▇▇▇███</td></tr><tr><td>train_accuracy</td><td>█▃▆▁▅▅▂▅▅▆▃▅▂▂▆▅▄▁▇▄▆▇▂▅▄▅▂▄▅▄▃▄▄▅▃▃▃▂▂▅</td></tr><tr><td>train_loss</td><td>▇█▁▁▁▁▁▁▁▁▁▁▁▁▁▁▁▁▁▁▁▁▁▁▁▁▁▁▁▁▁▁▁▁▁▁▁▁▁▁</td></tr><tr><td>val_accuracy</td><td>▁█▃▁▂▃▄▃▃▅▄</td></tr><tr><td>val_f1</td><td>▁▁▁▁▁▁▁▁▁▁▁</td></tr><tr><td>val_loss</td><td>▂█▃▁▂▃▂▃▃▂▂</td></tr><tr><td>val_precision</td><td>▁▁▁▁▁▁▁▁▁▁▁</td></tr><tr><td>val_recall</td><td>▁▁▁▁▁▁▁▁▁▁▁</td></tr></table><br/></div><div class=\"wandb-col\"><h3>Run summary:</h3><br/><table class=\"wandb\"><tr><td>epoch</td><td>11</td></tr><tr><td>step</td><td>54</td></tr><tr><td>train_accuracy</td><td>0.575</td></tr><tr><td>train_loss</td><td>0.69305</td></tr><tr><td>val_accuracy</td><td>0.50617</td></tr><tr><td>val_f1</td><td>0.0</td></tr><tr><td>val_loss</td><td>0.69314</td></tr><tr><td>val_precision</td><td>0.0</td></tr><tr><td>val_recall</td><td>0.0</td></tr></table><br/></div></div>"
            ],
            "text/plain": [
              "<IPython.core.display.HTML object>"
            ]
          },
          "metadata": {},
          "output_type": "display_data"
        },
        {
          "data": {
            "text/html": [
              " View run <strong style=\"color:#cdcd00\">earthy-sweep-1--6</strong> at: <a href='https://wandb.ai/aiuis/ai-1-project/runs/3gpaartl' target=\"_blank\">https://wandb.ai/aiuis/ai-1-project/runs/3gpaartl</a><br/> View project at: <a href='https://wandb.ai/aiuis/ai-1-project' target=\"_blank\">https://wandb.ai/aiuis/ai-1-project</a><br/>Synced 5 W&B file(s), 0 media file(s), 0 artifact file(s) and 1 other file(s)"
            ],
            "text/plain": [
              "<IPython.core.display.HTML object>"
            ]
          },
          "metadata": {},
          "output_type": "display_data"
        },
        {
          "data": {
            "text/html": [
              "Find logs at: <code>../models/wandb/run-20240601_025542-3gpaartl/logs</code>"
            ],
            "text/plain": [
              "<IPython.core.display.HTML object>"
            ]
          },
          "metadata": {},
          "output_type": "display_data"
        },
        {
          "data": {
            "text/html": [
              "Tracking run with wandb version 0.17.0"
            ],
            "text/plain": [
              "<IPython.core.display.HTML object>"
            ]
          },
          "metadata": {},
          "output_type": "display_data"
        },
        {
          "data": {
            "text/html": [
              "Run data is saved locally in <code>../models/wandb/run-20240601_030228-fwqf960s</code>"
            ],
            "text/plain": [
              "<IPython.core.display.HTML object>"
            ]
          },
          "metadata": {},
          "output_type": "display_data"
        },
        {
          "data": {
            "text/html": [
              "Resuming run <strong><a href='https://wandb.ai/aiuis/ai-1-project/runs/fwqf960s' target=\"_blank\">earthy-sweep-1</a></strong> to <a href='https://wandb.ai/aiuis/ai-1-project' target=\"_blank\">Weights & Biases</a> (<a href='https://wandb.me/run' target=\"_blank\">docs</a>)<br/>Sweep page: <a href='https://wandb.ai/aiuis/ai-1-project/sweeps/okv6gisv' target=\"_blank\">https://wandb.ai/aiuis/ai-1-project/sweeps/okv6gisv</a>"
            ],
            "text/plain": [
              "<IPython.core.display.HTML object>"
            ]
          },
          "metadata": {},
          "output_type": "display_data"
        },
        {
          "data": {
            "text/html": [
              " View project at <a href='https://wandb.ai/aiuis/ai-1-project' target=\"_blank\">https://wandb.ai/aiuis/ai-1-project</a>"
            ],
            "text/plain": [
              "<IPython.core.display.HTML object>"
            ]
          },
          "metadata": {},
          "output_type": "display_data"
        },
        {
          "data": {
            "text/html": [
              " View sweep at <a href='https://wandb.ai/aiuis/ai-1-project/sweeps/okv6gisv' target=\"_blank\">https://wandb.ai/aiuis/ai-1-project/sweeps/okv6gisv</a>"
            ],
            "text/plain": [
              "<IPython.core.display.HTML object>"
            ]
          },
          "metadata": {},
          "output_type": "display_data"
        },
        {
          "data": {
            "text/html": [
              " View run at <a href='https://wandb.ai/aiuis/ai-1-project/runs/fwqf960s' target=\"_blank\">https://wandb.ai/aiuis/ai-1-project/runs/fwqf960s</a>"
            ],
            "text/plain": [
              "<IPython.core.display.HTML object>"
            ]
          },
          "metadata": {},
          "output_type": "display_data"
        },
        {
          "data": {
            "application/vnd.jupyter.widget-view+json": {
              "model_id": "9e0e9ba8a2c64683812eb5250d072c0f",
              "version_major": 2,
              "version_minor": 0
            },
            "text/plain": [
              "VBox(children=(Label(value='0.010 MB of 0.010 MB uploaded\\r'), FloatProgress(value=1.0, max=1.0)))"
            ]
          },
          "metadata": {},
          "output_type": "display_data"
        },
        {
          "data": {
            "text/html": [
              "<style>\n",
              "    table.wandb td:nth-child(1) { padding: 0 10px; text-align: left ; width: auto;} td:nth-child(2) {text-align: left ; width: 100%}\n",
              "    .wandb-row { display: flex; flex-direction: row; flex-wrap: wrap; justify-content: flex-start; width: 100% }\n",
              "    .wandb-col { display: flex; flex-direction: column; flex-basis: 100%; flex: 1; padding: 10px; }\n",
              "    </style>\n",
              "<div class=\"wandb-row\"><div class=\"wandb-col\"><h3>Run history:</h3><br/><table class=\"wandb\"><tr><td>val_accuracy</td><td>▁</td></tr><tr><td>val_f1_score</td><td>▁</td></tr><tr><td>val_precision</td><td>▁</td></tr><tr><td>val_recall</td><td>▁</td></tr></table><br/></div><div class=\"wandb-col\"><h3>Run summary:</h3><br/><table class=\"wandb\"><tr><td>val_accuracy</td><td>0.62718</td></tr><tr><td>val_f1_score</td><td>0.477</td></tr><tr><td>val_precision</td><td>0.46171</td></tr><tr><td>val_recall</td><td>0.42553</td></tr></table><br/></div></div>"
            ],
            "text/plain": [
              "<IPython.core.display.HTML object>"
            ]
          },
          "metadata": {},
          "output_type": "display_data"
        },
        {
          "data": {
            "text/html": [
              " View run <strong style=\"color:#cdcd00\">earthy-sweep-1</strong> at: <a href='https://wandb.ai/aiuis/ai-1-project/runs/fwqf960s' target=\"_blank\">https://wandb.ai/aiuis/ai-1-project/runs/fwqf960s</a><br/> View project at: <a href='https://wandb.ai/aiuis/ai-1-project' target=\"_blank\">https://wandb.ai/aiuis/ai-1-project</a><br/>Synced 3 W&B file(s), 0 media file(s), 0 artifact file(s) and 0 other file(s)"
            ],
            "text/plain": [
              "<IPython.core.display.HTML object>"
            ]
          },
          "metadata": {},
          "output_type": "display_data"
        },
        {
          "data": {
            "text/html": [
              "Find logs at: <code>../models/wandb/run-20240601_030228-fwqf960s/logs</code>"
            ],
            "text/plain": [
              "<IPython.core.display.HTML object>"
            ]
          },
          "metadata": {},
          "output_type": "display_data"
        },
        {
          "name": "stdout",
          "output_type": "stream",
          "text": [
            "****************************************\n",
            "Sweep URL:        https://wandb.ai/aiuis/ai-1-project/sweeps/okv6gisv\n",
            "Sweep Group URL:  https://wandb.ai/aiuis/ai-1-project/groups/okv6gisv\n",
            "****************************************\n"
          ]
        },
        {
          "name": "stderr",
          "output_type": "stream",
          "text": [
            "\u001b[34m\u001b[1mwandb\u001b[0m: Agent Starting Run: sicjy8w8 with config:\n",
            "\u001b[34m\u001b[1mwandb\u001b[0m: \tarchitecture: CNN\n",
            "\u001b[34m\u001b[1mwandb\u001b[0m: \tbatch_size: 64\n",
            "\u001b[34m\u001b[1mwandb\u001b[0m: \tclasses: 1\n",
            "\u001b[34m\u001b[1mwandb\u001b[0m: \tdataset: ParkinsonVideo\n",
            "\u001b[34m\u001b[1mwandb\u001b[0m: \tepochs: 50\n",
            "\u001b[34m\u001b[1mwandb\u001b[0m: \tfeatures: [32, 64]\n",
            "\u001b[34m\u001b[1mwandb\u001b[0m: \tlearning_rate: 0.01\n",
            "\u001b[34m\u001b[1mwandb\u001b[0m: \toptimizer: adam\n"
          ]
        },
        {
          "data": {
            "text/html": [
              "Tracking run with wandb version 0.17.0"
            ],
            "text/plain": [
              "<IPython.core.display.HTML object>"
            ]
          },
          "metadata": {},
          "output_type": "display_data"
        },
        {
          "data": {
            "text/html": [
              "Run data is saved locally in <code>../models/wandb/run-20240601_030238-sicjy8w8</code>"
            ],
            "text/plain": [
              "<IPython.core.display.HTML object>"
            ]
          },
          "metadata": {},
          "output_type": "display_data"
        },
        {
          "data": {
            "text/html": [
              "Syncing run <strong><a href='https://wandb.ai/aiuis/ai-1-project/runs/sicjy8w8' target=\"_blank\">fallen-sweep-2</a></strong> to <a href='https://wandb.ai/aiuis/ai-1-project' target=\"_blank\">Weights & Biases</a> (<a href='https://wandb.me/run' target=\"_blank\">docs</a>)<br/>Sweep page: <a href='https://wandb.ai/aiuis/ai-1-project/sweeps/okv6gisv' target=\"_blank\">https://wandb.ai/aiuis/ai-1-project/sweeps/okv6gisv</a>"
            ],
            "text/plain": [
              "<IPython.core.display.HTML object>"
            ]
          },
          "metadata": {},
          "output_type": "display_data"
        },
        {
          "data": {
            "text/html": [
              " View project at <a href='https://wandb.ai/aiuis/ai-1-project' target=\"_blank\">https://wandb.ai/aiuis/ai-1-project</a>"
            ],
            "text/plain": [
              "<IPython.core.display.HTML object>"
            ]
          },
          "metadata": {},
          "output_type": "display_data"
        },
        {
          "data": {
            "text/html": [
              " View sweep at <a href='https://wandb.ai/aiuis/ai-1-project/sweeps/okv6gisv' target=\"_blank\">https://wandb.ai/aiuis/ai-1-project/sweeps/okv6gisv</a>"
            ],
            "text/plain": [
              "<IPython.core.display.HTML object>"
            ]
          },
          "metadata": {},
          "output_type": "display_data"
        },
        {
          "data": {
            "text/html": [
              " View run at <a href='https://wandb.ai/aiuis/ai-1-project/runs/sicjy8w8' target=\"_blank\">https://wandb.ai/aiuis/ai-1-project/runs/sicjy8w8</a>"
            ],
            "text/plain": [
              "<IPython.core.display.HTML object>"
            ]
          },
          "metadata": {},
          "output_type": "display_data"
        },
        {
          "data": {
            "application/vnd.jupyter.widget-view+json": {
              "model_id": "153b0929f977485f94b1904aeec4f9fa",
              "version_major": 2,
              "version_minor": 0
            },
            "text/plain": [
              "VBox(children=(Label(value='0.011 MB of 0.011 MB uploaded\\r'), FloatProgress(value=1.0, max=1.0)))"
            ]
          },
          "metadata": {},
          "output_type": "display_data"
        },
        {
          "data": {
            "text/html": [
              " View run <strong style=\"color:#cdcd00\">fallen-sweep-2</strong> at: <a href='https://wandb.ai/aiuis/ai-1-project/runs/sicjy8w8' target=\"_blank\">https://wandb.ai/aiuis/ai-1-project/runs/sicjy8w8</a><br/> View project at: <a href='https://wandb.ai/aiuis/ai-1-project' target=\"_blank\">https://wandb.ai/aiuis/ai-1-project</a><br/>Synced 4 W&B file(s), 0 media file(s), 0 artifact file(s) and 0 other file(s)"
            ],
            "text/plain": [
              "<IPython.core.display.HTML object>"
            ]
          },
          "metadata": {},
          "output_type": "display_data"
        },
        {
          "data": {
            "text/html": [
              "Find logs at: <code>../models/wandb/run-20240601_030238-sicjy8w8/logs</code>"
            ],
            "text/plain": [
              "<IPython.core.display.HTML object>"
            ]
          },
          "metadata": {},
          "output_type": "display_data"
        },
        {
          "data": {
            "text/html": [
              "Tracking run with wandb version 0.17.0"
            ],
            "text/plain": [
              "<IPython.core.display.HTML object>"
            ]
          },
          "metadata": {},
          "output_type": "display_data"
        },
        {
          "data": {
            "text/html": [
              "Run data is saved locally in <code>../models/wandb/run-20240601_030248-hlnd3gve</code>"
            ],
            "text/plain": [
              "<IPython.core.display.HTML object>"
            ]
          },
          "metadata": {},
          "output_type": "display_data"
        },
        {
          "data": {
            "text/html": [
              "Syncing run <strong><a href='https://wandb.ai/aiuis/ai-1-project/runs/hlnd3gve' target=\"_blank\">fallen-sweep-2--0</a></strong> to <a href='https://wandb.ai/aiuis/ai-1-project' target=\"_blank\">Weights & Biases</a> (<a href='https://wandb.me/run' target=\"_blank\">docs</a>)<br/>"
            ],
            "text/plain": [
              "<IPython.core.display.HTML object>"
            ]
          },
          "metadata": {},
          "output_type": "display_data"
        },
        {
          "data": {
            "text/html": [
              " View project at <a href='https://wandb.ai/aiuis/ai-1-project' target=\"_blank\">https://wandb.ai/aiuis/ai-1-project</a>"
            ],
            "text/plain": [
              "<IPython.core.display.HTML object>"
            ]
          },
          "metadata": {},
          "output_type": "display_data"
        },
        {
          "data": {
            "text/html": [
              " View run at <a href='https://wandb.ai/aiuis/ai-1-project/runs/hlnd3gve' target=\"_blank\">https://wandb.ai/aiuis/ai-1-project/runs/hlnd3gve</a>"
            ],
            "text/plain": [
              "<IPython.core.display.HTML object>"
            ]
          },
          "metadata": {},
          "output_type": "display_data"
        },
        {
          "name": "stdout",
          "output_type": "stream",
          "text": [
            "ConvNet(\n",
            "  (layer1): Sequential(\n",
            "    (0): Conv3d(1, 32, kernel_size=(5, 5, 5), stride=(1, 1, 1), padding=(2, 2, 2))\n",
            "    (1): ReLU()\n",
            "    (2): MaxPool3d(kernel_size=2, stride=2, padding=0, dilation=1, ceil_mode=False)\n",
            "  )\n",
            "  (layer2): Sequential(\n",
            "    (0): Conv3d(32, 64, kernel_size=(5, 5, 5), stride=(1, 1, 1), padding=(2, 2, 2))\n",
            "    (1): ReLU()\n",
            "    (2): MaxPool3d(kernel_size=2, stride=2, padding=0, dilation=1, ceil_mode=False)\n",
            "  )\n",
            "  (fc): Linear(in_features=150528, out_features=1, bias=True)\n",
            ")\n",
            "FOLD 1\n",
            "--------------------------------\n",
            "Epoch 1\n",
            "-------------------------------\n",
            "train loss: 203.766 accuracy: 0.484 [after 2 batches]\n",
            "train loss: 0.674 accuracy: 0.578 [after 5 batches]\n",
            "train loss: 0.698 accuracy: 0.609 [after 8 batches]\n",
            "train loss: 0.685 accuracy: 0.562 [after 11 batches]\n",
            "train loss: 0.653 accuracy: 0.641 [after 14 batches]\n",
            "val loss: 0.749 accuracy: 0.487 [after 3 batches]\n",
            "Epoch 2\n",
            "-------------------------------\n",
            "train loss: 0.725 accuracy: 0.453 [after 2 batches]\n",
            "train loss: 0.717 accuracy: 0.469 [after 5 batches]\n",
            "train loss: 0.713 accuracy: 0.484 [after 8 batches]\n",
            "train loss: 0.718 accuracy: 0.562 [after 11 batches]\n",
            "train loss: 0.681 accuracy: 0.590 [after 14 batches]\n",
            "val loss: 0.694 accuracy: 0.520 [after 3 batches]\n",
            "Epoch 3\n",
            "-------------------------------\n",
            "train loss: 0.696 accuracy: 0.438 [after 2 batches]\n",
            "train loss: 0.692 accuracy: 0.469 [after 5 batches]\n",
            "train loss: 0.708 accuracy: 0.484 [after 8 batches]\n",
            "train loss: 0.693 accuracy: 0.484 [after 11 batches]\n",
            "train loss: 0.701 accuracy: 0.513 [after 14 batches]\n",
            "val loss: 0.709 accuracy: 0.527 [after 3 batches]\n",
            "Epoch 4\n",
            "-------------------------------\n",
            "train loss: 0.689 accuracy: 0.453 [after 2 batches]\n",
            "train loss: 0.691 accuracy: 0.594 [after 5 batches]\n",
            "train loss: 0.695 accuracy: 0.469 [after 8 batches]\n",
            "train loss: 0.694 accuracy: 0.500 [after 11 batches]\n",
            "train loss: 0.688 accuracy: 0.590 [after 14 batches]\n",
            "val loss: 0.695 accuracy: 0.487 [after 3 batches]\n",
            "Epoch 5\n",
            "-------------------------------\n",
            "train loss: 0.705 accuracy: 0.391 [after 2 batches]\n",
            "train loss: 0.691 accuracy: 0.547 [after 5 batches]\n",
            "train loss: 0.696 accuracy: 0.406 [after 8 batches]\n",
            "train loss: 0.690 accuracy: 0.641 [after 11 batches]\n",
            "train loss: 0.694 accuracy: 0.487 [after 14 batches]\n",
            "val loss: 0.693 accuracy: 0.513 [after 3 batches]\n",
            "Epoch 6\n",
            "-------------------------------\n",
            "train loss: 0.693 accuracy: 0.516 [after 2 batches]\n",
            "train loss: 0.692 accuracy: 0.531 [after 5 batches]\n",
            "train loss: 0.693 accuracy: 0.516 [after 8 batches]\n",
            "train loss: 0.696 accuracy: 0.406 [after 11 batches]\n",
            "train loss: 0.694 accuracy: 0.462 [after 14 batches]\n",
            "val loss: 0.693 accuracy: 0.493 [after 3 batches]\n",
            "Epoch 7\n",
            "-------------------------------\n",
            "train loss: 0.693 accuracy: 0.500 [after 2 batches]\n",
            "train loss: 0.695 accuracy: 0.406 [after 5 batches]\n",
            "train loss: 0.695 accuracy: 0.375 [after 8 batches]\n",
            "train loss: 0.693 accuracy: 0.547 [after 11 batches]\n",
            "train loss: 0.695 accuracy: 0.385 [after 14 batches]\n",
            "val loss: 0.693 accuracy: 0.500 [after 3 batches]\n",
            "Epoch 8\n",
            "-------------------------------\n",
            "train loss: 0.693 accuracy: 0.531 [after 2 batches]\n",
            "train loss: 0.693 accuracy: 0.516 [after 5 batches]\n",
            "train loss: 0.693 accuracy: 0.609 [after 8 batches]\n",
            "train loss: 0.694 accuracy: 0.391 [after 11 batches]\n",
            "train loss: 0.693 accuracy: 0.462 [after 14 batches]\n",
            "val loss: 0.693 accuracy: 0.500 [after 3 batches]\n",
            "Epoch 9\n",
            "-------------------------------\n",
            "train loss: 0.693 accuracy: 0.500 [after 2 batches]\n",
            "train loss: 0.693 accuracy: 0.484 [after 5 batches]\n",
            "train loss: 0.693 accuracy: 0.531 [after 8 batches]\n",
            "train loss: 0.693 accuracy: 0.547 [after 11 batches]\n",
            "train loss: 0.693 accuracy: 0.538 [after 14 batches]\n",
            "val loss: 0.693 accuracy: 0.500 [after 3 batches]\n",
            "Epoch 10\n",
            "-------------------------------\n",
            "train loss: 0.693 accuracy: 0.562 [after 2 batches]\n",
            "train loss: 0.693 accuracy: 0.547 [after 5 batches]\n",
            "train loss: 0.693 accuracy: 0.453 [after 8 batches]\n",
            "train loss: 0.693 accuracy: 0.453 [after 11 batches]\n",
            "train loss: 0.693 accuracy: 0.487 [after 14 batches]\n",
            "val loss: 0.693 accuracy: 0.507 [after 3 batches]\n",
            "Epoch 11\n",
            "-------------------------------\n",
            "train loss: 0.694 accuracy: 0.422 [after 2 batches]\n",
            "train loss: 0.693 accuracy: 0.562 [after 5 batches]\n",
            "train loss: 0.693 accuracy: 0.484 [after 8 batches]\n",
            "train loss: 0.694 accuracy: 0.594 [after 11 batches]\n",
            "train loss: 0.693 accuracy: 0.564 [after 14 batches]\n",
            "val loss: 0.693 accuracy: 0.480 [after 3 batches]\n",
            "Epoch 12\n",
            "-------------------------------\n",
            "train loss: 0.693 accuracy: 0.578 [after 2 batches]\n",
            "train loss: 0.693 accuracy: 0.516 [after 5 batches]\n",
            "train loss: 0.693 accuracy: 0.484 [after 8 batches]\n",
            "train loss: 0.695 accuracy: 0.406 [after 11 batches]\n",
            "train loss: 0.693 accuracy: 0.487 [after 14 batches]\n",
            "val loss: 0.693 accuracy: 0.507 [after 3 batches]\n",
            "Epoch 13\n",
            "-------------------------------\n",
            "train loss: 0.694 accuracy: 0.453 [after 2 batches]\n",
            "train loss: 0.693 accuracy: 0.484 [after 5 batches]\n",
            "train loss: 0.694 accuracy: 0.375 [after 8 batches]\n",
            "train loss: 0.693 accuracy: 0.578 [after 11 batches]\n",
            "train loss: 0.693 accuracy: 0.641 [after 14 batches]\n",
            "val loss: 0.693 accuracy: 0.493 [after 3 batches]\n",
            "Epoch 14\n",
            "-------------------------------\n",
            "train loss: 0.693 accuracy: 0.500 [after 2 batches]\n",
            "train loss: 0.693 accuracy: 0.469 [after 5 batches]\n",
            "train loss: 0.693 accuracy: 0.438 [after 8 batches]\n",
            "train loss: 0.694 accuracy: 0.391 [after 11 batches]\n",
            "train loss: 0.693 accuracy: 0.590 [after 14 batches]\n",
            "val loss: 0.693 accuracy: 0.520 [after 3 batches]\n",
            "Epoch 15\n",
            "-------------------------------\n",
            "train loss: 0.694 accuracy: 0.438 [after 2 batches]\n",
            "train loss: 0.693 accuracy: 0.531 [after 5 batches]\n",
            "train loss: 0.693 accuracy: 0.500 [after 8 batches]\n",
            "train loss: 0.692 accuracy: 0.578 [after 11 batches]\n",
            "train loss: 0.694 accuracy: 0.436 [after 14 batches]\n",
            "val loss: 0.693 accuracy: 0.480 [after 3 batches]\n",
            "Epoch 16\n",
            "-------------------------------\n",
            "train loss: 0.693 accuracy: 0.500 [after 2 batches]\n",
            "train loss: 0.693 accuracy: 0.484 [after 5 batches]\n",
            "train loss: 0.693 accuracy: 0.438 [after 8 batches]\n",
            "train loss: 0.694 accuracy: 0.625 [after 11 batches]\n",
            "train loss: 0.693 accuracy: 0.513 [after 14 batches]\n",
            "val loss: 0.693 accuracy: 0.487 [after 3 batches]\n",
            "Epoch 17\n",
            "-------------------------------\n",
            "train loss: 0.693 accuracy: 0.453 [after 2 batches]\n",
            "train loss: 0.693 accuracy: 0.469 [after 5 batches]\n",
            "train loss: 0.693 accuracy: 0.469 [after 8 batches]\n",
            "train loss: 0.693 accuracy: 0.547 [after 11 batches]\n",
            "train loss: 0.694 accuracy: 0.615 [after 14 batches]\n",
            "val loss: 0.693 accuracy: 0.520 [after 3 batches]\n",
            "Epoch 18\n",
            "-------------------------------\n",
            "train loss: 0.693 accuracy: 0.531 [after 2 batches]\n",
            "train loss: 0.692 accuracy: 0.594 [after 5 batches]\n",
            "train loss: 0.695 accuracy: 0.406 [after 8 batches]\n",
            "train loss: 0.692 accuracy: 0.594 [after 11 batches]\n",
            "train loss: 0.695 accuracy: 0.410 [after 14 batches]\n",
            "val loss: 0.693 accuracy: 0.487 [after 3 batches]\n",
            "Epoch 19\n",
            "-------------------------------\n",
            "train loss: 0.692 accuracy: 0.594 [after 2 batches]\n",
            "train loss: 0.692 accuracy: 0.547 [after 5 batches]\n",
            "train loss: 0.693 accuracy: 0.500 [after 8 batches]\n",
            "train loss: 0.695 accuracy: 0.438 [after 11 batches]\n",
            "train loss: 0.692 accuracy: 0.538 [after 14 batches]\n",
            "val loss: 0.693 accuracy: 0.500 [after 3 batches]\n",
            "Epoch 20\n",
            "-------------------------------\n",
            "train loss: 0.694 accuracy: 0.469 [after 2 batches]\n",
            "train loss: 0.693 accuracy: 0.531 [after 5 batches]\n",
            "train loss: 0.694 accuracy: 0.469 [after 8 batches]\n",
            "train loss: 0.694 accuracy: 0.438 [after 11 batches]\n",
            "train loss: 0.693 accuracy: 0.513 [after 14 batches]\n",
            "val loss: 0.693 accuracy: 0.467 [after 3 batches]\n",
            "Epoch 21\n",
            "-------------------------------\n",
            "train loss: 0.693 accuracy: 0.547 [after 2 batches]\n",
            "train loss: 0.694 accuracy: 0.469 [after 5 batches]\n",
            "train loss: 0.694 accuracy: 0.453 [after 8 batches]\n",
            "train loss: 0.694 accuracy: 0.453 [after 11 batches]\n",
            "train loss: 0.693 accuracy: 0.513 [after 14 batches]\n",
            "val loss: 0.693 accuracy: 0.513 [after 3 batches]\n",
            "Epoch 22\n",
            "-------------------------------\n",
            "train loss: 0.693 accuracy: 0.453 [after 2 batches]\n",
            "train loss: 0.693 accuracy: 0.359 [after 5 batches]\n",
            "train loss: 0.694 accuracy: 0.562 [after 8 batches]\n",
            "train loss: 0.693 accuracy: 0.484 [after 11 batches]\n",
            "train loss: 0.693 accuracy: 0.487 [after 14 batches]\n",
            "val loss: 0.693 accuracy: 0.493 [after 3 batches]\n",
            "Epoch 23\n",
            "-------------------------------\n",
            "train loss: 0.693 accuracy: 0.484 [after 2 batches]\n",
            "train loss: 0.693 accuracy: 0.516 [after 5 batches]\n",
            "train loss: 0.695 accuracy: 0.594 [after 8 batches]\n",
            "train loss: 0.694 accuracy: 0.578 [after 11 batches]\n",
            "train loss: 0.693 accuracy: 0.462 [after 14 batches]\n",
            "val loss: 0.693 accuracy: 0.493 [after 3 batches]\n",
            "Epoch 24\n",
            "-------------------------------\n",
            "train loss: 0.693 accuracy: 0.484 [after 2 batches]\n",
            "train loss: 0.694 accuracy: 0.609 [after 5 batches]\n",
            "train loss: 0.693 accuracy: 0.500 [after 8 batches]\n",
            "train loss: 0.694 accuracy: 0.312 [after 11 batches]\n",
            "train loss: 0.693 accuracy: 0.538 [after 14 batches]\n",
            "val loss: 0.693 accuracy: 0.480 [after 3 batches]\n",
            "Epoch 25\n",
            "-------------------------------\n",
            "train loss: 0.694 accuracy: 0.422 [after 2 batches]\n",
            "train loss: 0.693 accuracy: 0.469 [after 5 batches]\n",
            "train loss: 0.693 accuracy: 0.484 [after 8 batches]\n",
            "train loss: 0.693 accuracy: 0.562 [after 11 batches]\n",
            "train loss: 0.693 accuracy: 0.538 [after 14 batches]\n",
            "val loss: 0.693 accuracy: 0.487 [after 3 batches]\n",
            "Epoch 26\n",
            "-------------------------------\n",
            "train loss: 0.693 accuracy: 0.547 [after 2 batches]\n",
            "train loss: 0.693 accuracy: 0.469 [after 5 batches]\n",
            "train loss: 0.693 accuracy: 0.609 [after 8 batches]\n",
            "train loss: 0.694 accuracy: 0.625 [after 11 batches]\n",
            "train loss: 0.693 accuracy: 0.538 [after 14 batches]\n",
            "val loss: 0.693 accuracy: 0.500 [after 3 batches]\n",
            "Epoch 27\n",
            "-------------------------------\n",
            "train loss: 0.693 accuracy: 0.469 [after 2 batches]\n",
            "train loss: 0.694 accuracy: 0.438 [after 5 batches]\n",
            "train loss: 0.693 accuracy: 0.500 [after 8 batches]\n",
            "train loss: 0.695 accuracy: 0.422 [after 11 batches]\n",
            "train loss: 0.695 accuracy: 0.436 [after 14 batches]\n",
            "val loss: 0.693 accuracy: 0.493 [after 3 batches]\n",
            "Epoch 28\n",
            "-------------------------------\n",
            "train loss: 0.692 accuracy: 0.578 [after 2 batches]\n",
            "train loss: 0.695 accuracy: 0.391 [after 5 batches]\n",
            "train loss: 0.693 accuracy: 0.516 [after 8 batches]\n",
            "train loss: 0.694 accuracy: 0.469 [after 11 batches]\n",
            "train loss: 0.694 accuracy: 0.462 [after 14 batches]\n",
            "val loss: 0.693 accuracy: 0.507 [after 3 batches]\n",
            "Epoch 29\n",
            "-------------------------------\n",
            "train loss: 0.693 accuracy: 0.562 [after 2 batches]\n",
            "train loss: 0.693 accuracy: 0.484 [after 5 batches]\n",
            "train loss: 0.693 accuracy: 0.594 [after 8 batches]\n",
            "train loss: 0.693 accuracy: 0.500 [after 11 batches]\n",
            "train loss: 0.694 accuracy: 0.615 [after 14 batches]\n",
            "val loss: 0.693 accuracy: 0.513 [after 3 batches]\n",
            "Epoch 30\n",
            "-------------------------------\n",
            "train loss: 0.693 accuracy: 0.500 [after 2 batches]\n",
            "train loss: 0.693 accuracy: 0.438 [after 5 batches]\n",
            "train loss: 0.693 accuracy: 0.641 [after 8 batches]\n",
            "train loss: 0.693 accuracy: 0.469 [after 11 batches]\n",
            "train loss: 0.693 accuracy: 0.487 [after 14 batches]\n",
            "val loss: 0.693 accuracy: 0.487 [after 3 batches]\n"
          ]
        },
        {
          "data": {
            "application/vnd.jupyter.widget-view+json": {
              "model_id": "46af268187794922a57939bfb55a0571",
              "version_major": 2,
              "version_minor": 0
            },
            "text/plain": [
              "VBox(children=(Label(value='1.569 MB of 1.569 MB uploaded\\r'), FloatProgress(value=1.0, max=1.0)))"
            ]
          },
          "metadata": {},
          "output_type": "display_data"
        },
        {
          "data": {
            "text/html": [
              "<style>\n",
              "    table.wandb td:nth-child(1) { padding: 0 10px; text-align: left ; width: auto;} td:nth-child(2) {text-align: left ; width: 100%}\n",
              "    .wandb-row { display: flex; flex-direction: row; flex-wrap: wrap; justify-content: flex-start; width: 100% }\n",
              "    .wandb-col { display: flex; flex-direction: column; flex-basis: 100%; flex: 1; padding: 10px; }\n",
              "    </style>\n",
              "<div class=\"wandb-row\"><div class=\"wandb-col\"><h3>Run history:</h3><br/><table class=\"wandb\"><tr><td>epoch</td><td>▁▁▁▂▂▂▂▃▃▃▃▄▄▄▄▅▅▅▅▆▆▆▆▇▇▇▇███</td></tr><tr><td>step</td><td>▁▁▁▁▂▂▂▂▂▃▃▃▃▃▃▄▄▄▄▄▅▅▅▅▅▅▆▆▆▆▆▆▇▇▇▇▇███</td></tr><tr><td>train_accuracy</td><td>▆▆▃▃▂▆█▄▁▅▇▃▆▃▇▃▃▄▆▆▄▄▅▁▅▃▄▂▆▄▆▄▃▅▅▁▄▃▄▃</td></tr><tr><td>train_loss</td><td>▁▃█▄▄▃▄▄▅▄▄▄▄▄▄▄▄▄▄▄▄▄▄▅▄▄▄▅▅▄▅▄▄▄▄▅▄▄▄▄</td></tr><tr><td>val_accuracy</td><td>▃▇█▃▆▄▅▅▅▆▃▆▄▇▃▃▇▃▅▁▆▄▄▃▃▅▄▆▆▃</td></tr><tr><td>val_f1</td><td>█▁▁▁▁▁▁▁▁▁▁▁▁▁▁▁▁▁▁▁▁▁▁▁▁▁▁▁▁▁</td></tr><tr><td>val_loss</td><td>█▁▃▁▁▁▁▁▁▁▁▁▁▁▁▁▁▁▁▁▁▁▁▁▁▁▁▁▁▁</td></tr><tr><td>val_precision</td><td>█▁▁▁▁▁▁▁▁▁▁▁▁▁▁▁▁▁▁▁▁▁▁▁▁▁▁▁▁▁</td></tr><tr><td>val_recall</td><td>█▁▁▁▁▁▁▁▁▁▁▁▁▁▁▁▁▁▁▁▁▁▁▁▁▁▁▁▁▁</td></tr></table><br/></div><div class=\"wandb-col\"><h3>Run summary:</h3><br/><table class=\"wandb\"><tr><td>epoch</td><td>30</td></tr><tr><td>step</td><td>149</td></tr><tr><td>train_accuracy</td><td>0.48718</td></tr><tr><td>train_loss</td><td>0.69317</td></tr><tr><td>val_accuracy</td><td>0.48661</td></tr><tr><td>val_f1</td><td>0.0</td></tr><tr><td>val_loss</td><td>0.69317</td></tr><tr><td>val_precision</td><td>0.0</td></tr><tr><td>val_recall</td><td>0.0</td></tr></table><br/></div></div>"
            ],
            "text/plain": [
              "<IPython.core.display.HTML object>"
            ]
          },
          "metadata": {},
          "output_type": "display_data"
        },
        {
          "data": {
            "text/html": [
              " View run <strong style=\"color:#cdcd00\">fallen-sweep-2--0</strong> at: <a href='https://wandb.ai/aiuis/ai-1-project/runs/hlnd3gve' target=\"_blank\">https://wandb.ai/aiuis/ai-1-project/runs/hlnd3gve</a><br/> View project at: <a href='https://wandb.ai/aiuis/ai-1-project' target=\"_blank\">https://wandb.ai/aiuis/ai-1-project</a><br/>Synced 5 W&B file(s), 0 media file(s), 0 artifact file(s) and 1 other file(s)"
            ],
            "text/plain": [
              "<IPython.core.display.HTML object>"
            ]
          },
          "metadata": {},
          "output_type": "display_data"
        },
        {
          "data": {
            "text/html": [
              "Find logs at: <code>../models/wandb/run-20240601_030248-hlnd3gve/logs</code>"
            ],
            "text/plain": [
              "<IPython.core.display.HTML object>"
            ]
          },
          "metadata": {},
          "output_type": "display_data"
        },
        {
          "data": {
            "text/html": [
              "Tracking run with wandb version 0.17.0"
            ],
            "text/plain": [
              "<IPython.core.display.HTML object>"
            ]
          },
          "metadata": {},
          "output_type": "display_data"
        },
        {
          "data": {
            "text/html": [
              "Run data is saved locally in <code>../models/wandb/run-20240601_032204-7ynz7gkd</code>"
            ],
            "text/plain": [
              "<IPython.core.display.HTML object>"
            ]
          },
          "metadata": {},
          "output_type": "display_data"
        },
        {
          "data": {
            "text/html": [
              "Syncing run <strong><a href='https://wandb.ai/aiuis/ai-1-project/runs/7ynz7gkd' target=\"_blank\">fallen-sweep-2--1</a></strong> to <a href='https://wandb.ai/aiuis/ai-1-project' target=\"_blank\">Weights & Biases</a> (<a href='https://wandb.me/run' target=\"_blank\">docs</a>)<br/>"
            ],
            "text/plain": [
              "<IPython.core.display.HTML object>"
            ]
          },
          "metadata": {},
          "output_type": "display_data"
        },
        {
          "data": {
            "text/html": [
              " View project at <a href='https://wandb.ai/aiuis/ai-1-project' target=\"_blank\">https://wandb.ai/aiuis/ai-1-project</a>"
            ],
            "text/plain": [
              "<IPython.core.display.HTML object>"
            ]
          },
          "metadata": {},
          "output_type": "display_data"
        },
        {
          "data": {
            "text/html": [
              " View run at <a href='https://wandb.ai/aiuis/ai-1-project/runs/7ynz7gkd' target=\"_blank\">https://wandb.ai/aiuis/ai-1-project/runs/7ynz7gkd</a>"
            ],
            "text/plain": [
              "<IPython.core.display.HTML object>"
            ]
          },
          "metadata": {},
          "output_type": "display_data"
        },
        {
          "name": "stdout",
          "output_type": "stream",
          "text": [
            "ConvNet(\n",
            "  (layer1): Sequential(\n",
            "    (0): Conv3d(1, 32, kernel_size=(5, 5, 5), stride=(1, 1, 1), padding=(2, 2, 2))\n",
            "    (1): ReLU()\n",
            "    (2): MaxPool3d(kernel_size=2, stride=2, padding=0, dilation=1, ceil_mode=False)\n",
            "  )\n",
            "  (layer2): Sequential(\n",
            "    (0): Conv3d(32, 64, kernel_size=(5, 5, 5), stride=(1, 1, 1), padding=(2, 2, 2))\n",
            "    (1): ReLU()\n",
            "    (2): MaxPool3d(kernel_size=2, stride=2, padding=0, dilation=1, ceil_mode=False)\n",
            "  )\n",
            "  (fc): Linear(in_features=150528, out_features=1, bias=True)\n",
            ")\n",
            "FOLD 2\n",
            "--------------------------------\n",
            "Epoch 1\n",
            "-------------------------------\n",
            "train loss: 156.510 accuracy: 0.562 [after 2 batches]\n",
            "train loss: 12.717 accuracy: 0.562 [after 5 batches]\n",
            "train loss: 1.987 accuracy: 0.469 [after 8 batches]\n",
            "train loss: 1.145 accuracy: 0.562 [after 11 batches]\n",
            "train loss: 0.762 accuracy: 0.462 [after 14 batches]\n",
            "val loss: 0.720 accuracy: 0.513 [after 3 batches]\n",
            "Epoch 2\n",
            "-------------------------------\n",
            "train loss: 0.685 accuracy: 0.516 [after 2 batches]\n",
            "train loss: 0.693 accuracy: 0.500 [after 5 batches]\n",
            "train loss: 0.694 accuracy: 0.438 [after 8 batches]\n",
            "train loss: 0.692 accuracy: 0.547 [after 11 batches]\n",
            "train loss: 0.690 accuracy: 0.718 [after 14 batches]\n",
            "val loss: 0.693 accuracy: 0.500 [after 3 batches]\n",
            "Epoch 3\n",
            "-------------------------------\n",
            "train loss: 0.691 accuracy: 0.547 [after 2 batches]\n",
            "train loss: 0.693 accuracy: 0.500 [after 5 batches]\n",
            "train loss: 0.695 accuracy: 0.438 [after 8 batches]\n",
            "train loss: 0.693 accuracy: 0.531 [after 11 batches]\n",
            "train loss: 0.692 accuracy: 0.564 [after 14 batches]\n",
            "val loss: 0.693 accuracy: 0.520 [after 3 batches]\n",
            "Epoch 4\n",
            "-------------------------------\n",
            "train loss: 0.693 accuracy: 0.516 [after 2 batches]\n",
            "train loss: 0.694 accuracy: 0.453 [after 5 batches]\n",
            "train loss: 0.691 accuracy: 0.578 [after 8 batches]\n",
            "train loss: 0.694 accuracy: 0.484 [after 11 batches]\n",
            "train loss: 0.697 accuracy: 0.359 [after 14 batches]\n",
            "val loss: 0.693 accuracy: 0.520 [after 3 batches]\n",
            "Epoch 5\n",
            "-------------------------------\n",
            "train loss: 0.693 accuracy: 0.500 [after 2 batches]\n",
            "train loss: 0.692 accuracy: 0.562 [after 5 batches]\n",
            "train loss: 0.693 accuracy: 0.516 [after 8 batches]\n",
            "train loss: 0.693 accuracy: 0.500 [after 11 batches]\n",
            "train loss: 0.696 accuracy: 0.359 [after 14 batches]\n",
            "val loss: 0.693 accuracy: 0.487 [after 3 batches]\n",
            "Epoch 6\n",
            "-------------------------------\n",
            "train loss: 0.693 accuracy: 0.516 [after 2 batches]\n",
            "train loss: 0.693 accuracy: 0.500 [after 5 batches]\n",
            "train loss: 0.694 accuracy: 0.469 [after 8 batches]\n",
            "train loss: 0.694 accuracy: 0.469 [after 11 batches]\n",
            "train loss: 0.694 accuracy: 0.462 [after 14 batches]\n",
            "val loss: 0.693 accuracy: 0.493 [after 3 batches]\n",
            "Epoch 7\n",
            "-------------------------------\n",
            "train loss: 0.693 accuracy: 0.531 [after 2 batches]\n",
            "train loss: 0.693 accuracy: 0.484 [after 5 batches]\n",
            "train loss: 0.694 accuracy: 0.422 [after 8 batches]\n",
            "train loss: 0.693 accuracy: 0.516 [after 11 batches]\n",
            "train loss: 0.693 accuracy: 0.513 [after 14 batches]\n",
            "val loss: 0.693 accuracy: 0.513 [after 3 batches]\n",
            "Epoch 8\n",
            "-------------------------------\n",
            "train loss: 0.693 accuracy: 0.531 [after 2 batches]\n",
            "train loss: 0.693 accuracy: 0.562 [after 5 batches]\n",
            "train loss: 0.693 accuracy: 0.469 [after 8 batches]\n",
            "train loss: 0.693 accuracy: 0.484 [after 11 batches]\n",
            "train loss: 0.694 accuracy: 0.462 [after 14 batches]\n",
            "val loss: 0.693 accuracy: 0.500 [after 3 batches]\n",
            "Epoch 9\n",
            "-------------------------------\n",
            "train loss: 0.693 accuracy: 0.516 [after 2 batches]\n",
            "train loss: 0.693 accuracy: 0.500 [after 5 batches]\n",
            "train loss: 0.693 accuracy: 0.562 [after 8 batches]\n",
            "train loss: 0.693 accuracy: 0.453 [after 11 batches]\n",
            "train loss: 0.693 accuracy: 0.487 [after 14 batches]\n",
            "val loss: 0.693 accuracy: 0.500 [after 3 batches]\n",
            "Epoch 10\n",
            "-------------------------------\n",
            "train loss: 0.693 accuracy: 0.594 [after 2 batches]\n",
            "train loss: 0.693 accuracy: 0.469 [after 5 batches]\n",
            "train loss: 0.693 accuracy: 0.484 [after 8 batches]\n",
            "train loss: 0.693 accuracy: 0.547 [after 11 batches]\n",
            "train loss: 0.693 accuracy: 0.487 [after 14 batches]\n",
            "val loss: 0.693 accuracy: 0.487 [after 3 batches]\n",
            "Epoch 11\n",
            "-------------------------------\n",
            "train loss: 0.693 accuracy: 0.500 [after 2 batches]\n",
            "train loss: 0.693 accuracy: 0.484 [after 5 batches]\n",
            "train loss: 0.693 accuracy: 0.531 [after 8 batches]\n",
            "train loss: 0.693 accuracy: 0.516 [after 11 batches]\n",
            "train loss: 0.693 accuracy: 0.487 [after 14 batches]\n",
            "val loss: 0.693 accuracy: 0.500 [after 3 batches]\n",
            "Epoch 12\n",
            "-------------------------------\n",
            "train loss: 0.693 accuracy: 0.562 [after 2 batches]\n",
            "train loss: 0.693 accuracy: 0.406 [after 5 batches]\n",
            "train loss: 0.693 accuracy: 0.531 [after 8 batches]\n",
            "train loss: 0.693 accuracy: 0.578 [after 11 batches]\n",
            "train loss: 0.693 accuracy: 0.436 [after 14 batches]\n",
            "val loss: 0.693 accuracy: 0.500 [after 3 batches]\n",
            "Epoch 13\n",
            "-------------------------------\n",
            "train loss: 0.693 accuracy: 0.406 [after 2 batches]\n",
            "train loss: 0.693 accuracy: 0.562 [after 5 batches]\n",
            "train loss: 0.693 accuracy: 0.531 [after 8 batches]\n",
            "train loss: 0.693 accuracy: 0.562 [after 11 batches]\n",
            "train loss: 0.693 accuracy: 0.513 [after 14 batches]\n",
            "val loss: 0.693 accuracy: 0.507 [after 3 batches]\n",
            "Epoch 14\n",
            "-------------------------------\n",
            "train loss: 0.693 accuracy: 0.453 [after 2 batches]\n",
            "train loss: 0.693 accuracy: 0.641 [after 5 batches]\n",
            "train loss: 0.709 accuracy: 0.438 [after 8 batches]\n",
            "train loss: 0.694 accuracy: 0.438 [after 11 batches]\n",
            "train loss: 0.693 accuracy: 0.487 [after 14 batches]\n",
            "val loss: 0.693 accuracy: 0.520 [after 3 batches]\n",
            "Epoch 15\n",
            "-------------------------------\n",
            "train loss: 0.693 accuracy: 0.516 [after 2 batches]\n",
            "train loss: 0.693 accuracy: 0.531 [after 5 batches]\n",
            "train loss: 0.693 accuracy: 0.500 [after 8 batches]\n",
            "train loss: 0.693 accuracy: 0.391 [after 11 batches]\n",
            "train loss: 0.694 accuracy: 0.333 [after 14 batches]\n",
            "val loss: 0.693 accuracy: 0.487 [after 3 batches]\n"
          ]
        },
        {
          "data": {
            "application/vnd.jupyter.widget-view+json": {
              "model_id": "480ee4b04ba8441d8361b4db9cdebd64",
              "version_major": 2,
              "version_minor": 0
            },
            "text/plain": [
              "VBox(children=(Label(value='1.569 MB of 1.569 MB uploaded\\r'), FloatProgress(value=1.0, max=1.0)))"
            ]
          },
          "metadata": {},
          "output_type": "display_data"
        },
        {
          "data": {
            "text/html": [
              "<style>\n",
              "    table.wandb td:nth-child(1) { padding: 0 10px; text-align: left ; width: auto;} td:nth-child(2) {text-align: left ; width: 100%}\n",
              "    .wandb-row { display: flex; flex-direction: row; flex-wrap: wrap; justify-content: flex-start; width: 100% }\n",
              "    .wandb-col { display: flex; flex-direction: column; flex-basis: 100%; flex: 1; padding: 10px; }\n",
              "    </style>\n",
              "<div class=\"wandb-row\"><div class=\"wandb-col\"><h3>Run history:</h3><br/><table class=\"wandb\"><tr><td>epoch</td><td>▁▁▂▃▃▃▄▅▅▅▆▇▇▇█</td></tr><tr><td>step</td><td>▁▁▁▁▂▂▂▂▂▃▃▃▃▃▃▄▄▄▄▄▅▅▅▅▅▅▆▆▆▆▆▆▇▇▇▇▇███</td></tr><tr><td>train_accuracy</td><td>▅▅▅▄▃█▄▅▄▅▄▄▄▁▄▃▅▃▄▅▃▃▄▃▆▄▄▄▄▅▂▅▂▅▄▇▃▄▄▁</td></tr><tr><td>train_loss</td><td>█▂▁▁▁▁▁▁▁▁▁▁▁▁▁▁▁▁▁▁▁▁▁▁▁▁▁▁▁▁▁▁▁▁▁▁▁▁▁▁</td></tr><tr><td>val_accuracy</td><td>▇▄██▁▂▇▄▄▁▄▄▅█▁</td></tr><tr><td>val_f1</td><td>▁▁▁▁▁▁▁▁▁▁▁▁▁▁▁</td></tr><tr><td>val_loss</td><td>█▁▁▁▁▁▁▁▁▁▁▁▁▁▁</td></tr><tr><td>val_precision</td><td>▁▁▁▁▁▁▁▁▁▁▁▁▁▁▁</td></tr><tr><td>val_recall</td><td>▁▁▁▁▁▁▁▁▁▁▁▁▁▁▁</td></tr></table><br/></div><div class=\"wandb-col\"><h3>Run summary:</h3><br/><table class=\"wandb\"><tr><td>epoch</td><td>15</td></tr><tr><td>step</td><td>74</td></tr><tr><td>train_accuracy</td><td>0.33333</td></tr><tr><td>train_loss</td><td>0.69365</td></tr><tr><td>val_accuracy</td><td>0.48661</td></tr><tr><td>val_f1</td><td>0.0</td></tr><tr><td>val_loss</td><td>0.69317</td></tr><tr><td>val_precision</td><td>0.0</td></tr><tr><td>val_recall</td><td>0.0</td></tr></table><br/></div></div>"
            ],
            "text/plain": [
              "<IPython.core.display.HTML object>"
            ]
          },
          "metadata": {},
          "output_type": "display_data"
        },
        {
          "data": {
            "text/html": [
              " View run <strong style=\"color:#cdcd00\">fallen-sweep-2--1</strong> at: <a href='https://wandb.ai/aiuis/ai-1-project/runs/7ynz7gkd' target=\"_blank\">https://wandb.ai/aiuis/ai-1-project/runs/7ynz7gkd</a><br/> View project at: <a href='https://wandb.ai/aiuis/ai-1-project' target=\"_blank\">https://wandb.ai/aiuis/ai-1-project</a><br/>Synced 5 W&B file(s), 0 media file(s), 0 artifact file(s) and 1 other file(s)"
            ],
            "text/plain": [
              "<IPython.core.display.HTML object>"
            ]
          },
          "metadata": {},
          "output_type": "display_data"
        },
        {
          "data": {
            "text/html": [
              "Find logs at: <code>../models/wandb/run-20240601_032204-7ynz7gkd/logs</code>"
            ],
            "text/plain": [
              "<IPython.core.display.HTML object>"
            ]
          },
          "metadata": {},
          "output_type": "display_data"
        },
        {
          "data": {
            "text/html": [
              "Tracking run with wandb version 0.17.0"
            ],
            "text/plain": [
              "<IPython.core.display.HTML object>"
            ]
          },
          "metadata": {},
          "output_type": "display_data"
        },
        {
          "data": {
            "text/html": [
              "Run data is saved locally in <code>../models/wandb/run-20240601_033146-xbmxjc5d</code>"
            ],
            "text/plain": [
              "<IPython.core.display.HTML object>"
            ]
          },
          "metadata": {},
          "output_type": "display_data"
        },
        {
          "data": {
            "text/html": [
              "Syncing run <strong><a href='https://wandb.ai/aiuis/ai-1-project/runs/xbmxjc5d' target=\"_blank\">fallen-sweep-2--2</a></strong> to <a href='https://wandb.ai/aiuis/ai-1-project' target=\"_blank\">Weights & Biases</a> (<a href='https://wandb.me/run' target=\"_blank\">docs</a>)<br/>"
            ],
            "text/plain": [
              "<IPython.core.display.HTML object>"
            ]
          },
          "metadata": {},
          "output_type": "display_data"
        },
        {
          "data": {
            "text/html": [
              " View project at <a href='https://wandb.ai/aiuis/ai-1-project' target=\"_blank\">https://wandb.ai/aiuis/ai-1-project</a>"
            ],
            "text/plain": [
              "<IPython.core.display.HTML object>"
            ]
          },
          "metadata": {},
          "output_type": "display_data"
        },
        {
          "data": {
            "text/html": [
              " View run at <a href='https://wandb.ai/aiuis/ai-1-project/runs/xbmxjc5d' target=\"_blank\">https://wandb.ai/aiuis/ai-1-project/runs/xbmxjc5d</a>"
            ],
            "text/plain": [
              "<IPython.core.display.HTML object>"
            ]
          },
          "metadata": {},
          "output_type": "display_data"
        },
        {
          "name": "stdout",
          "output_type": "stream",
          "text": [
            "ConvNet(\n",
            "  (layer1): Sequential(\n",
            "    (0): Conv3d(1, 32, kernel_size=(5, 5, 5), stride=(1, 1, 1), padding=(2, 2, 2))\n",
            "    (1): ReLU()\n",
            "    (2): MaxPool3d(kernel_size=2, stride=2, padding=0, dilation=1, ceil_mode=False)\n",
            "  )\n",
            "  (layer2): Sequential(\n",
            "    (0): Conv3d(32, 64, kernel_size=(5, 5, 5), stride=(1, 1, 1), padding=(2, 2, 2))\n",
            "    (1): ReLU()\n",
            "    (2): MaxPool3d(kernel_size=2, stride=2, padding=0, dilation=1, ceil_mode=False)\n",
            "  )\n",
            "  (fc): Linear(in_features=150528, out_features=1, bias=True)\n",
            ")\n",
            "FOLD 3\n",
            "--------------------------------\n",
            "Epoch 1\n",
            "-------------------------------\n",
            "train loss: 54.891 accuracy: 0.531 [after 2 batches]\n",
            "train loss: 6.012 accuracy: 0.547 [after 5 batches]\n",
            "train loss: 5.827 accuracy: 0.484 [after 8 batches]\n",
            "train loss: 0.695 accuracy: 0.625 [after 11 batches]\n",
            "train loss: 0.693 accuracy: 0.538 [after 14 batches]\n",
            "val loss: 0.693 accuracy: 0.500 [after 3 batches]\n",
            "Epoch 2\n",
            "-------------------------------\n",
            "train loss: 0.693 accuracy: 0.484 [after 2 batches]\n",
            "train loss: 0.693 accuracy: 0.453 [after 5 batches]\n",
            "train loss: 0.693 accuracy: 0.516 [after 8 batches]\n",
            "train loss: 0.694 accuracy: 0.484 [after 11 batches]\n",
            "train loss: 0.693 accuracy: 0.564 [after 14 batches]\n",
            "val loss: 0.693 accuracy: 0.493 [after 3 batches]\n",
            "Epoch 3\n",
            "-------------------------------\n",
            "train loss: 0.693 accuracy: 0.469 [after 2 batches]\n",
            "train loss: 0.693 accuracy: 0.594 [after 5 batches]\n",
            "train loss: 0.693 accuracy: 0.484 [after 8 batches]\n",
            "train loss: 0.693 accuracy: 0.469 [after 11 batches]\n",
            "train loss: 0.693 accuracy: 0.564 [after 14 batches]\n",
            "val loss: 0.693 accuracy: 0.480 [after 3 batches]\n",
            "Epoch 4\n",
            "-------------------------------\n",
            "train loss: 0.694 accuracy: 0.406 [after 2 batches]\n",
            "train loss: 0.693 accuracy: 0.609 [after 5 batches]\n",
            "train loss: 0.693 accuracy: 0.516 [after 8 batches]\n",
            "train loss: 0.693 accuracy: 0.547 [after 11 batches]\n",
            "train loss: 0.693 accuracy: 0.487 [after 14 batches]\n",
            "val loss: 0.693 accuracy: 0.513 [after 3 batches]\n",
            "Epoch 5\n",
            "-------------------------------\n",
            "train loss: 0.693 accuracy: 0.531 [after 2 batches]\n",
            "train loss: 0.693 accuracy: 0.562 [after 5 batches]\n",
            "train loss: 0.693 accuracy: 0.531 [after 8 batches]\n",
            "train loss: 0.693 accuracy: 0.484 [after 11 batches]\n",
            "train loss: 0.694 accuracy: 0.436 [after 14 batches]\n",
            "val loss: 0.693 accuracy: 0.507 [after 3 batches]\n",
            "Epoch 6\n",
            "-------------------------------\n",
            "train loss: 0.693 accuracy: 0.469 [after 2 batches]\n",
            "train loss: 0.693 accuracy: 0.500 [after 5 batches]\n",
            "train loss: 0.693 accuracy: 0.500 [after 8 batches]\n",
            "train loss: 0.694 accuracy: 0.453 [after 11 batches]\n",
            "train loss: 0.694 accuracy: 0.410 [after 14 batches]\n",
            "val loss: 0.693 accuracy: 0.500 [after 3 batches]\n",
            "Epoch 7\n",
            "-------------------------------\n",
            "train loss: 0.693 accuracy: 0.531 [after 2 batches]\n",
            "train loss: 0.688 accuracy: 0.531 [after 5 batches]\n",
            "train loss: 0.693 accuracy: 0.531 [after 8 batches]\n",
            "train loss: 0.693 accuracy: 0.469 [after 11 batches]\n",
            "train loss: 0.693 accuracy: 0.462 [after 14 batches]\n",
            "val loss: 0.693 accuracy: 0.480 [after 3 batches]\n",
            "Epoch 8\n",
            "-------------------------------\n",
            "train loss: 0.693 accuracy: 0.469 [after 2 batches]\n",
            "train loss: 0.693 accuracy: 0.438 [after 5 batches]\n",
            "train loss: 0.688 accuracy: 0.531 [after 8 batches]\n",
            "train loss: 0.693 accuracy: 0.484 [after 11 batches]\n",
            "train loss: 0.693 accuracy: 0.590 [after 14 batches]\n",
            "val loss: 0.693 accuracy: 0.533 [after 3 batches]\n",
            "Epoch 9\n",
            "-------------------------------\n",
            "train loss: 0.693 accuracy: 0.500 [after 2 batches]\n",
            "train loss: 0.693 accuracy: 0.531 [after 5 batches]\n",
            "train loss: 0.693 accuracy: 0.562 [after 8 batches]\n",
            "train loss: 0.693 accuracy: 0.531 [after 11 batches]\n",
            "train loss: 0.693 accuracy: 0.436 [after 14 batches]\n",
            "val loss: 0.693 accuracy: 0.507 [after 3 batches]\n",
            "Epoch 10\n",
            "-------------------------------\n",
            "train loss: 0.693 accuracy: 0.562 [after 2 batches]\n",
            "train loss: 0.693 accuracy: 0.469 [after 5 batches]\n",
            "train loss: 0.693 accuracy: 0.438 [after 8 batches]\n",
            "train loss: 0.693 accuracy: 0.516 [after 11 batches]\n",
            "train loss: 0.693 accuracy: 0.538 [after 14 batches]\n",
            "val loss: 0.693 accuracy: 0.500 [after 3 batches]\n",
            "Epoch 11\n",
            "-------------------------------\n",
            "train loss: 0.687 accuracy: 0.453 [after 2 batches]\n",
            "train loss: 0.693 accuracy: 0.500 [after 5 batches]\n",
            "train loss: 0.693 accuracy: 0.469 [after 8 batches]\n",
            "train loss: 0.693 accuracy: 0.531 [after 11 batches]\n",
            "train loss: 0.693 accuracy: 0.436 [after 14 batches]\n",
            "val loss: 0.693 accuracy: 0.493 [after 3 batches]\n",
            "Epoch 12\n",
            "-------------------------------\n",
            "train loss: 0.693 accuracy: 0.422 [after 2 batches]\n",
            "train loss: 0.693 accuracy: 0.453 [after 5 batches]\n",
            "train loss: 0.693 accuracy: 0.453 [after 8 batches]\n",
            "train loss: 0.693 accuracy: 0.500 [after 11 batches]\n",
            "train loss: 0.693 accuracy: 0.564 [after 14 batches]\n",
            "val loss: 0.693 accuracy: 0.493 [after 3 batches]\n",
            "Epoch 13\n",
            "-------------------------------\n",
            "train loss: 0.693 accuracy: 0.484 [after 2 batches]\n",
            "train loss: 0.694 accuracy: 0.625 [after 5 batches]\n",
            "train loss: 0.693 accuracy: 0.422 [after 8 batches]\n",
            "train loss: 0.693 accuracy: 0.406 [after 11 batches]\n",
            "train loss: 0.693 accuracy: 0.462 [after 14 batches]\n",
            "val loss: 0.693 accuracy: 0.507 [after 3 batches]\n"
          ]
        },
        {
          "data": {
            "application/vnd.jupyter.widget-view+json": {
              "model_id": "aefbeacb0e2e40bf89b456110928da63",
              "version_major": 2,
              "version_minor": 0
            },
            "text/plain": [
              "VBox(children=(Label(value='1.569 MB of 1.584 MB uploaded\\r'), FloatProgress(value=0.9906232936049959, max=1.0…"
            ]
          },
          "metadata": {},
          "output_type": "display_data"
        },
        {
          "data": {
            "text/html": [
              "<style>\n",
              "    table.wandb td:nth-child(1) { padding: 0 10px; text-align: left ; width: auto;} td:nth-child(2) {text-align: left ; width: 100%}\n",
              "    .wandb-row { display: flex; flex-direction: row; flex-wrap: wrap; justify-content: flex-start; width: 100% }\n",
              "    .wandb-col { display: flex; flex-direction: column; flex-basis: 100%; flex: 1; padding: 10px; }\n",
              "    </style>\n",
              "<div class=\"wandb-row\"><div class=\"wandb-col\"><h3>Run history:</h3><br/><table class=\"wandb\"><tr><td>epoch</td><td>▁▂▂▃▃▄▅▅▆▆▇▇█</td></tr><tr><td>step</td><td>▁▁▁▁▂▂▂▂▂▃▃▃▃▃▃▄▄▄▄▄▅▅▅▅▅▅▆▆▆▆▆▆▇▇▇▇▇███</td></tr><tr><td>train_accuracy</td><td>▅▅█▅▂▃▆▇▃▆▇▅▄▆▅▂▄▄▁▅▅▃▂▅▇▅▆▂▆▂▅▂▃▂▁▂▆▃▁▃</td></tr><tr><td>train_loss</td><td>█▂▁▁▁▁▁▁▁▁▁▁▁▁▁▁▁▁▁▁▁▁▁▁▁▁▁▁▁▁▁▁▁▁▁▁▁▁▁▁</td></tr><tr><td>val_accuracy</td><td>▄▃▁▅▅▄▁█▅▄▃▃▅</td></tr><tr><td>val_f1</td><td>▁▁▁▁▁▁▁▁▁▁▁▁▁</td></tr><tr><td>val_loss</td><td>▅▄█▂▃▅█▁▃▄▅▄▄</td></tr><tr><td>val_precision</td><td>▁▁▁▁▁▁▁▁▁▁▁▁▁</td></tr><tr><td>val_recall</td><td>▁▁▁▁▁▁▁▁▁▁▁▁▁</td></tr></table><br/></div><div class=\"wandb-col\"><h3>Run summary:</h3><br/><table class=\"wandb\"><tr><td>epoch</td><td>13</td></tr><tr><td>step</td><td>64</td></tr><tr><td>train_accuracy</td><td>0.46154</td></tr><tr><td>train_loss</td><td>0.69327</td></tr><tr><td>val_accuracy</td><td>0.5067</td></tr><tr><td>val_f1</td><td>0.0</td></tr><tr><td>val_loss</td><td>0.69313</td></tr><tr><td>val_precision</td><td>0.0</td></tr><tr><td>val_recall</td><td>0.0</td></tr></table><br/></div></div>"
            ],
            "text/plain": [
              "<IPython.core.display.HTML object>"
            ]
          },
          "metadata": {},
          "output_type": "display_data"
        },
        {
          "data": {
            "text/html": [
              " View run <strong style=\"color:#cdcd00\">fallen-sweep-2--2</strong> at: <a href='https://wandb.ai/aiuis/ai-1-project/runs/xbmxjc5d' target=\"_blank\">https://wandb.ai/aiuis/ai-1-project/runs/xbmxjc5d</a><br/> View project at: <a href='https://wandb.ai/aiuis/ai-1-project' target=\"_blank\">https://wandb.ai/aiuis/ai-1-project</a><br/>Synced 5 W&B file(s), 0 media file(s), 0 artifact file(s) and 1 other file(s)"
            ],
            "text/plain": [
              "<IPython.core.display.HTML object>"
            ]
          },
          "metadata": {},
          "output_type": "display_data"
        },
        {
          "data": {
            "text/html": [
              "Find logs at: <code>../models/wandb/run-20240601_033146-xbmxjc5d/logs</code>"
            ],
            "text/plain": [
              "<IPython.core.display.HTML object>"
            ]
          },
          "metadata": {},
          "output_type": "display_data"
        },
        {
          "data": {
            "text/html": [
              "Tracking run with wandb version 0.17.0"
            ],
            "text/plain": [
              "<IPython.core.display.HTML object>"
            ]
          },
          "metadata": {},
          "output_type": "display_data"
        },
        {
          "data": {
            "text/html": [
              "Run data is saved locally in <code>../models/wandb/run-20240601_034016-f26lwmgz</code>"
            ],
            "text/plain": [
              "<IPython.core.display.HTML object>"
            ]
          },
          "metadata": {},
          "output_type": "display_data"
        },
        {
          "data": {
            "text/html": [
              "Syncing run <strong><a href='https://wandb.ai/aiuis/ai-1-project/runs/f26lwmgz' target=\"_blank\">fallen-sweep-2--3</a></strong> to <a href='https://wandb.ai/aiuis/ai-1-project' target=\"_blank\">Weights & Biases</a> (<a href='https://wandb.me/run' target=\"_blank\">docs</a>)<br/>"
            ],
            "text/plain": [
              "<IPython.core.display.HTML object>"
            ]
          },
          "metadata": {},
          "output_type": "display_data"
        },
        {
          "data": {
            "text/html": [
              " View project at <a href='https://wandb.ai/aiuis/ai-1-project' target=\"_blank\">https://wandb.ai/aiuis/ai-1-project</a>"
            ],
            "text/plain": [
              "<IPython.core.display.HTML object>"
            ]
          },
          "metadata": {},
          "output_type": "display_data"
        },
        {
          "data": {
            "text/html": [
              " View run at <a href='https://wandb.ai/aiuis/ai-1-project/runs/f26lwmgz' target=\"_blank\">https://wandb.ai/aiuis/ai-1-project/runs/f26lwmgz</a>"
            ],
            "text/plain": [
              "<IPython.core.display.HTML object>"
            ]
          },
          "metadata": {},
          "output_type": "display_data"
        },
        {
          "name": "stdout",
          "output_type": "stream",
          "text": [
            "ConvNet(\n",
            "  (layer1): Sequential(\n",
            "    (0): Conv3d(1, 32, kernel_size=(5, 5, 5), stride=(1, 1, 1), padding=(2, 2, 2))\n",
            "    (1): ReLU()\n",
            "    (2): MaxPool3d(kernel_size=2, stride=2, padding=0, dilation=1, ceil_mode=False)\n",
            "  )\n",
            "  (layer2): Sequential(\n",
            "    (0): Conv3d(32, 64, kernel_size=(5, 5, 5), stride=(1, 1, 1), padding=(2, 2, 2))\n",
            "    (1): ReLU()\n",
            "    (2): MaxPool3d(kernel_size=2, stride=2, padding=0, dilation=1, ceil_mode=False)\n",
            "  )\n",
            "  (fc): Linear(in_features=150528, out_features=1, bias=True)\n",
            ")\n",
            "FOLD 4\n",
            "--------------------------------\n",
            "Epoch 1\n",
            "-------------------------------\n",
            "train loss: 427.802 accuracy: 0.547 [after 2 batches]\n",
            "train loss: 1.014 accuracy: 0.484 [after 5 batches]\n",
            "train loss: 0.708 accuracy: 0.516 [after 8 batches]\n",
            "train loss: 1.044 accuracy: 0.422 [after 11 batches]\n",
            "train loss: 0.707 accuracy: 0.487 [after 14 batches]\n",
            "val loss: 0.693 accuracy: 0.493 [after 3 batches]\n",
            "Epoch 2\n",
            "-------------------------------\n",
            "train loss: 0.693 accuracy: 0.438 [after 2 batches]\n",
            "train loss: 0.693 accuracy: 0.516 [after 5 batches]\n",
            "train loss: 0.693 accuracy: 0.531 [after 8 batches]\n",
            "train loss: 0.693 accuracy: 0.484 [after 11 batches]\n",
            "train loss: 0.746 accuracy: 0.513 [after 14 batches]\n",
            "val loss: 0.693 accuracy: 0.487 [after 3 batches]\n",
            "Epoch 3\n",
            "-------------------------------\n",
            "train loss: 0.694 accuracy: 0.562 [after 2 batches]\n",
            "train loss: 0.692 accuracy: 0.469 [after 5 batches]\n",
            "train loss: 0.558 accuracy: 0.812 [after 8 batches]\n",
            "train loss: 0.508 accuracy: 0.609 [after 11 batches]\n",
            "train loss: 0.549 accuracy: 0.641 [after 14 batches]\n",
            "val loss: 0.403 accuracy: 0.874 [after 3 batches]\n",
            "Epoch 4\n",
            "-------------------------------\n",
            "train loss: 0.494 accuracy: 0.719 [after 2 batches]\n",
            "train loss: 0.489 accuracy: 0.828 [after 5 batches]\n",
            "train loss: 0.627 accuracy: 0.578 [after 8 batches]\n",
            "train loss: 0.494 accuracy: 0.844 [after 11 batches]\n",
            "train loss: 0.611 accuracy: 0.667 [after 14 batches]\n",
            "val loss: 0.120 accuracy: 1.000 [after 3 batches]\n",
            "Epoch 5\n",
            "-------------------------------\n",
            "train loss: 0.495 accuracy: 0.812 [after 2 batches]\n",
            "train loss: 1.109 accuracy: 0.766 [after 5 batches]\n",
            "train loss: 0.330 accuracy: 0.859 [after 8 batches]\n",
            "train loss: 0.474 accuracy: 0.672 [after 11 batches]\n",
            "train loss: 0.501 accuracy: 0.744 [after 14 batches]\n",
            "val loss: 0.297 accuracy: 0.979 [after 3 batches]\n",
            "Epoch 6\n",
            "-------------------------------\n",
            "train loss: 0.255 accuracy: 0.844 [after 2 batches]\n",
            "train loss: 0.326 accuracy: 0.875 [after 5 batches]\n",
            "train loss: 0.322 accuracy: 0.891 [after 8 batches]\n",
            "train loss: 0.222 accuracy: 0.906 [after 11 batches]\n",
            "train loss: 0.204 accuracy: 0.872 [after 14 batches]\n",
            "val loss: 0.059 accuracy: 1.000 [after 3 batches]\n",
            "Epoch 7\n",
            "-------------------------------\n",
            "train loss: 0.162 accuracy: 0.922 [after 2 batches]\n",
            "train loss: 0.227 accuracy: 0.938 [after 5 batches]\n",
            "train loss: 0.118 accuracy: 0.969 [after 8 batches]\n",
            "train loss: 0.063 accuracy: 0.984 [after 11 batches]\n",
            "train loss: 0.095 accuracy: 0.949 [after 14 batches]\n",
            "val loss: 0.039 accuracy: 0.995 [after 3 batches]\n",
            "Epoch 8\n",
            "-------------------------------\n",
            "train loss: 0.092 accuracy: 0.969 [after 2 batches]\n",
            "train loss: 0.232 accuracy: 0.953 [after 5 batches]\n",
            "train loss: 0.188 accuracy: 0.938 [after 8 batches]\n",
            "train loss: 0.066 accuracy: 0.969 [after 11 batches]\n",
            "train loss: 0.025 accuracy: 1.000 [after 14 batches]\n",
            "val loss: 0.020 accuracy: 1.000 [after 3 batches]\n",
            "Epoch 9\n",
            "-------------------------------\n",
            "train loss: 0.018 accuracy: 0.984 [after 2 batches]\n",
            "train loss: 0.377 accuracy: 0.953 [after 5 batches]\n",
            "train loss: 0.112 accuracy: 0.969 [after 8 batches]\n",
            "train loss: 0.101 accuracy: 0.984 [after 11 batches]\n",
            "train loss: 0.053 accuracy: 1.000 [after 14 batches]\n",
            "val loss: 0.021 accuracy: 1.000 [after 3 batches]\n",
            "Epoch 10\n",
            "-------------------------------\n",
            "train loss: 0.092 accuracy: 0.969 [after 2 batches]\n",
            "train loss: 0.121 accuracy: 0.969 [after 5 batches]\n",
            "train loss: 0.013 accuracy: 1.000 [after 8 batches]\n",
            "train loss: 0.106 accuracy: 0.984 [after 11 batches]\n",
            "train loss: 0.084 accuracy: 0.923 [after 14 batches]\n",
            "val loss: 0.007 accuracy: 1.000 [after 3 batches]\n",
            "Epoch 11\n",
            "-------------------------------\n",
            "train loss: 0.043 accuracy: 0.984 [after 2 batches]\n",
            "train loss: 0.167 accuracy: 0.938 [after 5 batches]\n",
            "train loss: 0.094 accuracy: 0.969 [after 8 batches]\n",
            "train loss: 0.048 accuracy: 0.984 [after 11 batches]\n",
            "train loss: 0.087 accuracy: 0.949 [after 14 batches]\n",
            "val loss: 0.018 accuracy: 1.000 [after 3 batches]\n",
            "Epoch 12\n",
            "-------------------------------\n",
            "train loss: 0.081 accuracy: 0.969 [after 2 batches]\n",
            "train loss: 0.009 accuracy: 1.000 [after 5 batches]\n",
            "train loss: 0.052 accuracy: 0.984 [after 8 batches]\n",
            "train loss: 0.101 accuracy: 0.953 [after 11 batches]\n",
            "train loss: 0.060 accuracy: 0.974 [after 14 batches]\n",
            "val loss: 0.045 accuracy: 0.995 [after 3 batches]\n"
          ]
        },
        {
          "data": {
            "application/vnd.jupyter.widget-view+json": {
              "model_id": "bb25a8bfe1674b39a2b38d7317e116f4",
              "version_major": 2,
              "version_minor": 0
            },
            "text/plain": [
              "VBox(children=(Label(value='1.569 MB of 1.602 MB uploaded\\r'), FloatProgress(value=0.9795552920319633, max=1.0…"
            ]
          },
          "metadata": {},
          "output_type": "display_data"
        },
        {
          "data": {
            "text/html": [
              "<style>\n",
              "    table.wandb td:nth-child(1) { padding: 0 10px; text-align: left ; width: auto;} td:nth-child(2) {text-align: left ; width: 100%}\n",
              "    .wandb-row { display: flex; flex-direction: row; flex-wrap: wrap; justify-content: flex-start; width: 100% }\n",
              "    .wandb-col { display: flex; flex-direction: column; flex-basis: 100%; flex: 1; padding: 10px; }\n",
              "    </style>\n",
              "<div class=\"wandb-row\"><div class=\"wandb-col\"><h3>Run history:</h3><br/><table class=\"wandb\"><tr><td>epoch</td><td>▁▂▂▃▄▄▅▅▆▇▇█</td></tr><tr><td>step</td><td>▁▁▁▁▂▂▂▂▂▃▃▃▃▃▃▄▄▄▄▄▅▅▅▅▅▅▆▆▆▆▆▆▇▇▇▇▇███</td></tr><tr><td>train_accuracy</td><td>▃▂▁▂▂▂▂▃▆▃▅▆▆▄▅▆▅▆▇▇▇▇█▇▇▇███████▇▇█▇███</td></tr><tr><td>train_loss</td><td>█▁▁▁▁▁▁▁▁▁▁▁▁▁▁▁▁▁▁▁▁▁▁▁▁▁▁▁▁▁▁▁▁▁▁▁▁▁▁▁</td></tr><tr><td>val_accuracy</td><td>▁▁▆█████████</td></tr><tr><td>val_f1</td><td>▁▁▇█████████</td></tr><tr><td>val_loss</td><td>██▅▂▄▂▁▁▁▁▁▁</td></tr><tr><td>val_precision</td><td>▁▁▇█████████</td></tr><tr><td>val_recall</td><td>▁▁██████████</td></tr></table><br/></div><div class=\"wandb-col\"><h3>Run summary:</h3><br/><table class=\"wandb\"><tr><td>epoch</td><td>12</td></tr><tr><td>step</td><td>59</td></tr><tr><td>train_accuracy</td><td>0.97436</td></tr><tr><td>train_loss</td><td>0.05983</td></tr><tr><td>val_accuracy</td><td>0.99479</td></tr><tr><td>val_f1</td><td>0.99531</td></tr><tr><td>val_loss</td><td>0.04529</td></tr><tr><td>val_precision</td><td>0.99074</td></tr><tr><td>val_recall</td><td>1.0</td></tr></table><br/></div></div>"
            ],
            "text/plain": [
              "<IPython.core.display.HTML object>"
            ]
          },
          "metadata": {},
          "output_type": "display_data"
        },
        {
          "data": {
            "text/html": [
              " View run <strong style=\"color:#cdcd00\">fallen-sweep-2--3</strong> at: <a href='https://wandb.ai/aiuis/ai-1-project/runs/f26lwmgz' target=\"_blank\">https://wandb.ai/aiuis/ai-1-project/runs/f26lwmgz</a><br/> View project at: <a href='https://wandb.ai/aiuis/ai-1-project' target=\"_blank\">https://wandb.ai/aiuis/ai-1-project</a><br/>Synced 5 W&B file(s), 0 media file(s), 0 artifact file(s) and 1 other file(s)"
            ],
            "text/plain": [
              "<IPython.core.display.HTML object>"
            ]
          },
          "metadata": {},
          "output_type": "display_data"
        },
        {
          "data": {
            "text/html": [
              "Find logs at: <code>../models/wandb/run-20240601_034016-f26lwmgz/logs</code>"
            ],
            "text/plain": [
              "<IPython.core.display.HTML object>"
            ]
          },
          "metadata": {},
          "output_type": "display_data"
        },
        {
          "data": {
            "text/html": [
              "Tracking run with wandb version 0.17.0"
            ],
            "text/plain": [
              "<IPython.core.display.HTML object>"
            ]
          },
          "metadata": {},
          "output_type": "display_data"
        },
        {
          "data": {
            "text/html": [
              "Run data is saved locally in <code>../models/wandb/run-20240601_034810-i4lz8zrr</code>"
            ],
            "text/plain": [
              "<IPython.core.display.HTML object>"
            ]
          },
          "metadata": {},
          "output_type": "display_data"
        },
        {
          "data": {
            "text/html": [
              "Syncing run <strong><a href='https://wandb.ai/aiuis/ai-1-project/runs/i4lz8zrr' target=\"_blank\">fallen-sweep-2--4</a></strong> to <a href='https://wandb.ai/aiuis/ai-1-project' target=\"_blank\">Weights & Biases</a> (<a href='https://wandb.me/run' target=\"_blank\">docs</a>)<br/>"
            ],
            "text/plain": [
              "<IPython.core.display.HTML object>"
            ]
          },
          "metadata": {},
          "output_type": "display_data"
        },
        {
          "data": {
            "text/html": [
              " View project at <a href='https://wandb.ai/aiuis/ai-1-project' target=\"_blank\">https://wandb.ai/aiuis/ai-1-project</a>"
            ],
            "text/plain": [
              "<IPython.core.display.HTML object>"
            ]
          },
          "metadata": {},
          "output_type": "display_data"
        },
        {
          "data": {
            "text/html": [
              " View run at <a href='https://wandb.ai/aiuis/ai-1-project/runs/i4lz8zrr' target=\"_blank\">https://wandb.ai/aiuis/ai-1-project/runs/i4lz8zrr</a>"
            ],
            "text/plain": [
              "<IPython.core.display.HTML object>"
            ]
          },
          "metadata": {},
          "output_type": "display_data"
        },
        {
          "name": "stdout",
          "output_type": "stream",
          "text": [
            "ConvNet(\n",
            "  (layer1): Sequential(\n",
            "    (0): Conv3d(1, 32, kernel_size=(5, 5, 5), stride=(1, 1, 1), padding=(2, 2, 2))\n",
            "    (1): ReLU()\n",
            "    (2): MaxPool3d(kernel_size=2, stride=2, padding=0, dilation=1, ceil_mode=False)\n",
            "  )\n",
            "  (layer2): Sequential(\n",
            "    (0): Conv3d(32, 64, kernel_size=(5, 5, 5), stride=(1, 1, 1), padding=(2, 2, 2))\n",
            "    (1): ReLU()\n",
            "    (2): MaxPool3d(kernel_size=2, stride=2, padding=0, dilation=1, ceil_mode=False)\n",
            "  )\n",
            "  (fc): Linear(in_features=150528, out_features=1, bias=True)\n",
            ")\n",
            "FOLD 5\n",
            "--------------------------------\n",
            "Epoch 1\n",
            "-------------------------------\n",
            "train loss: 25.793 accuracy: 0.594 [after 2 batches]\n",
            "train loss: 0.687 accuracy: 0.578 [after 5 batches]\n",
            "train loss: 0.711 accuracy: 0.422 [after 8 batches]\n",
            "train loss: 0.519 accuracy: 0.734 [after 11 batches]\n",
            "train loss: 0.404 accuracy: 0.821 [after 14 batches]\n",
            "val loss: 0.928 accuracy: 0.500 [after 3 batches]\n",
            "Epoch 2\n",
            "-------------------------------\n",
            "train loss: 1.088 accuracy: 0.609 [after 2 batches]\n",
            "train loss: 0.424 accuracy: 0.750 [after 5 batches]\n",
            "train loss: 0.226 accuracy: 0.938 [after 8 batches]\n",
            "train loss: 0.550 accuracy: 0.734 [after 11 batches]\n",
            "train loss: 0.508 accuracy: 0.769 [after 14 batches]\n",
            "val loss: 1.150 accuracy: 0.426 [after 3 batches]\n",
            "Epoch 3\n",
            "-------------------------------\n",
            "train loss: 0.075 accuracy: 1.000 [after 2 batches]\n",
            "train loss: 0.055 accuracy: 1.000 [after 5 batches]\n",
            "train loss: 0.316 accuracy: 0.906 [after 8 batches]\n",
            "train loss: 0.115 accuracy: 0.984 [after 11 batches]\n",
            "train loss: 0.054 accuracy: 1.000 [after 14 batches]\n",
            "val loss: 0.823 accuracy: 0.583 [after 3 batches]\n",
            "Epoch 4\n",
            "-------------------------------\n",
            "train loss: 0.089 accuracy: 0.953 [after 2 batches]\n",
            "train loss: 0.001 accuracy: 1.000 [after 5 batches]\n",
            "train loss: 0.002 accuracy: 1.000 [after 8 batches]\n",
            "train loss: 0.000 accuracy: 1.000 [after 11 batches]\n",
            "train loss: 0.018 accuracy: 1.000 [after 14 batches]\n",
            "val loss: 7.997 accuracy: 0.488 [after 3 batches]\n",
            "Epoch 5\n",
            "-------------------------------\n",
            "train loss: 0.006 accuracy: 1.000 [after 2 batches]\n",
            "train loss: 0.007 accuracy: 1.000 [after 5 batches]\n",
            "train loss: 0.014 accuracy: 1.000 [after 8 batches]\n",
            "train loss: 0.040 accuracy: 0.984 [after 11 batches]\n",
            "train loss: 0.000 accuracy: 1.000 [after 14 batches]\n",
            "val loss: 2.093 accuracy: 0.598 [after 3 batches]\n",
            "Epoch 6\n",
            "-------------------------------\n",
            "train loss: 0.000 accuracy: 1.000 [after 2 batches]\n",
            "train loss: 0.000 accuracy: 1.000 [after 5 batches]\n",
            "train loss: 0.001 accuracy: 1.000 [after 8 batches]\n",
            "train loss: 0.000 accuracy: 1.000 [after 11 batches]\n",
            "train loss: 0.000 accuracy: 1.000 [after 14 batches]\n",
            "val loss: 3.635 accuracy: 0.574 [after 3 batches]\n",
            "Epoch 7\n",
            "-------------------------------\n",
            "train loss: 0.000 accuracy: 1.000 [after 2 batches]\n",
            "train loss: 0.000 accuracy: 1.000 [after 5 batches]\n",
            "train loss: 0.000 accuracy: 1.000 [after 8 batches]\n",
            "train loss: 0.000 accuracy: 1.000 [after 11 batches]\n",
            "train loss: 0.000 accuracy: 1.000 [after 14 batches]\n",
            "val loss: 2.583 accuracy: 0.603 [after 3 batches]\n",
            "Epoch 8\n",
            "-------------------------------\n",
            "train loss: 0.000 accuracy: 1.000 [after 2 batches]\n",
            "train loss: 0.000 accuracy: 1.000 [after 5 batches]\n",
            "train loss: 0.000 accuracy: 1.000 [after 8 batches]\n",
            "train loss: 0.000 accuracy: 1.000 [after 11 batches]\n",
            "train loss: 0.000 accuracy: 1.000 [after 14 batches]\n",
            "val loss: 2.483 accuracy: 0.617 [after 3 batches]\n",
            "Epoch 9\n",
            "-------------------------------\n",
            "train loss: 0.000 accuracy: 1.000 [after 2 batches]\n",
            "train loss: 0.000 accuracy: 1.000 [after 5 batches]\n",
            "train loss: 0.000 accuracy: 1.000 [after 8 batches]\n",
            "train loss: 0.000 accuracy: 1.000 [after 11 batches]\n",
            "train loss: 0.000 accuracy: 1.000 [after 14 batches]\n",
            "val loss: 3.538 accuracy: 0.598 [after 3 batches]\n",
            "Epoch 10\n",
            "-------------------------------\n",
            "train loss: 0.000 accuracy: 1.000 [after 2 batches]\n",
            "train loss: 0.000 accuracy: 1.000 [after 5 batches]\n",
            "train loss: 0.000 accuracy: 1.000 [after 8 batches]\n",
            "train loss: 0.000 accuracy: 1.000 [after 11 batches]\n",
            "train loss: 0.000 accuracy: 1.000 [after 14 batches]\n",
            "val loss: 3.718 accuracy: 0.578 [after 3 batches]\n",
            "Epoch 11\n",
            "-------------------------------\n",
            "train loss: 0.000 accuracy: 1.000 [after 2 batches]\n",
            "train loss: 0.000 accuracy: 1.000 [after 5 batches]\n",
            "train loss: 0.000 accuracy: 1.000 [after 8 batches]\n",
            "train loss: 0.011 accuracy: 1.000 [after 11 batches]\n",
            "train loss: 0.000 accuracy: 1.000 [after 14 batches]\n",
            "val loss: 3.541 accuracy: 0.585 [after 3 batches]\n",
            "Epoch 12\n",
            "-------------------------------\n",
            "train loss: 0.000 accuracy: 1.000 [after 2 batches]\n",
            "train loss: 0.000 accuracy: 1.000 [after 5 batches]\n",
            "train loss: 0.000 accuracy: 1.000 [after 8 batches]\n",
            "train loss: 0.000 accuracy: 1.000 [after 11 batches]\n",
            "train loss: 0.000 accuracy: 1.000 [after 14 batches]\n",
            "val loss: 3.144 accuracy: 0.600 [after 3 batches]\n"
          ]
        },
        {
          "data": {
            "application/vnd.jupyter.widget-view+json": {
              "model_id": "63b8447d38f240bbbce4182eb4324e46",
              "version_major": 2,
              "version_minor": 0
            },
            "text/plain": [
              "VBox(children=(Label(value='1.569 MB of 1.584 MB uploaded\\r'), FloatProgress(value=0.9908338697605016, max=1.0…"
            ]
          },
          "metadata": {},
          "output_type": "display_data"
        },
        {
          "data": {
            "text/html": [
              "<style>\n",
              "    table.wandb td:nth-child(1) { padding: 0 10px; text-align: left ; width: auto;} td:nth-child(2) {text-align: left ; width: 100%}\n",
              "    .wandb-row { display: flex; flex-direction: row; flex-wrap: wrap; justify-content: flex-start; width: 100% }\n",
              "    .wandb-col { display: flex; flex-direction: column; flex-basis: 100%; flex: 1; padding: 10px; }\n",
              "    </style>\n",
              "<div class=\"wandb-row\"><div class=\"wandb-col\"><h3>Run history:</h3><br/><table class=\"wandb\"><tr><td>epoch</td><td>▁▂▂▃▄▄▅▅▆▇▇█</td></tr><tr><td>step</td><td>▁▁▁▁▂▂▂▂▂▃▃▃▃▃▃▄▄▄▄▄▅▅▅▅▅▅▆▆▆▆▆▆▇▇▇▇▇███</td></tr><tr><td>train_accuracy</td><td>▁▁▄▅▄▇▄█▆█▇█████████████████████████████</td></tr><tr><td>train_loss</td><td>█▁▁▁▁▁▁▁▁▁▁▁▁▁▁▁▁▁▁▁▁▁▁▁▁▁▁▁▁▁▁▁▁▁▁▁▁▁▁▁</td></tr><tr><td>val_accuracy</td><td>▄▁▇▃▇▆██▇▇▇▇</td></tr><tr><td>val_f1</td><td>▅▁▇▅█▇▇█▇▆▇█</td></tr><tr><td>val_loss</td><td>▁▁▁█▂▄▃▃▄▄▄▃</td></tr><tr><td>val_precision</td><td>▄▁▆▃▇▆▇█▆▅▆▇</td></tr><tr><td>val_recall</td><td>█▁██▇█▆▆███▇</td></tr></table><br/></div><div class=\"wandb-col\"><h3>Run summary:</h3><br/><table class=\"wandb\"><tr><td>epoch</td><td>12</td></tr><tr><td>step</td><td>59</td></tr><tr><td>train_accuracy</td><td>1.0</td></tr><tr><td>train_loss</td><td>0.0</td></tr><tr><td>val_accuracy</td><td>0.5997</td></tr><tr><td>val_f1</td><td>0.71137</td></tr><tr><td>val_loss</td><td>3.14397</td></tr><tr><td>val_precision</td><td>0.55965</td></tr><tr><td>val_recall</td><td>0.9787</td></tr></table><br/></div></div>"
            ],
            "text/plain": [
              "<IPython.core.display.HTML object>"
            ]
          },
          "metadata": {},
          "output_type": "display_data"
        },
        {
          "data": {
            "text/html": [
              " View run <strong style=\"color:#cdcd00\">fallen-sweep-2--4</strong> at: <a href='https://wandb.ai/aiuis/ai-1-project/runs/i4lz8zrr' target=\"_blank\">https://wandb.ai/aiuis/ai-1-project/runs/i4lz8zrr</a><br/> View project at: <a href='https://wandb.ai/aiuis/ai-1-project' target=\"_blank\">https://wandb.ai/aiuis/ai-1-project</a><br/>Synced 5 W&B file(s), 0 media file(s), 0 artifact file(s) and 1 other file(s)"
            ],
            "text/plain": [
              "<IPython.core.display.HTML object>"
            ]
          },
          "metadata": {},
          "output_type": "display_data"
        },
        {
          "data": {
            "text/html": [
              "Find logs at: <code>../models/wandb/run-20240601_034810-i4lz8zrr/logs</code>"
            ],
            "text/plain": [
              "<IPython.core.display.HTML object>"
            ]
          },
          "metadata": {},
          "output_type": "display_data"
        },
        {
          "data": {
            "text/html": [
              "Tracking run with wandb version 0.17.0"
            ],
            "text/plain": [
              "<IPython.core.display.HTML object>"
            ]
          },
          "metadata": {},
          "output_type": "display_data"
        },
        {
          "data": {
            "text/html": [
              "Run data is saved locally in <code>../models/wandb/run-20240601_035556-afu06vhk</code>"
            ],
            "text/plain": [
              "<IPython.core.display.HTML object>"
            ]
          },
          "metadata": {},
          "output_type": "display_data"
        },
        {
          "data": {
            "text/html": [
              "Syncing run <strong><a href='https://wandb.ai/aiuis/ai-1-project/runs/afu06vhk' target=\"_blank\">fallen-sweep-2--5</a></strong> to <a href='https://wandb.ai/aiuis/ai-1-project' target=\"_blank\">Weights & Biases</a> (<a href='https://wandb.me/run' target=\"_blank\">docs</a>)<br/>"
            ],
            "text/plain": [
              "<IPython.core.display.HTML object>"
            ]
          },
          "metadata": {},
          "output_type": "display_data"
        },
        {
          "data": {
            "text/html": [
              " View project at <a href='https://wandb.ai/aiuis/ai-1-project' target=\"_blank\">https://wandb.ai/aiuis/ai-1-project</a>"
            ],
            "text/plain": [
              "<IPython.core.display.HTML object>"
            ]
          },
          "metadata": {},
          "output_type": "display_data"
        },
        {
          "data": {
            "text/html": [
              " View run at <a href='https://wandb.ai/aiuis/ai-1-project/runs/afu06vhk' target=\"_blank\">https://wandb.ai/aiuis/ai-1-project/runs/afu06vhk</a>"
            ],
            "text/plain": [
              "<IPython.core.display.HTML object>"
            ]
          },
          "metadata": {},
          "output_type": "display_data"
        },
        {
          "name": "stdout",
          "output_type": "stream",
          "text": [
            "ConvNet(\n",
            "  (layer1): Sequential(\n",
            "    (0): Conv3d(1, 32, kernel_size=(5, 5, 5), stride=(1, 1, 1), padding=(2, 2, 2))\n",
            "    (1): ReLU()\n",
            "    (2): MaxPool3d(kernel_size=2, stride=2, padding=0, dilation=1, ceil_mode=False)\n",
            "  )\n",
            "  (layer2): Sequential(\n",
            "    (0): Conv3d(32, 64, kernel_size=(5, 5, 5), stride=(1, 1, 1), padding=(2, 2, 2))\n",
            "    (1): ReLU()\n",
            "    (2): MaxPool3d(kernel_size=2, stride=2, padding=0, dilation=1, ceil_mode=False)\n",
            "  )\n",
            "  (fc): Linear(in_features=150528, out_features=1, bias=True)\n",
            ")\n",
            "FOLD 6\n",
            "--------------------------------\n",
            "Epoch 1\n",
            "-------------------------------\n",
            "train loss: 36.684 accuracy: 0.547 [after 2 batches]\n",
            "train loss: 0.988 accuracy: 0.531 [after 5 batches]\n",
            "train loss: 0.693 accuracy: 0.422 [after 8 batches]\n",
            "train loss: 0.693 accuracy: 0.531 [after 11 batches]\n",
            "train loss: 0.693 accuracy: 0.436 [after 14 batches]\n",
            "val loss: 0.693 accuracy: 0.500 [after 3 batches]\n",
            "Epoch 2\n",
            "-------------------------------\n",
            "train loss: 0.692 accuracy: 0.422 [after 2 batches]\n",
            "train loss: 0.693 accuracy: 0.500 [after 5 batches]\n",
            "train loss: 0.692 accuracy: 0.406 [after 8 batches]\n",
            "train loss: 0.694 accuracy: 0.578 [after 11 batches]\n",
            "train loss: 0.693 accuracy: 0.487 [after 14 batches]\n",
            "val loss: 0.693 accuracy: 0.520 [after 3 batches]\n",
            "Epoch 3\n",
            "-------------------------------\n",
            "train loss: 0.691 accuracy: 0.375 [after 2 batches]\n",
            "train loss: 0.693 accuracy: 0.469 [after 5 batches]\n",
            "train loss: 0.693 accuracy: 0.484 [after 8 batches]\n",
            "train loss: 0.693 accuracy: 0.484 [after 11 batches]\n",
            "train loss: 0.692 accuracy: 0.436 [after 14 batches]\n",
            "val loss: 0.693 accuracy: 0.487 [after 3 batches]\n",
            "Epoch 4\n",
            "-------------------------------\n",
            "train loss: 0.692 accuracy: 0.438 [after 2 batches]\n",
            "train loss: 0.692 accuracy: 0.375 [after 5 batches]\n",
            "train loss: 0.694 accuracy: 0.547 [after 8 batches]\n",
            "train loss: 0.693 accuracy: 0.453 [after 11 batches]\n",
            "train loss: 0.693 accuracy: 0.513 [after 14 batches]\n",
            "val loss: 0.693 accuracy: 0.453 [after 3 batches]\n",
            "Epoch 5\n",
            "-------------------------------\n",
            "train loss: 0.693 accuracy: 0.438 [after 2 batches]\n",
            "train loss: 0.693 accuracy: 0.469 [after 5 batches]\n",
            "train loss: 0.693 accuracy: 0.453 [after 8 batches]\n",
            "train loss: 0.692 accuracy: 0.391 [after 11 batches]\n",
            "train loss: 0.693 accuracy: 0.462 [after 14 batches]\n",
            "val loss: 0.693 accuracy: 0.527 [after 3 batches]\n",
            "Epoch 6\n",
            "-------------------------------\n",
            "train loss: 0.693 accuracy: 0.516 [after 2 batches]\n",
            "train loss: 0.694 accuracy: 0.578 [after 5 batches]\n",
            "train loss: 0.693 accuracy: 0.516 [after 8 batches]\n",
            "train loss: 0.693 accuracy: 0.484 [after 11 batches]\n",
            "train loss: 0.694 accuracy: 0.615 [after 14 batches]\n",
            "val loss: 0.693 accuracy: 0.540 [after 3 batches]\n",
            "Epoch 7\n",
            "-------------------------------\n",
            "train loss: 0.693 accuracy: 0.500 [after 2 batches]\n",
            "train loss: 0.694 accuracy: 0.625 [after 5 batches]\n",
            "train loss: 0.693 accuracy: 0.406 [after 8 batches]\n",
            "train loss: 0.693 accuracy: 0.547 [after 11 batches]\n",
            "train loss: 0.693 accuracy: 0.359 [after 14 batches]\n",
            "val loss: 0.693 accuracy: 0.513 [after 3 batches]\n",
            "Epoch 8\n",
            "-------------------------------\n",
            "train loss: 0.693 accuracy: 0.469 [after 2 batches]\n",
            "train loss: 0.693 accuracy: 0.500 [after 5 batches]\n",
            "train loss: 0.693 accuracy: 0.391 [after 8 batches]\n",
            "train loss: 0.693 accuracy: 0.500 [after 11 batches]\n",
            "train loss: 0.694 accuracy: 0.590 [after 14 batches]\n",
            "val loss: 0.693 accuracy: 0.473 [after 3 batches]\n",
            "Epoch 9\n",
            "-------------------------------\n",
            "train loss: 0.693 accuracy: 0.516 [after 2 batches]\n",
            "train loss: 0.693 accuracy: 0.453 [after 5 batches]\n",
            "train loss: 0.693 accuracy: 0.531 [after 8 batches]\n",
            "train loss: 0.693 accuracy: 0.516 [after 11 batches]\n",
            "train loss: 0.693 accuracy: 0.487 [after 14 batches]\n",
            "val loss: 0.693 accuracy: 0.507 [after 3 batches]\n",
            "Epoch 10\n",
            "-------------------------------\n",
            "train loss: 0.693 accuracy: 0.469 [after 2 batches]\n",
            "train loss: 0.693 accuracy: 0.422 [after 5 batches]\n",
            "train loss: 0.693 accuracy: 0.562 [after 8 batches]\n",
            "train loss: 0.693 accuracy: 0.469 [after 11 batches]\n",
            "train loss: 0.693 accuracy: 0.462 [after 14 batches]\n",
            "val loss: 0.693 accuracy: 0.513 [after 3 batches]\n",
            "Epoch 11\n",
            "-------------------------------\n",
            "train loss: 0.693 accuracy: 0.531 [after 2 batches]\n",
            "train loss: 0.693 accuracy: 0.500 [after 5 batches]\n",
            "train loss: 0.694 accuracy: 0.406 [after 8 batches]\n",
            "train loss: 0.693 accuracy: 0.469 [after 11 batches]\n",
            "train loss: 0.693 accuracy: 0.667 [after 14 batches]\n",
            "val loss: 0.693 accuracy: 0.493 [after 3 batches]\n",
            "Epoch 12\n",
            "-------------------------------\n",
            "train loss: 0.693 accuracy: 0.562 [after 2 batches]\n",
            "train loss: 0.693 accuracy: 0.500 [after 5 batches]\n",
            "train loss: 0.693 accuracy: 0.484 [after 8 batches]\n",
            "train loss: 0.694 accuracy: 0.469 [after 11 batches]\n",
            "train loss: 0.692 accuracy: 0.590 [after 14 batches]\n",
            "val loss: 0.693 accuracy: 0.480 [after 3 batches]\n",
            "Epoch 13\n",
            "-------------------------------\n",
            "train loss: 0.693 accuracy: 0.469 [after 2 batches]\n",
            "train loss: 0.693 accuracy: 0.484 [after 5 batches]\n",
            "train loss: 0.693 accuracy: 0.531 [after 8 batches]\n",
            "train loss: 0.693 accuracy: 0.578 [after 11 batches]\n",
            "train loss: 0.693 accuracy: 0.590 [after 14 batches]\n",
            "val loss: 0.693 accuracy: 0.520 [after 3 batches]\n",
            "Epoch 14\n",
            "-------------------------------\n",
            "train loss: 0.693 accuracy: 0.578 [after 2 batches]\n",
            "train loss: 0.693 accuracy: 0.500 [after 5 batches]\n",
            "train loss: 0.693 accuracy: 0.500 [after 8 batches]\n",
            "train loss: 0.693 accuracy: 0.500 [after 11 batches]\n",
            "train loss: 0.692 accuracy: 0.590 [after 14 batches]\n",
            "val loss: 0.693 accuracy: 0.507 [after 3 batches]\n"
          ]
        },
        {
          "data": {
            "application/vnd.jupyter.widget-view+json": {
              "model_id": "cbc828fc02944bc1b2c04c0405d7943b",
              "version_major": 2,
              "version_minor": 0
            },
            "text/plain": [
              "VBox(children=(Label(value='1.569 MB of 1.569 MB uploaded\\r'), FloatProgress(value=1.0, max=1.0)))"
            ]
          },
          "metadata": {},
          "output_type": "display_data"
        },
        {
          "data": {
            "text/html": [
              "<style>\n",
              "    table.wandb td:nth-child(1) { padding: 0 10px; text-align: left ; width: auto;} td:nth-child(2) {text-align: left ; width: 100%}\n",
              "    .wandb-row { display: flex; flex-direction: row; flex-wrap: wrap; justify-content: flex-start; width: 100% }\n",
              "    .wandb-col { display: flex; flex-direction: column; flex-basis: 100%; flex: 1; padding: 10px; }\n",
              "    </style>\n",
              "<div class=\"wandb-row\"><div class=\"wandb-col\"><h3>Run history:</h3><br/><table class=\"wandb\"><tr><td>epoch</td><td>▁▂▂▃▃▄▄▅▅▆▆▇▇█</td></tr><tr><td>step</td><td>▁▁▁▂▂▂▂▂▂▃▃▃▃▃▃▄▄▄▄▄▅▅▅▅▅▅▆▆▆▆▆▆▇▇▇▇▇███</td></tr><tr><td>train_accuracy</td><td>▅▅▅▂▂▆▁▄▂▂▅▄▃▁▃▆▄▄▇▅▃▁▄▄▅▄▂▅▃▄▃█▄▃▃▄▆▆▄▆</td></tr><tr><td>train_loss</td><td>█▁▁▁▁▁▁▁▁▁▁▁▁▁▁▁▁▁▁▁▁▁▁▁▁▁▁▁▁▁▁▁▁▁▁▁▁▁▁▁</td></tr><tr><td>val_accuracy</td><td>▅▆▄▁▇█▆▃▅▆▄▃▆▅</td></tr><tr><td>val_f1</td><td>▁▁▁▁▁▁▁▁▁▁▁▁▁▁</td></tr><tr><td>val_loss</td><td>▅█▃▁▇▇▅▃▅▄▅▇▄▄</td></tr><tr><td>val_precision</td><td>▁▁▁▁▁▁▁▁▁▁▁▁▁▁</td></tr><tr><td>val_recall</td><td>▁▁▁▁▁▁▁▁▁▁▁▁▁▁</td></tr></table><br/></div><div class=\"wandb-col\"><h3>Run summary:</h3><br/><table class=\"wandb\"><tr><td>epoch</td><td>14</td></tr><tr><td>step</td><td>69</td></tr><tr><td>train_accuracy</td><td>0.58974</td></tr><tr><td>train_loss</td><td>0.69247</td></tr><tr><td>val_accuracy</td><td>0.5067</td></tr><tr><td>val_f1</td><td>0.0</td></tr><tr><td>val_loss</td><td>0.6931</td></tr><tr><td>val_precision</td><td>0.0</td></tr><tr><td>val_recall</td><td>0.0</td></tr></table><br/></div></div>"
            ],
            "text/plain": [
              "<IPython.core.display.HTML object>"
            ]
          },
          "metadata": {},
          "output_type": "display_data"
        },
        {
          "data": {
            "text/html": [
              " View run <strong style=\"color:#cdcd00\">fallen-sweep-2--5</strong> at: <a href='https://wandb.ai/aiuis/ai-1-project/runs/afu06vhk' target=\"_blank\">https://wandb.ai/aiuis/ai-1-project/runs/afu06vhk</a><br/> View project at: <a href='https://wandb.ai/aiuis/ai-1-project' target=\"_blank\">https://wandb.ai/aiuis/ai-1-project</a><br/>Synced 5 W&B file(s), 0 media file(s), 0 artifact file(s) and 1 other file(s)"
            ],
            "text/plain": [
              "<IPython.core.display.HTML object>"
            ]
          },
          "metadata": {},
          "output_type": "display_data"
        },
        {
          "data": {
            "text/html": [
              "Find logs at: <code>../models/wandb/run-20240601_035556-afu06vhk/logs</code>"
            ],
            "text/plain": [
              "<IPython.core.display.HTML object>"
            ]
          },
          "metadata": {},
          "output_type": "display_data"
        },
        {
          "data": {
            "text/html": [
              "Tracking run with wandb version 0.17.0"
            ],
            "text/plain": [
              "<IPython.core.display.HTML object>"
            ]
          },
          "metadata": {},
          "output_type": "display_data"
        },
        {
          "data": {
            "text/html": [
              "Run data is saved locally in <code>../models/wandb/run-20240601_040525-sl9a4th6</code>"
            ],
            "text/plain": [
              "<IPython.core.display.HTML object>"
            ]
          },
          "metadata": {},
          "output_type": "display_data"
        },
        {
          "data": {
            "text/html": [
              "Syncing run <strong><a href='https://wandb.ai/aiuis/ai-1-project/runs/sl9a4th6' target=\"_blank\">fallen-sweep-2--6</a></strong> to <a href='https://wandb.ai/aiuis/ai-1-project' target=\"_blank\">Weights & Biases</a> (<a href='https://wandb.me/run' target=\"_blank\">docs</a>)<br/>"
            ],
            "text/plain": [
              "<IPython.core.display.HTML object>"
            ]
          },
          "metadata": {},
          "output_type": "display_data"
        },
        {
          "data": {
            "text/html": [
              " View project at <a href='https://wandb.ai/aiuis/ai-1-project' target=\"_blank\">https://wandb.ai/aiuis/ai-1-project</a>"
            ],
            "text/plain": [
              "<IPython.core.display.HTML object>"
            ]
          },
          "metadata": {},
          "output_type": "display_data"
        },
        {
          "data": {
            "text/html": [
              " View run at <a href='https://wandb.ai/aiuis/ai-1-project/runs/sl9a4th6' target=\"_blank\">https://wandb.ai/aiuis/ai-1-project/runs/sl9a4th6</a>"
            ],
            "text/plain": [
              "<IPython.core.display.HTML object>"
            ]
          },
          "metadata": {},
          "output_type": "display_data"
        },
        {
          "name": "stdout",
          "output_type": "stream",
          "text": [
            "ConvNet(\n",
            "  (layer1): Sequential(\n",
            "    (0): Conv3d(1, 32, kernel_size=(5, 5, 5), stride=(1, 1, 1), padding=(2, 2, 2))\n",
            "    (1): ReLU()\n",
            "    (2): MaxPool3d(kernel_size=2, stride=2, padding=0, dilation=1, ceil_mode=False)\n",
            "  )\n",
            "  (layer2): Sequential(\n",
            "    (0): Conv3d(32, 64, kernel_size=(5, 5, 5), stride=(1, 1, 1), padding=(2, 2, 2))\n",
            "    (1): ReLU()\n",
            "    (2): MaxPool3d(kernel_size=2, stride=2, padding=0, dilation=1, ceil_mode=False)\n",
            "  )\n",
            "  (fc): Linear(in_features=150528, out_features=1, bias=True)\n",
            ")\n",
            "FOLD 7\n",
            "--------------------------------\n",
            "Epoch 1\n",
            "-------------------------------\n",
            "train loss: 49.100 accuracy: 0.391 [after 2 batches]\n",
            "train loss: 0.593 accuracy: 0.734 [after 5 batches]\n",
            "train loss: 0.865 accuracy: 0.562 [after 8 batches]\n",
            "train loss: 0.671 accuracy: 0.609 [after 11 batches]\n",
            "train loss: 0.687 accuracy: 0.500 [after 14 batches]\n",
            "val loss: 0.706 accuracy: 0.485 [after 3 batches]\n",
            "Epoch 2\n",
            "-------------------------------\n",
            "train loss: 0.693 accuracy: 0.500 [after 2 batches]\n",
            "train loss: 0.675 accuracy: 0.500 [after 5 batches]\n",
            "train loss: 0.698 accuracy: 0.469 [after 8 batches]\n",
            "train loss: 0.649 accuracy: 0.625 [after 11 batches]\n",
            "train loss: 0.638 accuracy: 0.525 [after 14 batches]\n",
            "val loss: 1.024 accuracy: 0.492 [after 3 batches]\n",
            "Epoch 3\n",
            "-------------------------------\n",
            "train loss: 0.641 accuracy: 0.547 [after 2 batches]\n",
            "train loss: 0.631 accuracy: 0.562 [after 5 batches]\n",
            "train loss: 0.633 accuracy: 0.562 [after 8 batches]\n",
            "train loss: 0.601 accuracy: 0.688 [after 11 batches]\n",
            "train loss: 0.601 accuracy: 0.700 [after 14 batches]\n",
            "val loss: 1.194 accuracy: 0.106 [after 3 batches]\n",
            "Epoch 4\n",
            "-------------------------------\n",
            "train loss: 0.609 accuracy: 0.578 [after 2 batches]\n",
            "train loss: 0.554 accuracy: 0.750 [after 5 batches]\n",
            "train loss: 0.510 accuracy: 0.734 [after 8 batches]\n",
            "train loss: 0.618 accuracy: 0.500 [after 11 batches]\n",
            "train loss: 0.512 accuracy: 0.825 [after 14 batches]\n",
            "val loss: 1.086 accuracy: 0.113 [after 3 batches]\n",
            "Epoch 5\n",
            "-------------------------------\n",
            "train loss: 0.474 accuracy: 0.797 [after 2 batches]\n",
            "train loss: 0.551 accuracy: 0.625 [after 5 batches]\n",
            "train loss: 0.407 accuracy: 0.906 [after 8 batches]\n",
            "train loss: 0.474 accuracy: 0.781 [after 11 batches]\n",
            "train loss: 0.631 accuracy: 0.700 [after 14 batches]\n",
            "val loss: 1.294 accuracy: 0.251 [after 3 batches]\n",
            "Epoch 6\n",
            "-------------------------------\n",
            "train loss: 0.475 accuracy: 0.875 [after 2 batches]\n",
            "train loss: 0.433 accuracy: 0.922 [after 5 batches]\n",
            "train loss: 0.465 accuracy: 0.750 [after 8 batches]\n",
            "train loss: 0.360 accuracy: 0.969 [after 11 batches]\n",
            "train loss: 0.339 accuracy: 0.925 [after 14 batches]\n",
            "val loss: 2.264 accuracy: 0.337 [after 3 batches]\n",
            "Epoch 7\n",
            "-------------------------------\n",
            "train loss: 0.333 accuracy: 0.938 [after 2 batches]\n",
            "train loss: 0.347 accuracy: 0.969 [after 5 batches]\n",
            "train loss: 0.292 accuracy: 0.953 [after 8 batches]\n",
            "train loss: 0.289 accuracy: 0.953 [after 11 batches]\n",
            "train loss: 0.346 accuracy: 0.850 [after 14 batches]\n",
            "val loss: 1.880 accuracy: 0.358 [after 3 batches]\n",
            "Epoch 8\n",
            "-------------------------------\n",
            "train loss: 0.240 accuracy: 0.984 [after 2 batches]\n",
            "train loss: 0.338 accuracy: 0.875 [after 5 batches]\n",
            "train loss: 0.154 accuracy: 0.953 [after 8 batches]\n",
            "train loss: 0.278 accuracy: 0.922 [after 11 batches]\n",
            "train loss: 0.221 accuracy: 0.850 [after 14 batches]\n",
            "val loss: 1.560 accuracy: 0.114 [after 3 batches]\n",
            "Epoch 9\n",
            "-------------------------------\n",
            "train loss: 0.210 accuracy: 0.938 [after 2 batches]\n",
            "train loss: 0.150 accuracy: 0.953 [after 5 batches]\n",
            "train loss: 1.201 accuracy: 0.734 [after 8 batches]\n",
            "train loss: 0.775 accuracy: 0.688 [after 11 batches]\n",
            "train loss: 0.380 accuracy: 0.875 [after 14 batches]\n",
            "val loss: 0.737 accuracy: 0.534 [after 3 batches]\n",
            "Epoch 10\n",
            "-------------------------------\n",
            "train loss: 0.730 accuracy: 0.531 [after 2 batches]\n",
            "train loss: 0.737 accuracy: 0.484 [after 5 batches]\n",
            "train loss: 0.728 accuracy: 0.500 [after 8 batches]\n",
            "train loss: 0.743 accuracy: 0.469 [after 11 batches]\n",
            "train loss: 0.713 accuracy: 0.525 [after 14 batches]\n",
            "val loss: 0.724 accuracy: 0.501 [after 3 batches]\n",
            "Epoch 11\n",
            "-------------------------------\n",
            "train loss: 0.716 accuracy: 0.484 [after 2 batches]\n",
            "train loss: 0.707 accuracy: 0.469 [after 5 batches]\n",
            "train loss: 0.727 accuracy: 0.516 [after 8 batches]\n",
            "train loss: 0.655 accuracy: 0.359 [after 11 batches]\n",
            "train loss: 0.737 accuracy: 0.550 [after 14 batches]\n",
            "val loss: 0.715 accuracy: 0.499 [after 3 batches]\n",
            "Epoch 12\n",
            "-------------------------------\n",
            "train loss: 0.720 accuracy: 0.516 [after 2 batches]\n",
            "train loss: 0.724 accuracy: 0.531 [after 5 batches]\n",
            "train loss: 0.710 accuracy: 0.500 [after 8 batches]\n",
            "train loss: 0.686 accuracy: 0.438 [after 11 batches]\n",
            "train loss: 0.698 accuracy: 0.475 [after 14 batches]\n",
            "val loss: 0.713 accuracy: 0.520 [after 3 batches]\n",
            "Epoch 13\n",
            "-------------------------------\n",
            "train loss: 0.710 accuracy: 0.516 [after 2 batches]\n",
            "train loss: 0.709 accuracy: 0.516 [after 5 batches]\n",
            "train loss: 0.734 accuracy: 0.609 [after 8 batches]\n",
            "train loss: 0.698 accuracy: 0.484 [after 11 batches]\n",
            "train loss: 0.688 accuracy: 0.450 [after 14 batches]\n",
            "val loss: 0.694 accuracy: 0.470 [after 3 batches]\n"
          ]
        },
        {
          "data": {
            "application/vnd.jupyter.widget-view+json": {
              "model_id": "1bf67e3af04f4c5e9506c0d79eb068ab",
              "version_major": 2,
              "version_minor": 0
            },
            "text/plain": [
              "VBox(children=(Label(value='1.569 MB of 1.594 MB uploaded\\r'), FloatProgress(value=0.9845360084532897, max=1.0…"
            ]
          },
          "metadata": {},
          "output_type": "display_data"
        },
        {
          "data": {
            "text/html": [
              "<style>\n",
              "    table.wandb td:nth-child(1) { padding: 0 10px; text-align: left ; width: auto;} td:nth-child(2) {text-align: left ; width: 100%}\n",
              "    .wandb-row { display: flex; flex-direction: row; flex-wrap: wrap; justify-content: flex-start; width: 100% }\n",
              "    .wandb-col { display: flex; flex-direction: column; flex-basis: 100%; flex: 1; padding: 10px; }\n",
              "    </style>\n",
              "<div class=\"wandb-row\"><div class=\"wandb-col\"><h3>Run history:</h3><br/><table class=\"wandb\"><tr><td>epoch</td><td>▁▂▂▃▃▄▅▅▆▆▇▇█</td></tr><tr><td>step</td><td>▁▁▁▁▂▂▂▂▂▃▃▃▃▃▃▄▄▄▄▄▅▅▅▅▅▅▆▆▆▆▆▆▇▇▇▇▇███</td></tr><tr><td>train_accuracy</td><td>▁▅▄▂▂▄▃▃▅▅▅▂▆▄▇▅▇▅▇██▇▇█▇█▅▇▃▂▃▂▃▃▃▂▂▃▄▂</td></tr><tr><td>train_loss</td><td>█▁▁▁▁▁▁▁▁▁▁▁▁▁▁▁▁▁▁▁▁▁▁▁▁▁▁▁▁▁▁▁▁▁▁▁▁▁▁▁</td></tr><tr><td>val_accuracy</td><td>▇▇▁▁▃▅▅▁█▇▇█▇</td></tr><tr><td>val_f1</td><td>▁▁▁▁▁▁▁▁▆█▁▁▁</td></tr><tr><td>val_loss</td><td>▁▂▃▃▄█▆▅▁▁▁▁▁</td></tr><tr><td>val_precision</td><td>▁▁▁▁▁▁▁▁▆█▁▁▁</td></tr><tr><td>val_recall</td><td>▁▁▁▁▁▁▁▁▅█▁▁▁</td></tr></table><br/></div><div class=\"wandb-col\"><h3>Run summary:</h3><br/><table class=\"wandb\"><tr><td>epoch</td><td>13</td></tr><tr><td>step</td><td>64</td></tr><tr><td>train_accuracy</td><td>0.45</td></tr><tr><td>train_loss</td><td>0.68848</td></tr><tr><td>val_accuracy</td><td>0.47049</td></tr><tr><td>val_f1</td><td>0.0</td></tr><tr><td>val_loss</td><td>0.69352</td></tr><tr><td>val_precision</td><td>0.0</td></tr><tr><td>val_recall</td><td>0.0</td></tr></table><br/></div></div>"
            ],
            "text/plain": [
              "<IPython.core.display.HTML object>"
            ]
          },
          "metadata": {},
          "output_type": "display_data"
        },
        {
          "data": {
            "text/html": [
              " View run <strong style=\"color:#cdcd00\">fallen-sweep-2--6</strong> at: <a href='https://wandb.ai/aiuis/ai-1-project/runs/sl9a4th6' target=\"_blank\">https://wandb.ai/aiuis/ai-1-project/runs/sl9a4th6</a><br/> View project at: <a href='https://wandb.ai/aiuis/ai-1-project' target=\"_blank\">https://wandb.ai/aiuis/ai-1-project</a><br/>Synced 5 W&B file(s), 0 media file(s), 0 artifact file(s) and 1 other file(s)"
            ],
            "text/plain": [
              "<IPython.core.display.HTML object>"
            ]
          },
          "metadata": {},
          "output_type": "display_data"
        },
        {
          "data": {
            "text/html": [
              "Find logs at: <code>../models/wandb/run-20240601_040525-sl9a4th6/logs</code>"
            ],
            "text/plain": [
              "<IPython.core.display.HTML object>"
            ]
          },
          "metadata": {},
          "output_type": "display_data"
        },
        {
          "data": {
            "text/html": [
              "Tracking run with wandb version 0.17.0"
            ],
            "text/plain": [
              "<IPython.core.display.HTML object>"
            ]
          },
          "metadata": {},
          "output_type": "display_data"
        },
        {
          "data": {
            "text/html": [
              "Run data is saved locally in <code>../models/wandb/run-20240601_041405-sicjy8w8</code>"
            ],
            "text/plain": [
              "<IPython.core.display.HTML object>"
            ]
          },
          "metadata": {},
          "output_type": "display_data"
        },
        {
          "data": {
            "text/html": [
              "Resuming run <strong><a href='https://wandb.ai/aiuis/ai-1-project/runs/sicjy8w8' target=\"_blank\">fallen-sweep-2</a></strong> to <a href='https://wandb.ai/aiuis/ai-1-project' target=\"_blank\">Weights & Biases</a> (<a href='https://wandb.me/run' target=\"_blank\">docs</a>)<br/>Sweep page: <a href='https://wandb.ai/aiuis/ai-1-project/sweeps/okv6gisv' target=\"_blank\">https://wandb.ai/aiuis/ai-1-project/sweeps/okv6gisv</a>"
            ],
            "text/plain": [
              "<IPython.core.display.HTML object>"
            ]
          },
          "metadata": {},
          "output_type": "display_data"
        },
        {
          "data": {
            "text/html": [
              " View project at <a href='https://wandb.ai/aiuis/ai-1-project' target=\"_blank\">https://wandb.ai/aiuis/ai-1-project</a>"
            ],
            "text/plain": [
              "<IPython.core.display.HTML object>"
            ]
          },
          "metadata": {},
          "output_type": "display_data"
        },
        {
          "data": {
            "text/html": [
              " View sweep at <a href='https://wandb.ai/aiuis/ai-1-project/sweeps/okv6gisv' target=\"_blank\">https://wandb.ai/aiuis/ai-1-project/sweeps/okv6gisv</a>"
            ],
            "text/plain": [
              "<IPython.core.display.HTML object>"
            ]
          },
          "metadata": {},
          "output_type": "display_data"
        },
        {
          "data": {
            "text/html": [
              " View run at <a href='https://wandb.ai/aiuis/ai-1-project/runs/sicjy8w8' target=\"_blank\">https://wandb.ai/aiuis/ai-1-project/runs/sicjy8w8</a>"
            ],
            "text/plain": [
              "<IPython.core.display.HTML object>"
            ]
          },
          "metadata": {},
          "output_type": "display_data"
        },
        {
          "data": {
            "application/vnd.jupyter.widget-view+json": {
              "model_id": "28aca04668494c8c871e5d5780b6fd1f",
              "version_major": 2,
              "version_minor": 0
            },
            "text/plain": [
              "VBox(children=(Label(value='0.010 MB of 0.010 MB uploaded\\r'), FloatProgress(value=1.0, max=1.0)))"
            ]
          },
          "metadata": {},
          "output_type": "display_data"
        },
        {
          "data": {
            "text/html": [
              "<style>\n",
              "    table.wandb td:nth-child(1) { padding: 0 10px; text-align: left ; width: auto;} td:nth-child(2) {text-align: left ; width: 100%}\n",
              "    .wandb-row { display: flex; flex-direction: row; flex-wrap: wrap; justify-content: flex-start; width: 100% }\n",
              "    .wandb-col { display: flex; flex-direction: column; flex-basis: 100%; flex: 1; padding: 10px; }\n",
              "    </style>\n",
              "<div class=\"wandb-row\"><div class=\"wandb-col\"><h3>Run history:</h3><br/><table class=\"wandb\"><tr><td>val_accuracy</td><td>▁</td></tr><tr><td>val_f1_score</td><td>▁</td></tr><tr><td>val_precision</td><td>▁</td></tr><tr><td>val_recall</td><td>▁</td></tr></table><br/></div><div class=\"wandb-col\"><h3>Run summary:</h3><br/><table class=\"wandb\"><tr><td>val_accuracy</td><td>0.54803</td></tr><tr><td>val_f1_score</td><td>0.20418</td></tr><tr><td>val_precision</td><td>0.28025</td></tr><tr><td>val_recall</td><td>0.23108</td></tr></table><br/></div></div>"
            ],
            "text/plain": [
              "<IPython.core.display.HTML object>"
            ]
          },
          "metadata": {},
          "output_type": "display_data"
        },
        {
          "data": {
            "text/html": [
              " View run <strong style=\"color:#cdcd00\">fallen-sweep-2</strong> at: <a href='https://wandb.ai/aiuis/ai-1-project/runs/sicjy8w8' target=\"_blank\">https://wandb.ai/aiuis/ai-1-project/runs/sicjy8w8</a><br/> View project at: <a href='https://wandb.ai/aiuis/ai-1-project' target=\"_blank\">https://wandb.ai/aiuis/ai-1-project</a><br/>Synced 3 W&B file(s), 0 media file(s), 0 artifact file(s) and 0 other file(s)"
            ],
            "text/plain": [
              "<IPython.core.display.HTML object>"
            ]
          },
          "metadata": {},
          "output_type": "display_data"
        },
        {
          "data": {
            "text/html": [
              "Find logs at: <code>../models/wandb/run-20240601_041405-sicjy8w8/logs</code>"
            ],
            "text/plain": [
              "<IPython.core.display.HTML object>"
            ]
          },
          "metadata": {},
          "output_type": "display_data"
        },
        {
          "name": "stdout",
          "output_type": "stream",
          "text": [
            "****************************************\n",
            "Sweep URL:        https://wandb.ai/aiuis/ai-1-project/sweeps/okv6gisv\n",
            "Sweep Group URL:  https://wandb.ai/aiuis/ai-1-project/groups/okv6gisv\n",
            "****************************************\n"
          ]
        },
        {
          "name": "stderr",
          "output_type": "stream",
          "text": [
            "\u001b[34m\u001b[1mwandb\u001b[0m: Agent Starting Run: yea1ptwi with config:\n",
            "\u001b[34m\u001b[1mwandb\u001b[0m: \tarchitecture: CNN\n",
            "\u001b[34m\u001b[1mwandb\u001b[0m: \tbatch_size: 128\n",
            "\u001b[34m\u001b[1mwandb\u001b[0m: \tclasses: 1\n",
            "\u001b[34m\u001b[1mwandb\u001b[0m: \tdataset: ParkinsonVideo\n",
            "\u001b[34m\u001b[1mwandb\u001b[0m: \tepochs: 50\n",
            "\u001b[34m\u001b[1mwandb\u001b[0m: \tfeatures: [16, 32]\n",
            "\u001b[34m\u001b[1mwandb\u001b[0m: \tlearning_rate: 0.001\n",
            "\u001b[34m\u001b[1mwandb\u001b[0m: \toptimizer: sgd\n"
          ]
        },
        {
          "data": {
            "text/html": [
              "Tracking run with wandb version 0.17.0"
            ],
            "text/plain": [
              "<IPython.core.display.HTML object>"
            ]
          },
          "metadata": {},
          "output_type": "display_data"
        },
        {
          "data": {
            "text/html": [
              "Run data is saved locally in <code>../models/wandb/run-20240601_041418-yea1ptwi</code>"
            ],
            "text/plain": [
              "<IPython.core.display.HTML object>"
            ]
          },
          "metadata": {},
          "output_type": "display_data"
        },
        {
          "data": {
            "text/html": [
              "Syncing run <strong><a href='https://wandb.ai/aiuis/ai-1-project/runs/yea1ptwi' target=\"_blank\">ethereal-sweep-3</a></strong> to <a href='https://wandb.ai/aiuis/ai-1-project' target=\"_blank\">Weights & Biases</a> (<a href='https://wandb.me/run' target=\"_blank\">docs</a>)<br/>Sweep page: <a href='https://wandb.ai/aiuis/ai-1-project/sweeps/okv6gisv' target=\"_blank\">https://wandb.ai/aiuis/ai-1-project/sweeps/okv6gisv</a>"
            ],
            "text/plain": [
              "<IPython.core.display.HTML object>"
            ]
          },
          "metadata": {},
          "output_type": "display_data"
        },
        {
          "data": {
            "text/html": [
              " View project at <a href='https://wandb.ai/aiuis/ai-1-project' target=\"_blank\">https://wandb.ai/aiuis/ai-1-project</a>"
            ],
            "text/plain": [
              "<IPython.core.display.HTML object>"
            ]
          },
          "metadata": {},
          "output_type": "display_data"
        },
        {
          "data": {
            "text/html": [
              " View sweep at <a href='https://wandb.ai/aiuis/ai-1-project/sweeps/okv6gisv' target=\"_blank\">https://wandb.ai/aiuis/ai-1-project/sweeps/okv6gisv</a>"
            ],
            "text/plain": [
              "<IPython.core.display.HTML object>"
            ]
          },
          "metadata": {},
          "output_type": "display_data"
        },
        {
          "data": {
            "text/html": [
              " View run at <a href='https://wandb.ai/aiuis/ai-1-project/runs/yea1ptwi' target=\"_blank\">https://wandb.ai/aiuis/ai-1-project/runs/yea1ptwi</a>"
            ],
            "text/plain": [
              "<IPython.core.display.HTML object>"
            ]
          },
          "metadata": {},
          "output_type": "display_data"
        },
        {
          "data": {
            "application/vnd.jupyter.widget-view+json": {
              "model_id": "d4b76b6e89ab415f86e95e5ba70b4ec9",
              "version_major": 2,
              "version_minor": 0
            },
            "text/plain": [
              "VBox(children=(Label(value='0.011 MB of 0.011 MB uploaded\\r'), FloatProgress(value=1.0, max=1.0)))"
            ]
          },
          "metadata": {},
          "output_type": "display_data"
        },
        {
          "data": {
            "text/html": [
              " View run <strong style=\"color:#cdcd00\">ethereal-sweep-3</strong> at: <a href='https://wandb.ai/aiuis/ai-1-project/runs/yea1ptwi' target=\"_blank\">https://wandb.ai/aiuis/ai-1-project/runs/yea1ptwi</a><br/> View project at: <a href='https://wandb.ai/aiuis/ai-1-project' target=\"_blank\">https://wandb.ai/aiuis/ai-1-project</a><br/>Synced 4 W&B file(s), 0 media file(s), 0 artifact file(s) and 0 other file(s)"
            ],
            "text/plain": [
              "<IPython.core.display.HTML object>"
            ]
          },
          "metadata": {},
          "output_type": "display_data"
        },
        {
          "data": {
            "text/html": [
              "Find logs at: <code>../models/wandb/run-20240601_041418-yea1ptwi/logs</code>"
            ],
            "text/plain": [
              "<IPython.core.display.HTML object>"
            ]
          },
          "metadata": {},
          "output_type": "display_data"
        },
        {
          "data": {
            "text/html": [
              "Tracking run with wandb version 0.17.0"
            ],
            "text/plain": [
              "<IPython.core.display.HTML object>"
            ]
          },
          "metadata": {},
          "output_type": "display_data"
        },
        {
          "data": {
            "text/html": [
              "Run data is saved locally in <code>../models/wandb/run-20240601_041427-1n9h2uw3</code>"
            ],
            "text/plain": [
              "<IPython.core.display.HTML object>"
            ]
          },
          "metadata": {},
          "output_type": "display_data"
        },
        {
          "data": {
            "text/html": [
              "Syncing run <strong><a href='https://wandb.ai/aiuis/ai-1-project/runs/1n9h2uw3' target=\"_blank\">ethereal-sweep-3--0</a></strong> to <a href='https://wandb.ai/aiuis/ai-1-project' target=\"_blank\">Weights & Biases</a> (<a href='https://wandb.me/run' target=\"_blank\">docs</a>)<br/>"
            ],
            "text/plain": [
              "<IPython.core.display.HTML object>"
            ]
          },
          "metadata": {},
          "output_type": "display_data"
        },
        {
          "data": {
            "text/html": [
              " View project at <a href='https://wandb.ai/aiuis/ai-1-project' target=\"_blank\">https://wandb.ai/aiuis/ai-1-project</a>"
            ],
            "text/plain": [
              "<IPython.core.display.HTML object>"
            ]
          },
          "metadata": {},
          "output_type": "display_data"
        },
        {
          "data": {
            "text/html": [
              " View run at <a href='https://wandb.ai/aiuis/ai-1-project/runs/1n9h2uw3' target=\"_blank\">https://wandb.ai/aiuis/ai-1-project/runs/1n9h2uw3</a>"
            ],
            "text/plain": [
              "<IPython.core.display.HTML object>"
            ]
          },
          "metadata": {},
          "output_type": "display_data"
        },
        {
          "name": "stdout",
          "output_type": "stream",
          "text": [
            "ConvNet(\n",
            "  (layer1): Sequential(\n",
            "    (0): Conv3d(1, 16, kernel_size=(5, 5, 5), stride=(1, 1, 1), padding=(2, 2, 2))\n",
            "    (1): ReLU()\n",
            "    (2): MaxPool3d(kernel_size=2, stride=2, padding=0, dilation=1, ceil_mode=False)\n",
            "  )\n",
            "  (layer2): Sequential(\n",
            "    (0): Conv3d(16, 32, kernel_size=(5, 5, 5), stride=(1, 1, 1), padding=(2, 2, 2))\n",
            "    (1): ReLU()\n",
            "    (2): MaxPool3d(kernel_size=2, stride=2, padding=0, dilation=1, ceil_mode=False)\n",
            "  )\n",
            "  (fc): Linear(in_features=75264, out_features=1, bias=True)\n",
            ")\n",
            "FOLD 1\n",
            "--------------------------------\n",
            "Epoch 1\n",
            "-------------------------------\n",
            "train loss: 0.695 accuracy: 0.367 [after 1 batches]\n",
            "train loss: 0.693 accuracy: 0.516 [after 3 batches]\n",
            "train loss: 0.690 accuracy: 0.570 [after 5 batches]\n",
            "train loss: 0.685 accuracy: 0.462 [after 7 batches]\n",
            "val loss: 0.700 accuracy: 0.500 [after 2 batches]\n",
            "Epoch 2\n",
            "-------------------------------\n",
            "train loss: 0.685 accuracy: 0.508 [after 1 batches]\n",
            "train loss: 0.679 accuracy: 0.484 [after 3 batches]\n",
            "train loss: 0.676 accuracy: 0.516 [after 5 batches]\n",
            "train loss: 0.669 accuracy: 0.513 [after 7 batches]\n",
            "val loss: 0.697 accuracy: 0.486 [after 2 batches]\n",
            "Epoch 3\n",
            "-------------------------------\n",
            "train loss: 0.658 accuracy: 0.641 [after 1 batches]\n",
            "train loss: 0.654 accuracy: 0.891 [after 3 batches]\n",
            "train loss: 0.648 accuracy: 0.984 [after 5 batches]\n",
            "train loss: 0.639 accuracy: 1.000 [after 7 batches]\n",
            "val loss: 0.701 accuracy: 0.259 [after 2 batches]\n",
            "Epoch 4\n",
            "-------------------------------\n",
            "train loss: 0.625 accuracy: 0.984 [after 1 batches]\n",
            "train loss: 0.615 accuracy: 0.953 [after 3 batches]\n",
            "train loss: 0.590 accuracy: 0.961 [after 5 batches]\n",
            "train loss: 0.570 accuracy: 0.872 [after 7 batches]\n",
            "val loss: 0.702 accuracy: 0.219 [after 2 batches]\n",
            "Epoch 5\n",
            "-------------------------------\n",
            "train loss: 0.545 accuracy: 0.992 [after 1 batches]\n",
            "train loss: 0.500 accuracy: 0.992 [after 3 batches]\n",
            "train loss: 0.475 accuracy: 1.000 [after 5 batches]\n",
            "train loss: 0.404 accuracy: 1.000 [after 7 batches]\n",
            "val loss: 0.756 accuracy: 0.500 [after 2 batches]\n",
            "Epoch 6\n",
            "-------------------------------\n",
            "train loss: 0.381 accuracy: 0.891 [after 1 batches]\n",
            "train loss: 0.376 accuracy: 0.875 [after 3 batches]\n",
            "train loss: 0.308 accuracy: 0.805 [after 5 batches]\n",
            "train loss: 0.274 accuracy: 0.846 [after 7 batches]\n",
            "val loss: 0.642 accuracy: 0.724 [after 2 batches]\n",
            "Epoch 7\n",
            "-------------------------------\n",
            "train loss: 0.163 accuracy: 0.992 [after 1 batches]\n",
            "train loss: 0.131 accuracy: 0.992 [after 3 batches]\n",
            "train loss: 0.090 accuracy: 1.000 [after 5 batches]\n",
            "train loss: 0.132 accuracy: 1.000 [after 7 batches]\n",
            "val loss: 0.816 accuracy: 0.540 [after 2 batches]\n",
            "Epoch 8\n",
            "-------------------------------\n",
            "train loss: 0.058 accuracy: 0.992 [after 1 batches]\n",
            "train loss: 0.053 accuracy: 1.000 [after 3 batches]\n",
            "train loss: 0.046 accuracy: 1.000 [after 5 batches]\n",
            "train loss: 0.022 accuracy: 1.000 [after 7 batches]\n",
            "val loss: 1.163 accuracy: 0.522 [after 2 batches]\n",
            "Epoch 9\n",
            "-------------------------------\n",
            "train loss: 0.031 accuracy: 1.000 [after 1 batches]\n",
            "train loss: 0.028 accuracy: 0.992 [after 3 batches]\n",
            "train loss: 0.009 accuracy: 1.000 [after 5 batches]\n",
            "train loss: 0.046 accuracy: 1.000 [after 7 batches]\n",
            "val loss: 1.183 accuracy: 0.619 [after 2 batches]\n",
            "Epoch 10\n",
            "-------------------------------\n",
            "train loss: 0.033 accuracy: 1.000 [after 1 batches]\n",
            "train loss: 0.043 accuracy: 0.984 [after 3 batches]\n",
            "train loss: 0.007 accuracy: 1.000 [after 5 batches]\n",
            "train loss: 0.005 accuracy: 1.000 [after 7 batches]\n",
            "val loss: 0.753 accuracy: 0.645 [after 2 batches]\n",
            "Epoch 11\n",
            "-------------------------------\n",
            "train loss: 0.006 accuracy: 1.000 [after 1 batches]\n",
            "train loss: 0.010 accuracy: 1.000 [after 3 batches]\n",
            "train loss: 0.011 accuracy: 1.000 [after 5 batches]\n",
            "train loss: 0.022 accuracy: 0.974 [after 7 batches]\n",
            "val loss: 0.494 accuracy: 0.839 [after 2 batches]\n",
            "Epoch 12\n",
            "-------------------------------\n",
            "train loss: 0.006 accuracy: 1.000 [after 1 batches]\n",
            "train loss: 0.002 accuracy: 1.000 [after 3 batches]\n",
            "train loss: 0.014 accuracy: 1.000 [after 5 batches]\n",
            "train loss: 0.001 accuracy: 1.000 [after 7 batches]\n",
            "val loss: 0.407 accuracy: 0.920 [after 2 batches]\n",
            "Epoch 13\n",
            "-------------------------------\n",
            "train loss: 0.003 accuracy: 1.000 [after 1 batches]\n",
            "train loss: 0.005 accuracy: 1.000 [after 3 batches]\n",
            "train loss: 0.015 accuracy: 0.984 [after 5 batches]\n",
            "train loss: 0.002 accuracy: 1.000 [after 7 batches]\n",
            "val loss: 0.430 accuracy: 0.842 [after 2 batches]\n",
            "Epoch 14\n",
            "-------------------------------\n",
            "train loss: 0.016 accuracy: 0.984 [after 1 batches]\n",
            "train loss: 0.001 accuracy: 1.000 [after 3 batches]\n",
            "train loss: 0.009 accuracy: 1.000 [after 5 batches]\n",
            "train loss: 0.002 accuracy: 1.000 [after 7 batches]\n",
            "val loss: 0.456 accuracy: 0.809 [after 2 batches]\n"
          ]
        },
        {
          "data": {
            "application/vnd.jupyter.widget-view+json": {
              "model_id": "c764b1ed68be4a65b88bea403e0fec5c",
              "version_major": 2,
              "version_minor": 0
            },
            "text/plain": [
              "VBox(children=(Label(value='0.575 MB of 0.575 MB uploaded\\r'), FloatProgress(value=1.0, max=1.0)))"
            ]
          },
          "metadata": {},
          "output_type": "display_data"
        },
        {
          "data": {
            "text/html": [
              "<style>\n",
              "    table.wandb td:nth-child(1) { padding: 0 10px; text-align: left ; width: auto;} td:nth-child(2) {text-align: left ; width: 100%}\n",
              "    .wandb-row { display: flex; flex-direction: row; flex-wrap: wrap; justify-content: flex-start; width: 100% }\n",
              "    .wandb-col { display: flex; flex-direction: column; flex-basis: 100%; flex: 1; padding: 10px; }\n",
              "    </style>\n",
              "<div class=\"wandb-row\"><div class=\"wandb-col\"><h3>Run history:</h3><br/><table class=\"wandb\"><tr><td>epoch</td><td>▁▂▂▃▃▄▄▅▅▆▆▇▇█</td></tr><tr><td>step</td><td>▁▁▁▂▂▂▂▂▂▃▃▃▃▃▃▄▄▄▄▄▅▅▅▅▅▅▆▆▆▆▆▆▇▇▇▇▇███</td></tr><tr><td>train_accuracy</td><td>▁▃▃▃▂▃▄▇███▇███▇▆▆██████████████████████</td></tr><tr><td>train_loss</td><td>████████▇▇▇▇▆▆▅▅▄▄▂▂▂▂▁▁▁▁▁▁▁▁▁▁▁▁▁▁▁▁▁▁</td></tr><tr><td>val_accuracy</td><td>▄▄▁▁▄▆▄▄▅▅▇█▇▇</td></tr><tr><td>val_f1</td><td>▁▁▂▃▁▆▁▂▂▅▇█▇▆</td></tr><tr><td>val_loss</td><td>▄▄▄▄▄▃▅██▄▂▁▁▁</td></tr><tr><td>val_precision</td><td>▁▁▂▃▁█▅▅██████</td></tr><tr><td>val_recall</td><td>▁▁▂▄▁▅▁▂▂▄▇█▇▆</td></tr></table><br/></div><div class=\"wandb-col\"><h3>Run summary:</h3><br/><table class=\"wandb\"><tr><td>epoch</td><td>14</td></tr><tr><td>step</td><td>55</td></tr><tr><td>train_accuracy</td><td>1.0</td></tr><tr><td>train_loss</td><td>0.00187</td></tr><tr><td>val_accuracy</td><td>0.80859</td></tr><tr><td>val_f1</td><td>0.69402</td></tr><tr><td>val_loss</td><td>0.45554</td></tr><tr><td>val_precision</td><td>1.0</td></tr><tr><td>val_recall</td><td>0.55495</td></tr></table><br/></div></div>"
            ],
            "text/plain": [
              "<IPython.core.display.HTML object>"
            ]
          },
          "metadata": {},
          "output_type": "display_data"
        },
        {
          "data": {
            "text/html": [
              " View run <strong style=\"color:#cdcd00\">ethereal-sweep-3--0</strong> at: <a href='https://wandb.ai/aiuis/ai-1-project/runs/1n9h2uw3' target=\"_blank\">https://wandb.ai/aiuis/ai-1-project/runs/1n9h2uw3</a><br/> View project at: <a href='https://wandb.ai/aiuis/ai-1-project' target=\"_blank\">https://wandb.ai/aiuis/ai-1-project</a><br/>Synced 5 W&B file(s), 0 media file(s), 0 artifact file(s) and 1 other file(s)"
            ],
            "text/plain": [
              "<IPython.core.display.HTML object>"
            ]
          },
          "metadata": {},
          "output_type": "display_data"
        },
        {
          "data": {
            "text/html": [
              "Find logs at: <code>../models/wandb/run-20240601_041427-1n9h2uw3/logs</code>"
            ],
            "text/plain": [
              "<IPython.core.display.HTML object>"
            ]
          },
          "metadata": {},
          "output_type": "display_data"
        },
        {
          "data": {
            "text/html": [
              "Tracking run with wandb version 0.17.0"
            ],
            "text/plain": [
              "<IPython.core.display.HTML object>"
            ]
          },
          "metadata": {},
          "output_type": "display_data"
        },
        {
          "data": {
            "text/html": [
              "Run data is saved locally in <code>../models/wandb/run-20240601_042339-hokezl38</code>"
            ],
            "text/plain": [
              "<IPython.core.display.HTML object>"
            ]
          },
          "metadata": {},
          "output_type": "display_data"
        },
        {
          "data": {
            "text/html": [
              "Syncing run <strong><a href='https://wandb.ai/aiuis/ai-1-project/runs/hokezl38' target=\"_blank\">ethereal-sweep-3--1</a></strong> to <a href='https://wandb.ai/aiuis/ai-1-project' target=\"_blank\">Weights & Biases</a> (<a href='https://wandb.me/run' target=\"_blank\">docs</a>)<br/>"
            ],
            "text/plain": [
              "<IPython.core.display.HTML object>"
            ]
          },
          "metadata": {},
          "output_type": "display_data"
        },
        {
          "data": {
            "text/html": [
              " View project at <a href='https://wandb.ai/aiuis/ai-1-project' target=\"_blank\">https://wandb.ai/aiuis/ai-1-project</a>"
            ],
            "text/plain": [
              "<IPython.core.display.HTML object>"
            ]
          },
          "metadata": {},
          "output_type": "display_data"
        },
        {
          "data": {
            "text/html": [
              " View run at <a href='https://wandb.ai/aiuis/ai-1-project/runs/hokezl38' target=\"_blank\">https://wandb.ai/aiuis/ai-1-project/runs/hokezl38</a>"
            ],
            "text/plain": [
              "<IPython.core.display.HTML object>"
            ]
          },
          "metadata": {},
          "output_type": "display_data"
        },
        {
          "name": "stdout",
          "output_type": "stream",
          "text": [
            "ConvNet(\n",
            "  (layer1): Sequential(\n",
            "    (0): Conv3d(1, 16, kernel_size=(5, 5, 5), stride=(1, 1, 1), padding=(2, 2, 2))\n",
            "    (1): ReLU()\n",
            "    (2): MaxPool3d(kernel_size=2, stride=2, padding=0, dilation=1, ceil_mode=False)\n",
            "  )\n",
            "  (layer2): Sequential(\n",
            "    (0): Conv3d(16, 32, kernel_size=(5, 5, 5), stride=(1, 1, 1), padding=(2, 2, 2))\n",
            "    (1): ReLU()\n",
            "    (2): MaxPool3d(kernel_size=2, stride=2, padding=0, dilation=1, ceil_mode=False)\n",
            "  )\n",
            "  (fc): Linear(in_features=75264, out_features=1, bias=True)\n",
            ")\n",
            "FOLD 2\n",
            "--------------------------------\n",
            "Epoch 1\n",
            "-------------------------------\n",
            "train loss: 0.694 accuracy: 0.461 [after 1 batches]\n",
            "train loss: 0.691 accuracy: 0.547 [after 3 batches]\n",
            "train loss: 0.687 accuracy: 0.703 [after 5 batches]\n",
            "train loss: 0.673 accuracy: 0.436 [after 7 batches]\n",
            "val loss: 0.709 accuracy: 0.542 [after 2 batches]\n",
            "Epoch 2\n",
            "-------------------------------\n",
            "train loss: 0.673 accuracy: 0.477 [after 1 batches]\n",
            "train loss: 0.674 accuracy: 0.523 [after 3 batches]\n",
            "train loss: 0.655 accuracy: 0.883 [after 5 batches]\n",
            "train loss: 0.652 accuracy: 1.000 [after 7 batches]\n",
            "val loss: 0.684 accuracy: 0.880 [after 2 batches]\n",
            "Epoch 3\n",
            "-------------------------------\n",
            "train loss: 0.641 accuracy: 0.992 [after 1 batches]\n",
            "train loss: 0.629 accuracy: 0.766 [after 3 batches]\n",
            "train loss: 0.607 accuracy: 0.961 [after 5 batches]\n",
            "train loss: 0.591 accuracy: 1.000 [after 7 batches]\n",
            "val loss: 0.658 accuracy: 0.921 [after 2 batches]\n",
            "Epoch 4\n",
            "-------------------------------\n",
            "train loss: 0.561 accuracy: 0.898 [after 1 batches]\n",
            "train loss: 0.518 accuracy: 1.000 [after 3 batches]\n",
            "train loss: 0.507 accuracy: 0.852 [after 5 batches]\n",
            "train loss: 0.479 accuracy: 0.795 [after 7 batches]\n",
            "val loss: 0.586 accuracy: 0.823 [after 2 batches]\n",
            "Epoch 5\n",
            "-------------------------------\n",
            "train loss: 0.412 accuracy: 0.914 [after 1 batches]\n",
            "train loss: 0.350 accuracy: 1.000 [after 3 batches]\n",
            "train loss: 0.269 accuracy: 0.977 [after 5 batches]\n",
            "train loss: 0.256 accuracy: 0.923 [after 7 batches]\n",
            "val loss: 0.451 accuracy: 0.886 [after 2 batches]\n",
            "Epoch 6\n",
            "-------------------------------\n",
            "train loss: 0.237 accuracy: 0.844 [after 1 batches]\n",
            "train loss: 0.233 accuracy: 0.898 [after 3 batches]\n",
            "train loss: 0.114 accuracy: 1.000 [after 5 batches]\n",
            "train loss: 0.075 accuracy: 1.000 [after 7 batches]\n",
            "val loss: 0.341 accuracy: 0.910 [after 2 batches]\n",
            "Epoch 7\n",
            "-------------------------------\n",
            "train loss: 0.080 accuracy: 1.000 [after 1 batches]\n",
            "train loss: 0.132 accuracy: 0.969 [after 3 batches]\n",
            "train loss: 0.042 accuracy: 1.000 [after 5 batches]\n",
            "train loss: 0.109 accuracy: 0.974 [after 7 batches]\n",
            "val loss: 0.652 accuracy: 0.622 [after 2 batches]\n",
            "Epoch 8\n",
            "-------------------------------\n",
            "train loss: 0.448 accuracy: 0.766 [after 1 batches]\n",
            "train loss: 0.028 accuracy: 0.992 [after 3 batches]\n",
            "train loss: 3.557 accuracy: 0.547 [after 5 batches]\n",
            "train loss: 1.680 accuracy: 0.462 [after 7 batches]\n",
            "val loss: 5.269 accuracy: 0.556 [after 2 batches]\n",
            "Epoch 9\n",
            "-------------------------------\n",
            "train loss: 1.775 accuracy: 0.547 [after 1 batches]\n",
            "train loss: 1.970 accuracy: 0.547 [after 3 batches]\n",
            "train loss: 0.504 accuracy: 0.539 [after 5 batches]\n",
            "train loss: 0.643 accuracy: 0.795 [after 7 batches]\n",
            "val loss: 0.686 accuracy: 0.556 [after 2 batches]\n",
            "Epoch 10\n",
            "-------------------------------\n",
            "train loss: 0.684 accuracy: 0.445 [after 1 batches]\n",
            "train loss: 0.673 accuracy: 0.500 [after 3 batches]\n",
            "train loss: 0.670 accuracy: 0.516 [after 5 batches]\n",
            "train loss: 0.702 accuracy: 0.333 [after 7 batches]\n",
            "val loss: 0.688 accuracy: 0.542 [after 2 batches]\n",
            "Epoch 11\n",
            "-------------------------------\n",
            "train loss: 0.672 accuracy: 0.469 [after 1 batches]\n",
            "train loss: 0.667 accuracy: 0.641 [after 3 batches]\n",
            "train loss: 0.658 accuracy: 1.000 [after 5 batches]\n",
            "train loss: 0.655 accuracy: 1.000 [after 7 batches]\n",
            "val loss: 0.689 accuracy: 0.472 [after 2 batches]\n",
            "Epoch 12\n",
            "-------------------------------\n",
            "train loss: 0.647 accuracy: 1.000 [after 1 batches]\n",
            "train loss: 0.642 accuracy: 1.000 [after 3 batches]\n",
            "train loss: 0.638 accuracy: 0.984 [after 5 batches]\n",
            "train loss: 0.631 accuracy: 1.000 [after 7 batches]\n",
            "val loss: 0.682 accuracy: 0.767 [after 2 batches]\n",
            "Epoch 13\n",
            "-------------------------------\n",
            "train loss: 0.614 accuracy: 0.992 [after 1 batches]\n",
            "train loss: 0.606 accuracy: 1.000 [after 3 batches]\n",
            "train loss: 0.594 accuracy: 0.992 [after 5 batches]\n",
            "train loss: 0.558 accuracy: 1.000 [after 7 batches]\n",
            "val loss: 0.662 accuracy: 0.872 [after 2 batches]\n",
            "Epoch 14\n",
            "-------------------------------\n",
            "train loss: 0.545 accuracy: 0.992 [after 1 batches]\n",
            "train loss: 0.498 accuracy: 1.000 [after 3 batches]\n",
            "train loss: 0.462 accuracy: 0.992 [after 5 batches]\n",
            "train loss: 0.420 accuracy: 1.000 [after 7 batches]\n",
            "val loss: 0.596 accuracy: 0.910 [after 2 batches]\n",
            "Epoch 15\n",
            "-------------------------------\n",
            "train loss: 0.371 accuracy: 0.977 [after 1 batches]\n",
            "train loss: 0.348 accuracy: 0.984 [after 3 batches]\n",
            "train loss: 0.299 accuracy: 0.859 [after 5 batches]\n",
            "train loss: 0.209 accuracy: 1.000 [after 7 batches]\n",
            "val loss: 0.500 accuracy: 0.823 [after 2 batches]\n",
            "Epoch 16\n",
            "-------------------------------\n",
            "train loss: 0.255 accuracy: 0.859 [after 1 batches]\n",
            "train loss: 0.161 accuracy: 0.930 [after 3 batches]\n",
            "train loss: 0.100 accuracy: 1.000 [after 5 batches]\n",
            "train loss: 0.062 accuracy: 1.000 [after 7 batches]\n",
            "val loss: 1.168 accuracy: 0.458 [after 2 batches]\n",
            "Epoch 17\n",
            "-------------------------------\n",
            "train loss: 0.054 accuracy: 0.992 [after 1 batches]\n",
            "train loss: 0.089 accuracy: 0.992 [after 3 batches]\n",
            "train loss: 0.093 accuracy: 1.000 [after 5 batches]\n",
            "train loss: 0.078 accuracy: 1.000 [after 7 batches]\n",
            "val loss: 0.359 accuracy: 0.848 [after 2 batches]\n",
            "Epoch 18\n",
            "-------------------------------\n",
            "train loss: 0.019 accuracy: 1.000 [after 1 batches]\n",
            "train loss: 0.029 accuracy: 0.992 [after 3 batches]\n",
            "train loss: 0.025 accuracy: 1.000 [after 5 batches]\n",
            "train loss: 0.012 accuracy: 1.000 [after 7 batches]\n",
            "val loss: 0.724 accuracy: 0.656 [after 2 batches]\n",
            "Epoch 19\n",
            "-------------------------------\n",
            "train loss: 0.027 accuracy: 0.992 [after 1 batches]\n",
            "train loss: 0.005 accuracy: 1.000 [after 3 batches]\n",
            "train loss: 0.017 accuracy: 1.000 [after 5 batches]\n",
            "train loss: 0.004 accuracy: 1.000 [after 7 batches]\n",
            "val loss: 0.696 accuracy: 0.663 [after 2 batches]\n",
            "Epoch 20\n",
            "-------------------------------\n",
            "train loss: 0.007 accuracy: 1.000 [after 1 batches]\n",
            "train loss: 0.008 accuracy: 1.000 [after 3 batches]\n",
            "train loss: 0.009 accuracy: 1.000 [after 5 batches]\n",
            "train loss: 0.005 accuracy: 1.000 [after 7 batches]\n",
            "val loss: 0.470 accuracy: 0.771 [after 2 batches]\n",
            "Epoch 21\n",
            "-------------------------------\n",
            "train loss: 0.003 accuracy: 1.000 [after 1 batches]\n",
            "train loss: 0.003 accuracy: 1.000 [after 3 batches]\n",
            "train loss: 0.007 accuracy: 1.000 [after 5 batches]\n",
            "train loss: 0.003 accuracy: 1.000 [after 7 batches]\n",
            "val loss: 0.294 accuracy: 0.857 [after 2 batches]\n",
            "Epoch 22\n",
            "-------------------------------\n",
            "train loss: 0.005 accuracy: 1.000 [after 1 batches]\n",
            "train loss: 0.004 accuracy: 1.000 [after 3 batches]\n",
            "train loss: 0.009 accuracy: 0.992 [after 5 batches]\n",
            "train loss: 0.001 accuracy: 1.000 [after 7 batches]\n",
            "val loss: 0.493 accuracy: 0.789 [after 2 batches]\n",
            "Epoch 23\n",
            "-------------------------------\n",
            "train loss: 0.007 accuracy: 1.000 [after 1 batches]\n",
            "train loss: 0.003 accuracy: 1.000 [after 3 batches]\n",
            "train loss: 0.001 accuracy: 1.000 [after 5 batches]\n",
            "train loss: 0.001 accuracy: 1.000 [after 7 batches]\n",
            "val loss: 0.505 accuracy: 0.805 [after 2 batches]\n",
            "Epoch 24\n",
            "-------------------------------\n",
            "train loss: 0.003 accuracy: 1.000 [after 1 batches]\n",
            "train loss: 0.001 accuracy: 1.000 [after 3 batches]\n",
            "train loss: 0.001 accuracy: 1.000 [after 5 batches]\n",
            "train loss: 0.002 accuracy: 1.000 [after 7 batches]\n",
            "val loss: 0.247 accuracy: 0.894 [after 2 batches]\n",
            "Epoch 25\n",
            "-------------------------------\n",
            "train loss: 0.005 accuracy: 1.000 [after 1 batches]\n",
            "train loss: 0.001 accuracy: 1.000 [after 3 batches]\n",
            "train loss: 0.008 accuracy: 0.992 [after 5 batches]\n",
            "train loss: 0.005 accuracy: 1.000 [after 7 batches]\n",
            "val loss: 0.479 accuracy: 0.787 [after 2 batches]\n",
            "Epoch 26\n",
            "-------------------------------\n",
            "train loss: 0.001 accuracy: 1.000 [after 1 batches]\n",
            "train loss: 0.004 accuracy: 1.000 [after 3 batches]\n",
            "train loss: 0.001 accuracy: 1.000 [after 5 batches]\n",
            "train loss: 0.001 accuracy: 1.000 [after 7 batches]\n",
            "val loss: 0.353 accuracy: 0.820 [after 2 batches]\n"
          ]
        },
        {
          "data": {
            "application/vnd.jupyter.widget-view+json": {
              "model_id": "fc82e226066a41aa8f1c2fd10a9a73d3",
              "version_major": 2,
              "version_minor": 0
            },
            "text/plain": [
              "VBox(children=(Label(value='0.542 MB of 0.542 MB uploaded\\r'), FloatProgress(value=1.0, max=1.0)))"
            ]
          },
          "metadata": {},
          "output_type": "display_data"
        },
        {
          "data": {
            "text/html": [
              "<style>\n",
              "    table.wandb td:nth-child(1) { padding: 0 10px; text-align: left ; width: auto;} td:nth-child(2) {text-align: left ; width: 100%}\n",
              "    .wandb-row { display: flex; flex-direction: row; flex-wrap: wrap; justify-content: flex-start; width: 100% }\n",
              "    .wandb-col { display: flex; flex-direction: column; flex-basis: 100%; flex: 1; padding: 10px; }\n",
              "    </style>\n",
              "<div class=\"wandb-row\"><div class=\"wandb-col\"><h3>Run history:</h3><br/><table class=\"wandb\"><tr><td>epoch</td><td>▁▁▂▂▂▂▃▃▃▄▄▄▄▅▅▅▅▆▆▆▇▇▇▇██</td></tr><tr><td>step</td><td>▁▁▁▁▂▂▂▂▂▃▃▃▃▃▃▄▄▄▄▄▅▅▅▅▅▅▆▆▆▆▆▇▇▇▇▇▇███</td></tr><tr><td>train_accuracy</td><td>▂▅▃███▆█▇███▂▃▂▁██████▇▇████████████████</td></tr><tr><td>train_loss</td><td>▄▄▄▄▄▃▃▂▂▁▁▁█▃▄▄▄▄▄▃▃▃▂▂▁▁▁▁▁▁▁▁▁▁▁▁▁▁▁▁</td></tr><tr><td>val_accuracy</td><td>▂▇█▇▇█▃▂▂▂▁▆▇█▇▁▇▄▄▆▇▆▆█▆▆</td></tr><tr><td>val_f1</td><td>▁██▇██▅▁▁▁▃▇███▁▇▄▅▆▇▇▇█▇▇</td></tr><tr><td>val_loss</td><td>▂▂▂▁▁▁▂█▂▂▂▂▂▁▁▂▁▂▂▁▁▁▁▁▁▁</td></tr><tr><td>val_precision</td><td>▁▇██▇▇█▁▁▁▃▆▇▇▆▁██████████</td></tr><tr><td>val_recall</td><td>▁▇▇▅██▃▁▁▁▄▇▇▇█▁▆▃▃▅▆▅▅▇▅▆</td></tr></table><br/></div><div class=\"wandb-col\"><h3>Run summary:</h3><br/><table class=\"wandb\"><tr><td>epoch</td><td>26</td></tr><tr><td>step</td><td>103</td></tr><tr><td>train_accuracy</td><td>1.0</td></tr><tr><td>train_loss</td><td>0.00127</td></tr><tr><td>val_accuracy</td><td>0.82031</td></tr><tr><td>val_f1</td><td>0.81681</td></tr><tr><td>val_loss</td><td>0.35313</td></tr><tr><td>val_precision</td><td>0.93873</td></tr><tr><td>val_recall</td><td>0.72517</td></tr></table><br/></div></div>"
            ],
            "text/plain": [
              "<IPython.core.display.HTML object>"
            ]
          },
          "metadata": {},
          "output_type": "display_data"
        },
        {
          "data": {
            "text/html": [
              " View run <strong style=\"color:#cdcd00\">ethereal-sweep-3--1</strong> at: <a href='https://wandb.ai/aiuis/ai-1-project/runs/hokezl38' target=\"_blank\">https://wandb.ai/aiuis/ai-1-project/runs/hokezl38</a><br/> View project at: <a href='https://wandb.ai/aiuis/ai-1-project' target=\"_blank\">https://wandb.ai/aiuis/ai-1-project</a><br/>Synced 5 W&B file(s), 0 media file(s), 0 artifact file(s) and 1 other file(s)"
            ],
            "text/plain": [
              "<IPython.core.display.HTML object>"
            ]
          },
          "metadata": {},
          "output_type": "display_data"
        },
        {
          "data": {
            "text/html": [
              "Find logs at: <code>../models/wandb/run-20240601_042339-hokezl38/logs</code>"
            ],
            "text/plain": [
              "<IPython.core.display.HTML object>"
            ]
          },
          "metadata": {},
          "output_type": "display_data"
        },
        {
          "data": {
            "text/html": [
              "Tracking run with wandb version 0.17.0"
            ],
            "text/plain": [
              "<IPython.core.display.HTML object>"
            ]
          },
          "metadata": {},
          "output_type": "display_data"
        },
        {
          "data": {
            "text/html": [
              "Run data is saved locally in <code>../models/wandb/run-20240601_044043-ip58rt9j</code>"
            ],
            "text/plain": [
              "<IPython.core.display.HTML object>"
            ]
          },
          "metadata": {},
          "output_type": "display_data"
        },
        {
          "data": {
            "text/html": [
              "Syncing run <strong><a href='https://wandb.ai/aiuis/ai-1-project/runs/ip58rt9j' target=\"_blank\">ethereal-sweep-3--2</a></strong> to <a href='https://wandb.ai/aiuis/ai-1-project' target=\"_blank\">Weights & Biases</a> (<a href='https://wandb.me/run' target=\"_blank\">docs</a>)<br/>"
            ],
            "text/plain": [
              "<IPython.core.display.HTML object>"
            ]
          },
          "metadata": {},
          "output_type": "display_data"
        },
        {
          "data": {
            "text/html": [
              " View project at <a href='https://wandb.ai/aiuis/ai-1-project' target=\"_blank\">https://wandb.ai/aiuis/ai-1-project</a>"
            ],
            "text/plain": [
              "<IPython.core.display.HTML object>"
            ]
          },
          "metadata": {},
          "output_type": "display_data"
        },
        {
          "data": {
            "text/html": [
              " View run at <a href='https://wandb.ai/aiuis/ai-1-project/runs/ip58rt9j' target=\"_blank\">https://wandb.ai/aiuis/ai-1-project/runs/ip58rt9j</a>"
            ],
            "text/plain": [
              "<IPython.core.display.HTML object>"
            ]
          },
          "metadata": {},
          "output_type": "display_data"
        },
        {
          "name": "stdout",
          "output_type": "stream",
          "text": [
            "ConvNet(\n",
            "  (layer1): Sequential(\n",
            "    (0): Conv3d(1, 16, kernel_size=(5, 5, 5), stride=(1, 1, 1), padding=(2, 2, 2))\n",
            "    (1): ReLU()\n",
            "    (2): MaxPool3d(kernel_size=2, stride=2, padding=0, dilation=1, ceil_mode=False)\n",
            "  )\n",
            "  (layer2): Sequential(\n",
            "    (0): Conv3d(16, 32, kernel_size=(5, 5, 5), stride=(1, 1, 1), padding=(2, 2, 2))\n",
            "    (1): ReLU()\n",
            "    (2): MaxPool3d(kernel_size=2, stride=2, padding=0, dilation=1, ceil_mode=False)\n",
            "  )\n",
            "  (fc): Linear(in_features=75264, out_features=1, bias=True)\n",
            ")\n",
            "FOLD 3\n",
            "--------------------------------\n",
            "Epoch 1\n",
            "-------------------------------\n",
            "train loss: 0.690 accuracy: 0.477 [after 1 batches]\n",
            "train loss: 0.688 accuracy: 0.492 [after 3 batches]\n",
            "train loss: 0.693 accuracy: 0.555 [after 5 batches]\n",
            "train loss: 0.677 accuracy: 0.487 [after 7 batches]\n",
            "val loss: 0.698 accuracy: 0.514 [after 2 batches]\n",
            "Epoch 2\n",
            "-------------------------------\n",
            "train loss: 0.681 accuracy: 0.531 [after 1 batches]\n",
            "train loss: 0.678 accuracy: 0.547 [after 3 batches]\n",
            "train loss: 0.660 accuracy: 0.461 [after 5 batches]\n",
            "train loss: 0.660 accuracy: 0.872 [after 7 batches]\n",
            "val loss: 0.680 accuracy: 0.690 [after 2 batches]\n",
            "Epoch 3\n",
            "-------------------------------\n",
            "train loss: 0.648 accuracy: 0.953 [after 1 batches]\n",
            "train loss: 0.628 accuracy: 0.992 [after 3 batches]\n",
            "train loss: 0.615 accuracy: 0.930 [after 5 batches]\n",
            "train loss: 0.591 accuracy: 0.949 [after 7 batches]\n",
            "val loss: 0.640 accuracy: 0.788 [after 2 batches]\n",
            "Epoch 4\n",
            "-------------------------------\n",
            "train loss: 0.578 accuracy: 0.867 [after 1 batches]\n",
            "train loss: 0.554 accuracy: 0.898 [after 3 batches]\n",
            "train loss: 0.515 accuracy: 0.922 [after 5 batches]\n",
            "train loss: 0.431 accuracy: 1.000 [after 7 batches]\n",
            "val loss: 0.563 accuracy: 0.872 [after 2 batches]\n",
            "Epoch 5\n",
            "-------------------------------\n",
            "train loss: 0.426 accuracy: 0.938 [after 1 batches]\n",
            "train loss: 0.371 accuracy: 0.906 [after 3 batches]\n",
            "train loss: 0.282 accuracy: 0.953 [after 5 batches]\n",
            "train loss: 0.214 accuracy: 0.974 [after 7 batches]\n",
            "val loss: 0.752 accuracy: 0.556 [after 2 batches]\n",
            "Epoch 6\n",
            "-------------------------------\n",
            "train loss: 0.168 accuracy: 0.945 [after 1 batches]\n",
            "train loss: 0.136 accuracy: 0.945 [after 3 batches]\n",
            "train loss: 0.124 accuracy: 1.000 [after 5 batches]\n",
            "train loss: 0.086 accuracy: 1.000 [after 7 batches]\n",
            "val loss: 0.788 accuracy: 0.444 [after 2 batches]\n",
            "Epoch 7\n",
            "-------------------------------\n",
            "train loss: 0.077 accuracy: 1.000 [after 1 batches]\n",
            "train loss: 0.163 accuracy: 0.922 [after 3 batches]\n",
            "train loss: 0.203 accuracy: 0.898 [after 5 batches]\n",
            "train loss: 0.181 accuracy: 0.897 [after 7 batches]\n",
            "val loss: 0.185 accuracy: 0.959 [after 2 batches]\n",
            "Epoch 8\n",
            "-------------------------------\n",
            "train loss: 0.073 accuracy: 0.984 [after 1 batches]\n",
            "train loss: 0.018 accuracy: 1.000 [after 3 batches]\n",
            "train loss: 0.033 accuracy: 1.000 [after 5 batches]\n",
            "train loss: 0.060 accuracy: 0.974 [after 7 batches]\n",
            "val loss: 0.336 accuracy: 0.805 [after 2 batches]\n",
            "Epoch 9\n",
            "-------------------------------\n",
            "train loss: 0.060 accuracy: 0.984 [after 1 batches]\n",
            "train loss: 0.037 accuracy: 0.992 [after 3 batches]\n",
            "train loss: 0.006 accuracy: 1.000 [after 5 batches]\n",
            "train loss: 0.012 accuracy: 1.000 [after 7 batches]\n",
            "val loss: 1.241 accuracy: 0.486 [after 2 batches]\n",
            "Epoch 10\n",
            "-------------------------------\n",
            "train loss: 0.016 accuracy: 1.000 [after 1 batches]\n",
            "train loss: 0.004 accuracy: 1.000 [after 3 batches]\n",
            "train loss: 0.021 accuracy: 1.000 [after 5 batches]\n",
            "train loss: 0.004 accuracy: 1.000 [after 7 batches]\n",
            "val loss: 1.333 accuracy: 0.528 [after 2 batches]\n",
            "Epoch 11\n",
            "-------------------------------\n",
            "train loss: 0.008 accuracy: 1.000 [after 1 batches]\n",
            "train loss: 0.004 accuracy: 1.000 [after 3 batches]\n",
            "train loss: 0.006 accuracy: 1.000 [after 5 batches]\n",
            "train loss: 0.001 accuracy: 1.000 [after 7 batches]\n",
            "val loss: 0.667 accuracy: 0.589 [after 2 batches]\n",
            "Epoch 12\n",
            "-------------------------------\n",
            "train loss: 0.004 accuracy: 1.000 [after 1 batches]\n",
            "train loss: 0.008 accuracy: 1.000 [after 3 batches]\n",
            "train loss: 0.002 accuracy: 1.000 [after 5 batches]\n",
            "train loss: 0.003 accuracy: 1.000 [after 7 batches]\n",
            "val loss: 0.232 accuracy: 0.903 [after 2 batches]\n",
            "Epoch 13\n",
            "-------------------------------\n",
            "train loss: 0.003 accuracy: 1.000 [after 1 batches]\n",
            "train loss: 0.002 accuracy: 1.000 [after 3 batches]\n",
            "train loss: 0.003 accuracy: 1.000 [after 5 batches]\n",
            "train loss: 0.009 accuracy: 1.000 [after 7 batches]\n",
            "val loss: 0.494 accuracy: 0.715 [after 2 batches]\n",
            "Epoch 14\n",
            "-------------------------------\n",
            "train loss: 0.008 accuracy: 1.000 [after 1 batches]\n",
            "train loss: 0.003 accuracy: 1.000 [after 3 batches]\n",
            "train loss: 0.001 accuracy: 1.000 [after 5 batches]\n",
            "train loss: 0.000 accuracy: 1.000 [after 7 batches]\n",
            "val loss: 1.136 accuracy: 0.512 [after 2 batches]\n",
            "Epoch 15\n",
            "-------------------------------\n",
            "train loss: 0.002 accuracy: 1.000 [after 1 batches]\n",
            "train loss: 0.001 accuracy: 1.000 [after 3 batches]\n",
            "train loss: 0.002 accuracy: 1.000 [after 5 batches]\n",
            "train loss: 0.001 accuracy: 1.000 [after 7 batches]\n",
            "val loss: 0.437 accuracy: 0.713 [after 2 batches]\n",
            "Epoch 16\n",
            "-------------------------------\n",
            "train loss: 0.001 accuracy: 1.000 [after 1 batches]\n",
            "train loss: 0.007 accuracy: 1.000 [after 3 batches]\n",
            "train loss: 0.002 accuracy: 1.000 [after 5 batches]\n",
            "train loss: 0.003 accuracy: 1.000 [after 7 batches]\n",
            "val loss: 0.459 accuracy: 0.715 [after 2 batches]\n"
          ]
        },
        {
          "data": {
            "application/vnd.jupyter.widget-view+json": {
              "model_id": "94a3ad9561ea4141be62867acee91c4d",
              "version_major": 2,
              "version_minor": 0
            },
            "text/plain": [
              "VBox(children=(Label(value='0.542 MB of 0.576 MB uploaded\\r'), FloatProgress(value=0.9406792287902417, max=1.0…"
            ]
          },
          "metadata": {},
          "output_type": "display_data"
        },
        {
          "data": {
            "text/html": [
              "<style>\n",
              "    table.wandb td:nth-child(1) { padding: 0 10px; text-align: left ; width: auto;} td:nth-child(2) {text-align: left ; width: 100%}\n",
              "    .wandb-row { display: flex; flex-direction: row; flex-wrap: wrap; justify-content: flex-start; width: 100% }\n",
              "    .wandb-col { display: flex; flex-direction: column; flex-basis: 100%; flex: 1; padding: 10px; }\n",
              "    </style>\n",
              "<div class=\"wandb-row\"><div class=\"wandb-col\"><h3>Run history:</h3><br/><table class=\"wandb\"><tr><td>epoch</td><td>▁▁▂▂▃▃▄▄▅▅▆▆▇▇██</td></tr><tr><td>step</td><td>▁▁▁▁▂▂▂▂▂▃▃▃▃▃▃▄▄▄▄▄▅▅▅▅▅▅▆▆▆▆▆▇▇▇▇▇▇███</td></tr><tr><td>train_accuracy</td><td>▁▁▁▂▁▇█▇▆▇▇▇█▇██▇▇██████████████████████</td></tr><tr><td>train_loss</td><td>██████▇▇▇▆▅▅▃▂▂▂▃▃▁▁▂▁▁▁▁▁▁▁▁▁▁▁▁▁▁▁▁▁▁▁</td></tr><tr><td>val_accuracy</td><td>▂▄▆▇▃▁█▆▂▂▃▇▅▂▅▅</td></tr><tr><td>val_f1</td><td>▁▆▆▇▁▁█▇▁▁▃█▅▂▄▅</td></tr><tr><td>val_loss</td><td>▄▄▄▃▄▅▁▂▇█▄▁▃▇▃▃</td></tr><tr><td>val_precision</td><td>▁▇▇▇▁▁▇█▁▁██████</td></tr><tr><td>val_recall</td><td>▁▅▅▇▁▁█▅▁▁▂▇▄▁▃▄</td></tr></table><br/></div><div class=\"wandb-col\"><h3>Run summary:</h3><br/><table class=\"wandb\"><tr><td>epoch</td><td>16</td></tr><tr><td>step</td><td>63</td></tr><tr><td>train_accuracy</td><td>1.0</td></tr><tr><td>train_loss</td><td>0.00293</td></tr><tr><td>val_accuracy</td><td>0.71484</td></tr><tr><td>val_f1</td><td>0.58545</td></tr><tr><td>val_loss</td><td>0.45858</td></tr><tr><td>val_precision</td><td>1.0</td></tr><tr><td>val_recall</td><td>0.41538</td></tr></table><br/></div></div>"
            ],
            "text/plain": [
              "<IPython.core.display.HTML object>"
            ]
          },
          "metadata": {},
          "output_type": "display_data"
        },
        {
          "data": {
            "text/html": [
              " View run <strong style=\"color:#cdcd00\">ethereal-sweep-3--2</strong> at: <a href='https://wandb.ai/aiuis/ai-1-project/runs/ip58rt9j' target=\"_blank\">https://wandb.ai/aiuis/ai-1-project/runs/ip58rt9j</a><br/> View project at: <a href='https://wandb.ai/aiuis/ai-1-project' target=\"_blank\">https://wandb.ai/aiuis/ai-1-project</a><br/>Synced 5 W&B file(s), 0 media file(s), 0 artifact file(s) and 1 other file(s)"
            ],
            "text/plain": [
              "<IPython.core.display.HTML object>"
            ]
          },
          "metadata": {},
          "output_type": "display_data"
        },
        {
          "data": {
            "text/html": [
              "Find logs at: <code>../models/wandb/run-20240601_044043-ip58rt9j/logs</code>"
            ],
            "text/plain": [
              "<IPython.core.display.HTML object>"
            ]
          },
          "metadata": {},
          "output_type": "display_data"
        },
        {
          "data": {
            "text/html": [
              "Tracking run with wandb version 0.17.0"
            ],
            "text/plain": [
              "<IPython.core.display.HTML object>"
            ]
          },
          "metadata": {},
          "output_type": "display_data"
        },
        {
          "data": {
            "text/html": [
              "Run data is saved locally in <code>../models/wandb/run-20240601_045108-vfm5f57c</code>"
            ],
            "text/plain": [
              "<IPython.core.display.HTML object>"
            ]
          },
          "metadata": {},
          "output_type": "display_data"
        },
        {
          "data": {
            "text/html": [
              "Syncing run <strong><a href='https://wandb.ai/aiuis/ai-1-project/runs/vfm5f57c' target=\"_blank\">ethereal-sweep-3--3</a></strong> to <a href='https://wandb.ai/aiuis/ai-1-project' target=\"_blank\">Weights & Biases</a> (<a href='https://wandb.me/run' target=\"_blank\">docs</a>)<br/>"
            ],
            "text/plain": [
              "<IPython.core.display.HTML object>"
            ]
          },
          "metadata": {},
          "output_type": "display_data"
        },
        {
          "data": {
            "text/html": [
              " View project at <a href='https://wandb.ai/aiuis/ai-1-project' target=\"_blank\">https://wandb.ai/aiuis/ai-1-project</a>"
            ],
            "text/plain": [
              "<IPython.core.display.HTML object>"
            ]
          },
          "metadata": {},
          "output_type": "display_data"
        },
        {
          "data": {
            "text/html": [
              " View run at <a href='https://wandb.ai/aiuis/ai-1-project/runs/vfm5f57c' target=\"_blank\">https://wandb.ai/aiuis/ai-1-project/runs/vfm5f57c</a>"
            ],
            "text/plain": [
              "<IPython.core.display.HTML object>"
            ]
          },
          "metadata": {},
          "output_type": "display_data"
        },
        {
          "name": "stdout",
          "output_type": "stream",
          "text": [
            "ConvNet(\n",
            "  (layer1): Sequential(\n",
            "    (0): Conv3d(1, 16, kernel_size=(5, 5, 5), stride=(1, 1, 1), padding=(2, 2, 2))\n",
            "    (1): ReLU()\n",
            "    (2): MaxPool3d(kernel_size=2, stride=2, padding=0, dilation=1, ceil_mode=False)\n",
            "  )\n",
            "  (layer2): Sequential(\n",
            "    (0): Conv3d(16, 32, kernel_size=(5, 5, 5), stride=(1, 1, 1), padding=(2, 2, 2))\n",
            "    (1): ReLU()\n",
            "    (2): MaxPool3d(kernel_size=2, stride=2, padding=0, dilation=1, ceil_mode=False)\n",
            "  )\n",
            "  (fc): Linear(in_features=75264, out_features=1, bias=True)\n",
            ")\n",
            "FOLD 4\n",
            "--------------------------------\n",
            "Epoch 1\n",
            "-------------------------------\n",
            "train loss: 0.693 accuracy: 0.500 [after 1 batches]\n",
            "train loss: 0.691 accuracy: 0.555 [after 3 batches]\n",
            "train loss: 0.689 accuracy: 0.516 [after 5 batches]\n",
            "train loss: 0.689 accuracy: 0.513 [after 7 batches]\n",
            "val loss: 0.675 accuracy: 0.430 [after 2 batches]\n",
            "Epoch 2\n",
            "-------------------------------\n",
            "train loss: 0.697 accuracy: 0.570 [after 1 batches]\n",
            "train loss: 0.676 accuracy: 0.672 [after 3 batches]\n",
            "train loss: 0.678 accuracy: 0.539 [after 5 batches]\n",
            "train loss: 0.670 accuracy: 0.615 [after 7 batches]\n",
            "val loss: 0.669 accuracy: 0.805 [after 2 batches]\n",
            "Epoch 3\n",
            "-------------------------------\n",
            "train loss: 0.668 accuracy: 0.555 [after 1 batches]\n",
            "train loss: 0.646 accuracy: 0.680 [after 3 batches]\n",
            "train loss: 0.643 accuracy: 0.555 [after 5 batches]\n",
            "train loss: 0.638 accuracy: 0.564 [after 7 batches]\n",
            "val loss: 0.639 accuracy: 0.978 [after 2 batches]\n",
            "Epoch 4\n",
            "-------------------------------\n",
            "train loss: 0.616 accuracy: 0.812 [after 1 batches]\n",
            "train loss: 0.625 accuracy: 0.602 [after 3 batches]\n",
            "train loss: 0.583 accuracy: 0.938 [after 5 batches]\n",
            "train loss: 0.545 accuracy: 0.718 [after 7 batches]\n",
            "val loss: 0.561 accuracy: 0.585 [after 2 batches]\n",
            "Epoch 5\n",
            "-------------------------------\n",
            "train loss: 0.572 accuracy: 0.680 [after 1 batches]\n",
            "train loss: 0.513 accuracy: 0.781 [after 3 batches]\n",
            "train loss: 0.480 accuracy: 0.844 [after 5 batches]\n",
            "train loss: 0.430 accuracy: 0.897 [after 7 batches]\n",
            "val loss: 0.418 accuracy: 1.000 [after 2 batches]\n",
            "Epoch 6\n",
            "-------------------------------\n",
            "train loss: 0.420 accuracy: 0.773 [after 1 batches]\n",
            "train loss: 0.449 accuracy: 0.734 [after 3 batches]\n",
            "train loss: 0.452 accuracy: 0.695 [after 5 batches]\n",
            "train loss: 0.192 accuracy: 0.974 [after 7 batches]\n",
            "val loss: 0.215 accuracy: 0.974 [after 2 batches]\n",
            "Epoch 7\n",
            "-------------------------------\n",
            "train loss: 0.194 accuracy: 0.977 [after 1 batches]\n",
            "train loss: 0.222 accuracy: 0.906 [after 3 batches]\n",
            "train loss: 0.177 accuracy: 0.961 [after 5 batches]\n",
            "train loss: 0.117 accuracy: 0.974 [after 7 batches]\n",
            "val loss: 0.191 accuracy: 0.959 [after 2 batches]\n",
            "Epoch 8\n",
            "-------------------------------\n",
            "train loss: 0.218 accuracy: 0.844 [after 1 batches]\n",
            "train loss: 0.109 accuracy: 0.969 [after 3 batches]\n",
            "train loss: 0.060 accuracy: 1.000 [after 5 batches]\n",
            "train loss: 0.200 accuracy: 0.897 [after 7 batches]\n",
            "val loss: 0.081 accuracy: 0.992 [after 2 batches]\n",
            "Epoch 9\n",
            "-------------------------------\n",
            "train loss: 0.075 accuracy: 0.984 [after 1 batches]\n",
            "train loss: 0.032 accuracy: 1.000 [after 3 batches]\n",
            "train loss: 0.021 accuracy: 1.000 [after 5 batches]\n",
            "train loss: 0.012 accuracy: 1.000 [after 7 batches]\n",
            "val loss: 0.006 accuracy: 1.000 [after 2 batches]\n",
            "Epoch 10\n",
            "-------------------------------\n",
            "train loss: 0.011 accuracy: 1.000 [after 1 batches]\n",
            "train loss: 0.018 accuracy: 1.000 [after 3 batches]\n",
            "train loss: 0.011 accuracy: 1.000 [after 5 batches]\n",
            "train loss: 0.010 accuracy: 1.000 [after 7 batches]\n",
            "val loss: 0.010 accuracy: 1.000 [after 2 batches]\n",
            "Epoch 11\n",
            "-------------------------------\n",
            "train loss: 0.010 accuracy: 1.000 [after 1 batches]\n",
            "train loss: 0.006 accuracy: 1.000 [after 3 batches]\n",
            "train loss: 0.009 accuracy: 1.000 [after 5 batches]\n",
            "train loss: 0.012 accuracy: 1.000 [after 7 batches]\n",
            "val loss: 0.010 accuracy: 1.000 [after 2 batches]\n"
          ]
        },
        {
          "data": {
            "application/vnd.jupyter.widget-view+json": {
              "model_id": "669d7a565fe44736b89d5e8b000bae95",
              "version_major": 2,
              "version_minor": 0
            },
            "text/plain": [
              "VBox(children=(Label(value='0.542 MB of 0.542 MB uploaded\\r'), FloatProgress(value=1.0, max=1.0)))"
            ]
          },
          "metadata": {},
          "output_type": "display_data"
        },
        {
          "data": {
            "text/html": [
              "<style>\n",
              "    table.wandb td:nth-child(1) { padding: 0 10px; text-align: left ; width: auto;} td:nth-child(2) {text-align: left ; width: 100%}\n",
              "    .wandb-row { display: flex; flex-direction: row; flex-wrap: wrap; justify-content: flex-start; width: 100% }\n",
              "    .wandb-col { display: flex; flex-direction: column; flex-basis: 100%; flex: 1; padding: 10px; }\n",
              "    </style>\n",
              "<div class=\"wandb-row\"><div class=\"wandb-col\"><h3>Run history:</h3><br/><table class=\"wandb\"><tr><td>epoch</td><td>▁▂▂▃▄▅▅▆▇▇█</td></tr><tr><td>step</td><td>▁▁▁▁▂▂▂▂▂▂▃▃▃▃▃▄▄▄▄▄▅▅▅▅▅▅▆▆▆▆▆▇▇▇▇▇▇███</td></tr><tr><td>train_accuracy</td><td>▁▂▁▁▂▃▂▃▂▄▂▅▂▇▄▄▅▆▇▅▄██▇▇█▆██▇██████████</td></tr><tr><td>train_loss</td><td>█████████▇▇▇▇▇▆▇▆▆▅▅▆▃▃▃▃▂▃▂▂▃▁▁▁▁▁▁▁▁▁▁</td></tr><tr><td>val_accuracy</td><td>▁▆█▃██▇████</td></tr><tr><td>val_f1</td><td>▁▇█▆███████</td></tr><tr><td>val_loss</td><td>███▇▅▃▃▂▁▁▁</td></tr><tr><td>val_precision</td><td>▁▆█▅██▇████</td></tr><tr><td>val_recall</td><td>▁██████████</td></tr></table><br/></div><div class=\"wandb-col\"><h3>Run summary:</h3><br/><table class=\"wandb\"><tr><td>epoch</td><td>11</td></tr><tr><td>step</td><td>43</td></tr><tr><td>train_accuracy</td><td>1.0</td></tr><tr><td>train_loss</td><td>0.01187</td></tr><tr><td>val_accuracy</td><td>1.0</td></tr><tr><td>val_f1</td><td>1.0</td></tr><tr><td>val_loss</td><td>0.0103</td></tr><tr><td>val_precision</td><td>1.0</td></tr><tr><td>val_recall</td><td>1.0</td></tr></table><br/></div></div>"
            ],
            "text/plain": [
              "<IPython.core.display.HTML object>"
            ]
          },
          "metadata": {},
          "output_type": "display_data"
        },
        {
          "data": {
            "text/html": [
              " View run <strong style=\"color:#cdcd00\">ethereal-sweep-3--3</strong> at: <a href='https://wandb.ai/aiuis/ai-1-project/runs/vfm5f57c' target=\"_blank\">https://wandb.ai/aiuis/ai-1-project/runs/vfm5f57c</a><br/> View project at: <a href='https://wandb.ai/aiuis/ai-1-project' target=\"_blank\">https://wandb.ai/aiuis/ai-1-project</a><br/>Synced 5 W&B file(s), 0 media file(s), 0 artifact file(s) and 1 other file(s)"
            ],
            "text/plain": [
              "<IPython.core.display.HTML object>"
            ]
          },
          "metadata": {},
          "output_type": "display_data"
        },
        {
          "data": {
            "text/html": [
              "Find logs at: <code>../models/wandb/run-20240601_045108-vfm5f57c/logs</code>"
            ],
            "text/plain": [
              "<IPython.core.display.HTML object>"
            ]
          },
          "metadata": {},
          "output_type": "display_data"
        },
        {
          "data": {
            "text/html": [
              "Tracking run with wandb version 0.17.0"
            ],
            "text/plain": [
              "<IPython.core.display.HTML object>"
            ]
          },
          "metadata": {},
          "output_type": "display_data"
        },
        {
          "data": {
            "text/html": [
              "Run data is saved locally in <code>../models/wandb/run-20240601_045819-apune0eq</code>"
            ],
            "text/plain": [
              "<IPython.core.display.HTML object>"
            ]
          },
          "metadata": {},
          "output_type": "display_data"
        },
        {
          "data": {
            "text/html": [
              "Syncing run <strong><a href='https://wandb.ai/aiuis/ai-1-project/runs/apune0eq' target=\"_blank\">ethereal-sweep-3--4</a></strong> to <a href='https://wandb.ai/aiuis/ai-1-project' target=\"_blank\">Weights & Biases</a> (<a href='https://wandb.me/run' target=\"_blank\">docs</a>)<br/>"
            ],
            "text/plain": [
              "<IPython.core.display.HTML object>"
            ]
          },
          "metadata": {},
          "output_type": "display_data"
        },
        {
          "data": {
            "text/html": [
              " View project at <a href='https://wandb.ai/aiuis/ai-1-project' target=\"_blank\">https://wandb.ai/aiuis/ai-1-project</a>"
            ],
            "text/plain": [
              "<IPython.core.display.HTML object>"
            ]
          },
          "metadata": {},
          "output_type": "display_data"
        },
        {
          "data": {
            "text/html": [
              " View run at <a href='https://wandb.ai/aiuis/ai-1-project/runs/apune0eq' target=\"_blank\">https://wandb.ai/aiuis/ai-1-project/runs/apune0eq</a>"
            ],
            "text/plain": [
              "<IPython.core.display.HTML object>"
            ]
          },
          "metadata": {},
          "output_type": "display_data"
        },
        {
          "name": "stdout",
          "output_type": "stream",
          "text": [
            "ConvNet(\n",
            "  (layer1): Sequential(\n",
            "    (0): Conv3d(1, 16, kernel_size=(5, 5, 5), stride=(1, 1, 1), padding=(2, 2, 2))\n",
            "    (1): ReLU()\n",
            "    (2): MaxPool3d(kernel_size=2, stride=2, padding=0, dilation=1, ceil_mode=False)\n",
            "  )\n",
            "  (layer2): Sequential(\n",
            "    (0): Conv3d(16, 32, kernel_size=(5, 5, 5), stride=(1, 1, 1), padding=(2, 2, 2))\n",
            "    (1): ReLU()\n",
            "    (2): MaxPool3d(kernel_size=2, stride=2, padding=0, dilation=1, ceil_mode=False)\n",
            "  )\n",
            "  (fc): Linear(in_features=75264, out_features=1, bias=True)\n",
            ")\n",
            "FOLD 5\n",
            "--------------------------------\n",
            "Epoch 1\n",
            "-------------------------------\n",
            "train loss: 0.698 accuracy: 0.250 [after 1 batches]\n",
            "train loss: 0.693 accuracy: 0.477 [after 3 batches]\n",
            "train loss: 0.684 accuracy: 0.469 [after 5 batches]\n",
            "train loss: 0.675 accuracy: 0.462 [after 7 batches]\n",
            "val loss: 0.691 accuracy: 0.486 [after 2 batches]\n",
            "Epoch 2\n",
            "-------------------------------\n",
            "train loss: 0.679 accuracy: 0.516 [after 1 batches]\n",
            "train loss: 0.669 accuracy: 0.531 [after 3 batches]\n",
            "train loss: 0.655 accuracy: 0.922 [after 5 batches]\n",
            "train loss: 0.638 accuracy: 0.949 [after 7 batches]\n",
            "val loss: 0.683 accuracy: 0.589 [after 2 batches]\n",
            "Epoch 3\n",
            "-------------------------------\n",
            "train loss: 0.632 accuracy: 0.820 [after 1 batches]\n",
            "train loss: 0.613 accuracy: 0.883 [after 3 batches]\n",
            "train loss: 0.592 accuracy: 0.734 [after 5 batches]\n",
            "train loss: 0.568 accuracy: 0.949 [after 7 batches]\n",
            "val loss: 0.666 accuracy: 0.734 [after 2 batches]\n",
            "Epoch 4\n",
            "-------------------------------\n",
            "train loss: 0.518 accuracy: 0.883 [after 1 batches]\n",
            "train loss: 0.493 accuracy: 0.977 [after 3 batches]\n",
            "train loss: 0.469 accuracy: 0.930 [after 5 batches]\n",
            "train loss: 0.378 accuracy: 0.872 [after 7 batches]\n",
            "val loss: 0.637 accuracy: 0.583 [after 2 batches]\n",
            "Epoch 5\n",
            "-------------------------------\n",
            "train loss: 0.354 accuracy: 0.867 [after 1 batches]\n",
            "train loss: 0.423 accuracy: 0.742 [after 3 batches]\n",
            "train loss: 0.340 accuracy: 0.820 [after 5 batches]\n",
            "train loss: 0.257 accuracy: 0.949 [after 7 batches]\n",
            "val loss: 0.504 accuracy: 0.689 [after 2 batches]\n",
            "Epoch 6\n",
            "-------------------------------\n",
            "train loss: 0.171 accuracy: 0.906 [after 1 batches]\n",
            "train loss: 0.116 accuracy: 1.000 [after 3 batches]\n",
            "train loss: 0.127 accuracy: 0.938 [after 5 batches]\n",
            "train loss: 0.163 accuracy: 0.949 [after 7 batches]\n",
            "val loss: 0.549 accuracy: 0.498 [after 2 batches]\n",
            "Epoch 7\n",
            "-------------------------------\n",
            "train loss: 0.117 accuracy: 1.000 [after 1 batches]\n",
            "train loss: 0.089 accuracy: 0.984 [after 3 batches]\n",
            "train loss: 0.067 accuracy: 0.992 [after 5 batches]\n",
            "train loss: 0.032 accuracy: 1.000 [after 7 batches]\n",
            "val loss: 0.821 accuracy: 0.514 [after 2 batches]\n",
            "Epoch 8\n",
            "-------------------------------\n",
            "train loss: 0.018 accuracy: 1.000 [after 1 batches]\n",
            "train loss: 0.014 accuracy: 1.000 [after 3 batches]\n",
            "train loss: 0.012 accuracy: 1.000 [after 5 batches]\n",
            "train loss: 0.008 accuracy: 1.000 [after 7 batches]\n",
            "val loss: 0.347 accuracy: 0.829 [after 2 batches]\n",
            "Epoch 9\n",
            "-------------------------------\n",
            "train loss: 0.009 accuracy: 1.000 [after 1 batches]\n",
            "train loss: 0.008 accuracy: 1.000 [after 3 batches]\n",
            "train loss: 0.006 accuracy: 1.000 [after 5 batches]\n",
            "train loss: 0.003 accuracy: 1.000 [after 7 batches]\n",
            "val loss: 0.269 accuracy: 0.910 [after 2 batches]\n",
            "Epoch 10\n",
            "-------------------------------\n",
            "train loss: 0.009 accuracy: 1.000 [after 1 batches]\n",
            "train loss: 0.003 accuracy: 1.000 [after 3 batches]\n",
            "train loss: 0.005 accuracy: 1.000 [after 5 batches]\n",
            "train loss: 0.007 accuracy: 1.000 [after 7 batches]\n",
            "val loss: 0.430 accuracy: 0.729 [after 2 batches]\n",
            "Epoch 11\n",
            "-------------------------------\n",
            "train loss: 0.004 accuracy: 1.000 [after 1 batches]\n",
            "train loss: 0.003 accuracy: 1.000 [after 3 batches]\n",
            "train loss: 0.002 accuracy: 1.000 [after 5 batches]\n",
            "train loss: 0.005 accuracy: 1.000 [after 7 batches]\n",
            "val loss: 0.498 accuracy: 0.674 [after 2 batches]\n"
          ]
        },
        {
          "data": {
            "application/vnd.jupyter.widget-view+json": {
              "model_id": "d0a251fedad9485281d39a9965229533",
              "version_major": 2,
              "version_minor": 0
            },
            "text/plain": [
              "VBox(children=(Label(value='0.542 MB of 0.574 MB uploaded\\r'), FloatProgress(value=0.943318574447704, max=1.0)…"
            ]
          },
          "metadata": {},
          "output_type": "display_data"
        },
        {
          "data": {
            "text/html": [
              "<style>\n",
              "    table.wandb td:nth-child(1) { padding: 0 10px; text-align: left ; width: auto;} td:nth-child(2) {text-align: left ; width: 100%}\n",
              "    .wandb-row { display: flex; flex-direction: row; flex-wrap: wrap; justify-content: flex-start; width: 100% }\n",
              "    .wandb-col { display: flex; flex-direction: column; flex-basis: 100%; flex: 1; padding: 10px; }\n",
              "    </style>\n",
              "<div class=\"wandb-row\"><div class=\"wandb-col\"><h3>Run history:</h3><br/><table class=\"wandb\"><tr><td>epoch</td><td>▁▂▂▃▄▅▅▆▇▇█</td></tr><tr><td>step</td><td>▁▁▁▁▂▂▂▂▂▂▃▃▃▃▃▄▄▄▄▄▅▅▅▅▅▅▆▆▆▆▆▇▇▇▇▇▇███</td></tr><tr><td>train_accuracy</td><td>▁▃▃▃▃▄▇█▆▇█▇█▇▇▇▆▆█▇▇███████████████████</td></tr><tr><td>train_loss</td><td>███████▇▇▇▇▆▆▆▅▅▅▄▄▃▂▃▂▂▂▁▁▁▁▁▁▁▁▁▁▁▁▁▁▁</td></tr><tr><td>val_accuracy</td><td>▁▃▅▃▄▁▁▇█▅▄</td></tr><tr><td>val_f1</td><td>▁▃▆▃▇▆▆██▇▇</td></tr><tr><td>val_loss</td><td>▆▆▆▆▄▅█▂▁▃▄</td></tr><tr><td>val_precision</td><td>▁███▅▄▅▆▇▆▅</td></tr><tr><td>val_recall</td><td>▁▂▄▂███████</td></tr></table><br/></div><div class=\"wandb-col\"><h3>Run summary:</h3><br/><table class=\"wandb\"><tr><td>epoch</td><td>11</td></tr><tr><td>step</td><td>43</td></tr><tr><td>train_accuracy</td><td>1.0</td></tr><tr><td>train_loss</td><td>0.00509</td></tr><tr><td>val_accuracy</td><td>0.67355</td></tr><tr><td>val_f1</td><td>0.7546</td></tr><tr><td>val_loss</td><td>0.49757</td></tr><tr><td>val_precision</td><td>0.60647</td></tr><tr><td>val_recall</td><td>1.0</td></tr></table><br/></div></div>"
            ],
            "text/plain": [
              "<IPython.core.display.HTML object>"
            ]
          },
          "metadata": {},
          "output_type": "display_data"
        },
        {
          "data": {
            "text/html": [
              " View run <strong style=\"color:#cdcd00\">ethereal-sweep-3--4</strong> at: <a href='https://wandb.ai/aiuis/ai-1-project/runs/apune0eq' target=\"_blank\">https://wandb.ai/aiuis/ai-1-project/runs/apune0eq</a><br/> View project at: <a href='https://wandb.ai/aiuis/ai-1-project' target=\"_blank\">https://wandb.ai/aiuis/ai-1-project</a><br/>Synced 5 W&B file(s), 0 media file(s), 0 artifact file(s) and 1 other file(s)"
            ],
            "text/plain": [
              "<IPython.core.display.HTML object>"
            ]
          },
          "metadata": {},
          "output_type": "display_data"
        },
        {
          "data": {
            "text/html": [
              "Find logs at: <code>../models/wandb/run-20240601_045819-apune0eq/logs</code>"
            ],
            "text/plain": [
              "<IPython.core.display.HTML object>"
            ]
          },
          "metadata": {},
          "output_type": "display_data"
        },
        {
          "data": {
            "text/html": [
              "Tracking run with wandb version 0.17.0"
            ],
            "text/plain": [
              "<IPython.core.display.HTML object>"
            ]
          },
          "metadata": {},
          "output_type": "display_data"
        },
        {
          "data": {
            "text/html": [
              "Run data is saved locally in <code>../models/wandb/run-20240601_050523-ugyb1d82</code>"
            ],
            "text/plain": [
              "<IPython.core.display.HTML object>"
            ]
          },
          "metadata": {},
          "output_type": "display_data"
        },
        {
          "data": {
            "text/html": [
              "Syncing run <strong><a href='https://wandb.ai/aiuis/ai-1-project/runs/ugyb1d82' target=\"_blank\">ethereal-sweep-3--5</a></strong> to <a href='https://wandb.ai/aiuis/ai-1-project' target=\"_blank\">Weights & Biases</a> (<a href='https://wandb.me/run' target=\"_blank\">docs</a>)<br/>"
            ],
            "text/plain": [
              "<IPython.core.display.HTML object>"
            ]
          },
          "metadata": {},
          "output_type": "display_data"
        },
        {
          "data": {
            "text/html": [
              " View project at <a href='https://wandb.ai/aiuis/ai-1-project' target=\"_blank\">https://wandb.ai/aiuis/ai-1-project</a>"
            ],
            "text/plain": [
              "<IPython.core.display.HTML object>"
            ]
          },
          "metadata": {},
          "output_type": "display_data"
        },
        {
          "data": {
            "text/html": [
              " View run at <a href='https://wandb.ai/aiuis/ai-1-project/runs/ugyb1d82' target=\"_blank\">https://wandb.ai/aiuis/ai-1-project/runs/ugyb1d82</a>"
            ],
            "text/plain": [
              "<IPython.core.display.HTML object>"
            ]
          },
          "metadata": {},
          "output_type": "display_data"
        },
        {
          "name": "stdout",
          "output_type": "stream",
          "text": [
            "ConvNet(\n",
            "  (layer1): Sequential(\n",
            "    (0): Conv3d(1, 16, kernel_size=(5, 5, 5), stride=(1, 1, 1), padding=(2, 2, 2))\n",
            "    (1): ReLU()\n",
            "    (2): MaxPool3d(kernel_size=2, stride=2, padding=0, dilation=1, ceil_mode=False)\n",
            "  )\n",
            "  (layer2): Sequential(\n",
            "    (0): Conv3d(16, 32, kernel_size=(5, 5, 5), stride=(1, 1, 1), padding=(2, 2, 2))\n",
            "    (1): ReLU()\n",
            "    (2): MaxPool3d(kernel_size=2, stride=2, padding=0, dilation=1, ceil_mode=False)\n",
            "  )\n",
            "  (fc): Linear(in_features=75264, out_features=1, bias=True)\n",
            ")\n",
            "FOLD 6\n",
            "--------------------------------\n",
            "Epoch 1\n",
            "-------------------------------\n",
            "train loss: 0.696 accuracy: 0.461 [after 1 batches]\n",
            "train loss: 0.690 accuracy: 0.641 [after 3 batches]\n",
            "train loss: 0.684 accuracy: 0.484 [after 5 batches]\n",
            "train loss: 0.712 accuracy: 0.641 [after 7 batches]\n",
            "val loss: 0.707 accuracy: 0.528 [after 2 batches]\n",
            "Epoch 2\n",
            "-------------------------------\n",
            "train loss: 0.679 accuracy: 0.516 [after 1 batches]\n",
            "train loss: 0.670 accuracy: 0.484 [after 3 batches]\n",
            "train loss: 0.663 accuracy: 0.961 [after 5 batches]\n",
            "train loss: 0.656 accuracy: 0.949 [after 7 batches]\n",
            "val loss: 0.695 accuracy: 0.445 [after 2 batches]\n",
            "Epoch 3\n",
            "-------------------------------\n",
            "train loss: 0.648 accuracy: 0.852 [after 1 batches]\n",
            "train loss: 0.630 accuracy: 0.867 [after 3 batches]\n",
            "train loss: 0.621 accuracy: 0.859 [after 5 batches]\n",
            "train loss: 0.588 accuracy: 0.949 [after 7 batches]\n",
            "val loss: 0.693 accuracy: 0.597 [after 2 batches]\n",
            "Epoch 4\n",
            "-------------------------------\n",
            "train loss: 0.562 accuracy: 0.930 [after 1 batches]\n",
            "train loss: 0.568 accuracy: 0.836 [after 3 batches]\n",
            "train loss: 0.524 accuracy: 0.898 [after 5 batches]\n",
            "train loss: 0.466 accuracy: 1.000 [after 7 batches]\n",
            "val loss: 0.694 accuracy: 0.411 [after 2 batches]\n",
            "Epoch 5\n",
            "-------------------------------\n",
            "train loss: 0.418 accuracy: 0.977 [after 1 batches]\n",
            "train loss: 0.370 accuracy: 0.906 [after 3 batches]\n",
            "train loss: 0.329 accuracy: 0.906 [after 5 batches]\n",
            "train loss: 0.236 accuracy: 0.974 [after 7 batches]\n",
            "val loss: 1.063 accuracy: 0.528 [after 2 batches]\n",
            "Epoch 6\n",
            "-------------------------------\n",
            "train loss: 0.193 accuracy: 0.984 [after 1 batches]\n",
            "train loss: 0.157 accuracy: 0.977 [after 3 batches]\n",
            "train loss: 0.133 accuracy: 0.945 [after 5 batches]\n",
            "train loss: 0.085 accuracy: 1.000 [after 7 batches]\n",
            "val loss: 2.295 accuracy: 0.514 [after 2 batches]\n",
            "Epoch 7\n",
            "-------------------------------\n",
            "train loss: 0.106 accuracy: 0.977 [after 1 batches]\n",
            "train loss: 0.203 accuracy: 0.906 [after 3 batches]\n",
            "train loss: 0.087 accuracy: 0.977 [after 5 batches]\n",
            "train loss: 0.047 accuracy: 1.000 [after 7 batches]\n",
            "val loss: 1.788 accuracy: 0.500 [after 2 batches]\n",
            "Epoch 8\n",
            "-------------------------------\n",
            "train loss: 0.028 accuracy: 1.000 [after 1 batches]\n",
            "train loss: 0.019 accuracy: 1.000 [after 3 batches]\n",
            "train loss: 0.046 accuracy: 0.984 [after 5 batches]\n",
            "train loss: 0.021 accuracy: 1.000 [after 7 batches]\n",
            "val loss: 1.070 accuracy: 0.518 [after 2 batches]\n",
            "Epoch 9\n",
            "-------------------------------\n",
            "train loss: 0.016 accuracy: 1.000 [after 1 batches]\n",
            "train loss: 0.026 accuracy: 1.000 [after 3 batches]\n",
            "train loss: 0.011 accuracy: 1.000 [after 5 batches]\n",
            "train loss: 0.008 accuracy: 1.000 [after 7 batches]\n",
            "val loss: 2.209 accuracy: 0.528 [after 2 batches]\n",
            "Epoch 10\n",
            "-------------------------------\n",
            "train loss: 0.010 accuracy: 1.000 [after 1 batches]\n",
            "train loss: 0.006 accuracy: 1.000 [after 3 batches]\n",
            "train loss: 0.007 accuracy: 1.000 [after 5 batches]\n",
            "train loss: 0.007 accuracy: 1.000 [after 7 batches]\n",
            "val loss: 1.833 accuracy: 0.472 [after 2 batches]\n",
            "Epoch 11\n",
            "-------------------------------\n",
            "train loss: 0.003 accuracy: 1.000 [after 1 batches]\n",
            "train loss: 0.012 accuracy: 1.000 [after 3 batches]\n",
            "train loss: 0.003 accuracy: 1.000 [after 5 batches]\n",
            "train loss: 0.004 accuracy: 1.000 [after 7 batches]\n",
            "val loss: 1.016 accuracy: 0.512 [after 2 batches]\n",
            "Epoch 12\n",
            "-------------------------------\n",
            "train loss: 0.008 accuracy: 1.000 [after 1 batches]\n",
            "train loss: 0.003 accuracy: 1.000 [after 3 batches]\n",
            "train loss: 0.008 accuracy: 1.000 [after 5 batches]\n",
            "train loss: 0.001 accuracy: 1.000 [after 7 batches]\n",
            "val loss: 2.099 accuracy: 0.500 [after 2 batches]\n",
            "Epoch 13\n",
            "-------------------------------\n",
            "train loss: 0.002 accuracy: 1.000 [after 1 batches]\n",
            "train loss: 0.003 accuracy: 1.000 [after 3 batches]\n",
            "train loss: 0.002 accuracy: 1.000 [after 5 batches]\n",
            "train loss: 0.003 accuracy: 1.000 [after 7 batches]\n",
            "val loss: 2.183 accuracy: 0.458 [after 2 batches]\n",
            "Epoch 14\n",
            "-------------------------------\n"
          ]
        },
        {
          "name": "stderr",
          "output_type": "stream",
          "text": [
            "\u001b[34m\u001b[1mwandb\u001b[0m: Ctrl + C detected. Stopping sweep.\n"
          ]
        },
        {
          "name": "stdout",
          "output_type": "stream",
          "text": [
            "train loss: 0.002 accuracy: 1.000 [after 1 batches]\n"
          ]
        },
        {
          "data": {
            "application/vnd.jupyter.widget-view+json": {
              "model_id": "8133a857f16f4e3b931abf96c7165364",
              "version_major": 2,
              "version_minor": 0
            },
            "text/plain": [
              "VBox(children=(Label(value='0.001 MB of 0.001 MB uploaded\\r'), FloatProgress(value=1.0, max=1.0)))"
            ]
          },
          "metadata": {},
          "output_type": "display_data"
        },
        {
          "data": {
            "text/html": [
              "<style>\n",
              "    table.wandb td:nth-child(1) { padding: 0 10px; text-align: left ; width: auto;} td:nth-child(2) {text-align: left ; width: 100%}\n",
              "    .wandb-row { display: flex; flex-direction: row; flex-wrap: wrap; justify-content: flex-start; width: 100% }\n",
              "    .wandb-col { display: flex; flex-direction: column; flex-basis: 100%; flex: 1; padding: 10px; }\n",
              "    </style>\n",
              "<div class=\"wandb-row\"><div class=\"wandb-col\"><h3>Run history:</h3><br/><table class=\"wandb\"><tr><td>epoch</td><td>▁▂▂▃▃▄▅▅▆▆▇▇█</td></tr><tr><td>step</td><td>▁▁▁▂▂▂▂▂▂▃▃▃▃▃▃▄▄▄▄▄▅▅▅▅▅▅▆▆▆▆▆▇▇▇▇▇▇███</td></tr><tr><td>train_accuracy</td><td>▁▃▁▂▁▇▆▆▆▇▆▇█▇▇██▇█▇████████████████████</td></tr><tr><td>train_loss</td><td>███████▇▇▇▇▆▅▅▄▃▃▂▂▃▂▁▁▁▁▁▁▁▁▁▁▁▁▁▁▁▁▁▁▁</td></tr><tr><td>val_accuracy</td><td>▅▂█▁▅▅▄▅▅▃▅▄▃</td></tr><tr><td>val_f1</td><td>▁▁█▂▁▁▁▁▁▁▁▁▁</td></tr><tr><td>val_loss</td><td>▁▁▁▁▃█▆▃█▆▂▇█</td></tr><tr><td>val_precision</td><td>▁▁█▅▁▁▁▇▁▁▇▁▁</td></tr><tr><td>val_recall</td><td>▁▁█▁▁▁▁▁▁▁▁▁▁</td></tr></table><br/></div><div class=\"wandb-col\"><h3>Run summary:</h3><br/><table class=\"wandb\"><tr><td>epoch</td><td>13</td></tr><tr><td>step</td><td>52</td></tr><tr><td>train_accuracy</td><td>1.0</td></tr><tr><td>train_loss</td><td>0.00168</td></tr><tr><td>val_accuracy</td><td>0.45815</td></tr><tr><td>val_f1</td><td>0.0</td></tr><tr><td>val_loss</td><td>2.18314</td></tr><tr><td>val_precision</td><td>0.0</td></tr><tr><td>val_recall</td><td>0.0</td></tr></table><br/></div></div>"
            ],
            "text/plain": [
              "<IPython.core.display.HTML object>"
            ]
          },
          "metadata": {},
          "output_type": "display_data"
        },
        {
          "data": {
            "text/html": [
              " View run <strong style=\"color:#cdcd00\">ethereal-sweep-3--5</strong> at: <a href='https://wandb.ai/aiuis/ai-1-project/runs/ugyb1d82' target=\"_blank\">https://wandb.ai/aiuis/ai-1-project/runs/ugyb1d82</a><br/> View project at: <a href='https://wandb.ai/aiuis/ai-1-project' target=\"_blank\">https://wandb.ai/aiuis/ai-1-project</a><br/>Synced 5 W&B file(s), 0 media file(s), 0 artifact file(s) and 0 other file(s)"
            ],
            "text/plain": [
              "<IPython.core.display.HTML object>"
            ]
          },
          "metadata": {},
          "output_type": "display_data"
        },
        {
          "data": {
            "text/html": [
              "Find logs at: <code>../models/wandb/run-20240601_050523-ugyb1d82/logs</code>"
            ],
            "text/plain": [
              "<IPython.core.display.HTML object>"
            ]
          },
          "metadata": {},
          "output_type": "display_data"
        }
      ],
      "source": [
        "sweep_id = wandb.sweep(sweep_configuration, project='ai-1-project')\n",
        "wandb.agent(sweep_id, function=cross_validate, count=10)\n",
        "\n",
        "wandb.finish()"
      ]
    }
  ],
  "metadata": {
    "accelerator": "GPU",
    "colab": {
      "gpuType": "T4",
      "provenance": []
    },
    "kernelspec": {
      "display_name": "Python 3",
      "name": "python3"
    },
    "language_info": {
      "codemirror_mode": {
        "name": "ipython",
        "version": 3
      },
      "file_extension": ".py",
      "mimetype": "text/x-python",
      "name": "python",
      "nbconvert_exporter": "python",
      "pygments_lexer": "ipython3",
      "version": "3.10.14"
    },
    "widgets": {
      "application/vnd.jupyter.widget-state+json": {
        "00a51a63c7cb472fac2cd4fc59b27a8b": {
          "model_module": "@jupyter-widgets/controls",
          "model_module_version": "1.5.0",
          "model_name": "FloatProgressModel",
          "state": {
            "_dom_classes": [],
            "_model_module": "@jupyter-widgets/controls",
            "_model_module_version": "1.5.0",
            "_model_name": "FloatProgressModel",
            "_view_count": null,
            "_view_module": "@jupyter-widgets/controls",
            "_view_module_version": "1.5.0",
            "_view_name": "ProgressView",
            "bar_style": "",
            "description": "",
            "description_tooltip": null,
            "layout": "IPY_MODEL_cd4a1b0344c642c9b3dd2db3b8d241e3",
            "max": 1,
            "min": 0,
            "orientation": "horizontal",
            "style": "IPY_MODEL_c45a950c71ba42b387bdcc5be8eba815",
            "value": 1
          }
        },
        "01228675bcfa46db9ac4379fb94630f6": {
          "model_module": "@jupyter-widgets/controls",
          "model_module_version": "1.5.0",
          "model_name": "ProgressStyleModel",
          "state": {
            "_model_module": "@jupyter-widgets/controls",
            "_model_module_version": "1.5.0",
            "_model_name": "ProgressStyleModel",
            "_view_count": null,
            "_view_module": "@jupyter-widgets/base",
            "_view_module_version": "1.2.0",
            "_view_name": "StyleView",
            "bar_color": null,
            "description_width": ""
          }
        },
        "03de5cecbea74baab58ce117dc971f5a": {
          "model_module": "@jupyter-widgets/base",
          "model_module_version": "1.2.0",
          "model_name": "LayoutModel",
          "state": {
            "_model_module": "@jupyter-widgets/base",
            "_model_module_version": "1.2.0",
            "_model_name": "LayoutModel",
            "_view_count": null,
            "_view_module": "@jupyter-widgets/base",
            "_view_module_version": "1.2.0",
            "_view_name": "LayoutView",
            "align_content": null,
            "align_items": null,
            "align_self": null,
            "border": null,
            "bottom": null,
            "display": null,
            "flex": null,
            "flex_flow": null,
            "grid_area": null,
            "grid_auto_columns": null,
            "grid_auto_flow": null,
            "grid_auto_rows": null,
            "grid_column": null,
            "grid_gap": null,
            "grid_row": null,
            "grid_template_areas": null,
            "grid_template_columns": null,
            "grid_template_rows": null,
            "height": null,
            "justify_content": null,
            "justify_items": null,
            "left": null,
            "margin": null,
            "max_height": null,
            "max_width": null,
            "min_height": null,
            "min_width": null,
            "object_fit": null,
            "object_position": null,
            "order": null,
            "overflow": null,
            "overflow_x": null,
            "overflow_y": null,
            "padding": null,
            "right": null,
            "top": null,
            "visibility": null,
            "width": null
          }
        },
        "04e460b33b694d9ba78fe8ab528d90a2": {
          "model_module": "@jupyter-widgets/controls",
          "model_module_version": "1.5.0",
          "model_name": "FloatProgressModel",
          "state": {
            "_dom_classes": [],
            "_model_module": "@jupyter-widgets/controls",
            "_model_module_version": "1.5.0",
            "_model_name": "FloatProgressModel",
            "_view_count": null,
            "_view_module": "@jupyter-widgets/controls",
            "_view_module_version": "1.5.0",
            "_view_name": "ProgressView",
            "bar_style": "",
            "description": "",
            "description_tooltip": null,
            "layout": "IPY_MODEL_f0beafdc707f473989fe4a84c2f22167",
            "max": 1,
            "min": 0,
            "orientation": "horizontal",
            "style": "IPY_MODEL_01228675bcfa46db9ac4379fb94630f6",
            "value": 1
          }
        },
        "061ede5ecceb40dd8116fa4b2637c825": {
          "model_module": "@jupyter-widgets/base",
          "model_module_version": "1.2.0",
          "model_name": "LayoutModel",
          "state": {
            "_model_module": "@jupyter-widgets/base",
            "_model_module_version": "1.2.0",
            "_model_name": "LayoutModel",
            "_view_count": null,
            "_view_module": "@jupyter-widgets/base",
            "_view_module_version": "1.2.0",
            "_view_name": "LayoutView",
            "align_content": null,
            "align_items": null,
            "align_self": null,
            "border": null,
            "bottom": null,
            "display": null,
            "flex": null,
            "flex_flow": null,
            "grid_area": null,
            "grid_auto_columns": null,
            "grid_auto_flow": null,
            "grid_auto_rows": null,
            "grid_column": null,
            "grid_gap": null,
            "grid_row": null,
            "grid_template_areas": null,
            "grid_template_columns": null,
            "grid_template_rows": null,
            "height": null,
            "justify_content": null,
            "justify_items": null,
            "left": null,
            "margin": null,
            "max_height": null,
            "max_width": null,
            "min_height": null,
            "min_width": null,
            "object_fit": null,
            "object_position": null,
            "order": null,
            "overflow": null,
            "overflow_x": null,
            "overflow_y": null,
            "padding": null,
            "right": null,
            "top": null,
            "visibility": null,
            "width": null
          }
        },
        "085602661a9f4bec9245298ecd702f0a": {
          "model_module": "@jupyter-widgets/controls",
          "model_module_version": "1.5.0",
          "model_name": "ProgressStyleModel",
          "state": {
            "_model_module": "@jupyter-widgets/controls",
            "_model_module_version": "1.5.0",
            "_model_name": "ProgressStyleModel",
            "_view_count": null,
            "_view_module": "@jupyter-widgets/base",
            "_view_module_version": "1.2.0",
            "_view_name": "StyleView",
            "bar_color": null,
            "description_width": ""
          }
        },
        "08ef69163a2c4b349fb31e0fa06f3671": {
          "model_module": "@jupyter-widgets/controls",
          "model_module_version": "1.5.0",
          "model_name": "FloatProgressModel",
          "state": {
            "_dom_classes": [],
            "_model_module": "@jupyter-widgets/controls",
            "_model_module_version": "1.5.0",
            "_model_name": "FloatProgressModel",
            "_view_count": null,
            "_view_module": "@jupyter-widgets/controls",
            "_view_module_version": "1.5.0",
            "_view_name": "ProgressView",
            "bar_style": "",
            "description": "",
            "description_tooltip": null,
            "layout": "IPY_MODEL_f5fe172a94e14a4694daa29b0496220c",
            "max": 1,
            "min": 0,
            "orientation": "horizontal",
            "style": "IPY_MODEL_9399a2d57e7b4a5d9a8653b56214efe3",
            "value": 1
          }
        },
        "08fb94584bb54bb8b22d380e0bbe1ed9": {
          "model_module": "@jupyter-widgets/base",
          "model_module_version": "1.2.0",
          "model_name": "LayoutModel",
          "state": {
            "_model_module": "@jupyter-widgets/base",
            "_model_module_version": "1.2.0",
            "_model_name": "LayoutModel",
            "_view_count": null,
            "_view_module": "@jupyter-widgets/base",
            "_view_module_version": "1.2.0",
            "_view_name": "LayoutView",
            "align_content": null,
            "align_items": null,
            "align_self": null,
            "border": null,
            "bottom": null,
            "display": null,
            "flex": null,
            "flex_flow": null,
            "grid_area": null,
            "grid_auto_columns": null,
            "grid_auto_flow": null,
            "grid_auto_rows": null,
            "grid_column": null,
            "grid_gap": null,
            "grid_row": null,
            "grid_template_areas": null,
            "grid_template_columns": null,
            "grid_template_rows": null,
            "height": null,
            "justify_content": null,
            "justify_items": null,
            "left": null,
            "margin": null,
            "max_height": null,
            "max_width": null,
            "min_height": null,
            "min_width": null,
            "object_fit": null,
            "object_position": null,
            "order": null,
            "overflow": null,
            "overflow_x": null,
            "overflow_y": null,
            "padding": null,
            "right": null,
            "top": null,
            "visibility": null,
            "width": null
          }
        },
        "09045231fa8c4473a7fb031c9fc9b134": {
          "model_module": "@jupyter-widgets/base",
          "model_module_version": "1.2.0",
          "model_name": "LayoutModel",
          "state": {
            "_model_module": "@jupyter-widgets/base",
            "_model_module_version": "1.2.0",
            "_model_name": "LayoutModel",
            "_view_count": null,
            "_view_module": "@jupyter-widgets/base",
            "_view_module_version": "1.2.0",
            "_view_name": "LayoutView",
            "align_content": null,
            "align_items": null,
            "align_self": null,
            "border": null,
            "bottom": null,
            "display": null,
            "flex": null,
            "flex_flow": null,
            "grid_area": null,
            "grid_auto_columns": null,
            "grid_auto_flow": null,
            "grid_auto_rows": null,
            "grid_column": null,
            "grid_gap": null,
            "grid_row": null,
            "grid_template_areas": null,
            "grid_template_columns": null,
            "grid_template_rows": null,
            "height": null,
            "justify_content": null,
            "justify_items": null,
            "left": null,
            "margin": null,
            "max_height": null,
            "max_width": null,
            "min_height": null,
            "min_width": null,
            "object_fit": null,
            "object_position": null,
            "order": null,
            "overflow": null,
            "overflow_x": null,
            "overflow_y": null,
            "padding": null,
            "right": null,
            "top": null,
            "visibility": null,
            "width": null
          }
        },
        "094ed1709d9a4bbdb74c1c69acc5f2da": {
          "model_module": "@jupyter-widgets/controls",
          "model_module_version": "1.5.0",
          "model_name": "DescriptionStyleModel",
          "state": {
            "_model_module": "@jupyter-widgets/controls",
            "_model_module_version": "1.5.0",
            "_model_name": "DescriptionStyleModel",
            "_view_count": null,
            "_view_module": "@jupyter-widgets/base",
            "_view_module_version": "1.2.0",
            "_view_name": "StyleView",
            "description_width": ""
          }
        },
        "0a004a9151954cc898f56a823c91435c": {
          "model_module": "@jupyter-widgets/base",
          "model_module_version": "1.2.0",
          "model_name": "LayoutModel",
          "state": {
            "_model_module": "@jupyter-widgets/base",
            "_model_module_version": "1.2.0",
            "_model_name": "LayoutModel",
            "_view_count": null,
            "_view_module": "@jupyter-widgets/base",
            "_view_module_version": "1.2.0",
            "_view_name": "LayoutView",
            "align_content": null,
            "align_items": null,
            "align_self": null,
            "border": null,
            "bottom": null,
            "display": null,
            "flex": null,
            "flex_flow": null,
            "grid_area": null,
            "grid_auto_columns": null,
            "grid_auto_flow": null,
            "grid_auto_rows": null,
            "grid_column": null,
            "grid_gap": null,
            "grid_row": null,
            "grid_template_areas": null,
            "grid_template_columns": null,
            "grid_template_rows": null,
            "height": null,
            "justify_content": null,
            "justify_items": null,
            "left": null,
            "margin": null,
            "max_height": null,
            "max_width": null,
            "min_height": null,
            "min_width": null,
            "object_fit": null,
            "object_position": null,
            "order": null,
            "overflow": null,
            "overflow_x": null,
            "overflow_y": null,
            "padding": null,
            "right": null,
            "top": null,
            "visibility": null,
            "width": null
          }
        },
        "0c7cc34731fd4e06aeb605102e041fe5": {
          "model_module": "@jupyter-widgets/controls",
          "model_module_version": "1.5.0",
          "model_name": "ProgressStyleModel",
          "state": {
            "_model_module": "@jupyter-widgets/controls",
            "_model_module_version": "1.5.0",
            "_model_name": "ProgressStyleModel",
            "_view_count": null,
            "_view_module": "@jupyter-widgets/base",
            "_view_module_version": "1.2.0",
            "_view_name": "StyleView",
            "bar_color": null,
            "description_width": ""
          }
        },
        "0d9e1148cbbe4ef090cf022782a74664": {
          "model_module": "@jupyter-widgets/base",
          "model_module_version": "1.2.0",
          "model_name": "LayoutModel",
          "state": {
            "_model_module": "@jupyter-widgets/base",
            "_model_module_version": "1.2.0",
            "_model_name": "LayoutModel",
            "_view_count": null,
            "_view_module": "@jupyter-widgets/base",
            "_view_module_version": "1.2.0",
            "_view_name": "LayoutView",
            "align_content": null,
            "align_items": null,
            "align_self": null,
            "border": null,
            "bottom": null,
            "display": null,
            "flex": null,
            "flex_flow": null,
            "grid_area": null,
            "grid_auto_columns": null,
            "grid_auto_flow": null,
            "grid_auto_rows": null,
            "grid_column": null,
            "grid_gap": null,
            "grid_row": null,
            "grid_template_areas": null,
            "grid_template_columns": null,
            "grid_template_rows": null,
            "height": null,
            "justify_content": null,
            "justify_items": null,
            "left": null,
            "margin": null,
            "max_height": null,
            "max_width": null,
            "min_height": null,
            "min_width": null,
            "object_fit": null,
            "object_position": null,
            "order": null,
            "overflow": null,
            "overflow_x": null,
            "overflow_y": null,
            "padding": null,
            "right": null,
            "top": null,
            "visibility": null,
            "width": null
          }
        },
        "0dc89a52a8da40e981853d8e5353004a": {
          "model_module": "@jupyter-widgets/base",
          "model_module_version": "1.2.0",
          "model_name": "LayoutModel",
          "state": {
            "_model_module": "@jupyter-widgets/base",
            "_model_module_version": "1.2.0",
            "_model_name": "LayoutModel",
            "_view_count": null,
            "_view_module": "@jupyter-widgets/base",
            "_view_module_version": "1.2.0",
            "_view_name": "LayoutView",
            "align_content": null,
            "align_items": null,
            "align_self": null,
            "border": null,
            "bottom": null,
            "display": null,
            "flex": null,
            "flex_flow": null,
            "grid_area": null,
            "grid_auto_columns": null,
            "grid_auto_flow": null,
            "grid_auto_rows": null,
            "grid_column": null,
            "grid_gap": null,
            "grid_row": null,
            "grid_template_areas": null,
            "grid_template_columns": null,
            "grid_template_rows": null,
            "height": null,
            "justify_content": null,
            "justify_items": null,
            "left": null,
            "margin": null,
            "max_height": null,
            "max_width": null,
            "min_height": null,
            "min_width": null,
            "object_fit": null,
            "object_position": null,
            "order": null,
            "overflow": null,
            "overflow_x": null,
            "overflow_y": null,
            "padding": null,
            "right": null,
            "top": null,
            "visibility": null,
            "width": null
          }
        },
        "107431f0a14c41cbb7f37ad45cc5478c": {
          "model_module": "@jupyter-widgets/controls",
          "model_module_version": "1.5.0",
          "model_name": "LabelModel",
          "state": {
            "_dom_classes": [],
            "_model_module": "@jupyter-widgets/controls",
            "_model_module_version": "1.5.0",
            "_model_name": "LabelModel",
            "_view_count": null,
            "_view_module": "@jupyter-widgets/controls",
            "_view_module_version": "1.5.0",
            "_view_name": "LabelView",
            "description": "",
            "description_tooltip": null,
            "layout": "IPY_MODEL_f703d7ca077047d9be2c9eafea0860ff",
            "placeholder": "​",
            "style": "IPY_MODEL_4ce1b7f87ab64bdfac1e72d8c9a9b18f",
            "value": "0.575 MB of 0.575 MB uploaded\r"
          }
        },
        "11248968897549f296734485f07c0723": {
          "model_module": "@jupyter-widgets/controls",
          "model_module_version": "1.5.0",
          "model_name": "DescriptionStyleModel",
          "state": {
            "_model_module": "@jupyter-widgets/controls",
            "_model_module_version": "1.5.0",
            "_model_name": "DescriptionStyleModel",
            "_view_count": null,
            "_view_module": "@jupyter-widgets/base",
            "_view_module_version": "1.2.0",
            "_view_name": "StyleView",
            "description_width": ""
          }
        },
        "1213d4058f994325a9b2223d4dd9c0e3": {
          "model_module": "@jupyter-widgets/base",
          "model_module_version": "1.2.0",
          "model_name": "LayoutModel",
          "state": {
            "_model_module": "@jupyter-widgets/base",
            "_model_module_version": "1.2.0",
            "_model_name": "LayoutModel",
            "_view_count": null,
            "_view_module": "@jupyter-widgets/base",
            "_view_module_version": "1.2.0",
            "_view_name": "LayoutView",
            "align_content": null,
            "align_items": null,
            "align_self": null,
            "border": null,
            "bottom": null,
            "display": null,
            "flex": null,
            "flex_flow": null,
            "grid_area": null,
            "grid_auto_columns": null,
            "grid_auto_flow": null,
            "grid_auto_rows": null,
            "grid_column": null,
            "grid_gap": null,
            "grid_row": null,
            "grid_template_areas": null,
            "grid_template_columns": null,
            "grid_template_rows": null,
            "height": null,
            "justify_content": null,
            "justify_items": null,
            "left": null,
            "margin": null,
            "max_height": null,
            "max_width": null,
            "min_height": null,
            "min_width": null,
            "object_fit": null,
            "object_position": null,
            "order": null,
            "overflow": null,
            "overflow_x": null,
            "overflow_y": null,
            "padding": null,
            "right": null,
            "top": null,
            "visibility": null,
            "width": null
          }
        },
        "153b0929f977485f94b1904aeec4f9fa": {
          "model_module": "@jupyter-widgets/controls",
          "model_module_version": "1.5.0",
          "model_name": "VBoxModel",
          "state": {
            "_dom_classes": [],
            "_model_module": "@jupyter-widgets/controls",
            "_model_module_version": "1.5.0",
            "_model_name": "VBoxModel",
            "_view_count": null,
            "_view_module": "@jupyter-widgets/controls",
            "_view_module_version": "1.5.0",
            "_view_name": "VBoxView",
            "box_style": "",
            "children": [
              "IPY_MODEL_98008367301240949107a2a18c5cf780",
              "IPY_MODEL_977aec64435f469da3f5607831c83fa5"
            ],
            "layout": "IPY_MODEL_159835a8a947414a83ec7c0aaa895d51"
          }
        },
        "159835a8a947414a83ec7c0aaa895d51": {
          "model_module": "@jupyter-widgets/base",
          "model_module_version": "1.2.0",
          "model_name": "LayoutModel",
          "state": {
            "_model_module": "@jupyter-widgets/base",
            "_model_module_version": "1.2.0",
            "_model_name": "LayoutModel",
            "_view_count": null,
            "_view_module": "@jupyter-widgets/base",
            "_view_module_version": "1.2.0",
            "_view_name": "LayoutView",
            "align_content": null,
            "align_items": null,
            "align_self": null,
            "border": null,
            "bottom": null,
            "display": null,
            "flex": null,
            "flex_flow": null,
            "grid_area": null,
            "grid_auto_columns": null,
            "grid_auto_flow": null,
            "grid_auto_rows": null,
            "grid_column": null,
            "grid_gap": null,
            "grid_row": null,
            "grid_template_areas": null,
            "grid_template_columns": null,
            "grid_template_rows": null,
            "height": null,
            "justify_content": null,
            "justify_items": null,
            "left": null,
            "margin": null,
            "max_height": null,
            "max_width": null,
            "min_height": null,
            "min_width": null,
            "object_fit": null,
            "object_position": null,
            "order": null,
            "overflow": null,
            "overflow_x": null,
            "overflow_y": null,
            "padding": null,
            "right": null,
            "top": null,
            "visibility": null,
            "width": null
          }
        },
        "171bf0673ed942e1b689b6bc2f2aaaa9": {
          "model_module": "@jupyter-widgets/base",
          "model_module_version": "1.2.0",
          "model_name": "LayoutModel",
          "state": {
            "_model_module": "@jupyter-widgets/base",
            "_model_module_version": "1.2.0",
            "_model_name": "LayoutModel",
            "_view_count": null,
            "_view_module": "@jupyter-widgets/base",
            "_view_module_version": "1.2.0",
            "_view_name": "LayoutView",
            "align_content": null,
            "align_items": null,
            "align_self": null,
            "border": null,
            "bottom": null,
            "display": null,
            "flex": null,
            "flex_flow": null,
            "grid_area": null,
            "grid_auto_columns": null,
            "grid_auto_flow": null,
            "grid_auto_rows": null,
            "grid_column": null,
            "grid_gap": null,
            "grid_row": null,
            "grid_template_areas": null,
            "grid_template_columns": null,
            "grid_template_rows": null,
            "height": null,
            "justify_content": null,
            "justify_items": null,
            "left": null,
            "margin": null,
            "max_height": null,
            "max_width": null,
            "min_height": null,
            "min_width": null,
            "object_fit": null,
            "object_position": null,
            "order": null,
            "overflow": null,
            "overflow_x": null,
            "overflow_y": null,
            "padding": null,
            "right": null,
            "top": null,
            "visibility": null,
            "width": null
          }
        },
        "198cd31043214343aa4979aa67a6e13d": {
          "model_module": "@jupyter-widgets/controls",
          "model_module_version": "1.5.0",
          "model_name": "LabelModel",
          "state": {
            "_dom_classes": [],
            "_model_module": "@jupyter-widgets/controls",
            "_model_module_version": "1.5.0",
            "_model_name": "LabelModel",
            "_view_count": null,
            "_view_module": "@jupyter-widgets/controls",
            "_view_module_version": "1.5.0",
            "_view_name": "LabelView",
            "description": "",
            "description_tooltip": null,
            "layout": "IPY_MODEL_b7381ec912be4c4c9170519390391b65",
            "placeholder": "​",
            "style": "IPY_MODEL_983dc0012d8041f688e5fb1ab2c567d0",
            "value": "0.010 MB of 0.010 MB uploaded\r"
          }
        },
        "19be7861846944f3a57b01a2a32c9186": {
          "model_module": "@jupyter-widgets/controls",
          "model_module_version": "1.5.0",
          "model_name": "LabelModel",
          "state": {
            "_dom_classes": [],
            "_model_module": "@jupyter-widgets/controls",
            "_model_module_version": "1.5.0",
            "_model_name": "LabelModel",
            "_view_count": null,
            "_view_module": "@jupyter-widgets/controls",
            "_view_module_version": "1.5.0",
            "_view_name": "LabelView",
            "description": "",
            "description_tooltip": null,
            "layout": "IPY_MODEL_09045231fa8c4473a7fb031c9fc9b134",
            "placeholder": "​",
            "style": "IPY_MODEL_f3a9cdc728ef4e5c9a7cf6843da41c43",
            "value": "0.579 MB of 0.579 MB uploaded\r"
          }
        },
        "1bf67e3af04f4c5e9506c0d79eb068ab": {
          "model_module": "@jupyter-widgets/controls",
          "model_module_version": "1.5.0",
          "model_name": "VBoxModel",
          "state": {
            "_dom_classes": [],
            "_model_module": "@jupyter-widgets/controls",
            "_model_module_version": "1.5.0",
            "_model_name": "VBoxModel",
            "_view_count": null,
            "_view_module": "@jupyter-widgets/controls",
            "_view_module_version": "1.5.0",
            "_view_name": "VBoxView",
            "box_style": "",
            "children": [
              "IPY_MODEL_6f55400e11a248b6b3ee47794390f43e",
              "IPY_MODEL_a87902d6cefb4ef5a571483275d42cc3"
            ],
            "layout": "IPY_MODEL_5f73d3728dfd496385da0d48c88937f6"
          }
        },
        "1c02bf1a8a704c6098a562d167965547": {
          "model_module": "@jupyter-widgets/base",
          "model_module_version": "1.2.0",
          "model_name": "LayoutModel",
          "state": {
            "_model_module": "@jupyter-widgets/base",
            "_model_module_version": "1.2.0",
            "_model_name": "LayoutModel",
            "_view_count": null,
            "_view_module": "@jupyter-widgets/base",
            "_view_module_version": "1.2.0",
            "_view_name": "LayoutView",
            "align_content": null,
            "align_items": null,
            "align_self": null,
            "border": null,
            "bottom": null,
            "display": null,
            "flex": null,
            "flex_flow": null,
            "grid_area": null,
            "grid_auto_columns": null,
            "grid_auto_flow": null,
            "grid_auto_rows": null,
            "grid_column": null,
            "grid_gap": null,
            "grid_row": null,
            "grid_template_areas": null,
            "grid_template_columns": null,
            "grid_template_rows": null,
            "height": null,
            "justify_content": null,
            "justify_items": null,
            "left": null,
            "margin": null,
            "max_height": null,
            "max_width": null,
            "min_height": null,
            "min_width": null,
            "object_fit": null,
            "object_position": null,
            "order": null,
            "overflow": null,
            "overflow_x": null,
            "overflow_y": null,
            "padding": null,
            "right": null,
            "top": null,
            "visibility": null,
            "width": null
          }
        },
        "25aef6d3baf841ce8c7c1067dc58adb2": {
          "model_module": "@jupyter-widgets/base",
          "model_module_version": "1.2.0",
          "model_name": "LayoutModel",
          "state": {
            "_model_module": "@jupyter-widgets/base",
            "_model_module_version": "1.2.0",
            "_model_name": "LayoutModel",
            "_view_count": null,
            "_view_module": "@jupyter-widgets/base",
            "_view_module_version": "1.2.0",
            "_view_name": "LayoutView",
            "align_content": null,
            "align_items": null,
            "align_self": null,
            "border": null,
            "bottom": null,
            "display": null,
            "flex": null,
            "flex_flow": null,
            "grid_area": null,
            "grid_auto_columns": null,
            "grid_auto_flow": null,
            "grid_auto_rows": null,
            "grid_column": null,
            "grid_gap": null,
            "grid_row": null,
            "grid_template_areas": null,
            "grid_template_columns": null,
            "grid_template_rows": null,
            "height": null,
            "justify_content": null,
            "justify_items": null,
            "left": null,
            "margin": null,
            "max_height": null,
            "max_width": null,
            "min_height": null,
            "min_width": null,
            "object_fit": null,
            "object_position": null,
            "order": null,
            "overflow": null,
            "overflow_x": null,
            "overflow_y": null,
            "padding": null,
            "right": null,
            "top": null,
            "visibility": null,
            "width": null
          }
        },
        "28aca04668494c8c871e5d5780b6fd1f": {
          "model_module": "@jupyter-widgets/controls",
          "model_module_version": "1.5.0",
          "model_name": "VBoxModel",
          "state": {
            "_dom_classes": [],
            "_model_module": "@jupyter-widgets/controls",
            "_model_module_version": "1.5.0",
            "_model_name": "VBoxModel",
            "_view_count": null,
            "_view_module": "@jupyter-widgets/controls",
            "_view_module_version": "1.5.0",
            "_view_name": "VBoxView",
            "box_style": "",
            "children": [
              "IPY_MODEL_198cd31043214343aa4979aa67a6e13d",
              "IPY_MODEL_bf85ec87af2b49109b20a45323015b09"
            ],
            "layout": "IPY_MODEL_2fcef57b06f648d1882d6cc9a75cfe0b"
          }
        },
        "2952bffe165544039d0b9f421d470a80": {
          "model_module": "@jupyter-widgets/controls",
          "model_module_version": "1.5.0",
          "model_name": "VBoxModel",
          "state": {
            "_dom_classes": [],
            "_model_module": "@jupyter-widgets/controls",
            "_model_module_version": "1.5.0",
            "_model_name": "VBoxModel",
            "_view_count": null,
            "_view_module": "@jupyter-widgets/controls",
            "_view_module_version": "1.5.0",
            "_view_name": "VBoxView",
            "box_style": "",
            "children": [
              "IPY_MODEL_7da0439a20724ed3911befedc1f053a4",
              "IPY_MODEL_520c6c12c490452f959afa76f5f445eb"
            ],
            "layout": "IPY_MODEL_0dc89a52a8da40e981853d8e5353004a"
          }
        },
        "2bbbeeb7681d47f591359b02c871aa70": {
          "model_module": "@jupyter-widgets/controls",
          "model_module_version": "1.5.0",
          "model_name": "FloatProgressModel",
          "state": {
            "_dom_classes": [],
            "_model_module": "@jupyter-widgets/controls",
            "_model_module_version": "1.5.0",
            "_model_name": "FloatProgressModel",
            "_view_count": null,
            "_view_module": "@jupyter-widgets/controls",
            "_view_module_version": "1.5.0",
            "_view_name": "ProgressView",
            "bar_style": "",
            "description": "",
            "description_tooltip": null,
            "layout": "IPY_MODEL_3d515caa92a14385ad4463fff459ca53",
            "max": 1,
            "min": 0,
            "orientation": "horizontal",
            "style": "IPY_MODEL_77bc40db222b41d4a4f22d70827eb2a4",
            "value": 1
          }
        },
        "2ebd2a42fef14a75922be970ebf52aad": {
          "model_module": "@jupyter-widgets/controls",
          "model_module_version": "1.5.0",
          "model_name": "FloatProgressModel",
          "state": {
            "_dom_classes": [],
            "_model_module": "@jupyter-widgets/controls",
            "_model_module_version": "1.5.0",
            "_model_name": "FloatProgressModel",
            "_view_count": null,
            "_view_module": "@jupyter-widgets/controls",
            "_view_module_version": "1.5.0",
            "_view_name": "ProgressView",
            "bar_style": "",
            "description": "",
            "description_tooltip": null,
            "layout": "IPY_MODEL_03de5cecbea74baab58ce117dc971f5a",
            "max": 1,
            "min": 0,
            "orientation": "horizontal",
            "style": "IPY_MODEL_95ea53c792ec4f4bb1bb7ec83eea9ebf",
            "value": 1
          }
        },
        "2fcef57b06f648d1882d6cc9a75cfe0b": {
          "model_module": "@jupyter-widgets/base",
          "model_module_version": "1.2.0",
          "model_name": "LayoutModel",
          "state": {
            "_model_module": "@jupyter-widgets/base",
            "_model_module_version": "1.2.0",
            "_model_name": "LayoutModel",
            "_view_count": null,
            "_view_module": "@jupyter-widgets/base",
            "_view_module_version": "1.2.0",
            "_view_name": "LayoutView",
            "align_content": null,
            "align_items": null,
            "align_self": null,
            "border": null,
            "bottom": null,
            "display": null,
            "flex": null,
            "flex_flow": null,
            "grid_area": null,
            "grid_auto_columns": null,
            "grid_auto_flow": null,
            "grid_auto_rows": null,
            "grid_column": null,
            "grid_gap": null,
            "grid_row": null,
            "grid_template_areas": null,
            "grid_template_columns": null,
            "grid_template_rows": null,
            "height": null,
            "justify_content": null,
            "justify_items": null,
            "left": null,
            "margin": null,
            "max_height": null,
            "max_width": null,
            "min_height": null,
            "min_width": null,
            "object_fit": null,
            "object_position": null,
            "order": null,
            "overflow": null,
            "overflow_x": null,
            "overflow_y": null,
            "padding": null,
            "right": null,
            "top": null,
            "visibility": null,
            "width": null
          }
        },
        "2feb414eee814feb99e013474bd48273": {
          "model_module": "@jupyter-widgets/controls",
          "model_module_version": "1.5.0",
          "model_name": "DescriptionStyleModel",
          "state": {
            "_model_module": "@jupyter-widgets/controls",
            "_model_module_version": "1.5.0",
            "_model_name": "DescriptionStyleModel",
            "_view_count": null,
            "_view_module": "@jupyter-widgets/base",
            "_view_module_version": "1.2.0",
            "_view_name": "StyleView",
            "description_width": ""
          }
        },
        "30b48040727a4dd5a4414e67d4d3251f": {
          "model_module": "@jupyter-widgets/controls",
          "model_module_version": "1.5.0",
          "model_name": "DescriptionStyleModel",
          "state": {
            "_model_module": "@jupyter-widgets/controls",
            "_model_module_version": "1.5.0",
            "_model_name": "DescriptionStyleModel",
            "_view_count": null,
            "_view_module": "@jupyter-widgets/base",
            "_view_module_version": "1.2.0",
            "_view_name": "StyleView",
            "description_width": ""
          }
        },
        "3180fa5165ee4e92a8d7fc0eb118fb28": {
          "model_module": "@jupyter-widgets/controls",
          "model_module_version": "1.5.0",
          "model_name": "LabelModel",
          "state": {
            "_dom_classes": [],
            "_model_module": "@jupyter-widgets/controls",
            "_model_module_version": "1.5.0",
            "_model_name": "LabelModel",
            "_view_count": null,
            "_view_module": "@jupyter-widgets/controls",
            "_view_module_version": "1.5.0",
            "_view_name": "LabelView",
            "description": "",
            "description_tooltip": null,
            "layout": "IPY_MODEL_0a004a9151954cc898f56a823c91435c",
            "placeholder": "​",
            "style": "IPY_MODEL_57b1763beaf94579a286024353366a14",
            "value": "0.575 MB of 0.575 MB uploaded\r"
          }
        },
        "33251216c90c4e528cf152972ef709de": {
          "model_module": "@jupyter-widgets/base",
          "model_module_version": "1.2.0",
          "model_name": "LayoutModel",
          "state": {
            "_model_module": "@jupyter-widgets/base",
            "_model_module_version": "1.2.0",
            "_model_name": "LayoutModel",
            "_view_count": null,
            "_view_module": "@jupyter-widgets/base",
            "_view_module_version": "1.2.0",
            "_view_name": "LayoutView",
            "align_content": null,
            "align_items": null,
            "align_self": null,
            "border": null,
            "bottom": null,
            "display": null,
            "flex": null,
            "flex_flow": null,
            "grid_area": null,
            "grid_auto_columns": null,
            "grid_auto_flow": null,
            "grid_auto_rows": null,
            "grid_column": null,
            "grid_gap": null,
            "grid_row": null,
            "grid_template_areas": null,
            "grid_template_columns": null,
            "grid_template_rows": null,
            "height": null,
            "justify_content": null,
            "justify_items": null,
            "left": null,
            "margin": null,
            "max_height": null,
            "max_width": null,
            "min_height": null,
            "min_width": null,
            "object_fit": null,
            "object_position": null,
            "order": null,
            "overflow": null,
            "overflow_x": null,
            "overflow_y": null,
            "padding": null,
            "right": null,
            "top": null,
            "visibility": null,
            "width": null
          }
        },
        "33f33104109d49d198b262c3cbbebad5": {
          "model_module": "@jupyter-widgets/base",
          "model_module_version": "1.2.0",
          "model_name": "LayoutModel",
          "state": {
            "_model_module": "@jupyter-widgets/base",
            "_model_module_version": "1.2.0",
            "_model_name": "LayoutModel",
            "_view_count": null,
            "_view_module": "@jupyter-widgets/base",
            "_view_module_version": "1.2.0",
            "_view_name": "LayoutView",
            "align_content": null,
            "align_items": null,
            "align_self": null,
            "border": null,
            "bottom": null,
            "display": null,
            "flex": null,
            "flex_flow": null,
            "grid_area": null,
            "grid_auto_columns": null,
            "grid_auto_flow": null,
            "grid_auto_rows": null,
            "grid_column": null,
            "grid_gap": null,
            "grid_row": null,
            "grid_template_areas": null,
            "grid_template_columns": null,
            "grid_template_rows": null,
            "height": null,
            "justify_content": null,
            "justify_items": null,
            "left": null,
            "margin": null,
            "max_height": null,
            "max_width": null,
            "min_height": null,
            "min_width": null,
            "object_fit": null,
            "object_position": null,
            "order": null,
            "overflow": null,
            "overflow_x": null,
            "overflow_y": null,
            "padding": null,
            "right": null,
            "top": null,
            "visibility": null,
            "width": null
          }
        },
        "3443693768b44eb2bb0a55aacb781925": {
          "model_module": "@jupyter-widgets/controls",
          "model_module_version": "1.5.0",
          "model_name": "LabelModel",
          "state": {
            "_dom_classes": [],
            "_model_module": "@jupyter-widgets/controls",
            "_model_module_version": "1.5.0",
            "_model_name": "LabelModel",
            "_view_count": null,
            "_view_module": "@jupyter-widgets/controls",
            "_view_module_version": "1.5.0",
            "_view_name": "LabelView",
            "description": "",
            "description_tooltip": null,
            "layout": "IPY_MODEL_c591b15f626442f4952b298893d121b4",
            "placeholder": "​",
            "style": "IPY_MODEL_5797f2911d9d41b683666c6ecc3f4c65",
            "value": "0.011 MB of 0.011 MB uploaded\r"
          }
        },
        "356271384ad445328868f2f006340914": {
          "model_module": "@jupyter-widgets/base",
          "model_module_version": "1.2.0",
          "model_name": "LayoutModel",
          "state": {
            "_model_module": "@jupyter-widgets/base",
            "_model_module_version": "1.2.0",
            "_model_name": "LayoutModel",
            "_view_count": null,
            "_view_module": "@jupyter-widgets/base",
            "_view_module_version": "1.2.0",
            "_view_name": "LayoutView",
            "align_content": null,
            "align_items": null,
            "align_self": null,
            "border": null,
            "bottom": null,
            "display": null,
            "flex": null,
            "flex_flow": null,
            "grid_area": null,
            "grid_auto_columns": null,
            "grid_auto_flow": null,
            "grid_auto_rows": null,
            "grid_column": null,
            "grid_gap": null,
            "grid_row": null,
            "grid_template_areas": null,
            "grid_template_columns": null,
            "grid_template_rows": null,
            "height": null,
            "justify_content": null,
            "justify_items": null,
            "left": null,
            "margin": null,
            "max_height": null,
            "max_width": null,
            "min_height": null,
            "min_width": null,
            "object_fit": null,
            "object_position": null,
            "order": null,
            "overflow": null,
            "overflow_x": null,
            "overflow_y": null,
            "padding": null,
            "right": null,
            "top": null,
            "visibility": null,
            "width": null
          }
        },
        "3597b7dbb6ee49d693345a77e4097827": {
          "model_module": "@jupyter-widgets/controls",
          "model_module_version": "1.5.0",
          "model_name": "DescriptionStyleModel",
          "state": {
            "_model_module": "@jupyter-widgets/controls",
            "_model_module_version": "1.5.0",
            "_model_name": "DescriptionStyleModel",
            "_view_count": null,
            "_view_module": "@jupyter-widgets/base",
            "_view_module_version": "1.2.0",
            "_view_name": "StyleView",
            "description_width": ""
          }
        },
        "35d8cf7b6af74980a02cc4aff5329429": {
          "model_module": "@jupyter-widgets/base",
          "model_module_version": "1.2.0",
          "model_name": "LayoutModel",
          "state": {
            "_model_module": "@jupyter-widgets/base",
            "_model_module_version": "1.2.0",
            "_model_name": "LayoutModel",
            "_view_count": null,
            "_view_module": "@jupyter-widgets/base",
            "_view_module_version": "1.2.0",
            "_view_name": "LayoutView",
            "align_content": null,
            "align_items": null,
            "align_self": null,
            "border": null,
            "bottom": null,
            "display": null,
            "flex": null,
            "flex_flow": null,
            "grid_area": null,
            "grid_auto_columns": null,
            "grid_auto_flow": null,
            "grid_auto_rows": null,
            "grid_column": null,
            "grid_gap": null,
            "grid_row": null,
            "grid_template_areas": null,
            "grid_template_columns": null,
            "grid_template_rows": null,
            "height": null,
            "justify_content": null,
            "justify_items": null,
            "left": null,
            "margin": null,
            "max_height": null,
            "max_width": null,
            "min_height": null,
            "min_width": null,
            "object_fit": null,
            "object_position": null,
            "order": null,
            "overflow": null,
            "overflow_x": null,
            "overflow_y": null,
            "padding": null,
            "right": null,
            "top": null,
            "visibility": null,
            "width": null
          }
        },
        "3890591d812c4059af09eb41e974312d": {
          "model_module": "@jupyter-widgets/base",
          "model_module_version": "1.2.0",
          "model_name": "LayoutModel",
          "state": {
            "_model_module": "@jupyter-widgets/base",
            "_model_module_version": "1.2.0",
            "_model_name": "LayoutModel",
            "_view_count": null,
            "_view_module": "@jupyter-widgets/base",
            "_view_module_version": "1.2.0",
            "_view_name": "LayoutView",
            "align_content": null,
            "align_items": null,
            "align_self": null,
            "border": null,
            "bottom": null,
            "display": null,
            "flex": null,
            "flex_flow": null,
            "grid_area": null,
            "grid_auto_columns": null,
            "grid_auto_flow": null,
            "grid_auto_rows": null,
            "grid_column": null,
            "grid_gap": null,
            "grid_row": null,
            "grid_template_areas": null,
            "grid_template_columns": null,
            "grid_template_rows": null,
            "height": null,
            "justify_content": null,
            "justify_items": null,
            "left": null,
            "margin": null,
            "max_height": null,
            "max_width": null,
            "min_height": null,
            "min_width": null,
            "object_fit": null,
            "object_position": null,
            "order": null,
            "overflow": null,
            "overflow_x": null,
            "overflow_y": null,
            "padding": null,
            "right": null,
            "top": null,
            "visibility": null,
            "width": null
          }
        },
        "3a11a5ad148a481ba7d009e2ceb0bfc5": {
          "model_module": "@jupyter-widgets/controls",
          "model_module_version": "1.5.0",
          "model_name": "LabelModel",
          "state": {
            "_dom_classes": [],
            "_model_module": "@jupyter-widgets/controls",
            "_model_module_version": "1.5.0",
            "_model_name": "LabelModel",
            "_view_count": null,
            "_view_module": "@jupyter-widgets/controls",
            "_view_module_version": "1.5.0",
            "_view_name": "LabelView",
            "description": "",
            "description_tooltip": null,
            "layout": "IPY_MODEL_33f33104109d49d198b262c3cbbebad5",
            "placeholder": "​",
            "style": "IPY_MODEL_a9a97e2e7a4746e3bdd1e82a5de5f576",
            "value": "0.010 MB of 0.010 MB uploaded\r"
          }
        },
        "3ab4408fb2e74ed18792d778a42cd8de": {
          "model_module": "@jupyter-widgets/controls",
          "model_module_version": "1.5.0",
          "model_name": "FloatProgressModel",
          "state": {
            "_dom_classes": [],
            "_model_module": "@jupyter-widgets/controls",
            "_model_module_version": "1.5.0",
            "_model_name": "FloatProgressModel",
            "_view_count": null,
            "_view_module": "@jupyter-widgets/controls",
            "_view_module_version": "1.5.0",
            "_view_name": "ProgressView",
            "bar_style": "",
            "description": "",
            "description_tooltip": null,
            "layout": "IPY_MODEL_c5acfaccfa674f178ac9b7f31b27d849",
            "max": 1,
            "min": 0,
            "orientation": "horizontal",
            "style": "IPY_MODEL_b55f66df7f4043fe93c07d9eaa210a20",
            "value": 1
          }
        },
        "3d515caa92a14385ad4463fff459ca53": {
          "model_module": "@jupyter-widgets/base",
          "model_module_version": "1.2.0",
          "model_name": "LayoutModel",
          "state": {
            "_model_module": "@jupyter-widgets/base",
            "_model_module_version": "1.2.0",
            "_model_name": "LayoutModel",
            "_view_count": null,
            "_view_module": "@jupyter-widgets/base",
            "_view_module_version": "1.2.0",
            "_view_name": "LayoutView",
            "align_content": null,
            "align_items": null,
            "align_self": null,
            "border": null,
            "bottom": null,
            "display": null,
            "flex": null,
            "flex_flow": null,
            "grid_area": null,
            "grid_auto_columns": null,
            "grid_auto_flow": null,
            "grid_auto_rows": null,
            "grid_column": null,
            "grid_gap": null,
            "grid_row": null,
            "grid_template_areas": null,
            "grid_template_columns": null,
            "grid_template_rows": null,
            "height": null,
            "justify_content": null,
            "justify_items": null,
            "left": null,
            "margin": null,
            "max_height": null,
            "max_width": null,
            "min_height": null,
            "min_width": null,
            "object_fit": null,
            "object_position": null,
            "order": null,
            "overflow": null,
            "overflow_x": null,
            "overflow_y": null,
            "padding": null,
            "right": null,
            "top": null,
            "visibility": null,
            "width": null
          }
        },
        "3d915999f5a3447ead89db0612c57c73": {
          "model_module": "@jupyter-widgets/base",
          "model_module_version": "1.2.0",
          "model_name": "LayoutModel",
          "state": {
            "_model_module": "@jupyter-widgets/base",
            "_model_module_version": "1.2.0",
            "_model_name": "LayoutModel",
            "_view_count": null,
            "_view_module": "@jupyter-widgets/base",
            "_view_module_version": "1.2.0",
            "_view_name": "LayoutView",
            "align_content": null,
            "align_items": null,
            "align_self": null,
            "border": null,
            "bottom": null,
            "display": null,
            "flex": null,
            "flex_flow": null,
            "grid_area": null,
            "grid_auto_columns": null,
            "grid_auto_flow": null,
            "grid_auto_rows": null,
            "grid_column": null,
            "grid_gap": null,
            "grid_row": null,
            "grid_template_areas": null,
            "grid_template_columns": null,
            "grid_template_rows": null,
            "height": null,
            "justify_content": null,
            "justify_items": null,
            "left": null,
            "margin": null,
            "max_height": null,
            "max_width": null,
            "min_height": null,
            "min_width": null,
            "object_fit": null,
            "object_position": null,
            "order": null,
            "overflow": null,
            "overflow_x": null,
            "overflow_y": null,
            "padding": null,
            "right": null,
            "top": null,
            "visibility": null,
            "width": null
          }
        },
        "3fe435f751344c2db0579f89d5892beb": {
          "model_module": "@jupyter-widgets/base",
          "model_module_version": "1.2.0",
          "model_name": "LayoutModel",
          "state": {
            "_model_module": "@jupyter-widgets/base",
            "_model_module_version": "1.2.0",
            "_model_name": "LayoutModel",
            "_view_count": null,
            "_view_module": "@jupyter-widgets/base",
            "_view_module_version": "1.2.0",
            "_view_name": "LayoutView",
            "align_content": null,
            "align_items": null,
            "align_self": null,
            "border": null,
            "bottom": null,
            "display": null,
            "flex": null,
            "flex_flow": null,
            "grid_area": null,
            "grid_auto_columns": null,
            "grid_auto_flow": null,
            "grid_auto_rows": null,
            "grid_column": null,
            "grid_gap": null,
            "grid_row": null,
            "grid_template_areas": null,
            "grid_template_columns": null,
            "grid_template_rows": null,
            "height": null,
            "justify_content": null,
            "justify_items": null,
            "left": null,
            "margin": null,
            "max_height": null,
            "max_width": null,
            "min_height": null,
            "min_width": null,
            "object_fit": null,
            "object_position": null,
            "order": null,
            "overflow": null,
            "overflow_x": null,
            "overflow_y": null,
            "padding": null,
            "right": null,
            "top": null,
            "visibility": null,
            "width": null
          }
        },
        "40b0c4974f594cc5924f035abc4663de": {
          "model_module": "@jupyter-widgets/controls",
          "model_module_version": "1.5.0",
          "model_name": "ProgressStyleModel",
          "state": {
            "_model_module": "@jupyter-widgets/controls",
            "_model_module_version": "1.5.0",
            "_model_name": "ProgressStyleModel",
            "_view_count": null,
            "_view_module": "@jupyter-widgets/base",
            "_view_module_version": "1.2.0",
            "_view_name": "StyleView",
            "bar_color": null,
            "description_width": ""
          }
        },
        "435769308d9b450eaee5d487e4ba2a2a": {
          "model_module": "@jupyter-widgets/base",
          "model_module_version": "1.2.0",
          "model_name": "LayoutModel",
          "state": {
            "_model_module": "@jupyter-widgets/base",
            "_model_module_version": "1.2.0",
            "_model_name": "LayoutModel",
            "_view_count": null,
            "_view_module": "@jupyter-widgets/base",
            "_view_module_version": "1.2.0",
            "_view_name": "LayoutView",
            "align_content": null,
            "align_items": null,
            "align_self": null,
            "border": null,
            "bottom": null,
            "display": null,
            "flex": null,
            "flex_flow": null,
            "grid_area": null,
            "grid_auto_columns": null,
            "grid_auto_flow": null,
            "grid_auto_rows": null,
            "grid_column": null,
            "grid_gap": null,
            "grid_row": null,
            "grid_template_areas": null,
            "grid_template_columns": null,
            "grid_template_rows": null,
            "height": null,
            "justify_content": null,
            "justify_items": null,
            "left": null,
            "margin": null,
            "max_height": null,
            "max_width": null,
            "min_height": null,
            "min_width": null,
            "object_fit": null,
            "object_position": null,
            "order": null,
            "overflow": null,
            "overflow_x": null,
            "overflow_y": null,
            "padding": null,
            "right": null,
            "top": null,
            "visibility": null,
            "width": null
          }
        },
        "4597c6360eb148dabafa2c5a763207df": {
          "model_module": "@jupyter-widgets/controls",
          "model_module_version": "1.5.0",
          "model_name": "LabelModel",
          "state": {
            "_dom_classes": [],
            "_model_module": "@jupyter-widgets/controls",
            "_model_module_version": "1.5.0",
            "_model_name": "LabelModel",
            "_view_count": null,
            "_view_module": "@jupyter-widgets/controls",
            "_view_module_version": "1.5.0",
            "_view_name": "LabelView",
            "description": "",
            "description_tooltip": null,
            "layout": "IPY_MODEL_356271384ad445328868f2f006340914",
            "placeholder": "​",
            "style": "IPY_MODEL_094ed1709d9a4bbdb74c1c69acc5f2da",
            "value": "0.575 MB of 0.575 MB uploaded\r"
          }
        },
        "46af268187794922a57939bfb55a0571": {
          "model_module": "@jupyter-widgets/controls",
          "model_module_version": "1.5.0",
          "model_name": "VBoxModel",
          "state": {
            "_dom_classes": [],
            "_model_module": "@jupyter-widgets/controls",
            "_model_module_version": "1.5.0",
            "_model_name": "VBoxModel",
            "_view_count": null,
            "_view_module": "@jupyter-widgets/controls",
            "_view_module_version": "1.5.0",
            "_view_name": "VBoxView",
            "box_style": "",
            "children": [
              "IPY_MODEL_bc2839a276df4654b19224aa5c71e78f",
              "IPY_MODEL_e172e14b9de545899a3fc737992981bd"
            ],
            "layout": "IPY_MODEL_b12521a7414c44c0a9b3368813d72c7e"
          }
        },
        "480ee4b04ba8441d8361b4db9cdebd64": {
          "model_module": "@jupyter-widgets/controls",
          "model_module_version": "1.5.0",
          "model_name": "VBoxModel",
          "state": {
            "_dom_classes": [],
            "_model_module": "@jupyter-widgets/controls",
            "_model_module_version": "1.5.0",
            "_model_name": "VBoxModel",
            "_view_count": null,
            "_view_module": "@jupyter-widgets/controls",
            "_view_module_version": "1.5.0",
            "_view_name": "VBoxView",
            "box_style": "",
            "children": [
              "IPY_MODEL_799c81b4449f4bfb854b011f120752bd",
              "IPY_MODEL_5af9f2d976ad46e0be7c8560f56d43c4"
            ],
            "layout": "IPY_MODEL_91df2bc75f72499ca4a4a4f3443e480f"
          }
        },
        "48a8113eb8e944f3a35e1219c6afb8cd": {
          "model_module": "@jupyter-widgets/controls",
          "model_module_version": "1.5.0",
          "model_name": "ProgressStyleModel",
          "state": {
            "_model_module": "@jupyter-widgets/controls",
            "_model_module_version": "1.5.0",
            "_model_name": "ProgressStyleModel",
            "_view_count": null,
            "_view_module": "@jupyter-widgets/base",
            "_view_module_version": "1.2.0",
            "_view_name": "StyleView",
            "bar_color": null,
            "description_width": ""
          }
        },
        "497b6f8a39f148fbb598956c197f8bcf": {
          "model_module": "@jupyter-widgets/controls",
          "model_module_version": "1.5.0",
          "model_name": "FloatProgressModel",
          "state": {
            "_dom_classes": [],
            "_model_module": "@jupyter-widgets/controls",
            "_model_module_version": "1.5.0",
            "_model_name": "FloatProgressModel",
            "_view_count": null,
            "_view_module": "@jupyter-widgets/controls",
            "_view_module_version": "1.5.0",
            "_view_name": "ProgressView",
            "bar_style": "",
            "description": "",
            "description_tooltip": null,
            "layout": "IPY_MODEL_eb5b9cd05fd646e092cd274d314d2980",
            "max": 1,
            "min": 0,
            "orientation": "horizontal",
            "style": "IPY_MODEL_b41650e0108447c8b4752778aaf84b88",
            "value": 1
          }
        },
        "4a0be8134f2f433fbe783f6387100b97": {
          "model_module": "@jupyter-widgets/controls",
          "model_module_version": "1.5.0",
          "model_name": "DescriptionStyleModel",
          "state": {
            "_model_module": "@jupyter-widgets/controls",
            "_model_module_version": "1.5.0",
            "_model_name": "DescriptionStyleModel",
            "_view_count": null,
            "_view_module": "@jupyter-widgets/base",
            "_view_module_version": "1.2.0",
            "_view_name": "StyleView",
            "description_width": ""
          }
        },
        "4ce1b7f87ab64bdfac1e72d8c9a9b18f": {
          "model_module": "@jupyter-widgets/controls",
          "model_module_version": "1.5.0",
          "model_name": "DescriptionStyleModel",
          "state": {
            "_model_module": "@jupyter-widgets/controls",
            "_model_module_version": "1.5.0",
            "_model_name": "DescriptionStyleModel",
            "_view_count": null,
            "_view_module": "@jupyter-widgets/base",
            "_view_module_version": "1.2.0",
            "_view_name": "StyleView",
            "description_width": ""
          }
        },
        "4ff97484847a4351867f64105623c928": {
          "model_module": "@jupyter-widgets/base",
          "model_module_version": "1.2.0",
          "model_name": "LayoutModel",
          "state": {
            "_model_module": "@jupyter-widgets/base",
            "_model_module_version": "1.2.0",
            "_model_name": "LayoutModel",
            "_view_count": null,
            "_view_module": "@jupyter-widgets/base",
            "_view_module_version": "1.2.0",
            "_view_name": "LayoutView",
            "align_content": null,
            "align_items": null,
            "align_self": null,
            "border": null,
            "bottom": null,
            "display": null,
            "flex": null,
            "flex_flow": null,
            "grid_area": null,
            "grid_auto_columns": null,
            "grid_auto_flow": null,
            "grid_auto_rows": null,
            "grid_column": null,
            "grid_gap": null,
            "grid_row": null,
            "grid_template_areas": null,
            "grid_template_columns": null,
            "grid_template_rows": null,
            "height": null,
            "justify_content": null,
            "justify_items": null,
            "left": null,
            "margin": null,
            "max_height": null,
            "max_width": null,
            "min_height": null,
            "min_width": null,
            "object_fit": null,
            "object_position": null,
            "order": null,
            "overflow": null,
            "overflow_x": null,
            "overflow_y": null,
            "padding": null,
            "right": null,
            "top": null,
            "visibility": null,
            "width": null
          }
        },
        "50fc4b9ee29e4720a0f4987b7b7d6270": {
          "model_module": "@jupyter-widgets/controls",
          "model_module_version": "1.5.0",
          "model_name": "ProgressStyleModel",
          "state": {
            "_model_module": "@jupyter-widgets/controls",
            "_model_module_version": "1.5.0",
            "_model_name": "ProgressStyleModel",
            "_view_count": null,
            "_view_module": "@jupyter-widgets/base",
            "_view_module_version": "1.2.0",
            "_view_name": "StyleView",
            "bar_color": null,
            "description_width": ""
          }
        },
        "5116d892a76d4f87939ddfd18931733c": {
          "model_module": "@jupyter-widgets/controls",
          "model_module_version": "1.5.0",
          "model_name": "ProgressStyleModel",
          "state": {
            "_model_module": "@jupyter-widgets/controls",
            "_model_module_version": "1.5.0",
            "_model_name": "ProgressStyleModel",
            "_view_count": null,
            "_view_module": "@jupyter-widgets/base",
            "_view_module_version": "1.2.0",
            "_view_name": "StyleView",
            "bar_color": null,
            "description_width": ""
          }
        },
        "520c6c12c490452f959afa76f5f445eb": {
          "model_module": "@jupyter-widgets/controls",
          "model_module_version": "1.5.0",
          "model_name": "FloatProgressModel",
          "state": {
            "_dom_classes": [],
            "_model_module": "@jupyter-widgets/controls",
            "_model_module_version": "1.5.0",
            "_model_name": "FloatProgressModel",
            "_view_count": null,
            "_view_module": "@jupyter-widgets/controls",
            "_view_module_version": "1.5.0",
            "_view_name": "ProgressView",
            "bar_style": "",
            "description": "",
            "description_tooltip": null,
            "layout": "IPY_MODEL_cced5de3a4a04079b957ebc2839bbca1",
            "max": 1,
            "min": 0,
            "orientation": "horizontal",
            "style": "IPY_MODEL_b2130ed083ea4a9d8dad0d88642a5aa7",
            "value": 1
          }
        },
        "5582591d4ec448b69fea0fc3248df6b2": {
          "model_module": "@jupyter-widgets/base",
          "model_module_version": "1.2.0",
          "model_name": "LayoutModel",
          "state": {
            "_model_module": "@jupyter-widgets/base",
            "_model_module_version": "1.2.0",
            "_model_name": "LayoutModel",
            "_view_count": null,
            "_view_module": "@jupyter-widgets/base",
            "_view_module_version": "1.2.0",
            "_view_name": "LayoutView",
            "align_content": null,
            "align_items": null,
            "align_self": null,
            "border": null,
            "bottom": null,
            "display": null,
            "flex": null,
            "flex_flow": null,
            "grid_area": null,
            "grid_auto_columns": null,
            "grid_auto_flow": null,
            "grid_auto_rows": null,
            "grid_column": null,
            "grid_gap": null,
            "grid_row": null,
            "grid_template_areas": null,
            "grid_template_columns": null,
            "grid_template_rows": null,
            "height": null,
            "justify_content": null,
            "justify_items": null,
            "left": null,
            "margin": null,
            "max_height": null,
            "max_width": null,
            "min_height": null,
            "min_width": null,
            "object_fit": null,
            "object_position": null,
            "order": null,
            "overflow": null,
            "overflow_x": null,
            "overflow_y": null,
            "padding": null,
            "right": null,
            "top": null,
            "visibility": null,
            "width": null
          }
        },
        "5797f2911d9d41b683666c6ecc3f4c65": {
          "model_module": "@jupyter-widgets/controls",
          "model_module_version": "1.5.0",
          "model_name": "DescriptionStyleModel",
          "state": {
            "_model_module": "@jupyter-widgets/controls",
            "_model_module_version": "1.5.0",
            "_model_name": "DescriptionStyleModel",
            "_view_count": null,
            "_view_module": "@jupyter-widgets/base",
            "_view_module_version": "1.2.0",
            "_view_name": "StyleView",
            "description_width": ""
          }
        },
        "57b1763beaf94579a286024353366a14": {
          "model_module": "@jupyter-widgets/controls",
          "model_module_version": "1.5.0",
          "model_name": "DescriptionStyleModel",
          "state": {
            "_model_module": "@jupyter-widgets/controls",
            "_model_module_version": "1.5.0",
            "_model_name": "DescriptionStyleModel",
            "_view_count": null,
            "_view_module": "@jupyter-widgets/base",
            "_view_module_version": "1.2.0",
            "_view_name": "StyleView",
            "description_width": ""
          }
        },
        "580ddbd4fcbd40f3b735dfa05ac58fe0": {
          "model_module": "@jupyter-widgets/controls",
          "model_module_version": "1.5.0",
          "model_name": "VBoxModel",
          "state": {
            "_dom_classes": [],
            "_model_module": "@jupyter-widgets/controls",
            "_model_module_version": "1.5.0",
            "_model_name": "VBoxModel",
            "_view_count": null,
            "_view_module": "@jupyter-widgets/controls",
            "_view_module_version": "1.5.0",
            "_view_name": "VBoxView",
            "box_style": "",
            "children": [
              "IPY_MODEL_3443693768b44eb2bb0a55aacb781925",
              "IPY_MODEL_3ab4408fb2e74ed18792d778a42cd8de"
            ],
            "layout": "IPY_MODEL_08fb94584bb54bb8b22d380e0bbe1ed9"
          }
        },
        "59c10c54bf9b4f8d8b76f5fa62b393d3": {
          "model_module": "@jupyter-widgets/controls",
          "model_module_version": "1.5.0",
          "model_name": "LabelModel",
          "state": {
            "_dom_classes": [],
            "_model_module": "@jupyter-widgets/controls",
            "_model_module_version": "1.5.0",
            "_model_name": "LabelModel",
            "_view_count": null,
            "_view_module": "@jupyter-widgets/controls",
            "_view_module_version": "1.5.0",
            "_view_name": "LabelView",
            "description": "",
            "description_tooltip": null,
            "layout": "IPY_MODEL_cd74297b464547b49c06642f6848328f",
            "placeholder": "​",
            "style": "IPY_MODEL_a8425d1eb2804a86886e0ffe13405c09",
            "value": "1.603 MB of 1.603 MB uploaded\r"
          }
        },
        "5ae180b44d8f43ee92e9ca6f94654b06": {
          "model_module": "@jupyter-widgets/controls",
          "model_module_version": "1.5.0",
          "model_name": "FloatProgressModel",
          "state": {
            "_dom_classes": [],
            "_model_module": "@jupyter-widgets/controls",
            "_model_module_version": "1.5.0",
            "_model_name": "FloatProgressModel",
            "_view_count": null,
            "_view_module": "@jupyter-widgets/controls",
            "_view_module_version": "1.5.0",
            "_view_name": "ProgressView",
            "bar_style": "",
            "description": "",
            "description_tooltip": null,
            "layout": "IPY_MODEL_bff91eeba174422cae0f51c87aa41b98",
            "max": 1,
            "min": 0,
            "orientation": "horizontal",
            "style": "IPY_MODEL_0c7cc34731fd4e06aeb605102e041fe5",
            "value": 1
          }
        },
        "5af9f2d976ad46e0be7c8560f56d43c4": {
          "model_module": "@jupyter-widgets/controls",
          "model_module_version": "1.5.0",
          "model_name": "FloatProgressModel",
          "state": {
            "_dom_classes": [],
            "_model_module": "@jupyter-widgets/controls",
            "_model_module_version": "1.5.0",
            "_model_name": "FloatProgressModel",
            "_view_count": null,
            "_view_module": "@jupyter-widgets/controls",
            "_view_module_version": "1.5.0",
            "_view_name": "ProgressView",
            "bar_style": "",
            "description": "",
            "description_tooltip": null,
            "layout": "IPY_MODEL_d565cfa649e942e0a9a0dd93a79b10f6",
            "max": 1,
            "min": 0,
            "orientation": "horizontal",
            "style": "IPY_MODEL_b8e01e93abae49499c9554787255bc9f",
            "value": 1
          }
        },
        "5dd65f66bae9452ea15bfbd0f00955af": {
          "model_module": "@jupyter-widgets/base",
          "model_module_version": "1.2.0",
          "model_name": "LayoutModel",
          "state": {
            "_model_module": "@jupyter-widgets/base",
            "_model_module_version": "1.2.0",
            "_model_name": "LayoutModel",
            "_view_count": null,
            "_view_module": "@jupyter-widgets/base",
            "_view_module_version": "1.2.0",
            "_view_name": "LayoutView",
            "align_content": null,
            "align_items": null,
            "align_self": null,
            "border": null,
            "bottom": null,
            "display": null,
            "flex": null,
            "flex_flow": null,
            "grid_area": null,
            "grid_auto_columns": null,
            "grid_auto_flow": null,
            "grid_auto_rows": null,
            "grid_column": null,
            "grid_gap": null,
            "grid_row": null,
            "grid_template_areas": null,
            "grid_template_columns": null,
            "grid_template_rows": null,
            "height": null,
            "justify_content": null,
            "justify_items": null,
            "left": null,
            "margin": null,
            "max_height": null,
            "max_width": null,
            "min_height": null,
            "min_width": null,
            "object_fit": null,
            "object_position": null,
            "order": null,
            "overflow": null,
            "overflow_x": null,
            "overflow_y": null,
            "padding": null,
            "right": null,
            "top": null,
            "visibility": null,
            "width": null
          }
        },
        "5f73d3728dfd496385da0d48c88937f6": {
          "model_module": "@jupyter-widgets/base",
          "model_module_version": "1.2.0",
          "model_name": "LayoutModel",
          "state": {
            "_model_module": "@jupyter-widgets/base",
            "_model_module_version": "1.2.0",
            "_model_name": "LayoutModel",
            "_view_count": null,
            "_view_module": "@jupyter-widgets/base",
            "_view_module_version": "1.2.0",
            "_view_name": "LayoutView",
            "align_content": null,
            "align_items": null,
            "align_self": null,
            "border": null,
            "bottom": null,
            "display": null,
            "flex": null,
            "flex_flow": null,
            "grid_area": null,
            "grid_auto_columns": null,
            "grid_auto_flow": null,
            "grid_auto_rows": null,
            "grid_column": null,
            "grid_gap": null,
            "grid_row": null,
            "grid_template_areas": null,
            "grid_template_columns": null,
            "grid_template_rows": null,
            "height": null,
            "justify_content": null,
            "justify_items": null,
            "left": null,
            "margin": null,
            "max_height": null,
            "max_width": null,
            "min_height": null,
            "min_width": null,
            "object_fit": null,
            "object_position": null,
            "order": null,
            "overflow": null,
            "overflow_x": null,
            "overflow_y": null,
            "padding": null,
            "right": null,
            "top": null,
            "visibility": null,
            "width": null
          }
        },
        "5f7e731542c54d0187ea4b7a78a6f74f": {
          "model_module": "@jupyter-widgets/base",
          "model_module_version": "1.2.0",
          "model_name": "LayoutModel",
          "state": {
            "_model_module": "@jupyter-widgets/base",
            "_model_module_version": "1.2.0",
            "_model_name": "LayoutModel",
            "_view_count": null,
            "_view_module": "@jupyter-widgets/base",
            "_view_module_version": "1.2.0",
            "_view_name": "LayoutView",
            "align_content": null,
            "align_items": null,
            "align_self": null,
            "border": null,
            "bottom": null,
            "display": null,
            "flex": null,
            "flex_flow": null,
            "grid_area": null,
            "grid_auto_columns": null,
            "grid_auto_flow": null,
            "grid_auto_rows": null,
            "grid_column": null,
            "grid_gap": null,
            "grid_row": null,
            "grid_template_areas": null,
            "grid_template_columns": null,
            "grid_template_rows": null,
            "height": null,
            "justify_content": null,
            "justify_items": null,
            "left": null,
            "margin": null,
            "max_height": null,
            "max_width": null,
            "min_height": null,
            "min_width": null,
            "object_fit": null,
            "object_position": null,
            "order": null,
            "overflow": null,
            "overflow_x": null,
            "overflow_y": null,
            "padding": null,
            "right": null,
            "top": null,
            "visibility": null,
            "width": null
          }
        },
        "6023198973f541c9b239a95cc7a4b144": {
          "model_module": "@jupyter-widgets/controls",
          "model_module_version": "1.5.0",
          "model_name": "ProgressStyleModel",
          "state": {
            "_model_module": "@jupyter-widgets/controls",
            "_model_module_version": "1.5.0",
            "_model_name": "ProgressStyleModel",
            "_view_count": null,
            "_view_module": "@jupyter-widgets/base",
            "_view_module_version": "1.2.0",
            "_view_name": "StyleView",
            "bar_color": null,
            "description_width": ""
          }
        },
        "60889d11f5664b3f950780ba95fb5392": {
          "model_module": "@jupyter-widgets/controls",
          "model_module_version": "1.5.0",
          "model_name": "LabelModel",
          "state": {
            "_dom_classes": [],
            "_model_module": "@jupyter-widgets/controls",
            "_model_module_version": "1.5.0",
            "_model_name": "LabelModel",
            "_view_count": null,
            "_view_module": "@jupyter-widgets/controls",
            "_view_module_version": "1.5.0",
            "_view_name": "LabelView",
            "description": "",
            "description_tooltip": null,
            "layout": "IPY_MODEL_7322e4caf6c744c5aab366b51751c3ac",
            "placeholder": "​",
            "style": "IPY_MODEL_ac6b4a46c75e410da0c2da4a2625f8aa",
            "value": "0.034 MB of 0.034 MB uploaded\r"
          }
        },
        "63b8447d38f240bbbce4182eb4324e46": {
          "model_module": "@jupyter-widgets/controls",
          "model_module_version": "1.5.0",
          "model_name": "VBoxModel",
          "state": {
            "_dom_classes": [],
            "_model_module": "@jupyter-widgets/controls",
            "_model_module_version": "1.5.0",
            "_model_name": "VBoxModel",
            "_view_count": null,
            "_view_module": "@jupyter-widgets/controls",
            "_view_module_version": "1.5.0",
            "_view_name": "VBoxView",
            "box_style": "",
            "children": [
              "IPY_MODEL_59c10c54bf9b4f8d8b76f5fa62b393d3",
              "IPY_MODEL_04e460b33b694d9ba78fe8ab528d90a2"
            ],
            "layout": "IPY_MODEL_5582591d4ec448b69fea0fc3248df6b2"
          }
        },
        "65284a5c593141648e66802261f77c0c": {
          "model_module": "@jupyter-widgets/controls",
          "model_module_version": "1.5.0",
          "model_name": "VBoxModel",
          "state": {
            "_dom_classes": [],
            "_model_module": "@jupyter-widgets/controls",
            "_model_module_version": "1.5.0",
            "_model_name": "VBoxModel",
            "_view_count": null,
            "_view_module": "@jupyter-widgets/controls",
            "_view_module_version": "1.5.0",
            "_view_name": "VBoxView",
            "box_style": "",
            "children": [
              "IPY_MODEL_736077d8f8bd40f6ae93f35bb2972910",
              "IPY_MODEL_851e9c7b64084eacaeb13525f02f49de"
            ],
            "layout": "IPY_MODEL_a16e8372e2ad46a080c6bad996113805"
          }
        },
        "6680408d1541461b83a84343692907ca": {
          "model_module": "@jupyter-widgets/base",
          "model_module_version": "1.2.0",
          "model_name": "LayoutModel",
          "state": {
            "_model_module": "@jupyter-widgets/base",
            "_model_module_version": "1.2.0",
            "_model_name": "LayoutModel",
            "_view_count": null,
            "_view_module": "@jupyter-widgets/base",
            "_view_module_version": "1.2.0",
            "_view_name": "LayoutView",
            "align_content": null,
            "align_items": null,
            "align_self": null,
            "border": null,
            "bottom": null,
            "display": null,
            "flex": null,
            "flex_flow": null,
            "grid_area": null,
            "grid_auto_columns": null,
            "grid_auto_flow": null,
            "grid_auto_rows": null,
            "grid_column": null,
            "grid_gap": null,
            "grid_row": null,
            "grid_template_areas": null,
            "grid_template_columns": null,
            "grid_template_rows": null,
            "height": null,
            "justify_content": null,
            "justify_items": null,
            "left": null,
            "margin": null,
            "max_height": null,
            "max_width": null,
            "min_height": null,
            "min_width": null,
            "object_fit": null,
            "object_position": null,
            "order": null,
            "overflow": null,
            "overflow_x": null,
            "overflow_y": null,
            "padding": null,
            "right": null,
            "top": null,
            "visibility": null,
            "width": null
          }
        },
        "669d7a565fe44736b89d5e8b000bae95": {
          "model_module": "@jupyter-widgets/controls",
          "model_module_version": "1.5.0",
          "model_name": "VBoxModel",
          "state": {
            "_dom_classes": [],
            "_model_module": "@jupyter-widgets/controls",
            "_model_module_version": "1.5.0",
            "_model_name": "VBoxModel",
            "_view_count": null,
            "_view_module": "@jupyter-widgets/controls",
            "_view_module_version": "1.5.0",
            "_view_name": "VBoxView",
            "box_style": "",
            "children": [
              "IPY_MODEL_107431f0a14c41cbb7f37ad45cc5478c",
              "IPY_MODEL_dc75243eb6824f4e853108e5b9a6feef"
            ],
            "layout": "IPY_MODEL_1c02bf1a8a704c6098a562d167965547"
          }
        },
        "66a113eb4dd144f194e2b310a16812e5": {
          "model_module": "@jupyter-widgets/controls",
          "model_module_version": "1.5.0",
          "model_name": "ProgressStyleModel",
          "state": {
            "_model_module": "@jupyter-widgets/controls",
            "_model_module_version": "1.5.0",
            "_model_name": "ProgressStyleModel",
            "_view_count": null,
            "_view_module": "@jupyter-widgets/base",
            "_view_module_version": "1.2.0",
            "_view_name": "StyleView",
            "bar_color": null,
            "description_width": ""
          }
        },
        "676c69ba68894c5a9b9d6b4099cde525": {
          "model_module": "@jupyter-widgets/controls",
          "model_module_version": "1.5.0",
          "model_name": "ProgressStyleModel",
          "state": {
            "_model_module": "@jupyter-widgets/controls",
            "_model_module_version": "1.5.0",
            "_model_name": "ProgressStyleModel",
            "_view_count": null,
            "_view_module": "@jupyter-widgets/base",
            "_view_module_version": "1.2.0",
            "_view_name": "StyleView",
            "bar_color": null,
            "description_width": ""
          }
        },
        "6f55400e11a248b6b3ee47794390f43e": {
          "model_module": "@jupyter-widgets/controls",
          "model_module_version": "1.5.0",
          "model_name": "LabelModel",
          "state": {
            "_dom_classes": [],
            "_model_module": "@jupyter-widgets/controls",
            "_model_module_version": "1.5.0",
            "_model_name": "LabelModel",
            "_view_count": null,
            "_view_module": "@jupyter-widgets/controls",
            "_view_module_version": "1.5.0",
            "_view_name": "LabelView",
            "description": "",
            "description_tooltip": null,
            "layout": "IPY_MODEL_a77137ec7a0945349949901e48c18fd7",
            "placeholder": "​",
            "style": "IPY_MODEL_30b48040727a4dd5a4414e67d4d3251f",
            "value": "1.594 MB of 1.594 MB uploaded\r"
          }
        },
        "7229c851e9fd4d848f2f18ad7c794ff3": {
          "model_module": "@jupyter-widgets/base",
          "model_module_version": "1.2.0",
          "model_name": "LayoutModel",
          "state": {
            "_model_module": "@jupyter-widgets/base",
            "_model_module_version": "1.2.0",
            "_model_name": "LayoutModel",
            "_view_count": null,
            "_view_module": "@jupyter-widgets/base",
            "_view_module_version": "1.2.0",
            "_view_name": "LayoutView",
            "align_content": null,
            "align_items": null,
            "align_self": null,
            "border": null,
            "bottom": null,
            "display": null,
            "flex": null,
            "flex_flow": null,
            "grid_area": null,
            "grid_auto_columns": null,
            "grid_auto_flow": null,
            "grid_auto_rows": null,
            "grid_column": null,
            "grid_gap": null,
            "grid_row": null,
            "grid_template_areas": null,
            "grid_template_columns": null,
            "grid_template_rows": null,
            "height": null,
            "justify_content": null,
            "justify_items": null,
            "left": null,
            "margin": null,
            "max_height": null,
            "max_width": null,
            "min_height": null,
            "min_width": null,
            "object_fit": null,
            "object_position": null,
            "order": null,
            "overflow": null,
            "overflow_x": null,
            "overflow_y": null,
            "padding": null,
            "right": null,
            "top": null,
            "visibility": null,
            "width": null
          }
        },
        "731ef06549964ed2a8b6a871f0f0acda": {
          "model_module": "@jupyter-widgets/controls",
          "model_module_version": "1.5.0",
          "model_name": "DescriptionStyleModel",
          "state": {
            "_model_module": "@jupyter-widgets/controls",
            "_model_module_version": "1.5.0",
            "_model_name": "DescriptionStyleModel",
            "_view_count": null,
            "_view_module": "@jupyter-widgets/base",
            "_view_module_version": "1.2.0",
            "_view_name": "StyleView",
            "description_width": ""
          }
        },
        "7322e4caf6c744c5aab366b51751c3ac": {
          "model_module": "@jupyter-widgets/base",
          "model_module_version": "1.2.0",
          "model_name": "LayoutModel",
          "state": {
            "_model_module": "@jupyter-widgets/base",
            "_model_module_version": "1.2.0",
            "_model_name": "LayoutModel",
            "_view_count": null,
            "_view_module": "@jupyter-widgets/base",
            "_view_module_version": "1.2.0",
            "_view_name": "LayoutView",
            "align_content": null,
            "align_items": null,
            "align_self": null,
            "border": null,
            "bottom": null,
            "display": null,
            "flex": null,
            "flex_flow": null,
            "grid_area": null,
            "grid_auto_columns": null,
            "grid_auto_flow": null,
            "grid_auto_rows": null,
            "grid_column": null,
            "grid_gap": null,
            "grid_row": null,
            "grid_template_areas": null,
            "grid_template_columns": null,
            "grid_template_rows": null,
            "height": null,
            "justify_content": null,
            "justify_items": null,
            "left": null,
            "margin": null,
            "max_height": null,
            "max_width": null,
            "min_height": null,
            "min_width": null,
            "object_fit": null,
            "object_position": null,
            "order": null,
            "overflow": null,
            "overflow_x": null,
            "overflow_y": null,
            "padding": null,
            "right": null,
            "top": null,
            "visibility": null,
            "width": null
          }
        },
        "736077d8f8bd40f6ae93f35bb2972910": {
          "model_module": "@jupyter-widgets/controls",
          "model_module_version": "1.5.0",
          "model_name": "LabelModel",
          "state": {
            "_dom_classes": [],
            "_model_module": "@jupyter-widgets/controls",
            "_model_module_version": "1.5.0",
            "_model_name": "LabelModel",
            "_view_count": null,
            "_view_module": "@jupyter-widgets/controls",
            "_view_module_version": "1.5.0",
            "_view_name": "LabelView",
            "description": "",
            "description_tooltip": null,
            "layout": "IPY_MODEL_8bb88d2ba7fa4cb987106a007d9f9597",
            "placeholder": "​",
            "style": "IPY_MODEL_76edf0a3ed8143728303fafe3864e77f",
            "value": "0.566 MB of 0.566 MB uploaded\r"
          }
        },
        "73bed9e3f8d84ac4889384b54ffcad3e": {
          "model_module": "@jupyter-widgets/controls",
          "model_module_version": "1.5.0",
          "model_name": "LabelModel",
          "state": {
            "_dom_classes": [],
            "_model_module": "@jupyter-widgets/controls",
            "_model_module_version": "1.5.0",
            "_model_name": "LabelModel",
            "_view_count": null,
            "_view_module": "@jupyter-widgets/controls",
            "_view_module_version": "1.5.0",
            "_view_name": "LabelView",
            "description": "",
            "description_tooltip": null,
            "layout": "IPY_MODEL_061ede5ecceb40dd8116fa4b2637c825",
            "placeholder": "​",
            "style": "IPY_MODEL_c6508ed73e8048faaf0c779a3f368c6e",
            "value": "0.576 MB of 0.576 MB uploaded\r"
          }
        },
        "76edf0a3ed8143728303fafe3864e77f": {
          "model_module": "@jupyter-widgets/controls",
          "model_module_version": "1.5.0",
          "model_name": "DescriptionStyleModel",
          "state": {
            "_model_module": "@jupyter-widgets/controls",
            "_model_module_version": "1.5.0",
            "_model_name": "DescriptionStyleModel",
            "_view_count": null,
            "_view_module": "@jupyter-widgets/base",
            "_view_module_version": "1.2.0",
            "_view_name": "StyleView",
            "description_width": ""
          }
        },
        "77bc40db222b41d4a4f22d70827eb2a4": {
          "model_module": "@jupyter-widgets/controls",
          "model_module_version": "1.5.0",
          "model_name": "ProgressStyleModel",
          "state": {
            "_model_module": "@jupyter-widgets/controls",
            "_model_module_version": "1.5.0",
            "_model_name": "ProgressStyleModel",
            "_view_count": null,
            "_view_module": "@jupyter-widgets/base",
            "_view_module_version": "1.2.0",
            "_view_name": "StyleView",
            "bar_color": null,
            "description_width": ""
          }
        },
        "799c81b4449f4bfb854b011f120752bd": {
          "model_module": "@jupyter-widgets/controls",
          "model_module_version": "1.5.0",
          "model_name": "LabelModel",
          "state": {
            "_dom_classes": [],
            "_model_module": "@jupyter-widgets/controls",
            "_model_module_version": "1.5.0",
            "_model_name": "LabelModel",
            "_view_count": null,
            "_view_module": "@jupyter-widgets/controls",
            "_view_module_version": "1.5.0",
            "_view_name": "LabelView",
            "description": "",
            "description_tooltip": null,
            "layout": "IPY_MODEL_848234e17e9545a58f66b12fc69a2b10",
            "placeholder": "​",
            "style": "IPY_MODEL_c2a01df3036a4c91bf63f8729bf2f442",
            "value": "1.595 MB of 1.595 MB uploaded\r"
          }
        },
        "7a927e823fd944fd90911ad787b915c6": {
          "model_module": "@jupyter-widgets/controls",
          "model_module_version": "1.5.0",
          "model_name": "LabelModel",
          "state": {
            "_dom_classes": [],
            "_model_module": "@jupyter-widgets/controls",
            "_model_module_version": "1.5.0",
            "_model_name": "LabelModel",
            "_view_count": null,
            "_view_module": "@jupyter-widgets/controls",
            "_view_module_version": "1.5.0",
            "_view_name": "LabelView",
            "description": "",
            "description_tooltip": null,
            "layout": "IPY_MODEL_83f2b629e20743c68044f0e0295277e8",
            "placeholder": "​",
            "style": "IPY_MODEL_731ef06549964ed2a8b6a871f0f0acda",
            "value": "0.577 MB of 0.577 MB uploaded\r"
          }
        },
        "7b81fbe99fba49ddb53006b7b379c617": {
          "model_module": "@jupyter-widgets/base",
          "model_module_version": "1.2.0",
          "model_name": "LayoutModel",
          "state": {
            "_model_module": "@jupyter-widgets/base",
            "_model_module_version": "1.2.0",
            "_model_name": "LayoutModel",
            "_view_count": null,
            "_view_module": "@jupyter-widgets/base",
            "_view_module_version": "1.2.0",
            "_view_name": "LayoutView",
            "align_content": null,
            "align_items": null,
            "align_self": null,
            "border": null,
            "bottom": null,
            "display": null,
            "flex": null,
            "flex_flow": null,
            "grid_area": null,
            "grid_auto_columns": null,
            "grid_auto_flow": null,
            "grid_auto_rows": null,
            "grid_column": null,
            "grid_gap": null,
            "grid_row": null,
            "grid_template_areas": null,
            "grid_template_columns": null,
            "grid_template_rows": null,
            "height": null,
            "justify_content": null,
            "justify_items": null,
            "left": null,
            "margin": null,
            "max_height": null,
            "max_width": null,
            "min_height": null,
            "min_width": null,
            "object_fit": null,
            "object_position": null,
            "order": null,
            "overflow": null,
            "overflow_x": null,
            "overflow_y": null,
            "padding": null,
            "right": null,
            "top": null,
            "visibility": null,
            "width": null
          }
        },
        "7d2136cfdecc4aed832fefe1cf252b2a": {
          "model_module": "@jupyter-widgets/base",
          "model_module_version": "1.2.0",
          "model_name": "LayoutModel",
          "state": {
            "_model_module": "@jupyter-widgets/base",
            "_model_module_version": "1.2.0",
            "_model_name": "LayoutModel",
            "_view_count": null,
            "_view_module": "@jupyter-widgets/base",
            "_view_module_version": "1.2.0",
            "_view_name": "LayoutView",
            "align_content": null,
            "align_items": null,
            "align_self": null,
            "border": null,
            "bottom": null,
            "display": null,
            "flex": null,
            "flex_flow": null,
            "grid_area": null,
            "grid_auto_columns": null,
            "grid_auto_flow": null,
            "grid_auto_rows": null,
            "grid_column": null,
            "grid_gap": null,
            "grid_row": null,
            "grid_template_areas": null,
            "grid_template_columns": null,
            "grid_template_rows": null,
            "height": null,
            "justify_content": null,
            "justify_items": null,
            "left": null,
            "margin": null,
            "max_height": null,
            "max_width": null,
            "min_height": null,
            "min_width": null,
            "object_fit": null,
            "object_position": null,
            "order": null,
            "overflow": null,
            "overflow_x": null,
            "overflow_y": null,
            "padding": null,
            "right": null,
            "top": null,
            "visibility": null,
            "width": null
          }
        },
        "7d8dbdaf8e8646cab6741a80abf46209": {
          "model_module": "@jupyter-widgets/base",
          "model_module_version": "1.2.0",
          "model_name": "LayoutModel",
          "state": {
            "_model_module": "@jupyter-widgets/base",
            "_model_module_version": "1.2.0",
            "_model_name": "LayoutModel",
            "_view_count": null,
            "_view_module": "@jupyter-widgets/base",
            "_view_module_version": "1.2.0",
            "_view_name": "LayoutView",
            "align_content": null,
            "align_items": null,
            "align_self": null,
            "border": null,
            "bottom": null,
            "display": null,
            "flex": null,
            "flex_flow": null,
            "grid_area": null,
            "grid_auto_columns": null,
            "grid_auto_flow": null,
            "grid_auto_rows": null,
            "grid_column": null,
            "grid_gap": null,
            "grid_row": null,
            "grid_template_areas": null,
            "grid_template_columns": null,
            "grid_template_rows": null,
            "height": null,
            "justify_content": null,
            "justify_items": null,
            "left": null,
            "margin": null,
            "max_height": null,
            "max_width": null,
            "min_height": null,
            "min_width": null,
            "object_fit": null,
            "object_position": null,
            "order": null,
            "overflow": null,
            "overflow_x": null,
            "overflow_y": null,
            "padding": null,
            "right": null,
            "top": null,
            "visibility": null,
            "width": null
          }
        },
        "7da0439a20724ed3911befedc1f053a4": {
          "model_module": "@jupyter-widgets/controls",
          "model_module_version": "1.5.0",
          "model_name": "LabelModel",
          "state": {
            "_dom_classes": [],
            "_model_module": "@jupyter-widgets/controls",
            "_model_module_version": "1.5.0",
            "_model_name": "LabelModel",
            "_view_count": null,
            "_view_module": "@jupyter-widgets/controls",
            "_view_module_version": "1.5.0",
            "_view_name": "LabelView",
            "description": "",
            "description_tooltip": null,
            "layout": "IPY_MODEL_bd9414fea9294fd886fc2dee596367ee",
            "placeholder": "​",
            "style": "IPY_MODEL_9cf9485aaa2b4730a0a12dbd9904f02f",
            "value": "0.577 MB of 0.577 MB uploaded\r"
          }
        },
        "7f5ddf9a73154a6f9d858fe661555519": {
          "model_module": "@jupyter-widgets/base",
          "model_module_version": "1.2.0",
          "model_name": "LayoutModel",
          "state": {
            "_model_module": "@jupyter-widgets/base",
            "_model_module_version": "1.2.0",
            "_model_name": "LayoutModel",
            "_view_count": null,
            "_view_module": "@jupyter-widgets/base",
            "_view_module_version": "1.2.0",
            "_view_name": "LayoutView",
            "align_content": null,
            "align_items": null,
            "align_self": null,
            "border": null,
            "bottom": null,
            "display": null,
            "flex": null,
            "flex_flow": null,
            "grid_area": null,
            "grid_auto_columns": null,
            "grid_auto_flow": null,
            "grid_auto_rows": null,
            "grid_column": null,
            "grid_gap": null,
            "grid_row": null,
            "grid_template_areas": null,
            "grid_template_columns": null,
            "grid_template_rows": null,
            "height": null,
            "justify_content": null,
            "justify_items": null,
            "left": null,
            "margin": null,
            "max_height": null,
            "max_width": null,
            "min_height": null,
            "min_width": null,
            "object_fit": null,
            "object_position": null,
            "order": null,
            "overflow": null,
            "overflow_x": null,
            "overflow_y": null,
            "padding": null,
            "right": null,
            "top": null,
            "visibility": null,
            "width": null
          }
        },
        "811f542e7dc94651b3999210df8e837c": {
          "model_module": "@jupyter-widgets/controls",
          "model_module_version": "1.5.0",
          "model_name": "FloatProgressModel",
          "state": {
            "_dom_classes": [],
            "_model_module": "@jupyter-widgets/controls",
            "_model_module_version": "1.5.0",
            "_model_name": "FloatProgressModel",
            "_view_count": null,
            "_view_module": "@jupyter-widgets/controls",
            "_view_module_version": "1.5.0",
            "_view_name": "ProgressView",
            "bar_style": "",
            "description": "",
            "description_tooltip": null,
            "layout": "IPY_MODEL_f828b14111254c22b78ba7ecb2a35e7b",
            "max": 1,
            "min": 0,
            "orientation": "horizontal",
            "style": "IPY_MODEL_e22f9e8900944230ae00964912d18ac2",
            "value": 1
          }
        },
        "8133a857f16f4e3b931abf96c7165364": {
          "model_module": "@jupyter-widgets/controls",
          "model_module_version": "1.5.0",
          "model_name": "VBoxModel",
          "state": {
            "_dom_classes": [],
            "_model_module": "@jupyter-widgets/controls",
            "_model_module_version": "1.5.0",
            "_model_name": "VBoxModel",
            "_view_count": null,
            "_view_module": "@jupyter-widgets/controls",
            "_view_module_version": "1.5.0",
            "_view_name": "VBoxView",
            "box_style": "",
            "children": [
              "IPY_MODEL_60889d11f5664b3f950780ba95fb5392",
              "IPY_MODEL_9f47e938c98843fd87ed61d8b748ed24"
            ],
            "layout": "IPY_MODEL_3d915999f5a3447ead89db0612c57c73"
          }
        },
        "831b470b9a0c4842a90eb40a779d9f2c": {
          "model_module": "@jupyter-widgets/base",
          "model_module_version": "1.2.0",
          "model_name": "LayoutModel",
          "state": {
            "_model_module": "@jupyter-widgets/base",
            "_model_module_version": "1.2.0",
            "_model_name": "LayoutModel",
            "_view_count": null,
            "_view_module": "@jupyter-widgets/base",
            "_view_module_version": "1.2.0",
            "_view_name": "LayoutView",
            "align_content": null,
            "align_items": null,
            "align_self": null,
            "border": null,
            "bottom": null,
            "display": null,
            "flex": null,
            "flex_flow": null,
            "grid_area": null,
            "grid_auto_columns": null,
            "grid_auto_flow": null,
            "grid_auto_rows": null,
            "grid_column": null,
            "grid_gap": null,
            "grid_row": null,
            "grid_template_areas": null,
            "grid_template_columns": null,
            "grid_template_rows": null,
            "height": null,
            "justify_content": null,
            "justify_items": null,
            "left": null,
            "margin": null,
            "max_height": null,
            "max_width": null,
            "min_height": null,
            "min_width": null,
            "object_fit": null,
            "object_position": null,
            "order": null,
            "overflow": null,
            "overflow_x": null,
            "overflow_y": null,
            "padding": null,
            "right": null,
            "top": null,
            "visibility": null,
            "width": null
          }
        },
        "83f2b629e20743c68044f0e0295277e8": {
          "model_module": "@jupyter-widgets/base",
          "model_module_version": "1.2.0",
          "model_name": "LayoutModel",
          "state": {
            "_model_module": "@jupyter-widgets/base",
            "_model_module_version": "1.2.0",
            "_model_name": "LayoutModel",
            "_view_count": null,
            "_view_module": "@jupyter-widgets/base",
            "_view_module_version": "1.2.0",
            "_view_name": "LayoutView",
            "align_content": null,
            "align_items": null,
            "align_self": null,
            "border": null,
            "bottom": null,
            "display": null,
            "flex": null,
            "flex_flow": null,
            "grid_area": null,
            "grid_auto_columns": null,
            "grid_auto_flow": null,
            "grid_auto_rows": null,
            "grid_column": null,
            "grid_gap": null,
            "grid_row": null,
            "grid_template_areas": null,
            "grid_template_columns": null,
            "grid_template_rows": null,
            "height": null,
            "justify_content": null,
            "justify_items": null,
            "left": null,
            "margin": null,
            "max_height": null,
            "max_width": null,
            "min_height": null,
            "min_width": null,
            "object_fit": null,
            "object_position": null,
            "order": null,
            "overflow": null,
            "overflow_x": null,
            "overflow_y": null,
            "padding": null,
            "right": null,
            "top": null,
            "visibility": null,
            "width": null
          }
        },
        "848234e17e9545a58f66b12fc69a2b10": {
          "model_module": "@jupyter-widgets/base",
          "model_module_version": "1.2.0",
          "model_name": "LayoutModel",
          "state": {
            "_model_module": "@jupyter-widgets/base",
            "_model_module_version": "1.2.0",
            "_model_name": "LayoutModel",
            "_view_count": null,
            "_view_module": "@jupyter-widgets/base",
            "_view_module_version": "1.2.0",
            "_view_name": "LayoutView",
            "align_content": null,
            "align_items": null,
            "align_self": null,
            "border": null,
            "bottom": null,
            "display": null,
            "flex": null,
            "flex_flow": null,
            "grid_area": null,
            "grid_auto_columns": null,
            "grid_auto_flow": null,
            "grid_auto_rows": null,
            "grid_column": null,
            "grid_gap": null,
            "grid_row": null,
            "grid_template_areas": null,
            "grid_template_columns": null,
            "grid_template_rows": null,
            "height": null,
            "justify_content": null,
            "justify_items": null,
            "left": null,
            "margin": null,
            "max_height": null,
            "max_width": null,
            "min_height": null,
            "min_width": null,
            "object_fit": null,
            "object_position": null,
            "order": null,
            "overflow": null,
            "overflow_x": null,
            "overflow_y": null,
            "padding": null,
            "right": null,
            "top": null,
            "visibility": null,
            "width": null
          }
        },
        "849ae90030004cc99328e86f97636d96": {
          "model_module": "@jupyter-widgets/controls",
          "model_module_version": "1.5.0",
          "model_name": "DescriptionStyleModel",
          "state": {
            "_model_module": "@jupyter-widgets/controls",
            "_model_module_version": "1.5.0",
            "_model_name": "DescriptionStyleModel",
            "_view_count": null,
            "_view_module": "@jupyter-widgets/base",
            "_view_module_version": "1.2.0",
            "_view_name": "StyleView",
            "description_width": ""
          }
        },
        "851e9c7b64084eacaeb13525f02f49de": {
          "model_module": "@jupyter-widgets/controls",
          "model_module_version": "1.5.0",
          "model_name": "FloatProgressModel",
          "state": {
            "_dom_classes": [],
            "_model_module": "@jupyter-widgets/controls",
            "_model_module_version": "1.5.0",
            "_model_name": "FloatProgressModel",
            "_view_count": null,
            "_view_module": "@jupyter-widgets/controls",
            "_view_module_version": "1.5.0",
            "_view_name": "ProgressView",
            "bar_style": "",
            "description": "",
            "description_tooltip": null,
            "layout": "IPY_MODEL_25aef6d3baf841ce8c7c1067dc58adb2",
            "max": 1,
            "min": 0,
            "orientation": "horizontal",
            "style": "IPY_MODEL_bc7267286e0749cdb03c4e172c5dc571",
            "value": 1
          }
        },
        "85da9e8f79cf4914a4886590a5942d66": {
          "model_module": "@jupyter-widgets/base",
          "model_module_version": "1.2.0",
          "model_name": "LayoutModel",
          "state": {
            "_model_module": "@jupyter-widgets/base",
            "_model_module_version": "1.2.0",
            "_model_name": "LayoutModel",
            "_view_count": null,
            "_view_module": "@jupyter-widgets/base",
            "_view_module_version": "1.2.0",
            "_view_name": "LayoutView",
            "align_content": null,
            "align_items": null,
            "align_self": null,
            "border": null,
            "bottom": null,
            "display": null,
            "flex": null,
            "flex_flow": null,
            "grid_area": null,
            "grid_auto_columns": null,
            "grid_auto_flow": null,
            "grid_auto_rows": null,
            "grid_column": null,
            "grid_gap": null,
            "grid_row": null,
            "grid_template_areas": null,
            "grid_template_columns": null,
            "grid_template_rows": null,
            "height": null,
            "justify_content": null,
            "justify_items": null,
            "left": null,
            "margin": null,
            "max_height": null,
            "max_width": null,
            "min_height": null,
            "min_width": null,
            "object_fit": null,
            "object_position": null,
            "order": null,
            "overflow": null,
            "overflow_x": null,
            "overflow_y": null,
            "padding": null,
            "right": null,
            "top": null,
            "visibility": null,
            "width": null
          }
        },
        "86ca35dda1034493a1b173921dd87435": {
          "model_module": "@jupyter-widgets/controls",
          "model_module_version": "1.5.0",
          "model_name": "FloatProgressModel",
          "state": {
            "_dom_classes": [],
            "_model_module": "@jupyter-widgets/controls",
            "_model_module_version": "1.5.0",
            "_model_name": "FloatProgressModel",
            "_view_count": null,
            "_view_module": "@jupyter-widgets/controls",
            "_view_module_version": "1.5.0",
            "_view_name": "ProgressView",
            "bar_style": "",
            "description": "",
            "description_tooltip": null,
            "layout": "IPY_MODEL_c49b5155d85142a7a81441bbba387af0",
            "max": 1,
            "min": 0,
            "orientation": "horizontal",
            "style": "IPY_MODEL_085602661a9f4bec9245298ecd702f0a",
            "value": 1
          }
        },
        "896cc362aa15496388207ffa99d0129f": {
          "model_module": "@jupyter-widgets/controls",
          "model_module_version": "1.5.0",
          "model_name": "LabelModel",
          "state": {
            "_dom_classes": [],
            "_model_module": "@jupyter-widgets/controls",
            "_model_module_version": "1.5.0",
            "_model_name": "LabelModel",
            "_view_count": null,
            "_view_module": "@jupyter-widgets/controls",
            "_view_module_version": "1.5.0",
            "_view_name": "LabelView",
            "description": "",
            "description_tooltip": null,
            "layout": "IPY_MODEL_6680408d1541461b83a84343692907ca",
            "placeholder": "​",
            "style": "IPY_MODEL_4a0be8134f2f433fbe783f6387100b97",
            "value": "1.594 MB of 1.594 MB uploaded\r"
          }
        },
        "8bb88d2ba7fa4cb987106a007d9f9597": {
          "model_module": "@jupyter-widgets/base",
          "model_module_version": "1.2.0",
          "model_name": "LayoutModel",
          "state": {
            "_model_module": "@jupyter-widgets/base",
            "_model_module_version": "1.2.0",
            "_model_name": "LayoutModel",
            "_view_count": null,
            "_view_module": "@jupyter-widgets/base",
            "_view_module_version": "1.2.0",
            "_view_name": "LayoutView",
            "align_content": null,
            "align_items": null,
            "align_self": null,
            "border": null,
            "bottom": null,
            "display": null,
            "flex": null,
            "flex_flow": null,
            "grid_area": null,
            "grid_auto_columns": null,
            "grid_auto_flow": null,
            "grid_auto_rows": null,
            "grid_column": null,
            "grid_gap": null,
            "grid_row": null,
            "grid_template_areas": null,
            "grid_template_columns": null,
            "grid_template_rows": null,
            "height": null,
            "justify_content": null,
            "justify_items": null,
            "left": null,
            "margin": null,
            "max_height": null,
            "max_width": null,
            "min_height": null,
            "min_width": null,
            "object_fit": null,
            "object_position": null,
            "order": null,
            "overflow": null,
            "overflow_x": null,
            "overflow_y": null,
            "padding": null,
            "right": null,
            "top": null,
            "visibility": null,
            "width": null
          }
        },
        "8e1c93e5fcee4559be1b4a02f11cb2c8": {
          "model_module": "@jupyter-widgets/base",
          "model_module_version": "1.2.0",
          "model_name": "LayoutModel",
          "state": {
            "_model_module": "@jupyter-widgets/base",
            "_model_module_version": "1.2.0",
            "_model_name": "LayoutModel",
            "_view_count": null,
            "_view_module": "@jupyter-widgets/base",
            "_view_module_version": "1.2.0",
            "_view_name": "LayoutView",
            "align_content": null,
            "align_items": null,
            "align_self": null,
            "border": null,
            "bottom": null,
            "display": null,
            "flex": null,
            "flex_flow": null,
            "grid_area": null,
            "grid_auto_columns": null,
            "grid_auto_flow": null,
            "grid_auto_rows": null,
            "grid_column": null,
            "grid_gap": null,
            "grid_row": null,
            "grid_template_areas": null,
            "grid_template_columns": null,
            "grid_template_rows": null,
            "height": null,
            "justify_content": null,
            "justify_items": null,
            "left": null,
            "margin": null,
            "max_height": null,
            "max_width": null,
            "min_height": null,
            "min_width": null,
            "object_fit": null,
            "object_position": null,
            "order": null,
            "overflow": null,
            "overflow_x": null,
            "overflow_y": null,
            "padding": null,
            "right": null,
            "top": null,
            "visibility": null,
            "width": null
          }
        },
        "9069050ca404495e9e0ff1b6c1ecd4f1": {
          "model_module": "@jupyter-widgets/controls",
          "model_module_version": "1.5.0",
          "model_name": "VBoxModel",
          "state": {
            "_dom_classes": [],
            "_model_module": "@jupyter-widgets/controls",
            "_model_module_version": "1.5.0",
            "_model_name": "VBoxModel",
            "_view_count": null,
            "_view_module": "@jupyter-widgets/controls",
            "_view_module_version": "1.5.0",
            "_view_name": "VBoxView",
            "box_style": "",
            "children": [
              "IPY_MODEL_7a927e823fd944fd90911ad787b915c6",
              "IPY_MODEL_cccafcb4cc814397a2011bc1aa6f8d20"
            ],
            "layout": "IPY_MODEL_af9b661abfe141ceb072689625de21ae"
          }
        },
        "91df2bc75f72499ca4a4a4f3443e480f": {
          "model_module": "@jupyter-widgets/base",
          "model_module_version": "1.2.0",
          "model_name": "LayoutModel",
          "state": {
            "_model_module": "@jupyter-widgets/base",
            "_model_module_version": "1.2.0",
            "_model_name": "LayoutModel",
            "_view_count": null,
            "_view_module": "@jupyter-widgets/base",
            "_view_module_version": "1.2.0",
            "_view_name": "LayoutView",
            "align_content": null,
            "align_items": null,
            "align_self": null,
            "border": null,
            "bottom": null,
            "display": null,
            "flex": null,
            "flex_flow": null,
            "grid_area": null,
            "grid_auto_columns": null,
            "grid_auto_flow": null,
            "grid_auto_rows": null,
            "grid_column": null,
            "grid_gap": null,
            "grid_row": null,
            "grid_template_areas": null,
            "grid_template_columns": null,
            "grid_template_rows": null,
            "height": null,
            "justify_content": null,
            "justify_items": null,
            "left": null,
            "margin": null,
            "max_height": null,
            "max_width": null,
            "min_height": null,
            "min_width": null,
            "object_fit": null,
            "object_position": null,
            "order": null,
            "overflow": null,
            "overflow_x": null,
            "overflow_y": null,
            "padding": null,
            "right": null,
            "top": null,
            "visibility": null,
            "width": null
          }
        },
        "9399a2d57e7b4a5d9a8653b56214efe3": {
          "model_module": "@jupyter-widgets/controls",
          "model_module_version": "1.5.0",
          "model_name": "ProgressStyleModel",
          "state": {
            "_model_module": "@jupyter-widgets/controls",
            "_model_module_version": "1.5.0",
            "_model_name": "ProgressStyleModel",
            "_view_count": null,
            "_view_module": "@jupyter-widgets/base",
            "_view_module_version": "1.2.0",
            "_view_name": "StyleView",
            "bar_color": null,
            "description_width": ""
          }
        },
        "94a3ad9561ea4141be62867acee91c4d": {
          "model_module": "@jupyter-widgets/controls",
          "model_module_version": "1.5.0",
          "model_name": "VBoxModel",
          "state": {
            "_dom_classes": [],
            "_model_module": "@jupyter-widgets/controls",
            "_model_module_version": "1.5.0",
            "_model_name": "VBoxModel",
            "_view_count": null,
            "_view_module": "@jupyter-widgets/controls",
            "_view_module_version": "1.5.0",
            "_view_name": "VBoxView",
            "box_style": "",
            "children": [
              "IPY_MODEL_f05a96c814fb421d963cfdf6695a22df",
              "IPY_MODEL_a3dcf1c3a2a54e5c91ce835f702cf4a6"
            ],
            "layout": "IPY_MODEL_d9d08d8b495c4463a6b676845d118d16"
          }
        },
        "9574e99fb78d4dea86f5d7e4d6ef40af": {
          "model_module": "@jupyter-widgets/controls",
          "model_module_version": "1.5.0",
          "model_name": "DescriptionStyleModel",
          "state": {
            "_model_module": "@jupyter-widgets/controls",
            "_model_module_version": "1.5.0",
            "_model_name": "DescriptionStyleModel",
            "_view_count": null,
            "_view_module": "@jupyter-widgets/base",
            "_view_module_version": "1.2.0",
            "_view_name": "StyleView",
            "description_width": ""
          }
        },
        "95977dd0b7434faa9dcfbb5a83b8f70f": {
          "model_module": "@jupyter-widgets/controls",
          "model_module_version": "1.5.0",
          "model_name": "LabelModel",
          "state": {
            "_dom_classes": [],
            "_model_module": "@jupyter-widgets/controls",
            "_model_module_version": "1.5.0",
            "_model_name": "LabelModel",
            "_view_count": null,
            "_view_module": "@jupyter-widgets/controls",
            "_view_module_version": "1.5.0",
            "_view_name": "LabelView",
            "description": "",
            "description_tooltip": null,
            "layout": "IPY_MODEL_febfe15f21bd475193b160feefd958b4",
            "placeholder": "​",
            "style": "IPY_MODEL_a3a48a2d48084aefba98bbcb3bd34e7c",
            "value": "0.011 MB of 0.011 MB uploaded\r"
          }
        },
        "95ea53c792ec4f4bb1bb7ec83eea9ebf": {
          "model_module": "@jupyter-widgets/controls",
          "model_module_version": "1.5.0",
          "model_name": "ProgressStyleModel",
          "state": {
            "_model_module": "@jupyter-widgets/controls",
            "_model_module_version": "1.5.0",
            "_model_name": "ProgressStyleModel",
            "_view_count": null,
            "_view_module": "@jupyter-widgets/base",
            "_view_module_version": "1.2.0",
            "_view_name": "StyleView",
            "bar_color": null,
            "description_width": ""
          }
        },
        "95f57a5d3f594f6a9c7b3bcbdc7bce76": {
          "model_module": "@jupyter-widgets/base",
          "model_module_version": "1.2.0",
          "model_name": "LayoutModel",
          "state": {
            "_model_module": "@jupyter-widgets/base",
            "_model_module_version": "1.2.0",
            "_model_name": "LayoutModel",
            "_view_count": null,
            "_view_module": "@jupyter-widgets/base",
            "_view_module_version": "1.2.0",
            "_view_name": "LayoutView",
            "align_content": null,
            "align_items": null,
            "align_self": null,
            "border": null,
            "bottom": null,
            "display": null,
            "flex": null,
            "flex_flow": null,
            "grid_area": null,
            "grid_auto_columns": null,
            "grid_auto_flow": null,
            "grid_auto_rows": null,
            "grid_column": null,
            "grid_gap": null,
            "grid_row": null,
            "grid_template_areas": null,
            "grid_template_columns": null,
            "grid_template_rows": null,
            "height": null,
            "justify_content": null,
            "justify_items": null,
            "left": null,
            "margin": null,
            "max_height": null,
            "max_width": null,
            "min_height": null,
            "min_width": null,
            "object_fit": null,
            "object_position": null,
            "order": null,
            "overflow": null,
            "overflow_x": null,
            "overflow_y": null,
            "padding": null,
            "right": null,
            "top": null,
            "visibility": null,
            "width": null
          }
        },
        "9767f1d6ac4e4f98938c380f09de2fbc": {
          "model_module": "@jupyter-widgets/controls",
          "model_module_version": "1.5.0",
          "model_name": "FloatProgressModel",
          "state": {
            "_dom_classes": [],
            "_model_module": "@jupyter-widgets/controls",
            "_model_module_version": "1.5.0",
            "_model_name": "FloatProgressModel",
            "_view_count": null,
            "_view_module": "@jupyter-widgets/controls",
            "_view_module_version": "1.5.0",
            "_view_name": "ProgressView",
            "bar_style": "",
            "description": "",
            "description_tooltip": null,
            "layout": "IPY_MODEL_435769308d9b450eaee5d487e4ba2a2a",
            "max": 1,
            "min": 0,
            "orientation": "horizontal",
            "style": "IPY_MODEL_5116d892a76d4f87939ddfd18931733c",
            "value": 1
          }
        },
        "977aec64435f469da3f5607831c83fa5": {
          "model_module": "@jupyter-widgets/controls",
          "model_module_version": "1.5.0",
          "model_name": "FloatProgressModel",
          "state": {
            "_dom_classes": [],
            "_model_module": "@jupyter-widgets/controls",
            "_model_module_version": "1.5.0",
            "_model_name": "FloatProgressModel",
            "_view_count": null,
            "_view_module": "@jupyter-widgets/controls",
            "_view_module_version": "1.5.0",
            "_view_name": "ProgressView",
            "bar_style": "",
            "description": "",
            "description_tooltip": null,
            "layout": "IPY_MODEL_9a6b9b6d3d1847df98415f8f688a7388",
            "max": 1,
            "min": 0,
            "orientation": "horizontal",
            "style": "IPY_MODEL_f9952eec170a45ebb7140233e098e76b",
            "value": 1
          }
        },
        "978530725fc84c0ea840b98df988a471": {
          "model_module": "@jupyter-widgets/controls",
          "model_module_version": "1.5.0",
          "model_name": "LabelModel",
          "state": {
            "_dom_classes": [],
            "_model_module": "@jupyter-widgets/controls",
            "_model_module_version": "1.5.0",
            "_model_name": "LabelModel",
            "_view_count": null,
            "_view_module": "@jupyter-widgets/controls",
            "_view_module_version": "1.5.0",
            "_view_name": "LabelView",
            "description": "",
            "description_tooltip": null,
            "layout": "IPY_MODEL_1213d4058f994325a9b2223d4dd9c0e3",
            "placeholder": "​",
            "style": "IPY_MODEL_849ae90030004cc99328e86f97636d96",
            "value": "0.575 MB of 0.575 MB uploaded\r"
          }
        },
        "98008367301240949107a2a18c5cf780": {
          "model_module": "@jupyter-widgets/controls",
          "model_module_version": "1.5.0",
          "model_name": "LabelModel",
          "state": {
            "_dom_classes": [],
            "_model_module": "@jupyter-widgets/controls",
            "_model_module_version": "1.5.0",
            "_model_name": "LabelModel",
            "_view_count": null,
            "_view_module": "@jupyter-widgets/controls",
            "_view_module_version": "1.5.0",
            "_view_name": "LabelView",
            "description": "",
            "description_tooltip": null,
            "layout": "IPY_MODEL_fd316183679c46f18a730d09e8cec857",
            "placeholder": "​",
            "style": "IPY_MODEL_9574e99fb78d4dea86f5d7e4d6ef40af",
            "value": "0.011 MB of 0.011 MB uploaded\r"
          }
        },
        "983dc0012d8041f688e5fb1ab2c567d0": {
          "model_module": "@jupyter-widgets/controls",
          "model_module_version": "1.5.0",
          "model_name": "DescriptionStyleModel",
          "state": {
            "_model_module": "@jupyter-widgets/controls",
            "_model_module_version": "1.5.0",
            "_model_name": "DescriptionStyleModel",
            "_view_count": null,
            "_view_module": "@jupyter-widgets/base",
            "_view_module_version": "1.2.0",
            "_view_name": "StyleView",
            "description_width": ""
          }
        },
        "99dc971890284a8e939a04a0d0e0d6f8": {
          "model_module": "@jupyter-widgets/base",
          "model_module_version": "1.2.0",
          "model_name": "LayoutModel",
          "state": {
            "_model_module": "@jupyter-widgets/base",
            "_model_module_version": "1.2.0",
            "_model_name": "LayoutModel",
            "_view_count": null,
            "_view_module": "@jupyter-widgets/base",
            "_view_module_version": "1.2.0",
            "_view_name": "LayoutView",
            "align_content": null,
            "align_items": null,
            "align_self": null,
            "border": null,
            "bottom": null,
            "display": null,
            "flex": null,
            "flex_flow": null,
            "grid_area": null,
            "grid_auto_columns": null,
            "grid_auto_flow": null,
            "grid_auto_rows": null,
            "grid_column": null,
            "grid_gap": null,
            "grid_row": null,
            "grid_template_areas": null,
            "grid_template_columns": null,
            "grid_template_rows": null,
            "height": null,
            "justify_content": null,
            "justify_items": null,
            "left": null,
            "margin": null,
            "max_height": null,
            "max_width": null,
            "min_height": null,
            "min_width": null,
            "object_fit": null,
            "object_position": null,
            "order": null,
            "overflow": null,
            "overflow_x": null,
            "overflow_y": null,
            "padding": null,
            "right": null,
            "top": null,
            "visibility": null,
            "width": null
          }
        },
        "9a6b9b6d3d1847df98415f8f688a7388": {
          "model_module": "@jupyter-widgets/base",
          "model_module_version": "1.2.0",
          "model_name": "LayoutModel",
          "state": {
            "_model_module": "@jupyter-widgets/base",
            "_model_module_version": "1.2.0",
            "_model_name": "LayoutModel",
            "_view_count": null,
            "_view_module": "@jupyter-widgets/base",
            "_view_module_version": "1.2.0",
            "_view_name": "LayoutView",
            "align_content": null,
            "align_items": null,
            "align_self": null,
            "border": null,
            "bottom": null,
            "display": null,
            "flex": null,
            "flex_flow": null,
            "grid_area": null,
            "grid_auto_columns": null,
            "grid_auto_flow": null,
            "grid_auto_rows": null,
            "grid_column": null,
            "grid_gap": null,
            "grid_row": null,
            "grid_template_areas": null,
            "grid_template_columns": null,
            "grid_template_rows": null,
            "height": null,
            "justify_content": null,
            "justify_items": null,
            "left": null,
            "margin": null,
            "max_height": null,
            "max_width": null,
            "min_height": null,
            "min_width": null,
            "object_fit": null,
            "object_position": null,
            "order": null,
            "overflow": null,
            "overflow_x": null,
            "overflow_y": null,
            "padding": null,
            "right": null,
            "top": null,
            "visibility": null,
            "width": null
          }
        },
        "9b8bcd5bf757495b9ebb36897e944f48": {
          "model_module": "@jupyter-widgets/controls",
          "model_module_version": "1.5.0",
          "model_name": "ProgressStyleModel",
          "state": {
            "_model_module": "@jupyter-widgets/controls",
            "_model_module_version": "1.5.0",
            "_model_name": "ProgressStyleModel",
            "_view_count": null,
            "_view_module": "@jupyter-widgets/base",
            "_view_module_version": "1.2.0",
            "_view_name": "StyleView",
            "bar_color": null,
            "description_width": ""
          }
        },
        "9cf9485aaa2b4730a0a12dbd9904f02f": {
          "model_module": "@jupyter-widgets/controls",
          "model_module_version": "1.5.0",
          "model_name": "DescriptionStyleModel",
          "state": {
            "_model_module": "@jupyter-widgets/controls",
            "_model_module_version": "1.5.0",
            "_model_name": "DescriptionStyleModel",
            "_view_count": null,
            "_view_module": "@jupyter-widgets/base",
            "_view_module_version": "1.2.0",
            "_view_name": "StyleView",
            "description_width": ""
          }
        },
        "9e0e9ba8a2c64683812eb5250d072c0f": {
          "model_module": "@jupyter-widgets/controls",
          "model_module_version": "1.5.0",
          "model_name": "VBoxModel",
          "state": {
            "_dom_classes": [],
            "_model_module": "@jupyter-widgets/controls",
            "_model_module_version": "1.5.0",
            "_model_name": "VBoxModel",
            "_view_count": null,
            "_view_module": "@jupyter-widgets/controls",
            "_view_module_version": "1.5.0",
            "_view_name": "VBoxView",
            "box_style": "",
            "children": [
              "IPY_MODEL_3a11a5ad148a481ba7d009e2ceb0bfc5",
              "IPY_MODEL_00a51a63c7cb472fac2cd4fc59b27a8b"
            ],
            "layout": "IPY_MODEL_35d8cf7b6af74980a02cc4aff5329429"
          }
        },
        "9f47e938c98843fd87ed61d8b748ed24": {
          "model_module": "@jupyter-widgets/controls",
          "model_module_version": "1.5.0",
          "model_name": "FloatProgressModel",
          "state": {
            "_dom_classes": [],
            "_model_module": "@jupyter-widgets/controls",
            "_model_module_version": "1.5.0",
            "_model_name": "FloatProgressModel",
            "_view_count": null,
            "_view_module": "@jupyter-widgets/controls",
            "_view_module_version": "1.5.0",
            "_view_name": "ProgressView",
            "bar_style": "",
            "description": "",
            "description_tooltip": null,
            "layout": "IPY_MODEL_ec6b72d9cf854506804c12f3547f36c2",
            "max": 1,
            "min": 0,
            "orientation": "horizontal",
            "style": "IPY_MODEL_9b8bcd5bf757495b9ebb36897e944f48",
            "value": 1
          }
        },
        "a16e8372e2ad46a080c6bad996113805": {
          "model_module": "@jupyter-widgets/base",
          "model_module_version": "1.2.0",
          "model_name": "LayoutModel",
          "state": {
            "_model_module": "@jupyter-widgets/base",
            "_model_module_version": "1.2.0",
            "_model_name": "LayoutModel",
            "_view_count": null,
            "_view_module": "@jupyter-widgets/base",
            "_view_module_version": "1.2.0",
            "_view_name": "LayoutView",
            "align_content": null,
            "align_items": null,
            "align_self": null,
            "border": null,
            "bottom": null,
            "display": null,
            "flex": null,
            "flex_flow": null,
            "grid_area": null,
            "grid_auto_columns": null,
            "grid_auto_flow": null,
            "grid_auto_rows": null,
            "grid_column": null,
            "grid_gap": null,
            "grid_row": null,
            "grid_template_areas": null,
            "grid_template_columns": null,
            "grid_template_rows": null,
            "height": null,
            "justify_content": null,
            "justify_items": null,
            "left": null,
            "margin": null,
            "max_height": null,
            "max_width": null,
            "min_height": null,
            "min_width": null,
            "object_fit": null,
            "object_position": null,
            "order": null,
            "overflow": null,
            "overflow_x": null,
            "overflow_y": null,
            "padding": null,
            "right": null,
            "top": null,
            "visibility": null,
            "width": null
          }
        },
        "a3a48a2d48084aefba98bbcb3bd34e7c": {
          "model_module": "@jupyter-widgets/controls",
          "model_module_version": "1.5.0",
          "model_name": "DescriptionStyleModel",
          "state": {
            "_model_module": "@jupyter-widgets/controls",
            "_model_module_version": "1.5.0",
            "_model_name": "DescriptionStyleModel",
            "_view_count": null,
            "_view_module": "@jupyter-widgets/base",
            "_view_module_version": "1.2.0",
            "_view_name": "StyleView",
            "description_width": ""
          }
        },
        "a3dcf1c3a2a54e5c91ce835f702cf4a6": {
          "model_module": "@jupyter-widgets/controls",
          "model_module_version": "1.5.0",
          "model_name": "FloatProgressModel",
          "state": {
            "_dom_classes": [],
            "_model_module": "@jupyter-widgets/controls",
            "_model_module_version": "1.5.0",
            "_model_name": "FloatProgressModel",
            "_view_count": null,
            "_view_module": "@jupyter-widgets/controls",
            "_view_module_version": "1.5.0",
            "_view_name": "ProgressView",
            "bar_style": "",
            "description": "",
            "description_tooltip": null,
            "layout": "IPY_MODEL_7d8dbdaf8e8646cab6741a80abf46209",
            "max": 1,
            "min": 0,
            "orientation": "horizontal",
            "style": "IPY_MODEL_b5048b508b6749049a93ee9f5c3da43c",
            "value": 1
          }
        },
        "a6bb9545423c4f17a8b93dffa67a9fb8": {
          "model_module": "@jupyter-widgets/controls",
          "model_module_version": "1.5.0",
          "model_name": "VBoxModel",
          "state": {
            "_dom_classes": [],
            "_model_module": "@jupyter-widgets/controls",
            "_model_module_version": "1.5.0",
            "_model_name": "VBoxModel",
            "_view_count": null,
            "_view_module": "@jupyter-widgets/controls",
            "_view_module_version": "1.5.0",
            "_view_name": "VBoxView",
            "box_style": "",
            "children": [
              "IPY_MODEL_e92c0054117c4716ae9f2ab47c60a87a",
              "IPY_MODEL_08ef69163a2c4b349fb31e0fa06f3671"
            ],
            "layout": "IPY_MODEL_dc2aa6ce9f9a4073942723321d11a7a5"
          }
        },
        "a77137ec7a0945349949901e48c18fd7": {
          "model_module": "@jupyter-widgets/base",
          "model_module_version": "1.2.0",
          "model_name": "LayoutModel",
          "state": {
            "_model_module": "@jupyter-widgets/base",
            "_model_module_version": "1.2.0",
            "_model_name": "LayoutModel",
            "_view_count": null,
            "_view_module": "@jupyter-widgets/base",
            "_view_module_version": "1.2.0",
            "_view_name": "LayoutView",
            "align_content": null,
            "align_items": null,
            "align_self": null,
            "border": null,
            "bottom": null,
            "display": null,
            "flex": null,
            "flex_flow": null,
            "grid_area": null,
            "grid_auto_columns": null,
            "grid_auto_flow": null,
            "grid_auto_rows": null,
            "grid_column": null,
            "grid_gap": null,
            "grid_row": null,
            "grid_template_areas": null,
            "grid_template_columns": null,
            "grid_template_rows": null,
            "height": null,
            "justify_content": null,
            "justify_items": null,
            "left": null,
            "margin": null,
            "max_height": null,
            "max_width": null,
            "min_height": null,
            "min_width": null,
            "object_fit": null,
            "object_position": null,
            "order": null,
            "overflow": null,
            "overflow_x": null,
            "overflow_y": null,
            "padding": null,
            "right": null,
            "top": null,
            "visibility": null,
            "width": null
          }
        },
        "a8425d1eb2804a86886e0ffe13405c09": {
          "model_module": "@jupyter-widgets/controls",
          "model_module_version": "1.5.0",
          "model_name": "DescriptionStyleModel",
          "state": {
            "_model_module": "@jupyter-widgets/controls",
            "_model_module_version": "1.5.0",
            "_model_name": "DescriptionStyleModel",
            "_view_count": null,
            "_view_module": "@jupyter-widgets/base",
            "_view_module_version": "1.2.0",
            "_view_name": "StyleView",
            "description_width": ""
          }
        },
        "a87902d6cefb4ef5a571483275d42cc3": {
          "model_module": "@jupyter-widgets/controls",
          "model_module_version": "1.5.0",
          "model_name": "FloatProgressModel",
          "state": {
            "_dom_classes": [],
            "_model_module": "@jupyter-widgets/controls",
            "_model_module_version": "1.5.0",
            "_model_name": "FloatProgressModel",
            "_view_count": null,
            "_view_module": "@jupyter-widgets/controls",
            "_view_module_version": "1.5.0",
            "_view_name": "ProgressView",
            "bar_style": "",
            "description": "",
            "description_tooltip": null,
            "layout": "IPY_MODEL_95f57a5d3f594f6a9c7b3bcbdc7bce76",
            "max": 1,
            "min": 0,
            "orientation": "horizontal",
            "style": "IPY_MODEL_66a113eb4dd144f194e2b310a16812e5",
            "value": 1
          }
        },
        "a9a97e2e7a4746e3bdd1e82a5de5f576": {
          "model_module": "@jupyter-widgets/controls",
          "model_module_version": "1.5.0",
          "model_name": "DescriptionStyleModel",
          "state": {
            "_model_module": "@jupyter-widgets/controls",
            "_model_module_version": "1.5.0",
            "_model_name": "DescriptionStyleModel",
            "_view_count": null,
            "_view_module": "@jupyter-widgets/base",
            "_view_module_version": "1.2.0",
            "_view_name": "StyleView",
            "description_width": ""
          }
        },
        "ac6b4a46c75e410da0c2da4a2625f8aa": {
          "model_module": "@jupyter-widgets/controls",
          "model_module_version": "1.5.0",
          "model_name": "DescriptionStyleModel",
          "state": {
            "_model_module": "@jupyter-widgets/controls",
            "_model_module_version": "1.5.0",
            "_model_name": "DescriptionStyleModel",
            "_view_count": null,
            "_view_module": "@jupyter-widgets/base",
            "_view_module_version": "1.2.0",
            "_view_name": "StyleView",
            "description_width": ""
          }
        },
        "aefbeacb0e2e40bf89b456110928da63": {
          "model_module": "@jupyter-widgets/controls",
          "model_module_version": "1.5.0",
          "model_name": "VBoxModel",
          "state": {
            "_dom_classes": [],
            "_model_module": "@jupyter-widgets/controls",
            "_model_module_version": "1.5.0",
            "_model_name": "VBoxModel",
            "_view_count": null,
            "_view_module": "@jupyter-widgets/controls",
            "_view_module_version": "1.5.0",
            "_view_name": "VBoxView",
            "box_style": "",
            "children": [
              "IPY_MODEL_896cc362aa15496388207ffa99d0129f",
              "IPY_MODEL_dcaede729a78433bbec2cfb573c56f4b"
            ],
            "layout": "IPY_MODEL_f22a9ad592ad4196a63cfc568bbce309"
          }
        },
        "af9b661abfe141ceb072689625de21ae": {
          "model_module": "@jupyter-widgets/base",
          "model_module_version": "1.2.0",
          "model_name": "LayoutModel",
          "state": {
            "_model_module": "@jupyter-widgets/base",
            "_model_module_version": "1.2.0",
            "_model_name": "LayoutModel",
            "_view_count": null,
            "_view_module": "@jupyter-widgets/base",
            "_view_module_version": "1.2.0",
            "_view_name": "LayoutView",
            "align_content": null,
            "align_items": null,
            "align_self": null,
            "border": null,
            "bottom": null,
            "display": null,
            "flex": null,
            "flex_flow": null,
            "grid_area": null,
            "grid_auto_columns": null,
            "grid_auto_flow": null,
            "grid_auto_rows": null,
            "grid_column": null,
            "grid_gap": null,
            "grid_row": null,
            "grid_template_areas": null,
            "grid_template_columns": null,
            "grid_template_rows": null,
            "height": null,
            "justify_content": null,
            "justify_items": null,
            "left": null,
            "margin": null,
            "max_height": null,
            "max_width": null,
            "min_height": null,
            "min_width": null,
            "object_fit": null,
            "object_position": null,
            "order": null,
            "overflow": null,
            "overflow_x": null,
            "overflow_y": null,
            "padding": null,
            "right": null,
            "top": null,
            "visibility": null,
            "width": null
          }
        },
        "b0b942e28c8648e9a835cf0e1bfc5778": {
          "model_module": "@jupyter-widgets/controls",
          "model_module_version": "1.5.0",
          "model_name": "LabelModel",
          "state": {
            "_dom_classes": [],
            "_model_module": "@jupyter-widgets/controls",
            "_model_module_version": "1.5.0",
            "_model_name": "LabelModel",
            "_view_count": null,
            "_view_module": "@jupyter-widgets/controls",
            "_view_module_version": "1.5.0",
            "_view_name": "LabelView",
            "description": "",
            "description_tooltip": null,
            "layout": "IPY_MODEL_33251216c90c4e528cf152972ef709de",
            "placeholder": "​",
            "style": "IPY_MODEL_ca6e21c17893449b99bd6f35aee30fd3",
            "value": "1.594 MB of 1.594 MB uploaded\r"
          }
        },
        "b12521a7414c44c0a9b3368813d72c7e": {
          "model_module": "@jupyter-widgets/base",
          "model_module_version": "1.2.0",
          "model_name": "LayoutModel",
          "state": {
            "_model_module": "@jupyter-widgets/base",
            "_model_module_version": "1.2.0",
            "_model_name": "LayoutModel",
            "_view_count": null,
            "_view_module": "@jupyter-widgets/base",
            "_view_module_version": "1.2.0",
            "_view_name": "LayoutView",
            "align_content": null,
            "align_items": null,
            "align_self": null,
            "border": null,
            "bottom": null,
            "display": null,
            "flex": null,
            "flex_flow": null,
            "grid_area": null,
            "grid_auto_columns": null,
            "grid_auto_flow": null,
            "grid_auto_rows": null,
            "grid_column": null,
            "grid_gap": null,
            "grid_row": null,
            "grid_template_areas": null,
            "grid_template_columns": null,
            "grid_template_rows": null,
            "height": null,
            "justify_content": null,
            "justify_items": null,
            "left": null,
            "margin": null,
            "max_height": null,
            "max_width": null,
            "min_height": null,
            "min_width": null,
            "object_fit": null,
            "object_position": null,
            "order": null,
            "overflow": null,
            "overflow_x": null,
            "overflow_y": null,
            "padding": null,
            "right": null,
            "top": null,
            "visibility": null,
            "width": null
          }
        },
        "b2130ed083ea4a9d8dad0d88642a5aa7": {
          "model_module": "@jupyter-widgets/controls",
          "model_module_version": "1.5.0",
          "model_name": "ProgressStyleModel",
          "state": {
            "_model_module": "@jupyter-widgets/controls",
            "_model_module_version": "1.5.0",
            "_model_name": "ProgressStyleModel",
            "_view_count": null,
            "_view_module": "@jupyter-widgets/base",
            "_view_module_version": "1.2.0",
            "_view_name": "StyleView",
            "bar_color": null,
            "description_width": ""
          }
        },
        "b2a2bc43f56442b3abde0c14796bfb46": {
          "model_module": "@jupyter-widgets/controls",
          "model_module_version": "1.5.0",
          "model_name": "LabelModel",
          "state": {
            "_dom_classes": [],
            "_model_module": "@jupyter-widgets/controls",
            "_model_module_version": "1.5.0",
            "_model_name": "LabelModel",
            "_view_count": null,
            "_view_module": "@jupyter-widgets/controls",
            "_view_module_version": "1.5.0",
            "_view_name": "LabelView",
            "description": "",
            "description_tooltip": null,
            "layout": "IPY_MODEL_8e1c93e5fcee4559be1b4a02f11cb2c8",
            "placeholder": "​",
            "style": "IPY_MODEL_e06454a51eae452eb21f38a2c096874c",
            "value": "0.574 MB of 0.574 MB uploaded\r"
          }
        },
        "b41650e0108447c8b4752778aaf84b88": {
          "model_module": "@jupyter-widgets/controls",
          "model_module_version": "1.5.0",
          "model_name": "ProgressStyleModel",
          "state": {
            "_model_module": "@jupyter-widgets/controls",
            "_model_module_version": "1.5.0",
            "_model_name": "ProgressStyleModel",
            "_view_count": null,
            "_view_module": "@jupyter-widgets/base",
            "_view_module_version": "1.2.0",
            "_view_name": "StyleView",
            "bar_color": null,
            "description_width": ""
          }
        },
        "b5048b508b6749049a93ee9f5c3da43c": {
          "model_module": "@jupyter-widgets/controls",
          "model_module_version": "1.5.0",
          "model_name": "ProgressStyleModel",
          "state": {
            "_model_module": "@jupyter-widgets/controls",
            "_model_module_version": "1.5.0",
            "_model_name": "ProgressStyleModel",
            "_view_count": null,
            "_view_module": "@jupyter-widgets/base",
            "_view_module_version": "1.2.0",
            "_view_name": "StyleView",
            "bar_color": null,
            "description_width": ""
          }
        },
        "b55f66df7f4043fe93c07d9eaa210a20": {
          "model_module": "@jupyter-widgets/controls",
          "model_module_version": "1.5.0",
          "model_name": "ProgressStyleModel",
          "state": {
            "_model_module": "@jupyter-widgets/controls",
            "_model_module_version": "1.5.0",
            "_model_name": "ProgressStyleModel",
            "_view_count": null,
            "_view_module": "@jupyter-widgets/base",
            "_view_module_version": "1.2.0",
            "_view_name": "StyleView",
            "bar_color": null,
            "description_width": ""
          }
        },
        "b6c79cd917a1408baee2021379c0ea3f": {
          "model_module": "@jupyter-widgets/controls",
          "model_module_version": "1.5.0",
          "model_name": "VBoxModel",
          "state": {
            "_dom_classes": [],
            "_model_module": "@jupyter-widgets/controls",
            "_model_module_version": "1.5.0",
            "_model_name": "VBoxModel",
            "_view_count": null,
            "_view_module": "@jupyter-widgets/controls",
            "_view_module_version": "1.5.0",
            "_view_name": "VBoxView",
            "box_style": "",
            "children": [
              "IPY_MODEL_978530725fc84c0ea840b98df988a471",
              "IPY_MODEL_811f542e7dc94651b3999210df8e837c"
            ],
            "layout": "IPY_MODEL_7d2136cfdecc4aed832fefe1cf252b2a"
          }
        },
        "b7381ec912be4c4c9170519390391b65": {
          "model_module": "@jupyter-widgets/base",
          "model_module_version": "1.2.0",
          "model_name": "LayoutModel",
          "state": {
            "_model_module": "@jupyter-widgets/base",
            "_model_module_version": "1.2.0",
            "_model_name": "LayoutModel",
            "_view_count": null,
            "_view_module": "@jupyter-widgets/base",
            "_view_module_version": "1.2.0",
            "_view_name": "LayoutView",
            "align_content": null,
            "align_items": null,
            "align_self": null,
            "border": null,
            "bottom": null,
            "display": null,
            "flex": null,
            "flex_flow": null,
            "grid_area": null,
            "grid_auto_columns": null,
            "grid_auto_flow": null,
            "grid_auto_rows": null,
            "grid_column": null,
            "grid_gap": null,
            "grid_row": null,
            "grid_template_areas": null,
            "grid_template_columns": null,
            "grid_template_rows": null,
            "height": null,
            "justify_content": null,
            "justify_items": null,
            "left": null,
            "margin": null,
            "max_height": null,
            "max_width": null,
            "min_height": null,
            "min_width": null,
            "object_fit": null,
            "object_position": null,
            "order": null,
            "overflow": null,
            "overflow_x": null,
            "overflow_y": null,
            "padding": null,
            "right": null,
            "top": null,
            "visibility": null,
            "width": null
          }
        },
        "b763eff30dc24e9da8d762c2b311b0d6": {
          "model_module": "@jupyter-widgets/base",
          "model_module_version": "1.2.0",
          "model_name": "LayoutModel",
          "state": {
            "_model_module": "@jupyter-widgets/base",
            "_model_module_version": "1.2.0",
            "_model_name": "LayoutModel",
            "_view_count": null,
            "_view_module": "@jupyter-widgets/base",
            "_view_module_version": "1.2.0",
            "_view_name": "LayoutView",
            "align_content": null,
            "align_items": null,
            "align_self": null,
            "border": null,
            "bottom": null,
            "display": null,
            "flex": null,
            "flex_flow": null,
            "grid_area": null,
            "grid_auto_columns": null,
            "grid_auto_flow": null,
            "grid_auto_rows": null,
            "grid_column": null,
            "grid_gap": null,
            "grid_row": null,
            "grid_template_areas": null,
            "grid_template_columns": null,
            "grid_template_rows": null,
            "height": null,
            "justify_content": null,
            "justify_items": null,
            "left": null,
            "margin": null,
            "max_height": null,
            "max_width": null,
            "min_height": null,
            "min_width": null,
            "object_fit": null,
            "object_position": null,
            "order": null,
            "overflow": null,
            "overflow_x": null,
            "overflow_y": null,
            "padding": null,
            "right": null,
            "top": null,
            "visibility": null,
            "width": null
          }
        },
        "b8e01e93abae49499c9554787255bc9f": {
          "model_module": "@jupyter-widgets/controls",
          "model_module_version": "1.5.0",
          "model_name": "ProgressStyleModel",
          "state": {
            "_model_module": "@jupyter-widgets/controls",
            "_model_module_version": "1.5.0",
            "_model_name": "ProgressStyleModel",
            "_view_count": null,
            "_view_module": "@jupyter-widgets/base",
            "_view_module_version": "1.2.0",
            "_view_name": "StyleView",
            "bar_color": null,
            "description_width": ""
          }
        },
        "b9afa90ddffe42348c403189b499b27e": {
          "model_module": "@jupyter-widgets/controls",
          "model_module_version": "1.5.0",
          "model_name": "FloatProgressModel",
          "state": {
            "_dom_classes": [],
            "_model_module": "@jupyter-widgets/controls",
            "_model_module_version": "1.5.0",
            "_model_name": "FloatProgressModel",
            "_view_count": null,
            "_view_module": "@jupyter-widgets/controls",
            "_view_module_version": "1.5.0",
            "_view_name": "ProgressView",
            "bar_style": "",
            "description": "",
            "description_tooltip": null,
            "layout": "IPY_MODEL_e460fc423a8649669f8ee8b467cdb6fc",
            "max": 1,
            "min": 0,
            "orientation": "horizontal",
            "style": "IPY_MODEL_50fc4b9ee29e4720a0f4987b7b7d6270",
            "value": 1
          }
        },
        "ba6722dae70c42639f074344030f1307": {
          "model_module": "@jupyter-widgets/controls",
          "model_module_version": "1.5.0",
          "model_name": "DescriptionStyleModel",
          "state": {
            "_model_module": "@jupyter-widgets/controls",
            "_model_module_version": "1.5.0",
            "_model_name": "DescriptionStyleModel",
            "_view_count": null,
            "_view_module": "@jupyter-widgets/base",
            "_view_module_version": "1.2.0",
            "_view_name": "StyleView",
            "description_width": ""
          }
        },
        "bb25a8bfe1674b39a2b38d7317e116f4": {
          "model_module": "@jupyter-widgets/controls",
          "model_module_version": "1.5.0",
          "model_name": "VBoxModel",
          "state": {
            "_dom_classes": [],
            "_model_module": "@jupyter-widgets/controls",
            "_model_module_version": "1.5.0",
            "_model_name": "VBoxModel",
            "_view_count": null,
            "_view_module": "@jupyter-widgets/controls",
            "_view_module_version": "1.5.0",
            "_view_name": "VBoxView",
            "box_style": "",
            "children": [
              "IPY_MODEL_bb572a90f86a448987d69e0d5e62e288",
              "IPY_MODEL_86ca35dda1034493a1b173921dd87435"
            ],
            "layout": "IPY_MODEL_7f5ddf9a73154a6f9d858fe661555519"
          }
        },
        "bb572a90f86a448987d69e0d5e62e288": {
          "model_module": "@jupyter-widgets/controls",
          "model_module_version": "1.5.0",
          "model_name": "LabelModel",
          "state": {
            "_dom_classes": [],
            "_model_module": "@jupyter-widgets/controls",
            "_model_module_version": "1.5.0",
            "_model_name": "LabelModel",
            "_view_count": null,
            "_view_module": "@jupyter-widgets/controls",
            "_view_module_version": "1.5.0",
            "_view_name": "LabelView",
            "description": "",
            "description_tooltip": null,
            "layout": "IPY_MODEL_5dd65f66bae9452ea15bfbd0f00955af",
            "placeholder": "​",
            "style": "IPY_MODEL_11248968897549f296734485f07c0723",
            "value": "1.602 MB of 1.602 MB uploaded\r"
          }
        },
        "bc2839a276df4654b19224aa5c71e78f": {
          "model_module": "@jupyter-widgets/controls",
          "model_module_version": "1.5.0",
          "model_name": "LabelModel",
          "state": {
            "_dom_classes": [],
            "_model_module": "@jupyter-widgets/controls",
            "_model_module_version": "1.5.0",
            "_model_name": "LabelModel",
            "_view_count": null,
            "_view_module": "@jupyter-widgets/controls",
            "_view_module_version": "1.5.0",
            "_view_name": "LabelView",
            "description": "",
            "description_tooltip": null,
            "layout": "IPY_MODEL_7b81fbe99fba49ddb53006b7b379c617",
            "placeholder": "​",
            "style": "IPY_MODEL_3597b7dbb6ee49d693345a77e4097827",
            "value": "1.600 MB of 1.600 MB uploaded\r"
          }
        },
        "bc7267286e0749cdb03c4e172c5dc571": {
          "model_module": "@jupyter-widgets/controls",
          "model_module_version": "1.5.0",
          "model_name": "ProgressStyleModel",
          "state": {
            "_model_module": "@jupyter-widgets/controls",
            "_model_module_version": "1.5.0",
            "_model_name": "ProgressStyleModel",
            "_view_count": null,
            "_view_module": "@jupyter-widgets/base",
            "_view_module_version": "1.2.0",
            "_view_name": "StyleView",
            "bar_color": null,
            "description_width": ""
          }
        },
        "bd9414fea9294fd886fc2dee596367ee": {
          "model_module": "@jupyter-widgets/base",
          "model_module_version": "1.2.0",
          "model_name": "LayoutModel",
          "state": {
            "_model_module": "@jupyter-widgets/base",
            "_model_module_version": "1.2.0",
            "_model_name": "LayoutModel",
            "_view_count": null,
            "_view_module": "@jupyter-widgets/base",
            "_view_module_version": "1.2.0",
            "_view_name": "LayoutView",
            "align_content": null,
            "align_items": null,
            "align_self": null,
            "border": null,
            "bottom": null,
            "display": null,
            "flex": null,
            "flex_flow": null,
            "grid_area": null,
            "grid_auto_columns": null,
            "grid_auto_flow": null,
            "grid_auto_rows": null,
            "grid_column": null,
            "grid_gap": null,
            "grid_row": null,
            "grid_template_areas": null,
            "grid_template_columns": null,
            "grid_template_rows": null,
            "height": null,
            "justify_content": null,
            "justify_items": null,
            "left": null,
            "margin": null,
            "max_height": null,
            "max_width": null,
            "min_height": null,
            "min_width": null,
            "object_fit": null,
            "object_position": null,
            "order": null,
            "overflow": null,
            "overflow_x": null,
            "overflow_y": null,
            "padding": null,
            "right": null,
            "top": null,
            "visibility": null,
            "width": null
          }
        },
        "bf85ec87af2b49109b20a45323015b09": {
          "model_module": "@jupyter-widgets/controls",
          "model_module_version": "1.5.0",
          "model_name": "FloatProgressModel",
          "state": {
            "_dom_classes": [],
            "_model_module": "@jupyter-widgets/controls",
            "_model_module_version": "1.5.0",
            "_model_name": "FloatProgressModel",
            "_view_count": null,
            "_view_module": "@jupyter-widgets/controls",
            "_view_module_version": "1.5.0",
            "_view_name": "ProgressView",
            "bar_style": "",
            "description": "",
            "description_tooltip": null,
            "layout": "IPY_MODEL_b763eff30dc24e9da8d762c2b311b0d6",
            "max": 1,
            "min": 0,
            "orientation": "horizontal",
            "style": "IPY_MODEL_f17c3805bc5e4952b6701dc6813118ff",
            "value": 1
          }
        },
        "bff91eeba174422cae0f51c87aa41b98": {
          "model_module": "@jupyter-widgets/base",
          "model_module_version": "1.2.0",
          "model_name": "LayoutModel",
          "state": {
            "_model_module": "@jupyter-widgets/base",
            "_model_module_version": "1.2.0",
            "_model_name": "LayoutModel",
            "_view_count": null,
            "_view_module": "@jupyter-widgets/base",
            "_view_module_version": "1.2.0",
            "_view_name": "LayoutView",
            "align_content": null,
            "align_items": null,
            "align_self": null,
            "border": null,
            "bottom": null,
            "display": null,
            "flex": null,
            "flex_flow": null,
            "grid_area": null,
            "grid_auto_columns": null,
            "grid_auto_flow": null,
            "grid_auto_rows": null,
            "grid_column": null,
            "grid_gap": null,
            "grid_row": null,
            "grid_template_areas": null,
            "grid_template_columns": null,
            "grid_template_rows": null,
            "height": null,
            "justify_content": null,
            "justify_items": null,
            "left": null,
            "margin": null,
            "max_height": null,
            "max_width": null,
            "min_height": null,
            "min_width": null,
            "object_fit": null,
            "object_position": null,
            "order": null,
            "overflow": null,
            "overflow_x": null,
            "overflow_y": null,
            "padding": null,
            "right": null,
            "top": null,
            "visibility": null,
            "width": null
          }
        },
        "c2a01df3036a4c91bf63f8729bf2f442": {
          "model_module": "@jupyter-widgets/controls",
          "model_module_version": "1.5.0",
          "model_name": "DescriptionStyleModel",
          "state": {
            "_model_module": "@jupyter-widgets/controls",
            "_model_module_version": "1.5.0",
            "_model_name": "DescriptionStyleModel",
            "_view_count": null,
            "_view_module": "@jupyter-widgets/base",
            "_view_module_version": "1.2.0",
            "_view_name": "StyleView",
            "description_width": ""
          }
        },
        "c45a950c71ba42b387bdcc5be8eba815": {
          "model_module": "@jupyter-widgets/controls",
          "model_module_version": "1.5.0",
          "model_name": "ProgressStyleModel",
          "state": {
            "_model_module": "@jupyter-widgets/controls",
            "_model_module_version": "1.5.0",
            "_model_name": "ProgressStyleModel",
            "_view_count": null,
            "_view_module": "@jupyter-widgets/base",
            "_view_module_version": "1.2.0",
            "_view_name": "StyleView",
            "bar_color": null,
            "description_width": ""
          }
        },
        "c49b5155d85142a7a81441bbba387af0": {
          "model_module": "@jupyter-widgets/base",
          "model_module_version": "1.2.0",
          "model_name": "LayoutModel",
          "state": {
            "_model_module": "@jupyter-widgets/base",
            "_model_module_version": "1.2.0",
            "_model_name": "LayoutModel",
            "_view_count": null,
            "_view_module": "@jupyter-widgets/base",
            "_view_module_version": "1.2.0",
            "_view_name": "LayoutView",
            "align_content": null,
            "align_items": null,
            "align_self": null,
            "border": null,
            "bottom": null,
            "display": null,
            "flex": null,
            "flex_flow": null,
            "grid_area": null,
            "grid_auto_columns": null,
            "grid_auto_flow": null,
            "grid_auto_rows": null,
            "grid_column": null,
            "grid_gap": null,
            "grid_row": null,
            "grid_template_areas": null,
            "grid_template_columns": null,
            "grid_template_rows": null,
            "height": null,
            "justify_content": null,
            "justify_items": null,
            "left": null,
            "margin": null,
            "max_height": null,
            "max_width": null,
            "min_height": null,
            "min_width": null,
            "object_fit": null,
            "object_position": null,
            "order": null,
            "overflow": null,
            "overflow_x": null,
            "overflow_y": null,
            "padding": null,
            "right": null,
            "top": null,
            "visibility": null,
            "width": null
          }
        },
        "c591b15f626442f4952b298893d121b4": {
          "model_module": "@jupyter-widgets/base",
          "model_module_version": "1.2.0",
          "model_name": "LayoutModel",
          "state": {
            "_model_module": "@jupyter-widgets/base",
            "_model_module_version": "1.2.0",
            "_model_name": "LayoutModel",
            "_view_count": null,
            "_view_module": "@jupyter-widgets/base",
            "_view_module_version": "1.2.0",
            "_view_name": "LayoutView",
            "align_content": null,
            "align_items": null,
            "align_self": null,
            "border": null,
            "bottom": null,
            "display": null,
            "flex": null,
            "flex_flow": null,
            "grid_area": null,
            "grid_auto_columns": null,
            "grid_auto_flow": null,
            "grid_auto_rows": null,
            "grid_column": null,
            "grid_gap": null,
            "grid_row": null,
            "grid_template_areas": null,
            "grid_template_columns": null,
            "grid_template_rows": null,
            "height": null,
            "justify_content": null,
            "justify_items": null,
            "left": null,
            "margin": null,
            "max_height": null,
            "max_width": null,
            "min_height": null,
            "min_width": null,
            "object_fit": null,
            "object_position": null,
            "order": null,
            "overflow": null,
            "overflow_x": null,
            "overflow_y": null,
            "padding": null,
            "right": null,
            "top": null,
            "visibility": null,
            "width": null
          }
        },
        "c5acfaccfa674f178ac9b7f31b27d849": {
          "model_module": "@jupyter-widgets/base",
          "model_module_version": "1.2.0",
          "model_name": "LayoutModel",
          "state": {
            "_model_module": "@jupyter-widgets/base",
            "_model_module_version": "1.2.0",
            "_model_name": "LayoutModel",
            "_view_count": null,
            "_view_module": "@jupyter-widgets/base",
            "_view_module_version": "1.2.0",
            "_view_name": "LayoutView",
            "align_content": null,
            "align_items": null,
            "align_self": null,
            "border": null,
            "bottom": null,
            "display": null,
            "flex": null,
            "flex_flow": null,
            "grid_area": null,
            "grid_auto_columns": null,
            "grid_auto_flow": null,
            "grid_auto_rows": null,
            "grid_column": null,
            "grid_gap": null,
            "grid_row": null,
            "grid_template_areas": null,
            "grid_template_columns": null,
            "grid_template_rows": null,
            "height": null,
            "justify_content": null,
            "justify_items": null,
            "left": null,
            "margin": null,
            "max_height": null,
            "max_width": null,
            "min_height": null,
            "min_width": null,
            "object_fit": null,
            "object_position": null,
            "order": null,
            "overflow": null,
            "overflow_x": null,
            "overflow_y": null,
            "padding": null,
            "right": null,
            "top": null,
            "visibility": null,
            "width": null
          }
        },
        "c608b80506bf439c8d04f5267692bc15": {
          "model_module": "@jupyter-widgets/controls",
          "model_module_version": "1.5.0",
          "model_name": "VBoxModel",
          "state": {
            "_dom_classes": [],
            "_model_module": "@jupyter-widgets/controls",
            "_model_module_version": "1.5.0",
            "_model_name": "VBoxModel",
            "_view_count": null,
            "_view_module": "@jupyter-widgets/controls",
            "_view_module_version": "1.5.0",
            "_view_name": "VBoxView",
            "box_style": "",
            "children": [
              "IPY_MODEL_4597c6360eb148dabafa2c5a763207df",
              "IPY_MODEL_b9afa90ddffe42348c403189b499b27e"
            ],
            "layout": "IPY_MODEL_4ff97484847a4351867f64105623c928"
          }
        },
        "c6508ed73e8048faaf0c779a3f368c6e": {
          "model_module": "@jupyter-widgets/controls",
          "model_module_version": "1.5.0",
          "model_name": "DescriptionStyleModel",
          "state": {
            "_model_module": "@jupyter-widgets/controls",
            "_model_module_version": "1.5.0",
            "_model_name": "DescriptionStyleModel",
            "_view_count": null,
            "_view_module": "@jupyter-widgets/base",
            "_view_module_version": "1.2.0",
            "_view_name": "StyleView",
            "description_width": ""
          }
        },
        "c764b1ed68be4a65b88bea403e0fec5c": {
          "model_module": "@jupyter-widgets/controls",
          "model_module_version": "1.5.0",
          "model_name": "VBoxModel",
          "state": {
            "_dom_classes": [],
            "_model_module": "@jupyter-widgets/controls",
            "_model_module_version": "1.5.0",
            "_model_name": "VBoxModel",
            "_view_count": null,
            "_view_module": "@jupyter-widgets/controls",
            "_view_module_version": "1.5.0",
            "_view_name": "VBoxView",
            "box_style": "",
            "children": [
              "IPY_MODEL_3180fa5165ee4e92a8d7fc0eb118fb28",
              "IPY_MODEL_2ebd2a42fef14a75922be970ebf52aad"
            ],
            "layout": "IPY_MODEL_99dc971890284a8e939a04a0d0e0d6f8"
          }
        },
        "ca6e21c17893449b99bd6f35aee30fd3": {
          "model_module": "@jupyter-widgets/controls",
          "model_module_version": "1.5.0",
          "model_name": "DescriptionStyleModel",
          "state": {
            "_model_module": "@jupyter-widgets/controls",
            "_model_module_version": "1.5.0",
            "_model_name": "DescriptionStyleModel",
            "_view_count": null,
            "_view_module": "@jupyter-widgets/base",
            "_view_module_version": "1.2.0",
            "_view_name": "StyleView",
            "description_width": ""
          }
        },
        "cbc828fc02944bc1b2c04c0405d7943b": {
          "model_module": "@jupyter-widgets/controls",
          "model_module_version": "1.5.0",
          "model_name": "VBoxModel",
          "state": {
            "_dom_classes": [],
            "_model_module": "@jupyter-widgets/controls",
            "_model_module_version": "1.5.0",
            "_model_name": "VBoxModel",
            "_view_count": null,
            "_view_module": "@jupyter-widgets/controls",
            "_view_module_version": "1.5.0",
            "_view_name": "VBoxView",
            "box_style": "",
            "children": [
              "IPY_MODEL_b0b942e28c8648e9a835cf0e1bfc5778",
              "IPY_MODEL_d2cef0ec3301457499300077a3cf6ed2"
            ],
            "layout": "IPY_MODEL_f06b903ddac142f2b672dde9ea5d4201"
          }
        },
        "cccafcb4cc814397a2011bc1aa6f8d20": {
          "model_module": "@jupyter-widgets/controls",
          "model_module_version": "1.5.0",
          "model_name": "FloatProgressModel",
          "state": {
            "_dom_classes": [],
            "_model_module": "@jupyter-widgets/controls",
            "_model_module_version": "1.5.0",
            "_model_name": "FloatProgressModel",
            "_view_count": null,
            "_view_module": "@jupyter-widgets/controls",
            "_view_module_version": "1.5.0",
            "_view_name": "ProgressView",
            "bar_style": "",
            "description": "",
            "description_tooltip": null,
            "layout": "IPY_MODEL_3890591d812c4059af09eb41e974312d",
            "max": 1,
            "min": 0,
            "orientation": "horizontal",
            "style": "IPY_MODEL_f86d47e6a5c44fee932ce1ddacfe6aca",
            "value": 1
          }
        },
        "cced5de3a4a04079b957ebc2839bbca1": {
          "model_module": "@jupyter-widgets/base",
          "model_module_version": "1.2.0",
          "model_name": "LayoutModel",
          "state": {
            "_model_module": "@jupyter-widgets/base",
            "_model_module_version": "1.2.0",
            "_model_name": "LayoutModel",
            "_view_count": null,
            "_view_module": "@jupyter-widgets/base",
            "_view_module_version": "1.2.0",
            "_view_name": "LayoutView",
            "align_content": null,
            "align_items": null,
            "align_self": null,
            "border": null,
            "bottom": null,
            "display": null,
            "flex": null,
            "flex_flow": null,
            "grid_area": null,
            "grid_auto_columns": null,
            "grid_auto_flow": null,
            "grid_auto_rows": null,
            "grid_column": null,
            "grid_gap": null,
            "grid_row": null,
            "grid_template_areas": null,
            "grid_template_columns": null,
            "grid_template_rows": null,
            "height": null,
            "justify_content": null,
            "justify_items": null,
            "left": null,
            "margin": null,
            "max_height": null,
            "max_width": null,
            "min_height": null,
            "min_width": null,
            "object_fit": null,
            "object_position": null,
            "order": null,
            "overflow": null,
            "overflow_x": null,
            "overflow_y": null,
            "padding": null,
            "right": null,
            "top": null,
            "visibility": null,
            "width": null
          }
        },
        "cd4a1b0344c642c9b3dd2db3b8d241e3": {
          "model_module": "@jupyter-widgets/base",
          "model_module_version": "1.2.0",
          "model_name": "LayoutModel",
          "state": {
            "_model_module": "@jupyter-widgets/base",
            "_model_module_version": "1.2.0",
            "_model_name": "LayoutModel",
            "_view_count": null,
            "_view_module": "@jupyter-widgets/base",
            "_view_module_version": "1.2.0",
            "_view_name": "LayoutView",
            "align_content": null,
            "align_items": null,
            "align_self": null,
            "border": null,
            "bottom": null,
            "display": null,
            "flex": null,
            "flex_flow": null,
            "grid_area": null,
            "grid_auto_columns": null,
            "grid_auto_flow": null,
            "grid_auto_rows": null,
            "grid_column": null,
            "grid_gap": null,
            "grid_row": null,
            "grid_template_areas": null,
            "grid_template_columns": null,
            "grid_template_rows": null,
            "height": null,
            "justify_content": null,
            "justify_items": null,
            "left": null,
            "margin": null,
            "max_height": null,
            "max_width": null,
            "min_height": null,
            "min_width": null,
            "object_fit": null,
            "object_position": null,
            "order": null,
            "overflow": null,
            "overflow_x": null,
            "overflow_y": null,
            "padding": null,
            "right": null,
            "top": null,
            "visibility": null,
            "width": null
          }
        },
        "cd74297b464547b49c06642f6848328f": {
          "model_module": "@jupyter-widgets/base",
          "model_module_version": "1.2.0",
          "model_name": "LayoutModel",
          "state": {
            "_model_module": "@jupyter-widgets/base",
            "_model_module_version": "1.2.0",
            "_model_name": "LayoutModel",
            "_view_count": null,
            "_view_module": "@jupyter-widgets/base",
            "_view_module_version": "1.2.0",
            "_view_name": "LayoutView",
            "align_content": null,
            "align_items": null,
            "align_self": null,
            "border": null,
            "bottom": null,
            "display": null,
            "flex": null,
            "flex_flow": null,
            "grid_area": null,
            "grid_auto_columns": null,
            "grid_auto_flow": null,
            "grid_auto_rows": null,
            "grid_column": null,
            "grid_gap": null,
            "grid_row": null,
            "grid_template_areas": null,
            "grid_template_columns": null,
            "grid_template_rows": null,
            "height": null,
            "justify_content": null,
            "justify_items": null,
            "left": null,
            "margin": null,
            "max_height": null,
            "max_width": null,
            "min_height": null,
            "min_width": null,
            "object_fit": null,
            "object_position": null,
            "order": null,
            "overflow": null,
            "overflow_x": null,
            "overflow_y": null,
            "padding": null,
            "right": null,
            "top": null,
            "visibility": null,
            "width": null
          }
        },
        "cf7836ac4b5b4962a5cbcea1b8626bb4": {
          "model_module": "@jupyter-widgets/base",
          "model_module_version": "1.2.0",
          "model_name": "LayoutModel",
          "state": {
            "_model_module": "@jupyter-widgets/base",
            "_model_module_version": "1.2.0",
            "_model_name": "LayoutModel",
            "_view_count": null,
            "_view_module": "@jupyter-widgets/base",
            "_view_module_version": "1.2.0",
            "_view_name": "LayoutView",
            "align_content": null,
            "align_items": null,
            "align_self": null,
            "border": null,
            "bottom": null,
            "display": null,
            "flex": null,
            "flex_flow": null,
            "grid_area": null,
            "grid_auto_columns": null,
            "grid_auto_flow": null,
            "grid_auto_rows": null,
            "grid_column": null,
            "grid_gap": null,
            "grid_row": null,
            "grid_template_areas": null,
            "grid_template_columns": null,
            "grid_template_rows": null,
            "height": null,
            "justify_content": null,
            "justify_items": null,
            "left": null,
            "margin": null,
            "max_height": null,
            "max_width": null,
            "min_height": null,
            "min_width": null,
            "object_fit": null,
            "object_position": null,
            "order": null,
            "overflow": null,
            "overflow_x": null,
            "overflow_y": null,
            "padding": null,
            "right": null,
            "top": null,
            "visibility": null,
            "width": null
          }
        },
        "d0a251fedad9485281d39a9965229533": {
          "model_module": "@jupyter-widgets/controls",
          "model_module_version": "1.5.0",
          "model_name": "VBoxModel",
          "state": {
            "_dom_classes": [],
            "_model_module": "@jupyter-widgets/controls",
            "_model_module_version": "1.5.0",
            "_model_name": "VBoxModel",
            "_view_count": null,
            "_view_module": "@jupyter-widgets/controls",
            "_view_module_version": "1.5.0",
            "_view_name": "VBoxView",
            "box_style": "",
            "children": [
              "IPY_MODEL_b2a2bc43f56442b3abde0c14796bfb46",
              "IPY_MODEL_9767f1d6ac4e4f98938c380f09de2fbc"
            ],
            "layout": "IPY_MODEL_85da9e8f79cf4914a4886590a5942d66"
          }
        },
        "d27be66c7cb14261852c925b347123d3": {
          "model_module": "@jupyter-widgets/base",
          "model_module_version": "1.2.0",
          "model_name": "LayoutModel",
          "state": {
            "_model_module": "@jupyter-widgets/base",
            "_model_module_version": "1.2.0",
            "_model_name": "LayoutModel",
            "_view_count": null,
            "_view_module": "@jupyter-widgets/base",
            "_view_module_version": "1.2.0",
            "_view_name": "LayoutView",
            "align_content": null,
            "align_items": null,
            "align_self": null,
            "border": null,
            "bottom": null,
            "display": null,
            "flex": null,
            "flex_flow": null,
            "grid_area": null,
            "grid_auto_columns": null,
            "grid_auto_flow": null,
            "grid_auto_rows": null,
            "grid_column": null,
            "grid_gap": null,
            "grid_row": null,
            "grid_template_areas": null,
            "grid_template_columns": null,
            "grid_template_rows": null,
            "height": null,
            "justify_content": null,
            "justify_items": null,
            "left": null,
            "margin": null,
            "max_height": null,
            "max_width": null,
            "min_height": null,
            "min_width": null,
            "object_fit": null,
            "object_position": null,
            "order": null,
            "overflow": null,
            "overflow_x": null,
            "overflow_y": null,
            "padding": null,
            "right": null,
            "top": null,
            "visibility": null,
            "width": null
          }
        },
        "d2cef0ec3301457499300077a3cf6ed2": {
          "model_module": "@jupyter-widgets/controls",
          "model_module_version": "1.5.0",
          "model_name": "FloatProgressModel",
          "state": {
            "_dom_classes": [],
            "_model_module": "@jupyter-widgets/controls",
            "_model_module_version": "1.5.0",
            "_model_name": "FloatProgressModel",
            "_view_count": null,
            "_view_module": "@jupyter-widgets/controls",
            "_view_module_version": "1.5.0",
            "_view_name": "ProgressView",
            "bar_style": "",
            "description": "",
            "description_tooltip": null,
            "layout": "IPY_MODEL_171bf0673ed942e1b689b6bc2f2aaaa9",
            "max": 1,
            "min": 0,
            "orientation": "horizontal",
            "style": "IPY_MODEL_40b0c4974f594cc5924f035abc4663de",
            "value": 1
          }
        },
        "d4b76b6e89ab415f86e95e5ba70b4ec9": {
          "model_module": "@jupyter-widgets/controls",
          "model_module_version": "1.5.0",
          "model_name": "VBoxModel",
          "state": {
            "_dom_classes": [],
            "_model_module": "@jupyter-widgets/controls",
            "_model_module_version": "1.5.0",
            "_model_name": "VBoxModel",
            "_view_count": null,
            "_view_module": "@jupyter-widgets/controls",
            "_view_module_version": "1.5.0",
            "_view_name": "VBoxView",
            "box_style": "",
            "children": [
              "IPY_MODEL_95977dd0b7434faa9dcfbb5a83b8f70f",
              "IPY_MODEL_2bbbeeb7681d47f591359b02c871aa70"
            ],
            "layout": "IPY_MODEL_831b470b9a0c4842a90eb40a779d9f2c"
          }
        },
        "d565cfa649e942e0a9a0dd93a79b10f6": {
          "model_module": "@jupyter-widgets/base",
          "model_module_version": "1.2.0",
          "model_name": "LayoutModel",
          "state": {
            "_model_module": "@jupyter-widgets/base",
            "_model_module_version": "1.2.0",
            "_model_name": "LayoutModel",
            "_view_count": null,
            "_view_module": "@jupyter-widgets/base",
            "_view_module_version": "1.2.0",
            "_view_name": "LayoutView",
            "align_content": null,
            "align_items": null,
            "align_self": null,
            "border": null,
            "bottom": null,
            "display": null,
            "flex": null,
            "flex_flow": null,
            "grid_area": null,
            "grid_auto_columns": null,
            "grid_auto_flow": null,
            "grid_auto_rows": null,
            "grid_column": null,
            "grid_gap": null,
            "grid_row": null,
            "grid_template_areas": null,
            "grid_template_columns": null,
            "grid_template_rows": null,
            "height": null,
            "justify_content": null,
            "justify_items": null,
            "left": null,
            "margin": null,
            "max_height": null,
            "max_width": null,
            "min_height": null,
            "min_width": null,
            "object_fit": null,
            "object_position": null,
            "order": null,
            "overflow": null,
            "overflow_x": null,
            "overflow_y": null,
            "padding": null,
            "right": null,
            "top": null,
            "visibility": null,
            "width": null
          }
        },
        "d9d08d8b495c4463a6b676845d118d16": {
          "model_module": "@jupyter-widgets/base",
          "model_module_version": "1.2.0",
          "model_name": "LayoutModel",
          "state": {
            "_model_module": "@jupyter-widgets/base",
            "_model_module_version": "1.2.0",
            "_model_name": "LayoutModel",
            "_view_count": null,
            "_view_module": "@jupyter-widgets/base",
            "_view_module_version": "1.2.0",
            "_view_name": "LayoutView",
            "align_content": null,
            "align_items": null,
            "align_self": null,
            "border": null,
            "bottom": null,
            "display": null,
            "flex": null,
            "flex_flow": null,
            "grid_area": null,
            "grid_auto_columns": null,
            "grid_auto_flow": null,
            "grid_auto_rows": null,
            "grid_column": null,
            "grid_gap": null,
            "grid_row": null,
            "grid_template_areas": null,
            "grid_template_columns": null,
            "grid_template_rows": null,
            "height": null,
            "justify_content": null,
            "justify_items": null,
            "left": null,
            "margin": null,
            "max_height": null,
            "max_width": null,
            "min_height": null,
            "min_width": null,
            "object_fit": null,
            "object_position": null,
            "order": null,
            "overflow": null,
            "overflow_x": null,
            "overflow_y": null,
            "padding": null,
            "right": null,
            "top": null,
            "visibility": null,
            "width": null
          }
        },
        "dba7c5698296447f9c1bfa08fd195ab9": {
          "model_module": "@jupyter-widgets/controls",
          "model_module_version": "1.5.0",
          "model_name": "VBoxModel",
          "state": {
            "_dom_classes": [],
            "_model_module": "@jupyter-widgets/controls",
            "_model_module_version": "1.5.0",
            "_model_name": "VBoxModel",
            "_view_count": null,
            "_view_module": "@jupyter-widgets/controls",
            "_view_module_version": "1.5.0",
            "_view_name": "VBoxView",
            "box_style": "",
            "children": [
              "IPY_MODEL_73bed9e3f8d84ac4889384b54ffcad3e",
              "IPY_MODEL_497b6f8a39f148fbb598956c197f8bcf"
            ],
            "layout": "IPY_MODEL_5f7e731542c54d0187ea4b7a78a6f74f"
          }
        },
        "dc2aa6ce9f9a4073942723321d11a7a5": {
          "model_module": "@jupyter-widgets/base",
          "model_module_version": "1.2.0",
          "model_name": "LayoutModel",
          "state": {
            "_model_module": "@jupyter-widgets/base",
            "_model_module_version": "1.2.0",
            "_model_name": "LayoutModel",
            "_view_count": null,
            "_view_module": "@jupyter-widgets/base",
            "_view_module_version": "1.2.0",
            "_view_name": "LayoutView",
            "align_content": null,
            "align_items": null,
            "align_self": null,
            "border": null,
            "bottom": null,
            "display": null,
            "flex": null,
            "flex_flow": null,
            "grid_area": null,
            "grid_auto_columns": null,
            "grid_auto_flow": null,
            "grid_auto_rows": null,
            "grid_column": null,
            "grid_gap": null,
            "grid_row": null,
            "grid_template_areas": null,
            "grid_template_columns": null,
            "grid_template_rows": null,
            "height": null,
            "justify_content": null,
            "justify_items": null,
            "left": null,
            "margin": null,
            "max_height": null,
            "max_width": null,
            "min_height": null,
            "min_width": null,
            "object_fit": null,
            "object_position": null,
            "order": null,
            "overflow": null,
            "overflow_x": null,
            "overflow_y": null,
            "padding": null,
            "right": null,
            "top": null,
            "visibility": null,
            "width": null
          }
        },
        "dc75243eb6824f4e853108e5b9a6feef": {
          "model_module": "@jupyter-widgets/controls",
          "model_module_version": "1.5.0",
          "model_name": "FloatProgressModel",
          "state": {
            "_dom_classes": [],
            "_model_module": "@jupyter-widgets/controls",
            "_model_module_version": "1.5.0",
            "_model_name": "FloatProgressModel",
            "_view_count": null,
            "_view_module": "@jupyter-widgets/controls",
            "_view_module_version": "1.5.0",
            "_view_name": "ProgressView",
            "bar_style": "",
            "description": "",
            "description_tooltip": null,
            "layout": "IPY_MODEL_3fe435f751344c2db0579f89d5892beb",
            "max": 1,
            "min": 0,
            "orientation": "horizontal",
            "style": "IPY_MODEL_48a8113eb8e944f3a35e1219c6afb8cd",
            "value": 1
          }
        },
        "dcaede729a78433bbec2cfb573c56f4b": {
          "model_module": "@jupyter-widgets/controls",
          "model_module_version": "1.5.0",
          "model_name": "FloatProgressModel",
          "state": {
            "_dom_classes": [],
            "_model_module": "@jupyter-widgets/controls",
            "_model_module_version": "1.5.0",
            "_model_name": "FloatProgressModel",
            "_view_count": null,
            "_view_module": "@jupyter-widgets/controls",
            "_view_module_version": "1.5.0",
            "_view_name": "ProgressView",
            "bar_style": "",
            "description": "",
            "description_tooltip": null,
            "layout": "IPY_MODEL_7229c851e9fd4d848f2f18ad7c794ff3",
            "max": 1,
            "min": 0,
            "orientation": "horizontal",
            "style": "IPY_MODEL_676c69ba68894c5a9b9d6b4099cde525",
            "value": 1
          }
        },
        "e06454a51eae452eb21f38a2c096874c": {
          "model_module": "@jupyter-widgets/controls",
          "model_module_version": "1.5.0",
          "model_name": "DescriptionStyleModel",
          "state": {
            "_model_module": "@jupyter-widgets/controls",
            "_model_module_version": "1.5.0",
            "_model_name": "DescriptionStyleModel",
            "_view_count": null,
            "_view_module": "@jupyter-widgets/base",
            "_view_module_version": "1.2.0",
            "_view_name": "StyleView",
            "description_width": ""
          }
        },
        "e172e14b9de545899a3fc737992981bd": {
          "model_module": "@jupyter-widgets/controls",
          "model_module_version": "1.5.0",
          "model_name": "FloatProgressModel",
          "state": {
            "_dom_classes": [],
            "_model_module": "@jupyter-widgets/controls",
            "_model_module_version": "1.5.0",
            "_model_name": "FloatProgressModel",
            "_view_count": null,
            "_view_module": "@jupyter-widgets/controls",
            "_view_module_version": "1.5.0",
            "_view_name": "ProgressView",
            "bar_style": "",
            "description": "",
            "description_tooltip": null,
            "layout": "IPY_MODEL_efcc16d752bc4fd680db7cf74c868711",
            "max": 1,
            "min": 0,
            "orientation": "horizontal",
            "style": "IPY_MODEL_6023198973f541c9b239a95cc7a4b144",
            "value": 1
          }
        },
        "e22f9e8900944230ae00964912d18ac2": {
          "model_module": "@jupyter-widgets/controls",
          "model_module_version": "1.5.0",
          "model_name": "ProgressStyleModel",
          "state": {
            "_model_module": "@jupyter-widgets/controls",
            "_model_module_version": "1.5.0",
            "_model_name": "ProgressStyleModel",
            "_view_count": null,
            "_view_module": "@jupyter-widgets/base",
            "_view_module_version": "1.2.0",
            "_view_name": "StyleView",
            "bar_color": null,
            "description_width": ""
          }
        },
        "e460fc423a8649669f8ee8b467cdb6fc": {
          "model_module": "@jupyter-widgets/base",
          "model_module_version": "1.2.0",
          "model_name": "LayoutModel",
          "state": {
            "_model_module": "@jupyter-widgets/base",
            "_model_module_version": "1.2.0",
            "_model_name": "LayoutModel",
            "_view_count": null,
            "_view_module": "@jupyter-widgets/base",
            "_view_module_version": "1.2.0",
            "_view_name": "LayoutView",
            "align_content": null,
            "align_items": null,
            "align_self": null,
            "border": null,
            "bottom": null,
            "display": null,
            "flex": null,
            "flex_flow": null,
            "grid_area": null,
            "grid_auto_columns": null,
            "grid_auto_flow": null,
            "grid_auto_rows": null,
            "grid_column": null,
            "grid_gap": null,
            "grid_row": null,
            "grid_template_areas": null,
            "grid_template_columns": null,
            "grid_template_rows": null,
            "height": null,
            "justify_content": null,
            "justify_items": null,
            "left": null,
            "margin": null,
            "max_height": null,
            "max_width": null,
            "min_height": null,
            "min_width": null,
            "object_fit": null,
            "object_position": null,
            "order": null,
            "overflow": null,
            "overflow_x": null,
            "overflow_y": null,
            "padding": null,
            "right": null,
            "top": null,
            "visibility": null,
            "width": null
          }
        },
        "e92c0054117c4716ae9f2ab47c60a87a": {
          "model_module": "@jupyter-widgets/controls",
          "model_module_version": "1.5.0",
          "model_name": "LabelModel",
          "state": {
            "_dom_classes": [],
            "_model_module": "@jupyter-widgets/controls",
            "_model_module_version": "1.5.0",
            "_model_name": "LabelModel",
            "_view_count": null,
            "_view_module": "@jupyter-widgets/controls",
            "_view_module_version": "1.5.0",
            "_view_name": "LabelView",
            "description": "",
            "description_tooltip": null,
            "layout": "IPY_MODEL_0d9e1148cbbe4ef090cf022782a74664",
            "placeholder": "​",
            "style": "IPY_MODEL_ba6722dae70c42639f074344030f1307",
            "value": "0.575 MB of 0.575 MB uploaded\r"
          }
        },
        "eb5b9cd05fd646e092cd274d314d2980": {
          "model_module": "@jupyter-widgets/base",
          "model_module_version": "1.2.0",
          "model_name": "LayoutModel",
          "state": {
            "_model_module": "@jupyter-widgets/base",
            "_model_module_version": "1.2.0",
            "_model_name": "LayoutModel",
            "_view_count": null,
            "_view_module": "@jupyter-widgets/base",
            "_view_module_version": "1.2.0",
            "_view_name": "LayoutView",
            "align_content": null,
            "align_items": null,
            "align_self": null,
            "border": null,
            "bottom": null,
            "display": null,
            "flex": null,
            "flex_flow": null,
            "grid_area": null,
            "grid_auto_columns": null,
            "grid_auto_flow": null,
            "grid_auto_rows": null,
            "grid_column": null,
            "grid_gap": null,
            "grid_row": null,
            "grid_template_areas": null,
            "grid_template_columns": null,
            "grid_template_rows": null,
            "height": null,
            "justify_content": null,
            "justify_items": null,
            "left": null,
            "margin": null,
            "max_height": null,
            "max_width": null,
            "min_height": null,
            "min_width": null,
            "object_fit": null,
            "object_position": null,
            "order": null,
            "overflow": null,
            "overflow_x": null,
            "overflow_y": null,
            "padding": null,
            "right": null,
            "top": null,
            "visibility": null,
            "width": null
          }
        },
        "ec6b72d9cf854506804c12f3547f36c2": {
          "model_module": "@jupyter-widgets/base",
          "model_module_version": "1.2.0",
          "model_name": "LayoutModel",
          "state": {
            "_model_module": "@jupyter-widgets/base",
            "_model_module_version": "1.2.0",
            "_model_name": "LayoutModel",
            "_view_count": null,
            "_view_module": "@jupyter-widgets/base",
            "_view_module_version": "1.2.0",
            "_view_name": "LayoutView",
            "align_content": null,
            "align_items": null,
            "align_self": null,
            "border": null,
            "bottom": null,
            "display": null,
            "flex": null,
            "flex_flow": null,
            "grid_area": null,
            "grid_auto_columns": null,
            "grid_auto_flow": null,
            "grid_auto_rows": null,
            "grid_column": null,
            "grid_gap": null,
            "grid_row": null,
            "grid_template_areas": null,
            "grid_template_columns": null,
            "grid_template_rows": null,
            "height": null,
            "justify_content": null,
            "justify_items": null,
            "left": null,
            "margin": null,
            "max_height": null,
            "max_width": null,
            "min_height": null,
            "min_width": null,
            "object_fit": null,
            "object_position": null,
            "order": null,
            "overflow": null,
            "overflow_x": null,
            "overflow_y": null,
            "padding": null,
            "right": null,
            "top": null,
            "visibility": null,
            "width": null
          }
        },
        "efcc16d752bc4fd680db7cf74c868711": {
          "model_module": "@jupyter-widgets/base",
          "model_module_version": "1.2.0",
          "model_name": "LayoutModel",
          "state": {
            "_model_module": "@jupyter-widgets/base",
            "_model_module_version": "1.2.0",
            "_model_name": "LayoutModel",
            "_view_count": null,
            "_view_module": "@jupyter-widgets/base",
            "_view_module_version": "1.2.0",
            "_view_name": "LayoutView",
            "align_content": null,
            "align_items": null,
            "align_self": null,
            "border": null,
            "bottom": null,
            "display": null,
            "flex": null,
            "flex_flow": null,
            "grid_area": null,
            "grid_auto_columns": null,
            "grid_auto_flow": null,
            "grid_auto_rows": null,
            "grid_column": null,
            "grid_gap": null,
            "grid_row": null,
            "grid_template_areas": null,
            "grid_template_columns": null,
            "grid_template_rows": null,
            "height": null,
            "justify_content": null,
            "justify_items": null,
            "left": null,
            "margin": null,
            "max_height": null,
            "max_width": null,
            "min_height": null,
            "min_width": null,
            "object_fit": null,
            "object_position": null,
            "order": null,
            "overflow": null,
            "overflow_x": null,
            "overflow_y": null,
            "padding": null,
            "right": null,
            "top": null,
            "visibility": null,
            "width": null
          }
        },
        "f05a96c814fb421d963cfdf6695a22df": {
          "model_module": "@jupyter-widgets/controls",
          "model_module_version": "1.5.0",
          "model_name": "LabelModel",
          "state": {
            "_dom_classes": [],
            "_model_module": "@jupyter-widgets/controls",
            "_model_module_version": "1.5.0",
            "_model_name": "LabelModel",
            "_view_count": null,
            "_view_module": "@jupyter-widgets/controls",
            "_view_module_version": "1.5.0",
            "_view_name": "LabelView",
            "description": "",
            "description_tooltip": null,
            "layout": "IPY_MODEL_cf7836ac4b5b4962a5cbcea1b8626bb4",
            "placeholder": "​",
            "style": "IPY_MODEL_2feb414eee814feb99e013474bd48273",
            "value": "0.576 MB of 0.576 MB uploaded\r"
          }
        },
        "f06b903ddac142f2b672dde9ea5d4201": {
          "model_module": "@jupyter-widgets/base",
          "model_module_version": "1.2.0",
          "model_name": "LayoutModel",
          "state": {
            "_model_module": "@jupyter-widgets/base",
            "_model_module_version": "1.2.0",
            "_model_name": "LayoutModel",
            "_view_count": null,
            "_view_module": "@jupyter-widgets/base",
            "_view_module_version": "1.2.0",
            "_view_name": "LayoutView",
            "align_content": null,
            "align_items": null,
            "align_self": null,
            "border": null,
            "bottom": null,
            "display": null,
            "flex": null,
            "flex_flow": null,
            "grid_area": null,
            "grid_auto_columns": null,
            "grid_auto_flow": null,
            "grid_auto_rows": null,
            "grid_column": null,
            "grid_gap": null,
            "grid_row": null,
            "grid_template_areas": null,
            "grid_template_columns": null,
            "grid_template_rows": null,
            "height": null,
            "justify_content": null,
            "justify_items": null,
            "left": null,
            "margin": null,
            "max_height": null,
            "max_width": null,
            "min_height": null,
            "min_width": null,
            "object_fit": null,
            "object_position": null,
            "order": null,
            "overflow": null,
            "overflow_x": null,
            "overflow_y": null,
            "padding": null,
            "right": null,
            "top": null,
            "visibility": null,
            "width": null
          }
        },
        "f0beafdc707f473989fe4a84c2f22167": {
          "model_module": "@jupyter-widgets/base",
          "model_module_version": "1.2.0",
          "model_name": "LayoutModel",
          "state": {
            "_model_module": "@jupyter-widgets/base",
            "_model_module_version": "1.2.0",
            "_model_name": "LayoutModel",
            "_view_count": null,
            "_view_module": "@jupyter-widgets/base",
            "_view_module_version": "1.2.0",
            "_view_name": "LayoutView",
            "align_content": null,
            "align_items": null,
            "align_self": null,
            "border": null,
            "bottom": null,
            "display": null,
            "flex": null,
            "flex_flow": null,
            "grid_area": null,
            "grid_auto_columns": null,
            "grid_auto_flow": null,
            "grid_auto_rows": null,
            "grid_column": null,
            "grid_gap": null,
            "grid_row": null,
            "grid_template_areas": null,
            "grid_template_columns": null,
            "grid_template_rows": null,
            "height": null,
            "justify_content": null,
            "justify_items": null,
            "left": null,
            "margin": null,
            "max_height": null,
            "max_width": null,
            "min_height": null,
            "min_width": null,
            "object_fit": null,
            "object_position": null,
            "order": null,
            "overflow": null,
            "overflow_x": null,
            "overflow_y": null,
            "padding": null,
            "right": null,
            "top": null,
            "visibility": null,
            "width": null
          }
        },
        "f17c3805bc5e4952b6701dc6813118ff": {
          "model_module": "@jupyter-widgets/controls",
          "model_module_version": "1.5.0",
          "model_name": "ProgressStyleModel",
          "state": {
            "_model_module": "@jupyter-widgets/controls",
            "_model_module_version": "1.5.0",
            "_model_name": "ProgressStyleModel",
            "_view_count": null,
            "_view_module": "@jupyter-widgets/base",
            "_view_module_version": "1.2.0",
            "_view_name": "StyleView",
            "bar_color": null,
            "description_width": ""
          }
        },
        "f22a9ad592ad4196a63cfc568bbce309": {
          "model_module": "@jupyter-widgets/base",
          "model_module_version": "1.2.0",
          "model_name": "LayoutModel",
          "state": {
            "_model_module": "@jupyter-widgets/base",
            "_model_module_version": "1.2.0",
            "_model_name": "LayoutModel",
            "_view_count": null,
            "_view_module": "@jupyter-widgets/base",
            "_view_module_version": "1.2.0",
            "_view_name": "LayoutView",
            "align_content": null,
            "align_items": null,
            "align_self": null,
            "border": null,
            "bottom": null,
            "display": null,
            "flex": null,
            "flex_flow": null,
            "grid_area": null,
            "grid_auto_columns": null,
            "grid_auto_flow": null,
            "grid_auto_rows": null,
            "grid_column": null,
            "grid_gap": null,
            "grid_row": null,
            "grid_template_areas": null,
            "grid_template_columns": null,
            "grid_template_rows": null,
            "height": null,
            "justify_content": null,
            "justify_items": null,
            "left": null,
            "margin": null,
            "max_height": null,
            "max_width": null,
            "min_height": null,
            "min_width": null,
            "object_fit": null,
            "object_position": null,
            "order": null,
            "overflow": null,
            "overflow_x": null,
            "overflow_y": null,
            "padding": null,
            "right": null,
            "top": null,
            "visibility": null,
            "width": null
          }
        },
        "f3a9cdc728ef4e5c9a7cf6843da41c43": {
          "model_module": "@jupyter-widgets/controls",
          "model_module_version": "1.5.0",
          "model_name": "DescriptionStyleModel",
          "state": {
            "_model_module": "@jupyter-widgets/controls",
            "_model_module_version": "1.5.0",
            "_model_name": "DescriptionStyleModel",
            "_view_count": null,
            "_view_module": "@jupyter-widgets/base",
            "_view_module_version": "1.2.0",
            "_view_name": "StyleView",
            "description_width": ""
          }
        },
        "f5fe172a94e14a4694daa29b0496220c": {
          "model_module": "@jupyter-widgets/base",
          "model_module_version": "1.2.0",
          "model_name": "LayoutModel",
          "state": {
            "_model_module": "@jupyter-widgets/base",
            "_model_module_version": "1.2.0",
            "_model_name": "LayoutModel",
            "_view_count": null,
            "_view_module": "@jupyter-widgets/base",
            "_view_module_version": "1.2.0",
            "_view_name": "LayoutView",
            "align_content": null,
            "align_items": null,
            "align_self": null,
            "border": null,
            "bottom": null,
            "display": null,
            "flex": null,
            "flex_flow": null,
            "grid_area": null,
            "grid_auto_columns": null,
            "grid_auto_flow": null,
            "grid_auto_rows": null,
            "grid_column": null,
            "grid_gap": null,
            "grid_row": null,
            "grid_template_areas": null,
            "grid_template_columns": null,
            "grid_template_rows": null,
            "height": null,
            "justify_content": null,
            "justify_items": null,
            "left": null,
            "margin": null,
            "max_height": null,
            "max_width": null,
            "min_height": null,
            "min_width": null,
            "object_fit": null,
            "object_position": null,
            "order": null,
            "overflow": null,
            "overflow_x": null,
            "overflow_y": null,
            "padding": null,
            "right": null,
            "top": null,
            "visibility": null,
            "width": null
          }
        },
        "f703d7ca077047d9be2c9eafea0860ff": {
          "model_module": "@jupyter-widgets/base",
          "model_module_version": "1.2.0",
          "model_name": "LayoutModel",
          "state": {
            "_model_module": "@jupyter-widgets/base",
            "_model_module_version": "1.2.0",
            "_model_name": "LayoutModel",
            "_view_count": null,
            "_view_module": "@jupyter-widgets/base",
            "_view_module_version": "1.2.0",
            "_view_name": "LayoutView",
            "align_content": null,
            "align_items": null,
            "align_self": null,
            "border": null,
            "bottom": null,
            "display": null,
            "flex": null,
            "flex_flow": null,
            "grid_area": null,
            "grid_auto_columns": null,
            "grid_auto_flow": null,
            "grid_auto_rows": null,
            "grid_column": null,
            "grid_gap": null,
            "grid_row": null,
            "grid_template_areas": null,
            "grid_template_columns": null,
            "grid_template_rows": null,
            "height": null,
            "justify_content": null,
            "justify_items": null,
            "left": null,
            "margin": null,
            "max_height": null,
            "max_width": null,
            "min_height": null,
            "min_width": null,
            "object_fit": null,
            "object_position": null,
            "order": null,
            "overflow": null,
            "overflow_x": null,
            "overflow_y": null,
            "padding": null,
            "right": null,
            "top": null,
            "visibility": null,
            "width": null
          }
        },
        "f828b14111254c22b78ba7ecb2a35e7b": {
          "model_module": "@jupyter-widgets/base",
          "model_module_version": "1.2.0",
          "model_name": "LayoutModel",
          "state": {
            "_model_module": "@jupyter-widgets/base",
            "_model_module_version": "1.2.0",
            "_model_name": "LayoutModel",
            "_view_count": null,
            "_view_module": "@jupyter-widgets/base",
            "_view_module_version": "1.2.0",
            "_view_name": "LayoutView",
            "align_content": null,
            "align_items": null,
            "align_self": null,
            "border": null,
            "bottom": null,
            "display": null,
            "flex": null,
            "flex_flow": null,
            "grid_area": null,
            "grid_auto_columns": null,
            "grid_auto_flow": null,
            "grid_auto_rows": null,
            "grid_column": null,
            "grid_gap": null,
            "grid_row": null,
            "grid_template_areas": null,
            "grid_template_columns": null,
            "grid_template_rows": null,
            "height": null,
            "justify_content": null,
            "justify_items": null,
            "left": null,
            "margin": null,
            "max_height": null,
            "max_width": null,
            "min_height": null,
            "min_width": null,
            "object_fit": null,
            "object_position": null,
            "order": null,
            "overflow": null,
            "overflow_x": null,
            "overflow_y": null,
            "padding": null,
            "right": null,
            "top": null,
            "visibility": null,
            "width": null
          }
        },
        "f86d47e6a5c44fee932ce1ddacfe6aca": {
          "model_module": "@jupyter-widgets/controls",
          "model_module_version": "1.5.0",
          "model_name": "ProgressStyleModel",
          "state": {
            "_model_module": "@jupyter-widgets/controls",
            "_model_module_version": "1.5.0",
            "_model_name": "ProgressStyleModel",
            "_view_count": null,
            "_view_module": "@jupyter-widgets/base",
            "_view_module_version": "1.2.0",
            "_view_name": "StyleView",
            "bar_color": null,
            "description_width": ""
          }
        },
        "f9952eec170a45ebb7140233e098e76b": {
          "model_module": "@jupyter-widgets/controls",
          "model_module_version": "1.5.0",
          "model_name": "ProgressStyleModel",
          "state": {
            "_model_module": "@jupyter-widgets/controls",
            "_model_module_version": "1.5.0",
            "_model_name": "ProgressStyleModel",
            "_view_count": null,
            "_view_module": "@jupyter-widgets/base",
            "_view_module_version": "1.2.0",
            "_view_name": "StyleView",
            "bar_color": null,
            "description_width": ""
          }
        },
        "fc82e226066a41aa8f1c2fd10a9a73d3": {
          "model_module": "@jupyter-widgets/controls",
          "model_module_version": "1.5.0",
          "model_name": "VBoxModel",
          "state": {
            "_dom_classes": [],
            "_model_module": "@jupyter-widgets/controls",
            "_model_module_version": "1.5.0",
            "_model_name": "VBoxModel",
            "_view_count": null,
            "_view_module": "@jupyter-widgets/controls",
            "_view_module_version": "1.5.0",
            "_view_name": "VBoxView",
            "box_style": "",
            "children": [
              "IPY_MODEL_19be7861846944f3a57b01a2a32c9186",
              "IPY_MODEL_5ae180b44d8f43ee92e9ca6f94654b06"
            ],
            "layout": "IPY_MODEL_d27be66c7cb14261852c925b347123d3"
          }
        },
        "fd316183679c46f18a730d09e8cec857": {
          "model_module": "@jupyter-widgets/base",
          "model_module_version": "1.2.0",
          "model_name": "LayoutModel",
          "state": {
            "_model_module": "@jupyter-widgets/base",
            "_model_module_version": "1.2.0",
            "_model_name": "LayoutModel",
            "_view_count": null,
            "_view_module": "@jupyter-widgets/base",
            "_view_module_version": "1.2.0",
            "_view_name": "LayoutView",
            "align_content": null,
            "align_items": null,
            "align_self": null,
            "border": null,
            "bottom": null,
            "display": null,
            "flex": null,
            "flex_flow": null,
            "grid_area": null,
            "grid_auto_columns": null,
            "grid_auto_flow": null,
            "grid_auto_rows": null,
            "grid_column": null,
            "grid_gap": null,
            "grid_row": null,
            "grid_template_areas": null,
            "grid_template_columns": null,
            "grid_template_rows": null,
            "height": null,
            "justify_content": null,
            "justify_items": null,
            "left": null,
            "margin": null,
            "max_height": null,
            "max_width": null,
            "min_height": null,
            "min_width": null,
            "object_fit": null,
            "object_position": null,
            "order": null,
            "overflow": null,
            "overflow_x": null,
            "overflow_y": null,
            "padding": null,
            "right": null,
            "top": null,
            "visibility": null,
            "width": null
          }
        },
        "febfe15f21bd475193b160feefd958b4": {
          "model_module": "@jupyter-widgets/base",
          "model_module_version": "1.2.0",
          "model_name": "LayoutModel",
          "state": {
            "_model_module": "@jupyter-widgets/base",
            "_model_module_version": "1.2.0",
            "_model_name": "LayoutModel",
            "_view_count": null,
            "_view_module": "@jupyter-widgets/base",
            "_view_module_version": "1.2.0",
            "_view_name": "LayoutView",
            "align_content": null,
            "align_items": null,
            "align_self": null,
            "border": null,
            "bottom": null,
            "display": null,
            "flex": null,
            "flex_flow": null,
            "grid_area": null,
            "grid_auto_columns": null,
            "grid_auto_flow": null,
            "grid_auto_rows": null,
            "grid_column": null,
            "grid_gap": null,
            "grid_row": null,
            "grid_template_areas": null,
            "grid_template_columns": null,
            "grid_template_rows": null,
            "height": null,
            "justify_content": null,
            "justify_items": null,
            "left": null,
            "margin": null,
            "max_height": null,
            "max_width": null,
            "min_height": null,
            "min_width": null,
            "object_fit": null,
            "object_position": null,
            "order": null,
            "overflow": null,
            "overflow_x": null,
            "overflow_y": null,
            "padding": null,
            "right": null,
            "top": null,
            "visibility": null,
            "width": null
          }
        }
      }
    }
  },
  "nbformat": 4,
  "nbformat_minor": 0
}
