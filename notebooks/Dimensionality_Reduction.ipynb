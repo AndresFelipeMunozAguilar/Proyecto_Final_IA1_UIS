{
 "cells": [
  {
   "cell_type": "markdown",
   "metadata": {},
   "source": [
    "---\n",
    "\n",
    "\n",
    "\n",
    "# <font color='#ECA702'>**Análisis Multimodal de Síntomas en la Enfermedad de Parkinson**</font>"
   ]
  },
  {
   "cell_type": "code",
   "execution_count": null,
   "metadata": {},
   "outputs": [],
   "source": [
    "#@title **Importar librerías**\n",
    "\n",
    "# Manipulación de datos\n",
    "import os\n",
    "import cv2\n",
    "import numpy as np\n",
    "import librosa\n",
    "\n",
    "# Pytorch essentials\n",
    "import torch\n",
    "\n",
    "# Utils\n",
    "import matplotlib.pyplot as plt\n",
    "from tqdm import tqdm"
   ]
  },
  {
   "cell_type": "code",
   "execution_count": null,
   "metadata": {},
   "outputs": [
    {
     "name": "stdout",
     "output_type": "stream",
     "text": [
      "Mounted at /content/drive\n",
      "/content/drive/.shortcut-targets-by-id/1XRruCPRodR4OhRCRZYKsyODqa_GuBkfC/data_parkinson\n"
     ]
    }
   ],
   "source": [
    "#@title **Cargamos los datos desde Drive**\n",
    "\n",
    "from google.colab import drive\n",
    "drive.mount('/content/drive')\n",
    "os.chdir('/content/drive/My Drive/data_parkinson')\n",
    "print(os.getcwd())"
   ]
  },
  {
   "cell_type": "markdown",
   "metadata": {},
   "source": [
    "# <font color='#4C5FDA'> **Reducción de la dimensionalidad**</font> \n",
    "\n",
    "<font color='#52F17F'>**PCA (Principal Component Analysis)**</font>: PCA es una técnica de reducción de dimensionalidad que transforma las características de los frames en un nuevo espacio de características, reduciendo la dimensión mientras conserva la información más significativa.\n",
    "\n",
    "En un problema multiclase haría algo así:\n",
    "\n",
    "<center>\n",
    "  <img src=\"https://www.askpython.com/wp-content/uploads/2020/10/Visualizing-digits-data-in-2-dimensions-2-1024x512.jpeg.webp\" width=\"600\" height=\"400\">\n",
    "</center>\n",
    "\n",
    "En el cual las clases iniciales eran las siguientes:\n",
    "\n",
    "<center>\n",
    "  <img src=\"https://machinelearningmastery.com/wp-content/uploads/2019/02/Plot-of-a-Subset-of-Images-from-the-MNIST-Dataset-1024x768.png\" width=\"600\" height=\"400\">\n",
    "</center>\n",
    "\n",
    "https://www.kaggle.com/code/tilii7/dimensionality-reduction-pca-tsne - PCA y tSNE\n",
    "\n",
    "https://www.askpython.com/python/examples/principal-component-analysis-for-image-data - PCA\n",
    "\n",
    "https://www.kaggle.com/code/arthurtok/interactive-intro-to-dimensionality-reduction - PCA y tSNE"
   ]
  }
 ],
 "metadata": {
  "language_info": {
   "name": "python"
  }
 },
 "nbformat": 4,
 "nbformat_minor": 2
}
