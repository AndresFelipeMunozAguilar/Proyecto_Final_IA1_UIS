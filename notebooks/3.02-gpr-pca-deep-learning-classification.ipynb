{
  "cells": [
    {
      "cell_type": "markdown",
      "metadata": {
        "id": "GYjq5aYppPwR"
      },
      "source": [
        "---\n",
        "\n",
        "\n",
        "\n",
        "# <font color='#ECA702'>**Análisis Multimodal de Síntomas en la Enfermedad de Parkinson**</font>"
      ]
    },
    {
      "cell_type": "code",
      "execution_count": null,
      "metadata": {},
      "outputs": [],
      "source": [
        "#@title **Instalar paquetes necesarios**\n",
        "%%capture \n",
        "! pip install torchmetrics\n",
        "! pip install torchinfo"
      ]
    },
    {
      "cell_type": "code",
      "execution_count": 1,
      "metadata": {
        "id": "89BxmLrSpPwT"
      },
      "outputs": [],
      "source": [
        "#@title **Importar librerías**\n",
        "\n",
        "# Manipulación de datos\n",
        "import os\n",
        "import cv2\n",
        "import numpy as np\n",
        "import pandas as pd\n",
        "from zipfile import ZipFile\n",
        "\n",
        "# Pytorch essentials\n",
        "import torch\n",
        "import torch.nn as nn\n",
        "import torch.nn.functional as F\n",
        "from torchinfo import summary\n",
        "\n",
        "# Pytorch essentials for datasets.\n",
        "from torch.utils.data import Dataset, DataLoader\n",
        "\n",
        "# Pytorch metrics\n",
        "from torchmetrics.classification import BinaryAccuracy, BinaryF1Score, BinaryRecall, BinaryPrecision\n",
        "\n",
        "# Utils\n",
        "import matplotlib.pyplot as plt\n",
        "# import copy\n",
        "\n",
        "# sklearn\n",
        "from sklearn.model_selection import GroupKFold\n",
        "from sklearn.decomposition import PCA"
      ]
    },
    {
      "cell_type": "code",
      "execution_count": 3,
      "metadata": {
        "cellView": "form",
        "colab": {
          "base_uri": "https://localhost:8080/"
        },
        "id": "7kyzPDeVpPwU",
        "outputId": "942fc83c-f610-4bdb-a882-65fa126bc7f1"
      },
      "outputs": [
        {
          "name": "stdout",
          "output_type": "stream",
          "text": [
            "Mounted at /content/drive\n",
            "/content/drive/.shortcut-targets-by-id/1XRruCPRodR4OhRCRZYKsyODqa_GuBkfC/data_parkinson\n"
          ]
        }
      ],
      "source": [
        "#@title **Cargamos los datos desde Drive**\n",
        "\n",
        "from google.colab import drive\n",
        "drive.mount('/content/drive')\n",
        "os.chdir('/content/drive/My Drive/data_parkinson')\n",
        "print(os.getcwd())"
      ]
    },
    {
      "cell_type": "code",
      "execution_count": 4,
      "metadata": {
        "cellView": "form",
        "colab": {
          "base_uri": "https://localhost:8080/"
        },
        "id": "vqX7Xwgd-TuU",
        "outputId": "d7ffd662-8297-48d4-d8a6-13cab5955389"
      },
      "outputs": [
        {
          "name": "stdout",
          "output_type": "stream",
          "text": [
            "/content/data\n",
            "\u001b[0m\u001b[01;34mAudioVisualData_v7\u001b[0m/  data.csv\n"
          ]
        }
      ],
      "source": [
        "#@title **Extraer el zip**\n",
        "\n",
        "os.mkdir('../../../../data')\n",
        "os.popen('cp data.csv ../../../../data/data.csv')\n",
        "target_path = os.path.join('../../../../data') # Aquí es donde van a quedar los datos\n",
        "# deben quedar fuera de drive para poder acceder a ellos 'localmente'\n",
        "\n",
        "# Unzip the downloaded files\n",
        "zip_file_path = os.path.join('AudioVisualData_v7.zip')\n",
        "with ZipFile(zip_file_path, 'r') as zip_ref:\n",
        "    zip_ref.extractall(target_path)\n",
        "\n",
        "# # Me muevo hasta donde quedaron los datos\n",
        "%cd ../../../../data\n",
        "# Verifico\n",
        "%ls"
      ]
    },
    {
      "cell_type": "markdown",
      "metadata": {
        "id": "AI_cmB-BpPwU"
      },
      "source": [
        "# <font color='#4C5FDA'>**1. Procesamiento del dataset**</font>"
      ]
    },
    {
      "cell_type": "markdown",
      "metadata": {
        "id": "aD0Bee8VqyYi"
      },
      "source": [
        "## <font color='#52F17F'>**Creación del Dataset Pandas auxiliar**</font>"
      ]
    },
    {
      "cell_type": "code",
      "execution_count": 2,
      "metadata": {
        "colab": {
          "base_uri": "https://localhost:8080/",
          "height": 238
        },
        "id": "2mB_EpmMqxm-",
        "outputId": "44908149-391d-4822-a101-05fcfa878226"
      },
      "outputs": [
        {
          "data": {
            "text/html": [
              "<div>\n",
              "<style scoped>\n",
              "    .dataframe tbody tr th:only-of-type {\n",
              "        vertical-align: middle;\n",
              "    }\n",
              "\n",
              "    .dataframe tbody tr th {\n",
              "        vertical-align: top;\n",
              "    }\n",
              "\n",
              "    .dataframe thead th {\n",
              "        text-align: right;\n",
              "    }\n",
              "</style>\n",
              "<table border=\"1\" class=\"dataframe\">\n",
              "  <thead>\n",
              "    <tr style=\"text-align: right;\">\n",
              "      <th></th>\n",
              "      <th>audio_path</th>\n",
              "      <th>frames_path</th>\n",
              "      <th>label</th>\n",
              "      <th>flatten_log_mel_spectogram</th>\n",
              "    </tr>\n",
              "    <tr>\n",
              "      <th>patient</th>\n",
              "      <th></th>\n",
              "      <th></th>\n",
              "      <th></th>\n",
              "      <th></th>\n",
              "    </tr>\n",
              "  </thead>\n",
              "  <tbody>\n",
              "    <tr>\n",
              "      <th>C2</th>\n",
              "      <td>AudioVisualData_v7/Control/C2/Vowels/audio/C2-...</td>\n",
              "      <td>AudioVisualData_v7/Control/C2/Vowels/frames/C2...</td>\n",
              "      <td>0.0</td>\n",
              "      <td>[-60.66636657714844, -19.715749740600586, -24....</td>\n",
              "    </tr>\n",
              "    <tr>\n",
              "      <th>C2</th>\n",
              "      <td>AudioVisualData_v7/Control/C2/Vowels/audio/C2-...</td>\n",
              "      <td>AudioVisualData_v7/Control/C2/Vowels/frames/C2...</td>\n",
              "      <td>0.0</td>\n",
              "      <td>[-61.8838005065918, -28.279430389404297, -28.8...</td>\n",
              "    </tr>\n",
              "    <tr>\n",
              "      <th>C2</th>\n",
              "      <td>AudioVisualData_v7/Control/C2/Vowels/audio/C2-...</td>\n",
              "      <td>AudioVisualData_v7/Control/C2/Vowels/frames/C2...</td>\n",
              "      <td>0.0</td>\n",
              "      <td>[-59.091400146484375, -25.001014709472656, -28...</td>\n",
              "    </tr>\n",
              "    <tr>\n",
              "      <th>C2</th>\n",
              "      <td>AudioVisualData_v7/Control/C2/Vowels/audio/C2-...</td>\n",
              "      <td>AudioVisualData_v7/Control/C2/Vowels/frames/C2...</td>\n",
              "      <td>0.0</td>\n",
              "      <td>[-60.556915283203125, -20.145050048828125, -20...</td>\n",
              "    </tr>\n",
              "    <tr>\n",
              "      <th>C2</th>\n",
              "      <td>AudioVisualData_v7/Control/C2/Vowels/audio/C2-...</td>\n",
              "      <td>AudioVisualData_v7/Control/C2/Vowels/frames/C2...</td>\n",
              "      <td>0.0</td>\n",
              "      <td>[-69.82708740234375, -20.313282012939453, -26....</td>\n",
              "    </tr>\n",
              "  </tbody>\n",
              "</table>\n",
              "</div>"
            ],
            "text/plain": [
              "                                                audio_path  \\\n",
              "patient                                                      \n",
              "C2       AudioVisualData_v7/Control/C2/Vowels/audio/C2-...   \n",
              "C2       AudioVisualData_v7/Control/C2/Vowels/audio/C2-...   \n",
              "C2       AudioVisualData_v7/Control/C2/Vowels/audio/C2-...   \n",
              "C2       AudioVisualData_v7/Control/C2/Vowels/audio/C2-...   \n",
              "C2       AudioVisualData_v7/Control/C2/Vowels/audio/C2-...   \n",
              "\n",
              "                                               frames_path  label  \\\n",
              "patient                                                             \n",
              "C2       AudioVisualData_v7/Control/C2/Vowels/frames/C2...    0.0   \n",
              "C2       AudioVisualData_v7/Control/C2/Vowels/frames/C2...    0.0   \n",
              "C2       AudioVisualData_v7/Control/C2/Vowels/frames/C2...    0.0   \n",
              "C2       AudioVisualData_v7/Control/C2/Vowels/frames/C2...    0.0   \n",
              "C2       AudioVisualData_v7/Control/C2/Vowels/frames/C2...    0.0   \n",
              "\n",
              "                                flatten_log_mel_spectogram  \n",
              "patient                                                     \n",
              "C2       [-60.66636657714844, -19.715749740600586, -24....  \n",
              "C2       [-61.8838005065918, -28.279430389404297, -28.8...  \n",
              "C2       [-59.091400146484375, -25.001014709472656, -28...  \n",
              "C2       [-60.556915283203125, -20.145050048828125, -20...  \n",
              "C2       [-69.82708740234375, -20.313282012939453, -26....  "
            ]
          },
          "execution_count": 2,
          "metadata": {},
          "output_type": "execute_result"
        }
      ],
      "source": [
        "data = pd.read_csv(\"data.csv\", index_col='patient')\n",
        "\n",
        "def string2array(string: str):\n",
        "  \"\"\" Convierte un string con datos a numpy array \"\"\"\n",
        "  string = string.strip('[]')\n",
        "  return np.fromstring(string, sep=',')\n",
        "\n",
        "data['flatten_log_mel_spectogram'] = data['flatten_log_mel_spectogram'].apply(string2array)\n",
        "data.head()"
      ]
    },
    {
      "cell_type": "markdown",
      "metadata": {},
      "source": [
        "## <font color='#52F17F'>**Applying PCA**</font>"
      ]
    },
    {
      "cell_type": "markdown",
      "metadata": {},
      "source": [
        "### <font color='#EB9A54'>**PCA para la disartria**</font>"
      ]
    },
    {
      "cell_type": "code",
      "execution_count": 3,
      "metadata": {},
      "outputs": [],
      "source": [
        "pca = PCA(n_components=1)"
      ]
    },
    {
      "cell_type": "code",
      "execution_count": 4,
      "metadata": {},
      "outputs": [
        {
          "data": {
            "text/html": [
              "<div>\n",
              "<style scoped>\n",
              "    .dataframe tbody tr th:only-of-type {\n",
              "        vertical-align: middle;\n",
              "    }\n",
              "\n",
              "    .dataframe tbody tr th {\n",
              "        vertical-align: top;\n",
              "    }\n",
              "\n",
              "    .dataframe thead th {\n",
              "        text-align: right;\n",
              "    }\n",
              "</style>\n",
              "<table border=\"1\" class=\"dataframe\">\n",
              "  <thead>\n",
              "    <tr style=\"text-align: right;\">\n",
              "      <th></th>\n",
              "      <th>audio_path</th>\n",
              "      <th>frames_path</th>\n",
              "      <th>label</th>\n",
              "      <th>flatten_log_mel_spectogram</th>\n",
              "      <th>pca_flatten_log_mel_spectogram</th>\n",
              "    </tr>\n",
              "    <tr>\n",
              "      <th>patient</th>\n",
              "      <th></th>\n",
              "      <th></th>\n",
              "      <th></th>\n",
              "      <th></th>\n",
              "      <th></th>\n",
              "    </tr>\n",
              "  </thead>\n",
              "  <tbody>\n",
              "    <tr>\n",
              "      <th>C2</th>\n",
              "      <td>AudioVisualData_v7/Control/C2/Vowels/audio/C2-...</td>\n",
              "      <td>AudioVisualData_v7/Control/C2/Vowels/frames/C2...</td>\n",
              "      <td>0.0</td>\n",
              "      <td>[-60.66636657714844, -19.715749740600586, -24....</td>\n",
              "      <td>[-146.87453743909958]</td>\n",
              "    </tr>\n",
              "    <tr>\n",
              "      <th>C2</th>\n",
              "      <td>AudioVisualData_v7/Control/C2/Vowels/audio/C2-...</td>\n",
              "      <td>AudioVisualData_v7/Control/C2/Vowels/frames/C2...</td>\n",
              "      <td>0.0</td>\n",
              "      <td>[-61.8838005065918, -28.279430389404297, -28.8...</td>\n",
              "      <td>[-214.16286829843517]</td>\n",
              "    </tr>\n",
              "    <tr>\n",
              "      <th>C2</th>\n",
              "      <td>AudioVisualData_v7/Control/C2/Vowels/audio/C2-...</td>\n",
              "      <td>AudioVisualData_v7/Control/C2/Vowels/frames/C2...</td>\n",
              "      <td>0.0</td>\n",
              "      <td>[-59.091400146484375, -25.001014709472656, -28...</td>\n",
              "      <td>[-271.45664355671596]</td>\n",
              "    </tr>\n",
              "    <tr>\n",
              "      <th>C2</th>\n",
              "      <td>AudioVisualData_v7/Control/C2/Vowels/audio/C2-...</td>\n",
              "      <td>AudioVisualData_v7/Control/C2/Vowels/frames/C2...</td>\n",
              "      <td>0.0</td>\n",
              "      <td>[-60.556915283203125, -20.145050048828125, -20...</td>\n",
              "      <td>[80.03360474596433]</td>\n",
              "    </tr>\n",
              "    <tr>\n",
              "      <th>C2</th>\n",
              "      <td>AudioVisualData_v7/Control/C2/Vowels/audio/C2-...</td>\n",
              "      <td>AudioVisualData_v7/Control/C2/Vowels/frames/C2...</td>\n",
              "      <td>0.0</td>\n",
              "      <td>[-69.82708740234375, -20.313282012939453, -26....</td>\n",
              "      <td>[-94.45165273379693]</td>\n",
              "    </tr>\n",
              "  </tbody>\n",
              "</table>\n",
              "</div>"
            ],
            "text/plain": [
              "                                                audio_path  \\\n",
              "patient                                                      \n",
              "C2       AudioVisualData_v7/Control/C2/Vowels/audio/C2-...   \n",
              "C2       AudioVisualData_v7/Control/C2/Vowels/audio/C2-...   \n",
              "C2       AudioVisualData_v7/Control/C2/Vowels/audio/C2-...   \n",
              "C2       AudioVisualData_v7/Control/C2/Vowels/audio/C2-...   \n",
              "C2       AudioVisualData_v7/Control/C2/Vowels/audio/C2-...   \n",
              "\n",
              "                                               frames_path  label  \\\n",
              "patient                                                             \n",
              "C2       AudioVisualData_v7/Control/C2/Vowels/frames/C2...    0.0   \n",
              "C2       AudioVisualData_v7/Control/C2/Vowels/frames/C2...    0.0   \n",
              "C2       AudioVisualData_v7/Control/C2/Vowels/frames/C2...    0.0   \n",
              "C2       AudioVisualData_v7/Control/C2/Vowels/frames/C2...    0.0   \n",
              "C2       AudioVisualData_v7/Control/C2/Vowels/frames/C2...    0.0   \n",
              "\n",
              "                                flatten_log_mel_spectogram  \\\n",
              "patient                                                      \n",
              "C2       [-60.66636657714844, -19.715749740600586, -24....   \n",
              "C2       [-61.8838005065918, -28.279430389404297, -28.8...   \n",
              "C2       [-59.091400146484375, -25.001014709472656, -28...   \n",
              "C2       [-60.556915283203125, -20.145050048828125, -20...   \n",
              "C2       [-69.82708740234375, -20.313282012939453, -26....   \n",
              "\n",
              "        pca_flatten_log_mel_spectogram  \n",
              "patient                                 \n",
              "C2               [-146.87453743909958]  \n",
              "C2               [-214.16286829843517]  \n",
              "C2               [-271.45664355671596]  \n",
              "C2                 [80.03360474596433]  \n",
              "C2                [-94.45165273379693]  "
            ]
          },
          "execution_count": 4,
          "metadata": {},
          "output_type": "execute_result"
        }
      ],
      "source": [
        "# el vstack lo que hace es apilar arrays verticalmente\n",
        "converted = pca.fit_transform(np.vstack(data['flatten_log_mel_spectogram'])) \n",
        "converted = [row for row in converted]\n",
        "data['pca_flatten_log_mel_spectogram'] = converted\n",
        "data.head()"
      ]
    },
    {
      "cell_type": "markdown",
      "metadata": {},
      "source": [
        "### <font color='#EB9A54'>**PCA para la hipomimia**</font>"
      ]
    },
    {
      "cell_type": "code",
      "execution_count": 5,
      "metadata": {},
      "outputs": [
        {
          "data": {
            "text/html": [
              "<div>\n",
              "<style scoped>\n",
              "    .dataframe tbody tr th:only-of-type {\n",
              "        vertical-align: middle;\n",
              "    }\n",
              "\n",
              "    .dataframe tbody tr th {\n",
              "        vertical-align: top;\n",
              "    }\n",
              "\n",
              "    .dataframe thead th {\n",
              "        text-align: right;\n",
              "    }\n",
              "</style>\n",
              "<table border=\"1\" class=\"dataframe\">\n",
              "  <thead>\n",
              "    <tr style=\"text-align: right;\">\n",
              "      <th></th>\n",
              "      <th>audio_path</th>\n",
              "      <th>frames_path</th>\n",
              "      <th>label</th>\n",
              "      <th>flatten_log_mel_spectogram</th>\n",
              "      <th>pca_flatten_log_mel_spectogram</th>\n",
              "      <th>flatten_frame_sequence</th>\n",
              "    </tr>\n",
              "    <tr>\n",
              "      <th>patient</th>\n",
              "      <th></th>\n",
              "      <th></th>\n",
              "      <th></th>\n",
              "      <th></th>\n",
              "      <th></th>\n",
              "      <th></th>\n",
              "    </tr>\n",
              "  </thead>\n",
              "  <tbody>\n",
              "    <tr>\n",
              "      <th>C2</th>\n",
              "      <td>AudioVisualData_v7/Control/C2/Vowels/audio/C2-...</td>\n",
              "      <td>AudioVisualData_v7/Control/C2/Vowels/frames/C2...</td>\n",
              "      <td>0.0</td>\n",
              "      <td>[-60.66636657714844, -19.715749740600586, -24....</td>\n",
              "      <td>[-146.87453743909958]</td>\n",
              "      <td>[0.44313725490196076, 0.4470588235294118, 0.44...</td>\n",
              "    </tr>\n",
              "    <tr>\n",
              "      <th>C2</th>\n",
              "      <td>AudioVisualData_v7/Control/C2/Vowels/audio/C2-...</td>\n",
              "      <td>AudioVisualData_v7/Control/C2/Vowels/frames/C2...</td>\n",
              "      <td>0.0</td>\n",
              "      <td>[-61.8838005065918, -28.279430389404297, -28.8...</td>\n",
              "      <td>[-214.16286829843517]</td>\n",
              "      <td>[0.4627450980392157, 0.4627450980392157, 0.458...</td>\n",
              "    </tr>\n",
              "    <tr>\n",
              "      <th>C2</th>\n",
              "      <td>AudioVisualData_v7/Control/C2/Vowels/audio/C2-...</td>\n",
              "      <td>AudioVisualData_v7/Control/C2/Vowels/frames/C2...</td>\n",
              "      <td>0.0</td>\n",
              "      <td>[-59.091400146484375, -25.001014709472656, -28...</td>\n",
              "      <td>[-271.45664355671596]</td>\n",
              "      <td>[0.4666666666666667, 0.4666666666666667, 0.474...</td>\n",
              "    </tr>\n",
              "    <tr>\n",
              "      <th>C2</th>\n",
              "      <td>AudioVisualData_v7/Control/C2/Vowels/audio/C2-...</td>\n",
              "      <td>AudioVisualData_v7/Control/C2/Vowels/frames/C2...</td>\n",
              "      <td>0.0</td>\n",
              "      <td>[-60.556915283203125, -20.145050048828125, -20...</td>\n",
              "      <td>[80.03360474596433]</td>\n",
              "      <td>[0.44313725490196076, 0.44313725490196076, 0.4...</td>\n",
              "    </tr>\n",
              "    <tr>\n",
              "      <th>C2</th>\n",
              "      <td>AudioVisualData_v7/Control/C2/Vowels/audio/C2-...</td>\n",
              "      <td>AudioVisualData_v7/Control/C2/Vowels/frames/C2...</td>\n",
              "      <td>0.0</td>\n",
              "      <td>[-69.82708740234375, -20.313282012939453, -26....</td>\n",
              "      <td>[-94.45165273379693]</td>\n",
              "      <td>[0.4627450980392157, 0.45098039215686275, 0.45...</td>\n",
              "    </tr>\n",
              "  </tbody>\n",
              "</table>\n",
              "</div>"
            ],
            "text/plain": [
              "                                                audio_path  \\\n",
              "patient                                                      \n",
              "C2       AudioVisualData_v7/Control/C2/Vowels/audio/C2-...   \n",
              "C2       AudioVisualData_v7/Control/C2/Vowels/audio/C2-...   \n",
              "C2       AudioVisualData_v7/Control/C2/Vowels/audio/C2-...   \n",
              "C2       AudioVisualData_v7/Control/C2/Vowels/audio/C2-...   \n",
              "C2       AudioVisualData_v7/Control/C2/Vowels/audio/C2-...   \n",
              "\n",
              "                                               frames_path  label  \\\n",
              "patient                                                             \n",
              "C2       AudioVisualData_v7/Control/C2/Vowels/frames/C2...    0.0   \n",
              "C2       AudioVisualData_v7/Control/C2/Vowels/frames/C2...    0.0   \n",
              "C2       AudioVisualData_v7/Control/C2/Vowels/frames/C2...    0.0   \n",
              "C2       AudioVisualData_v7/Control/C2/Vowels/frames/C2...    0.0   \n",
              "C2       AudioVisualData_v7/Control/C2/Vowels/frames/C2...    0.0   \n",
              "\n",
              "                                flatten_log_mel_spectogram  \\\n",
              "patient                                                      \n",
              "C2       [-60.66636657714844, -19.715749740600586, -24....   \n",
              "C2       [-61.8838005065918, -28.279430389404297, -28.8...   \n",
              "C2       [-59.091400146484375, -25.001014709472656, -28...   \n",
              "C2       [-60.556915283203125, -20.145050048828125, -20...   \n",
              "C2       [-69.82708740234375, -20.313282012939453, -26....   \n",
              "\n",
              "        pca_flatten_log_mel_spectogram  \\\n",
              "patient                                  \n",
              "C2               [-146.87453743909958]   \n",
              "C2               [-214.16286829843517]   \n",
              "C2               [-271.45664355671596]   \n",
              "C2                 [80.03360474596433]   \n",
              "C2                [-94.45165273379693]   \n",
              "\n",
              "                                    flatten_frame_sequence  \n",
              "patient                                                     \n",
              "C2       [0.44313725490196076, 0.4470588235294118, 0.44...  \n",
              "C2       [0.4627450980392157, 0.4627450980392157, 0.458...  \n",
              "C2       [0.4666666666666667, 0.4666666666666667, 0.474...  \n",
              "C2       [0.44313725490196076, 0.44313725490196076, 0.4...  \n",
              "C2       [0.4627450980392157, 0.45098039215686275, 0.45...  "
            ]
          },
          "execution_count": 5,
          "metadata": {},
          "output_type": "execute_result"
        }
      ],
      "source": [
        "\"\"\"\n",
        "Constante sacada de la media de cantidad de frames de todos los vídeos multiplicada por 0.1\n",
        "para tener el 10%\n",
        "\"\"\"\n",
        "\n",
        "FRAMES_PROMEDIO = 14\n",
        "\n",
        "def preprocess_frame(frame_path: str):\n",
        "  frame = cv2.imread(frame_path, cv2.IMREAD_GRAYSCALE) # Leemos la imagen desde la ruta en escala de grises\n",
        "  # frame = cv2.cvtColor(frame, cv2.COLOR_BGR2RGB) # La pasamos de BGR a RGB\n",
        "  frame = cv2.resize(frame, (112, 112)) # Resize a 112x112\n",
        "  frame = frame / 255. # Normalizamos entre 0 y 1\n",
        "  return frame.flatten()\n",
        "  # return frame\n",
        "\n",
        "def preprocess_video(video_path: str, n_frames = FRAMES_PROMEDIO):\n",
        "  frames = []\n",
        "  for frame in sorted(os.listdir(video_path))[:n_frames]:\n",
        "    frames.append(preprocess_frame(f\"{video_path}/{frame}\"))\n",
        "  return np.concatenate(frames)\n",
        "  # return frames\n",
        "\n",
        "# Preprocesar todos los audios y almacenar los espectrogramas mel\n",
        "data['flatten_frame_sequence'] = data['frames_path'].apply(preprocess_video)\n",
        "\n",
        "# Verificar los datos\n",
        "data.head()"
      ]
    },
    {
      "cell_type": "code",
      "execution_count": 6,
      "metadata": {},
      "outputs": [],
      "source": [
        "pca = PCA(n_components=14)"
      ]
    },
    {
      "cell_type": "code",
      "execution_count": 7,
      "metadata": {},
      "outputs": [],
      "source": [
        "converted = pca.fit_transform(np.vstack(data['flatten_frame_sequence'])) \n",
        "converted = [row for row in converted]\n",
        "data['pca_flatten_frame_sequence'] = converted\n",
        "data.head()"
      ]
    },
    {
      "cell_type": "markdown",
      "metadata": {
        "id": "j_gRyCKHpPwZ"
      },
      "source": [
        "## <font color='#52F17F'>**Creación del Dataset PyTorch**</font>"
      ]
    },
    {
      "cell_type": "code",
      "execution_count": null,
      "metadata": {
        "id": "8OL_3J7jpPwZ"
      },
      "outputs": [],
      "source": [
        "class PatientDataset(Dataset):\n",
        "  def __init__(self, dataframe, n_frames = FRAMES_PROMEDIO):\n",
        "    self.dataframe = dataframe\n",
        "    self.n_frames = n_frames\n",
        "\n",
        "  def __len__(self):\n",
        "    return len(self.dataframe)\n",
        "\n",
        "  def __getitem__(self, index):\n",
        "\n",
        "    \"\"\" Carga de la imagen \"\"\"\n",
        "\n",
        "    # Leemos el audio\n",
        "    audio = self.dataframe['pca_flatten_log_mel_spectogram'][index].astype(np.float32)\n",
        "    # audio = audio.reshape((90, 10))\n",
        "    # if self.pca:\n",
        "      # audio = pca.fit_transform(audio)\n",
        "    audio = torch.from_numpy(audio)\n",
        "    # audio = torch.from_numpy(audio)\n",
        "\n",
        "    \"\"\" Carga de los frames \"\"\"\n",
        "\n",
        "    # video_path = os.path.join(self.dataframe['frames_path'][index])\n",
        "    frames = self.dataframe['pca_flatten_frame_sequence'][index].astype(np.float32)\n",
        "\n",
        "    # frames_path = sorted(os.listdir(video_path))[:self.n_frames]\n",
        "    # frames = []\n",
        "    # for frame in frames_path:\n",
        "    #   frame_path = os.path.join(self.dataframe['frames_path'][index], frame)\n",
        "    #   # print(frame_path)\n",
        "    #   frame = cv2.imread(frame_path, cv2.IMREAD_GRAYSCALE)\n",
        "    #   frame = cv2.resize(frame, (112, 112)) # Resize a 112x112\n",
        "    #   frame = frame / 255. # Normalizamos entre 0 y 1\n",
        "    #   if self.pca:\n",
        "    #     frame = pca.fit_transform(frame)\n",
        "    #   frames.append(frame)\n",
        "\n",
        "    # frames = np.expand_dims(np.stack(frames), axis=1).astype('float32')\n",
        "    # frames = frames.transpose(1, 0, 2, 3)\n",
        "    frames = torch.from_numpy(frames)\n",
        "\n",
        "    \"\"\" Consiguiendo el label \"\"\"\n",
        "\n",
        "    # Para conseguir la etiqueta simplemente me tengo que fijar en la ruta. Si es 'Parkinson' 1\n",
        "    # sino 0.\n",
        "\n",
        "    label = 1 if 'Parkinson' in self.dataframe['audio_path'][index] else 0\n",
        "\n",
        "    return audio, frames, label\n",
        "    "
      ]
    },
    {
      "cell_type": "code",
      "execution_count": null,
      "metadata": {
        "colab": {
          "base_uri": "https://localhost:8080/"
        },
        "id": "9hYyG5ZSpPwa",
        "outputId": "a20701d4-968c-41c6-d21e-478e6e27fd0a"
      },
      "outputs": [
        {
          "name": "stdout",
          "output_type": "stream",
          "text": [
            "1091\n",
            "torch.Size([1]) torch.Size([14]) 0\n"
          ]
        }
      ],
      "source": [
        "complete_dataset = PatientDataset(data)\n",
        "print(complete_dataset.__len__())\n",
        "print(complete_dataset[0][0].shape, complete_dataset[0][1].shape , complete_dataset[0][2])"
      ]
    },
    {
      "cell_type": "markdown",
      "metadata": {
        "id": "0f3z4R6jpPwb"
      },
      "source": [
        "## <font color='#52F17F'>**Partición de los datos**</font>"
      ]
    },
    {
      "cell_type": "code",
      "execution_count": null,
      "metadata": {},
      "outputs": [
        {
          "name": "stdout",
          "output_type": "stream",
          "text": [
            "División 1:\n",
            "  Pacientes en entrenamiento: ['C0' 'C1' 'C2' 'C3' 'C4' 'C6' 'P0' 'P1' 'P4' 'P5' 'P6' 'P7']\n",
            "  Pacientes en prueba: ['C5' 'P8']\n",
            "  Número de pacientes en entrenamiento: 12\n",
            "  Número de pacientes en prueba: 2\n",
            "\n",
            "División 2:\n",
            "  Pacientes en entrenamiento: ['C0' 'C1' 'C2' 'C3' 'C5' 'C6' 'P0' 'P1' 'P4' 'P5' 'P6' 'P8']\n",
            "  Pacientes en prueba: ['C4' 'P7']\n",
            "  Número de pacientes en entrenamiento: 12\n",
            "  Número de pacientes en prueba: 2\n",
            "\n",
            "División 3:\n",
            "  Pacientes en entrenamiento: ['C0' 'C1' 'C2' 'C4' 'C5' 'C6' 'P0' 'P1' 'P4' 'P5' 'P7' 'P8']\n",
            "  Pacientes en prueba: ['C3' 'P6']\n",
            "  Número de pacientes en entrenamiento: 12\n",
            "  Número de pacientes en prueba: 2\n",
            "\n",
            "División 4:\n",
            "  Pacientes en entrenamiento: ['C0' 'C1' 'C3' 'C4' 'C5' 'C6' 'P0' 'P1' 'P4' 'P6' 'P7' 'P8']\n",
            "  Pacientes en prueba: ['C2' 'P5']\n",
            "  Número de pacientes en entrenamiento: 12\n",
            "  Número de pacientes en prueba: 2\n",
            "\n",
            "División 5:\n",
            "  Pacientes en entrenamiento: ['C0' 'C2' 'C3' 'C4' 'C5' 'C6' 'P0' 'P1' 'P5' 'P6' 'P7' 'P8']\n",
            "  Pacientes en prueba: ['C1' 'P4']\n",
            "  Número de pacientes en entrenamiento: 12\n",
            "  Número de pacientes en prueba: 2\n",
            "\n",
            "División 6:\n",
            "  Pacientes en entrenamiento: ['C1' 'C2' 'C3' 'C4' 'C5' 'C6' 'P0' 'P4' 'P5' 'P6' 'P7' 'P8']\n",
            "  Pacientes en prueba: ['C0' 'P1']\n",
            "  Número de pacientes en entrenamiento: 12\n",
            "  Número de pacientes en prueba: 2\n",
            "\n",
            "División 7:\n",
            "  Pacientes en entrenamiento: ['C0' 'C1' 'C2' 'C3' 'C4' 'C5' 'P1' 'P4' 'P5' 'P6' 'P7' 'P8']\n",
            "  Pacientes en prueba: ['C6' 'P0']\n",
            "  Número de pacientes en entrenamiento: 12\n",
            "  Número de pacientes en prueba: 2\n",
            "\n"
          ]
        }
      ],
      "source": [
        "# Extraer los datos para GroupKFold\n",
        "X = [i for i in range(len(data))]\n",
        "y = data['label'].values\n",
        "groups = data.index.values\n",
        "\n",
        "groupk_folds = 7\n",
        "gkf = GroupKFold(n_splits=groupk_folds)\n",
        "\n",
        "# Realizar la validación cruzada por grupos\n",
        "for i, (train_index, test_index) in enumerate(gkf.split(X, y, groups), 1):\n",
        "    train_groups = groups[train_index]\n",
        "    test_groups = groups[test_index]\n",
        "\n",
        "    print(f\"División {i}:\")\n",
        "    print(\"  Pacientes en entrenamiento:\", np.unique(train_groups))\n",
        "    print(\"  Pacientes en prueba:\", np.unique(test_groups))\n",
        "    print(\"  Número de pacientes en entrenamiento:\", len(np.unique(train_groups)))\n",
        "    print(\"  Número de pacientes en prueba:\", len(np.unique(test_groups)))\n",
        "    print()\n"
      ]
    },
    {
      "cell_type": "code",
      "execution_count": null,
      "metadata": {},
      "outputs": [],
      "source": [
        "def make_folds(data:pd.DataFrame):\n",
        "    # Extraer los datos para GroupKFold\n",
        "    X = np.array([i for i in range(len(data))])\n",
        "    y = data['label'].values\n",
        "    groups = data.index.values\n",
        "\n",
        "    folds_dict = {}\n",
        "    groupk_folds = 7\n",
        "    gkf = GroupKFold(n_splits=groupk_folds)\n",
        "\n",
        "    # Realizar la validación cruzada por grupos\n",
        "    for i, (train_index, test_index) in enumerate(gkf.split(X, y, groups), 1):        \n",
        "        fold_name = f\"fold_{i}\"\n",
        "        folds_dict[fold_name] = {\n",
        "            'train': train_index,\n",
        "            'test': test_index\n",
        "        }\n",
        "\n",
        "    return folds_dict\n",
        "\n",
        "def make_subdataframes(data:pd.DataFrame, folds:dict):\n",
        "  # Crear subdataframes\n",
        "  subdataframes = {}\n",
        "\n",
        "  for fold_name, indices in folds.items():\n",
        "      train_df = data.iloc[indices['train']]\n",
        "    #   val_df = data.iloc[indices['val']]\n",
        "      test_df = data.iloc[indices['test']]\n",
        "      \n",
        "      subdataframes[fold_name] = {\n",
        "          'train': train_df,\n",
        "        #   'val': val_df,\n",
        "          'test': test_df\n",
        "      }\n",
        "  \n",
        "  return subdataframes"
      ]
    },
    {
      "cell_type": "code",
      "execution_count": null,
      "metadata": {},
      "outputs": [],
      "source": [
        "def get_data(slice=1, fold:int=None):\n",
        "\n",
        "    # Generate folds\n",
        "    folds = make_folds(data)\n",
        "\n",
        "    # Create subdataframes  \n",
        "    subdataframes = make_subdataframes(data, folds)\n",
        "\n",
        "    if not fold:\n",
        "      fold = np.random.choice(range(1, 8))\n",
        "\n",
        "    fold_name = f'fold_{fold}'\n",
        "    print(f\"FOLD {fold}\\n-------------------------------\")\n",
        "\n",
        "    train_dataset = PatientDataset(subdataframes[fold_name]['train'])\n",
        "    test_dataset = PatientDataset(subdataframes[fold_name]['test'])\n",
        "    \n",
        "    # test with less data, it helped me to set up the experiments faster if slice=1\n",
        "    # then it returns the complete dataset\n",
        "    train_dataset = torch.utils.data.Subset(train_dataset, \n",
        "                                            indices=range(0, len(train_dataset), slice))\n",
        "    test_dataset = torch.utils.data.Subset(test_dataset, \n",
        "                                            indices=range(0, len(test_dataset), slice))\n",
        "\n",
        "    return train_dataset, test_dataset\n",
        "\n",
        "def make_loader(dataset, batch_size):\n",
        "    loader = DataLoader(dataset=dataset, batch_size=batch_size, shuffle=True,\n",
        "                        pin_memory=True, num_workers=2)\n",
        "    return loader"
      ]
    },
    {
      "cell_type": "markdown",
      "metadata": {
        "id": "WVi02_rZpPwb"
      },
      "source": [
        "# <font color='#ECA702'>**2. Deep Learning 🤖**</font>"
      ]
    },
    {
      "cell_type": "markdown",
      "metadata": {},
      "source": [
        "## <font color='#EB9A54'>**Multimodal fully connected model**</font>"
      ]
    },
    {
      "cell_type": "code",
      "execution_count": null,
      "metadata": {},
      "outputs": [],
      "source": [
        "class MiddleModule(nn.Module):\n",
        "  def __init__(self, in_features, out_features):\n",
        "    super().__init__()\n",
        "    self.fc = nn.Linear(in_features, out_features)\n",
        "    self.relu = nn.ReLU(inplace=True)\n",
        "\n",
        "\n",
        "  def forward(self, x):\n",
        "    x = self.fc(x)\n",
        "    x = self.relu(x)\n",
        "    return x\n",
        "\n",
        "class MultimodalModel(nn.Module):\n",
        "  def __init__(self, n_classes):\n",
        "    super().__init__()\n",
        "    self.fc1 = nn.Linear((14+1), 512)\n",
        "    self.features_module = nn.Sequential(\n",
        "      MiddleModule(512, 256),\n",
        "      MiddleModule(256, 128),\n",
        "    )\n",
        "    self.fc4 = nn.Linear(128, n_classes)\n",
        "\n",
        "\n",
        "  def forward(self, audio, video):\n",
        "    # https://stackoverflow.com/questions/42479902/what-does-view-do-in-pytorch\n",
        "    # audio = audio.view(audio.size(0), -1) # Aplane los audios conservando el batch\n",
        "    # devuelve: # batch_size x (90*10)\n",
        "\n",
        "    # video = video.view(video.size(0), -1) # Aplane los videos conservando el batch\n",
        "    # devuelve: # batch_size x (14*112*112)\n",
        "\n",
        "    combined = torch.cat((video, audio), dim=1) # https://pytorch.org/docs/stable/generated/torch.cat.html\n",
        "    x = F.relu(self.fc1(combined))\n",
        "    # x = self.fc1(combined)\n",
        "    x = self.features_module(x)\n",
        "    x = self.fc4(x)\n",
        "    return x"
      ]
    },
    {
      "cell_type": "code",
      "execution_count": null,
      "metadata": {},
      "outputs": [
        {
          "name": "stdout",
          "output_type": "stream",
          "text": [
            "Entrada audio: (torch.Size([2, 1]), torch.float32)\n",
            "Entrada video: (torch.Size([2, 14]), torch.float32)\n",
            "Salida: torch.Size([2, 1])\n"
          ]
        }
      ],
      "source": [
        "# Test al modelo, para ver si nos entrega la salida esperada\n",
        "\n",
        "input_audio = torch.rand([2, 1])\n",
        "input_video = torch.rand([2, 14])\n",
        "print(f\"Entrada audio: {input_audio.size(), input_audio.dtype}\")\n",
        "print(f\"Entrada video: {input_video.size(), input_video.dtype}\")\n",
        "\n",
        "model = MultimodalModel(n_classes=1)\n",
        "ouput = model(input_audio, input_video)\n",
        "print(f\"Salida: {ouput.size()}\")"
      ]
    },
    {
      "cell_type": "code",
      "execution_count": null,
      "metadata": {},
      "outputs": [
        {
          "name": "stdout",
          "output_type": "stream",
          "text": [
            "MultimodalModel(\n",
            "  (fc1): Linear(in_features=15, out_features=512, bias=True)\n",
            "  (features_module): Sequential(\n",
            "    (0): MiddleModule(\n",
            "      (fc): Linear(in_features=512, out_features=256, bias=True)\n",
            "      (relu): ReLU(inplace=True)\n",
            "    )\n",
            "    (1): MiddleModule(\n",
            "      (fc): Linear(in_features=256, out_features=128, bias=True)\n",
            "      (relu): ReLU(inplace=True)\n",
            "    )\n",
            "  )\n",
            "  (fc4): Linear(in_features=128, out_features=1, bias=True)\n",
            ")\n"
          ]
        }
      ],
      "source": [
        "print(model)"
      ]
    },
    {
      "cell_type": "code",
      "execution_count": null,
      "metadata": {},
      "outputs": [
        {
          "data": {
            "text/plain": [
              "==========================================================================================\n",
              "Layer (type:depth-idx)                   Output Shape              Param #\n",
              "==========================================================================================\n",
              "MultimodalModel                          [2, 1]                    --\n",
              "├─Linear: 1-1                            [2, 512]                  8,192\n",
              "├─Sequential: 1-2                        [2, 128]                  --\n",
              "│    └─MiddleModule: 2-1                 [2, 256]                  --\n",
              "│    │    └─Linear: 3-1                  [2, 256]                  131,328\n",
              "│    │    └─ReLU: 3-2                    [2, 256]                  --\n",
              "│    └─MiddleModule: 2-2                 [2, 128]                  --\n",
              "│    │    └─Linear: 3-3                  [2, 128]                  32,896\n",
              "│    │    └─ReLU: 3-4                    [2, 128]                  --\n",
              "├─Linear: 1-3                            [2, 1]                    129\n",
              "==========================================================================================\n",
              "Total params: 172,545\n",
              "Trainable params: 172,545\n",
              "Non-trainable params: 0\n",
              "Total mult-adds (M): 0.35\n",
              "==========================================================================================\n",
              "Input size (MB): 0.00\n",
              "Forward/backward pass size (MB): 0.01\n",
              "Params size (MB): 0.69\n",
              "Estimated Total Size (MB): 0.70\n",
              "=========================================================================================="
            ]
          },
          "execution_count": 52,
          "metadata": {},
          "output_type": "execute_result"
        }
      ],
      "source": [
        "summary(model, (input_video.size(), input_audio.size()))\n",
        "# summary(model, input_video.size())"
      ]
    },
    {
      "cell_type": "markdown",
      "metadata": {},
      "source": [
        "## <font color='#EB9A54'>**Utils functions and hyperparameters**</font>"
      ]
    },
    {
      "cell_type": "code",
      "execution_count": 53,
      "metadata": {},
      "outputs": [],
      "source": [
        "# Hiperparametros\n",
        "LEARNING_RATE = 0.00003532\n",
        "DEVICE = \"cuda\" if torch.cuda.is_available() else \"cpu\"\n",
        "BATCH_SIZE = 8"
      ]
    },
    {
      "cell_type": "code",
      "execution_count": 56,
      "metadata": {},
      "outputs": [],
      "source": [
        "import wandb"
      ]
    },
    {
      "cell_type": "code",
      "execution_count": 79,
      "metadata": {},
      "outputs": [],
      "source": [
        "def train_log(loss, accuracy, step, current):\n",
        "    # Where the magic happens\n",
        "    wandb.log({\"step\":step, \"loss\": loss, \"accuracy\": accuracy})\n",
        "    print(f\"loss: {loss:.3f} accuracy: {accuracy:.3f} [after {current} batches]\")"
      ]
    },
    {
      "cell_type": "code",
      "execution_count": 80,
      "metadata": {},
      "outputs": [],
      "source": [
        "#@title **train batch**\n",
        "\n",
        "def train_batch(audios, videos, labels, model, optimizer, criterion, metrics_fn):\n",
        "  audios, videos, labels = audios.to(DEVICE), videos.to(DEVICE), labels.to(DEVICE)\n",
        "\n",
        "  # Forward pass ➡\n",
        "  outputs = model(audios, videos)\n",
        "  loss = criterion(outputs, labels.unsqueeze(1).float())\n",
        "  accuracy = metrics_fn(outputs, labels.unsqueeze(1).float())\n",
        "\n",
        "  # Backward pass ⬅\n",
        "  optimizer.zero_grad()\n",
        "  loss.backward()\n",
        "\n",
        "  # Step with optimizer\n",
        "  optimizer.step()\n",
        "\n",
        "  return loss, accuracy"
      ]
    },
    {
      "cell_type": "code",
      "execution_count": 82,
      "metadata": {},
      "outputs": [],
      "source": [
        "def train(model, train_loader, criterion, optimizer, accuracy_fn, epochs, losses=None):\n",
        "    # Initialize the step counter \n",
        "    step = 0\n",
        "    # 4 means that I am going to make 4 logs of the metrics when training\n",
        "    n_prints = int(len(train_loader)/4)\n",
        "\n",
        "    for t in range(epochs):\n",
        "      print(f\"Epoch {t+1}\\n-------------------------------\")\n",
        "      \n",
        "      train_loss, train_accuracy = 0, 0\n",
        "      model.train()\n",
        "      for batch, data in enumerate(train_loader):\n",
        "        # get the inputs; data is a list of [inputs, labels]\n",
        "        audios, videos, labels = data\n",
        "        loss, accuracy = train_batch(audios, videos, labels, model, optimizer, criterion, accuracy_fn)\n",
        "        train_loss += loss.item()\n",
        "        train_accuracy += accuracy\n",
        "\n",
        "        # Report metrics every n_prints batch \n",
        "        if batch % n_prints == n_prints-1:\n",
        "            train_log(train_loss/(batch+1), train_accuracy/(batch+1), step, batch)\n",
        "            if losses:\n",
        "              losses.append(train_loss/(batch+1))\n",
        "            # print(f\"train loss: {train_loss/(batch+1):.3f} accuracy: {train_accuracy/(batch+1):.3f} [after {batch+1} batches]\")            \n",
        "            # Increment the step after logging\n",
        "            step += 1"
      ]
    },
    {
      "cell_type": "code",
      "execution_count": 42,
      "metadata": {},
      "outputs": [],
      "source": [
        "#@title **test loop**\n",
        "\n",
        "def test(model, test_loader, accuracy_fn, f1_score_fn, recall_fn, precision_fn):\n",
        "    model.eval()\n",
        "\n",
        "    # Run the model on some test examples\n",
        "    num_batches = len(test_loader)\n",
        "    test_accuracy, test_f1, test_recall, test_precision = 0, 0, 0, 0\n",
        "\n",
        "    # Disable gradient calculation\n",
        "    with torch.no_grad():\n",
        "        for audios, videos, labels in test_loader:\n",
        "            audios, videos, labels = audios.to(DEVICE), videos.to(DEVICE), labels.to(DEVICE)\n",
        "            outputs = model(audios, videos)\n",
        "            test_accuracy += accuracy_fn(outputs, labels.unsqueeze(1).float())\n",
        "            test_f1 += f1_score_fn(outputs, labels.unsqueeze(1).float())\n",
        "            test_recall += recall_fn(outputs, labels.unsqueeze(1).float())\n",
        "            test_precision += precision_fn(outputs, labels.unsqueeze(1).float())\n",
        "\n",
        "        # Average the metrics over all batches\n",
        "        test_accuracy /= num_batches\n",
        "        test_f1 /= num_batches\n",
        "        test_recall /= num_batches\n",
        "        test_precision /= num_batches\n",
        "\n",
        "        wandb.log({\"test_accuracy\": test_accuracy, \"test_f1\": test_f1,\n",
        "                    \"test_recall\": test_recall, \"test_precision\": test_precision})\n",
        "        print(f\"test accuracy: {test_accuracy:.3f} recall: {test_recall:.3f} precision: {test_precision:.3f} f1: {test_f1:.3f} [after {num_batches} batches]\")\n",
        "\n",
        "    return test_accuracy, test_f1, test_recall, test_precision"
      ]
    },
    {
      "cell_type": "code",
      "execution_count": 43,
      "metadata": {},
      "outputs": [],
      "source": [
        "def make(fold=None):\n",
        "\n",
        "  # Make the data\n",
        "  train, test = get_data(slice=1, fold=fold)\n",
        "  train_loader = make_loader(train, batch_size=BATCH_SIZE)\n",
        "  test_loader = make_loader(test, batch_size=BATCH_SIZE)\n",
        "\n",
        "  # Creacion del modelo y lo movemos a la GPU o CPU\n",
        "  model = MultimodalModel(n_classes=1).to(DEVICE)\n",
        "  \n",
        "  # Funcion de perdida (loss)\n",
        "  criterion = nn.BCEWithLogitsLoss() # https://shivambaldha.medium.com/binary-classification-with-pytorch-85089b284940\n",
        "\n",
        "  # Algoritmos de optimización del gradiente\n",
        "  optimizer = torch.optim.Adam(model.parameters(), lr=LEARNING_RATE)\n",
        "\n",
        "  # Make metrics\n",
        "  accuracy_fn = BinaryAccuracy().to(DEVICE)\n",
        "  f1_score_fn = BinaryF1Score().to(DEVICE)\n",
        "  recall_fn = BinaryRecall().to(DEVICE)\n",
        "  precision_fn = BinaryPrecision().to(DEVICE)\n",
        "\n",
        "  EPOCHS = 10\n",
        "\n",
        "  return model, train_loader, test_loader, criterion, optimizer, accuracy_fn, f1_score_fn, recall_fn, precision_fn, EPOCHS"
      ]
    },
    {
      "cell_type": "code",
      "execution_count": 83,
      "metadata": {},
      "outputs": [],
      "source": [
        "def make_wdb(config, fold=None):\n",
        "\n",
        "  # Make the data\n",
        "  train, test = get_data(slice=1, fold=fold)\n",
        "  train_loader = make_loader(train, batch_size=config.batch_size)\n",
        "  test_loader = make_loader(test, batch_size=config.batch_size)\n",
        "\n",
        "  # Creacion del modelo y lo movemos a la GPU o CPU\n",
        "  model = MultimodalModel(n_classes=1).to(DEVICE)\n",
        "  \n",
        "  # Funcion de perdida (loss)\n",
        "  criterion = nn.BCEWithLogitsLoss() # https://shivambaldha.medium.com/binary-classification-with-pytorch-85089b284940\n",
        "\n",
        "  # Algoritmos de optimización del gradiente\n",
        "  optimizer = torch.optim.Adam(model.parameters(), lr=config.learning_rate)\n",
        "\n",
        "  # Make metrics\n",
        "  accuracy_fn = BinaryAccuracy().to(DEVICE)\n",
        "  f1_score_fn = BinaryF1Score().to(DEVICE)\n",
        "  recall_fn = BinaryRecall().to(DEVICE)\n",
        "  precision_fn = BinaryPrecision().to(DEVICE)\n",
        "\n",
        "  EPOCHS = config.epochs\n",
        "\n",
        "  return model, train_loader, test_loader, criterion, optimizer, accuracy_fn, f1_score_fn, recall_fn, precision_fn, EPOCHS"
      ]
    },
    {
      "cell_type": "markdown",
      "metadata": {
        "id": "irytALTWpPwb"
      },
      "source": [
        "## <font color='#52F17F'>**Fusion of features**</font>"
      ]
    },
    {
      "cell_type": "code",
      "execution_count": null,
      "metadata": {
        "colab": {
          "base_uri": "https://localhost:8080/",
          "height": 912
        },
        "id": "lFRWKFphpPwd",
        "outputId": "61ce1a8e-de4a-4801-a634-fb715d202f79"
      },
      "outputs": [],
      "source": [
        "# Acá vamos a guardar las métricas del modelo\n",
        "results = {\n",
        "    \"accuracy\": [],\n",
        "    \"recall\": [],\n",
        "    \"precision\": [],\n",
        "    \"f1_score\": []\n",
        "}\n",
        "\n",
        "# Storage losses for plotting\n",
        "losses_per_epoch = []\n",
        "\n",
        "# Loop encontrado y modificado de: https://github.com/christianversloot/machine-learning-articles/blob/main/how-to-use-k-fold-cross-validation-with-pytorch.md\n",
        "for fold in range(1, 8):\n",
        "  # Storage for current fold\n",
        "  losses = []\n",
        "\n",
        "  # make the model, data, loss, metrics and optimization problem\n",
        "  model, train_loader, test_loader, criterion, optimizer, accuracy_fn, f1_score_fn, recall_fn, precision_fn, epochs = make(fold=fold)\n",
        "\n",
        "  # and use them to train the mod\n",
        "  train(model, train_loader, criterion, optimizer, accuracy_fn, epochs, losses)\n",
        "\n",
        "  # get metrics of the model    \n",
        "  test_accuracy, test_f1, test_recall, test_precision = test(model, test_loader, accuracy_fn, f1_score_fn, recall_fn, precision_fn)  \n",
        "\n",
        "  # Store losses for current fold\n",
        "  losses_per_epoch.append(losses)\n",
        "\n",
        "  results[\"accuracy\"].append(test_accuracy.cpu() * 100)\n",
        "  results[\"recall\"].append(test_recall.cpu() * 100)\n",
        "  results[\"precision\"].append(test_precision.cpu() * 100)\n",
        "  results[\"f1_score\"].append(test_f1.cpu() * 100)"
      ]
    },
    {
      "cell_type": "code",
      "execution_count": null,
      "metadata": {},
      "outputs": [],
      "source": [
        "# Print fold results\n",
        "print(f'GROUP K-FOLD CROSS VALIDATION RESULTS FOR {groupk_folds} FOLDS')\n",
        "print('--------------------------------')\n",
        "for metric, values in results.items():\n",
        "    print(f'{metric}:')\n",
        "    for fold_idx, value in enumerate(values, 1):\n",
        "        print(f'  fold {fold_idx}: {value:.2f}')\n",
        "    print(f'  average: {np.mean(values):.2f}% (+/- {np.std(values):.2f}%)')"
      ]
    },
    {
      "cell_type": "code",
      "execution_count": 84,
      "metadata": {},
      "outputs": [],
      "source": [
        "def model_pipeline(hyperparameters=None):\n",
        "\n",
        "    # tell wandb to get started\n",
        "    with wandb.init(project=\"ai1-project\", config=hyperparameters):\n",
        "        # access all HPs through wandb.config, so logging matches execution!\n",
        "        config = wandb.config\n",
        "\n",
        "        # make the model, data, loss, metrics and optimization problem\n",
        "        model, train_loader, test_loader, criterion, optimizer, accuracy_fn, f1_score_fn, recall_fn, precision_fn, epochs = make_wdb(config=config, fold=6)\n",
        "        # print(model)\n",
        "\n",
        "        # and use them to train the model\n",
        "        train(model, train_loader, criterion, optimizer, accuracy_fn, epochs)\n",
        "            \n",
        "        # get metrics of the model    \n",
        "        test(model, test_loader, accuracy_fn, f1_score_fn, recall_fn, precision_fn)\n",
        "\n",
        "    return model"
      ]
    },
    {
      "cell_type": "code",
      "execution_count": 89,
      "metadata": {},
      "outputs": [],
      "source": [
        "sweep_config = {\n",
        "    'method': 'bayes',\n",
        "    'name': 'sweep-test-1',\n",
        "    'metric': {\n",
        "        'goal': 'maximize',\n",
        "        'name': 'test_accuracy'\n",
        "    },\n",
        "    'parameters': {\n",
        "        'epochs': {'values': [5, 10, 15, 20]},\n",
        "        'batch_size': {'distribution': 'q_log_uniform_values',\n",
        "                               'max': 256,\n",
        "                               'min': 8,\n",
        "                               'q': 8},\n",
        "        'learning_rate': {'distribution': 'uniform',\n",
        "                            'max': 0.1,\n",
        "                            'min': 0.00001},\n",
        "        'dataset': {'value': 'Parkison'}\n",
        "    }\n",
        "}"
      ]
    },
    {
      "cell_type": "code",
      "execution_count": 90,
      "metadata": {},
      "outputs": [
        {
          "name": "stderr",
          "output_type": "stream",
          "text": [
            "\u001b[34m\u001b[1mwandb\u001b[0m: \u001b[33mWARNING\u001b[0m Calling wandb.login() after wandb.init() has no effect.\n"
          ]
        },
        {
          "data": {
            "text/plain": [
              "True"
            ]
          },
          "execution_count": 90,
          "metadata": {},
          "output_type": "execute_result"
        }
      ],
      "source": [
        "wandb.login()"
      ]
    },
    {
      "cell_type": "code",
      "execution_count": 91,
      "metadata": {},
      "outputs": [
        {
          "name": "stdout",
          "output_type": "stream",
          "text": [
            "Create sweep with ID: ewu07ice\n",
            "Sweep URL: https://wandb.ai/aiuis/ai1-project/sweeps/ewu07ice\n"
          ]
        }
      ],
      "source": [
        "sweep_id = wandb.sweep(sweep_config, project=\"ai1-project\")"
      ]
    },
    {
      "cell_type": "code",
      "execution_count": 92,
      "metadata": {},
      "outputs": [
        {
          "name": "stderr",
          "output_type": "stream",
          "text": [
            "\u001b[34m\u001b[1mwandb\u001b[0m: \u001b[33mWARNING\u001b[0m Calling wandb.login() after wandb.init() has no effect.\n",
            "\u001b[34m\u001b[1mwandb\u001b[0m: Ctrl + C detected. Stopping sweep.\n"
          ]
        }
      ],
      "source": [
        "wandb.agent(sweep_id, model_pipeline, count=40)"
      ]
    },
    {
      "cell_type": "code",
      "execution_count": 77,
      "metadata": {},
      "outputs": [
        {
          "data": {
            "image/png": "[encoded data removed]",
            "text/plain": [
              "<Figure size 1800x432 with 2 Axes>"
            ]
          },
          "metadata": {
            "needs_background": "light"
          },
          "output_type": "display_data"
        }
      ],
      "source": [
        "# Crear la figura y los subplots\n",
        "fig, (ax1, ax2) = plt.subplots(1, 2, figsize=(25, 6))\n",
        "\n",
        "# Plot 1: Loss per epoch\n",
        "n_epochs = [len(losses) for losses in losses_per_epoch] # Lista que tiene las épocas a las que llego cada fold * 3 prints para cada epoch\n",
        "for n_epochs, fold_losses in zip(n_epochs, losses_per_epoch):\n",
        "    ax1.plot(np.linspace(0, n_epochs, n_epochs), fold_losses, label=f'Fold {losses_per_epoch.index(fold_losses) + 1}')\n",
        "ax1.set_xlabel('Step')\n",
        "ax1.set_ylabel('Loss')\n",
        "ax1.set_title('Training loss per Epoch for each Fold')\n",
        "ax1.legend()\n",
        "\n",
        "# Plot 2: Metrics per fold\n",
        "for metric, values in results.items():\n",
        "    if metric == 'accuracy':\n",
        "        mean, std = np.mean(values), np.std(values)\n",
        "    ax2.plot(range(1, groupk_folds + 1), values, label=f'{metric}')\n",
        "ax2.set_xlabel('Fold')\n",
        "ax2.set_ylabel('Metric (%)')\n",
        "ax2.set_title(f'Metrics per Fold - Average acc: {mean:.2f}% (+/- {std:.2f})%')\n",
        "ax2.legend()\n",
        "\n",
        "# Título principal\n",
        "fig.suptitle(f'Hyperparameters for this experiment: lr={LEARNING_RATE}, bs={BATCH_SIZE}')\n",
        "plt.show()"
      ]
    }
  ],
  "metadata": {
    "accelerator": "GPU",
    "colab": {
      "gpuType": "T4",
      "provenance": []
    },
    "kernelspec": {
      "display_name": "Python 3",
      "name": "python3"
    },
    "language_info": {
      "codemirror_mode": {
        "name": "ipython",
        "version": 3
      },
      "file_extension": ".py",
      "mimetype": "text/x-python",
      "name": "python",
      "nbconvert_exporter": "python",
      "pygments_lexer": "ipython3",
      "version": "3.10.14"
    }
  },
  "nbformat": 4,
  "nbformat_minor": 0
}
