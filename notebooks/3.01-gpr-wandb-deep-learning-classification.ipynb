{
  "cells": [
    {
      "cell_type": "markdown",
      "metadata": {
        "id": "GYjq5aYppPwR"
      },
      "source": [
        "---\n",
        "\n",
        "\n",
        "\n",
        "# <font color='#ECA702'>**Análisis Multimodal de Síntomas en la Enfermedad de Parkinson**</font>"
      ]
    },
    {
      "cell_type": "code",
      "execution_count": 1,
      "metadata": {
        "id": "mK_mcucLOA06"
      },
      "outputs": [],
      "source": [
        "#@title **Instalar paquetes necesarios**\n",
        "%%capture\n",
        "! pip install torchmetrics\n",
        "! pip install torchinfo\n",
        "! pip install wandb -Uq"
      ]
    },
    {
      "cell_type": "code",
      "execution_count": 2,
      "metadata": {
        "id": "89BxmLrSpPwT"
      },
      "outputs": [],
      "source": [
        "#@title **Importar librerías**\n",
        "\n",
        "# Manipulación de datos\n",
        "import os\n",
        "import cv2\n",
        "import numpy as np\n",
        "import pandas as pd\n",
        "from zipfile import ZipFile\n",
        "\n",
        "# Pytorch essentials\n",
        "import torch\n",
        "import torch.nn as nn\n",
        "import torch.nn.functional as F\n",
        "from torchinfo import summary\n",
        "\n",
        "# Pytorch essentials for datasets.\n",
        "from torch.utils.data import Dataset, DataLoader\n",
        "\n",
        "# Pytorch metrics\n",
        "from torchmetrics.classification import BinaryAccuracy, BinaryF1Score, BinaryRecall, BinaryPrecision\n",
        "\n",
        "# Utils\n",
        "import matplotlib.pyplot as plt\n",
        "# import copy\n",
        "\n",
        "# sklearn\n",
        "from sklearn.model_selection import GroupKFold\n",
        "\n",
        "# wandb\n",
        "import wandb"
      ]
    },
    {
      "cell_type": "code",
      "execution_count": 3,
      "metadata": {
        "cellView": "form",
        "colab": {
          "base_uri": "https://localhost:8080/"
        },
        "id": "7kyzPDeVpPwU",
        "outputId": "b383039b-0874-47ee-94f9-46824958c6e9"
      },
      "outputs": [
        {
          "output_type": "stream",
          "name": "stdout",
          "text": [
            "Mounted at /content/drive\n",
            "/content/drive/.shortcut-targets-by-id/1XRruCPRodR4OhRCRZYKsyODqa_GuBkfC/data_parkinson\n"
          ]
        }
      ],
      "source": [
        "#@title **Cargamos los datos desde Drive**\n",
        "\n",
        "from google.colab import drive\n",
        "drive.mount('/content/drive')\n",
        "os.chdir('/content/drive/My Drive/data_parkinson')\n",
        "print(os.getcwd())"
      ]
    },
    {
      "cell_type": "code",
      "execution_count": 4,
      "metadata": {
        "cellView": "form",
        "colab": {
          "base_uri": "https://localhost:8080/"
        },
        "id": "vqX7Xwgd-TuU",
        "outputId": "1fa2c6ad-de6a-4b4b-8c2a-bbf271df57c7"
      },
      "outputs": [
        {
          "output_type": "stream",
          "name": "stdout",
          "text": [
            "/content/data\n",
            "\u001b[0m\u001b[01;34mAudioVisualData_v7\u001b[0m/  data.csv\n"
          ]
        }
      ],
      "source": [
        "#@title **Extraer el zip**\n",
        "\n",
        "os.mkdir('../../../../data')\n",
        "os.popen('cp data.csv ../../../../data/data.csv')\n",
        "target_path = os.path.join('../../../../data') # Aquí es donde van a quedar los datos\n",
        "# deben quedar fuera de drive para poder acceder a ellos 'localmente'\n",
        "\n",
        "# Unzip the downloaded files\n",
        "zip_file_path = os.path.join('AudioVisualData_v7.zip')\n",
        "with ZipFile(zip_file_path, 'r') as zip_ref:\n",
        "    zip_ref.extractall(target_path)\n",
        "\n",
        "# # Me muevo hasta donde quedaron los datos\n",
        "%cd ../../../../data\n",
        "# Verifico\n",
        "%ls"
      ]
    },
    {
      "cell_type": "markdown",
      "metadata": {
        "id": "AI_cmB-BpPwU"
      },
      "source": [
        "# <font color='#4C5FDA'>**1. Procesamiento del dataset**</font>"
      ]
    },
    {
      "cell_type": "markdown",
      "metadata": {
        "id": "aD0Bee8VqyYi"
      },
      "source": [
        "## <font color='#52F17F'>**Creación del Dataset Pandas auxiliar**</font>"
      ]
    },
    {
      "cell_type": "code",
      "execution_count": 7,
      "metadata": {
        "colab": {
          "base_uri": "https://localhost:8080/",
          "height": 238
        },
        "id": "2mB_EpmMqxm-",
        "outputId": "3b3a630d-e2e8-4061-87c1-941f683155db"
      },
      "outputs": [
        {
          "output_type": "execute_result",
          "data": {
            "text/plain": [
              "                                                audio_path  \\\n",
              "patient                                                      \n",
              "C2       AudioVisualData_v7/Control/C2/Vowels/audio/C2-...   \n",
              "C2       AudioVisualData_v7/Control/C2/Vowels/audio/C2-...   \n",
              "C2       AudioVisualData_v7/Control/C2/Vowels/audio/C2-...   \n",
              "C2       AudioVisualData_v7/Control/C2/Vowels/audio/C2-...   \n",
              "C2       AudioVisualData_v7/Control/C2/Vowels/audio/C2-...   \n",
              "\n",
              "                                               frames_path  label  \\\n",
              "patient                                                             \n",
              "C2       AudioVisualData_v7/Control/C2/Vowels/frames/C2...    0.0   \n",
              "C2       AudioVisualData_v7/Control/C2/Vowels/frames/C2...    0.0   \n",
              "C2       AudioVisualData_v7/Control/C2/Vowels/frames/C2...    0.0   \n",
              "C2       AudioVisualData_v7/Control/C2/Vowels/frames/C2...    0.0   \n",
              "C2       AudioVisualData_v7/Control/C2/Vowels/frames/C2...    0.0   \n",
              "\n",
              "                                flatten_log_mel_spectogram  \n",
              "patient                                                     \n",
              "C2       [-60.66636657714844, -19.715749740600586, -24....  \n",
              "C2       [-61.8838005065918, -28.279430389404297, -28.8...  \n",
              "C2       [-59.091400146484375, -25.001014709472656, -28...  \n",
              "C2       [-60.556915283203125, -20.145050048828125, -20...  \n",
              "C2       [-69.82708740234375, -20.313282012939453, -26....  "
            ],
            "text/html": [
              "\n",
              "  <div id=\"df-861d8bc5-15ff-4c54-80b6-b6c95ef183b8\" class=\"colab-df-container\">\n",
              "    <div>\n",
              "<style scoped>\n",
              "    .dataframe tbody tr th:only-of-type {\n",
              "        vertical-align: middle;\n",
              "    }\n",
              "\n",
              "    .dataframe tbody tr th {\n",
              "        vertical-align: top;\n",
              "    }\n",
              "\n",
              "    .dataframe thead th {\n",
              "        text-align: right;\n",
              "    }\n",
              "</style>\n",
              "<table border=\"1\" class=\"dataframe\">\n",
              "  <thead>\n",
              "    <tr style=\"text-align: right;\">\n",
              "      <th></th>\n",
              "      <th>audio_path</th>\n",
              "      <th>frames_path</th>\n",
              "      <th>label</th>\n",
              "      <th>flatten_log_mel_spectogram</th>\n",
              "    </tr>\n",
              "    <tr>\n",
              "      <th>patient</th>\n",
              "      <th></th>\n",
              "      <th></th>\n",
              "      <th></th>\n",
              "      <th></th>\n",
              "    </tr>\n",
              "  </thead>\n",
              "  <tbody>\n",
              "    <tr>\n",
              "      <th>C2</th>\n",
              "      <td>AudioVisualData_v7/Control/C2/Vowels/audio/C2-...</td>\n",
              "      <td>AudioVisualData_v7/Control/C2/Vowels/frames/C2...</td>\n",
              "      <td>0.0</td>\n",
              "      <td>[-60.66636657714844, -19.715749740600586, -24....</td>\n",
              "    </tr>\n",
              "    <tr>\n",
              "      <th>C2</th>\n",
              "      <td>AudioVisualData_v7/Control/C2/Vowels/audio/C2-...</td>\n",
              "      <td>AudioVisualData_v7/Control/C2/Vowels/frames/C2...</td>\n",
              "      <td>0.0</td>\n",
              "      <td>[-61.8838005065918, -28.279430389404297, -28.8...</td>\n",
              "    </tr>\n",
              "    <tr>\n",
              "      <th>C2</th>\n",
              "      <td>AudioVisualData_v7/Control/C2/Vowels/audio/C2-...</td>\n",
              "      <td>AudioVisualData_v7/Control/C2/Vowels/frames/C2...</td>\n",
              "      <td>0.0</td>\n",
              "      <td>[-59.091400146484375, -25.001014709472656, -28...</td>\n",
              "    </tr>\n",
              "    <tr>\n",
              "      <th>C2</th>\n",
              "      <td>AudioVisualData_v7/Control/C2/Vowels/audio/C2-...</td>\n",
              "      <td>AudioVisualData_v7/Control/C2/Vowels/frames/C2...</td>\n",
              "      <td>0.0</td>\n",
              "      <td>[-60.556915283203125, -20.145050048828125, -20...</td>\n",
              "    </tr>\n",
              "    <tr>\n",
              "      <th>C2</th>\n",
              "      <td>AudioVisualData_v7/Control/C2/Vowels/audio/C2-...</td>\n",
              "      <td>AudioVisualData_v7/Control/C2/Vowels/frames/C2...</td>\n",
              "      <td>0.0</td>\n",
              "      <td>[-69.82708740234375, -20.313282012939453, -26....</td>\n",
              "    </tr>\n",
              "  </tbody>\n",
              "</table>\n",
              "</div>\n",
              "    <div class=\"colab-df-buttons\">\n",
              "\n",
              "  <div class=\"colab-df-container\">\n",
              "    <button class=\"colab-df-convert\" onclick=\"convertToInteractive('df-861d8bc5-15ff-4c54-80b6-b6c95ef183b8')\"\n",
              "            title=\"Convert this dataframe to an interactive table.\"\n",
              "            style=\"display:none;\">\n",
              "\n",
              "  <svg xmlns=\"http://www.w3.org/2000/svg\" height=\"24px\" viewBox=\"0 -960 960 960\">\n",
              "    <path d=\"M120-120v-720h720v720H120Zm60-500h600v-160H180v160Zm220 220h160v-160H400v160Zm0 220h160v-160H400v160ZM180-400h160v-160H180v160Zm440 0h160v-160H620v160ZM180-180h160v-160H180v160Zm440 0h160v-160H620v160Z\"/>\n",
              "  </svg>\n",
              "    </button>\n",
              "\n",
              "  <style>\n",
              "    .colab-df-container {\n",
              "      display:flex;\n",
              "      gap: 12px;\n",
              "    }\n",
              "\n",
              "    .colab-df-convert {\n",
              "      background-color: #E8F0FE;\n",
              "      border: none;\n",
              "      border-radius: 50%;\n",
              "      cursor: pointer;\n",
              "      display: none;\n",
              "      fill: #1967D2;\n",
              "      height: 32px;\n",
              "      padding: 0 0 0 0;\n",
              "      width: 32px;\n",
              "    }\n",
              "\n",
              "    .colab-df-convert:hover {\n",
              "      background-color: #E2EBFA;\n",
              "      box-shadow: 0px 1px 2px rgba(60, 64, 67, 0.3), 0px 1px 3px 1px rgba(60, 64, 67, 0.15);\n",
              "      fill: #174EA6;\n",
              "    }\n",
              "\n",
              "    .colab-df-buttons div {\n",
              "      margin-bottom: 4px;\n",
              "    }\n",
              "\n",
              "    [theme=dark] .colab-df-convert {\n",
              "      background-color: #3B4455;\n",
              "      fill: #D2E3FC;\n",
              "    }\n",
              "\n",
              "    [theme=dark] .colab-df-convert:hover {\n",
              "      background-color: #434B5C;\n",
              "      box-shadow: 0px 1px 3px 1px rgba(0, 0, 0, 0.15);\n",
              "      filter: drop-shadow(0px 1px 2px rgba(0, 0, 0, 0.3));\n",
              "      fill: #FFFFFF;\n",
              "    }\n",
              "  </style>\n",
              "\n",
              "    <script>\n",
              "      const buttonEl =\n",
              "        document.querySelector('#df-861d8bc5-15ff-4c54-80b6-b6c95ef183b8 button.colab-df-convert');\n",
              "      buttonEl.style.display =\n",
              "        google.colab.kernel.accessAllowed ? 'block' : 'none';\n",
              "\n",
              "      async function convertToInteractive(key) {\n",
              "        const element = document.querySelector('#df-861d8bc5-15ff-4c54-80b6-b6c95ef183b8');\n",
              "        const dataTable =\n",
              "          await google.colab.kernel.invokeFunction('convertToInteractive',\n",
              "                                                    [key], {});\n",
              "        if (!dataTable) return;\n",
              "\n",
              "        const docLinkHtml = 'Like what you see? Visit the ' +\n",
              "          '<a target=\"_blank\" href=https://colab.research.google.com/notebooks/data_table.ipynb>data table notebook</a>'\n",
              "          + ' to learn more about interactive tables.';\n",
              "        element.innerHTML = '';\n",
              "        dataTable['output_type'] = 'display_data';\n",
              "        await google.colab.output.renderOutput(dataTable, element);\n",
              "        const docLink = document.createElement('div');\n",
              "        docLink.innerHTML = docLinkHtml;\n",
              "        element.appendChild(docLink);\n",
              "      }\n",
              "    </script>\n",
              "  </div>\n",
              "\n",
              "\n",
              "<div id=\"df-b8a7e32c-ee9b-497a-a7cd-44a3daee1b6e\">\n",
              "  <button class=\"colab-df-quickchart\" onclick=\"quickchart('df-b8a7e32c-ee9b-497a-a7cd-44a3daee1b6e')\"\n",
              "            title=\"Suggest charts\"\n",
              "            style=\"display:none;\">\n",
              "\n",
              "<svg xmlns=\"http://www.w3.org/2000/svg\" height=\"24px\"viewBox=\"0 0 24 24\"\n",
              "     width=\"24px\">\n",
              "    <g>\n",
              "        <path d=\"M19 3H5c-1.1 0-2 .9-2 2v14c0 1.1.9 2 2 2h14c1.1 0 2-.9 2-2V5c0-1.1-.9-2-2-2zM9 17H7v-7h2v7zm4 0h-2V7h2v10zm4 0h-2v-4h2v4z\"/>\n",
              "    </g>\n",
              "</svg>\n",
              "  </button>\n",
              "\n",
              "<style>\n",
              "  .colab-df-quickchart {\n",
              "      --bg-color: #E8F0FE;\n",
              "      --fill-color: #1967D2;\n",
              "      --hover-bg-color: #E2EBFA;\n",
              "      --hover-fill-color: #174EA6;\n",
              "      --disabled-fill-color: #AAA;\n",
              "      --disabled-bg-color: #DDD;\n",
              "  }\n",
              "\n",
              "  [theme=dark] .colab-df-quickchart {\n",
              "      --bg-color: #3B4455;\n",
              "      --fill-color: #D2E3FC;\n",
              "      --hover-bg-color: #434B5C;\n",
              "      --hover-fill-color: #FFFFFF;\n",
              "      --disabled-bg-color: #3B4455;\n",
              "      --disabled-fill-color: #666;\n",
              "  }\n",
              "\n",
              "  .colab-df-quickchart {\n",
              "    background-color: var(--bg-color);\n",
              "    border: none;\n",
              "    border-radius: 50%;\n",
              "    cursor: pointer;\n",
              "    display: none;\n",
              "    fill: var(--fill-color);\n",
              "    height: 32px;\n",
              "    padding: 0;\n",
              "    width: 32px;\n",
              "  }\n",
              "\n",
              "  .colab-df-quickchart:hover {\n",
              "    background-color: var(--hover-bg-color);\n",
              "    box-shadow: 0 1px 2px rgba(60, 64, 67, 0.3), 0 1px 3px 1px rgba(60, 64, 67, 0.15);\n",
              "    fill: var(--button-hover-fill-color);\n",
              "  }\n",
              "\n",
              "  .colab-df-quickchart-complete:disabled,\n",
              "  .colab-df-quickchart-complete:disabled:hover {\n",
              "    background-color: var(--disabled-bg-color);\n",
              "    fill: var(--disabled-fill-color);\n",
              "    box-shadow: none;\n",
              "  }\n",
              "\n",
              "  .colab-df-spinner {\n",
              "    border: 2px solid var(--fill-color);\n",
              "    border-color: transparent;\n",
              "    border-bottom-color: var(--fill-color);\n",
              "    animation:\n",
              "      spin 1s steps(1) infinite;\n",
              "  }\n",
              "\n",
              "  @keyframes spin {\n",
              "    0% {\n",
              "      border-color: transparent;\n",
              "      border-bottom-color: var(--fill-color);\n",
              "      border-left-color: var(--fill-color);\n",
              "    }\n",
              "    20% {\n",
              "      border-color: transparent;\n",
              "      border-left-color: var(--fill-color);\n",
              "      border-top-color: var(--fill-color);\n",
              "    }\n",
              "    30% {\n",
              "      border-color: transparent;\n",
              "      border-left-color: var(--fill-color);\n",
              "      border-top-color: var(--fill-color);\n",
              "      border-right-color: var(--fill-color);\n",
              "    }\n",
              "    40% {\n",
              "      border-color: transparent;\n",
              "      border-right-color: var(--fill-color);\n",
              "      border-top-color: var(--fill-color);\n",
              "    }\n",
              "    60% {\n",
              "      border-color: transparent;\n",
              "      border-right-color: var(--fill-color);\n",
              "    }\n",
              "    80% {\n",
              "      border-color: transparent;\n",
              "      border-right-color: var(--fill-color);\n",
              "      border-bottom-color: var(--fill-color);\n",
              "    }\n",
              "    90% {\n",
              "      border-color: transparent;\n",
              "      border-bottom-color: var(--fill-color);\n",
              "    }\n",
              "  }\n",
              "</style>\n",
              "\n",
              "  <script>\n",
              "    async function quickchart(key) {\n",
              "      const quickchartButtonEl =\n",
              "        document.querySelector('#' + key + ' button');\n",
              "      quickchartButtonEl.disabled = true;  // To prevent multiple clicks.\n",
              "      quickchartButtonEl.classList.add('colab-df-spinner');\n",
              "      try {\n",
              "        const charts = await google.colab.kernel.invokeFunction(\n",
              "            'suggestCharts', [key], {});\n",
              "      } catch (error) {\n",
              "        console.error('Error during call to suggestCharts:', error);\n",
              "      }\n",
              "      quickchartButtonEl.classList.remove('colab-df-spinner');\n",
              "      quickchartButtonEl.classList.add('colab-df-quickchart-complete');\n",
              "    }\n",
              "    (() => {\n",
              "      let quickchartButtonEl =\n",
              "        document.querySelector('#df-b8a7e32c-ee9b-497a-a7cd-44a3daee1b6e button');\n",
              "      quickchartButtonEl.style.display =\n",
              "        google.colab.kernel.accessAllowed ? 'block' : 'none';\n",
              "    })();\n",
              "  </script>\n",
              "</div>\n",
              "\n",
              "    </div>\n",
              "  </div>\n"
            ],
            "application/vnd.google.colaboratory.intrinsic+json": {
              "type": "dataframe",
              "variable_name": "data",
              "summary": "{\n  \"name\": \"data\",\n  \"rows\": 1091,\n  \"fields\": [\n    {\n      \"column\": \"patient\",\n      \"properties\": {\n        \"dtype\": \"category\",\n        \"num_unique_values\": 14,\n        \"samples\": [\n          \"P7\",\n          \"P8\",\n          \"C2\"\n        ],\n        \"semantic_type\": \"\",\n        \"description\": \"\"\n      }\n    },\n    {\n      \"column\": \"audio_path\",\n      \"properties\": {\n        \"dtype\": \"string\",\n        \"num_unique_values\": 1091,\n        \"samples\": [\n          \"AudioVisualData_v7/Parkinson/P4/Phonemes/audio/P4-1-Pakata.mp3\",\n          \"AudioVisualData_v7/Parkinson/P1/Vowels/audio/P1-2-A.mp3\",\n          \"AudioVisualData_v7/Parkinson/P6/Phonemes/audio/P6-3-Pataka.mp3\"\n        ],\n        \"semantic_type\": \"\",\n        \"description\": \"\"\n      }\n    },\n    {\n      \"column\": \"frames_path\",\n      \"properties\": {\n        \"dtype\": \"string\",\n        \"num_unique_values\": 1091,\n        \"samples\": [\n          \"AudioVisualData_v7/Parkinson/P4/Phonemes/frames/P4-1-Pakata.mov\",\n          \"AudioVisualData_v7/Parkinson/P1/Vowels/frames/P1-2-A.mov\",\n          \"AudioVisualData_v7/Parkinson/P6/Phonemes/frames/P6-3-Pataka.mov\"\n        ],\n        \"semantic_type\": \"\",\n        \"description\": \"\"\n      }\n    },\n    {\n      \"column\": \"label\",\n      \"properties\": {\n        \"dtype\": \"number\",\n        \"std\": 0.5002290950864771,\n        \"min\": 0.0,\n        \"max\": 1.0,\n        \"num_unique_values\": 2,\n        \"samples\": [\n          1.0,\n          0.0\n        ],\n        \"semantic_type\": \"\",\n        \"description\": \"\"\n      }\n    },\n    {\n      \"column\": \"flatten_log_mel_spectogram\",\n      \"properties\": {\n        \"dtype\": \"object\",\n        \"semantic_type\": \"\",\n        \"description\": \"\"\n      }\n    }\n  ]\n}"
            }
          },
          "metadata": {},
          "execution_count": 7
        }
      ],
      "source": [
        "data = pd.read_csv(\"data.csv\", index_col='patient')\n",
        "\n",
        "def string2array(string: str):\n",
        "  \"\"\" Convierte un string con datos a numpy array \"\"\"\n",
        "  string = string.strip('[]')\n",
        "  return np.fromstring(string, sep=',')\n",
        "\n",
        "data['flatten_log_mel_spectogram'] = data['flatten_log_mel_spectogram'].apply(string2array)\n",
        "data.head()"
      ]
    },
    {
      "cell_type": "markdown",
      "metadata": {
        "id": "j_gRyCKHpPwZ"
      },
      "source": [
        "## <font color='#52F17F'>**Creación del Dataset PyTorch**</font>"
      ]
    },
    {
      "cell_type": "code",
      "execution_count": 87,
      "metadata": {
        "id": "8OL_3J7jpPwZ"
      },
      "outputs": [],
      "source": [
        "\"\"\"\n",
        "Constante sacada de la media de cantidad de frames de todos los vídeos multiplicada por 0.1\n",
        "para tener el 10%\n",
        "\"\"\"\n",
        "\n",
        "FRAMES_PROMEDIO = 14\n",
        "\n",
        "class PatientDataset(Dataset):\n",
        "  def __init__(self, dataframe, n_frames = FRAMES_PROMEDIO):\n",
        "    self.dataframe = dataframe\n",
        "    # self.transform = transform\n",
        "    self.n_frames = n_frames\n",
        "\n",
        "  def __len__(self):\n",
        "    return len(self.dataframe)\n",
        "\n",
        "  def __getitem__(self, index):\n",
        "\n",
        "    \"\"\" Carga de la imagen \"\"\"\n",
        "\n",
        "    # Leemos el audio\n",
        "    audio = self.dataframe['flatten_log_mel_spectogram'][index].astype(np.float32)\n",
        "    audio = audio.reshape((90, 10))\n",
        "    audio = torch.from_numpy(audio).unsqueeze(0)\n",
        "\n",
        "    \"\"\" Carga de los frames \"\"\"\n",
        "\n",
        "    video_path = os.path.join(self.dataframe['frames_path'][index])\n",
        "\n",
        "    frames_path = sorted(os.listdir(video_path))[:self.n_frames]\n",
        "    frames = []\n",
        "    for frame in frames_path:\n",
        "      frame_path = os.path.join(self.dataframe['frames_path'][index], frame)\n",
        "      # print(frame_path)\n",
        "      frame = cv2.imread(frame_path, cv2.IMREAD_GRAYSCALE)\n",
        "      frame = cv2.resize(frame, (28, 28)) # Resize a 64x64\n",
        "      frame = frame / 255. # Normalizamos entre 0 y 1\n",
        "      frames.append(frame)\n",
        "\n",
        "    frames = np.expand_dims(np.stack(frames), axis=1).astype('float32')\n",
        "    frames = frames.transpose(1, 0, 2, 3)\n",
        "    frames = torch.from_numpy(frames)\n",
        "\n",
        "    \"\"\" Consiguiendo el label \"\"\"\n",
        "\n",
        "    # Para conseguir la etiqueta simplemente me tengo que fijar en la ruta. Si es 'Parkinson' 1\n",
        "    # sino 0.\n",
        "\n",
        "    label = 1 if 'Parkinson' in self.dataframe['audio_path'][index] else 0\n",
        "\n",
        "    return audio, frames, label\n",
        ""
      ]
    },
    {
      "cell_type": "code",
      "execution_count": 88,
      "metadata": {
        "colab": {
          "base_uri": "https://localhost:8080/"
        },
        "id": "9hYyG5ZSpPwa",
        "outputId": "f9af4427-209a-4296-adcd-26207b6939e8"
      },
      "outputs": [
        {
          "output_type": "stream",
          "name": "stdout",
          "text": [
            "1091\n",
            "torch.Size([1, 90, 10]) torch.Size([1, 14, 28, 28]) 0\n"
          ]
        }
      ],
      "source": [
        "complete_dataset = PatientDataset(data)\n",
        "print(complete_dataset.__len__())\n",
        "print(complete_dataset[0][0].shape, complete_dataset[0][1].shape , complete_dataset[0][2])"
      ]
    },
    {
      "cell_type": "markdown",
      "metadata": {
        "id": "0f3z4R6jpPwb"
      },
      "source": [
        "## <font color='#52F17F'>**Partición de los datos**</font>"
      ]
    },
    {
      "cell_type": "code",
      "execution_count": 89,
      "metadata": {
        "colab": {
          "base_uri": "https://localhost:8080/"
        },
        "id": "7mzO7vAyOA1F",
        "outputId": "728f40dd-b888-4f79-aed8-00564ea19db1"
      },
      "outputs": [
        {
          "output_type": "stream",
          "name": "stdout",
          "text": [
            "División 1:\n",
            "  Pacientes en entrenamiento: ['C0' 'C1' 'C2' 'C3' 'C4' 'C6' 'P0' 'P1' 'P4' 'P5' 'P6' 'P7']\n",
            "  Pacientes en prueba: ['C5' 'P8']\n",
            "  Número de pacientes en entrenamiento: 12\n",
            "  Número de pacientes en prueba: 2\n",
            "\n",
            "División 2:\n",
            "  Pacientes en entrenamiento: ['C0' 'C1' 'C2' 'C3' 'C5' 'C6' 'P0' 'P1' 'P4' 'P5' 'P6' 'P8']\n",
            "  Pacientes en prueba: ['C4' 'P7']\n",
            "  Número de pacientes en entrenamiento: 12\n",
            "  Número de pacientes en prueba: 2\n",
            "\n",
            "División 3:\n",
            "  Pacientes en entrenamiento: ['C0' 'C1' 'C2' 'C4' 'C5' 'C6' 'P0' 'P1' 'P4' 'P5' 'P7' 'P8']\n",
            "  Pacientes en prueba: ['C3' 'P6']\n",
            "  Número de pacientes en entrenamiento: 12\n",
            "  Número de pacientes en prueba: 2\n",
            "\n",
            "División 4:\n",
            "  Pacientes en entrenamiento: ['C0' 'C2' 'C3' 'C4' 'C5' 'C6' 'P0' 'P1' 'P4' 'P6' 'P7' 'P8']\n",
            "  Pacientes en prueba: ['C1' 'P5']\n",
            "  Número de pacientes en entrenamiento: 12\n",
            "  Número de pacientes en prueba: 2\n",
            "\n",
            "División 5:\n",
            "  Pacientes en entrenamiento: ['C0' 'C1' 'C3' 'C4' 'C5' 'C6' 'P0' 'P1' 'P5' 'P6' 'P7' 'P8']\n",
            "  Pacientes en prueba: ['C2' 'P4']\n",
            "  Número de pacientes en entrenamiento: 12\n",
            "  Número de pacientes en prueba: 2\n",
            "\n",
            "División 6:\n",
            "  Pacientes en entrenamiento: ['C1' 'C2' 'C3' 'C4' 'C5' 'C6' 'P0' 'P4' 'P5' 'P6' 'P7' 'P8']\n",
            "  Pacientes en prueba: ['C0' 'P1']\n",
            "  Número de pacientes en entrenamiento: 12\n",
            "  Número de pacientes en prueba: 2\n",
            "\n",
            "División 7:\n",
            "  Pacientes en entrenamiento: ['C0' 'C1' 'C2' 'C3' 'C4' 'C5' 'P1' 'P4' 'P5' 'P6' 'P7' 'P8']\n",
            "  Pacientes en prueba: ['C6' 'P0']\n",
            "  Número de pacientes en entrenamiento: 12\n",
            "  Número de pacientes en prueba: 2\n",
            "\n"
          ]
        }
      ],
      "source": [
        "# Extraer los datos para GroupKFold\n",
        "X = [i for i in range(len(data))]\n",
        "y = data['label'].values\n",
        "groups = data.index.values\n",
        "\n",
        "groupk_folds = 7\n",
        "gkf = GroupKFold(n_splits=groupk_folds)\n",
        "\n",
        "# Realizar la validación cruzada por grupos\n",
        "for i, (train_index, test_index) in enumerate(gkf.split(X, y, groups), 1):\n",
        "    train_groups = groups[train_index]\n",
        "    test_groups = groups[test_index]\n",
        "\n",
        "    print(f\"División {i}:\")\n",
        "    print(\"  Pacientes en entrenamiento:\", np.unique(train_groups))\n",
        "    print(\"  Pacientes en prueba:\", np.unique(test_groups))\n",
        "    print(\"  Número de pacientes en entrenamiento:\", len(np.unique(train_groups)))\n",
        "    print(\"  Número de pacientes en prueba:\", len(np.unique(test_groups)))\n",
        "    print()\n"
      ]
    },
    {
      "cell_type": "code",
      "execution_count": 90,
      "metadata": {
        "id": "cfPVWByiOA1H"
      },
      "outputs": [],
      "source": [
        "def make_folds(data:pd.DataFrame):\n",
        "    # Extraer los datos para GroupKFold\n",
        "    X = np.array([i for i in range(len(data))])\n",
        "    y = data['label'].values\n",
        "    groups = data.index.values\n",
        "\n",
        "    folds_dict = {}\n",
        "    groupk_folds = 7\n",
        "    gkf = GroupKFold(n_splits=groupk_folds)\n",
        "\n",
        "    # Realizar la validación cruzada por grupos\n",
        "    for i, (train_index, test_index) in enumerate(gkf.split(X, y, groups), 1):\n",
        "        fold_name = f\"fold_{i}\"\n",
        "        folds_dict[fold_name] = {\n",
        "            'train': train_index,\n",
        "            'test': test_index\n",
        "        }\n",
        "\n",
        "    return folds_dict\n",
        "\n",
        "def make_subdataframes(data:pd.DataFrame, folds:dict):\n",
        "  # Crear subdataframes\n",
        "  subdataframes = {}\n",
        "\n",
        "  for fold_name, indices in folds.items():\n",
        "      train_df = data.iloc[indices['train']]\n",
        "    #   val_df = data.iloc[indices['val']]\n",
        "      test_df = data.iloc[indices['test']]\n",
        "\n",
        "      subdataframes[fold_name] = {\n",
        "          'train': train_df,\n",
        "        #   'val': val_df,\n",
        "          'test': test_df\n",
        "      }\n",
        "\n",
        "  return subdataframes"
      ]
    },
    {
      "cell_type": "code",
      "execution_count": 91,
      "metadata": {
        "id": "xvKzycc4OA1H"
      },
      "outputs": [],
      "source": [
        "def get_data(slice=1, fold:int=None):\n",
        "\n",
        "    # Generate folds\n",
        "    folds = make_folds(data)\n",
        "\n",
        "    # Create subdataframes\n",
        "    subdataframes = make_subdataframes(data, folds)\n",
        "\n",
        "    if not fold:\n",
        "      fold = np.random.choice(range(1, 8))\n",
        "\n",
        "    fold_name = f'fold_{fold}'\n",
        "    print(f\"FOLD {fold}\\n-------------------------------\")\n",
        "\n",
        "    train_dataset = PatientDataset(subdataframes[fold_name]['train'])\n",
        "    test_dataset = PatientDataset(subdataframes[fold_name]['test'])\n",
        "\n",
        "    # test with less data, it helped me to set up the experiments faster if slice=1\n",
        "    # then it returns the complete dataset\n",
        "    train_dataset = torch.utils.data.Subset(train_dataset,\n",
        "                                            indices=range(0, len(train_dataset), slice))\n",
        "    test_dataset = torch.utils.data.Subset(test_dataset,\n",
        "                                            indices=range(0, len(test_dataset), slice))\n",
        "\n",
        "    return train_dataset, test_dataset\n",
        "\n",
        "def make_loader(dataset, batch_size):\n",
        "    loader = DataLoader(dataset=dataset, batch_size=batch_size, shuffle=True,\n",
        "                        pin_memory=True, num_workers=2)\n",
        "    return loader"
      ]
    },
    {
      "cell_type": "code",
      "source": [
        "type(slice)"
      ],
      "metadata": {
        "id": "CTPYRNaPfTgD"
      },
      "execution_count": null,
      "outputs": []
    },
    {
      "cell_type": "markdown",
      "metadata": {
        "id": "WVi02_rZpPwb"
      },
      "source": [
        "# <font color='#ECA702'>**2. Deep Learning 🤖**</font>"
      ]
    },
    {
      "cell_type": "markdown",
      "metadata": {
        "id": "FxKj0h94OA1M"
      },
      "source": [
        "## <font color='#EB9A54'>**Multimodal fully connected model**</font>"
      ]
    },
    {
      "cell_type": "code",
      "execution_count": 92,
      "metadata": {
        "id": "G3-OO0q8OA1N"
      },
      "outputs": [],
      "source": [
        "class MiddleModule(nn.Module):\n",
        "  def __init__(self, in_features, out_features):\n",
        "    super().__init__()\n",
        "    self.fc = nn.Linear(in_features, out_features)\n",
        "    self.relu = nn.ReLU(inplace=True)\n",
        "\n",
        "\n",
        "  def forward(self, x):\n",
        "    x = self.fc(x)\n",
        "    x = self.relu(x)\n",
        "    return x\n",
        "\n",
        "class MultimodalModel(nn.Module):\n",
        "  def __init__(self, n_classes):\n",
        "    super().__init__()\n",
        "    self.fc1 = nn.Linear((1 * 14 * 28 * 28) + (1 * 90 * 10), 64)\n",
        "    self.features_module = nn.Sequential(\n",
        "      MiddleModule(64, 32),\n",
        "      MiddleModule(32, 16),\n",
        "    )\n",
        "    self.fc4 = nn.Linear(16, n_classes)\n",
        "\n",
        "\n",
        "  def forward(self, audio, video):\n",
        "    # https://stackoverflow.com/questions/42479902/what-does-view-do-in-pytorch\n",
        "    audio = audio.view(audio.size(0), -1) # Aplane los audios conservando el batch\n",
        "    # devuelve: # batch_size x (90*10)\n",
        "\n",
        "    video = video.view(video.size(0), -1) # Aplane los videos conservando el batch\n",
        "    # devuelve: # batch_size x (14*112*112)\n",
        "\n",
        "    combined = torch.cat((video, audio), dim=1) # https://pytorch.org/docs/stable/generated/torch.cat.html\n",
        "    x = F.relu(self.fc1(combined))\n",
        "    x = self.features_module(x)\n",
        "    x = self.fc4(x)\n",
        "    return x"
      ]
    },
    {
      "cell_type": "code",
      "execution_count": 93,
      "metadata": {
        "colab": {
          "base_uri": "https://localhost:8080/"
        },
        "id": "OoDnvtEZOA1O",
        "outputId": "78dcee89-ef2d-4b94-e232-a6caf9108c69"
      },
      "outputs": [
        {
          "output_type": "stream",
          "name": "stdout",
          "text": [
            "Entrada audio: (torch.Size([2, 1, 90, 10]), torch.float32)\n",
            "Entrada video: (torch.Size([2, 1, 14, 28, 28]), torch.float32)\n",
            "Salida: torch.Size([2, 1])\n"
          ]
        }
      ],
      "source": [
        "# Test al modelo, para ver si nos entrega la salida esperada\n",
        "\n",
        "input_audio = torch.rand([2, 1, 90, 10])\n",
        "input_video = torch.rand([2, 1, 14, 28, 28])\n",
        "print(f\"Entrada audio: {input_audio.size(), input_audio.dtype}\")\n",
        "print(f\"Entrada video: {input_video.size(), input_video.dtype}\")\n",
        "\n",
        "model = MultimodalModel(n_classes=1)\n",
        "ouput = model(input_audio, input_video)\n",
        "print(f\"Salida: {ouput.size()}\")"
      ]
    },
    {
      "cell_type": "code",
      "execution_count": 94,
      "metadata": {
        "colab": {
          "base_uri": "https://localhost:8080/"
        },
        "id": "SSUf1ry1OA1O",
        "outputId": "2879aa3c-9849-44c4-c773-d1d170da7e9a"
      },
      "outputs": [
        {
          "output_type": "stream",
          "name": "stdout",
          "text": [
            "MultimodalModel(\n",
            "  (fc1): Linear(in_features=11876, out_features=64, bias=True)\n",
            "  (features_module): Sequential(\n",
            "    (0): MiddleModule(\n",
            "      (fc): Linear(in_features=64, out_features=32, bias=True)\n",
            "      (relu): ReLU(inplace=True)\n",
            "    )\n",
            "    (1): MiddleModule(\n",
            "      (fc): Linear(in_features=32, out_features=16, bias=True)\n",
            "      (relu): ReLU(inplace=True)\n",
            "    )\n",
            "  )\n",
            "  (fc4): Linear(in_features=16, out_features=1, bias=True)\n",
            ")\n"
          ]
        }
      ],
      "source": [
        "print(model)"
      ]
    },
    {
      "cell_type": "code",
      "execution_count": 95,
      "metadata": {
        "colab": {
          "base_uri": "https://localhost:8080/"
        },
        "id": "I28BAiL0OA1P",
        "outputId": "394efc97-8c96-45b7-cc0e-fa2d6e9bc747"
      },
      "outputs": [
        {
          "output_type": "execute_result",
          "data": {
            "text/plain": [
              "==========================================================================================\n",
              "Layer (type:depth-idx)                   Output Shape              Param #\n",
              "==========================================================================================\n",
              "MultimodalModel                          [2, 1]                    --\n",
              "├─Linear: 1-1                            [2, 64]                   760,128\n",
              "├─Sequential: 1-2                        [2, 16]                   --\n",
              "│    └─MiddleModule: 2-1                 [2, 32]                   --\n",
              "│    │    └─Linear: 3-1                  [2, 32]                   2,080\n",
              "│    │    └─ReLU: 3-2                    [2, 32]                   --\n",
              "│    └─MiddleModule: 2-2                 [2, 16]                   --\n",
              "│    │    └─Linear: 3-3                  [2, 16]                   528\n",
              "│    │    └─ReLU: 3-4                    [2, 16]                   --\n",
              "├─Linear: 1-3                            [2, 1]                    17\n",
              "==========================================================================================\n",
              "Total params: 762,753\n",
              "Trainable params: 762,753\n",
              "Non-trainable params: 0\n",
              "Total mult-adds (M): 1.53\n",
              "==========================================================================================\n",
              "Input size (MB): 0.10\n",
              "Forward/backward pass size (MB): 0.00\n",
              "Params size (MB): 3.05\n",
              "Estimated Total Size (MB): 3.15\n",
              "=========================================================================================="
            ]
          },
          "metadata": {},
          "execution_count": 95
        }
      ],
      "source": [
        "summary(model, (input_video.size(), input_audio.size()))"
      ]
    },
    {
      "cell_type": "markdown",
      "metadata": {
        "id": "G6V-o1zZOA1P"
      },
      "source": [
        "## <font color='#EB9A54'>**Utils functions and hyperparameters**</font>"
      ]
    },
    {
      "cell_type": "code",
      "execution_count": 79,
      "metadata": {
        "id": "ipE2OREYOA1Q"
      },
      "outputs": [],
      "source": [
        "# Hiperparametros\n",
        "LEARNING_RATE = 0.0001\n",
        "DEVICE = \"cuda\" if torch.cuda.is_available() else \"cpu\"\n",
        "BATCH_SIZE = 48"
      ]
    },
    {
      "cell_type": "code",
      "execution_count": 96,
      "metadata": {
        "id": "N8mum2tMOA1Q"
      },
      "outputs": [],
      "source": [
        "def train_log(loss, accuracy, step, current):\n",
        "    \"\"\" Log the metrics for the current batch into wandb\n",
        "\n",
        "    Args:\n",
        "        loss: the value of the loss at current batch\n",
        "        accuracy: the value of the accuracy at current batch\n",
        "        step: actual step\n",
        "        current: actual batch\n",
        "    \"\"\"\n",
        "\n",
        "    # Where the magic happens\n",
        "    wandb.log({\"step\":step, \"train_loss\": loss, \"train_accuracy\": accuracy})\n",
        "    print(f\"train loss: {loss:.3f} accuracy: {accuracy:.3f} [after {current} batches]\")"
      ]
    },
    {
      "cell_type": "code",
      "execution_count": 97,
      "metadata": {
        "id": "26Dj1XxCOA1Q"
      },
      "outputs": [],
      "source": [
        "#@title **train batch**\n",
        "\n",
        "def train_batch(audios, videos, labels, model, optimizer, criterion, metrics_fn):\n",
        "  audios, videos, labels = audios.to(DEVICE), videos.to(DEVICE), labels.to(DEVICE)\n",
        "\n",
        "  # Forward pass ➡\n",
        "  outputs = model(audios, videos)\n",
        "  loss = criterion(outputs, labels.unsqueeze(1).float())\n",
        "  accuracy = metrics_fn(outputs, labels.unsqueeze(1).float())\n",
        "\n",
        "  # Backward pass ⬅\n",
        "  optimizer.zero_grad()\n",
        "  loss.backward()\n",
        "\n",
        "  # Step with optimizer\n",
        "  optimizer.step()\n",
        "\n",
        "  return loss, accuracy"
      ]
    },
    {
      "cell_type": "code",
      "execution_count": 98,
      "metadata": {
        "id": "Jl8r9wETOA1S"
      },
      "outputs": [],
      "source": [
        "def train(model, train_loader, criterion, optimizer, accuracy_fn, epochs, losses=None):\n",
        "    # Initialize the step counter\n",
        "    step = 0\n",
        "    # 4 means that I am going to make 4 logs of the metrics when training\n",
        "    n_prints = int(len(train_loader)/4)\n",
        "\n",
        "    for t in range(epochs):\n",
        "      print(f\"Epoch {t+1}\\n-------------------------------\")\n",
        "\n",
        "      train_loss, train_accuracy = 0, 0\n",
        "      model.train()\n",
        "      for batch, data in enumerate(train_loader):\n",
        "        # get the inputs; data is a list of [inputs, labels]\n",
        "        audios, videos, labels = data\n",
        "        loss, accuracy = train_batch(audios, videos, labels, model, optimizer, criterion, accuracy_fn)\n",
        "        train_loss += loss.item()\n",
        "        train_accuracy += accuracy\n",
        "\n",
        "        # Report metrics every n_prints batch\n",
        "        if batch % n_prints == n_prints-1:\n",
        "            train_log(train_loss/(batch+1), train_accuracy/(batch+1), step, batch)\n",
        "            if losses:\n",
        "              losses.append(train_loss/(batch+1))\n",
        "            # print(f\"train loss: {loss:.3f} accuracy: {accuracy:.3f} [after {batch+1} batches]\")\n",
        "            # Increment the step after logging\n",
        "            step += 1"
      ]
    },
    {
      "cell_type": "code",
      "execution_count": 83,
      "metadata": {
        "id": "_eAY8iEYOA1S"
      },
      "outputs": [],
      "source": [
        "#@title **test loop**\n",
        "\n",
        "def test(model, test_loader, accuracy_fn, f1_score_fn, recall_fn, precision_fn):\n",
        "    model.eval()\n",
        "\n",
        "    # Run the model on some test examples\n",
        "    num_batches = len(test_loader)\n",
        "    test_accuracy, test_f1, test_recall, test_precision = 0, 0, 0, 0\n",
        "\n",
        "    # Disable gradient calculation\n",
        "    with torch.no_grad():\n",
        "        for audios, videos, labels in test_loader:\n",
        "            audios, videos, labels = audios.to(DEVICE), videos.to(DEVICE), labels.to(DEVICE)\n",
        "            outputs = model(audios, videos)\n",
        "            test_accuracy += accuracy_fn(outputs, labels.unsqueeze(1).float())\n",
        "            test_f1 += f1_score_fn(outputs, labels.unsqueeze(1).float())\n",
        "            test_recall += recall_fn(outputs, labels.unsqueeze(1).float())\n",
        "            test_precision += precision_fn(outputs, labels.unsqueeze(1).float())\n",
        "\n",
        "        # Average the metrics over all batches\n",
        "        test_accuracy /= num_batches\n",
        "        test_f1 /= num_batches\n",
        "        test_recall /= num_batches\n",
        "        test_precision /= num_batches\n",
        "\n",
        "        wandb.log({\"test_accuracy\": test_accuracy, \"test_f1\": test_f1,\n",
        "            \"test_recall\": test_recall, \"test_precision\": test_precision})\n",
        "        print(f\"test accuracy: {test_accuracy:.3f} recall: {test_recall:.3f} precision: {test_precision:.3f} f1: {test_f1:.3f} [after {num_batches} batches]\")\n",
        "\n",
        "    return test_accuracy, test_f1, test_recall, test_precision"
      ]
    },
    {
      "cell_type": "code",
      "execution_count": 84,
      "metadata": {
        "id": "zFE0Oy6bOA1S"
      },
      "outputs": [],
      "source": [
        "def make(config, fold=None):\n",
        "\n",
        "  # Make the data\n",
        "  train, test = get_data(slice=1, fold=fold)\n",
        "  train_loader = make_loader(train, batch_size=config.batch_size)\n",
        "  test_loader = make_loader(test, batch_size=config.batch_size)\n",
        "\n",
        "  # Creacion del modelo y lo movemos a la GPU o CPU\n",
        "  model = MultimodalModel(n_classes=1).to(DEVICE)\n",
        "\n",
        "  # Funcion de perdida (loss)\n",
        "  criterion = nn.BCEWithLogitsLoss() # https://shivambaldha.medium.com/binary-classification-with-pytorch-85089b284940\n",
        "\n",
        "  # Algoritmos de optimización del gradiente\n",
        "  # optimizer = torch.optim.SGD(model.parameters(), lr=LEARNING_RATE, momentum=0.9)\n",
        "  optimizer = torch.optim.Adam(model.parameters(), lr=config.learning_rate)\n",
        "\n",
        "  # Make metrics\n",
        "  accuracy_fn = BinaryAccuracy().to(DEVICE)\n",
        "  f1_score_fn = BinaryF1Score().to(DEVICE)\n",
        "  recall_fn = BinaryRecall().to(DEVICE)\n",
        "  precision_fn = BinaryPrecision().to(DEVICE)\n",
        "\n",
        "  EPOCHS = config.epochs\n",
        "\n",
        "  return model, train_loader, test_loader, criterion, optimizer, accuracy_fn, f1_score_fn, recall_fn, precision_fn, EPOCHS"
      ]
    },
    {
      "cell_type": "markdown",
      "source": [
        "### WANDB"
      ],
      "metadata": {
        "id": "dbnGkJxLWPOU"
      }
    },
    {
      "cell_type": "code",
      "execution_count": 63,
      "metadata": {
        "colab": {
          "base_uri": "https://localhost:8080/"
        },
        "id": "DCG8DQzMOA1U",
        "outputId": "1cf5de3d-9fc9-467a-b3aa-cefbca47639c"
      },
      "outputs": [
        {
          "output_type": "execute_result",
          "data": {
            "text/plain": [
              "True"
            ]
          },
          "metadata": {},
          "execution_count": 63
        }
      ],
      "source": [
        "wandb.login()"
      ]
    },
    {
      "cell_type": "code",
      "execution_count": 64,
      "metadata": {
        "id": "Fac7FnHwOA1T"
      },
      "outputs": [],
      "source": [
        "sweep_config = {\n",
        "    'method': 'bayes',\n",
        "    'name': 'sweep-gkfold',\n",
        "    'metric': {\n",
        "        'goal': 'maximize',\n",
        "        'name': 'test_accuracy_mean'\n",
        "    },\n",
        "    'parameters': {\n",
        "        'epochs': {'values': [5, 10, 15, 20]},\n",
        "        'batch_size': {'distribution': 'q_log_uniform_values',\n",
        "                               'max': 256,\n",
        "                               'min': 8,\n",
        "                               'q': 8},\n",
        "        'learning_rate': {'distribution': 'uniform',\n",
        "                            'max': 0.1,\n",
        "                            'min': 0.00001},\n",
        "        'dataset': {'value': 'Parkison'}\n",
        "    }\n",
        "}"
      ]
    },
    {
      "cell_type": "markdown",
      "source": [
        "#### GKFOLD"
      ],
      "metadata": {
        "id": "lmbZhh9PUyLF"
      }
    },
    {
      "cell_type": "code",
      "execution_count": 23,
      "metadata": {
        "id": "rQB0dgl0OA1T"
      },
      "outputs": [],
      "source": [
        "def model_pipeline(num, sweep_id, sweep_run_name, hyperparameters):\n",
        "\n",
        "    # tell wandb to get started\n",
        "    run_name = f'{sweep_run_name}--{num}'\n",
        "    with wandb.init(config=hyperparameters, group=sweep_id, job_type=sweep_run_name, name=run_name, reinit=True):\n",
        "        # access all HPs through wandb.config, so logging matches execution!\n",
        "        config = wandb.config\n",
        "\n",
        "        # make the model, data, and optimization problem\n",
        "        model, train_loader, test_loader, criterion, optimizer, accuracy_fn, f1_score_fn, recall_fn, precision_fn, epochs = make(config, num)\n",
        "        # print(model)\n",
        "\n",
        "        # and use them to train the model\n",
        "        train(model, train_loader, criterion, optimizer, accuracy_fn, epochs)\n",
        "\n",
        "        # get metrics of the model\n",
        "        test_accuracy, test_f1, test_recall, test_precision = test(model, test_loader, accuracy_fn, f1_score_fn, recall_fn, precision_fn)\n",
        "\n",
        "    return test_accuracy, test_f1, test_recall, test_precision"
      ]
    },
    {
      "cell_type": "code",
      "execution_count": 28,
      "metadata": {
        "id": "06hshuqKOA1T"
      },
      "outputs": [],
      "source": [
        "def reset_wandb_env():\n",
        "    exclude = {\n",
        "        \"WANDB_PROJECT\",\n",
        "        \"WANDB_ENTITY\",\n",
        "        \"WANDB_API_KEY\",\n",
        "    }\n",
        "    for key in os.environ.keys():\n",
        "        if key.startswith(\"WANDB_\") and key not in exclude:\n",
        "            del os.environ[key]\n",
        "\n",
        "def cross_validate(config=None):\n",
        "\n",
        "    sweep_run = wandb.init(config=config, project=\"dip-project\") # Inicio el sweep\n",
        "    sweep_id = sweep_run.sweep_id or \"unknown\" # Agarro el id del sweep\n",
        "    sweep_url = sweep_run.get_sweep_url() # Agarro el url del sweep\n",
        "    project_url = sweep_run.get_project_url() # Agarro la url del proyecto del sweep\n",
        "    sweep_group_url = f'{project_url}/groups/{sweep_id}' # Armo un string con la url del\n",
        "    # proyecto y el id del sweep, para poder agrupar supongo\n",
        "    sweep_run.notes = sweep_group_url # Asigno en las notas del sweep la ruta que acabe\n",
        "    # de crear\n",
        "    sweep_run.save() # Guardo el sweep con las rutas y esas cosas hechas anteriormente\n",
        "    sweep_run_name = sweep_run.name or sweep_run.id or \"unknown_2\" # Armo el string con el\n",
        "    # nombre del run del sweep\n",
        "    sweep_run_id = sweep_run.id # Consigo el id del run del sweep\n",
        "    sweep_run.finish() # Puaso el sweep\n",
        "    wandb.sdk.wandb_setup._setup(_reset=True) #  resets the settings which are set during the\n",
        "    # sweep run initialization. This is crucial and acts as a workaround because it resets the\n",
        "    # settings which causes the new run in a sweep to use the same run ID and settings upon it's initialization.\n",
        "\n",
        "    # Diccionario para guardar las métricas de cada run\n",
        "    metrics = {\n",
        "        \"test_accuracy\": [],\n",
        "        \"test_recall\": [],\n",
        "        \"test_precision\": [],\n",
        "        \"test_f1_score\": []\n",
        "    }\n",
        "\n",
        "    for fold in range(1, 8):\n",
        "\n",
        "        reset_wandb_env() # Reinicio las variables de entorno en cada run\n",
        "\n",
        "        # Entreno y valido cada run pasandole el sweep y la config\n",
        "        test_accuracy, test_f1, test_recall, test_precision = model_pipeline(\n",
        "            sweep_id=sweep_id, num=fold,\n",
        "            sweep_run_name=sweep_run_name,\n",
        "            hyperparameters=dict(sweep_run.config)\n",
        "        )\n",
        "\n",
        "        # Agrego las métricas del run actual\n",
        "        metrics[\"test_accuracy\"].append(test_accuracy.cpu())\n",
        "        metrics[\"test_recall\"].append(test_f1.cpu())\n",
        "        metrics[\"test_precision\"].append(test_recall.cpu())\n",
        "        metrics[\"test_f1_score\"].append(test_precision.cpu())\n",
        "\n",
        "    # resume the sweep run\n",
        "    sweep_run = wandb.init(id=sweep_run_id, resume=\"must\")\n",
        "\n",
        "    # Log metrics to sweep run\n",
        "    for metric, values in metrics.items():\n",
        "        avg_value = np.mean(values)\n",
        "        std_value = np.std(values)\n",
        "        # Average of each metric over all the folds in an experiment\n",
        "        sweep_run.log({f\"{metric}_mean\": avg_value, f\"{metric}_std\": std_value})\n",
        "        print(f'{metric.capitalize()}:')\n",
        "        print(f'  Average: {avg_value:.2f}% (+/- {std_value:.2f}%)')\n",
        "        for fold, value in enumerate(values):\n",
        "            sweep_run.log({\n",
        "                f'fold_{metric}': value,\n",
        "                'fold': fold+1\n",
        "            })\n",
        "\n",
        "    sweep_run.finish()"
      ]
    },
    {
      "cell_type": "code",
      "source": [
        "sweep_id = wandb.sweep(sweep_config, project='ai1-project')\n",
        "wandb.agent(sweep_id, function=cross_validate, count=40)\n",
        "\n",
        "wandb.finish()"
      ],
      "metadata": {
        "id": "DSIwSP_LWXRJ"
      },
      "execution_count": null,
      "outputs": []
    },
    {
      "cell_type": "markdown",
      "source": [
        "#### ONE RUN"
      ],
      "metadata": {
        "id": "Fq7FLnAKUvMZ"
      }
    },
    {
      "cell_type": "code",
      "source": [
        "def model_pipeline(hyperparameters=None):\n",
        "\n",
        "    # tell wandb to get started\n",
        "    with wandb.init(project=\"ai1-project\", config=hyperparameters):\n",
        "        # access all HPs through wandb.config, so logging matches execution!\n",
        "        config = wandb.config\n",
        "\n",
        "        # make the model, data, loss, metrics and optimization problem\n",
        "        model, train_loader, test_loader, criterion, optimizer, accuracy_fn, f1_score_fn, recall_fn, precision_fn, epochs = make(config=config)\n",
        "        # print(model)\n",
        "\n",
        "        # and use them to train the model\n",
        "        train(model, train_loader, criterion, optimizer, accuracy_fn, epochs)\n",
        "\n",
        "        # get metrics of the model\n",
        "        test(model, test_loader, accuracy_fn, f1_score_fn, recall_fn, precision_fn)\n",
        "\n",
        "    return model"
      ],
      "metadata": {
        "id": "TVaGS5kKUY1c"
      },
      "execution_count": 85,
      "outputs": []
    },
    {
      "cell_type": "code",
      "execution_count": 86,
      "metadata": {
        "colab": {
          "base_uri": "https://localhost:8080/",
          "height": 1000,
          "referenced_widgets": [
            "91e029d021794e2797ed4643b4f345d5",
            "87f4092147124397a8a50251f424f98d",
            "e85003e69a984a789b4c0bb50a90bb8e",
            "808d078841e44be1a525ada3f91fbef3",
            "ead4dd3955954ee4b92cee77fe7c3bc1",
            "00ef02292b1b482eb6f3ff2c831b8882",
            "08b26bceb7b44d2593a6250c1e6b9d7e",
            "eef5b215e75449ccb4d70512edf87091",
            "146f336df45d4bcbb804e7ac0dcf4947",
            "821b690c36e84af2a44cee0adeca38d5",
            "c3d01a87dfe1437f8576bd066ddb34b7",
            "3e84141d31f348da893af28ec5f3253e",
            "72ce309d8c5a463ca354bb1230c2de64",
            "52aaaded5f3e497581aa7179b00be825",
            "900d0e9cdb7d4dac9e5af543720f1dfe",
            "9281b4e92c4a45a38812277df8c5f72c"
          ]
        },
        "id": "TrpThpc_OA1U",
        "outputId": "5ba8c6b7-41c9-4a80-966f-7154d37a57ed"
      },
      "outputs": [
        {
          "output_type": "stream",
          "name": "stdout",
          "text": [
            "Create sweep with ID: rbthwtak\n",
            "Sweep URL: https://wandb.ai/aiuis/ai1-project/sweeps/rbthwtak\n"
          ]
        },
        {
          "output_type": "stream",
          "name": "stderr",
          "text": [
            "\u001b[34m\u001b[1mwandb\u001b[0m: Agent Starting Run: qhs7ubhh with config:\n",
            "\u001b[34m\u001b[1mwandb\u001b[0m: \tbatch_size: 136\n",
            "\u001b[34m\u001b[1mwandb\u001b[0m: \tdataset: Parkison\n",
            "\u001b[34m\u001b[1mwandb\u001b[0m: \tepochs: 10\n",
            "\u001b[34m\u001b[1mwandb\u001b[0m: \tlearning_rate: 0.007130302810135193\n",
            "\u001b[34m\u001b[1mwandb\u001b[0m: \u001b[33mWARNING\u001b[0m Ignored wandb.init() arg project when running a sweep.\n"
          ]
        },
        {
          "output_type": "display_data",
          "data": {
            "text/plain": [
              "<IPython.core.display.HTML object>"
            ],
            "text/html": [
              "Tracking run with wandb version 0.17.2"
            ]
          },
          "metadata": {}
        },
        {
          "output_type": "display_data",
          "data": {
            "text/plain": [
              "<IPython.core.display.HTML object>"
            ],
            "text/html": [
              "Run data is saved locally in <code>/content/data/wandb/run-20240617_230509-qhs7ubhh</code>"
            ]
          },
          "metadata": {}
        },
        {
          "output_type": "display_data",
          "data": {
            "text/plain": [
              "<IPython.core.display.HTML object>"
            ],
            "text/html": [
              "Syncing run <strong><a href='https://wandb.ai/aiuis/ai1-project/runs/qhs7ubhh' target=\"_blank\">dry-sweep-1</a></strong> to <a href='https://wandb.ai/aiuis/ai1-project' target=\"_blank\">Weights & Biases</a> (<a href='https://wandb.me/run' target=\"_blank\">docs</a>)<br/>Sweep page: <a href='https://wandb.ai/aiuis/ai1-project/sweeps/rbthwtak' target=\"_blank\">https://wandb.ai/aiuis/ai1-project/sweeps/rbthwtak</a>"
            ]
          },
          "metadata": {}
        },
        {
          "output_type": "display_data",
          "data": {
            "text/plain": [
              "<IPython.core.display.HTML object>"
            ],
            "text/html": [
              " View project at <a href='https://wandb.ai/aiuis/ai1-project' target=\"_blank\">https://wandb.ai/aiuis/ai1-project</a>"
            ]
          },
          "metadata": {}
        },
        {
          "output_type": "display_data",
          "data": {
            "text/plain": [
              "<IPython.core.display.HTML object>"
            ],
            "text/html": [
              " View sweep at <a href='https://wandb.ai/aiuis/ai1-project/sweeps/rbthwtak' target=\"_blank\">https://wandb.ai/aiuis/ai1-project/sweeps/rbthwtak</a>"
            ]
          },
          "metadata": {}
        },
        {
          "output_type": "display_data",
          "data": {
            "text/plain": [
              "<IPython.core.display.HTML object>"
            ],
            "text/html": [
              " View run at <a href='https://wandb.ai/aiuis/ai1-project/runs/qhs7ubhh' target=\"_blank\">https://wandb.ai/aiuis/ai1-project/runs/qhs7ubhh</a>"
            ]
          },
          "metadata": {}
        },
        {
          "output_type": "stream",
          "name": "stdout",
          "text": [
            "FOLD 3\n",
            "-------------------------------\n",
            "Epoch 1\n",
            "-------------------------------\n",
            "train loss: 0.699 accuracy: 0.471 [after 0 batches]\n",
            "train loss: 11.793 accuracy: 0.467 [after 1 batches]\n",
            "train loss: 12.665 accuracy: 0.485 [after 2 batches]\n",
            "train loss: 10.385 accuracy: 0.472 [after 3 batches]\n",
            "train loss: 9.298 accuracy: 0.478 [after 4 batches]\n",
            "train loss: 7.885 accuracy: 0.484 [after 5 batches]\n",
            "train loss: 6.876 accuracy: 0.489 [after 6 batches]\n",
            "Epoch 2\n",
            "-------------------------------\n",
            "train loss: 1.831 accuracy: 0.471 [after 0 batches]\n",
            "train loss: 1.347 accuracy: 0.460 [after 1 batches]\n",
            "train loss: 1.117 accuracy: 0.485 [after 2 batches]\n",
            "train loss: 0.993 accuracy: 0.551 [after 3 batches]\n",
            "train loss: 0.915 accuracy: 0.588 [after 4 batches]\n",
            "train loss: 0.860 accuracy: 0.635 [after 5 batches]\n",
            "train loss: 0.828 accuracy: 0.617 [after 6 batches]\n",
            "Epoch 3\n",
            "-------------------------------\n",
            "train loss: 0.657 accuracy: 0.529 [after 0 batches]\n",
            "train loss: 0.637 accuracy: 0.540 [after 1 batches]\n",
            "train loss: 0.605 accuracy: 0.640 [after 2 batches]\n",
            "train loss: 0.595 accuracy: 0.636 [after 3 batches]\n",
            "train loss: 0.577 accuracy: 0.688 [after 4 batches]\n",
            "train loss: 0.570 accuracy: 0.681 [after 5 batches]\n",
            "train loss: 0.564 accuracy: 0.688 [after 6 batches]\n",
            "Epoch 4\n",
            "-------------------------------\n",
            "train loss: 0.591 accuracy: 0.632 [after 0 batches]\n",
            "train loss: 0.920 accuracy: 0.522 [after 1 batches]\n",
            "train loss: 0.906 accuracy: 0.510 [after 2 batches]\n",
            "train loss: 0.816 accuracy: 0.553 [after 3 batches]\n",
            "train loss: 0.924 accuracy: 0.546 [after 4 batches]\n",
            "train loss: 0.873 accuracy: 0.549 [after 5 batches]\n",
            "train loss: 0.975 accuracy: 0.541 [after 6 batches]\n",
            "Epoch 5\n",
            "-------------------------------\n",
            "train loss: 1.017 accuracy: 0.493 [after 0 batches]\n",
            "train loss: 0.995 accuracy: 0.518 [after 1 batches]\n",
            "train loss: 1.103 accuracy: 0.515 [after 2 batches]\n",
            "train loss: 0.930 accuracy: 0.608 [after 3 batches]\n",
            "train loss: 1.000 accuracy: 0.576 [after 4 batches]\n",
            "train loss: 0.933 accuracy: 0.585 [after 5 batches]\n",
            "train loss: 0.900 accuracy: 0.574 [after 6 batches]\n",
            "Epoch 6\n",
            "-------------------------------\n",
            "train loss: 0.598 accuracy: 0.603 [after 0 batches]\n",
            "train loss: 0.476 accuracy: 0.772 [after 1 batches]\n",
            "train loss: 0.532 accuracy: 0.711 [after 2 batches]\n",
            "train loss: 0.503 accuracy: 0.737 [after 3 batches]\n",
            "train loss: 0.484 accuracy: 0.757 [after 4 batches]\n",
            "train loss: 0.484 accuracy: 0.760 [after 5 batches]\n",
            "train loss: 0.476 accuracy: 0.774 [after 6 batches]\n",
            "Epoch 7\n",
            "-------------------------------\n",
            "train loss: 0.374 accuracy: 0.860 [after 0 batches]\n",
            "train loss: 0.369 accuracy: 0.871 [after 1 batches]\n",
            "train loss: 0.365 accuracy: 0.885 [after 2 batches]\n",
            "train loss: 0.380 accuracy: 0.877 [after 3 batches]\n",
            "train loss: 0.372 accuracy: 0.887 [after 4 batches]\n",
            "train loss: 0.360 accuracy: 0.896 [after 5 batches]\n",
            "train loss: 0.351 accuracy: 0.899 [after 6 batches]\n",
            "Epoch 8\n",
            "-------------------------------\n",
            "train loss: 0.362 accuracy: 0.846 [after 0 batches]\n",
            "train loss: 0.330 accuracy: 0.868 [after 1 batches]\n",
            "train loss: 0.314 accuracy: 0.887 [after 2 batches]\n",
            "train loss: 0.314 accuracy: 0.895 [after 3 batches]\n",
            "train loss: 0.306 accuracy: 0.904 [after 4 batches]\n",
            "train loss: 0.309 accuracy: 0.898 [after 5 batches]\n",
            "train loss: 0.319 accuracy: 0.885 [after 6 batches]\n",
            "Epoch 9\n",
            "-------------------------------\n",
            "train loss: 0.324 accuracy: 0.875 [after 0 batches]\n",
            "train loss: 0.297 accuracy: 0.879 [after 1 batches]\n",
            "train loss: 0.283 accuracy: 0.892 [after 2 batches]\n",
            "train loss: 0.285 accuracy: 0.888 [after 3 batches]\n",
            "train loss: 0.300 accuracy: 0.876 [after 4 batches]\n",
            "train loss: 0.292 accuracy: 0.880 [after 5 batches]\n",
            "train loss: 0.288 accuracy: 0.875 [after 6 batches]\n",
            "Epoch 10\n",
            "-------------------------------\n",
            "train loss: 0.278 accuracy: 0.860 [after 0 batches]\n",
            "train loss: 0.234 accuracy: 0.915 [after 1 batches]\n",
            "train loss: 0.245 accuracy: 0.897 [after 2 batches]\n",
            "train loss: 0.259 accuracy: 0.893 [after 3 batches]\n",
            "train loss: 0.250 accuracy: 0.904 [after 4 batches]\n",
            "train loss: 0.247 accuracy: 0.908 [after 5 batches]\n",
            "train loss: 0.240 accuracy: 0.918 [after 6 batches]\n",
            "test accuracy: 0.349 recall: 0.069 precision: 0.236 f1: 0.107 [after 2 batches]\n"
          ]
        },
        {
          "output_type": "display_data",
          "data": {
            "text/plain": [
              "VBox(children=(Label(value='0.001 MB of 0.001 MB uploaded\\r'), FloatProgress(value=1.0, max=1.0)))"
            ],
            "application/vnd.jupyter.widget-view+json": {
              "version_major": 2,
              "version_minor": 0,
              "model_id": "91e029d021794e2797ed4643b4f345d5"
            }
          },
          "metadata": {}
        },
        {
          "output_type": "display_data",
          "data": {
            "text/plain": [
              "<IPython.core.display.HTML object>"
            ],
            "text/html": [
              "<style>\n",
              "    table.wandb td:nth-child(1) { padding: 0 10px; text-align: left ; width: auto;} td:nth-child(2) {text-align: left ; width: 100%}\n",
              "    .wandb-row { display: flex; flex-direction: row; flex-wrap: wrap; justify-content: flex-start; width: 100% }\n",
              "    .wandb-col { display: flex; flex-direction: column; flex-basis: 100%; flex: 1; padding: 10px; }\n",
              "    </style>\n",
              "<div class=\"wandb-row\"><div class=\"wandb-col\"><h3>Run history:</h3><br/><table class=\"wandb\"><tr><td>step</td><td>▁▁▁▂▂▂▂▂▂▃▃▃▃▃▃▄▄▄▄▄▅▅▅▅▅▅▆▆▆▆▆▆▇▇▇▇▇███</td></tr><tr><td>test_accuracy</td><td>▁</td></tr><tr><td>test_f1</td><td>▁</td></tr><tr><td>test_precision</td><td>▁</td></tr><tr><td>test_recall</td><td>▁</td></tr><tr><td>train_accuracy</td><td>▁▁▁▁▁▁▂▄▂▂▄▄▄▂▂▂▂▂▃▃▃▅▅▆▇▇██▇███▇█▇▇▇███</td></tr><tr><td>train_loss</td><td>▁█▇▆▂▂▁▁▁▁▁▁▁▁▁▁▁▂▁▁▁▁▁▁▁▁▁▁▁▁▁▁▁▁▁▁▁▁▁▁</td></tr></table><br/></div><div class=\"wandb-col\"><h3>Run summary:</h3><br/><table class=\"wandb\"><tr><td>step</td><td>69</td></tr><tr><td>test_accuracy</td><td>0.34926</td></tr><tr><td>test_f1</td><td>0.10702</td></tr><tr><td>test_precision</td><td>0.23611</td></tr><tr><td>test_recall</td><td>0.06923</td></tr><tr><td>train_accuracy</td><td>0.91762</td></tr><tr><td>train_loss</td><td>0.24046</td></tr></table><br/></div></div>"
            ]
          },
          "metadata": {}
        },
        {
          "output_type": "display_data",
          "data": {
            "text/plain": [
              "<IPython.core.display.HTML object>"
            ],
            "text/html": [
              " View run <strong style=\"color:#cdcd00\">dry-sweep-1</strong> at: <a href='https://wandb.ai/aiuis/ai1-project/runs/qhs7ubhh' target=\"_blank\">https://wandb.ai/aiuis/ai1-project/runs/qhs7ubhh</a><br/> View project at: <a href='https://wandb.ai/aiuis/ai1-project' target=\"_blank\">https://wandb.ai/aiuis/ai1-project</a><br/>Synced 5 W&B file(s), 0 media file(s), 0 artifact file(s) and 0 other file(s)"
            ]
          },
          "metadata": {}
        },
        {
          "output_type": "display_data",
          "data": {
            "text/plain": [
              "<IPython.core.display.HTML object>"
            ],
            "text/html": [
              "Find logs at: <code>./wandb/run-20240617_230509-qhs7ubhh/logs</code>"
            ]
          },
          "metadata": {}
        },
        {
          "output_type": "display_data",
          "data": {
            "text/plain": [
              "<IPython.core.display.HTML object>"
            ],
            "text/html": [
              "The new W&B backend becomes opt-out in version 0.18.0; try it out with `wandb.require(\"core\")`! See https://wandb.me/wandb-core for more information."
            ]
          },
          "metadata": {}
        },
        {
          "output_type": "stream",
          "name": "stderr",
          "text": [
            "\u001b[34m\u001b[1mwandb\u001b[0m: Agent Starting Run: leifp30q with config:\n",
            "\u001b[34m\u001b[1mwandb\u001b[0m: \tbatch_size: 160\n",
            "\u001b[34m\u001b[1mwandb\u001b[0m: \tdataset: Parkison\n",
            "\u001b[34m\u001b[1mwandb\u001b[0m: \tepochs: 10\n",
            "\u001b[34m\u001b[1mwandb\u001b[0m: \tlearning_rate: 0.06645368597535341\n",
            "\u001b[34m\u001b[1mwandb\u001b[0m: \u001b[33mWARNING\u001b[0m Ignored wandb.init() arg project when running a sweep.\n"
          ]
        },
        {
          "output_type": "display_data",
          "data": {
            "text/plain": [
              "<IPython.core.display.HTML object>"
            ],
            "text/html": [
              "Tracking run with wandb version 0.17.2"
            ]
          },
          "metadata": {}
        },
        {
          "output_type": "display_data",
          "data": {
            "text/plain": [
              "<IPython.core.display.HTML object>"
            ],
            "text/html": [
              "Run data is saved locally in <code>/content/data/wandb/run-20240617_231005-leifp30q</code>"
            ]
          },
          "metadata": {}
        },
        {
          "output_type": "display_data",
          "data": {
            "text/plain": [
              "<IPython.core.display.HTML object>"
            ],
            "text/html": [
              "Syncing run <strong><a href='https://wandb.ai/aiuis/ai1-project/runs/leifp30q' target=\"_blank\">playful-sweep-2</a></strong> to <a href='https://wandb.ai/aiuis/ai1-project' target=\"_blank\">Weights & Biases</a> (<a href='https://wandb.me/run' target=\"_blank\">docs</a>)<br/>Sweep page: <a href='https://wandb.ai/aiuis/ai1-project/sweeps/rbthwtak' target=\"_blank\">https://wandb.ai/aiuis/ai1-project/sweeps/rbthwtak</a>"
            ]
          },
          "metadata": {}
        },
        {
          "output_type": "display_data",
          "data": {
            "text/plain": [
              "<IPython.core.display.HTML object>"
            ],
            "text/html": [
              " View project at <a href='https://wandb.ai/aiuis/ai1-project' target=\"_blank\">https://wandb.ai/aiuis/ai1-project</a>"
            ]
          },
          "metadata": {}
        },
        {
          "output_type": "display_data",
          "data": {
            "text/plain": [
              "<IPython.core.display.HTML object>"
            ],
            "text/html": [
              " View sweep at <a href='https://wandb.ai/aiuis/ai1-project/sweeps/rbthwtak' target=\"_blank\">https://wandb.ai/aiuis/ai1-project/sweeps/rbthwtak</a>"
            ]
          },
          "metadata": {}
        },
        {
          "output_type": "display_data",
          "data": {
            "text/plain": [
              "<IPython.core.display.HTML object>"
            ],
            "text/html": [
              " View run at <a href='https://wandb.ai/aiuis/ai1-project/runs/leifp30q' target=\"_blank\">https://wandb.ai/aiuis/ai1-project/runs/leifp30q</a>"
            ]
          },
          "metadata": {}
        },
        {
          "output_type": "stream",
          "name": "stdout",
          "text": [
            "FOLD 1\n",
            "-------------------------------\n",
            "Epoch 1\n",
            "-------------------------------\n",
            "train loss: 0.709 accuracy: 0.394 [after 0 batches]\n",
            "train loss: 492.030 accuracy: 0.466 [after 1 batches]\n",
            "train loss: 396.086 accuracy: 0.463 [after 2 batches]\n",
            "train loss: 422.225 accuracy: 0.473 [after 3 batches]\n",
            "train loss: 354.424 accuracy: 0.476 [after 4 batches]\n",
            "train loss: 353.882 accuracy: 0.459 [after 5 batches]\n",
            "Epoch 2\n",
            "-------------------------------\n",
            "train loss: 153.133 accuracy: 0.450 [after 0 batches]\n",
            "train loss: 82.356 accuracy: 0.487 [after 1 batches]\n",
            "train loss: 57.406 accuracy: 0.504 [after 2 batches]\n",
            "train loss: 75.765 accuracy: 0.511 [after 3 batches]\n",
            "train loss: 83.734 accuracy: 0.514 [after 4 batches]\n",
            "train loss: 78.129 accuracy: 0.522 [after 5 batches]\n",
            "Epoch 3\n",
            "-------------------------------\n",
            "train loss: 1.532 accuracy: 0.500 [after 0 batches]\n",
            "train loss: 20.278 accuracy: 0.494 [after 1 batches]\n",
            "train loss: 18.781 accuracy: 0.504 [after 2 batches]\n",
            "train loss: 20.660 accuracy: 0.498 [after 3 batches]\n",
            "train loss: 16.764 accuracy: 0.493 [after 4 batches]\n",
            "train loss: 14.114 accuracy: 0.498 [after 5 batches]\n",
            "Epoch 4\n",
            "-------------------------------\n",
            "train loss: 0.709 accuracy: 0.544 [after 0 batches]\n",
            "train loss: 1.347 accuracy: 0.512 [after 1 batches]\n",
            "train loss: 1.150 accuracy: 0.512 [after 2 batches]\n",
            "train loss: 1.040 accuracy: 0.495 [after 3 batches]\n",
            "train loss: 0.975 accuracy: 0.484 [after 4 batches]\n",
            "train loss: 0.925 accuracy: 0.503 [after 5 batches]\n",
            "Epoch 5\n",
            "-------------------------------\n",
            "train loss: 0.692 accuracy: 0.531 [after 0 batches]\n",
            "train loss: 0.750 accuracy: 0.531 [after 1 batches]\n",
            "train loss: 0.734 accuracy: 0.510 [after 2 batches]\n",
            "train loss: 0.727 accuracy: 0.498 [after 3 batches]\n",
            "train loss: 0.721 accuracy: 0.499 [after 4 batches]\n",
            "train loss: 0.716 accuracy: 0.501 [after 5 batches]\n",
            "Epoch 6\n",
            "-------------------------------\n",
            "train loss: 0.690 accuracy: 0.538 [after 0 batches]\n",
            "train loss: 0.692 accuracy: 0.525 [after 1 batches]\n"
          ]
        },
        {
          "output_type": "stream",
          "name": "stderr",
          "text": [
            "\u001b[34m\u001b[1mwandb\u001b[0m: Ctrl + C detected. Stopping sweep.\n",
            "Traceback (most recent call last):\n",
            "  File \"/usr/local/lib/python3.10/dist-packages/torch/utils/data/dataloader.py\", line 1133, in _try_get_data\n",
            "    data = self._data_queue.get(timeout=timeout)\n",
            "  File \"/usr/lib/python3.10/queue.py\", line 179, in get\n",
            "    raise Empty\n",
            "_queue.Empty\n",
            "\n",
            "The above exception was the direct cause of the following exception:\n",
            "\n",
            "Traceback (most recent call last):\n",
            "  File \"<ipython-input-85-492f778f512d>\", line 13, in model_pipeline\n",
            "    train(model, train_loader, criterion, optimizer, accuracy_fn, epochs)\n",
            "  File \"<ipython-input-82-218f2633725d>\", line 12, in train\n",
            "    for batch, data in enumerate(train_loader):\n",
            "  File \"/usr/local/lib/python3.10/dist-packages/torch/utils/data/dataloader.py\", line 631, in __next__\n",
            "    data = self._next_data()\n",
            "  File \"/usr/local/lib/python3.10/dist-packages/torch/utils/data/dataloader.py\", line 1329, in _next_data\n",
            "    idx, data = self._get_data()\n",
            "  File \"/usr/local/lib/python3.10/dist-packages/torch/utils/data/dataloader.py\", line 1285, in _get_data\n",
            "    success, data = self._try_get_data()\n",
            "  File \"/usr/local/lib/python3.10/dist-packages/torch/utils/data/dataloader.py\", line 1146, in _try_get_data\n",
            "    raise RuntimeError(f'DataLoader worker (pid(s) {pids_str}) exited unexpectedly') from e\n",
            "RuntimeError: DataLoader worker (pid(s) 20034, 20035) exited unexpectedly\n",
            "Exception in thread Thread-143 (_run_job):\n",
            "Traceback (most recent call last):\n",
            "  File \"/usr/local/lib/python3.10/dist-packages/torch/utils/data/dataloader.py\", line 1133, in _try_get_data\n",
            "    data = self._data_queue.get(timeout=timeout)\n",
            "  File \"/usr/lib/python3.10/queue.py\", line 179, in get\n",
            "    raise Empty\n",
            "_queue.Empty\n",
            "\n",
            "The above exception was the direct cause of the following exception:\n",
            "\n",
            "Traceback (most recent call last):\n",
            "  File \"<ipython-input-85-492f778f512d>\", line 13, in model_pipeline\n",
            "  File \"<ipython-input-82-218f2633725d>\", line 12, in train\n",
            "  File \"/usr/local/lib/python3.10/dist-packages/torch/utils/data/dataloader.py\", line 631, in __next__\n",
            "    data = self._next_data()\n",
            "  File \"/usr/local/lib/python3.10/dist-packages/torch/utils/data/dataloader.py\", line 1329, in _next_data\n",
            "    idx, data = self._get_data()\n",
            "  File \"/usr/local/lib/python3.10/dist-packages/torch/utils/data/dataloader.py\", line 1285, in _get_data\n",
            "    success, data = self._try_get_data()\n",
            "  File \"/usr/local/lib/python3.10/dist-packages/torch/utils/data/dataloader.py\", line 1146, in _try_get_data\n",
            "    raise RuntimeError(f'DataLoader worker (pid(s) {pids_str}) exited unexpectedly') from e\n",
            "RuntimeError: DataLoader worker (pid(s) 20034, 20035) exited unexpectedly\n",
            "\n",
            "During handling of the above exception, another exception occurred:\n",
            "\n",
            "Traceback (most recent call last):\n",
            "  File \"/usr/local/lib/python3.10/dist-packages/wandb/agents/pyagent.py\", line 307, in _run_job\n",
            "    self._function()\n",
            "  File \"<ipython-input-85-492f778f512d>\", line 4, in model_pipeline\n",
            "  File \"/usr/local/lib/python3.10/dist-packages/wandb/sdk/wandb_run.py\", line 3523, in __exit__\n",
            "    self._finish(exit_code=exit_code)\n",
            "  File \"/usr/local/lib/python3.10/dist-packages/wandb/sdk/wandb_run.py\", line 2113, in _finish\n",
            "    hook.call()\n",
            "  File \"/usr/local/lib/python3.10/dist-packages/wandb/sdk/wandb_init.py\", line 456, in _jupyter_teardown\n",
            "    ipython.display_pub.publish = ipython.display_pub._orig_publish\n",
            "AttributeError: 'ZMQDisplayPublisher' object has no attribute '_orig_publish'\n",
            "\n",
            "During handling of the above exception, another exception occurred:\n",
            "\n",
            "Traceback (most recent call last):\n",
            "  File \"/usr/lib/python3.10/threading.py\", line 1016, in _bootstrap_inner\n",
            "    self.run()\n",
            "  File \"/usr/lib/python3.10/threading.py\", line 953, in run\n",
            "    self._target(*self._args, **self._kwargs)\n",
            "  File \"/usr/local/lib/python3.10/dist-packages/wandb/agents/pyagent.py\", line 312, in _run_job\n",
            "    wandb.finish(exit_code=1)\n",
            "  File \"/usr/local/lib/python3.10/dist-packages/wandb/sdk/wandb_run.py\", line 4259, in finish\n",
            "    wandb.run.finish(exit_code=exit_code, quiet=quiet)\n",
            "  File \"/usr/local/lib/python3.10/dist-packages/wandb/sdk/wandb_run.py\", line 449, in wrapper\n",
            "    return func(self, *args, **kwargs)\n",
            "  File \"/usr/local/lib/python3.10/dist-packages/wandb/sdk/wandb_run.py\", line 390, in wrapper\n",
            "    return func(self, *args, **kwargs)\n",
            "  File \"/usr/local/lib/python3.10/dist-packages/wandb/sdk/wandb_run.py\", line 2100, in finish\n",
            "    return self._finish(exit_code, quiet)\n",
            "  File \"/usr/local/lib/python3.10/dist-packages/wandb/sdk/wandb_run.py\", line 2113, in _finish\n",
            "    hook.call()\n",
            "  File \"/usr/local/lib/python3.10/dist-packages/wandb/sdk/wandb_init.py\", line 456, in _jupyter_teardown\n",
            "    ipython.display_pub.publish = ipython.display_pub._orig_publish\n",
            "AttributeError: 'ZMQDisplayPublisher' object has no attribute '_orig_publish'\n"
          ]
        },
        {
          "output_type": "display_data",
          "data": {
            "text/plain": [
              "VBox(children=(Label(value='0.001 MB of 0.001 MB uploaded\\r'), FloatProgress(value=1.0, max=1.0)))"
            ],
            "application/vnd.jupyter.widget-view+json": {
              "version_major": 2,
              "version_minor": 0,
              "model_id": "146f336df45d4bcbb804e7ac0dcf4947"
            }
          },
          "metadata": {}
        },
        {
          "output_type": "display_data",
          "data": {
            "text/plain": [
              "<IPython.core.display.HTML object>"
            ],
            "text/html": [
              "<style>\n",
              "    table.wandb td:nth-child(1) { padding: 0 10px; text-align: left ; width: auto;} td:nth-child(2) {text-align: left ; width: 100%}\n",
              "    .wandb-row { display: flex; flex-direction: row; flex-wrap: wrap; justify-content: flex-start; width: 100% }\n",
              "    .wandb-col { display: flex; flex-direction: column; flex-basis: 100%; flex: 1; padding: 10px; }\n",
              "    </style>\n",
              "<div class=\"wandb-row\"><div class=\"wandb-col\"><h3>Run history:</h3><br/><table class=\"wandb\"><tr><td>step</td><td>▁▁▁▂▂▂▂▃▃▃▃▃▄▄▄▄▅▅▅▅▆▆▆▆▆▇▇▇▇███</td></tr><tr><td>train_accuracy</td><td>▁▄▄▅▅▄▄▅▆▆▇▇▆▆▆▆▆▆█▇▇▆▅▆▇▇▆▆▆▆█▇</td></tr><tr><td>train_loss</td><td>▁█▇▇▆▆▃▂▂▂▂▂▁▁▁▁▁▁▁▁▁▁▁▁▁▁▁▁▁▁▁▁</td></tr></table><br/></div><div class=\"wandb-col\"><h3>Run summary:</h3><br/><table class=\"wandb\"><tr><td>step</td><td>31</td></tr><tr><td>train_accuracy</td><td>0.525</td></tr><tr><td>train_loss</td><td>0.69222</td></tr></table><br/></div></div>"
            ]
          },
          "metadata": {}
        },
        {
          "output_type": "display_data",
          "data": {
            "text/plain": [
              "<IPython.core.display.HTML object>"
            ],
            "text/html": [
              " View run <strong style=\"color:#cdcd00\">playful-sweep-2</strong> at: <a href='https://wandb.ai/aiuis/ai1-project/runs/leifp30q' target=\"_blank\">https://wandb.ai/aiuis/ai1-project/runs/leifp30q</a><br/> View project at: <a href='https://wandb.ai/aiuis/ai1-project' target=\"_blank\">https://wandb.ai/aiuis/ai1-project</a><br/>Synced 5 W&B file(s), 0 media file(s), 0 artifact file(s) and 0 other file(s)"
            ]
          },
          "metadata": {}
        },
        {
          "output_type": "display_data",
          "data": {
            "text/plain": [
              "<IPython.core.display.HTML object>"
            ],
            "text/html": [
              "Find logs at: <code>./wandb/run-20240617_231005-leifp30q/logs</code>"
            ]
          },
          "metadata": {}
        },
        {
          "output_type": "display_data",
          "data": {
            "text/plain": [
              "<IPython.core.display.HTML object>"
            ],
            "text/html": [
              "The new W&B backend becomes opt-out in version 0.18.0; try it out with `wandb.require(\"core\")`! See https://wandb.me/wandb-core for more information."
            ]
          },
          "metadata": {}
        }
      ],
      "source": [
        "sweep_id = wandb.sweep(sweep_config, project='ai1-project')\n",
        "wandb.agent(sweep_id, function=model_pipeline, count=40)\n",
        "\n",
        "wandb.finish()"
      ]
    }
  ],
  "metadata": {
    "accelerator": "GPU",
    "colab": {
      "gpuType": "T4",
      "provenance": []
    },
    "kernelspec": {
      "display_name": "Python 3",
      "name": "python3"
    },
    "language_info": {
      "codemirror_mode": {
        "name": "ipython",
        "version": 3
      },
      "file_extension": ".py",
      "mimetype": "text/x-python",
      "name": "python",
      "nbconvert_exporter": "python",
      "pygments_lexer": "ipython3",
      "version": "3.10.12"
    },
    "widgets": {
      "application/vnd.jupyter.widget-state+json": {
        "91e029d021794e2797ed4643b4f345d5": {
          "model_module": "@jupyter-widgets/controls",
          "model_name": "VBoxModel",
          "model_module_version": "1.5.0",
          "state": {
            "_dom_classes": [],
            "_model_module": "@jupyter-widgets/controls",
            "_model_module_version": "1.5.0",
            "_model_name": "VBoxModel",
            "_view_count": null,
            "_view_module": "@jupyter-widgets/controls",
            "_view_module_version": "1.5.0",
            "_view_name": "VBoxView",
            "box_style": "",
            "children": [
              "IPY_MODEL_87f4092147124397a8a50251f424f98d",
              "IPY_MODEL_e85003e69a984a789b4c0bb50a90bb8e"
            ],
            "layout": "IPY_MODEL_808d078841e44be1a525ada3f91fbef3"
          }
        },
        "87f4092147124397a8a50251f424f98d": {
          "model_module": "@jupyter-widgets/controls",
          "model_name": "LabelModel",
          "model_module_version": "1.5.0",
          "state": {
            "_dom_classes": [],
            "_model_module": "@jupyter-widgets/controls",
            "_model_module_version": "1.5.0",
            "_model_name": "LabelModel",
            "_view_count": null,
            "_view_module": "@jupyter-widgets/controls",
            "_view_module_version": "1.5.0",
            "_view_name": "LabelView",
            "description": "",
            "description_tooltip": null,
            "layout": "IPY_MODEL_ead4dd3955954ee4b92cee77fe7c3bc1",
            "placeholder": "​",
            "style": "IPY_MODEL_00ef02292b1b482eb6f3ff2c831b8882",
            "value": "0.015 MB of 0.015 MB uploaded\r"
          }
        },
        "e85003e69a984a789b4c0bb50a90bb8e": {
          "model_module": "@jupyter-widgets/controls",
          "model_name": "FloatProgressModel",
          "model_module_version": "1.5.0",
          "state": {
            "_dom_classes": [],
            "_model_module": "@jupyter-widgets/controls",
            "_model_module_version": "1.5.0",
            "_model_name": "FloatProgressModel",
            "_view_count": null,
            "_view_module": "@jupyter-widgets/controls",
            "_view_module_version": "1.5.0",
            "_view_name": "ProgressView",
            "bar_style": "",
            "description": "",
            "description_tooltip": null,
            "layout": "IPY_MODEL_08b26bceb7b44d2593a6250c1e6b9d7e",
            "max": 1,
            "min": 0,
            "orientation": "horizontal",
            "style": "IPY_MODEL_eef5b215e75449ccb4d70512edf87091",
            "value": 1
          }
        },
        "808d078841e44be1a525ada3f91fbef3": {
          "model_module": "@jupyter-widgets/base",
          "model_name": "LayoutModel",
          "model_module_version": "1.2.0",
          "state": {
            "_model_module": "@jupyter-widgets/base",
            "_model_module_version": "1.2.0",
            "_model_name": "LayoutModel",
            "_view_count": null,
            "_view_module": "@jupyter-widgets/base",
            "_view_module_version": "1.2.0",
            "_view_name": "LayoutView",
            "align_content": null,
            "align_items": null,
            "align_self": null,
            "border": null,
            "bottom": null,
            "display": null,
            "flex": null,
            "flex_flow": null,
            "grid_area": null,
            "grid_auto_columns": null,
            "grid_auto_flow": null,
            "grid_auto_rows": null,
            "grid_column": null,
            "grid_gap": null,
            "grid_row": null,
            "grid_template_areas": null,
            "grid_template_columns": null,
            "grid_template_rows": null,
            "height": null,
            "justify_content": null,
            "justify_items": null,
            "left": null,
            "margin": null,
            "max_height": null,
            "max_width": null,
            "min_height": null,
            "min_width": null,
            "object_fit": null,
            "object_position": null,
            "order": null,
            "overflow": null,
            "overflow_x": null,
            "overflow_y": null,
            "padding": null,
            "right": null,
            "top": null,
            "visibility": null,
            "width": null
          }
        },
        "ead4dd3955954ee4b92cee77fe7c3bc1": {
          "model_module": "@jupyter-widgets/base",
          "model_name": "LayoutModel",
          "model_module_version": "1.2.0",
          "state": {
            "_model_module": "@jupyter-widgets/base",
            "_model_module_version": "1.2.0",
            "_model_name": "LayoutModel",
            "_view_count": null,
            "_view_module": "@jupyter-widgets/base",
            "_view_module_version": "1.2.0",
            "_view_name": "LayoutView",
            "align_content": null,
            "align_items": null,
            "align_self": null,
            "border": null,
            "bottom": null,
            "display": null,
            "flex": null,
            "flex_flow": null,
            "grid_area": null,
            "grid_auto_columns": null,
            "grid_auto_flow": null,
            "grid_auto_rows": null,
            "grid_column": null,
            "grid_gap": null,
            "grid_row": null,
            "grid_template_areas": null,
            "grid_template_columns": null,
            "grid_template_rows": null,
            "height": null,
            "justify_content": null,
            "justify_items": null,
            "left": null,
            "margin": null,
            "max_height": null,
            "max_width": null,
            "min_height": null,
            "min_width": null,
            "object_fit": null,
            "object_position": null,
            "order": null,
            "overflow": null,
            "overflow_x": null,
            "overflow_y": null,
            "padding": null,
            "right": null,
            "top": null,
            "visibility": null,
            "width": null
          }
        },
        "00ef02292b1b482eb6f3ff2c831b8882": {
          "model_module": "@jupyter-widgets/controls",
          "model_name": "DescriptionStyleModel",
          "model_module_version": "1.5.0",
          "state": {
            "_model_module": "@jupyter-widgets/controls",
            "_model_module_version": "1.5.0",
            "_model_name": "DescriptionStyleModel",
            "_view_count": null,
            "_view_module": "@jupyter-widgets/base",
            "_view_module_version": "1.2.0",
            "_view_name": "StyleView",
            "description_width": ""
          }
        },
        "08b26bceb7b44d2593a6250c1e6b9d7e": {
          "model_module": "@jupyter-widgets/base",
          "model_name": "LayoutModel",
          "model_module_version": "1.2.0",
          "state": {
            "_model_module": "@jupyter-widgets/base",
            "_model_module_version": "1.2.0",
            "_model_name": "LayoutModel",
            "_view_count": null,
            "_view_module": "@jupyter-widgets/base",
            "_view_module_version": "1.2.0",
            "_view_name": "LayoutView",
            "align_content": null,
            "align_items": null,
            "align_self": null,
            "border": null,
            "bottom": null,
            "display": null,
            "flex": null,
            "flex_flow": null,
            "grid_area": null,
            "grid_auto_columns": null,
            "grid_auto_flow": null,
            "grid_auto_rows": null,
            "grid_column": null,
            "grid_gap": null,
            "grid_row": null,
            "grid_template_areas": null,
            "grid_template_columns": null,
            "grid_template_rows": null,
            "height": null,
            "justify_content": null,
            "justify_items": null,
            "left": null,
            "margin": null,
            "max_height": null,
            "max_width": null,
            "min_height": null,
            "min_width": null,
            "object_fit": null,
            "object_position": null,
            "order": null,
            "overflow": null,
            "overflow_x": null,
            "overflow_y": null,
            "padding": null,
            "right": null,
            "top": null,
            "visibility": null,
            "width": null
          }
        },
        "eef5b215e75449ccb4d70512edf87091": {
          "model_module": "@jupyter-widgets/controls",
          "model_name": "ProgressStyleModel",
          "model_module_version": "1.5.0",
          "state": {
            "_model_module": "@jupyter-widgets/controls",
            "_model_module_version": "1.5.0",
            "_model_name": "ProgressStyleModel",
            "_view_count": null,
            "_view_module": "@jupyter-widgets/base",
            "_view_module_version": "1.2.0",
            "_view_name": "StyleView",
            "bar_color": null,
            "description_width": ""
          }
        },
        "146f336df45d4bcbb804e7ac0dcf4947": {
          "model_module": "@jupyter-widgets/controls",
          "model_name": "VBoxModel",
          "model_module_version": "1.5.0",
          "state": {
            "_dom_classes": [],
            "_model_module": "@jupyter-widgets/controls",
            "_model_module_version": "1.5.0",
            "_model_name": "VBoxModel",
            "_view_count": null,
            "_view_module": "@jupyter-widgets/controls",
            "_view_module_version": "1.5.0",
            "_view_name": "VBoxView",
            "box_style": "",
            "children": [
              "IPY_MODEL_821b690c36e84af2a44cee0adeca38d5",
              "IPY_MODEL_c3d01a87dfe1437f8576bd066ddb34b7"
            ],
            "layout": "IPY_MODEL_3e84141d31f348da893af28ec5f3253e"
          }
        },
        "821b690c36e84af2a44cee0adeca38d5": {
          "model_module": "@jupyter-widgets/controls",
          "model_name": "LabelModel",
          "model_module_version": "1.5.0",
          "state": {
            "_dom_classes": [],
            "_model_module": "@jupyter-widgets/controls",
            "_model_module_version": "1.5.0",
            "_model_name": "LabelModel",
            "_view_count": null,
            "_view_module": "@jupyter-widgets/controls",
            "_view_module_version": "1.5.0",
            "_view_name": "LabelView",
            "description": "",
            "description_tooltip": null,
            "layout": "IPY_MODEL_72ce309d8c5a463ca354bb1230c2de64",
            "placeholder": "​",
            "style": "IPY_MODEL_52aaaded5f3e497581aa7179b00be825",
            "value": "0.013 MB of 0.013 MB uploaded\r"
          }
        },
        "c3d01a87dfe1437f8576bd066ddb34b7": {
          "model_module": "@jupyter-widgets/controls",
          "model_name": "FloatProgressModel",
          "model_module_version": "1.5.0",
          "state": {
            "_dom_classes": [],
            "_model_module": "@jupyter-widgets/controls",
            "_model_module_version": "1.5.0",
            "_model_name": "FloatProgressModel",
            "_view_count": null,
            "_view_module": "@jupyter-widgets/controls",
            "_view_module_version": "1.5.0",
            "_view_name": "ProgressView",
            "bar_style": "",
            "description": "",
            "description_tooltip": null,
            "layout": "IPY_MODEL_900d0e9cdb7d4dac9e5af543720f1dfe",
            "max": 1,
            "min": 0,
            "orientation": "horizontal",
            "style": "IPY_MODEL_9281b4e92c4a45a38812277df8c5f72c",
            "value": 1
          }
        },
        "3e84141d31f348da893af28ec5f3253e": {
          "model_module": "@jupyter-widgets/base",
          "model_name": "LayoutModel",
          "model_module_version": "1.2.0",
          "state": {
            "_model_module": "@jupyter-widgets/base",
            "_model_module_version": "1.2.0",
            "_model_name": "LayoutModel",
            "_view_count": null,
            "_view_module": "@jupyter-widgets/base",
            "_view_module_version": "1.2.0",
            "_view_name": "LayoutView",
            "align_content": null,
            "align_items": null,
            "align_self": null,
            "border": null,
            "bottom": null,
            "display": null,
            "flex": null,
            "flex_flow": null,
            "grid_area": null,
            "grid_auto_columns": null,
            "grid_auto_flow": null,
            "grid_auto_rows": null,
            "grid_column": null,
            "grid_gap": null,
            "grid_row": null,
            "grid_template_areas": null,
            "grid_template_columns": null,
            "grid_template_rows": null,
            "height": null,
            "justify_content": null,
            "justify_items": null,
            "left": null,
            "margin": null,
            "max_height": null,
            "max_width": null,
            "min_height": null,
            "min_width": null,
            "object_fit": null,
            "object_position": null,
            "order": null,
            "overflow": null,
            "overflow_x": null,
            "overflow_y": null,
            "padding": null,
            "right": null,
            "top": null,
            "visibility": null,
            "width": null
          }
        },
        "72ce309d8c5a463ca354bb1230c2de64": {
          "model_module": "@jupyter-widgets/base",
          "model_name": "LayoutModel",
          "model_module_version": "1.2.0",
          "state": {
            "_model_module": "@jupyter-widgets/base",
            "_model_module_version": "1.2.0",
            "_model_name": "LayoutModel",
            "_view_count": null,
            "_view_module": "@jupyter-widgets/base",
            "_view_module_version": "1.2.0",
            "_view_name": "LayoutView",
            "align_content": null,
            "align_items": null,
            "align_self": null,
            "border": null,
            "bottom": null,
            "display": null,
            "flex": null,
            "flex_flow": null,
            "grid_area": null,
            "grid_auto_columns": null,
            "grid_auto_flow": null,
            "grid_auto_rows": null,
            "grid_column": null,
            "grid_gap": null,
            "grid_row": null,
            "grid_template_areas": null,
            "grid_template_columns": null,
            "grid_template_rows": null,
            "height": null,
            "justify_content": null,
            "justify_items": null,
            "left": null,
            "margin": null,
            "max_height": null,
            "max_width": null,
            "min_height": null,
            "min_width": null,
            "object_fit": null,
            "object_position": null,
            "order": null,
            "overflow": null,
            "overflow_x": null,
            "overflow_y": null,
            "padding": null,
            "right": null,
            "top": null,
            "visibility": null,
            "width": null
          }
        },
        "52aaaded5f3e497581aa7179b00be825": {
          "model_module": "@jupyter-widgets/controls",
          "model_name": "DescriptionStyleModel",
          "model_module_version": "1.5.0",
          "state": {
            "_model_module": "@jupyter-widgets/controls",
            "_model_module_version": "1.5.0",
            "_model_name": "DescriptionStyleModel",
            "_view_count": null,
            "_view_module": "@jupyter-widgets/base",
            "_view_module_version": "1.2.0",
            "_view_name": "StyleView",
            "description_width": ""
          }
        },
        "900d0e9cdb7d4dac9e5af543720f1dfe": {
          "model_module": "@jupyter-widgets/base",
          "model_name": "LayoutModel",
          "model_module_version": "1.2.0",
          "state": {
            "_model_module": "@jupyter-widgets/base",
            "_model_module_version": "1.2.0",
            "_model_name": "LayoutModel",
            "_view_count": null,
            "_view_module": "@jupyter-widgets/base",
            "_view_module_version": "1.2.0",
            "_view_name": "LayoutView",
            "align_content": null,
            "align_items": null,
            "align_self": null,
            "border": null,
            "bottom": null,
            "display": null,
            "flex": null,
            "flex_flow": null,
            "grid_area": null,
            "grid_auto_columns": null,
            "grid_auto_flow": null,
            "grid_auto_rows": null,
            "grid_column": null,
            "grid_gap": null,
            "grid_row": null,
            "grid_template_areas": null,
            "grid_template_columns": null,
            "grid_template_rows": null,
            "height": null,
            "justify_content": null,
            "justify_items": null,
            "left": null,
            "margin": null,
            "max_height": null,
            "max_width": null,
            "min_height": null,
            "min_width": null,
            "object_fit": null,
            "object_position": null,
            "order": null,
            "overflow": null,
            "overflow_x": null,
            "overflow_y": null,
            "padding": null,
            "right": null,
            "top": null,
            "visibility": null,
            "width": null
          }
        },
        "9281b4e92c4a45a38812277df8c5f72c": {
          "model_module": "@jupyter-widgets/controls",
          "model_name": "ProgressStyleModel",
          "model_module_version": "1.5.0",
          "state": {
            "_model_module": "@jupyter-widgets/controls",
            "_model_module_version": "1.5.0",
            "_model_name": "ProgressStyleModel",
            "_view_count": null,
            "_view_module": "@jupyter-widgets/base",
            "_view_module_version": "1.2.0",
            "_view_name": "StyleView",
            "bar_color": null,
            "description_width": ""
          }
        }
      }
    }
  },
  "nbformat": 4,
  "nbformat_minor": 0
}