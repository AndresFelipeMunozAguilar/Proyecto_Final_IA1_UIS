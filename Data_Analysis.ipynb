{
  "nbformat": 4,
  "nbformat_minor": 0,
  "metadata": {
    "colab": {
      "provenance": [],
      "authorship_tag": "ABX9TyOL3X2TTzAXIr6ZzgduLigG"
    },
    "kernelspec": {
      "name": "python3",
      "display_name": "Python 3"
    },
    "language_info": {
      "name": "python"
    }
  },
  "cells": [
    {
      "cell_type": "markdown",
      "source": [
        "#**1. El problema a tratar**\n",
        "El problema abordado se centra en mejorar el diagnóstico temprano de la enfermedad de Parkinson, que actualmente se basa en observaciones clínicas subjetivas. La pregunta a responder es cómo podemos utilizar técnicas de análisis de video y audio para identificar patrones distintivos en los síntomas motores, como la rigidez facial y los trastornos del habla, y así desarrollar un enfoque multimodal que permita una detección precoz y precisa de la enfermedad, mejorando la calidad de vida de los pacientes y facilitando la planificación de tratamientos oportunos.\n",
        "\n",
        "¿Qué patrones característicos de la enfermedad de Parkinson, como la rigidez facial (hipomimia) y los trastornos del habla (disartria) tienen las personas parkinsonianas para desarrollar un modelo de detección temprana y precisa de la enfermedad?"
      ],
      "metadata": {
        "id": "Gcm9QJLTYmJW"
      }
    },
    {
      "cell_type": "markdown",
      "source": [
        "#**2. Acerca del set de datos**\n",
        "\n",
        "La información recolectada por John se encuentra en [archiv CSV, carpetas, JSON, informacion]  con [n filas] y [n columnas]\n",
        "\n",
        "Cada registro tiene [n caracteristicas] y una catergoría (\"yes\" o \"no\" depediendo de si la persona tiene Parkison o es paciente de control). Las columnas son:\n",
        "\n",
        "1. \"sex\": genero (categórico: \"masculino, \"femenino\")\n",
        "2. \"age\": edad (numérica)\n",
        "..."
      ],
      "metadata": {
        "id": "mkEUN0INXmu-"
      }
    },
    {
      "cell_type": "markdown",
      "source": [
        "#3. **Lectura del dataset**"
      ],
      "metadata": {
        "id": "WFKQuT8HcsvJ"
      }
    },
    {
      "cell_type": "code",
      "source": [
        "#@title Importar librerías\n",
        "import pandas as pd\n",
        "import matplotlib.pyplot as plt\n",
        "import seaborn as sns"
      ],
      "metadata": {
        "id": "c_ueliKocqkf"
      },
      "execution_count": null,
      "outputs": []
    },
    {
      "cell_type": "code",
      "source": [
        "#@title Lectura de los datos\n",
        "import os\n",
        "from google.colab import drive\n",
        "drive.mount('/content/drive')\n",
        "\n",
        "path_data = \"\" #@param {type:\"string\"}\n",
        "path = \"/content/drive/My Drive/\" + path_data\n",
        "data = pd.read_csv(path)\n",
        "\n",
        "os.chdir(path)\n",
        "print(os.getcwd())"
      ],
      "metadata": {
        "id": "8VUjp-H1c4Fr"
      },
      "execution_count": null,
      "outputs": []
    },
    {
      "cell_type": "code",
      "source": [
        "print(data.shape)\n",
        "data.head()\n",
        "# data.describe()\n"
      ],
      "metadata": {
        "id": "IFm56dJVd4K7"
      },
      "execution_count": null,
      "outputs": []
    },
    {
      "cell_type": "markdown",
      "source": [
        "#**4. Análisis exploratorio**\n",
        "\n",
        "Se llevaran a cabo las siguientes fases:\n",
        "1. Análisis de cada variable de manera individual\n",
        "2. Análisis univariado: relación de cada variable predictora con la variable a predecir\n",
        "3. Análisis bivariado: relación de pares de pariables predictoras con la variable a predecir"
      ],
      "metadata": {
        "id": "dsh2-SFxiRlK"
      }
    },
    {
      "cell_type": "markdown",
      "source": [
        "##**4.1 Análisis de cada variable de manera individual**"
      ],
      "metadata": {
        "id": "noww056djaQj"
      }
    },
    {
      "cell_type": "code",
      "source": [
        "#@title Observar las caractreísticas de cada varibale\n",
        "\n",
        "data.info()"
      ],
      "metadata": {
        "cellView": "form",
        "id": "XnqPiFm4jiGX"
      },
      "execution_count": null,
      "outputs": []
    },
    {
      "cell_type": "markdown",
      "source": [
        "Sinceramente pienso que no podemos realizar un análisis exploratorio convencional dado que posiblemente no podamos relacionar los datos de las personas con una imagen, entonces sería:\n",
        "1. Mostrar los datos de las personas como lo hemos venido haciendo\n",
        "2. Mostra imagenes de paciente con Parkinson vs Control y realizar un análisis subjetivo (osea nosotros) de qué detalles podemos identificar entre los dos\n",
        "3. Lo mismo para la parte del audio\n",
        "\n",
        "Para hacer eso tendríamos que saber:\n",
        "\n",
        "- Separar imagenes de audios (suponiendo que no esté separado)\n",
        "- Mostrar imagenes y audios en Python"
      ],
      "metadata": {
        "id": "jCCfMblbmzko"
      }
    }
  ]
}